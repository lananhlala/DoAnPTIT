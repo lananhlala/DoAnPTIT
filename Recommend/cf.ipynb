{
 "metadata": {
  "language_info": {
   "codemirror_mode": {
    "name": "ipython",
    "version": 3
   },
   "file_extension": ".py",
   "mimetype": "text/x-python",
   "name": "python",
   "nbconvert_exporter": "python",
   "pygments_lexer": "ipython3",
   "version": "3.7.6-final"
  },
  "orig_nbformat": 2,
  "kernelspec": {
   "name": "python36864bitcc30d91a1dad45e4b3c775dc11df627a",
   "display_name": "Python 3.6.8 64-bit",
   "language": "python"
  }
 },
 "nbformat": 4,
 "nbformat_minor": 2,
 "cells": [
  {
   "cell_type": "code",
   "execution_count": 2,
   "metadata": {},
   "outputs": [],
   "source": [
    "from datetime import datetime\n",
    "import pandas as pd\n",
    "import numpy as np\n",
    "import seaborn as sns\n",
    "import os\n",
    "import random\n",
    "import matplotlib\n",
    "import matplotlib.pyplot as plt\n",
    "from scipy import sparse\n",
    "from sklearn.metrics.pairwise import cosine_similarity\n",
    "from sklearn.metrics import mean_squared_error\n",
    "\n",
    "import xgboost as xgb\n",
    "from surprise import Reader, Dataset\n",
    "from surprise import BaselineOnly\n",
    "from surprise import KNNBaseline\n",
    "from surprise import SVD\n",
    "from surprise import SVDpp\n",
    "from surprise.model_selection import GridSearchCV"
   ]
  },
  {
   "cell_type": "code",
   "execution_count": 3,
   "metadata": {},
   "outputs": [
    {
     "output_type": "execute_result",
     "data": {
      "text/plain": [
       "   product_id                                            content  customer_id  \\\n",
       "0    58441480                                                NaN      6024679   \n",
       "1    58441480                                                NaN     11333255   \n",
       "2     3071851  Sách có hình vẽ và nội dung rất đáng yêu, là m...      6292041   \n",
       "3     3071851           Sách dễ thương. Bé nhà mình rất thích :)     10905691   \n",
       "4     3071851                                     Sách dễ thương      7933673   \n",
       "\n",
       "           user_name  stars  comment_id  \n",
       "0         Nhung Phạm      5     4864338  \n",
       "1  Nguyen Nang Quang      4     4589409  \n",
       "2      Phan Thi Hoan      5     2831147  \n",
       "3            Yến Nhi      5     3477988  \n",
       "4          Ngoc Dung      5     4633043  "
      ],
      "text/html": "<div>\n<style scoped>\n    .dataframe tbody tr th:only-of-type {\n        vertical-align: middle;\n    }\n\n    .dataframe tbody tr th {\n        vertical-align: top;\n    }\n\n    .dataframe thead th {\n        text-align: right;\n    }\n</style>\n<table border=\"1\" class=\"dataframe\">\n  <thead>\n    <tr style=\"text-align: right;\">\n      <th></th>\n      <th>product_id</th>\n      <th>content</th>\n      <th>customer_id</th>\n      <th>user_name</th>\n      <th>stars</th>\n      <th>comment_id</th>\n    </tr>\n  </thead>\n  <tbody>\n    <tr>\n      <th>0</th>\n      <td>58441480</td>\n      <td>NaN</td>\n      <td>6024679</td>\n      <td>Nhung Phạm</td>\n      <td>5</td>\n      <td>4864338</td>\n    </tr>\n    <tr>\n      <th>1</th>\n      <td>58441480</td>\n      <td>NaN</td>\n      <td>11333255</td>\n      <td>Nguyen Nang Quang</td>\n      <td>4</td>\n      <td>4589409</td>\n    </tr>\n    <tr>\n      <th>2</th>\n      <td>3071851</td>\n      <td>Sách có hình vẽ và nội dung rất đáng yêu, là m...</td>\n      <td>6292041</td>\n      <td>Phan Thi Hoan</td>\n      <td>5</td>\n      <td>2831147</td>\n    </tr>\n    <tr>\n      <th>3</th>\n      <td>3071851</td>\n      <td>Sách dễ thương. Bé nhà mình rất thích :)</td>\n      <td>10905691</td>\n      <td>Yến Nhi</td>\n      <td>5</td>\n      <td>3477988</td>\n    </tr>\n    <tr>\n      <th>4</th>\n      <td>3071851</td>\n      <td>Sách dễ thương</td>\n      <td>7933673</td>\n      <td>Ngoc Dung</td>\n      <td>5</td>\n      <td>4633043</td>\n    </tr>\n  </tbody>\n</table>\n</div>"
     },
     "metadata": {},
     "execution_count": 3
    }
   ],
   "source": [
    "rating = pd.read_csv('../Data/not_spare_rating.csv')\n",
    "rating.head()"
   ]
  },
  {
   "cell_type": "code",
   "execution_count": 4,
   "metadata": {},
   "outputs": [
    {
     "output_type": "execute_result",
     "data": {
      "text/plain": [
       "   product_id                                            content  customer_id  \\\n",
       "0    58441480                                                NaN      6024679   \n",
       "1    58441480                                                NaN     11333255   \n",
       "2     3071851  Sách có hình vẽ và nội dung rất đáng yêu, là m...      6292041   \n",
       "3     3071851           Sách dễ thương. Bé nhà mình rất thích :)     10905691   \n",
       "4     3071851                                     Sách dễ thương      7933673   \n",
       "\n",
       "           user_name  stars  comment_id  id_book  id_customer  \n",
       "0         Nhung Phạm      5     4864338     5019          571  \n",
       "1  Nguyen Nang Quang      4     4589409     5019          990  \n",
       "2      Phan Thi Hoan      5     2831147     1610          607  \n",
       "3            Yến Nhi      5     3477988     1610          958  \n",
       "4          Ngoc Dung      5     4633043     1610          767  "
      ],
      "text/html": "<div>\n<style scoped>\n    .dataframe tbody tr th:only-of-type {\n        vertical-align: middle;\n    }\n\n    .dataframe tbody tr th {\n        vertical-align: top;\n    }\n\n    .dataframe thead th {\n        text-align: right;\n    }\n</style>\n<table border=\"1\" class=\"dataframe\">\n  <thead>\n    <tr style=\"text-align: right;\">\n      <th></th>\n      <th>product_id</th>\n      <th>content</th>\n      <th>customer_id</th>\n      <th>user_name</th>\n      <th>stars</th>\n      <th>comment_id</th>\n      <th>id_book</th>\n      <th>id_customer</th>\n    </tr>\n  </thead>\n  <tbody>\n    <tr>\n      <th>0</th>\n      <td>58441480</td>\n      <td>NaN</td>\n      <td>6024679</td>\n      <td>Nhung Phạm</td>\n      <td>5</td>\n      <td>4864338</td>\n      <td>5019</td>\n      <td>571</td>\n    </tr>\n    <tr>\n      <th>1</th>\n      <td>58441480</td>\n      <td>NaN</td>\n      <td>11333255</td>\n      <td>Nguyen Nang Quang</td>\n      <td>4</td>\n      <td>4589409</td>\n      <td>5019</td>\n      <td>990</td>\n    </tr>\n    <tr>\n      <th>2</th>\n      <td>3071851</td>\n      <td>Sách có hình vẽ và nội dung rất đáng yêu, là m...</td>\n      <td>6292041</td>\n      <td>Phan Thi Hoan</td>\n      <td>5</td>\n      <td>2831147</td>\n      <td>1610</td>\n      <td>607</td>\n    </tr>\n    <tr>\n      <th>3</th>\n      <td>3071851</td>\n      <td>Sách dễ thương. Bé nhà mình rất thích :)</td>\n      <td>10905691</td>\n      <td>Yến Nhi</td>\n      <td>5</td>\n      <td>3477988</td>\n      <td>1610</td>\n      <td>958</td>\n    </tr>\n    <tr>\n      <th>4</th>\n      <td>3071851</td>\n      <td>Sách dễ thương</td>\n      <td>7933673</td>\n      <td>Ngoc Dung</td>\n      <td>5</td>\n      <td>4633043</td>\n      <td>1610</td>\n      <td>767</td>\n    </tr>\n  </tbody>\n</table>\n</div>"
     },
     "metadata": {},
     "execution_count": 4
    }
   ],
   "source": [
    "product_index = np.unique(rating['product_id'])\n",
    "product_index = np.sort(product_index)\n",
    "np.where(product_index==324921)[0][0]\n",
    "customer_index = np.unique(rating['customer_id'])\n",
    "customer_index = np.sort(customer_index)\n",
    "rating['id_book'] = rating['product_id'].apply(lambda x: np.where(product_index==int(x))[0][0])\n",
    "rating['id_customer'] = rating['customer_id'].apply(lambda x: np.where(customer_index==int(x))[0][0])\n",
    "rating.head()"
   ]
  },
  {
   "cell_type": "code",
   "execution_count": 5,
   "metadata": {},
   "outputs": [
    {
     "output_type": "execute_result",
     "data": {
      "text/plain": [
       "5"
      ]
     },
     "metadata": {},
     "execution_count": 5
    }
   ],
   "source": [
    "rating.duplicated([\"product_id\",\"customer_id\", \"stars\"]).sum()"
   ]
  },
  {
   "cell_type": "code",
   "execution_count": 6,
   "metadata": {},
   "outputs": [],
   "source": [
    "rating.drop_duplicates([\"product_id\",\"customer_id\", \"stars\"], inplace=True)"
   ]
  },
  {
   "source": [
    "## Split data train test"
   ],
   "cell_type": "markdown",
   "metadata": {}
  },
  {
   "cell_type": "code",
   "execution_count": 10,
   "metadata": {},
   "outputs": [],
   "source": [
    "from sklearn.model_selection import train_test_split\n",
    "train_data, test_data = train_test_split(rating, test_size=0.2, random_state=43)\n",
    "# split_value = int(len(rating) * 0.80)\n",
    "# train_data = rating[:split_value]\n",
    "# test_data = rating[split_value:]"
   ]
  },
  {
   "source": [
    "## Analysis data"
   ],
   "cell_type": "markdown",
   "metadata": {}
  },
  {
   "cell_type": "code",
   "execution_count": 11,
   "metadata": {},
   "outputs": [
    {
     "output_type": "display_data",
     "data": {
      "text/plain": "<Figure size 864x576 with 1 Axes>",
      "image/svg+xml": "<?xml version=\"1.0\" encoding=\"utf-8\" standalone=\"no\"?>\r\n<!DOCTYPE svg PUBLIC \"-//W3C//DTD SVG 1.1//EN\"\r\n  \"http://www.w3.org/Graphics/SVG/1.1/DTD/svg11.dtd\">\r\n<!-- Created with matplotlib (https://matplotlib.org/) -->\r\n<svg height=\"517.078437pt\" version=\"1.1\" viewBox=\"0 0 778.114063 517.078437\" width=\"778.114063pt\" xmlns=\"http://www.w3.org/2000/svg\" xmlns:xlink=\"http://www.w3.org/1999/xlink\">\r\n <defs>\r\n  <style type=\"text/css\">\r\n*{stroke-linecap:butt;stroke-linejoin:round;}\r\n  </style>\r\n </defs>\r\n <g id=\"figure_1\">\r\n  <g id=\"patch_1\">\r\n   <path d=\"M 0 517.078437 \r\nL 778.114063 517.078437 \r\nL 778.114063 0 \r\nL 0 0 \r\nz\r\n\" style=\"fill:none;\"/>\r\n  </g>\r\n  <g id=\"axes_1\">\r\n   <g id=\"patch_2\">\r\n    <path d=\"M 101.314063 465.005 \r\nL 770.914062 465.005 \r\nL 770.914062 30.125 \r\nL 101.314063 30.125 \r\nz\r\n\" style=\"fill:#ffffff;\"/>\r\n   </g>\r\n   <g id=\"patch_3\">\r\n    <path clip-path=\"url(#pc45ccb8b90)\" d=\"M 114.706063 465.005 \r\nL 221.842063 465.005 \r\nL 221.842063 459.69743 \r\nL 114.706063 459.69743 \r\nz\r\n\" style=\"fill:#3274a1;\"/>\r\n   </g>\r\n   <g id=\"patch_4\">\r\n    <path clip-path=\"url(#pc45ccb8b90)\" d=\"M 248.626063 465.005 \r\nL 355.762063 465.005 \r\nL 355.762063 460.210093 \r\nL 248.626063 460.210093 \r\nz\r\n\" style=\"fill:#e1812c;\"/>\r\n   </g>\r\n   <g id=\"patch_5\">\r\n    <path clip-path=\"url(#pc45ccb8b90)\" d=\"M 382.546063 465.005 \r\nL 489.682063 465.005 \r\nL 489.682063 446.91101 \r\nL 382.546063 446.91101 \r\nz\r\n\" style=\"fill:#3a923a;\"/>\r\n   </g>\r\n   <g id=\"patch_6\">\r\n    <path clip-path=\"url(#pc45ccb8b90)\" d=\"M 516.466063 465.005 \r\nL 623.602063 465.005 \r\nL 623.602063 404.51076 \r\nL 516.466063 404.51076 \r\nz\r\n\" style=\"fill:#c03d3e;\"/>\r\n   </g>\r\n   <g id=\"patch_7\">\r\n    <path clip-path=\"url(#pc45ccb8b90)\" d=\"M 650.386063 465.005 \r\nL 757.522063 465.005 \r\nL 757.522063 50.833571 \r\nL 650.386063 50.833571 \r\nz\r\n\" style=\"fill:#9372b2;\"/>\r\n   </g>\r\n   <g id=\"matplotlib.axis_1\">\r\n    <g id=\"xtick_1\">\r\n     <g id=\"line2d_1\">\r\n      <defs>\r\n       <path d=\"M 0 0 \r\nL 0 3.5 \r\n\" id=\"m09825cc733\" style=\"stroke:#000000;stroke-width:0.8;\"/>\r\n      </defs>\r\n      <g>\r\n       <use style=\"stroke:#000000;stroke-width:0.8;\" x=\"168.274063\" xlink:href=\"#m09825cc733\" y=\"465.005\"/>\r\n      </g>\r\n     </g>\r\n     <g id=\"text_1\">\r\n      <!-- 1 -->\r\n      <defs>\r\n       <path d=\"M 12.40625 8.296875 \r\nL 28.515625 8.296875 \r\nL 28.515625 63.921875 \r\nL 10.984375 60.40625 \r\nL 10.984375 69.390625 \r\nL 28.421875 72.90625 \r\nL 38.28125 72.90625 \r\nL 38.28125 8.296875 \r\nL 54.390625 8.296875 \r\nL 54.390625 0 \r\nL 12.40625 0 \r\nz\r\n\" id=\"DejaVuSans-49\"/>\r\n      </defs>\r\n      <g transform=\"translate(163.502188 483.402656)scale(0.15 -0.15)\">\r\n       <use xlink:href=\"#DejaVuSans-49\"/>\r\n      </g>\r\n     </g>\r\n    </g>\r\n    <g id=\"xtick_2\">\r\n     <g id=\"line2d_2\">\r\n      <g>\r\n       <use style=\"stroke:#000000;stroke-width:0.8;\" x=\"302.194063\" xlink:href=\"#m09825cc733\" y=\"465.005\"/>\r\n      </g>\r\n     </g>\r\n     <g id=\"text_2\">\r\n      <!-- 2 -->\r\n      <defs>\r\n       <path d=\"M 19.1875 8.296875 \r\nL 53.609375 8.296875 \r\nL 53.609375 0 \r\nL 7.328125 0 \r\nL 7.328125 8.296875 \r\nQ 12.9375 14.109375 22.625 23.890625 \r\nQ 32.328125 33.6875 34.8125 36.53125 \r\nQ 39.546875 41.84375 41.421875 45.53125 \r\nQ 43.3125 49.21875 43.3125 52.78125 \r\nQ 43.3125 58.59375 39.234375 62.25 \r\nQ 35.15625 65.921875 28.609375 65.921875 \r\nQ 23.96875 65.921875 18.8125 64.3125 \r\nQ 13.671875 62.703125 7.8125 59.421875 \r\nL 7.8125 69.390625 \r\nQ 13.765625 71.78125 18.9375 73 \r\nQ 24.125 74.21875 28.421875 74.21875 \r\nQ 39.75 74.21875 46.484375 68.546875 \r\nQ 53.21875 62.890625 53.21875 53.421875 \r\nQ 53.21875 48.921875 51.53125 44.890625 \r\nQ 49.859375 40.875 45.40625 35.40625 \r\nQ 44.1875 33.984375 37.640625 27.21875 \r\nQ 31.109375 20.453125 19.1875 8.296875 \r\nz\r\n\" id=\"DejaVuSans-50\"/>\r\n      </defs>\r\n      <g transform=\"translate(297.422188 483.402656)scale(0.15 -0.15)\">\r\n       <use xlink:href=\"#DejaVuSans-50\"/>\r\n      </g>\r\n     </g>\r\n    </g>\r\n    <g id=\"xtick_3\">\r\n     <g id=\"line2d_3\">\r\n      <g>\r\n       <use style=\"stroke:#000000;stroke-width:0.8;\" x=\"436.114063\" xlink:href=\"#m09825cc733\" y=\"465.005\"/>\r\n      </g>\r\n     </g>\r\n     <g id=\"text_3\">\r\n      <!-- 3 -->\r\n      <defs>\r\n       <path d=\"M 40.578125 39.3125 \r\nQ 47.65625 37.796875 51.625 33 \r\nQ 55.609375 28.21875 55.609375 21.1875 \r\nQ 55.609375 10.40625 48.1875 4.484375 \r\nQ 40.765625 -1.421875 27.09375 -1.421875 \r\nQ 22.515625 -1.421875 17.65625 -0.515625 \r\nQ 12.796875 0.390625 7.625 2.203125 \r\nL 7.625 11.71875 \r\nQ 11.71875 9.328125 16.59375 8.109375 \r\nQ 21.484375 6.890625 26.8125 6.890625 \r\nQ 36.078125 6.890625 40.9375 10.546875 \r\nQ 45.796875 14.203125 45.796875 21.1875 \r\nQ 45.796875 27.640625 41.28125 31.265625 \r\nQ 36.765625 34.90625 28.71875 34.90625 \r\nL 20.21875 34.90625 \r\nL 20.21875 43.015625 \r\nL 29.109375 43.015625 \r\nQ 36.375 43.015625 40.234375 45.921875 \r\nQ 44.09375 48.828125 44.09375 54.296875 \r\nQ 44.09375 59.90625 40.109375 62.90625 \r\nQ 36.140625 65.921875 28.71875 65.921875 \r\nQ 24.65625 65.921875 20.015625 65.03125 \r\nQ 15.375 64.15625 9.8125 62.3125 \r\nL 9.8125 71.09375 \r\nQ 15.4375 72.65625 20.34375 73.4375 \r\nQ 25.25 74.21875 29.59375 74.21875 \r\nQ 40.828125 74.21875 47.359375 69.109375 \r\nQ 53.90625 64.015625 53.90625 55.328125 \r\nQ 53.90625 49.265625 50.4375 45.09375 \r\nQ 46.96875 40.921875 40.578125 39.3125 \r\nz\r\n\" id=\"DejaVuSans-51\"/>\r\n      </defs>\r\n      <g transform=\"translate(431.342188 483.402656)scale(0.15 -0.15)\">\r\n       <use xlink:href=\"#DejaVuSans-51\"/>\r\n      </g>\r\n     </g>\r\n    </g>\r\n    <g id=\"xtick_4\">\r\n     <g id=\"line2d_4\">\r\n      <g>\r\n       <use style=\"stroke:#000000;stroke-width:0.8;\" x=\"570.034063\" xlink:href=\"#m09825cc733\" y=\"465.005\"/>\r\n      </g>\r\n     </g>\r\n     <g id=\"text_4\">\r\n      <!-- 4 -->\r\n      <defs>\r\n       <path d=\"M 37.796875 64.3125 \r\nL 12.890625 25.390625 \r\nL 37.796875 25.390625 \r\nz\r\nM 35.203125 72.90625 \r\nL 47.609375 72.90625 \r\nL 47.609375 25.390625 \r\nL 58.015625 25.390625 \r\nL 58.015625 17.1875 \r\nL 47.609375 17.1875 \r\nL 47.609375 0 \r\nL 37.796875 0 \r\nL 37.796875 17.1875 \r\nL 4.890625 17.1875 \r\nL 4.890625 26.703125 \r\nz\r\n\" id=\"DejaVuSans-52\"/>\r\n      </defs>\r\n      <g transform=\"translate(565.262188 483.402656)scale(0.15 -0.15)\">\r\n       <use xlink:href=\"#DejaVuSans-52\"/>\r\n      </g>\r\n     </g>\r\n    </g>\r\n    <g id=\"xtick_5\">\r\n     <g id=\"line2d_5\">\r\n      <g>\r\n       <use style=\"stroke:#000000;stroke-width:0.8;\" x=\"703.954063\" xlink:href=\"#m09825cc733\" y=\"465.005\"/>\r\n      </g>\r\n     </g>\r\n     <g id=\"text_5\">\r\n      <!-- 5 -->\r\n      <defs>\r\n       <path d=\"M 10.796875 72.90625 \r\nL 49.515625 72.90625 \r\nL 49.515625 64.59375 \r\nL 19.828125 64.59375 \r\nL 19.828125 46.734375 \r\nQ 21.96875 47.46875 24.109375 47.828125 \r\nQ 26.265625 48.1875 28.421875 48.1875 \r\nQ 40.625 48.1875 47.75 41.5 \r\nQ 54.890625 34.8125 54.890625 23.390625 \r\nQ 54.890625 11.625 47.5625 5.09375 \r\nQ 40.234375 -1.421875 26.90625 -1.421875 \r\nQ 22.3125 -1.421875 17.546875 -0.640625 \r\nQ 12.796875 0.140625 7.71875 1.703125 \r\nL 7.71875 11.625 \r\nQ 12.109375 9.234375 16.796875 8.0625 \r\nQ 21.484375 6.890625 26.703125 6.890625 \r\nQ 35.15625 6.890625 40.078125 11.328125 \r\nQ 45.015625 15.765625 45.015625 23.390625 \r\nQ 45.015625 31 40.078125 35.4375 \r\nQ 35.15625 39.890625 26.703125 39.890625 \r\nQ 22.75 39.890625 18.8125 39.015625 \r\nQ 14.890625 38.140625 10.796875 36.28125 \r\nz\r\n\" id=\"DejaVuSans-53\"/>\r\n      </defs>\r\n      <g transform=\"translate(699.182188 483.402656)scale(0.15 -0.15)\">\r\n       <use xlink:href=\"#DejaVuSans-53\"/>\r\n      </g>\r\n     </g>\r\n    </g>\r\n    <g id=\"text_6\">\r\n     <!-- Ratings -->\r\n     <defs>\r\n      <path d=\"M 44.390625 34.1875 \r\nQ 47.5625 33.109375 50.5625 29.59375 \r\nQ 53.5625 26.078125 56.59375 19.921875 \r\nL 66.609375 0 \r\nL 56 0 \r\nL 46.6875 18.703125 \r\nQ 43.0625 26.03125 39.671875 28.421875 \r\nQ 36.28125 30.8125 30.421875 30.8125 \r\nL 19.671875 30.8125 \r\nL 19.671875 0 \r\nL 9.8125 0 \r\nL 9.8125 72.90625 \r\nL 32.078125 72.90625 \r\nQ 44.578125 72.90625 50.734375 67.671875 \r\nQ 56.890625 62.453125 56.890625 51.90625 \r\nQ 56.890625 45.015625 53.6875 40.46875 \r\nQ 50.484375 35.9375 44.390625 34.1875 \r\nz\r\nM 19.671875 64.796875 \r\nL 19.671875 38.921875 \r\nL 32.078125 38.921875 \r\nQ 39.203125 38.921875 42.84375 42.21875 \r\nQ 46.484375 45.515625 46.484375 51.90625 \r\nQ 46.484375 58.296875 42.84375 61.546875 \r\nQ 39.203125 64.796875 32.078125 64.796875 \r\nz\r\n\" id=\"DejaVuSans-82\"/>\r\n      <path d=\"M 34.28125 27.484375 \r\nQ 23.390625 27.484375 19.1875 25 \r\nQ 14.984375 22.515625 14.984375 16.5 \r\nQ 14.984375 11.71875 18.140625 8.90625 \r\nQ 21.296875 6.109375 26.703125 6.109375 \r\nQ 34.1875 6.109375 38.703125 11.40625 \r\nQ 43.21875 16.703125 43.21875 25.484375 \r\nL 43.21875 27.484375 \r\nz\r\nM 52.203125 31.203125 \r\nL 52.203125 0 \r\nL 43.21875 0 \r\nL 43.21875 8.296875 \r\nQ 40.140625 3.328125 35.546875 0.953125 \r\nQ 30.953125 -1.421875 24.3125 -1.421875 \r\nQ 15.921875 -1.421875 10.953125 3.296875 \r\nQ 6 8.015625 6 15.921875 \r\nQ 6 25.140625 12.171875 29.828125 \r\nQ 18.359375 34.515625 30.609375 34.515625 \r\nL 43.21875 34.515625 \r\nL 43.21875 35.40625 \r\nQ 43.21875 41.609375 39.140625 45 \r\nQ 35.0625 48.390625 27.6875 48.390625 \r\nQ 23 48.390625 18.546875 47.265625 \r\nQ 14.109375 46.140625 10.015625 43.890625 \r\nL 10.015625 52.203125 \r\nQ 14.9375 54.109375 19.578125 55.046875 \r\nQ 24.21875 56 28.609375 56 \r\nQ 40.484375 56 46.34375 49.84375 \r\nQ 52.203125 43.703125 52.203125 31.203125 \r\nz\r\n\" id=\"DejaVuSans-97\"/>\r\n      <path d=\"M 18.3125 70.21875 \r\nL 18.3125 54.6875 \r\nL 36.8125 54.6875 \r\nL 36.8125 47.703125 \r\nL 18.3125 47.703125 \r\nL 18.3125 18.015625 \r\nQ 18.3125 11.328125 20.140625 9.421875 \r\nQ 21.96875 7.515625 27.59375 7.515625 \r\nL 36.8125 7.515625 \r\nL 36.8125 0 \r\nL 27.59375 0 \r\nQ 17.1875 0 13.234375 3.875 \r\nQ 9.28125 7.765625 9.28125 18.015625 \r\nL 9.28125 47.703125 \r\nL 2.6875 47.703125 \r\nL 2.6875 54.6875 \r\nL 9.28125 54.6875 \r\nL 9.28125 70.21875 \r\nz\r\n\" id=\"DejaVuSans-116\"/>\r\n      <path d=\"M 9.421875 54.6875 \r\nL 18.40625 54.6875 \r\nL 18.40625 0 \r\nL 9.421875 0 \r\nz\r\nM 9.421875 75.984375 \r\nL 18.40625 75.984375 \r\nL 18.40625 64.59375 \r\nL 9.421875 64.59375 \r\nz\r\n\" id=\"DejaVuSans-105\"/>\r\n      <path d=\"M 54.890625 33.015625 \r\nL 54.890625 0 \r\nL 45.90625 0 \r\nL 45.90625 32.71875 \r\nQ 45.90625 40.484375 42.875 44.328125 \r\nQ 39.84375 48.1875 33.796875 48.1875 \r\nQ 26.515625 48.1875 22.3125 43.546875 \r\nQ 18.109375 38.921875 18.109375 30.90625 \r\nL 18.109375 0 \r\nL 9.078125 0 \r\nL 9.078125 54.6875 \r\nL 18.109375 54.6875 \r\nL 18.109375 46.1875 \r\nQ 21.34375 51.125 25.703125 53.5625 \r\nQ 30.078125 56 35.796875 56 \r\nQ 45.21875 56 50.046875 50.171875 \r\nQ 54.890625 44.34375 54.890625 33.015625 \r\nz\r\n\" id=\"DejaVuSans-110\"/>\r\n      <path d=\"M 45.40625 27.984375 \r\nQ 45.40625 37.75 41.375 43.109375 \r\nQ 37.359375 48.484375 30.078125 48.484375 \r\nQ 22.859375 48.484375 18.828125 43.109375 \r\nQ 14.796875 37.75 14.796875 27.984375 \r\nQ 14.796875 18.265625 18.828125 12.890625 \r\nQ 22.859375 7.515625 30.078125 7.515625 \r\nQ 37.359375 7.515625 41.375 12.890625 \r\nQ 45.40625 18.265625 45.40625 27.984375 \r\nz\r\nM 54.390625 6.78125 \r\nQ 54.390625 -7.171875 48.1875 -13.984375 \r\nQ 42 -20.796875 29.203125 -20.796875 \r\nQ 24.46875 -20.796875 20.265625 -20.09375 \r\nQ 16.0625 -19.390625 12.109375 -17.921875 \r\nL 12.109375 -9.1875 \r\nQ 16.0625 -11.328125 19.921875 -12.34375 \r\nQ 23.78125 -13.375 27.78125 -13.375 \r\nQ 36.625 -13.375 41.015625 -8.765625 \r\nQ 45.40625 -4.15625 45.40625 5.171875 \r\nL 45.40625 9.625 \r\nQ 42.625 4.78125 38.28125 2.390625 \r\nQ 33.9375 0 27.875 0 \r\nQ 17.828125 0 11.671875 7.65625 \r\nQ 5.515625 15.328125 5.515625 27.984375 \r\nQ 5.515625 40.671875 11.671875 48.328125 \r\nQ 17.828125 56 27.875 56 \r\nQ 33.9375 56 38.28125 53.609375 \r\nQ 42.625 51.21875 45.40625 46.390625 \r\nL 45.40625 54.6875 \r\nL 54.390625 54.6875 \r\nz\r\n\" id=\"DejaVuSans-103\"/>\r\n      <path d=\"M 44.28125 53.078125 \r\nL 44.28125 44.578125 \r\nQ 40.484375 46.53125 36.375 47.5 \r\nQ 32.28125 48.484375 27.875 48.484375 \r\nQ 21.1875 48.484375 17.84375 46.4375 \r\nQ 14.5 44.390625 14.5 40.28125 \r\nQ 14.5 37.15625 16.890625 35.375 \r\nQ 19.28125 33.59375 26.515625 31.984375 \r\nL 29.59375 31.296875 \r\nQ 39.15625 29.25 43.1875 25.515625 \r\nQ 47.21875 21.78125 47.21875 15.09375 \r\nQ 47.21875 7.46875 41.1875 3.015625 \r\nQ 35.15625 -1.421875 24.609375 -1.421875 \r\nQ 20.21875 -1.421875 15.453125 -0.5625 \r\nQ 10.6875 0.296875 5.421875 2 \r\nL 5.421875 11.28125 \r\nQ 10.40625 8.6875 15.234375 7.390625 \r\nQ 20.0625 6.109375 24.8125 6.109375 \r\nQ 31.15625 6.109375 34.5625 8.28125 \r\nQ 37.984375 10.453125 37.984375 14.40625 \r\nQ 37.984375 18.0625 35.515625 20.015625 \r\nQ 33.0625 21.96875 24.703125 23.78125 \r\nL 21.578125 24.515625 \r\nQ 13.234375 26.265625 9.515625 29.90625 \r\nQ 5.8125 33.546875 5.8125 39.890625 \r\nQ 5.8125 47.609375 11.28125 51.796875 \r\nQ 16.75 56 26.8125 56 \r\nQ 31.78125 56 36.171875 55.265625 \r\nQ 40.578125 54.546875 44.28125 53.078125 \r\nz\r\n\" id=\"DejaVuSans-115\"/>\r\n     </defs>\r\n     <g transform=\"translate(398.66875 505.719062)scale(0.2 -0.2)\">\r\n      <use xlink:href=\"#DejaVuSans-82\"/>\r\n      <use x=\"67.232422\" xlink:href=\"#DejaVuSans-97\"/>\r\n      <use x=\"128.511719\" xlink:href=\"#DejaVuSans-116\"/>\r\n      <use x=\"167.720703\" xlink:href=\"#DejaVuSans-105\"/>\r\n      <use x=\"195.503906\" xlink:href=\"#DejaVuSans-110\"/>\r\n      <use x=\"258.882812\" xlink:href=\"#DejaVuSans-103\"/>\r\n      <use x=\"322.359375\" xlink:href=\"#DejaVuSans-115\"/>\r\n     </g>\r\n    </g>\r\n   </g>\r\n   <g id=\"matplotlib.axis_2\">\r\n    <g id=\"ytick_1\">\r\n     <g id=\"line2d_6\">\r\n      <defs>\r\n       <path d=\"M 0 0 \r\nL -3.5 0 \r\n\" id=\"mba5e532f53\" style=\"stroke:#000000;stroke-width:0.8;\"/>\r\n      </defs>\r\n      <g>\r\n       <use style=\"stroke:#000000;stroke-width:0.8;\" x=\"101.314063\" xlink:href=\"#mba5e532f53\" y=\"465.005\"/>\r\n      </g>\r\n     </g>\r\n     <g id=\"text_7\">\r\n      <!-- 0.0 -->\r\n      <defs>\r\n       <path d=\"M 31.78125 66.40625 \r\nQ 24.171875 66.40625 20.328125 58.90625 \r\nQ 16.5 51.421875 16.5 36.375 \r\nQ 16.5 21.390625 20.328125 13.890625 \r\nQ 24.171875 6.390625 31.78125 6.390625 \r\nQ 39.453125 6.390625 43.28125 13.890625 \r\nQ 47.125 21.390625 47.125 36.375 \r\nQ 47.125 51.421875 43.28125 58.90625 \r\nQ 39.453125 66.40625 31.78125 66.40625 \r\nz\r\nM 31.78125 74.21875 \r\nQ 44.046875 74.21875 50.515625 64.515625 \r\nQ 56.984375 54.828125 56.984375 36.375 \r\nQ 56.984375 17.96875 50.515625 8.265625 \r\nQ 44.046875 -1.421875 31.78125 -1.421875 \r\nQ 19.53125 -1.421875 13.0625 8.265625 \r\nQ 6.59375 17.96875 6.59375 36.375 \r\nQ 6.59375 54.828125 13.0625 64.515625 \r\nQ 19.53125 74.21875 31.78125 74.21875 \r\nz\r\n\" id=\"DejaVuSans-48\"/>\r\n       <path d=\"M 10.6875 12.40625 \r\nL 21 12.40625 \r\nL 21 0 \r\nL 10.6875 0 \r\nz\r\n\" id=\"DejaVuSans-46\"/>\r\n      </defs>\r\n      <g transform=\"translate(70.459375 470.703828)scale(0.15 -0.15)\">\r\n       <use xlink:href=\"#DejaVuSans-48\"/>\r\n       <use x=\"63.623047\" xlink:href=\"#DejaVuSans-46\"/>\r\n       <use x=\"95.410156\" xlink:href=\"#DejaVuSans-48\"/>\r\n      </g>\r\n     </g>\r\n    </g>\r\n    <g id=\"ytick_2\">\r\n     <g id=\"line2d_7\">\r\n      <g>\r\n       <use style=\"stroke:#000000;stroke-width:0.8;\" x=\"101.314063\" xlink:href=\"#mba5e532f53\" y=\"404.6917\"/>\r\n      </g>\r\n     </g>\r\n     <g id=\"text_8\">\r\n      <!-- 2000.0 -->\r\n      <g transform=\"translate(41.828125 410.390528)scale(0.15 -0.15)\">\r\n       <use xlink:href=\"#DejaVuSans-50\"/>\r\n       <use x=\"63.623047\" xlink:href=\"#DejaVuSans-48\"/>\r\n       <use x=\"127.246094\" xlink:href=\"#DejaVuSans-48\"/>\r\n       <use x=\"190.869141\" xlink:href=\"#DejaVuSans-48\"/>\r\n       <use x=\"254.492188\" xlink:href=\"#DejaVuSans-46\"/>\r\n       <use x=\"286.279297\" xlink:href=\"#DejaVuSans-48\"/>\r\n      </g>\r\n     </g>\r\n    </g>\r\n    <g id=\"ytick_3\">\r\n     <g id=\"line2d_8\">\r\n      <g>\r\n       <use style=\"stroke:#000000;stroke-width:0.8;\" x=\"101.314063\" xlink:href=\"#mba5e532f53\" y=\"344.378401\"/>\r\n      </g>\r\n     </g>\r\n     <g id=\"text_9\">\r\n      <!-- 4000.0 -->\r\n      <g transform=\"translate(41.828125 350.077229)scale(0.15 -0.15)\">\r\n       <use xlink:href=\"#DejaVuSans-52\"/>\r\n       <use x=\"63.623047\" xlink:href=\"#DejaVuSans-48\"/>\r\n       <use x=\"127.246094\" xlink:href=\"#DejaVuSans-48\"/>\r\n       <use x=\"190.869141\" xlink:href=\"#DejaVuSans-48\"/>\r\n       <use x=\"254.492188\" xlink:href=\"#DejaVuSans-46\"/>\r\n       <use x=\"286.279297\" xlink:href=\"#DejaVuSans-48\"/>\r\n      </g>\r\n     </g>\r\n    </g>\r\n    <g id=\"ytick_4\">\r\n     <g id=\"line2d_9\">\r\n      <g>\r\n       <use style=\"stroke:#000000;stroke-width:0.8;\" x=\"101.314063\" xlink:href=\"#mba5e532f53\" y=\"284.065101\"/>\r\n      </g>\r\n     </g>\r\n     <g id=\"text_10\">\r\n      <!-- 6000.0 -->\r\n      <defs>\r\n       <path d=\"M 33.015625 40.375 \r\nQ 26.375 40.375 22.484375 35.828125 \r\nQ 18.609375 31.296875 18.609375 23.390625 \r\nQ 18.609375 15.53125 22.484375 10.953125 \r\nQ 26.375 6.390625 33.015625 6.390625 \r\nQ 39.65625 6.390625 43.53125 10.953125 \r\nQ 47.40625 15.53125 47.40625 23.390625 \r\nQ 47.40625 31.296875 43.53125 35.828125 \r\nQ 39.65625 40.375 33.015625 40.375 \r\nz\r\nM 52.59375 71.296875 \r\nL 52.59375 62.3125 \r\nQ 48.875 64.0625 45.09375 64.984375 \r\nQ 41.3125 65.921875 37.59375 65.921875 \r\nQ 27.828125 65.921875 22.671875 59.328125 \r\nQ 17.53125 52.734375 16.796875 39.40625 \r\nQ 19.671875 43.65625 24.015625 45.921875 \r\nQ 28.375 48.1875 33.59375 48.1875 \r\nQ 44.578125 48.1875 50.953125 41.515625 \r\nQ 57.328125 34.859375 57.328125 23.390625 \r\nQ 57.328125 12.15625 50.6875 5.359375 \r\nQ 44.046875 -1.421875 33.015625 -1.421875 \r\nQ 20.359375 -1.421875 13.671875 8.265625 \r\nQ 6.984375 17.96875 6.984375 36.375 \r\nQ 6.984375 53.65625 15.1875 63.9375 \r\nQ 23.390625 74.21875 37.203125 74.21875 \r\nQ 40.921875 74.21875 44.703125 73.484375 \r\nQ 48.484375 72.75 52.59375 71.296875 \r\nz\r\n\" id=\"DejaVuSans-54\"/>\r\n      </defs>\r\n      <g transform=\"translate(41.828125 289.763929)scale(0.15 -0.15)\">\r\n       <use xlink:href=\"#DejaVuSans-54\"/>\r\n       <use x=\"63.623047\" xlink:href=\"#DejaVuSans-48\"/>\r\n       <use x=\"127.246094\" xlink:href=\"#DejaVuSans-48\"/>\r\n       <use x=\"190.869141\" xlink:href=\"#DejaVuSans-48\"/>\r\n       <use x=\"254.492188\" xlink:href=\"#DejaVuSans-46\"/>\r\n       <use x=\"286.279297\" xlink:href=\"#DejaVuSans-48\"/>\r\n      </g>\r\n     </g>\r\n    </g>\r\n    <g id=\"ytick_5\">\r\n     <g id=\"line2d_10\">\r\n      <g>\r\n       <use style=\"stroke:#000000;stroke-width:0.8;\" x=\"101.314063\" xlink:href=\"#mba5e532f53\" y=\"223.751801\"/>\r\n      </g>\r\n     </g>\r\n     <g id=\"text_11\">\r\n      <!-- 8000.0 -->\r\n      <defs>\r\n       <path d=\"M 31.78125 34.625 \r\nQ 24.75 34.625 20.71875 30.859375 \r\nQ 16.703125 27.09375 16.703125 20.515625 \r\nQ 16.703125 13.921875 20.71875 10.15625 \r\nQ 24.75 6.390625 31.78125 6.390625 \r\nQ 38.8125 6.390625 42.859375 10.171875 \r\nQ 46.921875 13.96875 46.921875 20.515625 \r\nQ 46.921875 27.09375 42.890625 30.859375 \r\nQ 38.875 34.625 31.78125 34.625 \r\nz\r\nM 21.921875 38.8125 \r\nQ 15.578125 40.375 12.03125 44.71875 \r\nQ 8.5 49.078125 8.5 55.328125 \r\nQ 8.5 64.0625 14.71875 69.140625 \r\nQ 20.953125 74.21875 31.78125 74.21875 \r\nQ 42.671875 74.21875 48.875 69.140625 \r\nQ 55.078125 64.0625 55.078125 55.328125 \r\nQ 55.078125 49.078125 51.53125 44.71875 \r\nQ 48 40.375 41.703125 38.8125 \r\nQ 48.828125 37.15625 52.796875 32.3125 \r\nQ 56.78125 27.484375 56.78125 20.515625 \r\nQ 56.78125 9.90625 50.3125 4.234375 \r\nQ 43.84375 -1.421875 31.78125 -1.421875 \r\nQ 19.734375 -1.421875 13.25 4.234375 \r\nQ 6.78125 9.90625 6.78125 20.515625 \r\nQ 6.78125 27.484375 10.78125 32.3125 \r\nQ 14.796875 37.15625 21.921875 38.8125 \r\nz\r\nM 18.3125 54.390625 \r\nQ 18.3125 48.734375 21.84375 45.5625 \r\nQ 25.390625 42.390625 31.78125 42.390625 \r\nQ 38.140625 42.390625 41.71875 45.5625 \r\nQ 45.3125 48.734375 45.3125 54.390625 \r\nQ 45.3125 60.0625 41.71875 63.234375 \r\nQ 38.140625 66.40625 31.78125 66.40625 \r\nQ 25.390625 66.40625 21.84375 63.234375 \r\nQ 18.3125 60.0625 18.3125 54.390625 \r\nz\r\n\" id=\"DejaVuSans-56\"/>\r\n      </defs>\r\n      <g transform=\"translate(41.828125 229.45063)scale(0.15 -0.15)\">\r\n       <use xlink:href=\"#DejaVuSans-56\"/>\r\n       <use x=\"63.623047\" xlink:href=\"#DejaVuSans-48\"/>\r\n       <use x=\"127.246094\" xlink:href=\"#DejaVuSans-48\"/>\r\n       <use x=\"190.869141\" xlink:href=\"#DejaVuSans-48\"/>\r\n       <use x=\"254.492188\" xlink:href=\"#DejaVuSans-46\"/>\r\n       <use x=\"286.279297\" xlink:href=\"#DejaVuSans-48\"/>\r\n      </g>\r\n     </g>\r\n    </g>\r\n    <g id=\"ytick_6\">\r\n     <g id=\"line2d_11\">\r\n      <g>\r\n       <use style=\"stroke:#000000;stroke-width:0.8;\" x=\"101.314063\" xlink:href=\"#mba5e532f53\" y=\"163.438502\"/>\r\n      </g>\r\n     </g>\r\n     <g id=\"text_12\">\r\n      <!-- 10000.0 -->\r\n      <g transform=\"translate(32.284375 169.13733)scale(0.15 -0.15)\">\r\n       <use xlink:href=\"#DejaVuSans-49\"/>\r\n       <use x=\"63.623047\" xlink:href=\"#DejaVuSans-48\"/>\r\n       <use x=\"127.246094\" xlink:href=\"#DejaVuSans-48\"/>\r\n       <use x=\"190.869141\" xlink:href=\"#DejaVuSans-48\"/>\r\n       <use x=\"254.492188\" xlink:href=\"#DejaVuSans-48\"/>\r\n       <use x=\"318.115234\" xlink:href=\"#DejaVuSans-46\"/>\r\n       <use x=\"349.902344\" xlink:href=\"#DejaVuSans-48\"/>\r\n      </g>\r\n     </g>\r\n    </g>\r\n    <g id=\"ytick_7\">\r\n     <g id=\"line2d_12\">\r\n      <g>\r\n       <use style=\"stroke:#000000;stroke-width:0.8;\" x=\"101.314063\" xlink:href=\"#mba5e532f53\" y=\"103.125202\"/>\r\n      </g>\r\n     </g>\r\n     <g id=\"text_13\">\r\n      <!-- 12000.0 -->\r\n      <g transform=\"translate(32.284375 108.82403)scale(0.15 -0.15)\">\r\n       <use xlink:href=\"#DejaVuSans-49\"/>\r\n       <use x=\"63.623047\" xlink:href=\"#DejaVuSans-50\"/>\r\n       <use x=\"127.246094\" xlink:href=\"#DejaVuSans-48\"/>\r\n       <use x=\"190.869141\" xlink:href=\"#DejaVuSans-48\"/>\r\n       <use x=\"254.492188\" xlink:href=\"#DejaVuSans-48\"/>\r\n       <use x=\"318.115234\" xlink:href=\"#DejaVuSans-46\"/>\r\n       <use x=\"349.902344\" xlink:href=\"#DejaVuSans-48\"/>\r\n      </g>\r\n     </g>\r\n    </g>\r\n    <g id=\"ytick_8\">\r\n     <g id=\"line2d_13\">\r\n      <g>\r\n       <use style=\"stroke:#000000;stroke-width:0.8;\" x=\"101.314063\" xlink:href=\"#mba5e532f53\" y=\"42.811903\"/>\r\n      </g>\r\n     </g>\r\n     <g id=\"text_14\">\r\n      <!-- 14000.0 -->\r\n      <g transform=\"translate(32.284375 48.510731)scale(0.15 -0.15)\">\r\n       <use xlink:href=\"#DejaVuSans-49\"/>\r\n       <use x=\"63.623047\" xlink:href=\"#DejaVuSans-52\"/>\r\n       <use x=\"127.246094\" xlink:href=\"#DejaVuSans-48\"/>\r\n       <use x=\"190.869141\" xlink:href=\"#DejaVuSans-48\"/>\r\n       <use x=\"254.492188\" xlink:href=\"#DejaVuSans-48\"/>\r\n       <use x=\"318.115234\" xlink:href=\"#DejaVuSans-46\"/>\r\n       <use x=\"349.902344\" xlink:href=\"#DejaVuSans-48\"/>\r\n      </g>\r\n     </g>\r\n    </g>\r\n    <g id=\"text_15\">\r\n     <!-- Số đánh giá -->\r\n     <defs>\r\n      <path d=\"M 53.515625 70.515625 \r\nL 53.515625 60.890625 \r\nQ 47.90625 63.578125 42.921875 64.890625 \r\nQ 37.9375 66.21875 33.296875 66.21875 \r\nQ 25.25 66.21875 20.875 63.09375 \r\nQ 16.5 59.96875 16.5 54.203125 \r\nQ 16.5 49.359375 19.40625 46.890625 \r\nQ 22.3125 44.4375 30.421875 42.921875 \r\nL 36.375 41.703125 \r\nQ 47.40625 39.59375 52.65625 34.296875 \r\nQ 57.90625 29 57.90625 20.125 \r\nQ 57.90625 9.515625 50.796875 4.046875 \r\nQ 43.703125 -1.421875 29.984375 -1.421875 \r\nQ 24.8125 -1.421875 18.96875 -0.25 \r\nQ 13.140625 0.921875 6.890625 3.21875 \r\nL 6.890625 13.375 \r\nQ 12.890625 10.015625 18.65625 8.296875 \r\nQ 24.421875 6.59375 29.984375 6.59375 \r\nQ 38.421875 6.59375 43.015625 9.90625 \r\nQ 47.609375 13.234375 47.609375 19.390625 \r\nQ 47.609375 24.75 44.3125 27.78125 \r\nQ 41.015625 30.8125 33.5 32.328125 \r\nL 27.484375 33.5 \r\nQ 16.453125 35.6875 11.515625 40.375 \r\nQ 6.59375 45.0625 6.59375 53.421875 \r\nQ 6.59375 63.09375 13.40625 68.65625 \r\nQ 20.21875 74.21875 32.171875 74.21875 \r\nQ 37.3125 74.21875 42.625 73.28125 \r\nQ 47.953125 72.359375 53.515625 70.515625 \r\nz\r\n\" id=\"DejaVuSans-83\"/>\r\n      <path d=\"M 25.984375 74.609375 \r\nL 35.15625 74.609375 \r\nL 45.453125 61.625 \r\nL 38.671875 61.625 \r\nL 30.5625 70.3125 \r\nL 22.46875 61.625 \r\nL 15.671875 61.625 \r\nz\r\nM 51.03125 84.625 \r\nL 60.0625 84.625 \r\nL 48.921875 71.734375 \r\nL 41.453125 71.734375 \r\nz\r\nM 30.609375 48.390625 \r\nQ 23.390625 48.390625 19.1875 42.75 \r\nQ 14.984375 37.109375 14.984375 27.296875 \r\nQ 14.984375 17.484375 19.15625 11.84375 \r\nQ 23.34375 6.203125 30.609375 6.203125 \r\nQ 37.796875 6.203125 41.984375 11.859375 \r\nQ 46.1875 17.53125 46.1875 27.296875 \r\nQ 46.1875 37.015625 41.984375 42.703125 \r\nQ 37.796875 48.390625 30.609375 48.390625 \r\nz\r\nM 30.609375 56 \r\nQ 42.328125 56 49.015625 48.375 \r\nQ 55.71875 40.765625 55.71875 27.296875 \r\nQ 55.71875 13.875 49.015625 6.21875 \r\nQ 42.328125 -1.421875 30.609375 -1.421875 \r\nQ 18.84375 -1.421875 12.171875 6.21875 \r\nQ 5.515625 13.875 5.515625 27.296875 \r\nQ 5.515625 40.765625 12.171875 48.375 \r\nQ 18.84375 56 30.609375 56 \r\nz\r\n\" id=\"DejaVuSans-7889\"/>\r\n      <path id=\"DejaVuSans-32\"/>\r\n      <path d=\"M 45.40625 46.390625 \r\nL 45.40625 62.703125 \r\nL 29.5 62.703125 \r\nL 29.5 68.796875 \r\nL 45.40625 68.796875 \r\nL 45.40625 75.984375 \r\nL 54.390625 75.984375 \r\nL 54.390625 68.796875 \r\nL 61.921875 68.796875 \r\nL 61.921875 62.703125 \r\nL 54.390625 62.703125 \r\nL 54.390625 0 \r\nL 45.40625 0 \r\nL 45.40625 8.203125 \r\nQ 42.578125 3.328125 38.25 0.953125 \r\nQ 33.9375 -1.421875 27.875 -1.421875 \r\nQ 17.96875 -1.421875 11.734375 6.484375 \r\nQ 5.515625 14.40625 5.515625 27.296875 \r\nQ 5.515625 40.1875 11.734375 48.09375 \r\nQ 17.96875 56 27.875 56 \r\nQ 33.9375 56 38.25 53.625 \r\nQ 42.578125 51.265625 45.40625 46.390625 \r\nz\r\nM 14.796875 27.296875 \r\nQ 14.796875 17.390625 18.875 11.75 \r\nQ 22.953125 6.109375 30.078125 6.109375 \r\nQ 37.203125 6.109375 41.296875 11.75 \r\nQ 45.40625 17.390625 45.40625 27.296875 \r\nQ 45.40625 37.203125 41.296875 42.84375 \r\nQ 37.203125 48.484375 30.078125 48.484375 \r\nQ 22.953125 48.484375 18.875 42.84375 \r\nQ 14.796875 37.203125 14.796875 27.296875 \r\nz\r\n\" id=\"DejaVuSans-273\"/>\r\n      <path d=\"M 34.28125 27.484375 \r\nQ 23.390625 27.484375 19.1875 25 \r\nQ 14.984375 22.515625 14.984375 16.5 \r\nQ 14.984375 11.71875 18.140625 8.90625 \r\nQ 21.296875 6.109375 26.703125 6.109375 \r\nQ 34.1875 6.109375 38.703125 11.40625 \r\nQ 43.21875 16.703125 43.21875 25.484375 \r\nL 43.21875 27.484375 \r\nz\r\nM 52.203125 31.203125 \r\nL 52.203125 0 \r\nL 43.21875 0 \r\nL 43.21875 8.296875 \r\nQ 40.140625 3.328125 35.546875 0.953125 \r\nQ 30.953125 -1.421875 24.3125 -1.421875 \r\nQ 15.921875 -1.421875 10.953125 3.296875 \r\nQ 6 8.015625 6 15.921875 \r\nQ 6 25.140625 12.171875 29.828125 \r\nQ 18.359375 34.515625 30.609375 34.515625 \r\nL 43.21875 34.515625 \r\nL 43.21875 35.40625 \r\nQ 43.21875 41.609375 39.140625 45 \r\nQ 35.0625 48.390625 27.6875 48.390625 \r\nQ 23 48.390625 18.546875 47.265625 \r\nQ 14.109375 46.140625 10.015625 43.890625 \r\nL 10.015625 52.203125 \r\nQ 14.9375 54.109375 19.578125 55.046875 \r\nQ 24.21875 56 28.609375 56 \r\nQ 40.484375 56 46.34375 49.84375 \r\nQ 52.203125 43.703125 52.203125 31.203125 \r\nz\r\nM 35.796875 79.984375 \r\nL 45.515625 79.984375 \r\nL 29.59375 61.625 \r\nL 22.125 61.625 \r\nz\r\n\" id=\"DejaVuSans-225\"/>\r\n      <path d=\"M 54.890625 33.015625 \r\nL 54.890625 0 \r\nL 45.90625 0 \r\nL 45.90625 32.71875 \r\nQ 45.90625 40.484375 42.875 44.328125 \r\nQ 39.84375 48.1875 33.796875 48.1875 \r\nQ 26.515625 48.1875 22.3125 43.546875 \r\nQ 18.109375 38.921875 18.109375 30.90625 \r\nL 18.109375 0 \r\nL 9.078125 0 \r\nL 9.078125 75.984375 \r\nL 18.109375 75.984375 \r\nL 18.109375 46.1875 \r\nQ 21.34375 51.125 25.703125 53.5625 \r\nQ 30.078125 56 35.796875 56 \r\nQ 45.21875 56 50.046875 50.171875 \r\nQ 54.890625 44.34375 54.890625 33.015625 \r\nz\r\n\" id=\"DejaVuSans-104\"/>\r\n     </defs>\r\n     <g transform=\"translate(24.125 306.794687)rotate(-90)scale(0.2 -0.2)\">\r\n      <use xlink:href=\"#DejaVuSans-83\"/>\r\n      <use x=\"63.476562\" xlink:href=\"#DejaVuSans-7889\"/>\r\n      <use x=\"124.658203\" xlink:href=\"#DejaVuSans-32\"/>\r\n      <use x=\"156.445312\" xlink:href=\"#DejaVuSans-273\"/>\r\n      <use x=\"219.921875\" xlink:href=\"#DejaVuSans-225\"/>\r\n      <use x=\"281.201172\" xlink:href=\"#DejaVuSans-110\"/>\r\n      <use x=\"344.580078\" xlink:href=\"#DejaVuSans-104\"/>\r\n      <use x=\"407.958984\" xlink:href=\"#DejaVuSans-32\"/>\r\n      <use x=\"439.746094\" xlink:href=\"#DejaVuSans-103\"/>\r\n      <use x=\"503.222656\" xlink:href=\"#DejaVuSans-105\"/>\r\n      <use x=\"531.005859\" xlink:href=\"#DejaVuSans-225\"/>\r\n     </g>\r\n    </g>\r\n   </g>\r\n   <g id=\"patch_8\">\r\n    <path d=\"M 101.314063 465.005 \r\nL 101.314063 30.125 \r\n\" style=\"fill:none;stroke:#000000;stroke-linecap:square;stroke-linejoin:miter;stroke-width:0.8;\"/>\r\n   </g>\r\n   <g id=\"patch_9\">\r\n    <path d=\"M 770.914062 465.005 \r\nL 770.914062 30.125 \r\n\" style=\"fill:none;stroke:#000000;stroke-linecap:square;stroke-linejoin:miter;stroke-width:0.8;\"/>\r\n   </g>\r\n   <g id=\"patch_10\">\r\n    <path d=\"M 101.314063 465.005 \r\nL 770.914063 465.005 \r\n\" style=\"fill:none;stroke:#000000;stroke-linecap:square;stroke-linejoin:miter;stroke-width:0.8;\"/>\r\n   </g>\r\n   <g id=\"patch_11\">\r\n    <path d=\"M 101.314063 30.125 \r\nL 770.914063 30.125 \r\n\" style=\"fill:none;stroke:#000000;stroke-linecap:square;stroke-linejoin:miter;stroke-width:0.8;\"/>\r\n   </g>\r\n   <g id=\"text_16\">\r\n    <!-- Thống kê lượt đánh giá trên tập huấn luyện -->\r\n    <defs>\r\n     <path d=\"M -0.296875 72.90625 \r\nL 61.375 72.90625 \r\nL 61.375 64.59375 \r\nL 35.5 64.59375 \r\nL 35.5 0 \r\nL 25.59375 0 \r\nL 25.59375 64.59375 \r\nL -0.296875 64.59375 \r\nz\r\n\" id=\"DejaVuSans-84\"/>\r\n     <path d=\"M 9.078125 75.984375 \r\nL 18.109375 75.984375 \r\nL 18.109375 31.109375 \r\nL 44.921875 54.6875 \r\nL 56.390625 54.6875 \r\nL 27.390625 29.109375 \r\nL 57.625 0 \r\nL 45.90625 0 \r\nL 18.109375 26.703125 \r\nL 18.109375 0 \r\nL 9.078125 0 \r\nz\r\n\" id=\"DejaVuSans-107\"/>\r\n     <path d=\"M 56.203125 29.59375 \r\nL 56.203125 25.203125 \r\nL 14.890625 25.203125 \r\nQ 15.484375 15.921875 20.484375 11.0625 \r\nQ 25.484375 6.203125 34.421875 6.203125 \r\nQ 39.59375 6.203125 44.453125 7.46875 \r\nQ 49.3125 8.734375 54.109375 11.28125 \r\nL 54.109375 2.78125 \r\nQ 49.265625 0.734375 44.1875 -0.34375 \r\nQ 39.109375 -1.421875 33.890625 -1.421875 \r\nQ 20.796875 -1.421875 13.15625 6.1875 \r\nQ 5.515625 13.8125 5.515625 26.8125 \r\nQ 5.515625 40.234375 12.765625 48.109375 \r\nQ 20.015625 56 32.328125 56 \r\nQ 43.359375 56 49.78125 48.890625 \r\nQ 56.203125 41.796875 56.203125 29.59375 \r\nz\r\nM 47.21875 32.234375 \r\nQ 47.125 39.59375 43.09375 43.984375 \r\nQ 39.0625 48.390625 32.421875 48.390625 \r\nQ 24.90625 48.390625 20.390625 44.140625 \r\nQ 15.875 39.890625 15.1875 32.171875 \r\nz\r\nM 28.171875 79.984375 \r\nL 35.40625 79.984375 \r\nL 47.359375 61.625 \r\nL 40.578125 61.625 \r\nL 31.78125 73.578125 \r\nL 23 61.625 \r\nL 16.21875 61.625 \r\nz\r\n\" id=\"DejaVuSans-234\"/>\r\n     <path d=\"M 9.421875 75.984375 \r\nL 18.40625 75.984375 \r\nL 18.40625 0 \r\nL 9.421875 0 \r\nz\r\n\" id=\"DejaVuSans-108\"/>\r\n     <path d=\"M 48.34375 48.53125 \r\nL 48.34375 54.34375 \r\nQ 51.3125 52.140625 53.453125 51.09375 \r\nQ 55.609375 50.046875 57.125 50.046875 \r\nQ 59.375 50.046875 60.5 51.390625 \r\nQ 61.625 52.734375 61.625 55.359375 \r\nQ 61.625 56.921875 61.25 58.4375 \r\nQ 60.890625 59.953125 60.15625 61.46875 \r\nL 66.65625 61.46875 \r\nQ 67.140625 59.609375 67.375 57.953125 \r\nQ 67.625 56.296875 67.625 54.828125 \r\nQ 67.625 48.875 65.5 46.0625 \r\nQ 63.375 43.25 58.84375 43.25 \r\nQ 56.5 43.25 53.9375 44.546875 \r\nQ 51.375 45.84375 48.34375 48.53125 \r\nz\r\nM 8.59375 21.578125 \r\nL 8.59375 54.6875 \r\nL 17.578125 54.6875 \r\nL 17.578125 21.921875 \r\nQ 17.578125 14.15625 20.609375 10.265625 \r\nQ 23.640625 6.390625 29.6875 6.390625 \r\nQ 36.96875 6.390625 41.1875 11.03125 \r\nQ 45.40625 15.671875 45.40625 23.6875 \r\nL 45.40625 54.6875 \r\nL 54.390625 54.6875 \r\nL 54.390625 0 \r\nL 45.40625 0 \r\nL 45.40625 8.40625 \r\nQ 42.140625 3.421875 37.8125 1 \r\nQ 33.5 -1.421875 27.78125 -1.421875 \r\nQ 18.359375 -1.421875 13.46875 4.4375 \r\nQ 8.59375 10.296875 8.59375 21.578125 \r\nz\r\nM 31.203125 56 \r\nz\r\n\" id=\"DejaVuSans-432\"/>\r\n     <path d=\"M 41.015625 48.53125 \r\nL 41.015625 54.34375 \r\nQ 44 52.140625 46.140625 51.09375 \r\nQ 48.296875 50.046875 49.8125 50.046875 \r\nQ 52.046875 50.046875 53.171875 51.390625 \r\nQ 54.296875 52.734375 54.296875 55.359375 \r\nQ 54.296875 56.921875 53.921875 58.4375 \r\nQ 53.5625 59.953125 52.828125 61.46875 \r\nL 59.328125 61.46875 \r\nQ 59.8125 59.609375 60.046875 57.953125 \r\nQ 60.296875 56.296875 60.296875 54.828125 \r\nQ 60.296875 48.875 58.171875 46.0625 \r\nQ 56.0625 43.25 51.515625 43.25 \r\nQ 49.171875 43.25 46.609375 44.546875 \r\nQ 44.046875 45.84375 41.015625 48.53125 \r\nz\r\nM 30.859375 48.390625 \r\nQ 23.640625 48.390625 19.4375 42.75 \r\nQ 15.234375 37.109375 15.234375 27.296875 \r\nQ 15.234375 17.484375 19.40625 11.84375 \r\nQ 23.578125 6.203125 30.859375 6.203125 \r\nQ 38.03125 6.203125 42.234375 11.859375 \r\nQ 46.4375 17.53125 46.4375 27.296875 \r\nQ 46.4375 37.015625 42.234375 42.703125 \r\nQ 38.03125 48.390625 30.859375 48.390625 \r\nz\r\nM 30.859375 56 \r\nQ 42.578125 56 49.265625 48.375 \r\nQ 55.953125 40.765625 55.953125 27.296875 \r\nQ 55.953125 13.875 49.265625 6.21875 \r\nQ 42.578125 -1.421875 30.859375 -1.421875 \r\nQ 19.09375 -1.421875 12.421875 6.21875 \r\nQ 5.765625 13.875 5.765625 27.296875 \r\nQ 5.765625 40.765625 12.421875 48.375 \r\nQ 19.09375 56 30.859375 56 \r\nz\r\nM 26.03125 -6.890625 \r\nL 35.015625 -6.890625 \r\nL 35.015625 -18.3125 \r\nL 26.03125 -18.3125 \r\nz\r\n\" id=\"DejaVuSans-7907\"/>\r\n     <path d=\"M 41.109375 46.296875 \r\nQ 39.59375 47.171875 37.8125 47.578125 \r\nQ 36.03125 48 33.890625 48 \r\nQ 26.265625 48 22.1875 43.046875 \r\nQ 18.109375 38.09375 18.109375 28.8125 \r\nL 18.109375 0 \r\nL 9.078125 0 \r\nL 9.078125 54.6875 \r\nL 18.109375 54.6875 \r\nL 18.109375 46.1875 \r\nQ 20.953125 51.171875 25.484375 53.578125 \r\nQ 30.03125 56 36.53125 56 \r\nQ 37.453125 56 38.578125 55.875 \r\nQ 39.703125 55.765625 41.0625 55.515625 \r\nz\r\n\" id=\"DejaVuSans-114\"/>\r\n     <path d=\"M 34.28125 27.484375 \r\nQ 23.390625 27.484375 19.1875 25 \r\nQ 14.984375 22.515625 14.984375 16.5 \r\nQ 14.984375 11.71875 18.140625 8.90625 \r\nQ 21.296875 6.109375 26.703125 6.109375 \r\nQ 34.1875 6.109375 38.703125 11.40625 \r\nQ 43.21875 16.703125 43.21875 25.484375 \r\nL 43.21875 27.484375 \r\nz\r\nM 52.203125 31.203125 \r\nL 52.203125 0 \r\nL 43.21875 0 \r\nL 43.21875 8.296875 \r\nQ 40.140625 3.328125 35.546875 0.953125 \r\nQ 30.953125 -1.421875 24.3125 -1.421875 \r\nQ 15.921875 -1.421875 10.953125 3.296875 \r\nQ 6 8.015625 6 15.921875 \r\nQ 6 25.140625 12.171875 29.828125 \r\nQ 18.359375 34.515625 30.609375 34.515625 \r\nL 43.21875 34.515625 \r\nL 43.21875 35.40625 \r\nQ 43.21875 41.609375 39.140625 45 \r\nQ 35.0625 48.390625 27.6875 48.390625 \r\nQ 23 48.390625 18.546875 47.265625 \r\nQ 14.109375 46.140625 10.015625 43.890625 \r\nL 10.015625 52.203125 \r\nQ 14.9375 54.109375 19.578125 55.046875 \r\nQ 24.21875 56 28.609375 56 \r\nQ 40.484375 56 46.34375 49.84375 \r\nQ 52.203125 43.703125 52.203125 31.203125 \r\nz\r\nM 25.390625 79.984375 \r\nL 32.625 79.984375 \r\nL 44.578125 61.625 \r\nL 37.796875 61.625 \r\nL 29 73.578125 \r\nL 20.21875 61.625 \r\nL 13.421875 61.625 \r\nz\r\nM 22.078125 -6.890625 \r\nL 31.0625 -6.890625 \r\nL 31.0625 -18.3125 \r\nL 22.078125 -18.3125 \r\nz\r\n\" id=\"DejaVuSans-7853\"/>\r\n     <path d=\"M 18.109375 8.203125 \r\nL 18.109375 -20.796875 \r\nL 9.078125 -20.796875 \r\nL 9.078125 54.6875 \r\nL 18.109375 54.6875 \r\nL 18.109375 46.390625 \r\nQ 20.953125 51.265625 25.265625 53.625 \r\nQ 29.59375 56 35.59375 56 \r\nQ 45.5625 56 51.78125 48.09375 \r\nQ 58.015625 40.1875 58.015625 27.296875 \r\nQ 58.015625 14.40625 51.78125 6.484375 \r\nQ 45.5625 -1.421875 35.59375 -1.421875 \r\nQ 29.59375 -1.421875 25.265625 0.953125 \r\nQ 20.953125 3.328125 18.109375 8.203125 \r\nz\r\nM 48.6875 27.296875 \r\nQ 48.6875 37.203125 44.609375 42.84375 \r\nQ 40.53125 48.484375 33.40625 48.484375 \r\nQ 26.265625 48.484375 22.1875 42.84375 \r\nQ 18.109375 37.203125 18.109375 27.296875 \r\nQ 18.109375 17.390625 22.1875 11.75 \r\nQ 26.265625 6.109375 33.40625 6.109375 \r\nQ 40.53125 6.109375 44.609375 11.75 \r\nQ 48.6875 17.390625 48.6875 27.296875 \r\nz\r\n\" id=\"DejaVuSans-112\"/>\r\n     <path d=\"M 8.5 21.578125 \r\nL 8.5 54.6875 \r\nL 17.484375 54.6875 \r\nL 17.484375 21.921875 \r\nQ 17.484375 14.15625 20.5 10.265625 \r\nQ 23.53125 6.390625 29.59375 6.390625 \r\nQ 36.859375 6.390625 41.078125 11.03125 \r\nQ 45.3125 15.671875 45.3125 23.6875 \r\nL 45.3125 54.6875 \r\nL 54.296875 54.6875 \r\nL 54.296875 0 \r\nL 45.3125 0 \r\nL 45.3125 8.40625 \r\nQ 42.046875 3.421875 37.71875 1 \r\nQ 33.40625 -1.421875 27.6875 -1.421875 \r\nQ 18.265625 -1.421875 13.375 4.4375 \r\nQ 8.5 10.296875 8.5 21.578125 \r\nz\r\nM 31.109375 56 \r\nz\r\n\" id=\"DejaVuSans-117\"/>\r\n     <path d=\"M 24.46875 74.609375 \r\nL 33.640625 74.609375 \r\nL 43.953125 61.625 \r\nL 37.15625 61.625 \r\nL 29.046875 70.3125 \r\nL 20.953125 61.625 \r\nL 14.15625 61.625 \r\nz\r\nM 49.515625 84.625 \r\nL 58.546875 84.625 \r\nL 47.40625 71.734375 \r\nL 39.9375 71.734375 \r\nz\r\nM 34.28125 27.484375 \r\nQ 23.390625 27.484375 19.1875 25 \r\nQ 14.984375 22.515625 14.984375 16.5 \r\nQ 14.984375 11.71875 18.140625 8.90625 \r\nQ 21.296875 6.109375 26.703125 6.109375 \r\nQ 34.1875 6.109375 38.703125 11.40625 \r\nQ 43.21875 16.703125 43.21875 25.484375 \r\nL 43.21875 27.484375 \r\nz\r\nM 52.203125 31.203125 \r\nL 52.203125 0 \r\nL 43.21875 0 \r\nL 43.21875 8.296875 \r\nQ 40.140625 3.328125 35.546875 0.953125 \r\nQ 30.953125 -1.421875 24.3125 -1.421875 \r\nQ 15.921875 -1.421875 10.953125 3.296875 \r\nQ 6 8.015625 6 15.921875 \r\nQ 6 25.140625 12.171875 29.828125 \r\nQ 18.359375 34.515625 30.609375 34.515625 \r\nL 43.21875 34.515625 \r\nL 43.21875 35.40625 \r\nQ 43.21875 41.609375 39.140625 45 \r\nQ 35.0625 48.390625 27.6875 48.390625 \r\nQ 23 48.390625 18.546875 47.265625 \r\nQ 14.109375 46.140625 10.015625 43.890625 \r\nL 10.015625 52.203125 \r\nQ 14.9375 54.109375 19.578125 55.046875 \r\nQ 24.21875 56 28.609375 56 \r\nQ 40.484375 56 46.34375 49.84375 \r\nQ 52.203125 43.703125 52.203125 31.203125 \r\nz\r\n\" id=\"DejaVuSans-7845\"/>\r\n     <path d=\"M 32.171875 -5.078125 \r\nQ 28.375 -14.84375 24.75 -17.8125 \r\nQ 21.140625 -20.796875 15.09375 -20.796875 \r\nL 7.90625 -20.796875 \r\nL 7.90625 -13.28125 \r\nL 13.1875 -13.28125 \r\nQ 16.890625 -13.28125 18.9375 -11.515625 \r\nQ 21 -9.765625 23.484375 -3.21875 \r\nL 25.09375 0.875 \r\nL 2.984375 54.6875 \r\nL 12.5 54.6875 \r\nL 29.59375 11.921875 \r\nL 46.6875 54.6875 \r\nL 56.203125 54.6875 \r\nz\r\n\" id=\"DejaVuSans-121\"/>\r\n     <path d=\"M 27.203125 -6.890625 \r\nL 36.1875 -6.890625 \r\nL 36.1875 -18.3125 \r\nL 27.203125 -18.3125 \r\nz\r\nM 56.203125 29.59375 \r\nL 56.203125 25.203125 \r\nL 14.890625 25.203125 \r\nQ 15.484375 15.921875 20.484375 11.0625 \r\nQ 25.484375 6.203125 34.421875 6.203125 \r\nQ 39.59375 6.203125 44.453125 7.46875 \r\nQ 49.3125 8.734375 54.109375 11.28125 \r\nL 54.109375 2.78125 \r\nQ 49.265625 0.734375 44.1875 -0.34375 \r\nQ 39.109375 -1.421875 33.890625 -1.421875 \r\nQ 20.796875 -1.421875 13.15625 6.1875 \r\nQ 5.515625 13.8125 5.515625 26.8125 \r\nQ 5.515625 40.234375 12.765625 48.109375 \r\nQ 20.015625 56 32.328125 56 \r\nQ 43.359375 56 49.78125 48.890625 \r\nQ 56.203125 41.796875 56.203125 29.59375 \r\nz\r\nM 47.21875 32.234375 \r\nQ 47.125 39.59375 43.09375 43.984375 \r\nQ 39.0625 48.390625 32.421875 48.390625 \r\nQ 24.90625 48.390625 20.390625 44.140625 \r\nQ 15.875 39.890625 15.1875 32.171875 \r\nz\r\nM 27.203125 -6.890625 \r\nL 36.1875 -6.890625 \r\nL 36.1875 -18.3125 \r\nL 27.203125 -18.3125 \r\nz\r\nM 28.171875 79.984375 \r\nL 35.40625 79.984375 \r\nL 47.359375 61.625 \r\nL 40.578125 61.625 \r\nL 31.78125 73.578125 \r\nL 23 61.625 \r\nL 16.21875 61.625 \r\nz\r\n\" id=\"DejaVuSans-7879\"/>\r\n    </defs>\r\n    <g transform=\"translate(218.9375 24.125)scale(0.2 -0.2)\">\r\n     <use xlink:href=\"#DejaVuSans-84\"/>\r\n     <use x=\"61.083984\" xlink:href=\"#DejaVuSans-104\"/>\r\n     <use x=\"124.462891\" xlink:href=\"#DejaVuSans-7889\"/>\r\n     <use x=\"185.644531\" xlink:href=\"#DejaVuSans-110\"/>\r\n     <use x=\"249.023438\" xlink:href=\"#DejaVuSans-103\"/>\r\n     <use x=\"312.5\" xlink:href=\"#DejaVuSans-32\"/>\r\n     <use x=\"344.287109\" xlink:href=\"#DejaVuSans-107\"/>\r\n     <use x=\"398.572266\" xlink:href=\"#DejaVuSans-234\"/>\r\n     <use x=\"460.095703\" xlink:href=\"#DejaVuSans-32\"/>\r\n     <use x=\"491.882812\" xlink:href=\"#DejaVuSans-108\"/>\r\n     <use x=\"519.666016\" xlink:href=\"#DejaVuSans-432\"/>\r\n     <use x=\"583.044922\" xlink:href=\"#DejaVuSans-7907\"/>\r\n     <use x=\"644.226562\" xlink:href=\"#DejaVuSans-116\"/>\r\n     <use x=\"683.435547\" xlink:href=\"#DejaVuSans-32\"/>\r\n     <use x=\"715.222656\" xlink:href=\"#DejaVuSans-273\"/>\r\n     <use x=\"778.699219\" xlink:href=\"#DejaVuSans-225\"/>\r\n     <use x=\"839.978516\" xlink:href=\"#DejaVuSans-110\"/>\r\n     <use x=\"903.357422\" xlink:href=\"#DejaVuSans-104\"/>\r\n     <use x=\"966.736328\" xlink:href=\"#DejaVuSans-32\"/>\r\n     <use x=\"998.523438\" xlink:href=\"#DejaVuSans-103\"/>\r\n     <use x=\"1062\" xlink:href=\"#DejaVuSans-105\"/>\r\n     <use x=\"1089.783203\" xlink:href=\"#DejaVuSans-225\"/>\r\n     <use x=\"1151.0625\" xlink:href=\"#DejaVuSans-32\"/>\r\n     <use x=\"1182.849609\" xlink:href=\"#DejaVuSans-116\"/>\r\n     <use x=\"1222.058594\" xlink:href=\"#DejaVuSans-114\"/>\r\n     <use x=\"1260.921875\" xlink:href=\"#DejaVuSans-234\"/>\r\n     <use x=\"1322.445312\" xlink:href=\"#DejaVuSans-110\"/>\r\n     <use x=\"1385.824219\" xlink:href=\"#DejaVuSans-32\"/>\r\n     <use x=\"1417.611328\" xlink:href=\"#DejaVuSans-116\"/>\r\n     <use x=\"1456.820312\" xlink:href=\"#DejaVuSans-7853\"/>\r\n     <use x=\"1518.099609\" xlink:href=\"#DejaVuSans-112\"/>\r\n     <use x=\"1581.576172\" xlink:href=\"#DejaVuSans-32\"/>\r\n     <use x=\"1613.363281\" xlink:href=\"#DejaVuSans-104\"/>\r\n     <use x=\"1676.742188\" xlink:href=\"#DejaVuSans-117\"/>\r\n     <use x=\"1740.121094\" xlink:href=\"#DejaVuSans-7845\"/>\r\n     <use x=\"1801.400391\" xlink:href=\"#DejaVuSans-110\"/>\r\n     <use x=\"1864.779297\" xlink:href=\"#DejaVuSans-32\"/>\r\n     <use x=\"1896.566406\" xlink:href=\"#DejaVuSans-108\"/>\r\n     <use x=\"1924.349609\" xlink:href=\"#DejaVuSans-117\"/>\r\n     <use x=\"1987.728516\" xlink:href=\"#DejaVuSans-121\"/>\r\n     <use x=\"2046.908203\" xlink:href=\"#DejaVuSans-7879\"/>\r\n     <use x=\"2108.431641\" xlink:href=\"#DejaVuSans-110\"/>\r\n    </g>\r\n   </g>\r\n  </g>\r\n </g>\r\n <defs>\r\n  <clipPath id=\"pc45ccb8b90\">\r\n   <rect height=\"434.88\" width=\"669.6\" x=\"101.314063\" y=\"30.125\"/>\r\n  </clipPath>\r\n </defs>\r\n</svg>\r\n",
      "image/png": "[encoded data removed]"
     },
     "metadata": {
      "needs_background": "light"
     }
    }
   ],
   "source": [
    "plt.figure(figsize = (12, 8))\n",
    "ax = sns.countplot(x=\"stars\", data=train_data)\n",
    "\n",
    "ax.set_yticklabels([num for num in ax.get_yticks()])\n",
    "\n",
    "plt.tick_params(labelsize = 15)\n",
    "plt.title(\"Thống kê lượt đánh giá trên tập huấn luyện\", fontsize = 20)\n",
    "plt.xlabel(\"Ratings\", fontsize = 20)\n",
    "plt.ylabel(\"Số đánh giá\", fontsize = 20)\n",
    "plt.show()"
   ]
  },
  {
   "cell_type": "code",
   "execution_count": 13,
   "metadata": {},
   "outputs": [
    {
     "output_type": "display_data",
     "data": {
      "text/plain": "<Figure size 864x576 with 1 Axes>",
      "image/svg+xml": "<?xml version=\"1.0\" encoding=\"utf-8\" standalone=\"no\"?>\r\n<!DOCTYPE svg PUBLIC \"-//W3C//DTD SVG 1.1//EN\"\r\n  \"http://www.w3.org/Graphics/SVG/1.1/DTD/svg11.dtd\">\r\n<!-- Created with matplotlib (https://matplotlib.org/) -->\r\n<svg height=\"517.397187pt\" version=\"1.1\" viewBox=\"0 0 768.570312 517.397187\" width=\"768.570312pt\" xmlns=\"http://www.w3.org/2000/svg\" xmlns:xlink=\"http://www.w3.org/1999/xlink\">\r\n <defs>\r\n  <style type=\"text/css\">\r\n*{stroke-linecap:butt;stroke-linejoin:round;}\r\n  </style>\r\n </defs>\r\n <g id=\"figure_1\">\r\n  <g id=\"patch_1\">\r\n   <path d=\"M 0 517.397187 \r\nL 768.570312 517.397187 \r\nL 768.570312 0 \r\nL 0 0 \r\nz\r\n\" style=\"fill:none;\"/>\r\n  </g>\r\n  <g id=\"axes_1\">\r\n   <g id=\"patch_2\">\r\n    <path d=\"M 91.770313 465.32375 \r\nL 761.370313 465.32375 \r\nL 761.370313 30.44375 \r\nL 91.770313 30.44375 \r\nz\r\n\" style=\"fill:#ffffff;\"/>\r\n   </g>\r\n   <g id=\"patch_3\">\r\n    <path clip-path=\"url(#pc818a03135)\" d=\"M 105.162313 465.32375 \r\nL 212.298313 465.32375 \r\nL 212.298313 460.846875 \r\nL 105.162313 460.846875 \r\nz\r\n\" style=\"fill:#3274a1;\"/>\r\n   </g>\r\n   <g id=\"patch_4\">\r\n    <path clip-path=\"url(#pc818a03135)\" d=\"M 239.082313 465.32375 \r\nL 346.218313 465.32375 \r\nL 346.218313 460.725878 \r\nL 239.082313 460.725878 \r\nz\r\n\" style=\"fill:#e1812c;\"/>\r\n   </g>\r\n   <g id=\"patch_5\">\r\n    <path clip-path=\"url(#pc818a03135)\" d=\"M 373.002313 465.32375 \r\nL 480.138313 465.32375 \r\nL 480.138313 444.270338 \r\nL 373.002313 444.270338 \r\nz\r\n\" style=\"fill:#3a923a;\"/>\r\n   </g>\r\n   <g id=\"patch_6\">\r\n    <path clip-path=\"url(#pc818a03135)\" d=\"M 506.922313 465.32375 \r\nL 614.058313 465.32375 \r\nL 614.058313 405.18843 \r\nL 506.922313 405.18843 \r\nz\r\n\" style=\"fill:#c03d3e;\"/>\r\n   </g>\r\n   <g id=\"patch_7\">\r\n    <path clip-path=\"url(#pc818a03135)\" d=\"M 640.842313 465.32375 \r\nL 747.978313 465.32375 \r\nL 747.978313 51.152321 \r\nL 640.842313 51.152321 \r\nz\r\n\" style=\"fill:#9372b2;\"/>\r\n   </g>\r\n   <g id=\"matplotlib.axis_1\">\r\n    <g id=\"xtick_1\">\r\n     <g id=\"line2d_1\">\r\n      <defs>\r\n       <path d=\"M 0 0 \r\nL 0 3.5 \r\n\" id=\"m99f17b9778\" style=\"stroke:#000000;stroke-width:0.8;\"/>\r\n      </defs>\r\n      <g>\r\n       <use style=\"stroke:#000000;stroke-width:0.8;\" x=\"158.730313\" xlink:href=\"#m99f17b9778\" y=\"465.32375\"/>\r\n      </g>\r\n     </g>\r\n     <g id=\"text_1\">\r\n      <!-- 1 -->\r\n      <defs>\r\n       <path d=\"M 12.40625 8.296875 \r\nL 28.515625 8.296875 \r\nL 28.515625 63.921875 \r\nL 10.984375 60.40625 \r\nL 10.984375 69.390625 \r\nL 28.421875 72.90625 \r\nL 38.28125 72.90625 \r\nL 38.28125 8.296875 \r\nL 54.390625 8.296875 \r\nL 54.390625 0 \r\nL 12.40625 0 \r\nz\r\n\" id=\"DejaVuSans-49\"/>\r\n      </defs>\r\n      <g transform=\"translate(153.958438 483.721406)scale(0.15 -0.15)\">\r\n       <use xlink:href=\"#DejaVuSans-49\"/>\r\n      </g>\r\n     </g>\r\n    </g>\r\n    <g id=\"xtick_2\">\r\n     <g id=\"line2d_2\">\r\n      <g>\r\n       <use style=\"stroke:#000000;stroke-width:0.8;\" x=\"292.650313\" xlink:href=\"#m99f17b9778\" y=\"465.32375\"/>\r\n      </g>\r\n     </g>\r\n     <g id=\"text_2\">\r\n      <!-- 2 -->\r\n      <defs>\r\n       <path d=\"M 19.1875 8.296875 \r\nL 53.609375 8.296875 \r\nL 53.609375 0 \r\nL 7.328125 0 \r\nL 7.328125 8.296875 \r\nQ 12.9375 14.109375 22.625 23.890625 \r\nQ 32.328125 33.6875 34.8125 36.53125 \r\nQ 39.546875 41.84375 41.421875 45.53125 \r\nQ 43.3125 49.21875 43.3125 52.78125 \r\nQ 43.3125 58.59375 39.234375 62.25 \r\nQ 35.15625 65.921875 28.609375 65.921875 \r\nQ 23.96875 65.921875 18.8125 64.3125 \r\nQ 13.671875 62.703125 7.8125 59.421875 \r\nL 7.8125 69.390625 \r\nQ 13.765625 71.78125 18.9375 73 \r\nQ 24.125 74.21875 28.421875 74.21875 \r\nQ 39.75 74.21875 46.484375 68.546875 \r\nQ 53.21875 62.890625 53.21875 53.421875 \r\nQ 53.21875 48.921875 51.53125 44.890625 \r\nQ 49.859375 40.875 45.40625 35.40625 \r\nQ 44.1875 33.984375 37.640625 27.21875 \r\nQ 31.109375 20.453125 19.1875 8.296875 \r\nz\r\n\" id=\"DejaVuSans-50\"/>\r\n      </defs>\r\n      <g transform=\"translate(287.878438 483.721406)scale(0.15 -0.15)\">\r\n       <use xlink:href=\"#DejaVuSans-50\"/>\r\n      </g>\r\n     </g>\r\n    </g>\r\n    <g id=\"xtick_3\">\r\n     <g id=\"line2d_3\">\r\n      <g>\r\n       <use style=\"stroke:#000000;stroke-width:0.8;\" x=\"426.570313\" xlink:href=\"#m99f17b9778\" y=\"465.32375\"/>\r\n      </g>\r\n     </g>\r\n     <g id=\"text_3\">\r\n      <!-- 3 -->\r\n      <defs>\r\n       <path d=\"M 40.578125 39.3125 \r\nQ 47.65625 37.796875 51.625 33 \r\nQ 55.609375 28.21875 55.609375 21.1875 \r\nQ 55.609375 10.40625 48.1875 4.484375 \r\nQ 40.765625 -1.421875 27.09375 -1.421875 \r\nQ 22.515625 -1.421875 17.65625 -0.515625 \r\nQ 12.796875 0.390625 7.625 2.203125 \r\nL 7.625 11.71875 \r\nQ 11.71875 9.328125 16.59375 8.109375 \r\nQ 21.484375 6.890625 26.8125 6.890625 \r\nQ 36.078125 6.890625 40.9375 10.546875 \r\nQ 45.796875 14.203125 45.796875 21.1875 \r\nQ 45.796875 27.640625 41.28125 31.265625 \r\nQ 36.765625 34.90625 28.71875 34.90625 \r\nL 20.21875 34.90625 \r\nL 20.21875 43.015625 \r\nL 29.109375 43.015625 \r\nQ 36.375 43.015625 40.234375 45.921875 \r\nQ 44.09375 48.828125 44.09375 54.296875 \r\nQ 44.09375 59.90625 40.109375 62.90625 \r\nQ 36.140625 65.921875 28.71875 65.921875 \r\nQ 24.65625 65.921875 20.015625 65.03125 \r\nQ 15.375 64.15625 9.8125 62.3125 \r\nL 9.8125 71.09375 \r\nQ 15.4375 72.65625 20.34375 73.4375 \r\nQ 25.25 74.21875 29.59375 74.21875 \r\nQ 40.828125 74.21875 47.359375 69.109375 \r\nQ 53.90625 64.015625 53.90625 55.328125 \r\nQ 53.90625 49.265625 50.4375 45.09375 \r\nQ 46.96875 40.921875 40.578125 39.3125 \r\nz\r\n\" id=\"DejaVuSans-51\"/>\r\n      </defs>\r\n      <g transform=\"translate(421.798438 483.721406)scale(0.15 -0.15)\">\r\n       <use xlink:href=\"#DejaVuSans-51\"/>\r\n      </g>\r\n     </g>\r\n    </g>\r\n    <g id=\"xtick_4\">\r\n     <g id=\"line2d_4\">\r\n      <g>\r\n       <use style=\"stroke:#000000;stroke-width:0.8;\" x=\"560.490313\" xlink:href=\"#m99f17b9778\" y=\"465.32375\"/>\r\n      </g>\r\n     </g>\r\n     <g id=\"text_4\">\r\n      <!-- 4 -->\r\n      <defs>\r\n       <path d=\"M 37.796875 64.3125 \r\nL 12.890625 25.390625 \r\nL 37.796875 25.390625 \r\nz\r\nM 35.203125 72.90625 \r\nL 47.609375 72.90625 \r\nL 47.609375 25.390625 \r\nL 58.015625 25.390625 \r\nL 58.015625 17.1875 \r\nL 47.609375 17.1875 \r\nL 47.609375 0 \r\nL 37.796875 0 \r\nL 37.796875 17.1875 \r\nL 4.890625 17.1875 \r\nL 4.890625 26.703125 \r\nz\r\n\" id=\"DejaVuSans-52\"/>\r\n      </defs>\r\n      <g transform=\"translate(555.718438 483.721406)scale(0.15 -0.15)\">\r\n       <use xlink:href=\"#DejaVuSans-52\"/>\r\n      </g>\r\n     </g>\r\n    </g>\r\n    <g id=\"xtick_5\">\r\n     <g id=\"line2d_5\">\r\n      <g>\r\n       <use style=\"stroke:#000000;stroke-width:0.8;\" x=\"694.410313\" xlink:href=\"#m99f17b9778\" y=\"465.32375\"/>\r\n      </g>\r\n     </g>\r\n     <g id=\"text_5\">\r\n      <!-- 5 -->\r\n      <defs>\r\n       <path d=\"M 10.796875 72.90625 \r\nL 49.515625 72.90625 \r\nL 49.515625 64.59375 \r\nL 19.828125 64.59375 \r\nL 19.828125 46.734375 \r\nQ 21.96875 47.46875 24.109375 47.828125 \r\nQ 26.265625 48.1875 28.421875 48.1875 \r\nQ 40.625 48.1875 47.75 41.5 \r\nQ 54.890625 34.8125 54.890625 23.390625 \r\nQ 54.890625 11.625 47.5625 5.09375 \r\nQ 40.234375 -1.421875 26.90625 -1.421875 \r\nQ 22.3125 -1.421875 17.546875 -0.640625 \r\nQ 12.796875 0.140625 7.71875 1.703125 \r\nL 7.71875 11.625 \r\nQ 12.109375 9.234375 16.796875 8.0625 \r\nQ 21.484375 6.890625 26.703125 6.890625 \r\nQ 35.15625 6.890625 40.078125 11.328125 \r\nQ 45.015625 15.765625 45.015625 23.390625 \r\nQ 45.015625 31 40.078125 35.4375 \r\nQ 35.15625 39.890625 26.703125 39.890625 \r\nQ 22.75 39.890625 18.8125 39.015625 \r\nQ 14.890625 38.140625 10.796875 36.28125 \r\nz\r\n\" id=\"DejaVuSans-53\"/>\r\n      </defs>\r\n      <g transform=\"translate(689.638438 483.721406)scale(0.15 -0.15)\">\r\n       <use xlink:href=\"#DejaVuSans-53\"/>\r\n      </g>\r\n     </g>\r\n    </g>\r\n    <g id=\"text_6\">\r\n     <!-- Ratings -->\r\n     <defs>\r\n      <path d=\"M 44.390625 34.1875 \r\nQ 47.5625 33.109375 50.5625 29.59375 \r\nQ 53.5625 26.078125 56.59375 19.921875 \r\nL 66.609375 0 \r\nL 56 0 \r\nL 46.6875 18.703125 \r\nQ 43.0625 26.03125 39.671875 28.421875 \r\nQ 36.28125 30.8125 30.421875 30.8125 \r\nL 19.671875 30.8125 \r\nL 19.671875 0 \r\nL 9.8125 0 \r\nL 9.8125 72.90625 \r\nL 32.078125 72.90625 \r\nQ 44.578125 72.90625 50.734375 67.671875 \r\nQ 56.890625 62.453125 56.890625 51.90625 \r\nQ 56.890625 45.015625 53.6875 40.46875 \r\nQ 50.484375 35.9375 44.390625 34.1875 \r\nz\r\nM 19.671875 64.796875 \r\nL 19.671875 38.921875 \r\nL 32.078125 38.921875 \r\nQ 39.203125 38.921875 42.84375 42.21875 \r\nQ 46.484375 45.515625 46.484375 51.90625 \r\nQ 46.484375 58.296875 42.84375 61.546875 \r\nQ 39.203125 64.796875 32.078125 64.796875 \r\nz\r\n\" id=\"DejaVuSans-82\"/>\r\n      <path d=\"M 34.28125 27.484375 \r\nQ 23.390625 27.484375 19.1875 25 \r\nQ 14.984375 22.515625 14.984375 16.5 \r\nQ 14.984375 11.71875 18.140625 8.90625 \r\nQ 21.296875 6.109375 26.703125 6.109375 \r\nQ 34.1875 6.109375 38.703125 11.40625 \r\nQ 43.21875 16.703125 43.21875 25.484375 \r\nL 43.21875 27.484375 \r\nz\r\nM 52.203125 31.203125 \r\nL 52.203125 0 \r\nL 43.21875 0 \r\nL 43.21875 8.296875 \r\nQ 40.140625 3.328125 35.546875 0.953125 \r\nQ 30.953125 -1.421875 24.3125 -1.421875 \r\nQ 15.921875 -1.421875 10.953125 3.296875 \r\nQ 6 8.015625 6 15.921875 \r\nQ 6 25.140625 12.171875 29.828125 \r\nQ 18.359375 34.515625 30.609375 34.515625 \r\nL 43.21875 34.515625 \r\nL 43.21875 35.40625 \r\nQ 43.21875 41.609375 39.140625 45 \r\nQ 35.0625 48.390625 27.6875 48.390625 \r\nQ 23 48.390625 18.546875 47.265625 \r\nQ 14.109375 46.140625 10.015625 43.890625 \r\nL 10.015625 52.203125 \r\nQ 14.9375 54.109375 19.578125 55.046875 \r\nQ 24.21875 56 28.609375 56 \r\nQ 40.484375 56 46.34375 49.84375 \r\nQ 52.203125 43.703125 52.203125 31.203125 \r\nz\r\n\" id=\"DejaVuSans-97\"/>\r\n      <path d=\"M 18.3125 70.21875 \r\nL 18.3125 54.6875 \r\nL 36.8125 54.6875 \r\nL 36.8125 47.703125 \r\nL 18.3125 47.703125 \r\nL 18.3125 18.015625 \r\nQ 18.3125 11.328125 20.140625 9.421875 \r\nQ 21.96875 7.515625 27.59375 7.515625 \r\nL 36.8125 7.515625 \r\nL 36.8125 0 \r\nL 27.59375 0 \r\nQ 17.1875 0 13.234375 3.875 \r\nQ 9.28125 7.765625 9.28125 18.015625 \r\nL 9.28125 47.703125 \r\nL 2.6875 47.703125 \r\nL 2.6875 54.6875 \r\nL 9.28125 54.6875 \r\nL 9.28125 70.21875 \r\nz\r\n\" id=\"DejaVuSans-116\"/>\r\n      <path d=\"M 9.421875 54.6875 \r\nL 18.40625 54.6875 \r\nL 18.40625 0 \r\nL 9.421875 0 \r\nz\r\nM 9.421875 75.984375 \r\nL 18.40625 75.984375 \r\nL 18.40625 64.59375 \r\nL 9.421875 64.59375 \r\nz\r\n\" id=\"DejaVuSans-105\"/>\r\n      <path d=\"M 54.890625 33.015625 \r\nL 54.890625 0 \r\nL 45.90625 0 \r\nL 45.90625 32.71875 \r\nQ 45.90625 40.484375 42.875 44.328125 \r\nQ 39.84375 48.1875 33.796875 48.1875 \r\nQ 26.515625 48.1875 22.3125 43.546875 \r\nQ 18.109375 38.921875 18.109375 30.90625 \r\nL 18.109375 0 \r\nL 9.078125 0 \r\nL 9.078125 54.6875 \r\nL 18.109375 54.6875 \r\nL 18.109375 46.1875 \r\nQ 21.34375 51.125 25.703125 53.5625 \r\nQ 30.078125 56 35.796875 56 \r\nQ 45.21875 56 50.046875 50.171875 \r\nQ 54.890625 44.34375 54.890625 33.015625 \r\nz\r\n\" id=\"DejaVuSans-110\"/>\r\n      <path d=\"M 45.40625 27.984375 \r\nQ 45.40625 37.75 41.375 43.109375 \r\nQ 37.359375 48.484375 30.078125 48.484375 \r\nQ 22.859375 48.484375 18.828125 43.109375 \r\nQ 14.796875 37.75 14.796875 27.984375 \r\nQ 14.796875 18.265625 18.828125 12.890625 \r\nQ 22.859375 7.515625 30.078125 7.515625 \r\nQ 37.359375 7.515625 41.375 12.890625 \r\nQ 45.40625 18.265625 45.40625 27.984375 \r\nz\r\nM 54.390625 6.78125 \r\nQ 54.390625 -7.171875 48.1875 -13.984375 \r\nQ 42 -20.796875 29.203125 -20.796875 \r\nQ 24.46875 -20.796875 20.265625 -20.09375 \r\nQ 16.0625 -19.390625 12.109375 -17.921875 \r\nL 12.109375 -9.1875 \r\nQ 16.0625 -11.328125 19.921875 -12.34375 \r\nQ 23.78125 -13.375 27.78125 -13.375 \r\nQ 36.625 -13.375 41.015625 -8.765625 \r\nQ 45.40625 -4.15625 45.40625 5.171875 \r\nL 45.40625 9.625 \r\nQ 42.625 4.78125 38.28125 2.390625 \r\nQ 33.9375 0 27.875 0 \r\nQ 17.828125 0 11.671875 7.65625 \r\nQ 5.515625 15.328125 5.515625 27.984375 \r\nQ 5.515625 40.671875 11.671875 48.328125 \r\nQ 17.828125 56 27.875 56 \r\nQ 33.9375 56 38.28125 53.609375 \r\nQ 42.625 51.21875 45.40625 46.390625 \r\nL 45.40625 54.6875 \r\nL 54.390625 54.6875 \r\nz\r\n\" id=\"DejaVuSans-103\"/>\r\n      <path d=\"M 44.28125 53.078125 \r\nL 44.28125 44.578125 \r\nQ 40.484375 46.53125 36.375 47.5 \r\nQ 32.28125 48.484375 27.875 48.484375 \r\nQ 21.1875 48.484375 17.84375 46.4375 \r\nQ 14.5 44.390625 14.5 40.28125 \r\nQ 14.5 37.15625 16.890625 35.375 \r\nQ 19.28125 33.59375 26.515625 31.984375 \r\nL 29.59375 31.296875 \r\nQ 39.15625 29.25 43.1875 25.515625 \r\nQ 47.21875 21.78125 47.21875 15.09375 \r\nQ 47.21875 7.46875 41.1875 3.015625 \r\nQ 35.15625 -1.421875 24.609375 -1.421875 \r\nQ 20.21875 -1.421875 15.453125 -0.5625 \r\nQ 10.6875 0.296875 5.421875 2 \r\nL 5.421875 11.28125 \r\nQ 10.40625 8.6875 15.234375 7.390625 \r\nQ 20.0625 6.109375 24.8125 6.109375 \r\nQ 31.15625 6.109375 34.5625 8.28125 \r\nQ 37.984375 10.453125 37.984375 14.40625 \r\nQ 37.984375 18.0625 35.515625 20.015625 \r\nQ 33.0625 21.96875 24.703125 23.78125 \r\nL 21.578125 24.515625 \r\nQ 13.234375 26.265625 9.515625 29.90625 \r\nQ 5.8125 33.546875 5.8125 39.890625 \r\nQ 5.8125 47.609375 11.28125 51.796875 \r\nQ 16.75 56 26.8125 56 \r\nQ 31.78125 56 36.171875 55.265625 \r\nQ 40.578125 54.546875 44.28125 53.078125 \r\nz\r\n\" id=\"DejaVuSans-115\"/>\r\n     </defs>\r\n     <g transform=\"translate(389.125 506.037812)scale(0.2 -0.2)\">\r\n      <use xlink:href=\"#DejaVuSans-82\"/>\r\n      <use x=\"67.232422\" xlink:href=\"#DejaVuSans-97\"/>\r\n      <use x=\"128.511719\" xlink:href=\"#DejaVuSans-116\"/>\r\n      <use x=\"167.720703\" xlink:href=\"#DejaVuSans-105\"/>\r\n      <use x=\"195.503906\" xlink:href=\"#DejaVuSans-110\"/>\r\n      <use x=\"258.882812\" xlink:href=\"#DejaVuSans-103\"/>\r\n      <use x=\"322.359375\" xlink:href=\"#DejaVuSans-115\"/>\r\n     </g>\r\n    </g>\r\n   </g>\r\n   <g id=\"matplotlib.axis_2\">\r\n    <g id=\"ytick_1\">\r\n     <g id=\"line2d_6\">\r\n      <defs>\r\n       <path d=\"M 0 0 \r\nL -3.5 0 \r\n\" id=\"m17f3d95ee3\" style=\"stroke:#000000;stroke-width:0.8;\"/>\r\n      </defs>\r\n      <g>\r\n       <use style=\"stroke:#000000;stroke-width:0.8;\" x=\"91.770313\" xlink:href=\"#m17f3d95ee3\" y=\"465.32375\"/>\r\n      </g>\r\n     </g>\r\n     <g id=\"text_7\">\r\n      <!-- 0.0 -->\r\n      <defs>\r\n       <path d=\"M 31.78125 66.40625 \r\nQ 24.171875 66.40625 20.328125 58.90625 \r\nQ 16.5 51.421875 16.5 36.375 \r\nQ 16.5 21.390625 20.328125 13.890625 \r\nQ 24.171875 6.390625 31.78125 6.390625 \r\nQ 39.453125 6.390625 43.28125 13.890625 \r\nQ 47.125 21.390625 47.125 36.375 \r\nQ 47.125 51.421875 43.28125 58.90625 \r\nQ 39.453125 66.40625 31.78125 66.40625 \r\nz\r\nM 31.78125 74.21875 \r\nQ 44.046875 74.21875 50.515625 64.515625 \r\nQ 56.984375 54.828125 56.984375 36.375 \r\nQ 56.984375 17.96875 50.515625 8.265625 \r\nQ 44.046875 -1.421875 31.78125 -1.421875 \r\nQ 19.53125 -1.421875 13.0625 8.265625 \r\nQ 6.59375 17.96875 6.59375 36.375 \r\nQ 6.59375 54.828125 13.0625 64.515625 \r\nQ 19.53125 74.21875 31.78125 74.21875 \r\nz\r\n\" id=\"DejaVuSans-48\"/>\r\n       <path d=\"M 10.6875 12.40625 \r\nL 21 12.40625 \r\nL 21 0 \r\nL 10.6875 0 \r\nz\r\n\" id=\"DejaVuSans-46\"/>\r\n      </defs>\r\n      <g transform=\"translate(60.915625 471.022578)scale(0.15 -0.15)\">\r\n       <use xlink:href=\"#DejaVuSans-48\"/>\r\n       <use x=\"63.623047\" xlink:href=\"#DejaVuSans-46\"/>\r\n       <use x=\"95.410156\" xlink:href=\"#DejaVuSans-48\"/>\r\n      </g>\r\n     </g>\r\n    </g>\r\n    <g id=\"ytick_2\">\r\n     <g id=\"line2d_7\">\r\n      <g>\r\n       <use style=\"stroke:#000000;stroke-width:0.8;\" x=\"91.770313\" xlink:href=\"#m17f3d95ee3\" y=\"404.82544\"/>\r\n      </g>\r\n     </g>\r\n     <g id=\"text_8\">\r\n      <!-- 500.0 -->\r\n      <g transform=\"translate(41.828125 410.524268)scale(0.15 -0.15)\">\r\n       <use xlink:href=\"#DejaVuSans-53\"/>\r\n       <use x=\"63.623047\" xlink:href=\"#DejaVuSans-48\"/>\r\n       <use x=\"127.246094\" xlink:href=\"#DejaVuSans-48\"/>\r\n       <use x=\"190.869141\" xlink:href=\"#DejaVuSans-46\"/>\r\n       <use x=\"222.65625\" xlink:href=\"#DejaVuSans-48\"/>\r\n      </g>\r\n     </g>\r\n    </g>\r\n    <g id=\"ytick_3\">\r\n     <g id=\"line2d_8\">\r\n      <g>\r\n       <use style=\"stroke:#000000;stroke-width:0.8;\" x=\"91.770313\" xlink:href=\"#m17f3d95ee3\" y=\"344.32713\"/>\r\n      </g>\r\n     </g>\r\n     <g id=\"text_9\">\r\n      <!-- 1000.0 -->\r\n      <g transform=\"translate(32.284375 350.025959)scale(0.15 -0.15)\">\r\n       <use xlink:href=\"#DejaVuSans-49\"/>\r\n       <use x=\"63.623047\" xlink:href=\"#DejaVuSans-48\"/>\r\n       <use x=\"127.246094\" xlink:href=\"#DejaVuSans-48\"/>\r\n       <use x=\"190.869141\" xlink:href=\"#DejaVuSans-48\"/>\r\n       <use x=\"254.492188\" xlink:href=\"#DejaVuSans-46\"/>\r\n       <use x=\"286.279297\" xlink:href=\"#DejaVuSans-48\"/>\r\n      </g>\r\n     </g>\r\n    </g>\r\n    <g id=\"ytick_4\">\r\n     <g id=\"line2d_9\">\r\n      <g>\r\n       <use style=\"stroke:#000000;stroke-width:0.8;\" x=\"91.770313\" xlink:href=\"#m17f3d95ee3\" y=\"283.828821\"/>\r\n      </g>\r\n     </g>\r\n     <g id=\"text_10\">\r\n      <!-- 1500.0 -->\r\n      <g transform=\"translate(32.284375 289.527649)scale(0.15 -0.15)\">\r\n       <use xlink:href=\"#DejaVuSans-49\"/>\r\n       <use x=\"63.623047\" xlink:href=\"#DejaVuSans-53\"/>\r\n       <use x=\"127.246094\" xlink:href=\"#DejaVuSans-48\"/>\r\n       <use x=\"190.869141\" xlink:href=\"#DejaVuSans-48\"/>\r\n       <use x=\"254.492188\" xlink:href=\"#DejaVuSans-46\"/>\r\n       <use x=\"286.279297\" xlink:href=\"#DejaVuSans-48\"/>\r\n      </g>\r\n     </g>\r\n    </g>\r\n    <g id=\"ytick_5\">\r\n     <g id=\"line2d_10\">\r\n      <g>\r\n       <use style=\"stroke:#000000;stroke-width:0.8;\" x=\"91.770313\" xlink:href=\"#m17f3d95ee3\" y=\"223.330511\"/>\r\n      </g>\r\n     </g>\r\n     <g id=\"text_11\">\r\n      <!-- 2000.0 -->\r\n      <g transform=\"translate(32.284375 229.029339)scale(0.15 -0.15)\">\r\n       <use xlink:href=\"#DejaVuSans-50\"/>\r\n       <use x=\"63.623047\" xlink:href=\"#DejaVuSans-48\"/>\r\n       <use x=\"127.246094\" xlink:href=\"#DejaVuSans-48\"/>\r\n       <use x=\"190.869141\" xlink:href=\"#DejaVuSans-48\"/>\r\n       <use x=\"254.492188\" xlink:href=\"#DejaVuSans-46\"/>\r\n       <use x=\"286.279297\" xlink:href=\"#DejaVuSans-48\"/>\r\n      </g>\r\n     </g>\r\n    </g>\r\n    <g id=\"ytick_6\">\r\n     <g id=\"line2d_11\">\r\n      <g>\r\n       <use style=\"stroke:#000000;stroke-width:0.8;\" x=\"91.770313\" xlink:href=\"#m17f3d95ee3\" y=\"162.832201\"/>\r\n      </g>\r\n     </g>\r\n     <g id=\"text_12\">\r\n      <!-- 2500.0 -->\r\n      <g transform=\"translate(32.284375 168.531029)scale(0.15 -0.15)\">\r\n       <use xlink:href=\"#DejaVuSans-50\"/>\r\n       <use x=\"63.623047\" xlink:href=\"#DejaVuSans-53\"/>\r\n       <use x=\"127.246094\" xlink:href=\"#DejaVuSans-48\"/>\r\n       <use x=\"190.869141\" xlink:href=\"#DejaVuSans-48\"/>\r\n       <use x=\"254.492188\" xlink:href=\"#DejaVuSans-46\"/>\r\n       <use x=\"286.279297\" xlink:href=\"#DejaVuSans-48\"/>\r\n      </g>\r\n     </g>\r\n    </g>\r\n    <g id=\"ytick_7\">\r\n     <g id=\"line2d_12\">\r\n      <g>\r\n       <use style=\"stroke:#000000;stroke-width:0.8;\" x=\"91.770313\" xlink:href=\"#m17f3d95ee3\" y=\"102.333891\"/>\r\n      </g>\r\n     </g>\r\n     <g id=\"text_13\">\r\n      <!-- 3000.0 -->\r\n      <g transform=\"translate(32.284375 108.03272)scale(0.15 -0.15)\">\r\n       <use xlink:href=\"#DejaVuSans-51\"/>\r\n       <use x=\"63.623047\" xlink:href=\"#DejaVuSans-48\"/>\r\n       <use x=\"127.246094\" xlink:href=\"#DejaVuSans-48\"/>\r\n       <use x=\"190.869141\" xlink:href=\"#DejaVuSans-48\"/>\r\n       <use x=\"254.492188\" xlink:href=\"#DejaVuSans-46\"/>\r\n       <use x=\"286.279297\" xlink:href=\"#DejaVuSans-48\"/>\r\n      </g>\r\n     </g>\r\n    </g>\r\n    <g id=\"ytick_8\">\r\n     <g id=\"line2d_13\">\r\n      <g>\r\n       <use style=\"stroke:#000000;stroke-width:0.8;\" x=\"91.770313\" xlink:href=\"#m17f3d95ee3\" y=\"41.835582\"/>\r\n      </g>\r\n     </g>\r\n     <g id=\"text_14\">\r\n      <!-- 3500.0 -->\r\n      <g transform=\"translate(32.284375 47.53441)scale(0.15 -0.15)\">\r\n       <use xlink:href=\"#DejaVuSans-51\"/>\r\n       <use x=\"63.623047\" xlink:href=\"#DejaVuSans-53\"/>\r\n       <use x=\"127.246094\" xlink:href=\"#DejaVuSans-48\"/>\r\n       <use x=\"190.869141\" xlink:href=\"#DejaVuSans-48\"/>\r\n       <use x=\"254.492188\" xlink:href=\"#DejaVuSans-46\"/>\r\n       <use x=\"286.279297\" xlink:href=\"#DejaVuSans-48\"/>\r\n      </g>\r\n     </g>\r\n    </g>\r\n    <g id=\"text_15\">\r\n     <!-- Số đánh giá -->\r\n     <defs>\r\n      <path d=\"M 53.515625 70.515625 \r\nL 53.515625 60.890625 \r\nQ 47.90625 63.578125 42.921875 64.890625 \r\nQ 37.9375 66.21875 33.296875 66.21875 \r\nQ 25.25 66.21875 20.875 63.09375 \r\nQ 16.5 59.96875 16.5 54.203125 \r\nQ 16.5 49.359375 19.40625 46.890625 \r\nQ 22.3125 44.4375 30.421875 42.921875 \r\nL 36.375 41.703125 \r\nQ 47.40625 39.59375 52.65625 34.296875 \r\nQ 57.90625 29 57.90625 20.125 \r\nQ 57.90625 9.515625 50.796875 4.046875 \r\nQ 43.703125 -1.421875 29.984375 -1.421875 \r\nQ 24.8125 -1.421875 18.96875 -0.25 \r\nQ 13.140625 0.921875 6.890625 3.21875 \r\nL 6.890625 13.375 \r\nQ 12.890625 10.015625 18.65625 8.296875 \r\nQ 24.421875 6.59375 29.984375 6.59375 \r\nQ 38.421875 6.59375 43.015625 9.90625 \r\nQ 47.609375 13.234375 47.609375 19.390625 \r\nQ 47.609375 24.75 44.3125 27.78125 \r\nQ 41.015625 30.8125 33.5 32.328125 \r\nL 27.484375 33.5 \r\nQ 16.453125 35.6875 11.515625 40.375 \r\nQ 6.59375 45.0625 6.59375 53.421875 \r\nQ 6.59375 63.09375 13.40625 68.65625 \r\nQ 20.21875 74.21875 32.171875 74.21875 \r\nQ 37.3125 74.21875 42.625 73.28125 \r\nQ 47.953125 72.359375 53.515625 70.515625 \r\nz\r\n\" id=\"DejaVuSans-83\"/>\r\n      <path d=\"M 25.984375 74.609375 \r\nL 35.15625 74.609375 \r\nL 45.453125 61.625 \r\nL 38.671875 61.625 \r\nL 30.5625 70.3125 \r\nL 22.46875 61.625 \r\nL 15.671875 61.625 \r\nz\r\nM 51.03125 84.625 \r\nL 60.0625 84.625 \r\nL 48.921875 71.734375 \r\nL 41.453125 71.734375 \r\nz\r\nM 30.609375 48.390625 \r\nQ 23.390625 48.390625 19.1875 42.75 \r\nQ 14.984375 37.109375 14.984375 27.296875 \r\nQ 14.984375 17.484375 19.15625 11.84375 \r\nQ 23.34375 6.203125 30.609375 6.203125 \r\nQ 37.796875 6.203125 41.984375 11.859375 \r\nQ 46.1875 17.53125 46.1875 27.296875 \r\nQ 46.1875 37.015625 41.984375 42.703125 \r\nQ 37.796875 48.390625 30.609375 48.390625 \r\nz\r\nM 30.609375 56 \r\nQ 42.328125 56 49.015625 48.375 \r\nQ 55.71875 40.765625 55.71875 27.296875 \r\nQ 55.71875 13.875 49.015625 6.21875 \r\nQ 42.328125 -1.421875 30.609375 -1.421875 \r\nQ 18.84375 -1.421875 12.171875 6.21875 \r\nQ 5.515625 13.875 5.515625 27.296875 \r\nQ 5.515625 40.765625 12.171875 48.375 \r\nQ 18.84375 56 30.609375 56 \r\nz\r\n\" id=\"DejaVuSans-7889\"/>\r\n      <path id=\"DejaVuSans-32\"/>\r\n      <path d=\"M 45.40625 46.390625 \r\nL 45.40625 62.703125 \r\nL 29.5 62.703125 \r\nL 29.5 68.796875 \r\nL 45.40625 68.796875 \r\nL 45.40625 75.984375 \r\nL 54.390625 75.984375 \r\nL 54.390625 68.796875 \r\nL 61.921875 68.796875 \r\nL 61.921875 62.703125 \r\nL 54.390625 62.703125 \r\nL 54.390625 0 \r\nL 45.40625 0 \r\nL 45.40625 8.203125 \r\nQ 42.578125 3.328125 38.25 0.953125 \r\nQ 33.9375 -1.421875 27.875 -1.421875 \r\nQ 17.96875 -1.421875 11.734375 6.484375 \r\nQ 5.515625 14.40625 5.515625 27.296875 \r\nQ 5.515625 40.1875 11.734375 48.09375 \r\nQ 17.96875 56 27.875 56 \r\nQ 33.9375 56 38.25 53.625 \r\nQ 42.578125 51.265625 45.40625 46.390625 \r\nz\r\nM 14.796875 27.296875 \r\nQ 14.796875 17.390625 18.875 11.75 \r\nQ 22.953125 6.109375 30.078125 6.109375 \r\nQ 37.203125 6.109375 41.296875 11.75 \r\nQ 45.40625 17.390625 45.40625 27.296875 \r\nQ 45.40625 37.203125 41.296875 42.84375 \r\nQ 37.203125 48.484375 30.078125 48.484375 \r\nQ 22.953125 48.484375 18.875 42.84375 \r\nQ 14.796875 37.203125 14.796875 27.296875 \r\nz\r\n\" id=\"DejaVuSans-273\"/>\r\n      <path d=\"M 34.28125 27.484375 \r\nQ 23.390625 27.484375 19.1875 25 \r\nQ 14.984375 22.515625 14.984375 16.5 \r\nQ 14.984375 11.71875 18.140625 8.90625 \r\nQ 21.296875 6.109375 26.703125 6.109375 \r\nQ 34.1875 6.109375 38.703125 11.40625 \r\nQ 43.21875 16.703125 43.21875 25.484375 \r\nL 43.21875 27.484375 \r\nz\r\nM 52.203125 31.203125 \r\nL 52.203125 0 \r\nL 43.21875 0 \r\nL 43.21875 8.296875 \r\nQ 40.140625 3.328125 35.546875 0.953125 \r\nQ 30.953125 -1.421875 24.3125 -1.421875 \r\nQ 15.921875 -1.421875 10.953125 3.296875 \r\nQ 6 8.015625 6 15.921875 \r\nQ 6 25.140625 12.171875 29.828125 \r\nQ 18.359375 34.515625 30.609375 34.515625 \r\nL 43.21875 34.515625 \r\nL 43.21875 35.40625 \r\nQ 43.21875 41.609375 39.140625 45 \r\nQ 35.0625 48.390625 27.6875 48.390625 \r\nQ 23 48.390625 18.546875 47.265625 \r\nQ 14.109375 46.140625 10.015625 43.890625 \r\nL 10.015625 52.203125 \r\nQ 14.9375 54.109375 19.578125 55.046875 \r\nQ 24.21875 56 28.609375 56 \r\nQ 40.484375 56 46.34375 49.84375 \r\nQ 52.203125 43.703125 52.203125 31.203125 \r\nz\r\nM 35.796875 79.984375 \r\nL 45.515625 79.984375 \r\nL 29.59375 61.625 \r\nL 22.125 61.625 \r\nz\r\n\" id=\"DejaVuSans-225\"/>\r\n      <path d=\"M 54.890625 33.015625 \r\nL 54.890625 0 \r\nL 45.90625 0 \r\nL 45.90625 32.71875 \r\nQ 45.90625 40.484375 42.875 44.328125 \r\nQ 39.84375 48.1875 33.796875 48.1875 \r\nQ 26.515625 48.1875 22.3125 43.546875 \r\nQ 18.109375 38.921875 18.109375 30.90625 \r\nL 18.109375 0 \r\nL 9.078125 0 \r\nL 9.078125 75.984375 \r\nL 18.109375 75.984375 \r\nL 18.109375 46.1875 \r\nQ 21.34375 51.125 25.703125 53.5625 \r\nQ 30.078125 56 35.796875 56 \r\nQ 45.21875 56 50.046875 50.171875 \r\nQ 54.890625 44.34375 54.890625 33.015625 \r\nz\r\n\" id=\"DejaVuSans-104\"/>\r\n     </defs>\r\n     <g transform=\"translate(24.125 307.113437)rotate(-90)scale(0.2 -0.2)\">\r\n      <use xlink:href=\"#DejaVuSans-83\"/>\r\n      <use x=\"63.476562\" xlink:href=\"#DejaVuSans-7889\"/>\r\n      <use x=\"124.658203\" xlink:href=\"#DejaVuSans-32\"/>\r\n      <use x=\"156.445312\" xlink:href=\"#DejaVuSans-273\"/>\r\n      <use x=\"219.921875\" xlink:href=\"#DejaVuSans-225\"/>\r\n      <use x=\"281.201172\" xlink:href=\"#DejaVuSans-110\"/>\r\n      <use x=\"344.580078\" xlink:href=\"#DejaVuSans-104\"/>\r\n      <use x=\"407.958984\" xlink:href=\"#DejaVuSans-32\"/>\r\n      <use x=\"439.746094\" xlink:href=\"#DejaVuSans-103\"/>\r\n      <use x=\"503.222656\" xlink:href=\"#DejaVuSans-105\"/>\r\n      <use x=\"531.005859\" xlink:href=\"#DejaVuSans-225\"/>\r\n     </g>\r\n    </g>\r\n   </g>\r\n   <g id=\"patch_8\">\r\n    <path d=\"M 91.770313 465.32375 \r\nL 91.770313 30.44375 \r\n\" style=\"fill:none;stroke:#000000;stroke-linecap:square;stroke-linejoin:miter;stroke-width:0.8;\"/>\r\n   </g>\r\n   <g id=\"patch_9\">\r\n    <path d=\"M 761.370313 465.32375 \r\nL 761.370313 30.44375 \r\n\" style=\"fill:none;stroke:#000000;stroke-linecap:square;stroke-linejoin:miter;stroke-width:0.8;\"/>\r\n   </g>\r\n   <g id=\"patch_10\">\r\n    <path d=\"M 91.770313 465.32375 \r\nL 761.370313 465.32375 \r\n\" style=\"fill:none;stroke:#000000;stroke-linecap:square;stroke-linejoin:miter;stroke-width:0.8;\"/>\r\n   </g>\r\n   <g id=\"patch_11\">\r\n    <path d=\"M 91.770313 30.44375 \r\nL 761.370313 30.44375 \r\n\" style=\"fill:none;stroke:#000000;stroke-linecap:square;stroke-linejoin:miter;stroke-width:0.8;\"/>\r\n   </g>\r\n   <g id=\"text_16\">\r\n    <!-- Thống kê lượt đánh giá trên tập kiểm tra -->\r\n    <defs>\r\n     <path d=\"M -0.296875 72.90625 \r\nL 61.375 72.90625 \r\nL 61.375 64.59375 \r\nL 35.5 64.59375 \r\nL 35.5 0 \r\nL 25.59375 0 \r\nL 25.59375 64.59375 \r\nL -0.296875 64.59375 \r\nz\r\n\" id=\"DejaVuSans-84\"/>\r\n     <path d=\"M 9.078125 75.984375 \r\nL 18.109375 75.984375 \r\nL 18.109375 31.109375 \r\nL 44.921875 54.6875 \r\nL 56.390625 54.6875 \r\nL 27.390625 29.109375 \r\nL 57.625 0 \r\nL 45.90625 0 \r\nL 18.109375 26.703125 \r\nL 18.109375 0 \r\nL 9.078125 0 \r\nz\r\n\" id=\"DejaVuSans-107\"/>\r\n     <path d=\"M 56.203125 29.59375 \r\nL 56.203125 25.203125 \r\nL 14.890625 25.203125 \r\nQ 15.484375 15.921875 20.484375 11.0625 \r\nQ 25.484375 6.203125 34.421875 6.203125 \r\nQ 39.59375 6.203125 44.453125 7.46875 \r\nQ 49.3125 8.734375 54.109375 11.28125 \r\nL 54.109375 2.78125 \r\nQ 49.265625 0.734375 44.1875 -0.34375 \r\nQ 39.109375 -1.421875 33.890625 -1.421875 \r\nQ 20.796875 -1.421875 13.15625 6.1875 \r\nQ 5.515625 13.8125 5.515625 26.8125 \r\nQ 5.515625 40.234375 12.765625 48.109375 \r\nQ 20.015625 56 32.328125 56 \r\nQ 43.359375 56 49.78125 48.890625 \r\nQ 56.203125 41.796875 56.203125 29.59375 \r\nz\r\nM 47.21875 32.234375 \r\nQ 47.125 39.59375 43.09375 43.984375 \r\nQ 39.0625 48.390625 32.421875 48.390625 \r\nQ 24.90625 48.390625 20.390625 44.140625 \r\nQ 15.875 39.890625 15.1875 32.171875 \r\nz\r\nM 28.171875 79.984375 \r\nL 35.40625 79.984375 \r\nL 47.359375 61.625 \r\nL 40.578125 61.625 \r\nL 31.78125 73.578125 \r\nL 23 61.625 \r\nL 16.21875 61.625 \r\nz\r\n\" id=\"DejaVuSans-234\"/>\r\n     <path d=\"M 9.421875 75.984375 \r\nL 18.40625 75.984375 \r\nL 18.40625 0 \r\nL 9.421875 0 \r\nz\r\n\" id=\"DejaVuSans-108\"/>\r\n     <path d=\"M 48.34375 48.53125 \r\nL 48.34375 54.34375 \r\nQ 51.3125 52.140625 53.453125 51.09375 \r\nQ 55.609375 50.046875 57.125 50.046875 \r\nQ 59.375 50.046875 60.5 51.390625 \r\nQ 61.625 52.734375 61.625 55.359375 \r\nQ 61.625 56.921875 61.25 58.4375 \r\nQ 60.890625 59.953125 60.15625 61.46875 \r\nL 66.65625 61.46875 \r\nQ 67.140625 59.609375 67.375 57.953125 \r\nQ 67.625 56.296875 67.625 54.828125 \r\nQ 67.625 48.875 65.5 46.0625 \r\nQ 63.375 43.25 58.84375 43.25 \r\nQ 56.5 43.25 53.9375 44.546875 \r\nQ 51.375 45.84375 48.34375 48.53125 \r\nz\r\nM 8.59375 21.578125 \r\nL 8.59375 54.6875 \r\nL 17.578125 54.6875 \r\nL 17.578125 21.921875 \r\nQ 17.578125 14.15625 20.609375 10.265625 \r\nQ 23.640625 6.390625 29.6875 6.390625 \r\nQ 36.96875 6.390625 41.1875 11.03125 \r\nQ 45.40625 15.671875 45.40625 23.6875 \r\nL 45.40625 54.6875 \r\nL 54.390625 54.6875 \r\nL 54.390625 0 \r\nL 45.40625 0 \r\nL 45.40625 8.40625 \r\nQ 42.140625 3.421875 37.8125 1 \r\nQ 33.5 -1.421875 27.78125 -1.421875 \r\nQ 18.359375 -1.421875 13.46875 4.4375 \r\nQ 8.59375 10.296875 8.59375 21.578125 \r\nz\r\nM 31.203125 56 \r\nz\r\n\" id=\"DejaVuSans-432\"/>\r\n     <path d=\"M 41.015625 48.53125 \r\nL 41.015625 54.34375 \r\nQ 44 52.140625 46.140625 51.09375 \r\nQ 48.296875 50.046875 49.8125 50.046875 \r\nQ 52.046875 50.046875 53.171875 51.390625 \r\nQ 54.296875 52.734375 54.296875 55.359375 \r\nQ 54.296875 56.921875 53.921875 58.4375 \r\nQ 53.5625 59.953125 52.828125 61.46875 \r\nL 59.328125 61.46875 \r\nQ 59.8125 59.609375 60.046875 57.953125 \r\nQ 60.296875 56.296875 60.296875 54.828125 \r\nQ 60.296875 48.875 58.171875 46.0625 \r\nQ 56.0625 43.25 51.515625 43.25 \r\nQ 49.171875 43.25 46.609375 44.546875 \r\nQ 44.046875 45.84375 41.015625 48.53125 \r\nz\r\nM 30.859375 48.390625 \r\nQ 23.640625 48.390625 19.4375 42.75 \r\nQ 15.234375 37.109375 15.234375 27.296875 \r\nQ 15.234375 17.484375 19.40625 11.84375 \r\nQ 23.578125 6.203125 30.859375 6.203125 \r\nQ 38.03125 6.203125 42.234375 11.859375 \r\nQ 46.4375 17.53125 46.4375 27.296875 \r\nQ 46.4375 37.015625 42.234375 42.703125 \r\nQ 38.03125 48.390625 30.859375 48.390625 \r\nz\r\nM 30.859375 56 \r\nQ 42.578125 56 49.265625 48.375 \r\nQ 55.953125 40.765625 55.953125 27.296875 \r\nQ 55.953125 13.875 49.265625 6.21875 \r\nQ 42.578125 -1.421875 30.859375 -1.421875 \r\nQ 19.09375 -1.421875 12.421875 6.21875 \r\nQ 5.765625 13.875 5.765625 27.296875 \r\nQ 5.765625 40.765625 12.421875 48.375 \r\nQ 19.09375 56 30.859375 56 \r\nz\r\nM 26.03125 -6.890625 \r\nL 35.015625 -6.890625 \r\nL 35.015625 -18.3125 \r\nL 26.03125 -18.3125 \r\nz\r\n\" id=\"DejaVuSans-7907\"/>\r\n     <path d=\"M 41.109375 46.296875 \r\nQ 39.59375 47.171875 37.8125 47.578125 \r\nQ 36.03125 48 33.890625 48 \r\nQ 26.265625 48 22.1875 43.046875 \r\nQ 18.109375 38.09375 18.109375 28.8125 \r\nL 18.109375 0 \r\nL 9.078125 0 \r\nL 9.078125 54.6875 \r\nL 18.109375 54.6875 \r\nL 18.109375 46.1875 \r\nQ 20.953125 51.171875 25.484375 53.578125 \r\nQ 30.03125 56 36.53125 56 \r\nQ 37.453125 56 38.578125 55.875 \r\nQ 39.703125 55.765625 41.0625 55.515625 \r\nz\r\n\" id=\"DejaVuSans-114\"/>\r\n     <path d=\"M 34.28125 27.484375 \r\nQ 23.390625 27.484375 19.1875 25 \r\nQ 14.984375 22.515625 14.984375 16.5 \r\nQ 14.984375 11.71875 18.140625 8.90625 \r\nQ 21.296875 6.109375 26.703125 6.109375 \r\nQ 34.1875 6.109375 38.703125 11.40625 \r\nQ 43.21875 16.703125 43.21875 25.484375 \r\nL 43.21875 27.484375 \r\nz\r\nM 52.203125 31.203125 \r\nL 52.203125 0 \r\nL 43.21875 0 \r\nL 43.21875 8.296875 \r\nQ 40.140625 3.328125 35.546875 0.953125 \r\nQ 30.953125 -1.421875 24.3125 -1.421875 \r\nQ 15.921875 -1.421875 10.953125 3.296875 \r\nQ 6 8.015625 6 15.921875 \r\nQ 6 25.140625 12.171875 29.828125 \r\nQ 18.359375 34.515625 30.609375 34.515625 \r\nL 43.21875 34.515625 \r\nL 43.21875 35.40625 \r\nQ 43.21875 41.609375 39.140625 45 \r\nQ 35.0625 48.390625 27.6875 48.390625 \r\nQ 23 48.390625 18.546875 47.265625 \r\nQ 14.109375 46.140625 10.015625 43.890625 \r\nL 10.015625 52.203125 \r\nQ 14.9375 54.109375 19.578125 55.046875 \r\nQ 24.21875 56 28.609375 56 \r\nQ 40.484375 56 46.34375 49.84375 \r\nQ 52.203125 43.703125 52.203125 31.203125 \r\nz\r\nM 25.390625 79.984375 \r\nL 32.625 79.984375 \r\nL 44.578125 61.625 \r\nL 37.796875 61.625 \r\nL 29 73.578125 \r\nL 20.21875 61.625 \r\nL 13.421875 61.625 \r\nz\r\nM 22.078125 -6.890625 \r\nL 31.0625 -6.890625 \r\nL 31.0625 -18.3125 \r\nL 22.078125 -18.3125 \r\nz\r\n\" id=\"DejaVuSans-7853\"/>\r\n     <path d=\"M 18.109375 8.203125 \r\nL 18.109375 -20.796875 \r\nL 9.078125 -20.796875 \r\nL 9.078125 54.6875 \r\nL 18.109375 54.6875 \r\nL 18.109375 46.390625 \r\nQ 20.953125 51.265625 25.265625 53.625 \r\nQ 29.59375 56 35.59375 56 \r\nQ 45.5625 56 51.78125 48.09375 \r\nQ 58.015625 40.1875 58.015625 27.296875 \r\nQ 58.015625 14.40625 51.78125 6.484375 \r\nQ 45.5625 -1.421875 35.59375 -1.421875 \r\nQ 29.59375 -1.421875 25.265625 0.953125 \r\nQ 20.953125 3.328125 18.109375 8.203125 \r\nz\r\nM 48.6875 27.296875 \r\nQ 48.6875 37.203125 44.609375 42.84375 \r\nQ 40.53125 48.484375 33.40625 48.484375 \r\nQ 26.265625 48.484375 22.1875 42.84375 \r\nQ 18.109375 37.203125 18.109375 27.296875 \r\nQ 18.109375 17.390625 22.1875 11.75 \r\nQ 26.265625 6.109375 33.40625 6.109375 \r\nQ 40.53125 6.109375 44.609375 11.75 \r\nQ 48.6875 17.390625 48.6875 27.296875 \r\nz\r\n\" id=\"DejaVuSans-112\"/>\r\n     <path d=\"M 56.203125 29.59375 \r\nL 56.203125 25.203125 \r\nL 14.890625 25.203125 \r\nQ 15.484375 15.921875 20.484375 11.0625 \r\nQ 25.484375 6.203125 34.421875 6.203125 \r\nQ 39.59375 6.203125 44.453125 7.46875 \r\nQ 49.3125 8.734375 54.109375 11.28125 \r\nL 54.109375 2.78125 \r\nQ 49.265625 0.734375 44.1875 -0.34375 \r\nQ 39.109375 -1.421875 33.890625 -1.421875 \r\nQ 20.796875 -1.421875 13.15625 6.1875 \r\nQ 5.515625 13.8125 5.515625 26.8125 \r\nQ 5.515625 40.234375 12.765625 48.109375 \r\nQ 20.015625 56 32.328125 56 \r\nQ 43.359375 56 49.78125 48.890625 \r\nQ 56.203125 41.796875 56.203125 29.59375 \r\nz\r\nM 47.21875 32.234375 \r\nQ 47.125 39.59375 43.09375 43.984375 \r\nQ 39.0625 48.390625 32.421875 48.390625 \r\nQ 24.90625 48.390625 20.390625 44.140625 \r\nQ 15.875 39.890625 15.1875 32.171875 \r\nz\r\nM 38.625 83.734375 \r\nQ 44.09375 86.21875 49.21875 86.21875 \r\nQ 54.296875 86.21875 57.390625 84.140625 \r\nQ 60.5 82.078125 60.5 78.796875 \r\nQ 60.5 75.828125 56.203125 72.65625 \r\nL 54.046875 71.09375 \r\nQ 52.34375 69.8125 52.15625 69.375 \r\nQ 51.8125 68.59375 51.8125 67.03125 \r\nL 46 67.03125 \r\nL 46 67.625 \r\nQ 46 69.578125 46.734375 70.890625 \r\nQ 47.46875 72.21875 49.953125 74.015625 \r\nL 52.15625 75.671875 \r\nQ 54.390625 77.34375 54.390625 79.296875 \r\nQ 54.390625 80.3125 52.875 81.1875 \r\nQ 51.375 82.078125 47.90625 82.078125 \r\nQ 43.5 82.078125 38.625 79.53125 \r\nz\r\nM 27.25 74.609375 \r\nL 36.421875 74.609375 \r\nL 46.734375 61.625 \r\nL 39.9375 61.625 \r\nL 31.84375 70.3125 \r\nL 23.734375 61.625 \r\nL 16.9375 61.625 \r\nz\r\n\" id=\"DejaVuSans-7875\"/>\r\n     <path d=\"M 52 44.1875 \r\nQ 55.375 50.25 60.0625 53.125 \r\nQ 64.75 56 71.09375 56 \r\nQ 79.640625 56 84.28125 50.015625 \r\nQ 88.921875 44.046875 88.921875 33.015625 \r\nL 88.921875 0 \r\nL 79.890625 0 \r\nL 79.890625 32.71875 \r\nQ 79.890625 40.578125 77.09375 44.375 \r\nQ 74.3125 48.1875 68.609375 48.1875 \r\nQ 61.625 48.1875 57.5625 43.546875 \r\nQ 53.515625 38.921875 53.515625 30.90625 \r\nL 53.515625 0 \r\nL 44.484375 0 \r\nL 44.484375 32.71875 \r\nQ 44.484375 40.625 41.703125 44.40625 \r\nQ 38.921875 48.1875 33.109375 48.1875 \r\nQ 26.21875 48.1875 22.15625 43.53125 \r\nQ 18.109375 38.875 18.109375 30.90625 \r\nL 18.109375 0 \r\nL 9.078125 0 \r\nL 9.078125 54.6875 \r\nL 18.109375 54.6875 \r\nL 18.109375 46.1875 \r\nQ 21.1875 51.21875 25.484375 53.609375 \r\nQ 29.78125 56 35.6875 56 \r\nQ 41.65625 56 45.828125 52.96875 \r\nQ 50 49.953125 52 44.1875 \r\nz\r\n\" id=\"DejaVuSans-109\"/>\r\n    </defs>\r\n    <g transform=\"translate(223.4375 24.44375)scale(0.2 -0.2)\">\r\n     <use xlink:href=\"#DejaVuSans-84\"/>\r\n     <use x=\"61.083984\" xlink:href=\"#DejaVuSans-104\"/>\r\n     <use x=\"124.462891\" xlink:href=\"#DejaVuSans-7889\"/>\r\n     <use x=\"185.644531\" xlink:href=\"#DejaVuSans-110\"/>\r\n     <use x=\"249.023438\" xlink:href=\"#DejaVuSans-103\"/>\r\n     <use x=\"312.5\" xlink:href=\"#DejaVuSans-32\"/>\r\n     <use x=\"344.287109\" xlink:href=\"#DejaVuSans-107\"/>\r\n     <use x=\"398.572266\" xlink:href=\"#DejaVuSans-234\"/>\r\n     <use x=\"460.095703\" xlink:href=\"#DejaVuSans-32\"/>\r\n     <use x=\"491.882812\" xlink:href=\"#DejaVuSans-108\"/>\r\n     <use x=\"519.666016\" xlink:href=\"#DejaVuSans-432\"/>\r\n     <use x=\"583.044922\" xlink:href=\"#DejaVuSans-7907\"/>\r\n     <use x=\"644.226562\" xlink:href=\"#DejaVuSans-116\"/>\r\n     <use x=\"683.435547\" xlink:href=\"#DejaVuSans-32\"/>\r\n     <use x=\"715.222656\" xlink:href=\"#DejaVuSans-273\"/>\r\n     <use x=\"778.699219\" xlink:href=\"#DejaVuSans-225\"/>\r\n     <use x=\"839.978516\" xlink:href=\"#DejaVuSans-110\"/>\r\n     <use x=\"903.357422\" xlink:href=\"#DejaVuSans-104\"/>\r\n     <use x=\"966.736328\" xlink:href=\"#DejaVuSans-32\"/>\r\n     <use x=\"998.523438\" xlink:href=\"#DejaVuSans-103\"/>\r\n     <use x=\"1062\" xlink:href=\"#DejaVuSans-105\"/>\r\n     <use x=\"1089.783203\" xlink:href=\"#DejaVuSans-225\"/>\r\n     <use x=\"1151.0625\" xlink:href=\"#DejaVuSans-32\"/>\r\n     <use x=\"1182.849609\" xlink:href=\"#DejaVuSans-116\"/>\r\n     <use x=\"1222.058594\" xlink:href=\"#DejaVuSans-114\"/>\r\n     <use x=\"1260.921875\" xlink:href=\"#DejaVuSans-234\"/>\r\n     <use x=\"1322.445312\" xlink:href=\"#DejaVuSans-110\"/>\r\n     <use x=\"1385.824219\" xlink:href=\"#DejaVuSans-32\"/>\r\n     <use x=\"1417.611328\" xlink:href=\"#DejaVuSans-116\"/>\r\n     <use x=\"1456.820312\" xlink:href=\"#DejaVuSans-7853\"/>\r\n     <use x=\"1518.099609\" xlink:href=\"#DejaVuSans-112\"/>\r\n     <use x=\"1581.576172\" xlink:href=\"#DejaVuSans-32\"/>\r\n     <use x=\"1613.363281\" xlink:href=\"#DejaVuSans-107\"/>\r\n     <use x=\"1671.273438\" xlink:href=\"#DejaVuSans-105\"/>\r\n     <use x=\"1699.056641\" xlink:href=\"#DejaVuSans-7875\"/>\r\n     <use x=\"1760.580078\" xlink:href=\"#DejaVuSans-109\"/>\r\n     <use x=\"1857.992188\" xlink:href=\"#DejaVuSans-32\"/>\r\n     <use x=\"1889.779297\" xlink:href=\"#DejaVuSans-116\"/>\r\n     <use x=\"1928.988281\" xlink:href=\"#DejaVuSans-114\"/>\r\n     <use x=\"1970.101562\" xlink:href=\"#DejaVuSans-97\"/>\r\n    </g>\r\n   </g>\r\n  </g>\r\n </g>\r\n <defs>\r\n  <clipPath id=\"pc818a03135\">\r\n   <rect height=\"434.88\" width=\"669.6\" x=\"91.770313\" y=\"30.44375\"/>\r\n  </clipPath>\r\n </defs>\r\n</svg>\r\n",
      "image/png": "[encoded data removed]"
     },
     "metadata": {
      "needs_background": "light"
     }
    }
   ],
   "source": [
    "plt.figure(figsize = (12, 8))\n",
    "ax = sns.countplot(x=\"stars\", data=test_data)\n",
    "\n",
    "ax.set_yticklabels([num for num in ax.get_yticks()])\n",
    "\n",
    "plt.tick_params(labelsize = 15)\n",
    "plt.title(\"Thống kê lượt đánh giá trên tập kiểm tra\", fontsize = 20)\n",
    "plt.xlabel(\"Ratings\", fontsize = 20)\n",
    "plt.ylabel(\"Số đánh giá\", fontsize = 20)\n",
    "plt.show()"
   ]
  },
  {
   "source": [
    "## Create User-Item Sparse Matrix"
   ],
   "cell_type": "markdown",
   "metadata": {}
  },
  {
   "cell_type": "code",
   "execution_count": 14,
   "metadata": {},
   "outputs": [],
   "source": [
    "def get_user_item_sparse_matrix(df):\n",
    "    sparse_data = sparse.csr_matrix((df.stars, (df.id_customer, df.id_book)))\n",
    "    return sparse_data"
   ]
  },
  {
   "cell_type": "code",
   "execution_count": 15,
   "metadata": {},
   "outputs": [],
   "source": [
    "train_sparse_data = get_user_item_sparse_matrix(train_data)"
   ]
  },
  {
   "cell_type": "code",
   "execution_count": 16,
   "metadata": {},
   "outputs": [],
   "source": [
    "test_sparse_data = get_user_item_sparse_matrix(test_data)"
   ]
  },
  {
   "cell_type": "code",
   "execution_count": 17,
   "metadata": {},
   "outputs": [
    {
     "output_type": "stream",
     "name": "stdout",
     "text": [
      "Global Average Rating: 4.737195633921075\n"
     ]
    }
   ],
   "source": [
    "# Find Average Gloabal Rating of Movie\n",
    "global_average_rating = train_sparse_data.sum()/train_sparse_data.count_nonzero()\n",
    "print(\"Global Average Rating: {}\".format(global_average_rating))"
   ]
  },
  {
   "cell_type": "code",
   "execution_count": 18,
   "metadata": {},
   "outputs": [],
   "source": [
    "# A Generic Method to Calculate Average Rating from Sparse Matrix\n",
    "def get_average_rating(sparse_matrix, is_user):\n",
    "    ax = 1 if is_user else 0\n",
    "    sum_of_ratings = sparse_matrix.sum(axis = ax).A1  \n",
    "    no_of_ratings = (sparse_matrix != 0).sum(axis = ax).A1 \n",
    "    rows, cols = sparse_matrix.shape\n",
    "    average_ratings = {i: sum_of_ratings[i]/no_of_ratings[i] for i in range(rows if is_user else cols) if no_of_ratings[i] != 0}\n",
    "    return average_ratings"
   ]
  },
  {
   "cell_type": "code",
   "execution_count": 19,
   "metadata": {},
   "outputs": [],
   "source": [
    "# calculate average user rating\n",
    "average_rating_user = get_average_rating(train_sparse_data, True)"
   ]
  },
  {
   "cell_type": "code",
   "execution_count": 20,
   "metadata": {},
   "outputs": [],
   "source": [
    "# calculate average book rating\n",
    "avg_rating_movie = get_average_rating(train_sparse_data, False)"
   ]
  },
  {
   "source": [
    "## Check Cold Start Problem for Users"
   ],
   "cell_type": "markdown",
   "metadata": {}
  },
  {
   "cell_type": "code",
   "execution_count": 21,
   "metadata": {},
   "outputs": [
    {
     "output_type": "stream",
     "name": "stdout",
     "text": [
      "Total no. of Users = 1382\nNo. of Users in train data= 1382\nNo. of Users not present in train data = 0(0.0%)\n"
     ]
    }
   ],
   "source": [
    "total_users = len(np.unique(rating[\"customer_id\"]))\n",
    "train_users = len(average_rating_user)\n",
    "uncommonUsers = total_users - train_users\n",
    "                  \n",
    "print(\"Total no. of Users = {}\".format(total_users))\n",
    "print(\"No. of Users in train data= {}\".format(train_users))\n",
    "print(\"No. of Users not present in train data = {}({}%)\".format(uncommonUsers, np.round((uncommonUsers/total_users)*100), 2))"
   ]
  },
  {
   "source": [
    "## Check Cold Start Problem for the Movies"
   ],
   "cell_type": "markdown",
   "metadata": {}
  },
  {
   "cell_type": "code",
   "execution_count": 22,
   "metadata": {},
   "outputs": [
    {
     "output_type": "stream",
     "name": "stdout",
     "text": [
      "Total no. of Movies = 5289\nNo. of Movies in train data= 4939\nNo. of Movies not present in train data = 350(7.0%)\n"
     ]
    }
   ],
   "source": [
    "total_movies = len(np.unique(rating[\"id_book\"]))\n",
    "train_movies = len(avg_rating_movie)\n",
    "uncommonMovies = total_movies - train_movies\n",
    "                  \n",
    "print(\"Total no. of Movies = {}\".format(total_movies))\n",
    "print(\"No. of Movies in train data= {}\".format(train_movies))\n",
    "print(\"No. of Movies not present in train data = {}({}%)\".format(uncommonMovies, np.round((uncommonMovies/total_movies)*100), 2))"
   ]
  },
  {
   "source": [
    "## Computation of user similarity to find similarities of top 100 users"
   ],
   "cell_type": "markdown",
   "metadata": {}
  },
  {
   "cell_type": "code",
   "execution_count": 23,
   "metadata": {},
   "outputs": [
    {
     "output_type": "execute_result",
     "data": {
      "text/plain": [
       "1382"
      ]
     },
     "metadata": {},
     "execution_count": 23
    }
   ],
   "source": [
    "unique_user = np.unique(rating['id_customer'])\n",
    "len(unique_user)"
   ]
  },
  {
   "cell_type": "code",
   "execution_count": 24,
   "metadata": {},
   "outputs": [
    {
     "output_type": "execute_result",
     "data": {
      "text/plain": [
       "(1382, 5289)"
      ]
     },
     "metadata": {},
     "execution_count": 24
    }
   ],
   "source": [
    "train_sparse_data.shape"
   ]
  },
  {
   "cell_type": "code",
   "execution_count": 25,
   "metadata": {},
   "outputs": [],
   "source": [
    "def compute_user_similarity(sparse_matrix, limit=100):\n",
    "    row_index, col_index = sparse_matrix.nonzero()\n",
    "    rows = np.unique(row_index)\n",
    "    # print(row_index)\n",
    "    # print(len(col_index))\n",
    "    similar_arr = np.zeros(137000).reshape(1370,100)\n",
    "    for row in rows[:limit]:\n",
    "        sim = cosine_similarity(sparse_matrix.getrow(row), train_sparse_data).ravel()\n",
    "        similar_indices = sim.argsort()[-limit:]\n",
    "        similar = sim[similar_indices]\n",
    "        similar_arr[row] = similar\n",
    "    \n",
    "    return similar_arr"
   ]
  },
  {
   "cell_type": "code",
   "execution_count": 26,
   "metadata": {},
   "outputs": [],
   "source": [
    "similar_user_matrix = compute_user_similarity(train_sparse_data, 100)"
   ]
  },
  {
   "cell_type": "code",
   "execution_count": 27,
   "metadata": {},
   "outputs": [
    {
     "output_type": "execute_result",
     "data": {
      "text/plain": [
       "array([0.        , 0.        , 0.        , 0.        , 0.        ,\n",
       "       0.        , 0.        , 0.        , 0.        , 0.        ,\n",
       "       0.        , 0.        , 0.        , 0.        , 0.        ,\n",
       "       0.        , 0.        , 0.        , 0.        , 0.        ,\n",
       "       0.        , 0.        , 0.        , 0.        , 0.        ,\n",
       "       0.        , 0.        , 0.        , 0.        , 0.        ,\n",
       "       0.03430779, 0.05698029, 0.06362848, 0.06565322, 0.06606455,\n",
       "       0.06721661, 0.06804138, 0.07308817, 0.0745356 , 0.07729905,\n",
       "       0.07905694, 0.07921553, 0.07961622, 0.07977821, 0.08035304,\n",
       "       0.08417938, 0.0846499 , 0.08574929, 0.08821622, 0.08838835,\n",
       "       0.08838835, 0.08861015, 0.09128709, 0.09147787, 0.09449112,\n",
       "       0.09449112, 0.0971399 , 0.09882118, 0.09913145, 0.09925833,\n",
       "       0.10056475, 0.10206207, 0.10292337, 0.10362833, 0.10526899,\n",
       "       0.10660036, 0.10660036, 0.10838875, 0.10984369, 0.1118034 ,\n",
       "       0.1118034 , 0.11286653, 0.11387188, 0.11605959, 0.11785113,\n",
       "       0.11785113, 0.12028131, 0.12082442, 0.12376844, 0.125     ,\n",
       "       0.125     , 0.12757759, 0.12927192, 0.13018891, 0.13212911,\n",
       "       0.13363062, 0.13679391, 0.14245072, 0.14433757, 0.15271181,\n",
       "       0.18898224, 0.20725667, 0.21320072, 0.21320072, 0.23211917,\n",
       "       0.25      , 0.2906191 , 0.30772873, 0.42640143, 1.        ])"
      ]
     },
     "metadata": {},
     "execution_count": 27
    }
   ],
   "source": [
    "similar_user_matrix[0]"
   ]
  },
  {
   "source": [
    "## Load Book Titles"
   ],
   "cell_type": "markdown",
   "metadata": {}
  },
  {
   "cell_type": "code",
   "execution_count": 28,
   "metadata": {},
   "outputs": [
    {
     "output_type": "execute_result",
     "data": {
      "text/plain": [
       "         id            sku                                               name  \\\n",
       "0  58390336  3380735508079                                      Python cơ bản   \n",
       "1   1664525  2147399986992  Giáo Trình Kỹ Thuật Lập Trình C Căn Bản Và Nân...   \n",
       "2  55573620  6752050391860  Giáo Trình Tự Học AutoCAD 2019 Thực Hành Bằng ...   \n",
       "3  24889348  3747885152000  Lập trình hướng đối tượng JAVA core dành cho n...   \n",
       "4  37667006  5950833882104  Combo Giáo Trình Kỹ Thuật Lập Trình C Căn Bản ...   \n",
       "\n",
       "                                            url_path book_cover  \\\n",
       "0         python-co-ban-p58390336.html?spid=58390337    Bìa mềm   \n",
       "1  giao-trinh-ky-thuat-lap-trinh-c-can-ban-va-nan...    Bìa mềm   \n",
       "2  giao-trinh-tu-hoc-autocad-2019-thuc-hanh-bang-...    Bìa mềm   \n",
       "3  lap-trinh-huong-doi-tuong-java-core-danh-cho-n...        NaN   \n",
       "4  combo-giao-trinh-ky-thuat-lap-trinh-c-can-ban-...    Bìa mềm   \n",
       "\n",
       "                                   short_description   price  list_price  \\\n",
       "0  SÁCH PYTHON CƠ BẢN\\nHiện nay ngôn ngữ lập trìn...  125000      125000   \n",
       "1  Giáo trình kỹ thuật lập trình C căn bản và nân...   67500      135000   \n",
       "2  Mục lục:\\nCHƯƠNG 1: BẮT ĐẦU AUTOCAD 2019 \\nCHƯ...  110000      110000   \n",
       "3  I. Đôi điều về tác giả\\nTôi là NEOS.THÀNH (Ngu...  189000      299000   \n",
       "4  Giáo trình kỹ thuật lập trình C căn bản và nân...  223400      280000   \n",
       "\n",
       "   price_usd  discount  ...  favourite_count  \\\n",
       "0      5.343         0  ...                0   \n",
       "1      2.885     67500  ...                0   \n",
       "2      4.702         0  ...                0   \n",
       "3      8.079    110000  ...                0   \n",
       "4      9.550     56600  ...                0   \n",
       "\n",
       "                                       thumbnail_url  \\\n",
       "0  https://salt.tikicdn.com/cache/280x280/ts/prod...   \n",
       "1  https://salt.tikicdn.com/cache/280x280/ts/prod...   \n",
       "2  https://salt.tikicdn.com/cache/280x280/ts/prod...   \n",
       "3  https://salt.tikicdn.com/cache/280x280/ts/prod...   \n",
       "4  https://salt.tikicdn.com/cache/280x280/ts/prod...   \n",
       "\n",
       "                         productset_group_name  \\\n",
       "0          Sách Công Nghệ Thông Tin, Lập Trình   \n",
       "1          Sách Công Nghệ Thông Tin, Lập Trình   \n",
       "2  Sách Công Nghệ Thông Tin, Thiết Kế - Đồ Họa   \n",
       "3          Sách Công Nghệ Thông Tin, Lập Trình   \n",
       "4          Sách Công Nghệ Thông Tin, Lập Trình   \n",
       "\n",
       "                                         description  \\\n",
       "0  SÁCH PYTHON CƠ BẢN\\nHiện nay ngôn ngữ lập trìn...   \n",
       "1  Giáo trình kỹ thuật lập trình C căn bản và nân...   \n",
       "2  Mục lục:\\nCHƯƠNG 1: BẮT ĐẦU AUTOCAD 2019 \\nCHƯ...   \n",
       "3  I. Đôi điều về tác giả\\nTôi là NEOS.THÀNH (Ngu...   \n",
       "4  Giáo trình kỹ thuật lập trình C căn bản và nân...   \n",
       "\n",
       "                                   publisher        authors stock_item  \\\n",
       "0                NXB Đại Học Quốc Gia Hà Nội    Bùi Việt Hà        5.0   \n",
       "1                        Huy Hoàng Bookstore  Nhiều Tác Giả      801.0   \n",
       "2  Công Ty TNHH Văn Hóa - Thế Giới Sách Việt  Nhiều Tác Giả       12.0   \n",
       "3                                          -  Nhiều Tác Giả        NaN   \n",
       "4                        Huy Hoàng Bookstore  Nhiều Tác Giả       97.0   \n",
       "\n",
       "               big_category        sub_category  \\\n",
       "0  Sách Công Nghệ Thông Tin           Lập Trình   \n",
       "1  Sách Công Nghệ Thông Tin           Lập Trình   \n",
       "2  Sách Công Nghệ Thông Tin   Thiết Kế - Đồ Họa   \n",
       "3  Sách Công Nghệ Thông Tin           Lập Trình   \n",
       "4  Sách Công Nghệ Thông Tin           Lập Trình   \n",
       "\n",
       "                                   clean_description  \n",
       "0  sách python cơ_bản ngôn_ngữ lập_trình bậc pyth...  \n",
       "1  giáo_trình kỹ_thuật lập_trình căn_bản nâng hìn...  \n",
       "2  mục_lục chương autocad chương kỹ_năng cơ_bản c...  \n",
       "3  đôi tác_giả neos thành nguyễn văn thành lập_tr...  \n",
       "4  giáo_trình kỹ_thuật lập_trình căn_bản nâng hìn...  \n",
       "\n",
       "[5 rows x 24 columns]"
      ],
      "text/html": "<div>\n<style scoped>\n    .dataframe tbody tr th:only-of-type {\n        vertical-align: middle;\n    }\n\n    .dataframe tbody tr th {\n        vertical-align: top;\n    }\n\n    .dataframe thead th {\n        text-align: right;\n    }\n</style>\n<table border=\"1\" class=\"dataframe\">\n  <thead>\n    <tr style=\"text-align: right;\">\n      <th></th>\n      <th>id</th>\n      <th>sku</th>\n      <th>name</th>\n      <th>url_path</th>\n      <th>book_cover</th>\n      <th>short_description</th>\n      <th>price</th>\n      <th>list_price</th>\n      <th>price_usd</th>\n      <th>discount</th>\n      <th>...</th>\n      <th>favourite_count</th>\n      <th>thumbnail_url</th>\n      <th>productset_group_name</th>\n      <th>description</th>\n      <th>publisher</th>\n      <th>authors</th>\n      <th>stock_item</th>\n      <th>big_category</th>\n      <th>sub_category</th>\n      <th>clean_description</th>\n    </tr>\n  </thead>\n  <tbody>\n    <tr>\n      <th>0</th>\n      <td>58390336</td>\n      <td>3380735508079</td>\n      <td>Python cơ bản</td>\n      <td>python-co-ban-p58390336.html?spid=58390337</td>\n      <td>Bìa mềm</td>\n      <td>SÁCH PYTHON CƠ BẢN\\nHiện nay ngôn ngữ lập trìn...</td>\n      <td>125000</td>\n      <td>125000</td>\n      <td>5.343</td>\n      <td>0</td>\n      <td>...</td>\n      <td>0</td>\n      <td>https://salt.tikicdn.com/cache/280x280/ts/prod...</td>\n      <td>Sách Công Nghệ Thông Tin, Lập Trình</td>\n      <td>SÁCH PYTHON CƠ BẢN\\nHiện nay ngôn ngữ lập trìn...</td>\n      <td>NXB Đại Học Quốc Gia Hà Nội</td>\n      <td>Bùi Việt Hà</td>\n      <td>5.0</td>\n      <td>Sách Công Nghệ Thông Tin</td>\n      <td>Lập Trình</td>\n      <td>sách python cơ_bản ngôn_ngữ lập_trình bậc pyth...</td>\n    </tr>\n    <tr>\n      <th>1</th>\n      <td>1664525</td>\n      <td>2147399986992</td>\n      <td>Giáo Trình Kỹ Thuật Lập Trình C Căn Bản Và Nân...</td>\n      <td>giao-trinh-ky-thuat-lap-trinh-c-can-ban-va-nan...</td>\n      <td>Bìa mềm</td>\n      <td>Giáo trình kỹ thuật lập trình C căn bản và nân...</td>\n      <td>67500</td>\n      <td>135000</td>\n      <td>2.885</td>\n      <td>67500</td>\n      <td>...</td>\n      <td>0</td>\n      <td>https://salt.tikicdn.com/cache/280x280/ts/prod...</td>\n      <td>Sách Công Nghệ Thông Tin, Lập Trình</td>\n      <td>Giáo trình kỹ thuật lập trình C căn bản và nân...</td>\n      <td>Huy Hoàng Bookstore</td>\n      <td>Nhiều Tác Giả</td>\n      <td>801.0</td>\n      <td>Sách Công Nghệ Thông Tin</td>\n      <td>Lập Trình</td>\n      <td>giáo_trình kỹ_thuật lập_trình căn_bản nâng hìn...</td>\n    </tr>\n    <tr>\n      <th>2</th>\n      <td>55573620</td>\n      <td>6752050391860</td>\n      <td>Giáo Trình Tự Học AutoCAD 2019 Thực Hành Bằng ...</td>\n      <td>giao-trinh-tu-hoc-autocad-2019-thuc-hanh-bang-...</td>\n      <td>Bìa mềm</td>\n      <td>Mục lục:\\nCHƯƠNG 1: BẮT ĐẦU AUTOCAD 2019 \\nCHƯ...</td>\n      <td>110000</td>\n      <td>110000</td>\n      <td>4.702</td>\n      <td>0</td>\n      <td>...</td>\n      <td>0</td>\n      <td>https://salt.tikicdn.com/cache/280x280/ts/prod...</td>\n      <td>Sách Công Nghệ Thông Tin, Thiết Kế - Đồ Họa</td>\n      <td>Mục lục:\\nCHƯƠNG 1: BẮT ĐẦU AUTOCAD 2019 \\nCHƯ...</td>\n      <td>Công Ty TNHH Văn Hóa - Thế Giới Sách Việt</td>\n      <td>Nhiều Tác Giả</td>\n      <td>12.0</td>\n      <td>Sách Công Nghệ Thông Tin</td>\n      <td>Thiết Kế - Đồ Họa</td>\n      <td>mục_lục chương autocad chương kỹ_năng cơ_bản c...</td>\n    </tr>\n    <tr>\n      <th>3</th>\n      <td>24889348</td>\n      <td>3747885152000</td>\n      <td>Lập trình hướng đối tượng JAVA core dành cho n...</td>\n      <td>lap-trinh-huong-doi-tuong-java-core-danh-cho-n...</td>\n      <td>NaN</td>\n      <td>I. Đôi điều về tác giả\\nTôi là NEOS.THÀNH (Ngu...</td>\n      <td>189000</td>\n      <td>299000</td>\n      <td>8.079</td>\n      <td>110000</td>\n      <td>...</td>\n      <td>0</td>\n      <td>https://salt.tikicdn.com/cache/280x280/ts/prod...</td>\n      <td>Sách Công Nghệ Thông Tin, Lập Trình</td>\n      <td>I. Đôi điều về tác giả\\nTôi là NEOS.THÀNH (Ngu...</td>\n      <td>-</td>\n      <td>Nhiều Tác Giả</td>\n      <td>NaN</td>\n      <td>Sách Công Nghệ Thông Tin</td>\n      <td>Lập Trình</td>\n      <td>đôi tác_giả neos thành nguyễn văn thành lập_tr...</td>\n    </tr>\n    <tr>\n      <th>4</th>\n      <td>37667006</td>\n      <td>5950833882104</td>\n      <td>Combo Giáo Trình Kỹ Thuật Lập Trình C Căn Bản ...</td>\n      <td>combo-giao-trinh-ky-thuat-lap-trinh-c-can-ban-...</td>\n      <td>Bìa mềm</td>\n      <td>Giáo trình kỹ thuật lập trình C căn bản và nân...</td>\n      <td>223400</td>\n      <td>280000</td>\n      <td>9.550</td>\n      <td>56600</td>\n      <td>...</td>\n      <td>0</td>\n      <td>https://salt.tikicdn.com/cache/280x280/ts/prod...</td>\n      <td>Sách Công Nghệ Thông Tin, Lập Trình</td>\n      <td>Giáo trình kỹ thuật lập trình C căn bản và nân...</td>\n      <td>Huy Hoàng Bookstore</td>\n      <td>Nhiều Tác Giả</td>\n      <td>97.0</td>\n      <td>Sách Công Nghệ Thông Tin</td>\n      <td>Lập Trình</td>\n      <td>giáo_trình kỹ_thuật lập_trình căn_bản nâng hìn...</td>\n    </tr>\n  </tbody>\n</table>\n<p>5 rows × 24 columns</p>\n</div>"
     },
     "metadata": {},
     "execution_count": 28
    }
   ],
   "source": [
    "books = pd.read_csv('../Data/clean_books.csv')\n",
    "books.head()"
   ]
  },
  {
   "source": [
    "## Compute Book Similarity Matrix"
   ],
   "cell_type": "markdown",
   "metadata": {}
  },
  {
   "cell_type": "code",
   "execution_count": 29,
   "metadata": {},
   "outputs": [],
   "source": [
    "def compute_movie_similarity_count(sparse_matrix, movie_titles_df, movie_id):\n",
    "    similarity = cosine_similarity(sparse_matrix.T, dense_output = False)\n",
    "    no_of_similar_movies = movie_titles_df.loc[movie_id][1], similarity[movie_id].count_nonzero()\n",
    "    return no_of_similar_movies"
   ]
  },
  {
   "cell_type": "code",
   "execution_count": 30,
   "metadata": {},
   "outputs": [
    {
     "output_type": "stream",
     "name": "stdout",
     "text": [
      "Similar Movies = (3747885152000, 10)\n"
     ]
    }
   ],
   "source": [
    "similar_movies = compute_movie_similarity_count(train_sparse_data, books, 3)\n",
    "print(\"Similar Movies = {}\".format(similar_movies))"
   ]
  },
  {
   "source": [
    "## Create Sample Sparse Matrix"
   ],
   "cell_type": "markdown",
   "metadata": {}
  },
  {
   "cell_type": "code",
   "execution_count": 31,
   "metadata": {},
   "outputs": [],
   "source": [
    "def get_sample_sparse_matrix(sparse_matrix, no_of_users, no_of_movies):\n",
    "    users, movies, ratings = sparse.find(sparse_matrix)\n",
    "    uniq_users = np.unique(users)\n",
    "    uniq_movies = np.unique(movies)\n",
    "    np.random.seed(15) \n",
    "    user = np.random.choice(uniq_users, no_of_users, replace = False)\n",
    "    movie = np.random.choice(uniq_movies, no_of_movies, replace = True)\n",
    "    mask = np.logical_and(np.isin(users, user), np.isin(movies, movie))\n",
    "    sparse_matrix = sparse.csr_matrix((ratings[mask], (users[mask], movies[mask])), \n",
    "                                                     shape = (max(user)+1, max(movie)+1))\n",
    "    return sparse_matrix"
   ]
  },
  {
   "cell_type": "code",
   "execution_count": 32,
   "metadata": {},
   "outputs": [],
   "source": [
    "train_sample_sparse_matrix = get_sample_sparse_matrix(train_sparse_data, 400, 40)"
   ]
  },
  {
   "cell_type": "code",
   "execution_count": 33,
   "metadata": {},
   "outputs": [],
   "source": [
    "test_sparse_matrix_matrix = get_sample_sparse_matrix(test_sparse_data, 200, 20)"
   ]
  },
  {
   "source": [
    "## A Generic Method to Generate Similar Featuires."
   ],
   "cell_type": "markdown",
   "metadata": {}
  },
  {
   "cell_type": "code",
   "execution_count": 34,
   "metadata": {},
   "outputs": [],
   "source": [
    "def create_new_similar_features(sample_sparse_matrix):\n",
    "    global_avg_rating = get_average_rating(sample_sparse_matrix, False)\n",
    "    global_avg_users = get_average_rating(sample_sparse_matrix, True)\n",
    "    global_avg_movies = get_average_rating(sample_sparse_matrix, False)\n",
    "    sample_train_users, sample_train_movies, sample_train_ratings = sparse.find(sample_sparse_matrix)\n",
    "    new_features_csv_file = open(\"new_features.csv\", mode = \"w\")\n",
    "    \n",
    "    for user, movie, rating in zip(sample_train_users, sample_train_movies, sample_train_ratings):\n",
    "        similar_arr = list()\n",
    "        similar_arr.append(user)\n",
    "        similar_arr.append(movie)\n",
    "        similar_arr.append(sample_sparse_matrix.sum()/sample_sparse_matrix.count_nonzero())\n",
    "        \n",
    "        similar_users = cosine_similarity(sample_sparse_matrix[user], sample_sparse_matrix).ravel()\n",
    "        indices = np.argsort(-similar_users)[1:]\n",
    "        ratings = sample_sparse_matrix[indices, movie].toarray().ravel()\n",
    "        top_similar_user_ratings = list(ratings[ratings != 0][:5])\n",
    "        top_similar_user_ratings.extend([global_avg_rating[movie]] * (5 - len(ratings)))\n",
    "        similar_arr.extend(top_similar_user_ratings)\n",
    "        \n",
    "        similar_movies = cosine_similarity(sample_sparse_matrix[:,movie].T, sample_sparse_matrix.T).ravel()\n",
    "        similar_movies_indices = np.argsort(-similar_movies)[1:]\n",
    "        similar_movies_ratings = sample_sparse_matrix[user, similar_movies_indices].toarray().ravel()\n",
    "        top_similar_movie_ratings = list(similar_movies_ratings[similar_movies_ratings != 0][:5])\n",
    "        top_similar_movie_ratings.extend([global_avg_users[user]] * (5-len(top_similar_movie_ratings)))\n",
    "        similar_arr.extend(top_similar_movie_ratings)\n",
    "        \n",
    "        similar_arr.append(global_avg_users[user])\n",
    "        similar_arr.append(global_avg_movies[movie])\n",
    "        similar_arr.append(rating)\n",
    "        \n",
    "        new_features_csv_file.write(\",\".join(map(str, similar_arr)))\n",
    "        new_features_csv_file.write(\"\\n\")\n",
    "        \n",
    "    new_features_csv_file.close()\n",
    "    new_features_df = pd.read_csv('new_features.csv', names = [\"user_id\", \"movie_id\", \"gloabl_average\", \"similar_user_rating1\", \n",
    "                                                               \"similar_user_rating2\", \"similar_user_rating3\", \n",
    "                                                               \"similar_user_rating4\", \"similar_user_rating5\", \n",
    "                                                               \"similar_movie_rating1\", \"similar_movie_rating2\", \n",
    "                                                               \"similar_movie_rating3\", \"similar_movie_rating4\", \n",
    "                                                               \"similar_movie_rating5\", \"user_average\", \n",
    "                                                               \"movie_average\", \"rating\"])\n",
    "    return new_features_df"
   ]
  },
  {
   "cell_type": "code",
   "execution_count": 35,
   "metadata": {},
   "outputs": [],
   "source": [
    "train_new_similar_features = create_new_similar_features(train_sample_sparse_matrix)"
   ]
  },
  {
   "cell_type": "code",
   "execution_count": 36,
   "metadata": {},
   "outputs": [
    {
     "output_type": "execute_result",
     "data": {
      "text/plain": [
       "   user_id  movie_id  gloabl_average  similar_user_rating1  \\\n",
       "0      164       142        4.884615                   4.0   \n",
       "1      218       142        4.884615                   4.0   \n",
       "2     1112       663        4.884615                   5.0   \n",
       "3      871       710        4.884615                   5.0   \n",
       "4      958       802        4.884615                   5.0   \n",
       "\n",
       "   similar_user_rating2  similar_user_rating3  similar_user_rating4  \\\n",
       "0                   4.0                   4.0                   4.0   \n",
       "1                   5.0                   5.0                   5.0   \n",
       "2                   5.0                   5.0                   5.0   \n",
       "3                   5.0                   5.0                   5.0   \n",
       "4                   5.0                   5.0                   5.0   \n",
       "\n",
       "   similar_user_rating5  similar_movie_rating1  similar_movie_rating2  \\\n",
       "0                   4.0                    4.0                    4.0   \n",
       "1                   5.0                    5.0                    5.0   \n",
       "2                   5.0                    5.0                    5.0   \n",
       "3                   5.0                    5.0                    5.0   \n",
       "4                   5.0                    5.0                    5.0   \n",
       "\n",
       "   similar_movie_rating3  similar_movie_rating4  similar_movie_rating5  \\\n",
       "0                    4.5                    4.0                    0.0   \n",
       "1                    4.5                    5.0                    0.0   \n",
       "2                    5.0                    0.0                    0.0   \n",
       "3                    5.0                    0.0                    0.0   \n",
       "4                    5.0                    0.0                    0.0   \n",
       "\n",
       "   user_average  movie_average  rating  \n",
       "0           0.0            0.0     0.0  \n",
       "1           0.0            0.0     0.0  \n",
       "2           0.0            0.0     0.0  \n",
       "3           0.0            0.0     0.0  \n",
       "4           0.0            0.0     0.0  "
      ],
      "text/html": "<div>\n<style scoped>\n    .dataframe tbody tr th:only-of-type {\n        vertical-align: middle;\n    }\n\n    .dataframe tbody tr th {\n        vertical-align: top;\n    }\n\n    .dataframe thead th {\n        text-align: right;\n    }\n</style>\n<table border=\"1\" class=\"dataframe\">\n  <thead>\n    <tr style=\"text-align: right;\">\n      <th></th>\n      <th>user_id</th>\n      <th>movie_id</th>\n      <th>gloabl_average</th>\n      <th>similar_user_rating1</th>\n      <th>similar_user_rating2</th>\n      <th>similar_user_rating3</th>\n      <th>similar_user_rating4</th>\n      <th>similar_user_rating5</th>\n      <th>similar_movie_rating1</th>\n      <th>similar_movie_rating2</th>\n      <th>similar_movie_rating3</th>\n      <th>similar_movie_rating4</th>\n      <th>similar_movie_rating5</th>\n      <th>user_average</th>\n      <th>movie_average</th>\n      <th>rating</th>\n    </tr>\n  </thead>\n  <tbody>\n    <tr>\n      <th>0</th>\n      <td>164</td>\n      <td>142</td>\n      <td>4.884615</td>\n      <td>4.0</td>\n      <td>4.0</td>\n      <td>4.0</td>\n      <td>4.0</td>\n      <td>4.0</td>\n      <td>4.0</td>\n      <td>4.0</td>\n      <td>4.5</td>\n      <td>4.0</td>\n      <td>0.0</td>\n      <td>0.0</td>\n      <td>0.0</td>\n      <td>0.0</td>\n    </tr>\n    <tr>\n      <th>1</th>\n      <td>218</td>\n      <td>142</td>\n      <td>4.884615</td>\n      <td>4.0</td>\n      <td>5.0</td>\n      <td>5.0</td>\n      <td>5.0</td>\n      <td>5.0</td>\n      <td>5.0</td>\n      <td>5.0</td>\n      <td>4.5</td>\n      <td>5.0</td>\n      <td>0.0</td>\n      <td>0.0</td>\n      <td>0.0</td>\n      <td>0.0</td>\n    </tr>\n    <tr>\n      <th>2</th>\n      <td>1112</td>\n      <td>663</td>\n      <td>4.884615</td>\n      <td>5.0</td>\n      <td>5.0</td>\n      <td>5.0</td>\n      <td>5.0</td>\n      <td>5.0</td>\n      <td>5.0</td>\n      <td>5.0</td>\n      <td>5.0</td>\n      <td>0.0</td>\n      <td>0.0</td>\n      <td>0.0</td>\n      <td>0.0</td>\n      <td>0.0</td>\n    </tr>\n    <tr>\n      <th>3</th>\n      <td>871</td>\n      <td>710</td>\n      <td>4.884615</td>\n      <td>5.0</td>\n      <td>5.0</td>\n      <td>5.0</td>\n      <td>5.0</td>\n      <td>5.0</td>\n      <td>5.0</td>\n      <td>5.0</td>\n      <td>5.0</td>\n      <td>0.0</td>\n      <td>0.0</td>\n      <td>0.0</td>\n      <td>0.0</td>\n      <td>0.0</td>\n    </tr>\n    <tr>\n      <th>4</th>\n      <td>958</td>\n      <td>802</td>\n      <td>4.884615</td>\n      <td>5.0</td>\n      <td>5.0</td>\n      <td>5.0</td>\n      <td>5.0</td>\n      <td>5.0</td>\n      <td>5.0</td>\n      <td>5.0</td>\n      <td>5.0</td>\n      <td>0.0</td>\n      <td>0.0</td>\n      <td>0.0</td>\n      <td>0.0</td>\n      <td>0.0</td>\n    </tr>\n  </tbody>\n</table>\n</div>"
     },
     "metadata": {},
     "execution_count": 36
    }
   ],
   "source": [
    "train_new_similar_features = train_new_similar_features.fillna(0)\n",
    "train_new_similar_features.head()"
   ]
  },
  {
   "cell_type": "code",
   "execution_count": 37,
   "metadata": {},
   "outputs": [],
   "source": [
    "test_new_similar_features = create_new_similar_features(test_sparse_matrix_matrix)"
   ]
  },
  {
   "cell_type": "code",
   "execution_count": 38,
   "metadata": {},
   "outputs": [
    {
     "output_type": "execute_result",
     "data": {
      "text/plain": [
       "   user_id  movie_id  gloabl_average  similar_user_rating1  \\\n",
       "0     1275      2049             4.0                   3.0   \n",
       "1      195      2774             4.0                   5.0   \n",
       "\n",
       "   similar_user_rating2  similar_user_rating3  similar_user_rating4  \\\n",
       "0                   3.0                   3.0                   3.0   \n",
       "1                   5.0                   5.0                   5.0   \n",
       "\n",
       "   similar_user_rating5  similar_movie_rating1  similar_movie_rating2  \\\n",
       "0                   3.0                    3.0                    3.0   \n",
       "1                   5.0                    5.0                    5.0   \n",
       "\n",
       "   similar_movie_rating3  similar_movie_rating4  similar_movie_rating5  \\\n",
       "0                      3                    0.0                    0.0   \n",
       "1                      5                    0.0                    0.0   \n",
       "\n",
       "   user_average  movie_average  rating  \n",
       "0           0.0            0.0     0.0  \n",
       "1           0.0            0.0     0.0  "
      ],
      "text/html": "<div>\n<style scoped>\n    .dataframe tbody tr th:only-of-type {\n        vertical-align: middle;\n    }\n\n    .dataframe tbody tr th {\n        vertical-align: top;\n    }\n\n    .dataframe thead th {\n        text-align: right;\n    }\n</style>\n<table border=\"1\" class=\"dataframe\">\n  <thead>\n    <tr style=\"text-align: right;\">\n      <th></th>\n      <th>user_id</th>\n      <th>movie_id</th>\n      <th>gloabl_average</th>\n      <th>similar_user_rating1</th>\n      <th>similar_user_rating2</th>\n      <th>similar_user_rating3</th>\n      <th>similar_user_rating4</th>\n      <th>similar_user_rating5</th>\n      <th>similar_movie_rating1</th>\n      <th>similar_movie_rating2</th>\n      <th>similar_movie_rating3</th>\n      <th>similar_movie_rating4</th>\n      <th>similar_movie_rating5</th>\n      <th>user_average</th>\n      <th>movie_average</th>\n      <th>rating</th>\n    </tr>\n  </thead>\n  <tbody>\n    <tr>\n      <th>0</th>\n      <td>1275</td>\n      <td>2049</td>\n      <td>4.0</td>\n      <td>3.0</td>\n      <td>3.0</td>\n      <td>3.0</td>\n      <td>3.0</td>\n      <td>3.0</td>\n      <td>3.0</td>\n      <td>3.0</td>\n      <td>3</td>\n      <td>0.0</td>\n      <td>0.0</td>\n      <td>0.0</td>\n      <td>0.0</td>\n      <td>0.0</td>\n    </tr>\n    <tr>\n      <th>1</th>\n      <td>195</td>\n      <td>2774</td>\n      <td>4.0</td>\n      <td>5.0</td>\n      <td>5.0</td>\n      <td>5.0</td>\n      <td>5.0</td>\n      <td>5.0</td>\n      <td>5.0</td>\n      <td>5.0</td>\n      <td>5</td>\n      <td>0.0</td>\n      <td>0.0</td>\n      <td>0.0</td>\n      <td>0.0</td>\n      <td>0.0</td>\n    </tr>\n  </tbody>\n</table>\n</div>"
     },
     "metadata": {},
     "execution_count": 38
    }
   ],
   "source": [
    "test_new_similar_features = test_new_similar_features.fillna(0)\n",
    "test_new_similar_features.head()"
   ]
  },
  {
   "source": [
    "## Building Machine Learning Model"
   ],
   "cell_type": "markdown",
   "metadata": {}
  },
  {
   "cell_type": "code",
   "execution_count": 41,
   "metadata": {},
   "outputs": [],
   "source": [
    "x_train = train_new_similar_features.drop([\"user_id\", \"movie_id\", \"rating\"], axis = 1)\n",
    "\n",
    "x_test = test_new_similar_features.drop([\"user_id\", \"movie_id\", \"rating\"], axis = 1)\n",
    "\n",
    "y_train = train_new_similar_features[\"rating\"]\n",
    "\n",
    "y_test = test_new_similar_features[\"rating\"]"
   ]
  },
  {
   "cell_type": "code",
   "execution_count": 42,
   "metadata": {},
   "outputs": [],
   "source": [
    "def error_metrics(y_true, y_pred):\n",
    "    rmse = np.sqrt(mean_squared_error(y_true, y_pred))\n",
    "    return rmse"
   ]
  },
  {
   "cell_type": "code",
   "execution_count": 43,
   "metadata": {},
   "outputs": [
    {
     "output_type": "execute_result",
     "data": {
      "text/plain": [
       "XGBRegressor(base_score=0.5, booster=None, colsample_bylevel=1,\n",
       "             colsample_bynode=1, colsample_bytree=1, gamma=0, gpu_id=-1,\n",
       "             importance_type='gain', interaction_constraints=None,\n",
       "             learning_rate=0.300000012, max_delta_step=0, max_depth=6,\n",
       "             min_child_weight=1, missing=nan, monotone_constraints=None,\n",
       "             n_estimators=100, n_jobs=10, num_parallel_tree=1,\n",
       "             objective='reg:squarederror', random_state=0, reg_alpha=0,\n",
       "             reg_lambda=1, scale_pos_weight=1, silent=False, subsample=1,\n",
       "             tree_method=None, validate_parameters=False, verbosity=None)"
      ]
     },
     "metadata": {},
     "execution_count": 43
    }
   ],
   "source": [
    "clf = xgb.XGBRegressor(n_estimators = 100, silent = False, n_jobs  = 10)\n",
    "clf.fit(x_train, y_train)"
   ]
  },
  {
   "cell_type": "code",
   "execution_count": 44,
   "metadata": {},
   "outputs": [],
   "source": [
    "y_pred_test = clf.predict(x_test)"
   ]
  },
  {
   "cell_type": "code",
   "execution_count": 45,
   "metadata": {},
   "outputs": [
    {
     "output_type": "execute_result",
     "data": {
      "text/plain": [
       "array([0., 0.], dtype=float32)"
      ]
     },
     "metadata": {},
     "execution_count": 45
    }
   ],
   "source": [
    "y_pred_test"
   ]
  },
  {
   "cell_type": "code",
   "execution_count": 46,
   "metadata": {},
   "outputs": [
    {
     "output_type": "execute_result",
     "data": {
      "text/plain": [
       "0    0.0\n",
       "1    0.0\n",
       "Name: rating, dtype: float64"
      ]
     },
     "metadata": {},
     "execution_count": 46
    }
   ],
   "source": [
    "y_test"
   ]
  },
  {
   "cell_type": "code",
   "execution_count": 163,
   "metadata": {},
   "outputs": [
    {
     "output_type": "stream",
     "name": "stdout",
     "text": [
      "RMSE = 0.0\n"
     ]
    }
   ],
   "source": [
    "rmse_test = error_metrics(y_test, y_pred_test)\n",
    "print(\"RMSE = {}\".format(rmse_test))"
   ]
  },
  {
   "source": [
    "## Plot Feature Importance"
   ],
   "cell_type": "markdown",
   "metadata": {}
  },
  {
   "cell_type": "code",
   "execution_count": 164,
   "metadata": {},
   "outputs": [],
   "source": [
    "def plot_importance(model, clf):\n",
    "    fig = plt.figure(figsize = (8, 6))\n",
    "    ax = fig.add_axes([0,0,1,1])\n",
    "    model.plot_importance(clf, ax = ax, height = 0.3)\n",
    "    plt.xlabel(\"F Score\", fontsize = 20)\n",
    "    plt.ylabel(\"Features\", fontsize = 20)\n",
    "    plt.title(\"Feature Importance\", fontsize = 20)\n",
    "    plt.tick_params(labelsize = 15)\n",
    "    \n",
    "    plt.show()"
   ]
  },
  {
   "cell_type": "code",
   "execution_count": 165,
   "metadata": {},
   "outputs": [
    {
     "output_type": "error",
     "ename": "ValueError",
     "evalue": "Booster.get_score() results in empty",
     "traceback": [
      "\u001b[1;31m---------------------------------------------------------------------------\u001b[0m",
      "\u001b[1;31mValueError\u001b[0m                                Traceback (most recent call last)",
      "\u001b[1;32m<ipython-input-165-da57dd69fa6e>\u001b[0m in \u001b[0;36m<module>\u001b[1;34m\u001b[0m\n\u001b[1;32m----> 1\u001b[1;33m \u001b[0mplot_importance\u001b[0m\u001b[1;33m(\u001b[0m\u001b[0mxgb\u001b[0m\u001b[1;33m,\u001b[0m \u001b[0mclf\u001b[0m\u001b[1;33m)\u001b[0m\u001b[1;33m\u001b[0m\u001b[1;33m\u001b[0m\u001b[0m\n\u001b[0m",
      "\u001b[1;32m<ipython-input-164-e9c07cbb011c>\u001b[0m in \u001b[0;36mplot_importance\u001b[1;34m(model, clf)\u001b[0m\n\u001b[0;32m      2\u001b[0m     \u001b[0mfig\u001b[0m \u001b[1;33m=\u001b[0m \u001b[0mplt\u001b[0m\u001b[1;33m.\u001b[0m\u001b[0mfigure\u001b[0m\u001b[1;33m(\u001b[0m\u001b[0mfigsize\u001b[0m \u001b[1;33m=\u001b[0m \u001b[1;33m(\u001b[0m\u001b[1;36m8\u001b[0m\u001b[1;33m,\u001b[0m \u001b[1;36m6\u001b[0m\u001b[1;33m)\u001b[0m\u001b[1;33m)\u001b[0m\u001b[1;33m\u001b[0m\u001b[1;33m\u001b[0m\u001b[0m\n\u001b[0;32m      3\u001b[0m     \u001b[0max\u001b[0m \u001b[1;33m=\u001b[0m \u001b[0mfig\u001b[0m\u001b[1;33m.\u001b[0m\u001b[0madd_axes\u001b[0m\u001b[1;33m(\u001b[0m\u001b[1;33m[\u001b[0m\u001b[1;36m0\u001b[0m\u001b[1;33m,\u001b[0m\u001b[1;36m0\u001b[0m\u001b[1;33m,\u001b[0m\u001b[1;36m1\u001b[0m\u001b[1;33m,\u001b[0m\u001b[1;36m1\u001b[0m\u001b[1;33m]\u001b[0m\u001b[1;33m)\u001b[0m\u001b[1;33m\u001b[0m\u001b[1;33m\u001b[0m\u001b[0m\n\u001b[1;32m----> 4\u001b[1;33m     \u001b[0mmodel\u001b[0m\u001b[1;33m.\u001b[0m\u001b[0mplot_importance\u001b[0m\u001b[1;33m(\u001b[0m\u001b[0mclf\u001b[0m\u001b[1;33m,\u001b[0m \u001b[0max\u001b[0m \u001b[1;33m=\u001b[0m \u001b[0max\u001b[0m\u001b[1;33m,\u001b[0m \u001b[0mheight\u001b[0m \u001b[1;33m=\u001b[0m \u001b[1;36m0.3\u001b[0m\u001b[1;33m)\u001b[0m\u001b[1;33m\u001b[0m\u001b[1;33m\u001b[0m\u001b[0m\n\u001b[0m\u001b[0;32m      5\u001b[0m     \u001b[0mplt\u001b[0m\u001b[1;33m.\u001b[0m\u001b[0mxlabel\u001b[0m\u001b[1;33m(\u001b[0m\u001b[1;34m\"F Score\"\u001b[0m\u001b[1;33m,\u001b[0m \u001b[0mfontsize\u001b[0m \u001b[1;33m=\u001b[0m \u001b[1;36m20\u001b[0m\u001b[1;33m)\u001b[0m\u001b[1;33m\u001b[0m\u001b[1;33m\u001b[0m\u001b[0m\n\u001b[0;32m      6\u001b[0m     \u001b[0mplt\u001b[0m\u001b[1;33m.\u001b[0m\u001b[0mylabel\u001b[0m\u001b[1;33m(\u001b[0m\u001b[1;34m\"Features\"\u001b[0m\u001b[1;33m,\u001b[0m \u001b[0mfontsize\u001b[0m \u001b[1;33m=\u001b[0m \u001b[1;36m20\u001b[0m\u001b[1;33m)\u001b[0m\u001b[1;33m\u001b[0m\u001b[1;33m\u001b[0m\u001b[0m\n",
      "\u001b[1;32m~\\AppData\\Local\\Programs\\Python\\Python37\\lib\\site-packages\\xgboost\\plotting.py\u001b[0m in \u001b[0;36mplot_importance\u001b[1;34m(booster, ax, height, xlim, ylim, title, xlabel, ylabel, importance_type, max_num_features, grid, show_values, **kwargs)\u001b[0m\n\u001b[0;32m     69\u001b[0m \u001b[1;33m\u001b[0m\u001b[0m\n\u001b[0;32m     70\u001b[0m     \u001b[1;32mif\u001b[0m \u001b[1;32mnot\u001b[0m \u001b[0mimportance\u001b[0m\u001b[1;33m:\u001b[0m\u001b[1;33m\u001b[0m\u001b[1;33m\u001b[0m\u001b[0m\n\u001b[1;32m---> 71\u001b[1;33m         \u001b[1;32mraise\u001b[0m \u001b[0mValueError\u001b[0m\u001b[1;33m(\u001b[0m\u001b[1;34m'Booster.get_score() results in empty'\u001b[0m\u001b[1;33m)\u001b[0m\u001b[1;33m\u001b[0m\u001b[1;33m\u001b[0m\u001b[0m\n\u001b[0m\u001b[0;32m     72\u001b[0m \u001b[1;33m\u001b[0m\u001b[0m\n\u001b[0;32m     73\u001b[0m     \u001b[0mtuples\u001b[0m \u001b[1;33m=\u001b[0m \u001b[1;33m[\u001b[0m\u001b[1;33m(\u001b[0m\u001b[0mk\u001b[0m\u001b[1;33m,\u001b[0m \u001b[0mimportance\u001b[0m\u001b[1;33m[\u001b[0m\u001b[0mk\u001b[0m\u001b[1;33m]\u001b[0m\u001b[1;33m)\u001b[0m \u001b[1;32mfor\u001b[0m \u001b[0mk\u001b[0m \u001b[1;32min\u001b[0m \u001b[0mimportance\u001b[0m\u001b[1;33m]\u001b[0m\u001b[1;33m\u001b[0m\u001b[1;33m\u001b[0m\u001b[0m\n",
      "\u001b[1;31mValueError\u001b[0m: Booster.get_score() results in empty"
     ]
    }
   ],
   "source": [
    " plot_importance(xgb, clf)"
   ]
  },
  {
   "cell_type": "code",
   "execution_count": null,
   "metadata": {},
   "outputs": [],
   "source": []
  }
 ]
}
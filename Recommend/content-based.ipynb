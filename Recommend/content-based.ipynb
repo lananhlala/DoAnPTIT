{
 "metadata": {
  "language_info": {
   "codemirror_mode": {
    "name": "ipython",
    "version": 3
   },
   "file_extension": ".py",
   "mimetype": "text/x-python",
   "name": "python",
   "nbconvert_exporter": "python",
   "pygments_lexer": "ipython3",
   "version": "3.7.6-final"
  },
  "orig_nbformat": 2,
  "kernelspec": {
   "name": "python3",
   "display_name": "Python 3.7.6 64-bit",
   "metadata": {
    "interpreter": {
     "hash": "7f2dcf1d125493348cccf1ae2de68f791ab3bc9e1341fd8e5bb01552f7645ce1"
    }
   }
  }
 },
 "nbformat": 4,
 "nbformat_minor": 2,
 "cells": [
  {
   "cell_type": "code",
   "execution_count": 1,
   "metadata": {},
   "outputs": [],
   "source": [
    "module_path = os.path.abspath(os.path.join('..'))\n",
    "if module_path not in sys.path:\n",
    "    sys.path.append(module_path)\n",
    "import pandas as pd \n",
    "import numpy as np \n",
    "import seaborn as sns \n",
    "import matplotlib.pyplot as plt\n",
    "from PreprocessData.text_preprocessing import preprocess_text"
   ]
  },
  {
   "cell_type": "code",
   "execution_count": 2,
   "metadata": {},
   "outputs": [
    {
     "output_type": "execute_result",
     "data": {
      "text/plain": [
       "          id                                               name book_cover  \\\n",
       "0   58390336                                      Python cơ bản    Bìa mềm   \n",
       "1    1664525  Giáo Trình Kỹ Thuật Lập Trình C Căn Bản Và Nân...    Bìa mềm   \n",
       "2   55573620  Giáo Trình Tự Học AutoCAD 2019 Thực Hành Bằng ...    Bìa mềm   \n",
       "3   24889348  Lập trình hướng đối tượng JAVA core dành cho n...        NaN   \n",
       "4   37667006  Combo Giáo Trình Kỹ Thuật Lập Trình C Căn Bản ...    Bìa mềm   \n",
       "5   55582071  Thực Hành Microsoft Word - Excel - PowerPoint ...    Bìa mềm   \n",
       "6   15734790                       Tự Học Photoshop CC Toàn Tập    Bìa mềm   \n",
       "7   54389413       Tự Học Nhanh,Microsoft Office (Word - Excel)    Bìa mềm   \n",
       "8   48982090  Ứng Dụng Casio Fx - 580Vn X Đối Với Các Môn TH...        NaN   \n",
       "9   49895267  Tin Học Văn Phòng, Tự Học Excel Bằng Hình Ảnh ...    Bìa mềm   \n",
       "10  25202283  Sách Lập trình với Scratch 3.0 (Dành cho học s...    Bìa mềm   \n",
       "11  58709179  Sách Giải Nhanh Bài Thi Trắc Nghiệm Môn Toán V...        NaN   \n",
       "12  50317469  Giáo Trình Thực Hành Microsoft Excel 2019 Căn ...    Bìa mềm   \n",
       "13  48018642  Giáo Trình Thực Hành Excel - Dùng Cho Các Phiê...    Bìa mềm   \n",
       "14  49895271                 Hướng Dẫn Sử Dụng Microsoft Office    Bìa mềm   \n",
       "15  48754164           Lập Trình Với Scratch 3.0 (Tái Bản 2019)        NaN   \n",
       "16  55695623  Sách Luyện thi hội thi tin học trẻ với Scratch...    Bìa mềm   \n",
       "17  48753629  Hướng Dẫn Sử Dụng Máy Tính Khoa Học Casio Fx -...        NaN   \n",
       "18   7611823                      Giáo Trình Coreldraw X7,X8&X9        NaN   \n",
       "19  58708783  Chinh Phục Các Dạng Toán Thực Tế THCS Với Máy ...        NaN   \n",
       "20  54389409  Giáo Trình Vi Điều Khiển ARM. Hướng Dẫn Sử Dụn...    Bìa mềm   \n",
       "21  55025250                           Tự học lập trình Scratch    Bìa gập   \n",
       "22  10123965  Vi Điều Khiển Và Ứng Dụng - Arduino Dành Cho N...    Bìa mềm   \n",
       "23  23966746  Giáo Trình Thực Hành Thiết Kế Kiến Trúc Với  V...    Bìa mềm   \n",
       "24   4106495          Photoshop Giáo Trình Xử Lý Ảnh CC-CS6-CS5    Bìa mềm   \n",
       "25  36300315  Thực Hành Các Công Thức Và Hàm Excel 2016 Bằng...    Bìa mềm   \n",
       "26  49895269                      Excel  Dành Cho Người Bắt Đầu    Bìa mềm   \n",
       "27   4106563          Giáo Trình Thực Hành Photoshop CC-CS6-CS5    Bìa mềm   \n",
       "28  11658897  Bộ sách Thế giới Hacker và An Toàn Thông Tin M...    Bìa mềm   \n",
       "29  15734786               Lập Trình Với PLC S7 1200 Và S7 1500    Bìa mềm   \n",
       "30  23966748                                   Lập Trình Với C#    Bìa mềm   \n",
       "31  55054903  Giáo Trình Thực Hành Kiểm Thử Phần Mềm - Từng ...    Bìa mềm   \n",
       "32  54389411                       Làm Phim Với Premiere Pro CC    Bìa mềm   \n",
       "33  58723518                        Excel Dành Cho Người Tự Học    Bìa mềm   \n",
       "34  51617979  KiểM Thử PhầN MềM - Từng Bước Trở Thành Te...        NaN   \n",
       "35  54389407       Lập Trình Arduino Với IoT-Hệ Vạn Vật Kết Nối    Bìa mềm   \n",
       "36   4396853  Hướng Dẫn Lập Trình Quản Lý Với Microsoft Access     Bìa mềm   \n",
       "37  58457390  An Toàn Dữ Liệu - Mã Hóa Bảo Mật Thông Tin, An...    Bìa mềm   \n",
       "38  54389415                           Arduino Và Lập Trình IoT    Bìa mềm   \n",
       "39  28040139                           CCNA ROUTING & SWITCHING        NaN   \n",
       "\n",
       "     price  rating_average  review_count  order_count  \\\n",
       "0   125000             4.8            32            0   \n",
       "1    67500             4.5            82            0   \n",
       "2   110000             4.7            10            0   \n",
       "3   189000             4.7            86            0   \n",
       "4   223400             4.3            21            0   \n",
       "5    79000             4.4             3            0   \n",
       "6    90000             4.7            12            0   \n",
       "7   106080             3.9             8            0   \n",
       "8   105600             5.0             6            0   \n",
       "9    91120             4.3             7            0   \n",
       "10  190000             4.7            32            0   \n",
       "11  132000             4.7             3            0   \n",
       "12  120000             4.5            13            0   \n",
       "13   87750             4.8             4            0   \n",
       "14   92300             4.4             5            0   \n",
       "15  176000             4.8             8            0   \n",
       "16  160000             4.6             5            0   \n",
       "17  105600             4.9             8            0   \n",
       "18   72600             4.6             5            0   \n",
       "19  158400             4.5             2            0   \n",
       "20   97500             5.0             1            0   \n",
       "21  220000             4.2             5            0   \n",
       "22  105000             4.5            20            0   \n",
       "23   89100             4.5             4            0   \n",
       "24   79200             4.6             5            0   \n",
       "25   99000             4.0             6            0   \n",
       "26  106080             5.0             6            0   \n",
       "27   96000             4.2             7            0   \n",
       "28  670000             4.7             9            0   \n",
       "29  110500             4.5             4            0   \n",
       "30  100000             4.6            15            0   \n",
       "31   81250             5.0             1            0   \n",
       "32  111800             3.0             2            0   \n",
       "33  137600             5.0             1            0   \n",
       "34   57200             4.5             2            0   \n",
       "35   94250             4.0             2            0   \n",
       "36  100800             4.5             2            0   \n",
       "37  111990             5.0             2            0   \n",
       "38  105300             2.5             2            0   \n",
       "39  180000             4.4             8            0   \n",
       "\n",
       "                                          description  \\\n",
       "0   SÁCH PYTHON CƠ BẢN\\nHiện nay ngôn ngữ lập trìn...   \n",
       "1   Giáo trình kỹ thuật lập trình C căn bản và nân...   \n",
       "2   Mục lục:\\nCHƯƠNG 1: BẮT ĐẦU AUTOCAD 2019 \\nCHƯ...   \n",
       "3   I. Đôi điều về tác giả\\nTôi là NEOS.THÀNH (Ngu...   \n",
       "4   Giáo trình kỹ thuật lập trình C căn bản và nân...   \n",
       "5   * Sách sử dụng cho các phiên bản Excel 2019 - ...   \n",
       "6   Tự Học Photoshop CC (Toàn Tập) là quyển sách s...   \n",
       "7   Word và Excel là hai chương trình thuộc bộ Mic...   \n",
       "8   Ứng Dụng Casio Fx - 580Vn X Đối Với Các Môn Th...   \n",
       "9   Tin Học Văn Phòng, Tự Học Excel Bằng Hình Ảnh ...   \n",
       "10  “Lập trình với Scratch 3.0” là cuốn sách phiên...   \n",
       "11  Sách Giải Nhanh Bài Thi Trắc Nghiệm Môn Toán V...   \n",
       "12     * Sách sử dụng cho các phiên bản Excel 2019...   \n",
       "13  Giáo Trình Thực Hành Excel - Dùng Cho Các Phiê...   \n",
       "14  Hướng Dẫn Sử Dụng Microsoft Office\\nHướng dẫn ...   \n",
       "15  Lập Trình Với Scratch 3.0\\n\\n“Lập trình với Sc...   \n",
       "16  Cung cấp tới các thầy cô và các bạn học sinh t...   \n",
       "17  Hướng Dẫn Sử Dụng Máy Tính Khoa Học Casio Fx -...   \n",
       "18  CorelDRAW là một trong những chương trình vẽ v...   \n",
       "19  Chinh Phục Các Dạng Toán Thực Tế THCS Với Máy ...   \n",
       "20  Giáo trình vi điều khiển ARM  Hướng dẫn sử dụn...   \n",
       "21  Lập trình Scratch, một môi trường, ngôn ngữ lậ...   \n",
       "22  Vi Điều Khiển Và Ứng Dụng - Arduino Dành Cho N...   \n",
       "23  SketchUp & Vray là tài liệu hướng dẫn sử dụng ...   \n",
       "24  Photoshop Giáo Trình Xử Lý Ảnh CC-CS6-CS5\\nThe...   \n",
       "25  * Sách sử dụng cho các phiên bản Excel 2019 - ...   \n",
       "26  Excel Dành Cho Người Bắt ĐầuSách trình bày qua...   \n",
       "27  Photoshop Giáo Trình Xử Lý Ảnh CC-CS6-CS5\\nSác...   \n",
       "28  \\n/* NHỮNG ĐIỀU CHÚNG TA CHƯA TỪNG BIẾT VỀ THẾ...   \n",
       "29  PLC (Programmable logic controller): là bộ điề...   \n",
       "30  Lập Trình Với C#\\n\\nHướng dẫn người học từng b...   \n",
       "31  Giáo Trình Thực Hành Kiểm Thử Phần Mềm - Từng ...   \n",
       "32  Làm phim với PREMIERE PRO CC.\\nGồm 2 phần với ...   \n",
       "33  Gồm 13 chương và 1 phụ lục với nội dung sau:\\n...   \n",
       "34  Nội dung:\\nChương 1: Tổng quan về kiểm thử phầ...   \n",
       "35  Sách gồm  14 chương.\\nCHƯƠNG 1: GIỚI THIỆU SÁC...   \n",
       "36  Hướng Dẫn Lập Trình Quản Lý Với Microsoft Acce...   \n",
       "37  Nhu cầu sử dụng mật mã đã xuất hiện từ rất sớm...   \n",
       "38  ARDUINO và lập trình ToT có 3 phần với 10 chươ...   \n",
       "39   \\nChương 1: CƠ SỞ VỀ MẠNG\\n1. 1 Mạng căn bản\\...   \n",
       "\n",
       "                                          publisher  \\\n",
       "0                       NXB Đại Học Quốc Gia Hà Nội   \n",
       "1                               Huy Hoàng Bookstore   \n",
       "2         Công Ty TNHH Văn Hóa - Thế Giới Sách Việt   \n",
       "3                                                 -   \n",
       "4                               Huy Hoàng Bookstore   \n",
       "5         Công Ty TNHH Văn Hóa - Thế Giới Sách Việt   \n",
       "6                       Công Ty TNHH Thương Mại STK   \n",
       "7                       Công Ty TNHH Thương Mại STK   \n",
       "8                                          Bình Tây   \n",
       "9                       Công Ty TNHH Thương Mại STK   \n",
       "10                                Học viện VIETSTEM   \n",
       "11                                         Bình Tây   \n",
       "12        Công Ty TNHH Văn Hóa - Thế Giới Sách Việt   \n",
       "13                      Công Ty TNHH Thương Mại STK   \n",
       "14                      Công Ty TNHH Thương Mại STK   \n",
       "15                   Cty TNHH GD & ĐT Ngôi Sao Xanh   \n",
       "16                                Học viện VIETSTEM   \n",
       "17                                         Bình Tây   \n",
       "18                      Công Ty TNHH Thương Mại STK   \n",
       "19                                         Bình Tây   \n",
       "20                      Công Ty TNHH Thương Mại STK   \n",
       "21               Công ty TNHH Tin Học Và Nhà Trường   \n",
       "22                      Công Ty TNHH Thương Mại STK   \n",
       "23                      Công Ty TNHH Thương Mại STK   \n",
       "24                      Công Ty TNHH Thương Mại STK   \n",
       "25        Công Ty TNHH Văn Hóa - Thế Giới Sách Việt   \n",
       "26                      Công Ty TNHH Thương Mại STK   \n",
       "27                      Công Ty TNHH Thương Mại STK   \n",
       "28                                       Alphabooks   \n",
       "29                      Công Ty TNHH Thương Mại STK   \n",
       "30                      Công Ty TNHH Thương Mại STK   \n",
       "31                      Công Ty TNHH Thương Mại STK   \n",
       "32                      Công Ty TNHH Thương Mại STK   \n",
       "33                      Công Ty TNHH Thương Mại STK   \n",
       "34                               Cty Thương mại STK   \n",
       "35                      Công Ty TNHH Thương Mại STK   \n",
       "36                      Công Ty TNHH Thương Mại STK   \n",
       "37  Trung Tâm Kinh Doanh Xuất Bản Và Phát Hành Sách   \n",
       "38                      Công Ty TNHH Thương Mại STK   \n",
       "39                          Trung Tâm Tin Học VnPro   \n",
       "\n",
       "                                       authors              big_category  \\\n",
       "0                                  Bùi Việt Hà  Sách Công Nghệ Thông Tin   \n",
       "1                                Nhiều Tác Giả  Sách Công Nghệ Thông Tin   \n",
       "2                                Nhiều Tác Giả  Sách Công Nghệ Thông Tin   \n",
       "3                                Nhiều Tác Giả  Sách Công Nghệ Thông Tin   \n",
       "4                                Nhiều Tác Giả  Sách Công Nghệ Thông Tin   \n",
       "5                                Nhiều Tác Giả  Sách Công Nghệ Thông Tin   \n",
       "6                           KS. Phạm Quang Huy  Sách Công Nghệ Thông Tin   \n",
       "7                                Nhiều Tác Giả  Sách Công Nghệ Thông Tin   \n",
       "8                                        Bitex  Sách Công Nghệ Thông Tin   \n",
       "9             Trần Tường Thụy, Phạm Quang Huấn  Sách Công Nghệ Thông Tin   \n",
       "10                  Nguyễn Hữu Hưng (chủ biên)  Sách Công Nghệ Thông Tin   \n",
       "11                                       Bitex  Sách Công Nghệ Thông Tin   \n",
       "12                               Nhiều Tác Giả  Sách Công Nghệ Thông Tin   \n",
       "13             Phạm Quang Huy, Phạm Phương Hoa  Sách Công Nghệ Thông Tin   \n",
       "14             Phạm Quang Huy, Phạm Quang Huấn  Sách Công Nghệ Thông Tin   \n",
       "15                             Nguyễn Hữu Hưng  Sách Công Nghệ Thông Tin   \n",
       "16                  Nguyễn Hữu Hưng (chủ biên)  Sách Công Nghệ Thông Tin   \n",
       "17                                       Bitex  Sách Công Nghệ Thông Tin   \n",
       "18                               Nhiều Tác Giả  Sách Công Nghệ Thông Tin   \n",
       "19                               Nhiều Tác Giả  Sách Công Nghệ Thông Tin   \n",
       "20                               Nhiều Tác Giả  Sách Công Nghệ Thông Tin   \n",
       "21                                 Bùi Việt Hà  Sách Công Nghệ Thông Tin   \n",
       "22                           KS Phạm Quang Huy  Sách Công Nghệ Thông Tin   \n",
       "23             Phạm Quang Hiển, Phạm Quang Huy  Sách Công Nghệ Thông Tin   \n",
       "24                               Nhiều Tác Giả  Sách Công Nghệ Thông Tin   \n",
       "25                               Nhiều Tác Giả  Sách Công Nghệ Thông Tin   \n",
       "26            Phạm Quang Hiển, Trần Tường Thụy  Sách Công Nghệ Thông Tin   \n",
       "27                               Nhiều Tác Giả  Sách Công Nghệ Thông Tin   \n",
       "28                               Nhiều Tác Giả  Sách Công Nghệ Thông Tin   \n",
       "29  PGS TS. Ngô Văn Thuyên, KS. Phạm Quang Huy  Sách Công Nghệ Thông Tin   \n",
       "30                               Nhiều Tác Giả  Sách Công Nghệ Thông Tin   \n",
       "31             Phạm Quang Hiển, Phạm Quang Huy  Sách Công Nghệ Thông Tin   \n",
       "32                               Nhiều Tác Giả  Sách Công Nghệ Thông Tin   \n",
       "33                             Phạm Phương Hoa  Sách Công Nghệ Thông Tin   \n",
       "34                          Nguyễn Thi Kiêm Ái  Sách Công Nghệ Thông Tin   \n",
       "35                               Nhiều Tác Giả  Sách Công Nghệ Thông Tin   \n",
       "36                        Ths. Huỳnh Tôn Nghĩa  Sách Công Nghệ Thông Tin   \n",
       "37                               Nhiều Tác Giả  Sách Công Nghệ Thông Tin   \n",
       "38                               Nhiều Tác Giả  Sách Công Nghệ Thông Tin   \n",
       "39                               Nhiều Tác Giả  Sách Công Nghệ Thông Tin   \n",
       "\n",
       "          sub_category                                  clean_description  \n",
       "0            Lập Trình  sách python cơ_bản ngôn_ngữ lập_trình bậc pyth...  \n",
       "1            Lập Trình  giáo_trình kỹ_thuật lập_trình căn_bản nâng hìn...  \n",
       "2    Thiết Kế - Đồ Họa  mục_lục chương autocad chương kỹ_năng cơ_bản c...  \n",
       "3            Lập Trình  đôi tác_giả neos thành nguyễn văn thành lập_tr...  \n",
       "4            Lập Trình  giáo_trình kỹ_thuật lập_trình căn_bản nâng hìn...  \n",
       "5    Tin Học Văn Phòng  sách phiên_bản excel mục_lục chương giới_thiệu...  \n",
       "6    Tin Học Văn Phòng  học photoshop toàn_tập quyển sách giúp kiến_th...  \n",
       "7    Tin Học Văn Phòng  word excel hai chương_trình microsoft office ứ...  \n",
       "8    Tin Học Văn Phòng                ứng_dụng casio môn thpt lý_hóa_sinh  \n",
       "9    Tin Học Văn Phòng  tin_học văn_phòng học excel hình_ảnh phiên_bản...  \n",
       "10           Lập Trình  lập_trình scratch sách phiên_bản lập_trình scr...  \n",
       "11   Tin Học Văn Phòng  sách giải thi trắc_nghiệm môn toán máy_tính ca...  \n",
       "12   Tin Học Văn Phòng  sách phiên_bản excel giới_thiệu biên_soạn hân_...  \n",
       "13           Lập Trình  giáo_trình thực_hành excel phiên_bản lĩnh_vực ...  \n",
       "14   Tin Học Văn Phòng  hướng_dẫn microsoft office hướng_dẫn microsoft...  \n",
       "15   Tin Học Văn Phòng  lập_trình scratch lập_trình scratch sách phiên...  \n",
       "16           Lập Trình  cung_cấp thầy học_sinh tài_liệu hướng_dẫn ôn_l...  \n",
       "17   Tin Học Văn Phòng  hướng_dẫn máy_tính khoa_học casio chương_trình...  \n",
       "18   Thiết Kế - Đồ Họa  coreldraw chương_trình vector phổ_biến việt_na...  \n",
       "19   Tin Học Văn Phòng  chinh_phục dạng toán thcs máy_tính casio casio...  \n",
       "20   Thiết Kế - Đồ Họa  giáo_trình điều_khiển arm hướng_dẫn stm chương...  \n",
       "21           Lập Trình  lập_trình scratch môi_trường ngôn_ngữ lập_trìn...  \n",
       "22   Thiết Kế - Đồ Họa  điều_khiển ứng_dụng arduino học sách chuyên_đề...  \n",
       "23           Lập Trình  sketchup vray tài_liệu hướng_dẫn google sketch...  \n",
       "24   Thiết Kế - Đồ Họa  photoshop giáo_trình ảnh photoshop tiến_bộ trì...  \n",
       "25   Tin Học Văn Phòng  sách phiên_bản excel microsoft excel chương_tr...  \n",
       "26   Tin Học Văn Phòng  excel bắt đầusách trình_bày chương hướng_dẫn g...  \n",
       "27   Thiết Kế - Đồ Họa  photoshop giáo_trình ảnh sách biên_soạn kiểu c...  \n",
       "28           Lập Trình  thế_giới hacker cuộc_sống màn_hình máy_tính cá...  \n",
       "29           Lập Trình  plc programmable logic controller điều_khiển l...  \n",
       "30           Lập Trình  lập_trình hướng_dẫn học lập_trình xây_dựng ứng...  \n",
       "31           Lập Trình  giáo_trình thực_hành kiểm_thử phần_mềm tester ...  \n",
       "32   Thiết Kế - Đồ Họa  phim premiere pro chương chương chương cài_đặt...  \n",
       "33   Tin Học Văn Phòng  chương phụ_lục nội_dung chương tổng_quan excel...  \n",
       "34   Tin Học Văn Phòng  nội_dung chương tổng_quan kiểm_thử phần_mềm ch...  \n",
       "35           Lập Trình  sách chương chương giới_thiệu sách chương tổng...  \n",
       "36   Thiết Kế - Đồ Họa  hướng_dẫn lập_trình quản_lý microsoft access t...  \n",
       "37           Lập Trình  nhu_cầu mật_mã con_người trao_đổi truyền_thông...  \n",
       "38           Lập Trình  arduino lập_trình tot chương giới_thiệu chương...  \n",
       "39           Lập Trình  chương cơ_sở mạng mạng căn_bản mô_hình osi mô_...  "
      ],
      "text/html": "<div>\n<style scoped>\n    .dataframe tbody tr th:only-of-type {\n        vertical-align: middle;\n    }\n\n    .dataframe tbody tr th {\n        vertical-align: top;\n    }\n\n    .dataframe thead th {\n        text-align: right;\n    }\n</style>\n<table border=\"1\" class=\"dataframe\">\n  <thead>\n    <tr style=\"text-align: right;\">\n      <th></th>\n      <th>id</th>\n      <th>name</th>\n      <th>book_cover</th>\n      <th>price</th>\n      <th>rating_average</th>\n      <th>review_count</th>\n      <th>order_count</th>\n      <th>description</th>\n      <th>publisher</th>\n      <th>authors</th>\n      <th>big_category</th>\n      <th>sub_category</th>\n      <th>clean_description</th>\n    </tr>\n  </thead>\n  <tbody>\n    <tr>\n      <th>0</th>\n      <td>58390336</td>\n      <td>Python cơ bản</td>\n      <td>Bìa mềm</td>\n      <td>125000</td>\n      <td>4.8</td>\n      <td>32</td>\n      <td>0</td>\n      <td>SÁCH PYTHON CƠ BẢN\\nHiện nay ngôn ngữ lập trìn...</td>\n      <td>NXB Đại Học Quốc Gia Hà Nội</td>\n      <td>Bùi Việt Hà</td>\n      <td>Sách Công Nghệ Thông Tin</td>\n      <td>Lập Trình</td>\n      <td>sách python cơ_bản ngôn_ngữ lập_trình bậc pyth...</td>\n    </tr>\n    <tr>\n      <th>1</th>\n      <td>1664525</td>\n      <td>Giáo Trình Kỹ Thuật Lập Trình C Căn Bản Và Nân...</td>\n      <td>Bìa mềm</td>\n      <td>67500</td>\n      <td>4.5</td>\n      <td>82</td>\n      <td>0</td>\n      <td>Giáo trình kỹ thuật lập trình C căn bản và nân...</td>\n      <td>Huy Hoàng Bookstore</td>\n      <td>Nhiều Tác Giả</td>\n      <td>Sách Công Nghệ Thông Tin</td>\n      <td>Lập Trình</td>\n      <td>giáo_trình kỹ_thuật lập_trình căn_bản nâng hìn...</td>\n    </tr>\n    <tr>\n      <th>2</th>\n      <td>55573620</td>\n      <td>Giáo Trình Tự Học AutoCAD 2019 Thực Hành Bằng ...</td>\n      <td>Bìa mềm</td>\n      <td>110000</td>\n      <td>4.7</td>\n      <td>10</td>\n      <td>0</td>\n      <td>Mục lục:\\nCHƯƠNG 1: BẮT ĐẦU AUTOCAD 2019 \\nCHƯ...</td>\n      <td>Công Ty TNHH Văn Hóa - Thế Giới Sách Việt</td>\n      <td>Nhiều Tác Giả</td>\n      <td>Sách Công Nghệ Thông Tin</td>\n      <td>Thiết Kế - Đồ Họa</td>\n      <td>mục_lục chương autocad chương kỹ_năng cơ_bản c...</td>\n    </tr>\n    <tr>\n      <th>3</th>\n      <td>24889348</td>\n      <td>Lập trình hướng đối tượng JAVA core dành cho n...</td>\n      <td>NaN</td>\n      <td>189000</td>\n      <td>4.7</td>\n      <td>86</td>\n      <td>0</td>\n      <td>I. Đôi điều về tác giả\\nTôi là NEOS.THÀNH (Ngu...</td>\n      <td>-</td>\n      <td>Nhiều Tác Giả</td>\n      <td>Sách Công Nghệ Thông Tin</td>\n      <td>Lập Trình</td>\n      <td>đôi tác_giả neos thành nguyễn văn thành lập_tr...</td>\n    </tr>\n    <tr>\n      <th>4</th>\n      <td>37667006</td>\n      <td>Combo Giáo Trình Kỹ Thuật Lập Trình C Căn Bản ...</td>\n      <td>Bìa mềm</td>\n      <td>223400</td>\n      <td>4.3</td>\n      <td>21</td>\n      <td>0</td>\n      <td>Giáo trình kỹ thuật lập trình C căn bản và nân...</td>\n      <td>Huy Hoàng Bookstore</td>\n      <td>Nhiều Tác Giả</td>\n      <td>Sách Công Nghệ Thông Tin</td>\n      <td>Lập Trình</td>\n      <td>giáo_trình kỹ_thuật lập_trình căn_bản nâng hìn...</td>\n    </tr>\n    <tr>\n      <th>5</th>\n      <td>55582071</td>\n      <td>Thực Hành Microsoft Word - Excel - PowerPoint ...</td>\n      <td>Bìa mềm</td>\n      <td>79000</td>\n      <td>4.4</td>\n      <td>3</td>\n      <td>0</td>\n      <td>* Sách sử dụng cho các phiên bản Excel 2019 - ...</td>\n      <td>Công Ty TNHH Văn Hóa - Thế Giới Sách Việt</td>\n      <td>Nhiều Tác Giả</td>\n      <td>Sách Công Nghệ Thông Tin</td>\n      <td>Tin Học Văn Phòng</td>\n      <td>sách phiên_bản excel mục_lục chương giới_thiệu...</td>\n    </tr>\n    <tr>\n      <th>6</th>\n      <td>15734790</td>\n      <td>Tự Học Photoshop CC Toàn Tập</td>\n      <td>Bìa mềm</td>\n      <td>90000</td>\n      <td>4.7</td>\n      <td>12</td>\n      <td>0</td>\n      <td>Tự Học Photoshop CC (Toàn Tập) là quyển sách s...</td>\n      <td>Công Ty TNHH Thương Mại STK</td>\n      <td>KS. Phạm Quang Huy</td>\n      <td>Sách Công Nghệ Thông Tin</td>\n      <td>Tin Học Văn Phòng</td>\n      <td>học photoshop toàn_tập quyển sách giúp kiến_th...</td>\n    </tr>\n    <tr>\n      <th>7</th>\n      <td>54389413</td>\n      <td>Tự Học Nhanh,Microsoft Office (Word - Excel)</td>\n      <td>Bìa mềm</td>\n      <td>106080</td>\n      <td>3.9</td>\n      <td>8</td>\n      <td>0</td>\n      <td>Word và Excel là hai chương trình thuộc bộ Mic...</td>\n      <td>Công Ty TNHH Thương Mại STK</td>\n      <td>Nhiều Tác Giả</td>\n      <td>Sách Công Nghệ Thông Tin</td>\n      <td>Tin Học Văn Phòng</td>\n      <td>word excel hai chương_trình microsoft office ứ...</td>\n    </tr>\n    <tr>\n      <th>8</th>\n      <td>48982090</td>\n      <td>Ứng Dụng Casio Fx - 580Vn X Đối Với Các Môn TH...</td>\n      <td>NaN</td>\n      <td>105600</td>\n      <td>5.0</td>\n      <td>6</td>\n      <td>0</td>\n      <td>Ứng Dụng Casio Fx - 580Vn X Đối Với Các Môn Th...</td>\n      <td>Bình Tây</td>\n      <td>Bitex</td>\n      <td>Sách Công Nghệ Thông Tin</td>\n      <td>Tin Học Văn Phòng</td>\n      <td>ứng_dụng casio môn thpt lý_hóa_sinh</td>\n    </tr>\n    <tr>\n      <th>9</th>\n      <td>49895267</td>\n      <td>Tin Học Văn Phòng, Tự Học Excel Bằng Hình Ảnh ...</td>\n      <td>Bìa mềm</td>\n      <td>91120</td>\n      <td>4.3</td>\n      <td>7</td>\n      <td>0</td>\n      <td>Tin Học Văn Phòng, Tự Học Excel Bằng Hình Ảnh ...</td>\n      <td>Công Ty TNHH Thương Mại STK</td>\n      <td>Trần Tường Thụy, Phạm Quang Huấn</td>\n      <td>Sách Công Nghệ Thông Tin</td>\n      <td>Tin Học Văn Phòng</td>\n      <td>tin_học văn_phòng học excel hình_ảnh phiên_bản...</td>\n    </tr>\n    <tr>\n      <th>10</th>\n      <td>25202283</td>\n      <td>Sách Lập trình với Scratch 3.0 (Dành cho học s...</td>\n      <td>Bìa mềm</td>\n      <td>190000</td>\n      <td>4.7</td>\n      <td>32</td>\n      <td>0</td>\n      <td>“Lập trình với Scratch 3.0” là cuốn sách phiên...</td>\n      <td>Học viện VIETSTEM</td>\n      <td>Nguyễn Hữu Hưng (chủ biên)</td>\n      <td>Sách Công Nghệ Thông Tin</td>\n      <td>Lập Trình</td>\n      <td>lập_trình scratch sách phiên_bản lập_trình scr...</td>\n    </tr>\n    <tr>\n      <th>11</th>\n      <td>58709179</td>\n      <td>Sách Giải Nhanh Bài Thi Trắc Nghiệm Môn Toán V...</td>\n      <td>NaN</td>\n      <td>132000</td>\n      <td>4.7</td>\n      <td>3</td>\n      <td>0</td>\n      <td>Sách Giải Nhanh Bài Thi Trắc Nghiệm Môn Toán V...</td>\n      <td>Bình Tây</td>\n      <td>Bitex</td>\n      <td>Sách Công Nghệ Thông Tin</td>\n      <td>Tin Học Văn Phòng</td>\n      <td>sách giải thi trắc_nghiệm môn toán máy_tính ca...</td>\n    </tr>\n    <tr>\n      <th>12</th>\n      <td>50317469</td>\n      <td>Giáo Trình Thực Hành Microsoft Excel 2019 Căn ...</td>\n      <td>Bìa mềm</td>\n      <td>120000</td>\n      <td>4.5</td>\n      <td>13</td>\n      <td>0</td>\n      <td>* Sách sử dụng cho các phiên bản Excel 2019...</td>\n      <td>Công Ty TNHH Văn Hóa - Thế Giới Sách Việt</td>\n      <td>Nhiều Tác Giả</td>\n      <td>Sách Công Nghệ Thông Tin</td>\n      <td>Tin Học Văn Phòng</td>\n      <td>sách phiên_bản excel giới_thiệu biên_soạn hân_...</td>\n    </tr>\n    <tr>\n      <th>13</th>\n      <td>48018642</td>\n      <td>Giáo Trình Thực Hành Excel - Dùng Cho Các Phiê...</td>\n      <td>Bìa mềm</td>\n      <td>87750</td>\n      <td>4.8</td>\n      <td>4</td>\n      <td>0</td>\n      <td>Giáo Trình Thực Hành Excel - Dùng Cho Các Phiê...</td>\n      <td>Công Ty TNHH Thương Mại STK</td>\n      <td>Phạm Quang Huy, Phạm Phương Hoa</td>\n      <td>Sách Công Nghệ Thông Tin</td>\n      <td>Lập Trình</td>\n      <td>giáo_trình thực_hành excel phiên_bản lĩnh_vực ...</td>\n    </tr>\n    <tr>\n      <th>14</th>\n      <td>49895271</td>\n      <td>Hướng Dẫn Sử Dụng Microsoft Office</td>\n      <td>Bìa mềm</td>\n      <td>92300</td>\n      <td>4.4</td>\n      <td>5</td>\n      <td>0</td>\n      <td>Hướng Dẫn Sử Dụng Microsoft Office\\nHướng dẫn ...</td>\n      <td>Công Ty TNHH Thương Mại STK</td>\n      <td>Phạm Quang Huy, Phạm Quang Huấn</td>\n      <td>Sách Công Nghệ Thông Tin</td>\n      <td>Tin Học Văn Phòng</td>\n      <td>hướng_dẫn microsoft office hướng_dẫn microsoft...</td>\n    </tr>\n    <tr>\n      <th>15</th>\n      <td>48754164</td>\n      <td>Lập Trình Với Scratch 3.0 (Tái Bản 2019)</td>\n      <td>NaN</td>\n      <td>176000</td>\n      <td>4.8</td>\n      <td>8</td>\n      <td>0</td>\n      <td>Lập Trình Với Scratch 3.0\\n\\n“Lập trình với Sc...</td>\n      <td>Cty TNHH GD &amp; ĐT Ngôi Sao Xanh</td>\n      <td>Nguyễn Hữu Hưng</td>\n      <td>Sách Công Nghệ Thông Tin</td>\n      <td>Tin Học Văn Phòng</td>\n      <td>lập_trình scratch lập_trình scratch sách phiên...</td>\n    </tr>\n    <tr>\n      <th>16</th>\n      <td>55695623</td>\n      <td>Sách Luyện thi hội thi tin học trẻ với Scratch...</td>\n      <td>Bìa mềm</td>\n      <td>160000</td>\n      <td>4.6</td>\n      <td>5</td>\n      <td>0</td>\n      <td>Cung cấp tới các thầy cô và các bạn học sinh t...</td>\n      <td>Học viện VIETSTEM</td>\n      <td>Nguyễn Hữu Hưng (chủ biên)</td>\n      <td>Sách Công Nghệ Thông Tin</td>\n      <td>Lập Trình</td>\n      <td>cung_cấp thầy học_sinh tài_liệu hướng_dẫn ôn_l...</td>\n    </tr>\n    <tr>\n      <th>17</th>\n      <td>48753629</td>\n      <td>Hướng Dẫn Sử Dụng Máy Tính Khoa Học Casio Fx -...</td>\n      <td>NaN</td>\n      <td>105600</td>\n      <td>4.9</td>\n      <td>8</td>\n      <td>0</td>\n      <td>Hướng Dẫn Sử Dụng Máy Tính Khoa Học Casio Fx -...</td>\n      <td>Bình Tây</td>\n      <td>Bitex</td>\n      <td>Sách Công Nghệ Thông Tin</td>\n      <td>Tin Học Văn Phòng</td>\n      <td>hướng_dẫn máy_tính khoa_học casio chương_trình...</td>\n    </tr>\n    <tr>\n      <th>18</th>\n      <td>7611823</td>\n      <td>Giáo Trình Coreldraw X7,X8&amp;X9</td>\n      <td>NaN</td>\n      <td>72600</td>\n      <td>4.6</td>\n      <td>5</td>\n      <td>0</td>\n      <td>CorelDRAW là một trong những chương trình vẽ v...</td>\n      <td>Công Ty TNHH Thương Mại STK</td>\n      <td>Nhiều Tác Giả</td>\n      <td>Sách Công Nghệ Thông Tin</td>\n      <td>Thiết Kế - Đồ Họa</td>\n      <td>coreldraw chương_trình vector phổ_biến việt_na...</td>\n    </tr>\n    <tr>\n      <th>19</th>\n      <td>58708783</td>\n      <td>Chinh Phục Các Dạng Toán Thực Tế THCS Với Máy ...</td>\n      <td>NaN</td>\n      <td>158400</td>\n      <td>4.5</td>\n      <td>2</td>\n      <td>0</td>\n      <td>Chinh Phục Các Dạng Toán Thực Tế THCS Với Máy ...</td>\n      <td>Bình Tây</td>\n      <td>Nhiều Tác Giả</td>\n      <td>Sách Công Nghệ Thông Tin</td>\n      <td>Tin Học Văn Phòng</td>\n      <td>chinh_phục dạng toán thcs máy_tính casio casio...</td>\n    </tr>\n    <tr>\n      <th>20</th>\n      <td>54389409</td>\n      <td>Giáo Trình Vi Điều Khiển ARM. Hướng Dẫn Sử Dụn...</td>\n      <td>Bìa mềm</td>\n      <td>97500</td>\n      <td>5.0</td>\n      <td>1</td>\n      <td>0</td>\n      <td>Giáo trình vi điều khiển ARM  Hướng dẫn sử dụn...</td>\n      <td>Công Ty TNHH Thương Mại STK</td>\n      <td>Nhiều Tác Giả</td>\n      <td>Sách Công Nghệ Thông Tin</td>\n      <td>Thiết Kế - Đồ Họa</td>\n      <td>giáo_trình điều_khiển arm hướng_dẫn stm chương...</td>\n    </tr>\n    <tr>\n      <th>21</th>\n      <td>55025250</td>\n      <td>Tự học lập trình Scratch</td>\n      <td>Bìa gập</td>\n      <td>220000</td>\n      <td>4.2</td>\n      <td>5</td>\n      <td>0</td>\n      <td>Lập trình Scratch, một môi trường, ngôn ngữ lậ...</td>\n      <td>Công ty TNHH Tin Học Và Nhà Trường</td>\n      <td>Bùi Việt Hà</td>\n      <td>Sách Công Nghệ Thông Tin</td>\n      <td>Lập Trình</td>\n      <td>lập_trình scratch môi_trường ngôn_ngữ lập_trìn...</td>\n    </tr>\n    <tr>\n      <th>22</th>\n      <td>10123965</td>\n      <td>Vi Điều Khiển Và Ứng Dụng - Arduino Dành Cho N...</td>\n      <td>Bìa mềm</td>\n      <td>105000</td>\n      <td>4.5</td>\n      <td>20</td>\n      <td>0</td>\n      <td>Vi Điều Khiển Và Ứng Dụng - Arduino Dành Cho N...</td>\n      <td>Công Ty TNHH Thương Mại STK</td>\n      <td>KS Phạm Quang Huy</td>\n      <td>Sách Công Nghệ Thông Tin</td>\n      <td>Thiết Kế - Đồ Họa</td>\n      <td>điều_khiển ứng_dụng arduino học sách chuyên_đề...</td>\n    </tr>\n    <tr>\n      <th>23</th>\n      <td>23966746</td>\n      <td>Giáo Trình Thực Hành Thiết Kế Kiến Trúc Với  V...</td>\n      <td>Bìa mềm</td>\n      <td>89100</td>\n      <td>4.5</td>\n      <td>4</td>\n      <td>0</td>\n      <td>SketchUp &amp; Vray là tài liệu hướng dẫn sử dụng ...</td>\n      <td>Công Ty TNHH Thương Mại STK</td>\n      <td>Phạm Quang Hiển, Phạm Quang Huy</td>\n      <td>Sách Công Nghệ Thông Tin</td>\n      <td>Lập Trình</td>\n      <td>sketchup vray tài_liệu hướng_dẫn google sketch...</td>\n    </tr>\n    <tr>\n      <th>24</th>\n      <td>4106495</td>\n      <td>Photoshop Giáo Trình Xử Lý Ảnh CC-CS6-CS5</td>\n      <td>Bìa mềm</td>\n      <td>79200</td>\n      <td>4.6</td>\n      <td>5</td>\n      <td>0</td>\n      <td>Photoshop Giáo Trình Xử Lý Ảnh CC-CS6-CS5\\nThe...</td>\n      <td>Công Ty TNHH Thương Mại STK</td>\n      <td>Nhiều Tác Giả</td>\n      <td>Sách Công Nghệ Thông Tin</td>\n      <td>Thiết Kế - Đồ Họa</td>\n      <td>photoshop giáo_trình ảnh photoshop tiến_bộ trì...</td>\n    </tr>\n    <tr>\n      <th>25</th>\n      <td>36300315</td>\n      <td>Thực Hành Các Công Thức Và Hàm Excel 2016 Bằng...</td>\n      <td>Bìa mềm</td>\n      <td>99000</td>\n      <td>4.0</td>\n      <td>6</td>\n      <td>0</td>\n      <td>* Sách sử dụng cho các phiên bản Excel 2019 - ...</td>\n      <td>Công Ty TNHH Văn Hóa - Thế Giới Sách Việt</td>\n      <td>Nhiều Tác Giả</td>\n      <td>Sách Công Nghệ Thông Tin</td>\n      <td>Tin Học Văn Phòng</td>\n      <td>sách phiên_bản excel microsoft excel chương_tr...</td>\n    </tr>\n    <tr>\n      <th>26</th>\n      <td>49895269</td>\n      <td>Excel  Dành Cho Người Bắt Đầu</td>\n      <td>Bìa mềm</td>\n      <td>106080</td>\n      <td>5.0</td>\n      <td>6</td>\n      <td>0</td>\n      <td>Excel Dành Cho Người Bắt ĐầuSách trình bày qua...</td>\n      <td>Công Ty TNHH Thương Mại STK</td>\n      <td>Phạm Quang Hiển, Trần Tường Thụy</td>\n      <td>Sách Công Nghệ Thông Tin</td>\n      <td>Tin Học Văn Phòng</td>\n      <td>excel bắt đầusách trình_bày chương hướng_dẫn g...</td>\n    </tr>\n    <tr>\n      <th>27</th>\n      <td>4106563</td>\n      <td>Giáo Trình Thực Hành Photoshop CC-CS6-CS5</td>\n      <td>Bìa mềm</td>\n      <td>96000</td>\n      <td>4.2</td>\n      <td>7</td>\n      <td>0</td>\n      <td>Photoshop Giáo Trình Xử Lý Ảnh CC-CS6-CS5\\nSác...</td>\n      <td>Công Ty TNHH Thương Mại STK</td>\n      <td>Nhiều Tác Giả</td>\n      <td>Sách Công Nghệ Thông Tin</td>\n      <td>Thiết Kế - Đồ Họa</td>\n      <td>photoshop giáo_trình ảnh sách biên_soạn kiểu c...</td>\n    </tr>\n    <tr>\n      <th>28</th>\n      <td>11658897</td>\n      <td>Bộ sách Thế giới Hacker và An Toàn Thông Tin M...</td>\n      <td>Bìa mềm</td>\n      <td>670000</td>\n      <td>4.7</td>\n      <td>9</td>\n      <td>0</td>\n      <td>\\n/* NHỮNG ĐIỀU CHÚNG TA CHƯA TỪNG BIẾT VỀ THẾ...</td>\n      <td>Alphabooks</td>\n      <td>Nhiều Tác Giả</td>\n      <td>Sách Công Nghệ Thông Tin</td>\n      <td>Lập Trình</td>\n      <td>thế_giới hacker cuộc_sống màn_hình máy_tính cá...</td>\n    </tr>\n    <tr>\n      <th>29</th>\n      <td>15734786</td>\n      <td>Lập Trình Với PLC S7 1200 Và S7 1500</td>\n      <td>Bìa mềm</td>\n      <td>110500</td>\n      <td>4.5</td>\n      <td>4</td>\n      <td>0</td>\n      <td>PLC (Programmable logic controller): là bộ điề...</td>\n      <td>Công Ty TNHH Thương Mại STK</td>\n      <td>PGS TS. Ngô Văn Thuyên, KS. Phạm Quang Huy</td>\n      <td>Sách Công Nghệ Thông Tin</td>\n      <td>Lập Trình</td>\n      <td>plc programmable logic controller điều_khiển l...</td>\n    </tr>\n    <tr>\n      <th>30</th>\n      <td>23966748</td>\n      <td>Lập Trình Với C#</td>\n      <td>Bìa mềm</td>\n      <td>100000</td>\n      <td>4.6</td>\n      <td>15</td>\n      <td>0</td>\n      <td>Lập Trình Với C#\\n\\nHướng dẫn người học từng b...</td>\n      <td>Công Ty TNHH Thương Mại STK</td>\n      <td>Nhiều Tác Giả</td>\n      <td>Sách Công Nghệ Thông Tin</td>\n      <td>Lập Trình</td>\n      <td>lập_trình hướng_dẫn học lập_trình xây_dựng ứng...</td>\n    </tr>\n    <tr>\n      <th>31</th>\n      <td>55054903</td>\n      <td>Giáo Trình Thực Hành Kiểm Thử Phần Mềm - Từng ...</td>\n      <td>Bìa mềm</td>\n      <td>81250</td>\n      <td>5.0</td>\n      <td>1</td>\n      <td>0</td>\n      <td>Giáo Trình Thực Hành Kiểm Thử Phần Mềm - Từng ...</td>\n      <td>Công Ty TNHH Thương Mại STK</td>\n      <td>Phạm Quang Hiển, Phạm Quang Huy</td>\n      <td>Sách Công Nghệ Thông Tin</td>\n      <td>Lập Trình</td>\n      <td>giáo_trình thực_hành kiểm_thử phần_mềm tester ...</td>\n    </tr>\n    <tr>\n      <th>32</th>\n      <td>54389411</td>\n      <td>Làm Phim Với Premiere Pro CC</td>\n      <td>Bìa mềm</td>\n      <td>111800</td>\n      <td>3.0</td>\n      <td>2</td>\n      <td>0</td>\n      <td>Làm phim với PREMIERE PRO CC.\\nGồm 2 phần với ...</td>\n      <td>Công Ty TNHH Thương Mại STK</td>\n      <td>Nhiều Tác Giả</td>\n      <td>Sách Công Nghệ Thông Tin</td>\n      <td>Thiết Kế - Đồ Họa</td>\n      <td>phim premiere pro chương chương chương cài_đặt...</td>\n    </tr>\n    <tr>\n      <th>33</th>\n      <td>58723518</td>\n      <td>Excel Dành Cho Người Tự Học</td>\n      <td>Bìa mềm</td>\n      <td>137600</td>\n      <td>5.0</td>\n      <td>1</td>\n      <td>0</td>\n      <td>Gồm 13 chương và 1 phụ lục với nội dung sau:\\n...</td>\n      <td>Công Ty TNHH Thương Mại STK</td>\n      <td>Phạm Phương Hoa</td>\n      <td>Sách Công Nghệ Thông Tin</td>\n      <td>Tin Học Văn Phòng</td>\n      <td>chương phụ_lục nội_dung chương tổng_quan excel...</td>\n    </tr>\n    <tr>\n      <th>34</th>\n      <td>51617979</td>\n      <td>KiểM Thử PhầN MềM - Từng Bước Trở Thành Te...</td>\n      <td>NaN</td>\n      <td>57200</td>\n      <td>4.5</td>\n      <td>2</td>\n      <td>0</td>\n      <td>Nội dung:\\nChương 1: Tổng quan về kiểm thử phầ...</td>\n      <td>Cty Thương mại STK</td>\n      <td>Nguyễn Thi Kiêm Ái</td>\n      <td>Sách Công Nghệ Thông Tin</td>\n      <td>Tin Học Văn Phòng</td>\n      <td>nội_dung chương tổng_quan kiểm_thử phần_mềm ch...</td>\n    </tr>\n    <tr>\n      <th>35</th>\n      <td>54389407</td>\n      <td>Lập Trình Arduino Với IoT-Hệ Vạn Vật Kết Nối</td>\n      <td>Bìa mềm</td>\n      <td>94250</td>\n      <td>4.0</td>\n      <td>2</td>\n      <td>0</td>\n      <td>Sách gồm  14 chương.\\nCHƯƠNG 1: GIỚI THIỆU SÁC...</td>\n      <td>Công Ty TNHH Thương Mại STK</td>\n      <td>Nhiều Tác Giả</td>\n      <td>Sách Công Nghệ Thông Tin</td>\n      <td>Lập Trình</td>\n      <td>sách chương chương giới_thiệu sách chương tổng...</td>\n    </tr>\n    <tr>\n      <th>36</th>\n      <td>4396853</td>\n      <td>Hướng Dẫn Lập Trình Quản Lý Với Microsoft Access</td>\n      <td>Bìa mềm</td>\n      <td>100800</td>\n      <td>4.5</td>\n      <td>2</td>\n      <td>0</td>\n      <td>Hướng Dẫn Lập Trình Quản Lý Với Microsoft Acce...</td>\n      <td>Công Ty TNHH Thương Mại STK</td>\n      <td>Ths. Huỳnh Tôn Nghĩa</td>\n      <td>Sách Công Nghệ Thông Tin</td>\n      <td>Thiết Kế - Đồ Họa</td>\n      <td>hướng_dẫn lập_trình quản_lý microsoft access t...</td>\n    </tr>\n    <tr>\n      <th>37</th>\n      <td>58457390</td>\n      <td>An Toàn Dữ Liệu - Mã Hóa Bảo Mật Thông Tin, An...</td>\n      <td>Bìa mềm</td>\n      <td>111990</td>\n      <td>5.0</td>\n      <td>2</td>\n      <td>0</td>\n      <td>Nhu cầu sử dụng mật mã đã xuất hiện từ rất sớm...</td>\n      <td>Trung Tâm Kinh Doanh Xuất Bản Và Phát Hành Sách</td>\n      <td>Nhiều Tác Giả</td>\n      <td>Sách Công Nghệ Thông Tin</td>\n      <td>Lập Trình</td>\n      <td>nhu_cầu mật_mã con_người trao_đổi truyền_thông...</td>\n    </tr>\n    <tr>\n      <th>38</th>\n      <td>54389415</td>\n      <td>Arduino Và Lập Trình IoT</td>\n      <td>Bìa mềm</td>\n      <td>105300</td>\n      <td>2.5</td>\n      <td>2</td>\n      <td>0</td>\n      <td>ARDUINO và lập trình ToT có 3 phần với 10 chươ...</td>\n      <td>Công Ty TNHH Thương Mại STK</td>\n      <td>Nhiều Tác Giả</td>\n      <td>Sách Công Nghệ Thông Tin</td>\n      <td>Lập Trình</td>\n      <td>arduino lập_trình tot chương giới_thiệu chương...</td>\n    </tr>\n    <tr>\n      <th>39</th>\n      <td>28040139</td>\n      <td>CCNA ROUTING &amp; SWITCHING</td>\n      <td>NaN</td>\n      <td>180000</td>\n      <td>4.4</td>\n      <td>8</td>\n      <td>0</td>\n      <td>\\nChương 1: CƠ SỞ VỀ MẠNG\\n1. 1 Mạng căn bản\\...</td>\n      <td>Trung Tâm Tin Học VnPro</td>\n      <td>Nhiều Tác Giả</td>\n      <td>Sách Công Nghệ Thông Tin</td>\n      <td>Lập Trình</td>\n      <td>chương cơ_sở mạng mạng căn_bản mô_hình osi mô_...</td>\n    </tr>\n  </tbody>\n</table>\n</div>"
     },
     "metadata": {},
     "execution_count": 2
    }
   ],
   "source": [
    "content_data = pd.read_csv('../Data/final_all_clean_books.csv', usecols=['id', 'name', 'book_cover', 'price', 'rating_average', 'review_count', 'order_count', 'description', 'authors', 'publisher', 'big_category', 'sub_category', 'clean_description'])\n",
    "content_data.head(40)"
   ]
  },
  {
   "cell_type": "code",
   "execution_count": 3,
   "metadata": {},
   "outputs": [
    {
     "output_type": "execute_result",
     "data": {
      "text/plain": [
       "             id                                               name book_cover  \\\n",
       "10329  17536973  Bài Giảng & Lời Giải Chi Tiết Tiếng Anh 10 (Tá...    Bìa mềm   \n",
       "\n",
       "       price  rating_average  review_count  order_count  \\\n",
       "10329  71400             5.0             2            0   \n",
       "\n",
       "                                             description         publisher  \\\n",
       "10329  Cuốn sách tổng hợp các kiến thức đã học cùng c...  Nhà Sách Hồng Ân   \n",
       "\n",
       "                 authors    big_category             sub_category  \\\n",
       "10329   Hoàng Thái Dương  Sách Tham Khảo   Sách tham khảo cấp III   \n",
       "\n",
       "                                       clean_description  \n",
       "10329  sách tổng_hợp kiến_thức học dạng bài_tập kèm l...  "
      ],
      "text/html": "<div>\n<style scoped>\n    .dataframe tbody tr th:only-of-type {\n        vertical-align: middle;\n    }\n\n    .dataframe tbody tr th {\n        vertical-align: top;\n    }\n\n    .dataframe thead th {\n        text-align: right;\n    }\n</style>\n<table border=\"1\" class=\"dataframe\">\n  <thead>\n    <tr style=\"text-align: right;\">\n      <th></th>\n      <th>id</th>\n      <th>name</th>\n      <th>book_cover</th>\n      <th>price</th>\n      <th>rating_average</th>\n      <th>review_count</th>\n      <th>order_count</th>\n      <th>description</th>\n      <th>publisher</th>\n      <th>authors</th>\n      <th>big_category</th>\n      <th>sub_category</th>\n      <th>clean_description</th>\n    </tr>\n  </thead>\n  <tbody>\n    <tr>\n      <th>10329</th>\n      <td>17536973</td>\n      <td>Bài Giảng &amp; Lời Giải Chi Tiết Tiếng Anh 10 (Tá...</td>\n      <td>Bìa mềm</td>\n      <td>71400</td>\n      <td>5.0</td>\n      <td>2</td>\n      <td>0</td>\n      <td>Cuốn sách tổng hợp các kiến thức đã học cùng c...</td>\n      <td>Nhà Sách Hồng Ân</td>\n      <td>Hoàng Thái Dương</td>\n      <td>Sách Tham Khảo</td>\n      <td>Sách tham khảo cấp III</td>\n      <td>sách tổng_hợp kiến_thức học dạng bài_tập kèm l...</td>\n    </tr>\n  </tbody>\n</table>\n</div>"
     },
     "metadata": {},
     "execution_count": 3
    }
   ],
   "source": [
    "content_data.loc[content_data['id']==17536973]"
   ]
  },
  {
   "cell_type": "code",
   "execution_count": 4,
   "metadata": {},
   "outputs": [],
   "source": [
    "# plt.figure(figsize=(30,20))\n",
    "# sns.countplot(y='productset_group_name', data=content_data)"
   ]
  },
  {
   "cell_type": "code",
   "execution_count": 5,
   "metadata": {},
   "outputs": [
    {
     "output_type": "stream",
     "name": "stdout",
     "text": [
      "<class 'pandas.core.frame.DataFrame'>\nRangeIndex: 10330 entries, 0 to 10329\nData columns (total 13 columns):\n #   Column             Non-Null Count  Dtype  \n---  ------             --------------  -----  \n 0   id                 10330 non-null  int64  \n 1   name               10330 non-null  object \n 2   book_cover         9417 non-null   object \n 3   price              10330 non-null  int64  \n 4   rating_average     10330 non-null  float64\n 5   review_count       10330 non-null  int64  \n 6   order_count        10330 non-null  int64  \n 7   description        10326 non-null  object \n 8   publisher          10323 non-null  object \n 9   authors            10323 non-null  object \n 10  big_category       10330 non-null  object \n 11  sub_category       10330 non-null  object \n 12  clean_description  10320 non-null  object \ndtypes: float64(1), int64(4), object(8)\nmemory usage: 1.0+ MB\n"
     ]
    }
   ],
   "source": [
    "content_data.info()"
   ]
  },
  {
   "cell_type": "code",
   "execution_count": null,
   "metadata": {},
   "outputs": [],
   "source": []
  },
  {
   "source": [
    "# Text Preprocessing"
   ],
   "cell_type": "markdown",
   "metadata": {}
  },
  {
   "source": [
    "### Clean the description"
   ],
   "cell_type": "markdown",
   "metadata": {}
  },
  {
   "cell_type": "code",
   "execution_count": 6,
   "metadata": {},
   "outputs": [],
   "source": [
    "# content_data['clean_description'] = content_data['description'].apply(lambda x: preprocess_text(str(x)))"
   ]
  },
  {
   "cell_type": "code",
   "execution_count": 7,
   "metadata": {},
   "outputs": [],
   "source": [
    "# content_data.to_csv('../Data/clean_books.csv', index=False)"
   ]
  },
  {
   "cell_type": "code",
   "execution_count": 8,
   "metadata": {},
   "outputs": [
    {
     "output_type": "stream",
     "name": "stdout",
     "text": [
      "<class 'pandas.core.frame.DataFrame'>\nRangeIndex: 10330 entries, 0 to 10329\nData columns (total 13 columns):\n #   Column             Non-Null Count  Dtype  \n---  ------             --------------  -----  \n 0   id                 10330 non-null  int64  \n 1   name               10330 non-null  object \n 2   book_cover         9417 non-null   object \n 3   price              10330 non-null  int64  \n 4   rating_average     10330 non-null  float64\n 5   review_count       10330 non-null  int64  \n 6   order_count        10330 non-null  int64  \n 7   description        10326 non-null  object \n 8   publisher          10323 non-null  object \n 9   authors            10323 non-null  object \n 10  big_category       10330 non-null  object \n 11  sub_category       10330 non-null  object \n 12  clean_description  10320 non-null  object \ndtypes: float64(1), int64(4), object(8)\nmemory usage: 1.0+ MB\n"
     ]
    }
   ],
   "source": [
    "content_data.info()\n",
    "content_data.dropna(subset=['clean_description'], axis=0, inplace=True)"
   ]
  },
  {
   "source": [
    "# Recommend Engine"
   ],
   "cell_type": "markdown",
   "metadata": {}
  },
  {
   "source": [
    "We are building two recommendation engines, one with a book title and another one with a book description. The model recommends a similar book based on title and description. Calculate the similarity between all the books using cosine similarity"
   ],
   "cell_type": "markdown",
   "metadata": {}
  },
  {
   "source": [
    "# 1. Recommend base on TITLE"
   ],
   "cell_type": "markdown",
   "metadata": {}
  },
  {
   "cell_type": "code",
   "execution_count": 9,
   "metadata": {},
   "outputs": [],
   "source": [
    "from sklearn.feature_extraction.text import TfidfVectorizer\n",
    "from sklearn.metrics.pairwise import cosine_similarity\n",
    "import requests\n",
    "from PIL import Image\n",
    "from io import BytesIO\n",
    "%matplotlib inline\n",
    "from pyvi import ViTokenizer\n",
    "import re"
   ]
  },
  {
   "source": [
    "## First, clean and process title"
   ],
   "cell_type": "markdown",
   "metadata": {}
  },
  {
   "cell_type": "code",
   "execution_count": 10,
   "metadata": {},
   "outputs": [],
   "source": [
    "def preprocess_title(title):\n",
    "    title = title.lower()\n",
    "    title = re.sub('\\(.*?\\)', '', title)\n",
    "    title = ViTokenizer.tokenize(title)\n",
    "    return title"
   ]
  },
  {
   "cell_type": "code",
   "execution_count": 11,
   "metadata": {},
   "outputs": [],
   "source": [
    "content_data['clean_title'] = content_data['name'].apply(lambda x: preprocess_title(x))"
   ]
  },
  {
   "cell_type": "code",
   "execution_count": 12,
   "metadata": {},
   "outputs": [
    {
     "output_type": "execute_result",
     "data": {
      "text/plain": [
       "'an_toàn dữ_liệu - mã_hóa bảo_mật thông_tin'"
      ]
     },
     "metadata": {},
     "execution_count": 12
    }
   ],
   "source": [
    "preprocess_title('An Toàn Dữ Liệu - Mã Hóa Bảo Mật Thông Tin (Tái bản)')"
   ]
  },
  {
   "cell_type": "code",
   "execution_count": 13,
   "metadata": {},
   "outputs": [],
   "source": [
    "#Converting the book title into vectors\n",
    "tf = TfidfVectorizer()\n",
    "tfidf_matrix = tf.fit_transform(content_data['clean_title'])\n",
    "sg = cosine_similarity(tfidf_matrix, tfidf_matrix)\n"
   ]
  },
  {
   "cell_type": "code",
   "execution_count": 30,
   "metadata": {},
   "outputs": [
    {
     "output_type": "stream",
     "name": "stdout",
     "text": [
      "[0.24440092 0.24707734 0.25115573 0.25578041 0.25819523 0.27715986\n 0.28527958 0.44398457 0.44975071 1.        ]\n"
     ]
    }
   ],
   "source": [
    "print(np.sort(sg[0])[-10:])"
   ]
  },
  {
   "cell_type": "code",
   "execution_count": 14,
   "metadata": {},
   "outputs": [
    {
     "output_type": "execute_result",
     "data": {
      "text/plain": [
       "(10320, 7193)"
      ]
     },
     "metadata": {},
     "execution_count": 14
    }
   ],
   "source": [
    "tfidf_matrix.shape"
   ]
  },
  {
   "cell_type": "code",
   "execution_count": 15,
   "metadata": {},
   "outputs": [
    {
     "output_type": "execute_result",
     "data": {
      "text/plain": [
       "<1x7193 sparse matrix of type '<class 'numpy.float64'>'\n",
       "\twith 2 stored elements in Compressed Sparse Row format>"
      ]
     },
     "metadata": {},
     "execution_count": 15
    }
   ],
   "source": [
    "tfidf_matrix[0]"
   ]
  },
  {
   "cell_type": "code",
   "execution_count": 14,
   "metadata": {},
   "outputs": [],
   "source": [
    "def final_recommend_by_title(product_id, data):\n",
    "    big_cate = data.loc[data['id']==product_id]['big_category'].values[0]\n",
    "    sub_cate = data.loc[data['id']==product_id]['sub_category'].values[0]\n",
    "    title = data.loc[data['id']==product_id]['name'].values[0]\n",
    "    data = data.loc[data['big_category']==big_cate]\n",
    "    data.reset_index(level=0, inplace=True)\n",
    "\n",
    "     # convert the index to series\n",
    "    indices = pd.Series(data.index, index=data['name'])\n",
    "\n",
    "    #Converting the book title into vectors\n",
    "    tf = TfidfVectorizer()\n",
    "    tfidf_matrix = tf.fit_transform(data['clean_title'])\n",
    "    sg = cosine_similarity(tfidf_matrix, tfidf_matrix)\n",
    "\n",
    "    # get the index corresponding to original title\n",
    "    idx = indices[title]\n",
    "\n",
    "    # get the pairwise similarity score\n",
    "    sig = list(enumerate(sg[idx]))\n",
    "\n",
    "    # sort the books\n",
    "    sig = sorted(sig, key=lambda x: x[1], reverse=True)\n",
    "    # Scores of the most 5 similar books\n",
    "    sig = sig[1:50]\n",
    "\n",
    "    # book indices\n",
    "    book_indices = [i[0] for i in sig]\n",
    "\n",
    "    rec = data[['id', 'big_category', 'sub_category']].iloc[book_indices]\n",
    "    same_category_index = rec[rec['big_category']==big_cate].head(5).id.values.tolist()\n",
    "    same_subcategory_index = rec[rec['sub_category']==sub_cate].head(5).id.values.tolist()\n",
    "    if not same_subcategory_index:\n",
    "        return rec[rec['big_category']==big_cate].head(10).id.values.tolist()\n",
    "    else:\n",
    "        # print(data[data['id'].isin(same_category_index + same_subcategory_index)][['name', 'big_category', 'sub_category']].values)\n",
    "        return same_category_index + same_subcategory_index"
   ]
  },
  {
   "cell_type": "code",
   "execution_count": 44,
   "metadata": {},
   "outputs": [
    {
     "output_type": "stream",
     "name": "stdout",
     "text": [
      "Nếu tôi chọn cuốn sách: Big Step - 4 Bước Chinh Phục Kì Thi Thpt Quốc Gia Tiếng Anh - Step 1 Làm Bài Ghi Nhớ Từ Vựng\nHệ thống sẽ gợi ý những quyển sách sau dựa trên sự tương tự về tên sách: \n"
     ]
    },
    {
     "output_type": "execute_result",
     "data": {
      "text/plain": [
       "['Big Step - 4 Bước Chinh Phục Kì Thi Thpt Quốc Gia Tiếng Anh - Step 3 Làm Bài Ngữ Pháp',\n",
       " 'Big Step - 4 Bước Chinh Phục Kì Thi Thpt Quốc Gia Tiếng Anh - Step 2 Làm Bài Đọc Hiểu',\n",
       " 'Big Step - 4 Bước Chinh Phục Kì Thi THPT Quốc Gia Tiếng Anh - Step 4 Luyện Đề Trắc Nghiệm Tổng Hợp',\n",
       " 'Combo Big step - 4 Bước Chinh Phục Kì Thi THPT Quốc Gia tiếng Anh (4 Cuốn)',\n",
       " '3 Step - Tiết Lộ Bí Quyết 3 Bước Đạt Điểm 8+ Tiếng Anh']"
      ]
     },
     "metadata": {},
     "execution_count": 44
    }
   ],
   "source": [
    "# test\n",
    "print(f\"Nếu tôi chọn cuốn sách: {content_data.loc[content_data['id']==15259341].values[0][1]}\")\n",
    "print(\"Hệ thống sẽ gợi ý những quyển sách sau dựa trên sự tương tự về tên sách: \")\n",
    "list(content_data[content_data['id'].isin(list(final_recommend_by_title(15259341, content_data)))]['name'].values)"
   ]
  },
  {
   "cell_type": "code",
   "execution_count": 45,
   "metadata": {},
   "outputs": [
    {
     "output_type": "stream",
     "name": "stdout",
     "text": [
      "Nếu tôi chọn cuốn sách: Nhà Giả Kim\nHệ thống sẽ gợi ý những quyển sách sau dựa trên sự tương tự về tên sách: \n"
     ]
    },
    {
     "output_type": "execute_result",
     "data": {
      "text/plain": [
       "['Tần Thủy Hoàng Doanh Chính',\n",
       " 'Dám Bị Ghét',\n",
       " 'Nhà Giả Kim (Tái Bản 2020)',\n",
       " 'Anne Tóc Đỏ Dưới Chái Nhà Xanh (Tái Bản 2017)',\n",
       " 'Nhà (Tái Bản)',\n",
       " 'Dưới Một Mái Nhà Ở Paris',\n",
       " 'Anh Em Nhà Karamazov (Bìa Cứng)',\n",
       " 'Anh Em Nhà Karamazov (Bìa mềm)',\n",
       " 'Nhà Nàng Ở Cạnh Nhà Tôi']"
      ]
     },
     "metadata": {},
     "execution_count": 45
    }
   ],
   "source": [
    "# test\n",
    "print(f\"Nếu tôi chọn cuốn sách: {content_data.loc[content_data['id']==378448].values[0][1]}\")\n",
    "print(\"Hệ thống sẽ gợi ý những quyển sách sau dựa trên sự tương tự về tên sách: \")\n",
    "list(content_data[content_data['id'].isin(list(final_recommend_by_title(378448, content_data)))]['name'].values)"
   ]
  },
  {
   "cell_type": "code",
   "execution_count": 46,
   "metadata": {},
   "outputs": [
    {
     "output_type": "stream",
     "name": "stdout",
     "text": [
      "Nếu tôi chọn cuốn sách: An Toàn Dữ Liệu - Mã Hóa Bảo Mật Thông Tin, An Ninh Cơ Sở Dữ Liệu Và An Ninh Mạng\nHệ thống sẽ gợi ý những quyển sách sau dựa trên sự tương tự về tên sách: \n"
     ]
    },
    {
     "output_type": "execute_result",
     "data": {
      "text/plain": [
       "['Bộ sách Thế giới Hacker và An Toàn Thông Tin Mạng (Tặng Kèm Bookmark Hoa Lá)',\n",
       " 'Sách luyện thi hội thi Tin học trẻ với Scratch 3.0 bảng B1_Thi kỹ năng lập trình cấp Trung học cơ sở',\n",
       " 'Combo Kinh Điển Về Công Nghệ và Thông Tin: Giáo Trình Kỹ Thuật Lập Trình C Căn Bản Và Nâng Cao + Hacker Lược Sử / top những cuốn sách hay xuất sắc',\n",
       " 'Lập Trình Và Giám Sát Mạng Truyền Thông Công Nghiệp Scada',\n",
       " 'Công Tác Bảo Mật Cá Nhân Trong Kỷ Nguyên Big Data: Nghệ Thuật Ẩn Mình',\n",
       " 'Combo Code Dạo Kí Sự + Gián Điệp Mạng',\n",
       " 'Combo Sách An Toàn Thông Tin : Bóng Ma Trên Mạng + Hacker Lược Sử']"
      ]
     },
     "metadata": {},
     "execution_count": 46
    }
   ],
   "source": [
    "# test\n",
    "print(f\"Nếu tôi chọn cuốn sách: {content_data.loc[content_data['id']==58457390].values[0][1]}\")\n",
    "print(\"Hệ thống sẽ gợi ý những quyển sách sau dựa trên sự tương tự về tên sách: \")\n",
    "list(content_data[content_data['id'].isin(list(final_recommend_by_title(58457390, content_data)))]['name'].values)"
   ]
  },
  {
   "cell_type": "code",
   "execution_count": null,
   "metadata": {},
   "outputs": [],
   "source": []
  },
  {
   "source": [
    "### Save to file csv to import database"
   ],
   "cell_type": "markdown",
   "metadata": {}
  },
  {
   "cell_type": "code",
   "execution_count": 16,
   "metadata": {},
   "outputs": [],
   "source": [
    "new_similary_data = content_data[['id']]"
   ]
  },
  {
   "cell_type": "code",
   "execution_count": 17,
   "metadata": {},
   "outputs": [],
   "source": [
    "new_similary_data['title_similar_ind'] = new_similary_data['id'].apply(lambda x: list(set(final_recommend_by_title(x, content_data))))"
   ]
  },
  {
   "source": [
    "## 2. Recommend base on book description"
   ],
   "cell_type": "markdown",
   "metadata": {}
  },
  {
   "cell_type": "code",
   "execution_count": null,
   "metadata": {},
   "outputs": [],
   "source": [
    "def recommend_by_description(product_id, clean_des):\n",
    "    big_cate = clean_des.loc[clean_des['id']==product_id]['big_category'].values[0]\n",
    "    sub_cate = clean_des.loc[clean_des['id']==product_id]['sub_category'].values[0]\n",
    "    title = clean_des.loc[clean_des['id']==product_id]['name'].values[0]\n",
    "    data_new = clean_des.loc[clean_des['big_category']==big_cate]\n",
    "    data_new.reset_index(level=0, inplace=True)\n",
    "     # convert the index to series\n",
    "    indices = pd.Series(data_new.index, index=data_new['name'])\n",
    "\n",
    "    #Converting the book title into vectors\n",
    "    tf = TfidfVectorizer()\n",
    "    try:\n",
    "        tfidf_matrix = tf.fit_transform(data_new['clean_description'])\n",
    "    except:\n",
    "        print(\"ERROR\")\n",
    "        return []\n",
    "    sg = cosine_similarity(tfidf_matrix, tfidf_matrix)\n",
    "\n",
    "    # get the index corresponding to original title\n",
    "    idx = indices[title]\n",
    "\n",
    "    # get the pairwise similarity score\n",
    "    sig = list(enumerate(sg[idx]))\n",
    "\n",
    "    # sort the books\n",
    "    sig = sorted(sig, key=lambda x: x[1], reverse=True)\n",
    "    # Scores of the most 5 similar books\n",
    "    sig = sig[1:50]\n",
    "\n",
    "    # book indices\n",
    "    book_indices = [i[0] for i in sig]\n",
    "\n",
    "    rec = data_new[['id', 'big_category', 'sub_category']].iloc[book_indices]\n",
    "    same_big_category_index = rec[rec['big_category']==big_cate].head(5).id.values.tolist()\n",
    "    same_sub_category_index = rec[rec['sub_category']==sub_cate].head(5).id.values.tolist()\n",
    "    if not same_big_category_index:\n",
    "        return rec[rec['sub_category']==sub_cate].head(10).id.values.tolist()\n",
    "    elif not same_sub_category_index:\n",
    "        return rec[rec['big_category']==big_cate].head(10).id.values.tolist()\n",
    "    elif same_big_category_index and same_sub_category_index:\n",
    "        return same_sub_category_index + same_big_category_index"
   ]
  },
  {
   "cell_type": "code",
   "execution_count": 41,
   "metadata": {},
   "outputs": [
    {
     "output_type": "execute_result",
     "data": {
      "text/plain": [
       "[53904321,\n",
       " 37667006,\n",
       " 25202283,\n",
       " 50272286,\n",
       " 55025250,\n",
       " 53904321,\n",
       " 53977374,\n",
       " 37667006,\n",
       " 53977565,\n",
       " 27979415]"
      ]
     },
     "metadata": {},
     "execution_count": 41
    }
   ],
   "source": [
    "recommend_by_description(1664525, content_data)"
   ]
  },
  {
   "cell_type": "code",
   "execution_count": 47,
   "metadata": {},
   "outputs": [
    {
     "output_type": "stream",
     "name": "stdout",
     "text": [
      "Nếu tôi chọn cuốn sách: Big Step - 4 Bước Chinh Phục Kì Thi Thpt Quốc Gia Tiếng Anh - Step 1 Làm Bài Ghi Nhớ Từ Vựng\nHệ thống sẽ gợi ý những quyển sách sau dựa trên sự tương tự về mô tả: \n"
     ]
    },
    {
     "output_type": "execute_result",
     "data": {
      "text/plain": [
       "['Big Step - 4 Bước Chinh Phục Kì Thi Thpt Quốc Gia Tiếng Anh - Step 3 Làm Bài Ngữ Pháp',\n",
       " 'Big Step - 4 Bước Chinh Phục Kì Thi Thpt Quốc Gia Tiếng Anh - Step 2 Làm Bài Đọc Hiểu',\n",
       " 'Big Step - 4 Bước Chinh Phục Kì Thi THPT Quốc Gia Tiếng Anh - Step 4 Luyện Đề Trắc Nghiệm Tổng Hợp',\n",
       " 'Combo Big step - 4 Bước Chinh Phục Kì Thi THPT Quốc Gia tiếng Anh (4 Cuốn)',\n",
       " '3 Step - Tiết Lộ Bí Quyết 3 Bước Đạt Điểm 8+ Tiếng Anh']"
      ]
     },
     "metadata": {},
     "execution_count": 47
    }
   ],
   "source": [
    "# test\n",
    "print(f\"Nếu tôi chọn cuốn sách: {content_data.loc[content_data['id']==15259341].values[0][1]}\")\n",
    "print(\"Hệ thống sẽ gợi ý những quyển sách sau dựa trên sự tương tự về mô tả: \")\n",
    "list(content_data[content_data['id'].isin(list(recommend_by_description(15259341, content_data)))]['name'].values)"
   ]
  },
  {
   "cell_type": "code",
   "execution_count": 48,
   "metadata": {},
   "outputs": [
    {
     "output_type": "stream",
     "name": "stdout",
     "text": [
      "Nếu tôi chọn cuốn sách: Nhà Giả Kim\nHệ thống sẽ gợi ý những quyển sách sau dựa trên sự tương tự về mô tả: \n"
     ]
    },
    {
     "output_type": "execute_result",
     "data": {
      "text/plain": [
       "['Hạnh Phúc Là… (Phần 2)',\n",
       " 'Nhà Giả Kim (Tái Bản 2020)',\n",
       " 'Danh Gia Cổ Vật - Kỳ Án Đầu Phật',\n",
       " 'Kafka bên bờ biển (Tái Bản 2020)',\n",
       " 'Đối Thoại Với Thượng Đế ( Tái Bản )',\n",
       " 'Phía Nam Biên Giới, Phía Tây Mặt Trời (Tái Bản 2018)',\n",
       " 'Bóng Hình Của Gió (Tái Bản)',\n",
       " 'Hộp Trọn Bộ Chạng Vạng (5 Cuốn): Chạng Vạng + Trăng Non + Nhật Thực + Hừng Đông Và Mặt Trời Lúc Nửa Đêm',\n",
       " 'Trên Sa Mạc Và Trong Rừng Thẳm (Tái Bản)',\n",
       " 'Khổng Minh Gia Cát Lượng Đại Truyện (Bìa Cứng)']"
      ]
     },
     "metadata": {},
     "execution_count": 48
    }
   ],
   "source": [
    "# test\n",
    "print(f\"Nếu tôi chọn cuốn sách: {content_data.loc[content_data['id']==378448].values[0][1]}\")\n",
    "print(\"Hệ thống sẽ gợi ý những quyển sách sau dựa trên sự tương tự về mô tả: \")\n",
    "list(content_data[content_data['id'].isin(list(recommend_by_description(378448, content_data)))]['name'].values)"
   ]
  },
  {
   "cell_type": "code",
   "execution_count": 49,
   "metadata": {},
   "outputs": [
    {
     "output_type": "stream",
     "name": "stdout",
     "text": [
      "Nếu tôi chọn cuốn sách: An Toàn Dữ Liệu - Mã Hóa Bảo Mật Thông Tin, An Ninh Cơ Sở Dữ Liệu Và An Ninh Mạng\nHệ thống sẽ gợi ý những quyển sách sau dựa trên sự tương tự về mô tả: \n"
     ]
    },
    {
     "output_type": "execute_result",
     "data": {
      "text/plain": [
       "['Python cơ bản',\n",
       " 'Giáo Trình Kỹ Thuật Lập Trình C Căn Bản Và Nâng Cao',\n",
       " 'Giáo Trình Thực Hành Excel - Dùng Cho Các Phiên Bản 2019-2016-2013',\n",
       " 'Cuốn Sách Hàng Đầu Về Kỹ Thuật Lập Trình  - Giáo Trình Kỹ Thuật Lập Trình C Căn Bản Và Nâng Cao ',\n",
       " 'Lập Trình Với PLC S7 1500 Và RSLOGIX',\n",
       " 'Combo Kinh Điển Về Công Nghệ và Thông Tin: Giáo Trình Kỹ Thuật Lập Trình C Căn Bản Và Nâng Cao + Hacker Lược Sử / top những cuốn sách hay xuất sắc']"
      ]
     },
     "metadata": {},
     "execution_count": 49
    }
   ],
   "source": [
    "# test\n",
    "print(f\"Nếu tôi chọn cuốn sách: {content_data.loc[content_data['id']==58457390].values[0][1]}\")\n",
    "print(\"Hệ thống sẽ gợi ý những quyển sách sau dựa trên sự tương tự về mô tả: \")\n",
    "list(content_data[content_data['id'].isin(list(recommend_by_description(58457390, content_data)))]['name'].values)"
   ]
  },
  {
   "cell_type": "code",
   "execution_count": 42,
   "metadata": {},
   "outputs": [],
   "source": [
    "new_similary_data['description_similar_ind'] = new_similary_data['id'].apply(lambda x: list(set(recommend_by_description(x, content_data))))"
   ]
  },
  {
   "cell_type": "code",
   "execution_count": 43,
   "metadata": {},
   "outputs": [
    {
     "output_type": "execute_result",
     "data": {
      "text/plain": [
       "         id                                  title_similar_ind  \\\n",
       "0  58390336  [24889348, 25202283, 1664525, 48018642, 555736...   \n",
       "1   1664525  [53904321, 54389415, 65084136, 4071579, 239667...   \n",
       "2  55573620  [54389409, 49895267, 4106563, 10123965, 761182...   \n",
       "3  24889348  [16680482, 55025250, 49895269, 55695623, 23966...   \n",
       "4  37667006  [53904321, 24889348, 54389415, 65084136, 16645...   \n",
       "\n",
       "                             description_similar_ind  \n",
       "0  [55025250, 24889348, 25202283, 1664525, 487541...  \n",
       "1  [53904321, 55025250, 27979415, 25202283, 50272...  \n",
       "2  [54389411, 14677740, 54389395, 55582071, 40715...  \n",
       "3  [53904321, 27979415, 25202283, 1664525, 487541...  \n",
       "4  [53904321, 24889348, 25202283, 1664525, 539775...  "
      ],
      "text/html": "<div>\n<style scoped>\n    .dataframe tbody tr th:only-of-type {\n        vertical-align: middle;\n    }\n\n    .dataframe tbody tr th {\n        vertical-align: top;\n    }\n\n    .dataframe thead th {\n        text-align: right;\n    }\n</style>\n<table border=\"1\" class=\"dataframe\">\n  <thead>\n    <tr style=\"text-align: right;\">\n      <th></th>\n      <th>id</th>\n      <th>title_similar_ind</th>\n      <th>description_similar_ind</th>\n    </tr>\n  </thead>\n  <tbody>\n    <tr>\n      <th>0</th>\n      <td>58390336</td>\n      <td>[24889348, 25202283, 1664525, 48018642, 555736...</td>\n      <td>[55025250, 24889348, 25202283, 1664525, 487541...</td>\n    </tr>\n    <tr>\n      <th>1</th>\n      <td>1664525</td>\n      <td>[53904321, 54389415, 65084136, 4071579, 239667...</td>\n      <td>[53904321, 55025250, 27979415, 25202283, 50272...</td>\n    </tr>\n    <tr>\n      <th>2</th>\n      <td>55573620</td>\n      <td>[54389409, 49895267, 4106563, 10123965, 761182...</td>\n      <td>[54389411, 14677740, 54389395, 55582071, 40715...</td>\n    </tr>\n    <tr>\n      <th>3</th>\n      <td>24889348</td>\n      <td>[16680482, 55025250, 49895269, 55695623, 23966...</td>\n      <td>[53904321, 27979415, 25202283, 1664525, 487541...</td>\n    </tr>\n    <tr>\n      <th>4</th>\n      <td>37667006</td>\n      <td>[53904321, 24889348, 54389415, 65084136, 16645...</td>\n      <td>[53904321, 24889348, 25202283, 1664525, 539775...</td>\n    </tr>\n  </tbody>\n</table>\n</div>"
     },
     "metadata": {},
     "execution_count": 43
    }
   ],
   "source": [
    "new_similary_data.head()"
   ]
  },
  {
   "cell_type": "code",
   "execution_count": 44,
   "metadata": {},
   "outputs": [],
   "source": [
    "# new_similary_data.to_csv(\"../Data/content_similary_result.csv\", index=False)"
   ]
  }
 ]
}
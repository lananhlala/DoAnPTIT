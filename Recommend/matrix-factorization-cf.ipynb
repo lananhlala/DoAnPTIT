{
 "metadata": {
  "language_info": {
   "codemirror_mode": {
    "name": "ipython",
    "version": 3
   },
   "file_extension": ".py",
   "mimetype": "text/x-python",
   "name": "python",
   "nbconvert_exporter": "python",
   "pygments_lexer": "ipython3",
   "version": "3.7.6-final"
  },
  "orig_nbformat": 2,
  "kernelspec": {
   "name": "python36864bitcc30d91a1dad45e4b3c775dc11df627a",
   "display_name": "Python 3.6.8 64-bit"
  }
 },
 "nbformat": 4,
 "nbformat_minor": 2,
 "cells": [
  {
   "cell_type": "code",
   "execution_count": 36,
   "metadata": {},
   "outputs": [],
   "source": [
    "import pandas as pd \n",
    "import numpy as np\n",
    "from sklearn.metrics.pairwise import cosine_similarity\n",
    "from scipy import sparse "
   ]
  },
  {
   "cell_type": "code",
   "execution_count": 37,
   "metadata": {},
   "outputs": [
    {
     "output_type": "execute_result",
     "data": {
      "text/plain": [
       "   product_id  customer_id  stars\n",
       "0        9672        53270      5\n",
       "1        9672        91213      4\n",
       "2        3038        56289      5\n",
       "3        3038        88524      5\n",
       "4        3038        72126      5"
      ],
      "text/html": "<div>\n<style scoped>\n    .dataframe tbody tr th:only-of-type {\n        vertical-align: middle;\n    }\n\n    .dataframe tbody tr th {\n        vertical-align: top;\n    }\n\n    .dataframe thead th {\n        text-align: right;\n    }\n</style>\n<table border=\"1\" class=\"dataframe\">\n  <thead>\n    <tr style=\"text-align: right;\">\n      <th></th>\n      <th>product_id</th>\n      <th>customer_id</th>\n      <th>stars</th>\n    </tr>\n  </thead>\n  <tbody>\n    <tr>\n      <th>0</th>\n      <td>9672</td>\n      <td>53270</td>\n      <td>5</td>\n    </tr>\n    <tr>\n      <th>1</th>\n      <td>9672</td>\n      <td>91213</td>\n      <td>4</td>\n    </tr>\n    <tr>\n      <th>2</th>\n      <td>3038</td>\n      <td>56289</td>\n      <td>5</td>\n    </tr>\n    <tr>\n      <th>3</th>\n      <td>3038</td>\n      <td>88524</td>\n      <td>5</td>\n    </tr>\n    <tr>\n      <th>4</th>\n      <td>3038</td>\n      <td>72126</td>\n      <td>5</td>\n    </tr>\n  </tbody>\n</table>\n</div>"
     },
     "metadata": {},
     "execution_count": 37
    }
   ],
   "source": [
    "ratings = pd.read_csv('../Data/final_rating_not_spare.csv', usecols=['customer_id', 'product_id', 'stars'])\n",
    "ratings.head()"
   ]
  },
  {
   "cell_type": "code",
   "execution_count": 38,
   "metadata": {},
   "outputs": [],
   "source": [
    "customer_index = np.unique(ratings['customer_id'])\n",
    "customer_index = np.sort(customer_index)\n",
    "ratings['id_customer'] = ratings['customer_id'].apply(lambda x: np.where(customer_index==int(x))[0][0])"
   ]
  },
  {
   "cell_type": "code",
   "execution_count": 39,
   "metadata": {},
   "outputs": [],
   "source": [
    "ratings.drop('customer_id', axis=1, inplace=True)\n",
    "ratings.rename(columns={'id_customer': 'customer_id'}, inplace=True)"
   ]
  },
  {
   "cell_type": "code",
   "execution_count": 40,
   "metadata": {},
   "outputs": [],
   "source": [
    "product_index = np.unique(ratings['product_id'])\n",
    "product_index = np.sort(product_index)\n",
    "ratings['id_product'] = ratings['product_id'].apply(lambda x: np.where(product_index==int(x))[0][0])"
   ]
  },
  {
   "cell_type": "code",
   "execution_count": 41,
   "metadata": {},
   "outputs": [],
   "source": [
    "ratings.drop('product_id', axis=1, inplace=True)\n",
    "ratings.rename(columns={'id_product': 'product_id'}, inplace=True)"
   ]
  },
  {
   "cell_type": "code",
   "execution_count": 43,
   "metadata": {},
   "outputs": [],
   "source": [
    "from sklearn.model_selection import train_test_split\n",
    "# rate_train, rate_test = train_test_split(ratings.values, test_size=0.2, random_state=43)\n",
    "ratings_train, ratings_test = train_test_split(ratings, test_size=0.2, random_state=43)"
   ]
  },
  {
   "cell_type": "code",
   "execution_count": 45,
   "metadata": {},
   "outputs": [],
   "source": [
    "ratings_train.drop_duplicates(['customer_id', 'product_id'], inplace=True)"
   ]
  },
  {
   "cell_type": "code",
   "execution_count": 46,
   "metadata": {},
   "outputs": [],
   "source": [
    "df_user_item = ratings_train.pivot(\n",
    "    index='customer_id',\n",
    "    columns='product_id',\n",
    "    values='stars'\n",
    ").fillna(0)"
   ]
  },
  {
   "cell_type": "code",
   "execution_count": 47,
   "metadata": {},
   "outputs": [
    {
     "output_type": "execute_result",
     "data": {
      "text/plain": [
       "product_id   0     1     2     3     4     5     6     7     8     9     ...  \\\n",
       "customer_id                                                              ...   \n",
       "0             0.0   0.0   0.0   0.0   0.0   0.0   0.0   0.0   0.0   0.0  ...   \n",
       "1             0.0   0.0   0.0   0.0   0.0   0.0   0.0   0.0   0.0   0.0  ...   \n",
       "2             0.0   0.0   0.0   0.0   0.0   0.0   0.0   0.0   0.0   0.0  ...   \n",
       "3             0.0   0.0   0.0   0.0   0.0   0.0   0.0   0.0   0.0   0.0  ...   \n",
       "4             0.0   0.0   0.0   0.0   0.0   0.0   0.0   0.0   0.0   0.0  ...   \n",
       "...           ...   ...   ...   ...   ...   ...   ...   ...   ...   ...  ...   \n",
       "1377          0.0   0.0   0.0   0.0   0.0   0.0   0.0   0.0   0.0   0.0  ...   \n",
       "1378          0.0   0.0   0.0   0.0   0.0   0.0   0.0   0.0   0.0   0.0  ...   \n",
       "1379          0.0   0.0   0.0   0.0   0.0   0.0   0.0   0.0   0.0   0.0  ...   \n",
       "1380          0.0   0.0   0.0   0.0   0.0   0.0   0.0   0.0   0.0   0.0  ...   \n",
       "1381          0.0   0.0   0.0   0.0   0.0   0.0   0.0   0.0   0.0   0.0  ...   \n",
       "\n",
       "product_id   5278  5279  5281  5282  5283  5284  5285  5286  5287  5288  \n",
       "customer_id                                                              \n",
       "0             0.0   0.0   0.0   0.0   0.0   0.0   0.0   0.0   0.0   0.0  \n",
       "1             0.0   0.0   0.0   0.0   0.0   0.0   0.0   0.0   0.0   0.0  \n",
       "2             0.0   0.0   0.0   0.0   0.0   0.0   0.0   0.0   0.0   0.0  \n",
       "3             0.0   0.0   0.0   0.0   0.0   0.0   0.0   0.0   0.0   0.0  \n",
       "4             0.0   0.0   0.0   0.0   0.0   0.0   0.0   0.0   0.0   0.0  \n",
       "...           ...   ...   ...   ...   ...   ...   ...   ...   ...   ...  \n",
       "1377          0.0   0.0   0.0   0.0   0.0   0.0   0.0   0.0   0.0   0.0  \n",
       "1378          0.0   0.0   0.0   0.0   0.0   0.0   0.0   0.0   0.0   0.0  \n",
       "1379          0.0   0.0   0.0   0.0   0.0   0.0   0.0   0.0   0.0   0.0  \n",
       "1380          0.0   0.0   0.0   0.0   0.0   0.0   0.0   0.0   0.0   0.0  \n",
       "1381          0.0   0.0   0.0   0.0   0.0   0.0   0.0   0.0   0.0   0.0  \n",
       "\n",
       "[1382 rows x 4922 columns]"
      ],
      "text/html": "<div>\n<style scoped>\n    .dataframe tbody tr th:only-of-type {\n        vertical-align: middle;\n    }\n\n    .dataframe tbody tr th {\n        vertical-align: top;\n    }\n\n    .dataframe thead th {\n        text-align: right;\n    }\n</style>\n<table border=\"1\" class=\"dataframe\">\n  <thead>\n    <tr style=\"text-align: right;\">\n      <th>product_id</th>\n      <th>0</th>\n      <th>1</th>\n      <th>2</th>\n      <th>3</th>\n      <th>4</th>\n      <th>5</th>\n      <th>6</th>\n      <th>7</th>\n      <th>8</th>\n      <th>9</th>\n      <th>...</th>\n      <th>5278</th>\n      <th>5279</th>\n      <th>5281</th>\n      <th>5282</th>\n      <th>5283</th>\n      <th>5284</th>\n      <th>5285</th>\n      <th>5286</th>\n      <th>5287</th>\n      <th>5288</th>\n    </tr>\n    <tr>\n      <th>customer_id</th>\n      <th></th>\n      <th></th>\n      <th></th>\n      <th></th>\n      <th></th>\n      <th></th>\n      <th></th>\n      <th></th>\n      <th></th>\n      <th></th>\n      <th></th>\n      <th></th>\n      <th></th>\n      <th></th>\n      <th></th>\n      <th></th>\n      <th></th>\n      <th></th>\n      <th></th>\n      <th></th>\n      <th></th>\n    </tr>\n  </thead>\n  <tbody>\n    <tr>\n      <th>0</th>\n      <td>0.0</td>\n      <td>0.0</td>\n      <td>0.0</td>\n      <td>0.0</td>\n      <td>0.0</td>\n      <td>0.0</td>\n      <td>0.0</td>\n      <td>0.0</td>\n      <td>0.0</td>\n      <td>0.0</td>\n      <td>...</td>\n      <td>0.0</td>\n      <td>0.0</td>\n      <td>0.0</td>\n      <td>0.0</td>\n      <td>0.0</td>\n      <td>0.0</td>\n      <td>0.0</td>\n      <td>0.0</td>\n      <td>0.0</td>\n      <td>0.0</td>\n    </tr>\n    <tr>\n      <th>1</th>\n      <td>0.0</td>\n      <td>0.0</td>\n      <td>0.0</td>\n      <td>0.0</td>\n      <td>0.0</td>\n      <td>0.0</td>\n      <td>0.0</td>\n      <td>0.0</td>\n      <td>0.0</td>\n      <td>0.0</td>\n      <td>...</td>\n      <td>0.0</td>\n      <td>0.0</td>\n      <td>0.0</td>\n      <td>0.0</td>\n      <td>0.0</td>\n      <td>0.0</td>\n      <td>0.0</td>\n      <td>0.0</td>\n      <td>0.0</td>\n      <td>0.0</td>\n    </tr>\n    <tr>\n      <th>2</th>\n      <td>0.0</td>\n      <td>0.0</td>\n      <td>0.0</td>\n      <td>0.0</td>\n      <td>0.0</td>\n      <td>0.0</td>\n      <td>0.0</td>\n      <td>0.0</td>\n      <td>0.0</td>\n      <td>0.0</td>\n      <td>...</td>\n      <td>0.0</td>\n      <td>0.0</td>\n      <td>0.0</td>\n      <td>0.0</td>\n      <td>0.0</td>\n      <td>0.0</td>\n      <td>0.0</td>\n      <td>0.0</td>\n      <td>0.0</td>\n      <td>0.0</td>\n    </tr>\n    <tr>\n      <th>3</th>\n      <td>0.0</td>\n      <td>0.0</td>\n      <td>0.0</td>\n      <td>0.0</td>\n      <td>0.0</td>\n      <td>0.0</td>\n      <td>0.0</td>\n      <td>0.0</td>\n      <td>0.0</td>\n      <td>0.0</td>\n      <td>...</td>\n      <td>0.0</td>\n      <td>0.0</td>\n      <td>0.0</td>\n      <td>0.0</td>\n      <td>0.0</td>\n      <td>0.0</td>\n      <td>0.0</td>\n      <td>0.0</td>\n      <td>0.0</td>\n      <td>0.0</td>\n    </tr>\n    <tr>\n      <th>4</th>\n      <td>0.0</td>\n      <td>0.0</td>\n      <td>0.0</td>\n      <td>0.0</td>\n      <td>0.0</td>\n      <td>0.0</td>\n      <td>0.0</td>\n      <td>0.0</td>\n      <td>0.0</td>\n      <td>0.0</td>\n      <td>...</td>\n      <td>0.0</td>\n      <td>0.0</td>\n      <td>0.0</td>\n      <td>0.0</td>\n      <td>0.0</td>\n      <td>0.0</td>\n      <td>0.0</td>\n      <td>0.0</td>\n      <td>0.0</td>\n      <td>0.0</td>\n    </tr>\n    <tr>\n      <th>...</th>\n      <td>...</td>\n      <td>...</td>\n      <td>...</td>\n      <td>...</td>\n      <td>...</td>\n      <td>...</td>\n      <td>...</td>\n      <td>...</td>\n      <td>...</td>\n      <td>...</td>\n      <td>...</td>\n      <td>...</td>\n      <td>...</td>\n      <td>...</td>\n      <td>...</td>\n      <td>...</td>\n      <td>...</td>\n      <td>...</td>\n      <td>...</td>\n      <td>...</td>\n      <td>...</td>\n    </tr>\n    <tr>\n      <th>1377</th>\n      <td>0.0</td>\n      <td>0.0</td>\n      <td>0.0</td>\n      <td>0.0</td>\n      <td>0.0</td>\n      <td>0.0</td>\n      <td>0.0</td>\n      <td>0.0</td>\n      <td>0.0</td>\n      <td>0.0</td>\n      <td>...</td>\n      <td>0.0</td>\n      <td>0.0</td>\n      <td>0.0</td>\n      <td>0.0</td>\n      <td>0.0</td>\n      <td>0.0</td>\n      <td>0.0</td>\n      <td>0.0</td>\n      <td>0.0</td>\n      <td>0.0</td>\n    </tr>\n    <tr>\n      <th>1378</th>\n      <td>0.0</td>\n      <td>0.0</td>\n      <td>0.0</td>\n      <td>0.0</td>\n      <td>0.0</td>\n      <td>0.0</td>\n      <td>0.0</td>\n      <td>0.0</td>\n      <td>0.0</td>\n      <td>0.0</td>\n      <td>...</td>\n      <td>0.0</td>\n      <td>0.0</td>\n      <td>0.0</td>\n      <td>0.0</td>\n      <td>0.0</td>\n      <td>0.0</td>\n      <td>0.0</td>\n      <td>0.0</td>\n      <td>0.0</td>\n      <td>0.0</td>\n    </tr>\n    <tr>\n      <th>1379</th>\n      <td>0.0</td>\n      <td>0.0</td>\n      <td>0.0</td>\n      <td>0.0</td>\n      <td>0.0</td>\n      <td>0.0</td>\n      <td>0.0</td>\n      <td>0.0</td>\n      <td>0.0</td>\n      <td>0.0</td>\n      <td>...</td>\n      <td>0.0</td>\n      <td>0.0</td>\n      <td>0.0</td>\n      <td>0.0</td>\n      <td>0.0</td>\n      <td>0.0</td>\n      <td>0.0</td>\n      <td>0.0</td>\n      <td>0.0</td>\n      <td>0.0</td>\n    </tr>\n    <tr>\n      <th>1380</th>\n      <td>0.0</td>\n      <td>0.0</td>\n      <td>0.0</td>\n      <td>0.0</td>\n      <td>0.0</td>\n      <td>0.0</td>\n      <td>0.0</td>\n      <td>0.0</td>\n      <td>0.0</td>\n      <td>0.0</td>\n      <td>...</td>\n      <td>0.0</td>\n      <td>0.0</td>\n      <td>0.0</td>\n      <td>0.0</td>\n      <td>0.0</td>\n      <td>0.0</td>\n      <td>0.0</td>\n      <td>0.0</td>\n      <td>0.0</td>\n      <td>0.0</td>\n    </tr>\n    <tr>\n      <th>1381</th>\n      <td>0.0</td>\n      <td>0.0</td>\n      <td>0.0</td>\n      <td>0.0</td>\n      <td>0.0</td>\n      <td>0.0</td>\n      <td>0.0</td>\n      <td>0.0</td>\n      <td>0.0</td>\n      <td>0.0</td>\n      <td>...</td>\n      <td>0.0</td>\n      <td>0.0</td>\n      <td>0.0</td>\n      <td>0.0</td>\n      <td>0.0</td>\n      <td>0.0</td>\n      <td>0.0</td>\n      <td>0.0</td>\n      <td>0.0</td>\n      <td>0.0</td>\n    </tr>\n  </tbody>\n</table>\n<p>1382 rows × 4922 columns</p>\n</div>"
     },
     "metadata": {},
     "execution_count": 47
    }
   ],
   "source": [
    "df_user_item"
   ]
  },
  {
   "cell_type": "code",
   "execution_count": 48,
   "metadata": {},
   "outputs": [],
   "source": [
    "R = df_user_item.to_numpy()\n",
    "user_ratings_mean = np.mean(R, axis = 1)\n",
    "R_demeaned = R - user_ratings_mean.reshape(-1, 1)"
   ]
  },
  {
   "cell_type": "code",
   "execution_count": 49,
   "metadata": {},
   "outputs": [],
   "source": [
    "from scipy.sparse.linalg import svds\n",
    "U, sigma, Vt = svds(R_demeaned, k = 50)\n",
    "# that the Sigma$ returned is just the values instead of a diagonal matrix. \n",
    "# This is useful, but since I'm going to leverage matrix multiplication to get predictions \n",
    "# I'll convert it to the diagonal matrix form.\n",
    "sigma = np.diag(sigma)\n",
    "all_user_predicted_ratings = np.dot(np.dot(U, sigma), Vt) + user_ratings_mean.reshape(-1, 1)"
   ]
  },
  {
   "cell_type": "code",
   "execution_count": 50,
   "metadata": {},
   "outputs": [
    {
     "output_type": "execute_result",
     "data": {
      "text/plain": [
       "product_id      0         1         2         3         4         5     \\\n",
       "0          -0.016753  0.001506 -0.000212 -0.010394 -0.015349  0.125442   \n",
       "1          -0.028165  0.024714  0.014486  0.023683  0.019405  0.197782   \n",
       "2           0.006113  0.012839  0.007712  0.013159  0.012787  0.057691   \n",
       "3          -0.016529 -0.009661 -0.007994  0.000064  0.029681  0.279781   \n",
       "4           0.002613  0.006956  0.002177  0.004251  0.003383  0.041645   \n",
       "\n",
       "product_id      6         7         8         9     ...      5278      5279  \\\n",
       "0           0.006218 -0.002914  0.001482 -0.014572  ... -0.058238  0.008696   \n",
       "1           0.006146  0.014539  0.008769  0.035280  ... -0.176639  0.381157   \n",
       "2           0.008873  0.008674  0.005415  0.017087  ...  0.062976  0.006448   \n",
       "3          -0.012563 -0.007531 -0.007881 -0.034222  ... -0.075196  0.057691   \n",
       "4           0.004700  0.001865  0.001780  0.002047  ...  0.002746  0.023177   \n",
       "\n",
       "product_id      5281      5282      5283      5284      5285      5286  \\\n",
       "0           0.015771 -0.003345  0.014083 -0.018446  0.007885  0.137571   \n",
       "1           0.176594  0.107502  0.365465  0.281195 -0.035337  0.072143   \n",
       "2           0.006654 -0.005021 -0.057055  0.003907 -0.039930  0.011081   \n",
       "3          -0.020425  0.095484  0.062251  0.062915  0.003950  0.044334   \n",
       "4           0.025085  0.010163  0.028126  0.012000  0.006410 -0.003005   \n",
       "\n",
       "product_id      5287      5288  \n",
       "0           0.097186  0.015229  \n",
       "1           0.090630  0.068457  \n",
       "2          -0.020031  0.018426  \n",
       "3           0.044819 -0.037207  \n",
       "4           0.010907  0.016650  \n",
       "\n",
       "[5 rows x 4922 columns]"
      ],
      "text/html": "<div>\n<style scoped>\n    .dataframe tbody tr th:only-of-type {\n        vertical-align: middle;\n    }\n\n    .dataframe tbody tr th {\n        vertical-align: top;\n    }\n\n    .dataframe thead th {\n        text-align: right;\n    }\n</style>\n<table border=\"1\" class=\"dataframe\">\n  <thead>\n    <tr style=\"text-align: right;\">\n      <th>product_id</th>\n      <th>0</th>\n      <th>1</th>\n      <th>2</th>\n      <th>3</th>\n      <th>4</th>\n      <th>5</th>\n      <th>6</th>\n      <th>7</th>\n      <th>8</th>\n      <th>9</th>\n      <th>...</th>\n      <th>5278</th>\n      <th>5279</th>\n      <th>5281</th>\n      <th>5282</th>\n      <th>5283</th>\n      <th>5284</th>\n      <th>5285</th>\n      <th>5286</th>\n      <th>5287</th>\n      <th>5288</th>\n    </tr>\n  </thead>\n  <tbody>\n    <tr>\n      <th>0</th>\n      <td>-0.016753</td>\n      <td>0.001506</td>\n      <td>-0.000212</td>\n      <td>-0.010394</td>\n      <td>-0.015349</td>\n      <td>0.125442</td>\n      <td>0.006218</td>\n      <td>-0.002914</td>\n      <td>0.001482</td>\n      <td>-0.014572</td>\n      <td>...</td>\n      <td>-0.058238</td>\n      <td>0.008696</td>\n      <td>0.015771</td>\n      <td>-0.003345</td>\n      <td>0.014083</td>\n      <td>-0.018446</td>\n      <td>0.007885</td>\n      <td>0.137571</td>\n      <td>0.097186</td>\n      <td>0.015229</td>\n    </tr>\n    <tr>\n      <th>1</th>\n      <td>-0.028165</td>\n      <td>0.024714</td>\n      <td>0.014486</td>\n      <td>0.023683</td>\n      <td>0.019405</td>\n      <td>0.197782</td>\n      <td>0.006146</td>\n      <td>0.014539</td>\n      <td>0.008769</td>\n      <td>0.035280</td>\n      <td>...</td>\n      <td>-0.176639</td>\n      <td>0.381157</td>\n      <td>0.176594</td>\n      <td>0.107502</td>\n      <td>0.365465</td>\n      <td>0.281195</td>\n      <td>-0.035337</td>\n      <td>0.072143</td>\n      <td>0.090630</td>\n      <td>0.068457</td>\n    </tr>\n    <tr>\n      <th>2</th>\n      <td>0.006113</td>\n      <td>0.012839</td>\n      <td>0.007712</td>\n      <td>0.013159</td>\n      <td>0.012787</td>\n      <td>0.057691</td>\n      <td>0.008873</td>\n      <td>0.008674</td>\n      <td>0.005415</td>\n      <td>0.017087</td>\n      <td>...</td>\n      <td>0.062976</td>\n      <td>0.006448</td>\n      <td>0.006654</td>\n      <td>-0.005021</td>\n      <td>-0.057055</td>\n      <td>0.003907</td>\n      <td>-0.039930</td>\n      <td>0.011081</td>\n      <td>-0.020031</td>\n      <td>0.018426</td>\n    </tr>\n    <tr>\n      <th>3</th>\n      <td>-0.016529</td>\n      <td>-0.009661</td>\n      <td>-0.007994</td>\n      <td>0.000064</td>\n      <td>0.029681</td>\n      <td>0.279781</td>\n      <td>-0.012563</td>\n      <td>-0.007531</td>\n      <td>-0.007881</td>\n      <td>-0.034222</td>\n      <td>...</td>\n      <td>-0.075196</td>\n      <td>0.057691</td>\n      <td>-0.020425</td>\n      <td>0.095484</td>\n      <td>0.062251</td>\n      <td>0.062915</td>\n      <td>0.003950</td>\n      <td>0.044334</td>\n      <td>0.044819</td>\n      <td>-0.037207</td>\n    </tr>\n    <tr>\n      <th>4</th>\n      <td>0.002613</td>\n      <td>0.006956</td>\n      <td>0.002177</td>\n      <td>0.004251</td>\n      <td>0.003383</td>\n      <td>0.041645</td>\n      <td>0.004700</td>\n      <td>0.001865</td>\n      <td>0.001780</td>\n      <td>0.002047</td>\n      <td>...</td>\n      <td>0.002746</td>\n      <td>0.023177</td>\n      <td>0.025085</td>\n      <td>0.010163</td>\n      <td>0.028126</td>\n      <td>0.012000</td>\n      <td>0.006410</td>\n      <td>-0.003005</td>\n      <td>0.010907</td>\n      <td>0.016650</td>\n    </tr>\n  </tbody>\n</table>\n<p>5 rows × 4922 columns</p>\n</div>"
     },
     "metadata": {},
     "execution_count": 50
    }
   ],
   "source": [
    "preds_df = pd.DataFrame(all_user_predicted_ratings, columns = df_user_item.columns)\n",
    "preds_df.head()"
   ]
  },
  {
   "cell_type": "code",
   "execution_count": 54,
   "metadata": {},
   "outputs": [],
   "source": [
    "def recommend_movies(preds_df, userID, movies_df, original_ratings_df, num_recommendations=5):\n",
    "    \n",
    "    # Get and sort the user's predictions\n",
    "    user_row_number = userID - 1 # UserID starts at 1, not 0\n",
    "    sorted_user_predictions = preds_df.iloc[user_row_number].sort_values(ascending=False) # UserID starts at 1\n",
    "#     print(preds_df.iloc[user_row_number])\n",
    "#     print(sorted_user_predictions)\n",
    "    # Get the user's data and merge in the movie information.\n",
    "    user_data = original_ratings_df[original_ratings_df.customer_id == (userID)]\n",
    "    user_full = (user_data.merge(movies_df, how = 'left', left_on = 'product_id', right_on = 'product_id').\n",
    "                     sort_values(['stars'], ascending=False)\n",
    "                 )\n",
    "#     print(user_full)\n",
    "#     print 'User {0} has already rated {1} movies.'.format(userID, user_full.shape[0])\n",
    "#     print 'Recommending highest {0} predicted ratings movies not already rated.'.format(num_recommendations)\n",
    "    #                left_on = 'movieId',\n",
    "#                right_on = 'movieId').\n",
    "# merge(pd.DataFrame(sorted_user_predictions).reset_index(), how = 'left').rename(columns = {user_row_number: 'Predictions'}).\n",
    "    # Recommend the highest predicted rating movies that the user hasn't seen yet.\n",
    "    recommendations = (movies_df[~movies_df['product_id'].isin(user_full['product_id'])]).merge(pd.DataFrame(sorted_user_predictions).reset_index(), how = 'left', left_on = 'product_id',\n",
    "               right_on = 'product_id').rename(columns = {user_row_number: 'Predictions'}).sort_values('Predictions', ascending = False).iloc[:num_recommendations, :-1]\n",
    "                      \n",
    "\n",
    "    return user_full, recommendations"
   ]
  },
  {
   "cell_type": "code",
   "execution_count": 58,
   "metadata": {},
   "outputs": [
    {
     "output_type": "execute_result",
     "data": {
      "text/plain": [
       "       product_id\n",
       "3733         5001\n",
       "19465        4790\n",
       "15647        2431\n",
       "17852        4234\n",
       "6187         2859\n",
       "...           ...\n",
       "18448        3428\n",
       "7985          500\n",
       "18687        5053\n",
       "19776        1661\n",
       "14148        4039\n",
       "\n",
       "[16674 rows x 1 columns]"
      ],
      "text/html": "<div>\n<style scoped>\n    .dataframe tbody tr th:only-of-type {\n        vertical-align: middle;\n    }\n\n    .dataframe tbody tr th {\n        vertical-align: top;\n    }\n\n    .dataframe thead th {\n        text-align: right;\n    }\n</style>\n<table border=\"1\" class=\"dataframe\">\n  <thead>\n    <tr style=\"text-align: right;\">\n      <th></th>\n      <th>product_id</th>\n    </tr>\n  </thead>\n  <tbody>\n    <tr>\n      <th>3733</th>\n      <td>5001</td>\n    </tr>\n    <tr>\n      <th>19465</th>\n      <td>4790</td>\n    </tr>\n    <tr>\n      <th>15647</th>\n      <td>2431</td>\n    </tr>\n    <tr>\n      <th>17852</th>\n      <td>4234</td>\n    </tr>\n    <tr>\n      <th>6187</th>\n      <td>2859</td>\n    </tr>\n    <tr>\n      <th>...</th>\n      <td>...</td>\n    </tr>\n    <tr>\n      <th>18448</th>\n      <td>3428</td>\n    </tr>\n    <tr>\n      <th>7985</th>\n      <td>500</td>\n    </tr>\n    <tr>\n      <th>18687</th>\n      <td>5053</td>\n    </tr>\n    <tr>\n      <th>19776</th>\n      <td>1661</td>\n    </tr>\n    <tr>\n      <th>14148</th>\n      <td>4039</td>\n    </tr>\n  </tbody>\n</table>\n<p>16674 rows × 1 columns</p>\n</div>"
     },
     "metadata": {},
     "execution_count": 58
    }
   ],
   "source": [
    "df_movies = ratings_train[['product_id']]\n",
    "df_movies"
   ]
  },
  {
   "cell_type": "code",
   "execution_count": 62,
   "metadata": {},
   "outputs": [],
   "source": [
    "already_rated, predictions = recommend_movies(preds_df, 2, df_movies, ratings_train, 10)"
   ]
  },
  {
   "cell_type": "code",
   "execution_count": 63,
   "metadata": {},
   "outputs": [
    {
     "output_type": "execute_result",
     "data": {
      "text/plain": [
       "    stars  customer_id  product_id\n",
       "0       5            2        5040\n",
       "1       5            2        5040\n",
       "23      5            2        4539\n",
       "24      5            2        4539\n",
       "25      5            2        4539\n",
       "26      5            2        4539\n",
       "27      5            2        4539\n",
       "28      5            2        3956\n",
       "29      5            2        3956\n",
       "30      5            2        3956\n",
       "31      5            2        3956\n",
       "32      5            2        3956\n",
       "33      5            2        3956\n",
       "34      5            2        3956\n",
       "35      5            2        3956\n",
       "36      5            2        5018\n",
       "37      5            2        5018\n",
       "38      5            2        1531\n",
       "39      5            2        1531\n",
       "22      5            2        4539\n",
       "21      5            2        4539\n",
       "20      5            2        4539\n",
       "19      5            2        4539\n",
       "2       5            2        5040\n",
       "3       5            2        5040\n",
       "4       5            2        4941\n",
       "5       5            2        5142\n",
       "6       5            2        5142\n",
       "7       5            2         125\n",
       "8       5            2         125\n",
       "9       5            2         125\n",
       "10      5            2         291\n",
       "11      5            2         291\n",
       "12      5            2         291\n",
       "13      5            2         291\n",
       "14      5            2         291\n",
       "15      5            2        3723\n",
       "16      5            2        3723\n",
       "17      5            2        5190\n",
       "18      5            2        4539\n",
       "40      4            2        4169\n",
       "41      4            2        4169"
      ],
      "text/html": "<div>\n<style scoped>\n    .dataframe tbody tr th:only-of-type {\n        vertical-align: middle;\n    }\n\n    .dataframe tbody tr th {\n        vertical-align: top;\n    }\n\n    .dataframe thead th {\n        text-align: right;\n    }\n</style>\n<table border=\"1\" class=\"dataframe\">\n  <thead>\n    <tr style=\"text-align: right;\">\n      <th></th>\n      <th>stars</th>\n      <th>customer_id</th>\n      <th>product_id</th>\n    </tr>\n  </thead>\n  <tbody>\n    <tr>\n      <th>0</th>\n      <td>5</td>\n      <td>2</td>\n      <td>5040</td>\n    </tr>\n    <tr>\n      <th>1</th>\n      <td>5</td>\n      <td>2</td>\n      <td>5040</td>\n    </tr>\n    <tr>\n      <th>23</th>\n      <td>5</td>\n      <td>2</td>\n      <td>4539</td>\n    </tr>\n    <tr>\n      <th>24</th>\n      <td>5</td>\n      <td>2</td>\n      <td>4539</td>\n    </tr>\n    <tr>\n      <th>25</th>\n      <td>5</td>\n      <td>2</td>\n      <td>4539</td>\n    </tr>\n    <tr>\n      <th>26</th>\n      <td>5</td>\n      <td>2</td>\n      <td>4539</td>\n    </tr>\n    <tr>\n      <th>27</th>\n      <td>5</td>\n      <td>2</td>\n      <td>4539</td>\n    </tr>\n    <tr>\n      <th>28</th>\n      <td>5</td>\n      <td>2</td>\n      <td>3956</td>\n    </tr>\n    <tr>\n      <th>29</th>\n      <td>5</td>\n      <td>2</td>\n      <td>3956</td>\n    </tr>\n    <tr>\n      <th>30</th>\n      <td>5</td>\n      <td>2</td>\n      <td>3956</td>\n    </tr>\n    <tr>\n      <th>31</th>\n      <td>5</td>\n      <td>2</td>\n      <td>3956</td>\n    </tr>\n    <tr>\n      <th>32</th>\n      <td>5</td>\n      <td>2</td>\n      <td>3956</td>\n    </tr>\n    <tr>\n      <th>33</th>\n      <td>5</td>\n      <td>2</td>\n      <td>3956</td>\n    </tr>\n    <tr>\n      <th>34</th>\n      <td>5</td>\n      <td>2</td>\n      <td>3956</td>\n    </tr>\n    <tr>\n      <th>35</th>\n      <td>5</td>\n      <td>2</td>\n      <td>3956</td>\n    </tr>\n    <tr>\n      <th>36</th>\n      <td>5</td>\n      <td>2</td>\n      <td>5018</td>\n    </tr>\n    <tr>\n      <th>37</th>\n      <td>5</td>\n      <td>2</td>\n      <td>5018</td>\n    </tr>\n    <tr>\n      <th>38</th>\n      <td>5</td>\n      <td>2</td>\n      <td>1531</td>\n    </tr>\n    <tr>\n      <th>39</th>\n      <td>5</td>\n      <td>2</td>\n      <td>1531</td>\n    </tr>\n    <tr>\n      <th>22</th>\n      <td>5</td>\n      <td>2</td>\n      <td>4539</td>\n    </tr>\n    <tr>\n      <th>21</th>\n      <td>5</td>\n      <td>2</td>\n      <td>4539</td>\n    </tr>\n    <tr>\n      <th>20</th>\n      <td>5</td>\n      <td>2</td>\n      <td>4539</td>\n    </tr>\n    <tr>\n      <th>19</th>\n      <td>5</td>\n      <td>2</td>\n      <td>4539</td>\n    </tr>\n    <tr>\n      <th>2</th>\n      <td>5</td>\n      <td>2</td>\n      <td>5040</td>\n    </tr>\n    <tr>\n      <th>3</th>\n      <td>5</td>\n      <td>2</td>\n      <td>5040</td>\n    </tr>\n    <tr>\n      <th>4</th>\n      <td>5</td>\n      <td>2</td>\n      <td>4941</td>\n    </tr>\n    <tr>\n      <th>5</th>\n      <td>5</td>\n      <td>2</td>\n      <td>5142</td>\n    </tr>\n    <tr>\n      <th>6</th>\n      <td>5</td>\n      <td>2</td>\n      <td>5142</td>\n    </tr>\n    <tr>\n      <th>7</th>\n      <td>5</td>\n      <td>2</td>\n      <td>125</td>\n    </tr>\n    <tr>\n      <th>8</th>\n      <td>5</td>\n      <td>2</td>\n      <td>125</td>\n    </tr>\n    <tr>\n      <th>9</th>\n      <td>5</td>\n      <td>2</td>\n      <td>125</td>\n    </tr>\n    <tr>\n      <th>10</th>\n      <td>5</td>\n      <td>2</td>\n      <td>291</td>\n    </tr>\n    <tr>\n      <th>11</th>\n      <td>5</td>\n      <td>2</td>\n      <td>291</td>\n    </tr>\n    <tr>\n      <th>12</th>\n      <td>5</td>\n      <td>2</td>\n      <td>291</td>\n    </tr>\n    <tr>\n      <th>13</th>\n      <td>5</td>\n      <td>2</td>\n      <td>291</td>\n    </tr>\n    <tr>\n      <th>14</th>\n      <td>5</td>\n      <td>2</td>\n      <td>291</td>\n    </tr>\n    <tr>\n      <th>15</th>\n      <td>5</td>\n      <td>2</td>\n      <td>3723</td>\n    </tr>\n    <tr>\n      <th>16</th>\n      <td>5</td>\n      <td>2</td>\n      <td>3723</td>\n    </tr>\n    <tr>\n      <th>17</th>\n      <td>5</td>\n      <td>2</td>\n      <td>5190</td>\n    </tr>\n    <tr>\n      <th>18</th>\n      <td>5</td>\n      <td>2</td>\n      <td>4539</td>\n    </tr>\n    <tr>\n      <th>40</th>\n      <td>4</td>\n      <td>2</td>\n      <td>4169</td>\n    </tr>\n    <tr>\n      <th>41</th>\n      <td>4</td>\n      <td>2</td>\n      <td>4169</td>\n    </tr>\n  </tbody>\n</table>\n</div>"
     },
     "metadata": {},
     "execution_count": 63
    }
   ],
   "source": [
    "already_rated"
   ]
  },
  {
   "cell_type": "code",
   "execution_count": 64,
   "metadata": {},
   "outputs": [
    {
     "output_type": "execute_result",
     "data": {
      "text/plain": [
       "       product_id\n",
       "15781        4906\n",
       "11745        4906\n",
       "10003        4906\n",
       "7719         4906\n",
       "5052         4906\n",
       "1798         4906\n",
       "1925         4906\n",
       "15324        4906\n",
       "6524         4906\n",
       "14961        4906"
      ],
      "text/html": "<div>\n<style scoped>\n    .dataframe tbody tr th:only-of-type {\n        vertical-align: middle;\n    }\n\n    .dataframe tbody tr th {\n        vertical-align: top;\n    }\n\n    .dataframe thead th {\n        text-align: right;\n    }\n</style>\n<table border=\"1\" class=\"dataframe\">\n  <thead>\n    <tr style=\"text-align: right;\">\n      <th></th>\n      <th>product_id</th>\n    </tr>\n  </thead>\n  <tbody>\n    <tr>\n      <th>15781</th>\n      <td>4906</td>\n    </tr>\n    <tr>\n      <th>11745</th>\n      <td>4906</td>\n    </tr>\n    <tr>\n      <th>10003</th>\n      <td>4906</td>\n    </tr>\n    <tr>\n      <th>7719</th>\n      <td>4906</td>\n    </tr>\n    <tr>\n      <th>5052</th>\n      <td>4906</td>\n    </tr>\n    <tr>\n      <th>1798</th>\n      <td>4906</td>\n    </tr>\n    <tr>\n      <th>1925</th>\n      <td>4906</td>\n    </tr>\n    <tr>\n      <th>15324</th>\n      <td>4906</td>\n    </tr>\n    <tr>\n      <th>6524</th>\n      <td>4906</td>\n    </tr>\n    <tr>\n      <th>14961</th>\n      <td>4906</td>\n    </tr>\n  </tbody>\n</table>\n</div>"
     },
     "metadata": {},
     "execution_count": 64
    }
   ],
   "source": [
    "predictions"
   ]
  },
  {
   "cell_type": "code",
   "execution_count": null,
   "metadata": {},
   "outputs": [],
   "source": []
  }
 ]
}
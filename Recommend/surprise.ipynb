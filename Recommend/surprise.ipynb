{
 "metadata": {
  "language_info": {
   "codemirror_mode": {
    "name": "ipython",
    "version": 3
   },
   "file_extension": ".py",
   "mimetype": "text/x-python",
   "name": "python",
   "nbconvert_exporter": "python",
   "pygments_lexer": "ipython3",
   "version": "3.7.6-final"
  },
  "orig_nbformat": 2,
  "kernelspec": {
   "name": "python36864bitcc30d91a1dad45e4b3c775dc11df627a",
   "display_name": "Python 3.6.8 64-bit",
   "language": "python"
  }
 },
 "nbformat": 4,
 "nbformat_minor": 2,
 "cells": [
  {
   "cell_type": "code",
   "execution_count": 1,
   "metadata": {},
   "outputs": [],
   "source": [
    "from surprise import SVD, Dataset, Reader, SVDpp\n",
    "from surprise.model_selection import train_test_split, GridSearchCV, cross_validate, KFold\n",
    "from surprise import accuracy\n",
    "from surprise import dump\n",
    "import numpy as np\n",
    "import pandas as pd\n",
    "import csv"
   ]
  },
  {
   "cell_type": "code",
   "execution_count": 2,
   "metadata": {},
   "outputs": [],
   "source": [
    "my_seed = 12345\n",
    "np.random.seed(my_seed)"
   ]
  },
  {
   "cell_type": "code",
   "execution_count": 3,
   "metadata": {},
   "outputs": [],
   "source": [
    "origin_data = pd.read_csv('../Data/final_rating_not_spare.csv', usecols=['customer_id', 'product_id', 'stars'])\n",
    "# origin_data.to_csv('../Data/final_rating_not_spare_format.csv', index=False)"
   ]
  },
  {
   "cell_type": "code",
   "execution_count": 4,
   "metadata": {},
   "outputs": [
    {
     "output_type": "stream",
     "name": "stdout",
     "text": [
      "<class 'pandas.core.frame.DataFrame'>\nRangeIndex: 20849 entries, 0 to 20848\nData columns (total 3 columns):\n #   Column       Non-Null Count  Dtype\n---  ------       --------------  -----\n 0   product_id   20849 non-null  int64\n 1   customer_id  20849 non-null  int64\n 2   stars        20849 non-null  int64\ndtypes: int64(3)\nmemory usage: 488.8 KB\n"
     ]
    }
   ],
   "source": [
    "origin_data.info()"
   ]
  },
  {
   "cell_type": "code",
   "execution_count": 5,
   "metadata": {},
   "outputs": [],
   "source": [
    "file_path = '../Data/final_rating_not_spare_format.csv'\n",
    "reader = Reader(line_format='user item rating', sep=',', rating_scale = (1,5), skip_lines=1)\n",
    "\n",
    "data = Dataset.load_from_file(file_path, reader=reader)"
   ]
  },
  {
   "cell_type": "code",
   "execution_count": 6,
   "metadata": {},
   "outputs": [
    {
     "output_type": "stream",
     "name": "stdout",
     "text": [
      "Number of users:  4899 \n\nNumber of items:  1382 \n\n"
     ]
    }
   ],
   "source": [
    "trainset, testset = train_test_split(data, test_size=0.2)\n",
    "print('Number of users: ', trainset.n_users, '\\n')\n",
    "print('Number of items: ', trainset.n_items, '\\n')"
   ]
  },
  {
   "cell_type": "code",
   "execution_count": 7,
   "metadata": {},
   "outputs": [],
   "source": [
    "trainset_iids = list(trainset.all_items())\n",
    "iid_converter = lambda x: trainset.to_raw_iid(x)\n",
    "trainset_raw_iids = list(map(iid_converter, trainset_iids))"
   ]
  },
  {
   "cell_type": "code",
   "execution_count": 8,
   "metadata": {},
   "outputs": [
    {
     "output_type": "stream",
     "name": "stdout",
     "text": [
      "Number of users:  5289 \n\nNumber of items:  1382 \n\n"
     ]
    }
   ],
   "source": [
    "trainsetfull = data.build_full_trainset()\n",
    "print('Number of users: ', trainsetfull.n_users, '\\n')\n",
    "print('Number of items: ', trainsetfull.n_items, '\\n')"
   ]
  },
  {
   "cell_type": "code",
   "execution_count": 9,
   "metadata": {},
   "outputs": [],
   "source": [
    "# name_converter = NameConverter('games_master_list.csv')\n"
   ]
  },
  {
   "cell_type": "code",
   "execution_count": 10,
   "metadata": {},
   "outputs": [
    {
     "output_type": "stream",
     "name": "stderr",
     "text": [
      "[Parallel(n_jobs=-1)]: Using backend LokyBackend with 4 concurrent workers.\n",
      "[Parallel(n_jobs=-1)]: Done  10 tasks      | elapsed:    8.8s\n",
      "[Parallel(n_jobs=-1)]: Done  64 tasks      | elapsed:   41.3s\n",
      "[Parallel(n_jobs=-1)]: Done 154 tasks      | elapsed:  1.7min\n",
      "[Parallel(n_jobs=-1)]: Done 180 out of 180 | elapsed:  2.2min finished\n"
     ]
    }
   ],
   "source": [
    "param_grid_2 = {'n_factors':[5, 10,20],'n_epochs': [5, 10, 20], 'lr_all': [0.002, 0.005],\n",
    "              'reg_all': [0.4, 0.6]}\n",
    "\n",
    "gs_model_2 = GridSearchCV(SVD,param_grid=param_grid_2, n_jobs = -1, joblib_verbose=5)\n",
    "gs_model_2.fit(data)"
   ]
  },
  {
   "cell_type": "code",
   "execution_count": 11,
   "metadata": {},
   "outputs": [
    {
     "output_type": "execute_result",
     "data": {
      "text/plain": [
       "{'rmse': {'n_factors': 5, 'n_epochs': 20, 'lr_all': 0.005, 'reg_all': 0.4},\n",
       " 'mae': {'n_factors': 5, 'n_epochs': 20, 'lr_all': 0.005, 'reg_all': 0.4}}"
      ]
     },
     "metadata": {},
     "execution_count": 11
    }
   ],
   "source": [
    "gs_model_2.best_params"
   ]
  },
  {
   "cell_type": "code",
   "execution_count": 12,
   "metadata": {},
   "outputs": [
    {
     "output_type": "stream",
     "name": "stdout",
     "text": [
      "RMSE: 0.5694\n0.5693537623338409\nMAE:  0.3403\n0.3403169960157169\nFCP:  0.6259\n0.6259430244341853\n"
     ]
    }
   ],
   "source": [
    "svd2 = SVD(n_factors=20, n_epochs=20, lr_all=0.005, reg_all=0.6)\n",
    "svd2.fit(trainset)\n",
    "predictions = svd2.test(testset)\n",
    "print(accuracy.rmse(predictions))\n",
    "print(accuracy.mae(predictions))\n",
    "print(accuracy.fcp(predictions))"
   ]
  },
  {
   "cell_type": "code",
   "execution_count": 20,
   "metadata": {},
   "outputs": [
    {
     "output_type": "stream",
     "name": "stderr",
     "text": [
      "[Parallel(n_jobs=-1)]: Using backend LokyBackend with 4 concurrent workers.\n",
      "[Parallel(n_jobs=-1)]: Done  10 tasks      | elapsed:    8.3s\n",
      "[Parallel(n_jobs=-1)]: Done  45 out of  45 | elapsed:   33.0s finished\n"
     ]
    }
   ],
   "source": [
    "param_grid_3 = {'n_factors':[20],'n_epochs': [20], 'lr_all': [0.004, 0.005, 0.006],\n",
    "              'reg_all': [0.5, 0.6, 0.7]}\n",
    "\n",
    "gs_model_3 = GridSearchCV(SVD,param_grid=param_grid_3,n_jobs = -1,joblib_verbose=5)\n",
    "gs_model_3.fit(data)"
   ]
  },
  {
   "cell_type": "code",
   "execution_count": 21,
   "metadata": {},
   "outputs": [
    {
     "output_type": "execute_result",
     "data": {
      "text/plain": [
       "{'rmse': {'n_factors': 20, 'n_epochs': 20, 'lr_all': 0.006, 'reg_all': 0.5},\n",
       " 'mae': {'n_factors': 20, 'n_epochs': 20, 'lr_all': 0.006, 'reg_all': 0.5}}"
      ]
     },
     "metadata": {},
     "execution_count": 21
    }
   ],
   "source": [
    "gs_model_3.best_params"
   ]
  },
  {
   "cell_type": "code",
   "execution_count": 22,
   "metadata": {},
   "outputs": [
    {
     "output_type": "stream",
     "name": "stderr",
     "text": [
      "[Parallel(n_jobs=-1)]: Using backend LokyBackend with 4 concurrent workers.\n",
      "[Parallel(n_jobs=-1)]: Done  10 tasks      | elapsed:    8.3s\n",
      "[Parallel(n_jobs=-1)]: Done  64 tasks      | elapsed:   46.6s\n",
      "[Parallel(n_jobs=-1)]: Done  90 out of  90 | elapsed:  1.1min finished\n"
     ]
    }
   ],
   "source": [
    "param_grid_4 = {'n_factors':[20, 30],'n_epochs': [20], 'lr_all': [0.006, 0.01, 0.015],\n",
    "              'reg_all': [0.7, 1, 1.5]}\n",
    "\n",
    "gs_model_4 = GridSearchCV(SVD,param_grid=param_grid_4,n_jobs = -1,joblib_verbose=5)\n",
    "gs_model_4.fit(data)"
   ]
  },
  {
   "source": [
    "gs_model_4.best_params"
   ],
   "cell_type": "code",
   "metadata": {},
   "execution_count": 23,
   "outputs": [
    {
     "output_type": "execute_result",
     "data": {
      "text/plain": [
       "{'rmse': {'n_factors': 20, 'n_epochs': 20, 'lr_all': 0.01, 'reg_all': 0.7},\n",
       " 'mae': {'n_factors': 20, 'n_epochs': 20, 'lr_all': 0.015, 'reg_all': 0.7}}"
      ]
     },
     "metadata": {},
     "execution_count": 23
    }
   ]
  },
  {
   "cell_type": "code",
   "execution_count": 24,
   "metadata": {},
   "outputs": [
    {
     "output_type": "execute_result",
     "data": {
      "text/plain": [
       "{'rmse': 0.5765428841633911, 'mae': 0.3339240321196649}"
      ]
     },
     "metadata": {},
     "execution_count": 24
    }
   ],
   "source": [
    "gs_model_4.best_score"
   ]
  },
  {
   "cell_type": "code",
   "execution_count": 25,
   "metadata": {},
   "outputs": [
    {
     "output_type": "stream",
     "name": "stderr",
     "text": [
      "[Parallel(n_jobs=-1)]: Using backend LokyBackend with 4 concurrent workers.\n",
      "[Parallel(n_jobs=-1)]: Done  12 out of  15 | elapsed:   10.7s remaining:    2.6s\n",
      "[Parallel(n_jobs=-1)]: Done  15 out of  15 | elapsed:   12.8s finished\n"
     ]
    }
   ],
   "source": [
    "param_grid_5 = {'n_factors':[30, 40, 50],'n_epochs': [20], 'lr_all': [0.006],\n",
    "              'reg_all': [0.7]}\n",
    "\n",
    "gs_model_5 = GridSearchCV(SVD,param_grid=param_grid_5,n_jobs = -1,joblib_verbose=5)\n",
    "gs_model_5.fit(data)"
   ]
  },
  {
   "cell_type": "code",
   "execution_count": 26,
   "metadata": {},
   "outputs": [
    {
     "output_type": "execute_result",
     "data": {
      "text/plain": [
       "{'rmse': {'n_factors': 30, 'n_epochs': 20, 'lr_all': 0.006, 'reg_all': 0.7},\n",
       " 'mae': {'n_factors': 30, 'n_epochs': 20, 'lr_all': 0.006, 'reg_all': 0.7}}"
      ]
     },
     "metadata": {},
     "execution_count": 26
    }
   ],
   "source": [
    "gs_model_5.best_params\n"
   ]
  },
  {
   "cell_type": "code",
   "execution_count": 27,
   "metadata": {},
   "outputs": [
    {
     "output_type": "execute_result",
     "data": {
      "text/plain": [
       "{'rmse': 0.5780421317058986, 'mae': 0.342319049898542}"
      ]
     },
     "metadata": {},
     "execution_count": 27
    }
   ],
   "source": [
    "gs_model_5.best_score\n"
   ]
  },
  {
   "cell_type": "code",
   "execution_count": 28,
   "metadata": {},
   "outputs": [
    {
     "output_type": "stream",
     "name": "stdout",
     "text": [
      "RMSE: 0.5711\n"
     ]
    },
    {
     "output_type": "execute_result",
     "data": {
      "text/plain": [
       "0.5710864674663195"
      ]
     },
     "metadata": {},
     "execution_count": 28
    }
   ],
   "source": [
    "chosen_SVD = SVD(n_factors= 50, n_epochs=20, lr_all=0.006, reg_all=0.7)\n",
    "chosen_SVD.fit(trainset)\n",
    "predictions = chosen_SVD.test(testset)\n",
    "accuracy.rmse(predictions)"
   ]
  },
  {
   "source": [
    "# SVD++"
   ],
   "cell_type": "markdown",
   "metadata": {}
  },
  {
   "cell_type": "code",
   "execution_count": 29,
   "metadata": {},
   "outputs": [
    {
     "output_type": "stream",
     "name": "stdout",
     "text": [
      "RMSE: 0.5531\n"
     ]
    },
    {
     "output_type": "execute_result",
     "data": {
      "text/plain": [
       "0.5531276180981511"
      ]
     },
     "metadata": {},
     "execution_count": 29
    }
   ],
   "source": [
    "chosen_SVDpp = SVDpp()\n",
    "chosen_SVDpp.fit(trainset)\n",
    "predictions = chosen_SVDpp.test(testset)\n",
    "accuracy.rmse(predictions)"
   ]
  },
  {
   "cell_type": "code",
   "execution_count": 30,
   "metadata": {},
   "outputs": [
    {
     "output_type": "stream",
     "name": "stderr",
     "text": [
      "[Parallel(n_jobs=-1)]: Using backend LokyBackend with 4 concurrent workers.\n",
      "[Parallel(n_jobs=-1)]: Done  10 tasks      | elapsed:   34.7s\n",
      "[Parallel(n_jobs=-1)]: Done  40 out of  40 | elapsed:  1.8min finished\n"
     ]
    }
   ],
   "source": [
    "param_grid_6 = {'n_factors':[20, 30],'n_epochs': [20], 'lr_all': [0.006, 0.01],\n",
    "              'reg_all': [0.7, 1]}\n",
    "\n",
    "gs_model_6 = GridSearchCV(SVDpp,param_grid=param_grid_6,n_jobs = -1,joblib_verbose=5)\n",
    "gs_model_6.fit(data)"
   ]
  },
  {
   "cell_type": "code",
   "execution_count": 32,
   "metadata": {},
   "outputs": [],
   "source": [
    "from surprise import SlopeOne, CoClustering"
   ]
  },
  {
   "cell_type": "code",
   "execution_count": 33,
   "metadata": {},
   "outputs": [
    {
     "output_type": "execute_result",
     "data": {
      "text/plain": [
       "{'test_rmse': array([0.73615277, 0.73930098, 0.68511364, 0.69052932, 0.68721024]),\n",
       " 'train_rmse': array([0.11356827, 0.11360312, 0.11480163, 0.11959884, 0.11434316]),\n",
       " 'fit_time': (0.14502644538879395,\n",
       "  0.1779944896697998,\n",
       "  0.1709897518157959,\n",
       "  0.19899797439575195,\n",
       "  0.17699718475341797),\n",
       " 'test_time': (0.06597113609313965,\n",
       "  0.47200536727905273,\n",
       "  0.07200241088867188,\n",
       "  0.09300088882446289,\n",
       "  0.08100724220275879)}"
      ]
     },
     "metadata": {},
     "execution_count": 33
    }
   ],
   "source": [
    "algo = SlopeOne()\n",
    "results = cross_validate(algo, data, measures = ['RMSE'], return_train_measures=True)\n",
    "results"
   ]
  },
  {
   "cell_type": "code",
   "execution_count": 34,
   "metadata": {},
   "outputs": [
    {
     "output_type": "execute_result",
     "data": {
      "text/plain": [
       "{'test_rmse': array([0.73615277, 0.73930098, 0.68511364, 0.69052932, 0.68721024]),\n",
       " 'train_rmse': array([0.11356827, 0.11360312, 0.11480163, 0.11959884, 0.11434316]),\n",
       " 'fit_time': (0.14502644538879395,\n",
       "  0.1779944896697998,\n",
       "  0.1709897518157959,\n",
       "  0.19899797439575195,\n",
       "  0.17699718475341797),\n",
       " 'test_time': (0.06597113609313965,\n",
       "  0.47200536727905273,\n",
       "  0.07200241088867188,\n",
       "  0.09300088882446289,\n",
       "  0.08100724220275879)}"
      ]
     },
     "metadata": {},
     "execution_count": 34
    }
   ],
   "source": [
    "results\n"
   ]
  },
  {
   "cell_type": "code",
   "execution_count": 35,
   "metadata": {},
   "outputs": [
    {
     "output_type": "stream",
     "name": "stdout",
     "text": [
      "RMSE: 0.7094\n"
     ]
    },
    {
     "output_type": "execute_result",
     "data": {
      "text/plain": [
       "0.7094171780294541"
      ]
     },
     "metadata": {},
     "execution_count": 35
    }
   ],
   "source": [
    "slopeone = SlopeOne()\n",
    "slopeone.fit(trainset)\n",
    "predictions = slopeone.test(testset)\n",
    "accuracy.rmse(predictions)"
   ]
  },
  {
   "cell_type": "code",
   "execution_count": 36,
   "metadata": {},
   "outputs": [
    {
     "output_type": "stream",
     "name": "stdout",
     "text": [
      "RMSE: 0.6669\n"
     ]
    },
    {
     "output_type": "execute_result",
     "data": {
      "text/plain": [
       "0.6669497462688944"
      ]
     },
     "metadata": {},
     "execution_count": 36
    }
   ],
   "source": [
    "algo = CoClustering(n_cltr_u = 3, n_cltr_i = 3)\n",
    "algo.fit(trainset)\n",
    "predictions = algo.test(testset)\n",
    "accuracy.rmse(predictions)"
   ]
  },
  {
   "cell_type": "code",
   "execution_count": 37,
   "metadata": {},
   "outputs": [
    {
     "output_type": "stream",
     "name": "stdout",
     "text": [
      "RMSE: 0.6944\n"
     ]
    },
    {
     "output_type": "execute_result",
     "data": {
      "text/plain": [
       "0.6944212650927531"
      ]
     },
     "metadata": {},
     "execution_count": 37
    }
   ],
   "source": [
    "algo = CoClustering(n_cltr_u = 5, n_cltr_i = 5)\n",
    "algo.fit(trainset)\n",
    "predictions = algo.test(testset)\n",
    "accuracy.rmse(predictions)"
   ]
  }
 ]
}
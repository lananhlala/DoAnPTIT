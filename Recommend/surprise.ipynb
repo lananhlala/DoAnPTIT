{
 "metadata": {
  "language_info": {
   "codemirror_mode": {
    "name": "ipython",
    "version": 3
   },
   "file_extension": ".py",
   "mimetype": "text/x-python",
   "name": "python",
   "nbconvert_exporter": "python",
   "pygments_lexer": "ipython3",
   "version": "3.7.6-final"
  },
  "orig_nbformat": 2,
  "kernelspec": {
   "name": "python36864bitcc30d91a1dad45e4b3c775dc11df627a",
   "display_name": "Python 3.6.8 64-bit",
   "language": "python"
  }
 },
 "nbformat": 4,
 "nbformat_minor": 2,
 "cells": [
  {
   "source": [
    "# 1. Import các thư viện hỗ trợ lập trình"
   ],
   "cell_type": "markdown",
   "metadata": {}
  },
  {
   "cell_type": "code",
   "execution_count": 1,
   "metadata": {},
   "outputs": [],
   "source": [
    "from surprise import SVD, Dataset, Reader, SVDpp, NMF, NormalPredictor, KNNBasic\n",
    "from surprise.model_selection import train_test_split, GridSearchCV, cross_validate, KFold\n",
    "from collections import defaultdict\n",
    "from surprise import accuracy\n",
    "from surprise import dump\n",
    "import numpy as np\n",
    "import pandas as pd\n",
    "import csv"
   ]
  },
  {
   "source": [
    "# 2. Load data and EDA"
   ],
   "cell_type": "markdown",
   "metadata": {}
  },
  {
   "cell_type": "code",
   "execution_count": 2,
   "metadata": {},
   "outputs": [],
   "source": [
    "origin_data = pd.read_csv('../Data/final_rating_not_spare.csv', usecols=['customer_id', 'product_id', 'stars'])"
   ]
  },
  {
   "cell_type": "code",
   "execution_count": 3,
   "metadata": {},
   "outputs": [
    {
     "output_type": "stream",
     "name": "stdout",
     "text": [
      "<class 'pandas.core.frame.DataFrame'>\nRangeIndex: 20849 entries, 0 to 20848\nData columns (total 3 columns):\n #   Column       Non-Null Count  Dtype\n---  ------       --------------  -----\n 0   product_id   20849 non-null  int64\n 1   customer_id  20849 non-null  int64\n 2   stars        20849 non-null  int64\ndtypes: int64(3)\nmemory usage: 488.8 KB\n"
     ]
    }
   ],
   "source": [
    "origin_data.info()"
   ]
  },
  {
   "source": [
    "origin_data.head()"
   ],
   "cell_type": "code",
   "metadata": {},
   "execution_count": 4,
   "outputs": [
    {
     "output_type": "execute_result",
     "data": {
      "text/plain": [
       "   product_id  customer_id  stars\n",
       "0        9672        53270      5\n",
       "1        9672        91213      4\n",
       "2        3038        56289      5\n",
       "3        3038        88524      5\n",
       "4        3038        72126      5"
      ],
      "text/html": "<div>\n<style scoped>\n    .dataframe tbody tr th:only-of-type {\n        vertical-align: middle;\n    }\n\n    .dataframe tbody tr th {\n        vertical-align: top;\n    }\n\n    .dataframe thead th {\n        text-align: right;\n    }\n</style>\n<table border=\"1\" class=\"dataframe\">\n  <thead>\n    <tr style=\"text-align: right;\">\n      <th></th>\n      <th>product_id</th>\n      <th>customer_id</th>\n      <th>stars</th>\n    </tr>\n  </thead>\n  <tbody>\n    <tr>\n      <th>0</th>\n      <td>9672</td>\n      <td>53270</td>\n      <td>5</td>\n    </tr>\n    <tr>\n      <th>1</th>\n      <td>9672</td>\n      <td>91213</td>\n      <td>4</td>\n    </tr>\n    <tr>\n      <th>2</th>\n      <td>3038</td>\n      <td>56289</td>\n      <td>5</td>\n    </tr>\n    <tr>\n      <th>3</th>\n      <td>3038</td>\n      <td>88524</td>\n      <td>5</td>\n    </tr>\n    <tr>\n      <th>4</th>\n      <td>3038</td>\n      <td>72126</td>\n      <td>5</td>\n    </tr>\n  </tbody>\n</table>\n</div>"
     },
     "metadata": {},
     "execution_count": 4
    }
   ]
  },
  {
   "source": [
    "### ! Surprise library format data theo các cột: User, Item, Rating. Do đó, sử dụng file format"
   ],
   "cell_type": "markdown",
   "metadata": {}
  },
  {
   "cell_type": "code",
   "execution_count": 5,
   "metadata": {},
   "outputs": [],
   "source": [
    "all_rating = pd.read_csv('../Data/all_rating.csv')"
   ]
  },
  {
   "cell_type": "code",
   "execution_count": 6,
   "metadata": {},
   "outputs": [
    {
     "output_type": "execute_result",
     "data": {
      "text/plain": [
       "   item   user  rating\n",
       "0  9672  53270       5\n",
       "1  9672  91213       4\n",
       "2  3038  56289       5\n",
       "3  3038  88524       5\n",
       "4  3038  72126       5"
      ],
      "text/html": "<div>\n<style scoped>\n    .dataframe tbody tr th:only-of-type {\n        vertical-align: middle;\n    }\n\n    .dataframe tbody tr th {\n        vertical-align: top;\n    }\n\n    .dataframe thead th {\n        text-align: right;\n    }\n</style>\n<table border=\"1\" class=\"dataframe\">\n  <thead>\n    <tr style=\"text-align: right;\">\n      <th></th>\n      <th>item</th>\n      <th>user</th>\n      <th>rating</th>\n    </tr>\n  </thead>\n  <tbody>\n    <tr>\n      <th>0</th>\n      <td>9672</td>\n      <td>53270</td>\n      <td>5</td>\n    </tr>\n    <tr>\n      <th>1</th>\n      <td>9672</td>\n      <td>91213</td>\n      <td>4</td>\n    </tr>\n    <tr>\n      <th>2</th>\n      <td>3038</td>\n      <td>56289</td>\n      <td>5</td>\n    </tr>\n    <tr>\n      <th>3</th>\n      <td>3038</td>\n      <td>88524</td>\n      <td>5</td>\n    </tr>\n    <tr>\n      <th>4</th>\n      <td>3038</td>\n      <td>72126</td>\n      <td>5</td>\n    </tr>\n  </tbody>\n</table>\n</div>"
     },
     "metadata": {},
     "execution_count": 6
    }
   ],
   "source": [
    "format_data = pd.read_csv('../Data/final_rating_not_spare_format.csv')\n",
    "format_data.head()"
   ]
  },
  {
   "source": [
    "### EDA phân bố đánh giá"
   ],
   "cell_type": "markdown",
   "metadata": {}
  },
  {
   "cell_type": "code",
   "execution_count": 7,
   "metadata": {},
   "outputs": [
    {
     "output_type": "display_data",
     "data": {
      "text/html": "        <script type=\"text/javascript\">\n        window.PlotlyConfig = {MathJaxConfig: 'local'};\n        if (window.MathJax) {MathJax.Hub.Config({SVG: {font: \"STIX-Web\"}});}\n        if (typeof require !== 'undefined') {\n        require.undef(\"plotly\");\n        requirejs.config({\n            paths: {\n                'plotly': ['https://cdn.plot.ly/plotly-latest.min']\n            }\n        });\n        require(['plotly'], function(Plotly) {\n            window._Plotly = Plotly;\n        });\n        }\n        </script>\n        "
     },
     "metadata": {}
    },
    {
     "output_type": "display_data",
     "data": {
      "application/vnd.plotly.v1+json": {
       "config": {
        "linkText": "Export to plot.ly",
        "plotlyServerURL": "https://plot.ly",
        "showLink": false
       },
       "data": [
        {
         "text": [
          "82.3 %",
          "12.0 %",
          "3.7 %",
          "0.9 %",
          "1.0 %"
         ],
         "textfont": {
          "color": "#000000"
         },
         "textposition": "auto",
         "type": "bar",
         "x": [
          5,
          4,
          3,
          2,
          1
         ],
         "y": [
          17160,
          2505,
          774,
          197,
          213
         ]
        }
       ],
       "layout": {
        "template": {
         "data": {
          "bar": [
           {
            "error_x": {
             "color": "#2a3f5f"
            },
            "error_y": {
             "color": "#2a3f5f"
            },
            "marker": {
             "line": {
              "color": "#E5ECF6",
              "width": 0.5
             }
            },
            "type": "bar"
           }
          ],
          "barpolar": [
           {
            "marker": {
             "line": {
              "color": "#E5ECF6",
              "width": 0.5
             }
            },
            "type": "barpolar"
           }
          ],
          "carpet": [
           {
            "aaxis": {
             "endlinecolor": "#2a3f5f",
             "gridcolor": "white",
             "linecolor": "white",
             "minorgridcolor": "white",
             "startlinecolor": "#2a3f5f"
            },
            "baxis": {
             "endlinecolor": "#2a3f5f",
             "gridcolor": "white",
             "linecolor": "white",
             "minorgridcolor": "white",
             "startlinecolor": "#2a3f5f"
            },
            "type": "carpet"
           }
          ],
          "choropleth": [
           {
            "colorbar": {
             "outlinewidth": 0,
             "ticks": ""
            },
            "type": "choropleth"
           }
          ],
          "contour": [
           {
            "colorbar": {
             "outlinewidth": 0,
             "ticks": ""
            },
            "colorscale": [
             [
              0,
              "#0d0887"
             ],
             [
              0.1111111111111111,
              "#46039f"
             ],
             [
              0.2222222222222222,
              "#7201a8"
             ],
             [
              0.3333333333333333,
              "#9c179e"
             ],
             [
              0.4444444444444444,
              "#bd3786"
             ],
             [
              0.5555555555555556,
              "#d8576b"
             ],
             [
              0.6666666666666666,
              "#ed7953"
             ],
             [
              0.7777777777777778,
              "#fb9f3a"
             ],
             [
              0.8888888888888888,
              "#fdca26"
             ],
             [
              1,
              "#f0f921"
             ]
            ],
            "type": "contour"
           }
          ],
          "contourcarpet": [
           {
            "colorbar": {
             "outlinewidth": 0,
             "ticks": ""
            },
            "type": "contourcarpet"
           }
          ],
          "heatmap": [
           {
            "colorbar": {
             "outlinewidth": 0,
             "ticks": ""
            },
            "colorscale": [
             [
              0,
              "#0d0887"
             ],
             [
              0.1111111111111111,
              "#46039f"
             ],
             [
              0.2222222222222222,
              "#7201a8"
             ],
             [
              0.3333333333333333,
              "#9c179e"
             ],
             [
              0.4444444444444444,
              "#bd3786"
             ],
             [
              0.5555555555555556,
              "#d8576b"
             ],
             [
              0.6666666666666666,
              "#ed7953"
             ],
             [
              0.7777777777777778,
              "#fb9f3a"
             ],
             [
              0.8888888888888888,
              "#fdca26"
             ],
             [
              1,
              "#f0f921"
             ]
            ],
            "type": "heatmap"
           }
          ],
          "heatmapgl": [
           {
            "colorbar": {
             "outlinewidth": 0,
             "ticks": ""
            },
            "colorscale": [
             [
              0,
              "#0d0887"
             ],
             [
              0.1111111111111111,
              "#46039f"
             ],
             [
              0.2222222222222222,
              "#7201a8"
             ],
             [
              0.3333333333333333,
              "#9c179e"
             ],
             [
              0.4444444444444444,
              "#bd3786"
             ],
             [
              0.5555555555555556,
              "#d8576b"
             ],
             [
              0.6666666666666666,
              "#ed7953"
             ],
             [
              0.7777777777777778,
              "#fb9f3a"
             ],
             [
              0.8888888888888888,
              "#fdca26"
             ],
             [
              1,
              "#f0f921"
             ]
            ],
            "type": "heatmapgl"
           }
          ],
          "histogram": [
           {
            "marker": {
             "colorbar": {
              "outlinewidth": 0,
              "ticks": ""
             }
            },
            "type": "histogram"
           }
          ],
          "histogram2d": [
           {
            "colorbar": {
             "outlinewidth": 0,
             "ticks": ""
            },
            "colorscale": [
             [
              0,
              "#0d0887"
             ],
             [
              0.1111111111111111,
              "#46039f"
             ],
             [
              0.2222222222222222,
              "#7201a8"
             ],
             [
              0.3333333333333333,
              "#9c179e"
             ],
             [
              0.4444444444444444,
              "#bd3786"
             ],
             [
              0.5555555555555556,
              "#d8576b"
             ],
             [
              0.6666666666666666,
              "#ed7953"
             ],
             [
              0.7777777777777778,
              "#fb9f3a"
             ],
             [
              0.8888888888888888,
              "#fdca26"
             ],
             [
              1,
              "#f0f921"
             ]
            ],
            "type": "histogram2d"
           }
          ],
          "histogram2dcontour": [
           {
            "colorbar": {
             "outlinewidth": 0,
             "ticks": ""
            },
            "colorscale": [
             [
              0,
              "#0d0887"
             ],
             [
              0.1111111111111111,
              "#46039f"
             ],
             [
              0.2222222222222222,
              "#7201a8"
             ],
             [
              0.3333333333333333,
              "#9c179e"
             ],
             [
              0.4444444444444444,
              "#bd3786"
             ],
             [
              0.5555555555555556,
              "#d8576b"
             ],
             [
              0.6666666666666666,
              "#ed7953"
             ],
             [
              0.7777777777777778,
              "#fb9f3a"
             ],
             [
              0.8888888888888888,
              "#fdca26"
             ],
             [
              1,
              "#f0f921"
             ]
            ],
            "type": "histogram2dcontour"
           }
          ],
          "mesh3d": [
           {
            "colorbar": {
             "outlinewidth": 0,
             "ticks": ""
            },
            "type": "mesh3d"
           }
          ],
          "parcoords": [
           {
            "line": {
             "colorbar": {
              "outlinewidth": 0,
              "ticks": ""
             }
            },
            "type": "parcoords"
           }
          ],
          "pie": [
           {
            "automargin": true,
            "type": "pie"
           }
          ],
          "scatter": [
           {
            "marker": {
             "colorbar": {
              "outlinewidth": 0,
              "ticks": ""
             }
            },
            "type": "scatter"
           }
          ],
          "scatter3d": [
           {
            "line": {
             "colorbar": {
              "outlinewidth": 0,
              "ticks": ""
             }
            },
            "marker": {
             "colorbar": {
              "outlinewidth": 0,
              "ticks": ""
             }
            },
            "type": "scatter3d"
           }
          ],
          "scattercarpet": [
           {
            "marker": {
             "colorbar": {
              "outlinewidth": 0,
              "ticks": ""
             }
            },
            "type": "scattercarpet"
           }
          ],
          "scattergeo": [
           {
            "marker": {
             "colorbar": {
              "outlinewidth": 0,
              "ticks": ""
             }
            },
            "type": "scattergeo"
           }
          ],
          "scattergl": [
           {
            "marker": {
             "colorbar": {
              "outlinewidth": 0,
              "ticks": ""
             }
            },
            "type": "scattergl"
           }
          ],
          "scattermapbox": [
           {
            "marker": {
             "colorbar": {
              "outlinewidth": 0,
              "ticks": ""
             }
            },
            "type": "scattermapbox"
           }
          ],
          "scatterpolar": [
           {
            "marker": {
             "colorbar": {
              "outlinewidth": 0,
              "ticks": ""
             }
            },
            "type": "scatterpolar"
           }
          ],
          "scatterpolargl": [
           {
            "marker": {
             "colorbar": {
              "outlinewidth": 0,
              "ticks": ""
             }
            },
            "type": "scatterpolargl"
           }
          ],
          "scatterternary": [
           {
            "marker": {
             "colorbar": {
              "outlinewidth": 0,
              "ticks": ""
             }
            },
            "type": "scatterternary"
           }
          ],
          "surface": [
           {
            "colorbar": {
             "outlinewidth": 0,
             "ticks": ""
            },
            "colorscale": [
             [
              0,
              "#0d0887"
             ],
             [
              0.1111111111111111,
              "#46039f"
             ],
             [
              0.2222222222222222,
              "#7201a8"
             ],
             [
              0.3333333333333333,
              "#9c179e"
             ],
             [
              0.4444444444444444,
              "#bd3786"
             ],
             [
              0.5555555555555556,
              "#d8576b"
             ],
             [
              0.6666666666666666,
              "#ed7953"
             ],
             [
              0.7777777777777778,
              "#fb9f3a"
             ],
             [
              0.8888888888888888,
              "#fdca26"
             ],
             [
              1,
              "#f0f921"
             ]
            ],
            "type": "surface"
           }
          ],
          "table": [
           {
            "cells": {
             "fill": {
              "color": "#EBF0F8"
             },
             "line": {
              "color": "white"
             }
            },
            "header": {
             "fill": {
              "color": "#C8D4E3"
             },
             "line": {
              "color": "white"
             }
            },
            "type": "table"
           }
          ]
         },
         "layout": {
          "annotationdefaults": {
           "arrowcolor": "#2a3f5f",
           "arrowhead": 0,
           "arrowwidth": 1
          },
          "coloraxis": {
           "colorbar": {
            "outlinewidth": 0,
            "ticks": ""
           }
          },
          "colorscale": {
           "diverging": [
            [
             0,
             "#8e0152"
            ],
            [
             0.1,
             "#c51b7d"
            ],
            [
             0.2,
             "#de77ae"
            ],
            [
             0.3,
             "#f1b6da"
            ],
            [
             0.4,
             "#fde0ef"
            ],
            [
             0.5,
             "#f7f7f7"
            ],
            [
             0.6,
             "#e6f5d0"
            ],
            [
             0.7,
             "#b8e186"
            ],
            [
             0.8,
             "#7fbc41"
            ],
            [
             0.9,
             "#4d9221"
            ],
            [
             1,
             "#276419"
            ]
           ],
           "sequential": [
            [
             0,
             "#0d0887"
            ],
            [
             0.1111111111111111,
             "#46039f"
            ],
            [
             0.2222222222222222,
             "#7201a8"
            ],
            [
             0.3333333333333333,
             "#9c179e"
            ],
            [
             0.4444444444444444,
             "#bd3786"
            ],
            [
             0.5555555555555556,
             "#d8576b"
            ],
            [
             0.6666666666666666,
             "#ed7953"
            ],
            [
             0.7777777777777778,
             "#fb9f3a"
            ],
            [
             0.8888888888888888,
             "#fdca26"
            ],
            [
             1,
             "#f0f921"
            ]
           ],
           "sequentialminus": [
            [
             0,
             "#0d0887"
            ],
            [
             0.1111111111111111,
             "#46039f"
            ],
            [
             0.2222222222222222,
             "#7201a8"
            ],
            [
             0.3333333333333333,
             "#9c179e"
            ],
            [
             0.4444444444444444,
             "#bd3786"
            ],
            [
             0.5555555555555556,
             "#d8576b"
            ],
            [
             0.6666666666666666,
             "#ed7953"
            ],
            [
             0.7777777777777778,
             "#fb9f3a"
            ],
            [
             0.8888888888888888,
             "#fdca26"
            ],
            [
             1,
             "#f0f921"
            ]
           ]
          },
          "colorway": [
           "#636efa",
           "#EF553B",
           "#00cc96",
           "#ab63fa",
           "#FFA15A",
           "#19d3f3",
           "#FF6692",
           "#B6E880",
           "#FF97FF",
           "#FECB52"
          ],
          "font": {
           "color": "#2a3f5f"
          },
          "geo": {
           "bgcolor": "white",
           "lakecolor": "white",
           "landcolor": "#E5ECF6",
           "showlakes": true,
           "showland": true,
           "subunitcolor": "white"
          },
          "hoverlabel": {
           "align": "left"
          },
          "hovermode": "closest",
          "mapbox": {
           "style": "light"
          },
          "paper_bgcolor": "white",
          "plot_bgcolor": "#E5ECF6",
          "polar": {
           "angularaxis": {
            "gridcolor": "white",
            "linecolor": "white",
            "ticks": ""
           },
           "bgcolor": "#E5ECF6",
           "radialaxis": {
            "gridcolor": "white",
            "linecolor": "white",
            "ticks": ""
           }
          },
          "scene": {
           "xaxis": {
            "backgroundcolor": "#E5ECF6",
            "gridcolor": "white",
            "gridwidth": 2,
            "linecolor": "white",
            "showbackground": true,
            "ticks": "",
            "zerolinecolor": "white"
           },
           "yaxis": {
            "backgroundcolor": "#E5ECF6",
            "gridcolor": "white",
            "gridwidth": 2,
            "linecolor": "white",
            "showbackground": true,
            "ticks": "",
            "zerolinecolor": "white"
           },
           "zaxis": {
            "backgroundcolor": "#E5ECF6",
            "gridcolor": "white",
            "gridwidth": 2,
            "linecolor": "white",
            "showbackground": true,
            "ticks": "",
            "zerolinecolor": "white"
           }
          },
          "shapedefaults": {
           "line": {
            "color": "#2a3f5f"
           }
          },
          "ternary": {
           "aaxis": {
            "gridcolor": "white",
            "linecolor": "white",
            "ticks": ""
           },
           "baxis": {
            "gridcolor": "white",
            "linecolor": "white",
            "ticks": ""
           },
           "bgcolor": "#E5ECF6",
           "caxis": {
            "gridcolor": "white",
            "linecolor": "white",
            "ticks": ""
           }
          },
          "title": {
           "x": 0.05
          },
          "xaxis": {
           "automargin": true,
           "gridcolor": "white",
           "linecolor": "white",
           "ticks": "",
           "title": {
            "standoff": 15
           },
           "zerolinecolor": "white",
           "zerolinewidth": 2
          },
          "yaxis": {
           "automargin": true,
           "gridcolor": "white",
           "linecolor": "white",
           "ticks": "",
           "title": {
            "standoff": 15
           },
           "zerolinecolor": "white",
           "zerolinewidth": 2
          }
         }
        },
        "title": {
         "text": "Biểu đồ phân phối của 20849 ratings"
        },
        "xaxis": {
         "title": {
          "text": "Rating"
         }
        },
        "yaxis": {
         "title": {
          "text": "Số lượng"
         }
        }
       }
      },
      "text/html": "<div>\n        \n        \n            <div id=\"d006d9b6-3e7c-4dc5-af71-a84e77733b28\" class=\"plotly-graph-div\" style=\"height:525px; width:100%;\"></div>\n            <script type=\"text/javascript\">\n                require([\"plotly\"], function(Plotly) {\n                    window.PLOTLYENV=window.PLOTLYENV || {};\n                    \n                if (document.getElementById(\"d006d9b6-3e7c-4dc5-af71-a84e77733b28\")) {\n                    Plotly.newPlot(\n                        'd006d9b6-3e7c-4dc5-af71-a84e77733b28',\n                        [{\"text\": [\"82.3 %\", \"12.0 %\", \"3.7 %\", \"0.9 %\", \"1.0 %\"], \"textfont\": {\"color\": \"#000000\"}, \"textposition\": \"auto\", \"type\": \"bar\", \"x\": [5, 4, 3, 2, 1], \"y\": [17160, 2505, 774, 197, 213]}],\n                        {\"template\": {\"data\": {\"bar\": [{\"error_x\": {\"color\": \"#2a3f5f\"}, \"error_y\": {\"color\": \"#2a3f5f\"}, \"marker\": {\"line\": {\"color\": \"#E5ECF6\", \"width\": 0.5}}, \"type\": \"bar\"}], \"barpolar\": [{\"marker\": {\"line\": {\"color\": \"#E5ECF6\", \"width\": 0.5}}, \"type\": \"barpolar\"}], \"carpet\": [{\"aaxis\": {\"endlinecolor\": \"#2a3f5f\", \"gridcolor\": \"white\", \"linecolor\": \"white\", \"minorgridcolor\": \"white\", \"startlinecolor\": \"#2a3f5f\"}, \"baxis\": {\"endlinecolor\": \"#2a3f5f\", \"gridcolor\": \"white\", \"linecolor\": \"white\", \"minorgridcolor\": \"white\", \"startlinecolor\": \"#2a3f5f\"}, \"type\": \"carpet\"}], \"choropleth\": [{\"colorbar\": {\"outlinewidth\": 0, \"ticks\": \"\"}, \"type\": \"choropleth\"}], \"contour\": [{\"colorbar\": {\"outlinewidth\": 0, \"ticks\": \"\"}, \"colorscale\": [[0.0, \"#0d0887\"], [0.1111111111111111, \"#46039f\"], [0.2222222222222222, \"#7201a8\"], [0.3333333333333333, \"#9c179e\"], [0.4444444444444444, \"#bd3786\"], [0.5555555555555556, \"#d8576b\"], [0.6666666666666666, \"#ed7953\"], [0.7777777777777778, \"#fb9f3a\"], [0.8888888888888888, \"#fdca26\"], [1.0, \"#f0f921\"]], \"type\": \"contour\"}], \"contourcarpet\": [{\"colorbar\": {\"outlinewidth\": 0, \"ticks\": \"\"}, \"type\": \"contourcarpet\"}], \"heatmap\": [{\"colorbar\": {\"outlinewidth\": 0, \"ticks\": \"\"}, \"colorscale\": [[0.0, \"#0d0887\"], [0.1111111111111111, \"#46039f\"], [0.2222222222222222, \"#7201a8\"], [0.3333333333333333, \"#9c179e\"], [0.4444444444444444, \"#bd3786\"], [0.5555555555555556, \"#d8576b\"], [0.6666666666666666, \"#ed7953\"], [0.7777777777777778, \"#fb9f3a\"], [0.8888888888888888, \"#fdca26\"], [1.0, \"#f0f921\"]], \"type\": \"heatmap\"}], \"heatmapgl\": [{\"colorbar\": {\"outlinewidth\": 0, \"ticks\": \"\"}, \"colorscale\": [[0.0, \"#0d0887\"], [0.1111111111111111, \"#46039f\"], [0.2222222222222222, \"#7201a8\"], [0.3333333333333333, \"#9c179e\"], [0.4444444444444444, \"#bd3786\"], [0.5555555555555556, \"#d8576b\"], [0.6666666666666666, \"#ed7953\"], [0.7777777777777778, \"#fb9f3a\"], [0.8888888888888888, \"#fdca26\"], [1.0, \"#f0f921\"]], \"type\": \"heatmapgl\"}], \"histogram\": [{\"marker\": {\"colorbar\": {\"outlinewidth\": 0, \"ticks\": \"\"}}, \"type\": \"histogram\"}], \"histogram2d\": [{\"colorbar\": {\"outlinewidth\": 0, \"ticks\": \"\"}, \"colorscale\": [[0.0, \"#0d0887\"], [0.1111111111111111, \"#46039f\"], [0.2222222222222222, \"#7201a8\"], [0.3333333333333333, \"#9c179e\"], [0.4444444444444444, \"#bd3786\"], [0.5555555555555556, \"#d8576b\"], [0.6666666666666666, \"#ed7953\"], [0.7777777777777778, \"#fb9f3a\"], [0.8888888888888888, \"#fdca26\"], [1.0, \"#f0f921\"]], \"type\": \"histogram2d\"}], \"histogram2dcontour\": [{\"colorbar\": {\"outlinewidth\": 0, \"ticks\": \"\"}, \"colorscale\": [[0.0, \"#0d0887\"], [0.1111111111111111, \"#46039f\"], [0.2222222222222222, \"#7201a8\"], [0.3333333333333333, \"#9c179e\"], [0.4444444444444444, \"#bd3786\"], [0.5555555555555556, \"#d8576b\"], [0.6666666666666666, \"#ed7953\"], [0.7777777777777778, \"#fb9f3a\"], [0.8888888888888888, \"#fdca26\"], [1.0, \"#f0f921\"]], \"type\": \"histogram2dcontour\"}], \"mesh3d\": [{\"colorbar\": {\"outlinewidth\": 0, \"ticks\": \"\"}, \"type\": \"mesh3d\"}], \"parcoords\": [{\"line\": {\"colorbar\": {\"outlinewidth\": 0, \"ticks\": \"\"}}, \"type\": \"parcoords\"}], \"pie\": [{\"automargin\": true, \"type\": \"pie\"}], \"scatter\": [{\"marker\": {\"colorbar\": {\"outlinewidth\": 0, \"ticks\": \"\"}}, \"type\": \"scatter\"}], \"scatter3d\": [{\"line\": {\"colorbar\": {\"outlinewidth\": 0, \"ticks\": \"\"}}, \"marker\": {\"colorbar\": {\"outlinewidth\": 0, \"ticks\": \"\"}}, \"type\": \"scatter3d\"}], \"scattercarpet\": [{\"marker\": {\"colorbar\": {\"outlinewidth\": 0, \"ticks\": \"\"}}, \"type\": \"scattercarpet\"}], \"scattergeo\": [{\"marker\": {\"colorbar\": {\"outlinewidth\": 0, \"ticks\": \"\"}}, \"type\": \"scattergeo\"}], \"scattergl\": [{\"marker\": {\"colorbar\": {\"outlinewidth\": 0, \"ticks\": \"\"}}, \"type\": \"scattergl\"}], \"scattermapbox\": [{\"marker\": {\"colorbar\": {\"outlinewidth\": 0, \"ticks\": \"\"}}, \"type\": \"scattermapbox\"}], \"scatterpolar\": [{\"marker\": {\"colorbar\": {\"outlinewidth\": 0, \"ticks\": \"\"}}, \"type\": \"scatterpolar\"}], \"scatterpolargl\": [{\"marker\": {\"colorbar\": {\"outlinewidth\": 0, \"ticks\": \"\"}}, \"type\": \"scatterpolargl\"}], \"scatterternary\": [{\"marker\": {\"colorbar\": {\"outlinewidth\": 0, \"ticks\": \"\"}}, \"type\": \"scatterternary\"}], \"surface\": [{\"colorbar\": {\"outlinewidth\": 0, \"ticks\": \"\"}, \"colorscale\": [[0.0, \"#0d0887\"], [0.1111111111111111, \"#46039f\"], [0.2222222222222222, \"#7201a8\"], [0.3333333333333333, \"#9c179e\"], [0.4444444444444444, \"#bd3786\"], [0.5555555555555556, \"#d8576b\"], [0.6666666666666666, \"#ed7953\"], [0.7777777777777778, \"#fb9f3a\"], [0.8888888888888888, \"#fdca26\"], [1.0, \"#f0f921\"]], \"type\": \"surface\"}], \"table\": [{\"cells\": {\"fill\": {\"color\": \"#EBF0F8\"}, \"line\": {\"color\": \"white\"}}, \"header\": {\"fill\": {\"color\": \"#C8D4E3\"}, \"line\": {\"color\": \"white\"}}, \"type\": \"table\"}]}, \"layout\": {\"annotationdefaults\": {\"arrowcolor\": \"#2a3f5f\", \"arrowhead\": 0, \"arrowwidth\": 1}, \"coloraxis\": {\"colorbar\": {\"outlinewidth\": 0, \"ticks\": \"\"}}, \"colorscale\": {\"diverging\": [[0, \"#8e0152\"], [0.1, \"#c51b7d\"], [0.2, \"#de77ae\"], [0.3, \"#f1b6da\"], [0.4, \"#fde0ef\"], [0.5, \"#f7f7f7\"], [0.6, \"#e6f5d0\"], [0.7, \"#b8e186\"], [0.8, \"#7fbc41\"], [0.9, \"#4d9221\"], [1, \"#276419\"]], \"sequential\": [[0.0, \"#0d0887\"], [0.1111111111111111, \"#46039f\"], [0.2222222222222222, \"#7201a8\"], [0.3333333333333333, \"#9c179e\"], [0.4444444444444444, \"#bd3786\"], [0.5555555555555556, \"#d8576b\"], [0.6666666666666666, \"#ed7953\"], [0.7777777777777778, \"#fb9f3a\"], [0.8888888888888888, \"#fdca26\"], [1.0, \"#f0f921\"]], \"sequentialminus\": [[0.0, \"#0d0887\"], [0.1111111111111111, \"#46039f\"], [0.2222222222222222, \"#7201a8\"], [0.3333333333333333, \"#9c179e\"], [0.4444444444444444, \"#bd3786\"], [0.5555555555555556, \"#d8576b\"], [0.6666666666666666, \"#ed7953\"], [0.7777777777777778, \"#fb9f3a\"], [0.8888888888888888, \"#fdca26\"], [1.0, \"#f0f921\"]]}, \"colorway\": [\"#636efa\", \"#EF553B\", \"#00cc96\", \"#ab63fa\", \"#FFA15A\", \"#19d3f3\", \"#FF6692\", \"#B6E880\", \"#FF97FF\", \"#FECB52\"], \"font\": {\"color\": \"#2a3f5f\"}, \"geo\": {\"bgcolor\": \"white\", \"lakecolor\": \"white\", \"landcolor\": \"#E5ECF6\", \"showlakes\": true, \"showland\": true, \"subunitcolor\": \"white\"}, \"hoverlabel\": {\"align\": \"left\"}, \"hovermode\": \"closest\", \"mapbox\": {\"style\": \"light\"}, \"paper_bgcolor\": \"white\", \"plot_bgcolor\": \"#E5ECF6\", \"polar\": {\"angularaxis\": {\"gridcolor\": \"white\", \"linecolor\": \"white\", \"ticks\": \"\"}, \"bgcolor\": \"#E5ECF6\", \"radialaxis\": {\"gridcolor\": \"white\", \"linecolor\": \"white\", \"ticks\": \"\"}}, \"scene\": {\"xaxis\": {\"backgroundcolor\": \"#E5ECF6\", \"gridcolor\": \"white\", \"gridwidth\": 2, \"linecolor\": \"white\", \"showbackground\": true, \"ticks\": \"\", \"zerolinecolor\": \"white\"}, \"yaxis\": {\"backgroundcolor\": \"#E5ECF6\", \"gridcolor\": \"white\", \"gridwidth\": 2, \"linecolor\": \"white\", \"showbackground\": true, \"ticks\": \"\", \"zerolinecolor\": \"white\"}, \"zaxis\": {\"backgroundcolor\": \"#E5ECF6\", \"gridcolor\": \"white\", \"gridwidth\": 2, \"linecolor\": \"white\", \"showbackground\": true, \"ticks\": \"\", \"zerolinecolor\": \"white\"}}, \"shapedefaults\": {\"line\": {\"color\": \"#2a3f5f\"}}, \"ternary\": {\"aaxis\": {\"gridcolor\": \"white\", \"linecolor\": \"white\", \"ticks\": \"\"}, \"baxis\": {\"gridcolor\": \"white\", \"linecolor\": \"white\", \"ticks\": \"\"}, \"bgcolor\": \"#E5ECF6\", \"caxis\": {\"gridcolor\": \"white\", \"linecolor\": \"white\", \"ticks\": \"\"}}, \"title\": {\"x\": 0.05}, \"xaxis\": {\"automargin\": true, \"gridcolor\": \"white\", \"linecolor\": \"white\", \"ticks\": \"\", \"title\": {\"standoff\": 15}, \"zerolinecolor\": \"white\", \"zerolinewidth\": 2}, \"yaxis\": {\"automargin\": true, \"gridcolor\": \"white\", \"linecolor\": \"white\", \"ticks\": \"\", \"title\": {\"standoff\": 15}, \"zerolinecolor\": \"white\", \"zerolinewidth\": 2}}}, \"title\": {\"text\": \"Bi\\u1ec3u \\u0111\\u1ed3 ph\\u00e2n ph\\u1ed1i c\\u1ee7a 20849 ratings\"}, \"xaxis\": {\"title\": {\"text\": \"Rating\"}}, \"yaxis\": {\"title\": {\"text\": \"S\\u1ed1 l\\u01b0\\u1ee3ng\"}}},\n                        {\"responsive\": true}\n                    ).then(function(){\n                            \nvar gd = document.getElementById('d006d9b6-3e7c-4dc5-af71-a84e77733b28');\nvar x = new MutationObserver(function (mutations, observer) {{\n        var display = window.getComputedStyle(gd).display;\n        if (!display || display === 'none') {{\n            console.log([gd, 'removed!']);\n            Plotly.purge(gd);\n            observer.disconnect();\n        }}\n}});\n\n// Listen for the removal of the full notebook cells\nvar notebookContainer = gd.closest('#notebook-container');\nif (notebookContainer) {{\n    x.observe(notebookContainer, {childList: true});\n}}\n\n// Listen for the clearing of the current output cell\nvar outputEl = gd.closest('.output');\nif (outputEl) {{\n    x.observe(outputEl, {childList: true});\n}}\n\n                        })\n                };\n                });\n            </script>\n        </div>"
     },
     "metadata": {}
    }
   ],
   "source": [
    "from plotly.offline import init_notebook_mode, plot, iplot\n",
    "import plotly.graph_objs as go\n",
    "init_notebook_mode(connected=True)\n",
    "\n",
    "data = format_data['rating'].value_counts().sort_index(ascending=False)\n",
    "trace = go.Bar(x = data.index,\n",
    "               text = ['{:.1f} %'.format(val) for val in (data.values / format_data.shape[0] * 100)],\n",
    "               textposition = 'auto',\n",
    "               textfont = dict(color = '#000000'),\n",
    "               y = data.values,\n",
    "               )\n",
    "# Create layout\n",
    "layout = dict(title = 'Biểu đồ phân phối của {} ratings'.format(format_data.shape[0]),\n",
    "              xaxis = dict(title = 'Rating'),\n",
    "              yaxis = dict(title = 'Số lượng'))\n",
    "# Create plot\n",
    "fig = go.Figure(data=[trace], layout=layout)\n",
    "iplot(fig)"
   ]
  },
  {
   "cell_type": "code",
   "execution_count": 8,
   "metadata": {},
   "outputs": [
    {
     "output_type": "display_data",
     "data": {
      "application/vnd.plotly.v1+json": {
       "config": {
        "linkText": "Export to plot.ly",
        "plotlyServerURL": "https://plot.ly",
        "showLink": false
       },
       "data": [
        {
         "name": "Ratings",
         "type": "histogram",
         "x": [
          6,
          2,
          1,
          2,
          2,
          17,
          3,
          1,
          2,
          2,
          17,
          7,
          2,
          4,
          1,
          2,
          12,
          4,
          2,
          4,
          1,
          2,
          1,
          8,
          1,
          2,
          1,
          1,
          2,
          5,
          6,
          3,
          1,
          16,
          8,
          14,
          1,
          4,
          2,
          2,
          2,
          3,
          2,
          1,
          1,
          2,
          3,
          1,
          2,
          2,
          1,
          4,
          7,
          1,
          2,
          1,
          3,
          4,
          4,
          6,
          6,
          7,
          2,
          4,
          6,
          1,
          1,
          2,
          8,
          1,
          3,
          13,
          6,
          2,
          6,
          1,
          1,
          1,
          1,
          10,
          3,
          2,
          5,
          5,
          5,
          1,
          1,
          3,
          2,
          8,
          2,
          1,
          1,
          12,
          2,
          3,
          7,
          7,
          1,
          4,
          2,
          4,
          2,
          2,
          2,
          1,
          5,
          6,
          1,
          2,
          2,
          3,
          2,
          2,
          8,
          7,
          2,
          3,
          3,
          2,
          10,
          1,
          11,
          5,
          1,
          4,
          6,
          1,
          3,
          14,
          1,
          2,
          1,
          5,
          3,
          5,
          9,
          2,
          1,
          3,
          10,
          11,
          15,
          1,
          2,
          1,
          3,
          8,
          11,
          11,
          16,
          2,
          3,
          2,
          10,
          4,
          1,
          2,
          3,
          1,
          5,
          2,
          4,
          2,
          9,
          8,
          14,
          2,
          2,
          1,
          7,
          12,
          1,
          5,
          2,
          1,
          4,
          2,
          1,
          1,
          3,
          1,
          4,
          4,
          3,
          2,
          5,
          2,
          16,
          2,
          6,
          14,
          9,
          10,
          8,
          2,
          2,
          2,
          1,
          3,
          1,
          4,
          4,
          18,
          1,
          13,
          3,
          4,
          4,
          4,
          4,
          5,
          3,
          3,
          3,
          3,
          4,
          11,
          16,
          2,
          3,
          4,
          3,
          8,
          11,
          1,
          8,
          7,
          1,
          2,
          4,
          2,
          6,
          5,
          6,
          1,
          4,
          1,
          2,
          7,
          1,
          1,
          3,
          1,
          10,
          2,
          1,
          1,
          1,
          1,
          1,
          2,
          3,
          3,
          1,
          3,
          1,
          3,
          1,
          10,
          5,
          5,
          3,
          2,
          1,
          3,
          1,
          3,
          5,
          2,
          8,
          4,
          5,
          9,
          14,
          6,
          7,
          7,
          7,
          5,
          1,
          4,
          11,
          2,
          9,
          3,
          1,
          2,
          3,
          8,
          20,
          6,
          8,
          8,
          8,
          8,
          5,
          7,
          5,
          9,
          1,
          7,
          2,
          5,
          4,
          5,
          5,
          5,
          4,
          3,
          8,
          4,
          8,
          4,
          7,
          7,
          5,
          3,
          1,
          4,
          4,
          3,
          3,
          1,
          1,
          3,
          1,
          1,
          3,
          4,
          8,
          9,
          13,
          5,
          6,
          8,
          9,
          8,
          8,
          2,
          5,
          1,
          12,
          3,
          7,
          5,
          9,
          5,
          3,
          7,
          1,
          9,
          3,
          2,
          4,
          4,
          2,
          5,
          6,
          2,
          2,
          3,
          14,
          4,
          1,
          10,
          3,
          15,
          8,
          3,
          1,
          6,
          1,
          14,
          12,
          2,
          1,
          7,
          1,
          1,
          5,
          2,
          2,
          1,
          3,
          8,
          1,
          3,
          5,
          4,
          10,
          1,
          10,
          6,
          1,
          5,
          4,
          3,
          3,
          7,
          4,
          1,
          1,
          6,
          1,
          3,
          8,
          3,
          4,
          3,
          1,
          1,
          5,
          1,
          3,
          7,
          2,
          2,
          3,
          11,
          17,
          4,
          2,
          1,
          11,
          5,
          2,
          4,
          2,
          1,
          7,
          7,
          2,
          2,
          1,
          6,
          1,
          2,
          1,
          1,
          3,
          4,
          1,
          2,
          4,
          1,
          1,
          1,
          1,
          4,
          3,
          3,
          2,
          1,
          2,
          1,
          1,
          2,
          7,
          1,
          4,
          3,
          3,
          1,
          3,
          1,
          12,
          1,
          1,
          3,
          1,
          12,
          4,
          1,
          1,
          9,
          1,
          2,
          1,
          21,
          1,
          13,
          3,
          7,
          1,
          5,
          1,
          1,
          2,
          5,
          1,
          1,
          1,
          1,
          1,
          2,
          1,
          1,
          1,
          18,
          9,
          12,
          17,
          10,
          13,
          1,
          3,
          1,
          5,
          3,
          1,
          1,
          10,
          1,
          3,
          5,
          2,
          4,
          4,
          3,
          1,
          1,
          1,
          1,
          4,
          2,
          1,
          1,
          3,
          1,
          1,
          5,
          6,
          2,
          2,
          2,
          2,
          2,
          4,
          8,
          3,
          3,
          2,
          3,
          27,
          5,
          2,
          5,
          3,
          1,
          1,
          3,
          4,
          6,
          4,
          5,
          10,
          8,
          5,
          5,
          4,
          5,
          5,
          2,
          1,
          1,
          1,
          2,
          1,
          1,
          2,
          2,
          3,
          2,
          2,
          2,
          5,
          2,
          3,
          9,
          6,
          1,
          2,
          10,
          10,
          2,
          1,
          2,
          3,
          1,
          5,
          7,
          1,
          4,
          5,
          1,
          5,
          1,
          5,
          2,
          1,
          10,
          1,
          1,
          4,
          2,
          4,
          1,
          2,
          3,
          2,
          2,
          1,
          5,
          1,
          3,
          2,
          3,
          4,
          2,
          2,
          3,
          2,
          4,
          1,
          3,
          2,
          1,
          1,
          1,
          1,
          1,
          2,
          1,
          5,
          3,
          2,
          6,
          5,
          1,
          1,
          5,
          1,
          1,
          1,
          1,
          1,
          1,
          1,
          12,
          2,
          1,
          1,
          1,
          1,
          2,
          3,
          2,
          7,
          5,
          1,
          2,
          7,
          2,
          3,
          2,
          1,
          3,
          3,
          2,
          4,
          5,
          3,
          1,
          3,
          1,
          9,
          5,
          14,
          3,
          19,
          1,
          8,
          1,
          1,
          1,
          5,
          13,
          7,
          1,
          2,
          2,
          16,
          1,
          2,
          6,
          2,
          3,
          3,
          2,
          12,
          3,
          3,
          7,
          19,
          8,
          5,
          2,
          15,
          10,
          12,
          5,
          8,
          1,
          1,
          2,
          16,
          10,
          4,
          6,
          9,
          1,
          1,
          7,
          5,
          12,
          2,
          9,
          2,
          10,
          4,
          2,
          14,
          12,
          25,
          11,
          2,
          2,
          1,
          5,
          1,
          1,
          1,
          1,
          4,
          1,
          1,
          1,
          1,
          19,
          3,
          7,
          13,
          12,
          12,
          7,
          14,
          11,
          2,
          6,
          6,
          4,
          5,
          1,
          10,
          2,
          2,
          1,
          5,
          4,
          1,
          5,
          3,
          3,
          12,
          2,
          4,
          2,
          2,
          9,
          4,
          3,
          12,
          23,
          1,
          8,
          7,
          4,
          1,
          7,
          1,
          1,
          6,
          6,
          15,
          1,
          7,
          6,
          6,
          4,
          5,
          2,
          2,
          1,
          5,
          1,
          11,
          7,
          10,
          6,
          1,
          3,
          1,
          9,
          1,
          1,
          1,
          5,
          4,
          7,
          7,
          3,
          10,
          6,
          6,
          1,
          1,
          3,
          1,
          5,
          6,
          2,
          3,
          3,
          5,
          2,
          1,
          1,
          1,
          5,
          4,
          1,
          14,
          9,
          4,
          2,
          8,
          1,
          5,
          1,
          5,
          3,
          1,
          10,
          5,
          1,
          1,
          1,
          8,
          12,
          8,
          1,
          1,
          1,
          3,
          3,
          1,
          1,
          1,
          3,
          1,
          9,
          1,
          1,
          1,
          1,
          12,
          3,
          11,
          12,
          11,
          1,
          6,
          2,
          3,
          1,
          1,
          1,
          1,
          3,
          1,
          4,
          1,
          2,
          1,
          4,
          2,
          1,
          11,
          10,
          12,
          1,
          3,
          2,
          3,
          2,
          5,
          3,
          2,
          2,
          5,
          3,
          4,
          12,
          5,
          1,
          1,
          2,
          1,
          4,
          12,
          3,
          19,
          1,
          5,
          1,
          3,
          8,
          1,
          6,
          2,
          2,
          11,
          11,
          14,
          5,
          4,
          1,
          1,
          1,
          1,
          1,
          1,
          1,
          1,
          1,
          1,
          1,
          1,
          16,
          1,
          1,
          2,
          3,
          3,
          3,
          16,
          5,
          2,
          7,
          4,
          1,
          14,
          11,
          1,
          1,
          11,
          3,
          1,
          1,
          3,
          8,
          1,
          1,
          6,
          4,
          4,
          1,
          1,
          13,
          13,
          4,
          2,
          2,
          5,
          2,
          1,
          1,
          4,
          1,
          3,
          7,
          1,
          2,
          6,
          7,
          4,
          3,
          2,
          5,
          4,
          4,
          4,
          3,
          1,
          6,
          6,
          6,
          2,
          12,
          5,
          10,
          1,
          11,
          1,
          1,
          2,
          1,
          1,
          3,
          2,
          3,
          1,
          1,
          1,
          8,
          7,
          5,
          11,
          1,
          7,
          3,
          3,
          1,
          1,
          2,
          3,
          5,
          1,
          6,
          5,
          4,
          7,
          1,
          12,
          4,
          1,
          2,
          2,
          1,
          1,
          2,
          1,
          3,
          3,
          11,
          1,
          6,
          4,
          4,
          5,
          1,
          7,
          1,
          1,
          1,
          1,
          1,
          2,
          1,
          1,
          1,
          1,
          2,
          2,
          3,
          1,
          1,
          2,
          2,
          2,
          1,
          1,
          2,
          3,
          2,
          1,
          10,
          4,
          1,
          1,
          4,
          8,
          5,
          1,
          6,
          4,
          2,
          3,
          1,
          2,
          2,
          7,
          3,
          1,
          7,
          1,
          2,
          1,
          11,
          2,
          2,
          1,
          1,
          1,
          2,
          4,
          5,
          1,
          2,
          1,
          1,
          3,
          1,
          6,
          1,
          4,
          7,
          3,
          7,
          3,
          5,
          2,
          1,
          1,
          1,
          3,
          1,
          1,
          3,
          1,
          3,
          4,
          17,
          1,
          1,
          1,
          5,
          2,
          6,
          2,
          1,
          1,
          1,
          4,
          5,
          4,
          4,
          5,
          6,
          3,
          10,
          1,
          7,
          7,
          1,
          3,
          8,
          5,
          4,
          6,
          14,
          1,
          4,
          7,
          6,
          13,
          4,
          2,
          13,
          2,
          1,
          1,
          1,
          3,
          6,
          4,
          1,
          2,
          3,
          1,
          2,
          6,
          5,
          4,
          3,
          6,
          4,
          7,
          2,
          2,
          13,
          22,
          8,
          11,
          1,
          1,
          2,
          3,
          7,
          2,
          1,
          1,
          1,
          5,
          1,
          1,
          2,
          6,
          11,
          1,
          4,
          1,
          12,
          2,
          2,
          8,
          1,
          1,
          1,
          5,
          1,
          4,
          1,
          10,
          1,
          2,
          1,
          1,
          1,
          1,
          2,
          11,
          15,
          4,
          2,
          14,
          1,
          3,
          4,
          1,
          4,
          9,
          4,
          2,
          7,
          5,
          2,
          12,
          11,
          18,
          12,
          2,
          14,
          11,
          2,
          11,
          6,
          4,
          3,
          6,
          1,
          5,
          7,
          4,
          7,
          2,
          4,
          3,
          2,
          4,
          6,
          8,
          2,
          5,
          19,
          3,
          1,
          2,
          1,
          1,
          8,
          3,
          1,
          1,
          1,
          2,
          2,
          1,
          8,
          6,
          4,
          6,
          2,
          1,
          1,
          9,
          1,
          1,
          4,
          4,
          2,
          1,
          1,
          10,
          5,
          2,
          2,
          3,
          13,
          3,
          3,
          4,
          5,
          7,
          6,
          9,
          2,
          1,
          3,
          2,
          1,
          3,
          8,
          9,
          7,
          4,
          5,
          2,
          2,
          8,
          2,
          4,
          1,
          11,
          5,
          6,
          1,
          1,
          1,
          4,
          1,
          3,
          3,
          2,
          3,
          1,
          1,
          4,
          3,
          2,
          1,
          3,
          3,
          1,
          5,
          2,
          1,
          5,
          4,
          4,
          5,
          2,
          7,
          2,
          3,
          1,
          1,
          4,
          1,
          1,
          5,
          2,
          1,
          1,
          1,
          2,
          1,
          1,
          1,
          1,
          1,
          3,
          2,
          7,
          4,
          4,
          1,
          3,
          2,
          1,
          7,
          6,
          1,
          1,
          4,
          7,
          1,
          3,
          4,
          2,
          4,
          2,
          3,
          9,
          1,
          1,
          1,
          3,
          1,
          1,
          1,
          5,
          1,
          3,
          2,
          2,
          2,
          3,
          3,
          6,
          2,
          2,
          2,
          1,
          5,
          2,
          3,
          2,
          5,
          4,
          3,
          4,
          4,
          4,
          2,
          7,
          1,
          5,
          2,
          1,
          1,
          5,
          1,
          7,
          1,
          5,
          3,
          4,
          6,
          6,
          4,
          4,
          1,
          3,
          1,
          1,
          2,
          11,
          1,
          1,
          1,
          1,
          1,
          1,
          3,
          4,
          10,
          1,
          2,
          1,
          1,
          1,
          7,
          1,
          1,
          16,
          14,
          1,
          5,
          1,
          2,
          2,
          6,
          5,
          1,
          2,
          2,
          1,
          6,
          3,
          1,
          1,
          1,
          1,
          1,
          5,
          1,
          2,
          2,
          2,
          5,
          3,
          6,
          4,
          4,
          5,
          1,
          8,
          1,
          1,
          1,
          8,
          1,
          1,
          1,
          2,
          1,
          8,
          2,
          2,
          2,
          3,
          5,
          6,
          2,
          5,
          3,
          15,
          1,
          1,
          5,
          5,
          4,
          4,
          1,
          1,
          1,
          1,
          5,
          9,
          1,
          8,
          1,
          6,
          4,
          1,
          1,
          1,
          6,
          5,
          1,
          1,
          1,
          8,
          1,
          6,
          11,
          6,
          1,
          7,
          1,
          5,
          9,
          1,
          3,
          1,
          2,
          4,
          5,
          5,
          4,
          3,
          1,
          1,
          1,
          9,
          1,
          3,
          1,
          2,
          3,
          5,
          13,
          1,
          2,
          1,
          9,
          1,
          1,
          3,
          7,
          1,
          1,
          1,
          1,
          4,
          3,
          3,
          1,
          6,
          13,
          3,
          5,
          1,
          1,
          1,
          1,
          11,
          2,
          3,
          9,
          1,
          5,
          4,
          2,
          5,
          1,
          3,
          2,
          3,
          1,
          1,
          1,
          1,
          17,
          1,
          4,
          1,
          2,
          14,
          3,
          1,
          9,
          13,
          13,
          2,
          5,
          7,
          5,
          6,
          2,
          4,
          6,
          5,
          2,
          4,
          4,
          1,
          9,
          3,
          3,
          2,
          3,
          2,
          5,
          1,
          1,
          2,
          3,
          2,
          3,
          8,
          3,
          5,
          4,
          1,
          1,
          1,
          6,
          5,
          10,
          13,
          3,
          1,
          19,
          5,
          9,
          8,
          9,
          3,
          4,
          2,
          2,
          4,
          3,
          11,
          3,
          1,
          3,
          2,
          5,
          2,
          1,
          7,
          4,
          2,
          6,
          1,
          1,
          2,
          3,
          2,
          12,
          2,
          1,
          2,
          1,
          1,
          4,
          7,
          3,
          1,
          2,
          12,
          7,
          1,
          1,
          3,
          1,
          8,
          2,
          15,
          1,
          2,
          2,
          7,
          4,
          8,
          6,
          3,
          2,
          2,
          3,
          1,
          3,
          4,
          2,
          4,
          3,
          2,
          3,
          1,
          5,
          8,
          1,
          4,
          2,
          1,
          3,
          2,
          1,
          13,
          1,
          3,
          1,
          2,
          1,
          1,
          1,
          1,
          1,
          10,
          8,
          1,
          1,
          1,
          1,
          1,
          1,
          8,
          7,
          3,
          4,
          5,
          5,
          2,
          1,
          1,
          4,
          5,
          3,
          14,
          5,
          1,
          7,
          8,
          1,
          1,
          1,
          3,
          4,
          2,
          10,
          1,
          4,
          6,
          3,
          3,
          1,
          8,
          5,
          3,
          7,
          5,
          2,
          1,
          1,
          1,
          2,
          6,
          13,
          3,
          7,
          7,
          1,
          2,
          11,
          4,
          2,
          5,
          2,
          1,
          1,
          1,
          1,
          2,
          2,
          1,
          1,
          1,
          9,
          1,
          5,
          1,
          5,
          4,
          4,
          1,
          8,
          6,
          2,
          1,
          1,
          1,
          12,
          3,
          29,
          17,
          8,
          2,
          3,
          3,
          3,
          1,
          2,
          2,
          1,
          4,
          2,
          3,
          15,
          2,
          3,
          1,
          1,
          3,
          1,
          3,
          3,
          4,
          2,
          2,
          2,
          7,
          1,
          2,
          4,
          2,
          16,
          4,
          4,
          1,
          1,
          1,
          8,
          7,
          2,
          3,
          2,
          6,
          1,
          15,
          11,
          7,
          8,
          7,
          2,
          2,
          5,
          8,
          6,
          1,
          9,
          9,
          6,
          4,
          9,
          1,
          3,
          2,
          1,
          2,
          1,
          1,
          1,
          1,
          10,
          3,
          3,
          7,
          7,
          8,
          6,
          2,
          2,
          2,
          1,
          1,
          1,
          2,
          1,
          1,
          2,
          1,
          5,
          3,
          1,
          1,
          1,
          2,
          1,
          8,
          1,
          1,
          3,
          8,
          1,
          2,
          6,
          1,
          3,
          7,
          6,
          2,
          6,
          3,
          1,
          1,
          3,
          1,
          3,
          2,
          2,
          3,
          2,
          2,
          3,
          1,
          2,
          1,
          7,
          1,
          20,
          5,
          3,
          2,
          1,
          4,
          7,
          1,
          2,
          2,
          4,
          2,
          1,
          5,
          6,
          1,
          1,
          2,
          5,
          3,
          3,
          7,
          6,
          1,
          1,
          4,
          4,
          5,
          14,
          2,
          2,
          1,
          1,
          1,
          3,
          1,
          2,
          2,
          9,
          1,
          2,
          1,
          4,
          2,
          7,
          1,
          2,
          1,
          1,
          2,
          6,
          2,
          2,
          6,
          11,
          4,
          4,
          1,
          9,
          1,
          1,
          1,
          1,
          10,
          2,
          1,
          2,
          2,
          3,
          2,
          1,
          2,
          13,
          3,
          3,
          10,
          5,
          3,
          4,
          5,
          3,
          5,
          5,
          1,
          2,
          1,
          1,
          15,
          4,
          4,
          3,
          2,
          4,
          1,
          2,
          2,
          1,
          3,
          9,
          2,
          1,
          4,
          1,
          1,
          1,
          2,
          2,
          1,
          1,
          2,
          2,
          1,
          1,
          15,
          4,
          3,
          1,
          2,
          10,
          1,
          3,
          5,
          3,
          2,
          1,
          2,
          1,
          1,
          6,
          5,
          3,
          3,
          3,
          5,
          1,
          1,
          10,
          5,
          2,
          2,
          3,
          2,
          1,
          4,
          7,
          11,
          12,
          3,
          1,
          3,
          1,
          4,
          3,
          2,
          4,
          2,
          3,
          3,
          5,
          5,
          1,
          1,
          4,
          14,
          5,
          1,
          2,
          2,
          1,
          1,
          5,
          2,
          7,
          1,
          5,
          3,
          1,
          1,
          23,
          3,
          16,
          4,
          2,
          2,
          15,
          35,
          1,
          4,
          2,
          4,
          1,
          7,
          1,
          1,
          1,
          1,
          9,
          1,
          2,
          5,
          2,
          1,
          2,
          7,
          2,
          3,
          2,
          6,
          15,
          3,
          1,
          2,
          1,
          1,
          2,
          9,
          4,
          2,
          4,
          3,
          2,
          4,
          1,
          1,
          3,
          1,
          2,
          6,
          5,
          2,
          15,
          1,
          4,
          7,
          12,
          5,
          10,
          1,
          2,
          3,
          3,
          1,
          4,
          1,
          1,
          1,
          1,
          2,
          1,
          2,
          1,
          1,
          2,
          2,
          24,
          22,
          20,
          12,
          8,
          13,
          14,
          9,
          17,
          10,
          17,
          19,
          14,
          18,
          5,
          2,
          3,
          9,
          1,
          9,
          8,
          13,
          15,
          15,
          13,
          20,
          4,
          7,
          10,
          2,
          2,
          15,
          6,
          1,
          1,
          1,
          1,
          2,
          8,
          2,
          8,
          21,
          7,
          1,
          6,
          1,
          1,
          19,
          1,
          1,
          1,
          1,
          6,
          2,
          6,
          5,
          1,
          5,
          7,
          1,
          2,
          1,
          1,
          2,
          2,
          1,
          2,
          2,
          2,
          2,
          1,
          2,
          9,
          2,
          18,
          9,
          16,
          1,
          2,
          1,
          1,
          4,
          15,
          1,
          1,
          1,
          2,
          1,
          2,
          2,
          1,
          4,
          3,
          1,
          1,
          3,
          2,
          6,
          1,
          1,
          2,
          1,
          4,
          6,
          1,
          1,
          1,
          1,
          1,
          1,
          4,
          4,
          7,
          5,
          11,
          1,
          6,
          4,
          2,
          4,
          1,
          1,
          1,
          6,
          1,
          3,
          1,
          1,
          2,
          3,
          1,
          2,
          5,
          7,
          2,
          2,
          1,
          6,
          2,
          4,
          1,
          2,
          1,
          1,
          1,
          1,
          6,
          2,
          3,
          6,
          2,
          12,
          6,
          16,
          22,
          1,
          3,
          1,
          1,
          10,
          2,
          3,
          4,
          3,
          5,
          1,
          2,
          6,
          3,
          1,
          1,
          4,
          2,
          2,
          11,
          1,
          2,
          1,
          6,
          6,
          1,
          6,
          1,
          1,
          1,
          2,
          1,
          1,
          12,
          5,
          5,
          1,
          1,
          1,
          12,
          15,
          19,
          21,
          3,
          1,
          2,
          1,
          2,
          6,
          1,
          2,
          2,
          1,
          1,
          1,
          11,
          1,
          1,
          5,
          10,
          12,
          11,
          2,
          2,
          2,
          7,
          6,
          10,
          10,
          8,
          6,
          8,
          7,
          3,
          7,
          7,
          4,
          5,
          6,
          5,
          5,
          4,
          6,
          9,
          3,
          3,
          1,
          9,
          1,
          1,
          13,
          3,
          2,
          2,
          20,
          1,
          2,
          2,
          2,
          2,
          2,
          2,
          1,
          1,
          1,
          1,
          1,
          10,
          8,
          8,
          9,
          3,
          3,
          7,
          2,
          14,
          2,
          1,
          1,
          2,
          14,
          1,
          1,
          4,
          2,
          8,
          5,
          9,
          1,
          11,
          1,
          11,
          7,
          2,
          23,
          3,
          3,
          1,
          5,
          1,
          2,
          3,
          7,
          6,
          9,
          7,
          2,
          1,
          6,
          7,
          9,
          5,
          2,
          7,
          5,
          6,
          4,
          1,
          5,
          1,
          1,
          2,
          2,
          16,
          2,
          1,
          1,
          8,
          5,
          1,
          1,
          4,
          1,
          1,
          2,
          2,
          2,
          10,
          1,
          5,
          1,
          2,
          4,
          4,
          5,
          2,
          1,
          12,
          2,
          1,
          2,
          1,
          1,
          4,
          2,
          6,
          4,
          2,
          3,
          1,
          2,
          3,
          1,
          3,
          2,
          2,
          9,
          7,
          5,
          1,
          5,
          4,
          2,
          6,
          3,
          10,
          8,
          9,
          3,
          5,
          2,
          1,
          1,
          1,
          5,
          3,
          1,
          6,
          1,
          2,
          1,
          7,
          1,
          2,
          1,
          2,
          1,
          1,
          2,
          12,
          10,
          9,
          9,
          10,
          7,
          6,
          3,
          3,
          4,
          4,
          5,
          3,
          3,
          4,
          4,
          4,
          5,
          5,
          4,
          7,
          5,
          6,
          3,
          1,
          1,
          1,
          3,
          3,
          1,
          2,
          5,
          1,
          1,
          1,
          1,
          2,
          1,
          1,
          1,
          1,
          1,
          2,
          2,
          1,
          4,
          8,
          4,
          3,
          2,
          1,
          7,
          1,
          3,
          3,
          2,
          1,
          5,
          2,
          6,
          5,
          1,
          3,
          14,
          2,
          3,
          5,
          5,
          4,
          2,
          2,
          9,
          1,
          4,
          1,
          5,
          2,
          3,
          4,
          1,
          16,
          3,
          2,
          7,
          16,
          8,
          2,
          3,
          6,
          3,
          11,
          2,
          1,
          1,
          7,
          1,
          7,
          1,
          4,
          3,
          3,
          4,
          2,
          2,
          2,
          5,
          3,
          1,
          6,
          2,
          12,
          1,
          1,
          1,
          6,
          17,
          1,
          7,
          5,
          2,
          2,
          8,
          3,
          1,
          4,
          3,
          2,
          4,
          1,
          17,
          1,
          3,
          2,
          3,
          15,
          3,
          1,
          3,
          4,
          4,
          1,
          3,
          3,
          4,
          5,
          3,
          4,
          3,
          4,
          2,
          4,
          2,
          5,
          3,
          4,
          4,
          1,
          3,
          1,
          1,
          6,
          12,
          1,
          1,
          5,
          1,
          4,
          2,
          9,
          3,
          1,
          4,
          6,
          10,
          10,
          1,
          12,
          1,
          2,
          3,
          1,
          9,
          2,
          1,
          20,
          1,
          1,
          1,
          3,
          1,
          3,
          3,
          1,
          3,
          4,
          1,
          1,
          1,
          6,
          4,
          3,
          2,
          1,
          2,
          3,
          6,
          2,
          2,
          1,
          1,
          1,
          2,
          3,
          3,
          7,
          9,
          1,
          2,
          2,
          1,
          4,
          2,
          1,
          1,
          9,
          3,
          21,
          3,
          2,
          2,
          2,
          1,
          12,
          13,
          3,
          1,
          8,
          4,
          4,
          2,
          3,
          1,
          1,
          3,
          8,
          4,
          4,
          1,
          4,
          7,
          6,
          1,
          3,
          1,
          8,
          2,
          1,
          10,
          3,
          4,
          6,
          1,
          5,
          13,
          1,
          9,
          3,
          5,
          3,
          1,
          2,
          1,
          2,
          6,
          1,
          3,
          2,
          2,
          2,
          1,
          5,
          1,
          4,
          1,
          1,
          3,
          2,
          6,
          1,
          3,
          6,
          9,
          2,
          2,
          3,
          3,
          5,
          2,
          1,
          7,
          1,
          5,
          1,
          3,
          3,
          2,
          4,
          2,
          1,
          4,
          8,
          6,
          3,
          2,
          5,
          9,
          2,
          4,
          2,
          5,
          2,
          1,
          8,
          3,
          4,
          1,
          1,
          1,
          7,
          1,
          3,
          7,
          5,
          1,
          3,
          2,
          2,
          7,
          7,
          7,
          3,
          5,
          6,
          1,
          1,
          2,
          2,
          1,
          5,
          1,
          7,
          4,
          12,
          1,
          7,
          6,
          7,
          1,
          9,
          1,
          2,
          2,
          4,
          1,
          1,
          3,
          1,
          2,
          1,
          2,
          2,
          1,
          2,
          2,
          9,
          2,
          13,
          2,
          6,
          6,
          7,
          1,
          2,
          1,
          2,
          1,
          3,
          1,
          3,
          10,
          1,
          1,
          4,
          17,
          3,
          14,
          13,
          3,
          22,
          2,
          1,
          1,
          1,
          7,
          1,
          19,
          15,
          1,
          17,
          20,
          6,
          1,
          7,
          1,
          1,
          3,
          4,
          2,
          23,
          3,
          2,
          6,
          3,
          15,
          2,
          2,
          1,
          1,
          5,
          1,
          9,
          1,
          1,
          1,
          9,
          8,
          1,
          2,
          1,
          1,
          1,
          3,
          1,
          1,
          2,
          1,
          2,
          3,
          4,
          4,
          3,
          4,
          12,
          12,
          15,
          2,
          3,
          1,
          2,
          1,
          2,
          8,
          1,
          1,
          4,
          1,
          5,
          1,
          6,
          2,
          5,
          4,
          3,
          5,
          14,
          2,
          2,
          1,
          4,
          3,
          2,
          1,
          3,
          1,
          2,
          3,
          4,
          1,
          1,
          2,
          1,
          4,
          8,
          1,
          15,
          6,
          1,
          5,
          2,
          5,
          1,
          2,
          3,
          3,
          1,
          2,
          3,
          11,
          1,
          3,
          1,
          4,
          5,
          2,
          1,
          1,
          1,
          1,
          1,
          11,
          2,
          1,
          1,
          3,
          1,
          1,
          1,
          1,
          2,
          1,
          3,
          1,
          1,
          4,
          3,
          2,
          1,
          2,
          1,
          1,
          4,
          3,
          6,
          2,
          6,
          1,
          5,
          5,
          4,
          4,
          2,
          3,
          1,
          1,
          2,
          4,
          1,
          2,
          1,
          1,
          5,
          1,
          2,
          1,
          2,
          3,
          2,
          5,
          1,
          23,
          1,
          5,
          1,
          7,
          4,
          7,
          10,
          18,
          1,
          15,
          2,
          1,
          6,
          1,
          5,
          9,
          4,
          1,
          11,
          2,
          1,
          5,
          1,
          1,
          12,
          1,
          2,
          12,
          2,
          2,
          3,
          1,
          4,
          1,
          2,
          2,
          2,
          4,
          1,
          2,
          3,
          3,
          2,
          1,
          9,
          1,
          1,
          1,
          1,
          2,
          1,
          1,
          2,
          1,
          1,
          3,
          2,
          4,
          3,
          1,
          2,
          3,
          2,
          1,
          8,
          2,
          5,
          1,
          1,
          1,
          3,
          3,
          3,
          8,
          2,
          2,
          1,
          2,
          2,
          12,
          1,
          1,
          3,
          1,
          2,
          1,
          7,
          1,
          5,
          2,
          2,
          3,
          1,
          1,
          11,
          1,
          1,
          1,
          1,
          2,
          1,
          2,
          2,
          2,
          1,
          4,
          1,
          2,
          5,
          3,
          2,
          3,
          1,
          1,
          1,
          1,
          16,
          1,
          1,
          1,
          1,
          1,
          1,
          1,
          2,
          1,
          3,
          3,
          1,
          1,
          4,
          1,
          1,
          1,
          2,
          3,
          1,
          3,
          1,
          1,
          1,
          1,
          14,
          1,
          1,
          8,
          5,
          3,
          1,
          1,
          1,
          1,
          1,
          1,
          2,
          1,
          2,
          1,
          4,
          1,
          1,
          2,
          1,
          3,
          1,
          4,
          9,
          5,
          5,
          1,
          2,
          1,
          1,
          3,
          2,
          10,
          2,
          3,
          13,
          1,
          13,
          2,
          9,
          2,
          1,
          2,
          2,
          1,
          1,
          1,
          1,
          1,
          1,
          3,
          2,
          1,
          3,
          2,
          2,
          1,
          2,
          1,
          15,
          3,
          9,
          1,
          2,
          13,
          15,
          2,
          10,
          2,
          1,
          2,
          1,
          2,
          1,
          1,
          3,
          9,
          4,
          1,
          2,
          10,
          1,
          10,
          3,
          8,
          4,
          3,
          6,
          8,
          4,
          1,
          1,
          1,
          1,
          9,
          4,
          2,
          1,
          1,
          1,
          2,
          1,
          9,
          5,
          1,
          2,
          14,
          1,
          1,
          1,
          2,
          5,
          5,
          1,
          2,
          1,
          4,
          1,
          2,
          3,
          3,
          4,
          6,
          1,
          4,
          1,
          4,
          2,
          8,
          7,
          1,
          5,
          7,
          4,
          2,
          7,
          6,
          1,
          1,
          1,
          1,
          1,
          4,
          2,
          4,
          3,
          2,
          3,
          5,
          4,
          5,
          6,
          2,
          6,
          1,
          1,
          1,
          9,
          1,
          3,
          2,
          7,
          1,
          1,
          1,
          1,
          3,
          1,
          1,
          8,
          1,
          7,
          3,
          2,
          2,
          2,
          1,
          8,
          8,
          8,
          1,
          1,
          1,
          1,
          1,
          1,
          1,
          8,
          2,
          1,
          1,
          9,
          4,
          1,
          2,
          1,
          13,
          5,
          2,
          7,
          8,
          2,
          18,
          3,
          4,
          2,
          1,
          1,
          2,
          2,
          2,
          3,
          2,
          2,
          3,
          2,
          1,
          2,
          2,
          1,
          2,
          3,
          5,
          9,
          1,
          3,
          4,
          8,
          8,
          1,
          2,
          1,
          5,
          12,
          2,
          5,
          2,
          9,
          3,
          4,
          9,
          1,
          1,
          3,
          2,
          1,
          11,
          2,
          1,
          5,
          1,
          2,
          7,
          2,
          8,
          1,
          1,
          1,
          3,
          1,
          1,
          3,
          5,
          4,
          1,
          2,
          5,
          1,
          3,
          1,
          12,
          2,
          2,
          3,
          24,
          8,
          2,
          7,
          1,
          4,
          6,
          1,
          21,
          3,
          3,
          1,
          6,
          1,
          8,
          5,
          1,
          7,
          2,
          1,
          2,
          1,
          9,
          1,
          5,
          1,
          4,
          4,
          8,
          4,
          3,
          1,
          1,
          3,
          1,
          1,
          4,
          4,
          12,
          1,
          1,
          1,
          8,
          10,
          4,
          1,
          6,
          4,
          2,
          1,
          1,
          4,
          2,
          2,
          3,
          1,
          2,
          2,
          1,
          1,
          1,
          3,
          15,
          11,
          15,
          14,
          3,
          2,
          14,
          2,
          1,
          1,
          2,
          6,
          5,
          2,
          1,
          1,
          1,
          1,
          1,
          1,
          9,
          3,
          1,
          1,
          7,
          14,
          1,
          4,
          4,
          1,
          10,
          13,
          4,
          1,
          4,
          8,
          13,
          3,
          3,
          3,
          4,
          2,
          2,
          2,
          1,
          1,
          8,
          4,
          1,
          1,
          1,
          3,
          1,
          4,
          2,
          2,
          2,
          1,
          2,
          3,
          1,
          2,
          2,
          1,
          12,
          18,
          1,
          1,
          1,
          5,
          6,
          1,
          1,
          4,
          2,
          8,
          2,
          2,
          2,
          2,
          9,
          2,
          14,
          1,
          9,
          1,
          4,
          1,
          8,
          3,
          6,
          7,
          3,
          3,
          9,
          3,
          1,
          1,
          2,
          11,
          21,
          5,
          1,
          1,
          1,
          8,
          7,
          6,
          6,
          1,
          1,
          3,
          1,
          2,
          4,
          1,
          1,
          2,
          21,
          2,
          2,
          2,
          3,
          1,
          4,
          1,
          2,
          9,
          4,
          6,
          2,
          13,
          1,
          4,
          1,
          1,
          2,
          3,
          9,
          2,
          2,
          1,
          3,
          2,
          1,
          9,
          5,
          4,
          6,
          1,
          10,
          2,
          1,
          1,
          4,
          1,
          4,
          3,
          5,
          8,
          7,
          1,
          1,
          1,
          8,
          2,
          2,
          1,
          1,
          4,
          11,
          4,
          1,
          3,
          5,
          1,
          1,
          2,
          2,
          1,
          1,
          2,
          2,
          8,
          8,
          1,
          3,
          2,
          2,
          1,
          2,
          17,
          6,
          1,
          1,
          1,
          7,
          3,
          7,
          1,
          2,
          1,
          2,
          4,
          1,
          1,
          1,
          1,
          1,
          1,
          1,
          6,
          2,
          1,
          1,
          1,
          1,
          1,
          14,
          3,
          1,
          1,
          1,
          1,
          1,
          2,
          1,
          9,
          6,
          13,
          4,
          7,
          1,
          2,
          2,
          8,
          3,
          4,
          1,
          2,
          2,
          3,
          1,
          6,
          10,
          5,
          10,
          2,
          3,
          15,
          3,
          5,
          8,
          1,
          1,
          1,
          3,
          2,
          2,
          1,
          2,
          1,
          2,
          7,
          8,
          1,
          2,
          1,
          9,
          19,
          1,
          2,
          1,
          3,
          1,
          1,
          11,
          2,
          4,
          5,
          9,
          2,
          3,
          6,
          2,
          2,
          3,
          1,
          3,
          4,
          2,
          1,
          1,
          4,
          2,
          2,
          1,
          1,
          4,
          1,
          3,
          1,
          3,
          6,
          9,
          16,
          12,
          1,
          1,
          4,
          9,
          1,
          3,
          7,
          2,
          2,
          5,
          1,
          7,
          1,
          2,
          4,
          8,
          2,
          7,
          5,
          7,
          4,
          5,
          3,
          8,
          6,
          1,
          9,
          3,
          7,
          1,
          2,
          1,
          1,
          1,
          6,
          11,
          1,
          8,
          1,
          1,
          1,
          3,
          2,
          2,
          3,
          5,
          4,
          3,
          1,
          1,
          1,
          7,
          9,
          3,
          1,
          2,
          4,
          3,
          1,
          1,
          1,
          2,
          6,
          4,
          12,
          11,
          9,
          3,
          1,
          2,
          3,
          3,
          2,
          2,
          7,
          3,
          3,
          2,
          2,
          1,
          6,
          5,
          5,
          4,
          12,
          4,
          2,
          3,
          2,
          1,
          1,
          1,
          2,
          1,
          1,
          1,
          1,
          1,
          1,
          1,
          1,
          1,
          2,
          2,
          1,
          10,
          1,
          9,
          7,
          1,
          7,
          6,
          9,
          7,
          4,
          4,
          1,
          1,
          3,
          5,
          3,
          4,
          1,
          3,
          3,
          1,
          1,
          2,
          1,
          4,
          5,
          1,
          2,
          2,
          1,
          1,
          2,
          1,
          6,
          1,
          6,
          4,
          10,
          6,
          3,
          14,
          12,
          5,
          17,
          3,
          11,
          10,
          9,
          2,
          1,
          1,
          4,
          4,
          1,
          1,
          1,
          2,
          1,
          10,
          9,
          5,
          1,
          1,
          4,
          5,
          3,
          1,
          4,
          1,
          5,
          12,
          5,
          1,
          1,
          5,
          8,
          6,
          2,
          1,
          1,
          1,
          2,
          12,
          22,
          8,
          7,
          3,
          2,
          14,
          11,
          1,
          12,
          1,
          7,
          1,
          1,
          9,
          19,
          15,
          1,
          1,
          2,
          12,
          7,
          1,
          1,
          2,
          1,
          5,
          1,
          1,
          2,
          3,
          4,
          1,
          1,
          2,
          7,
          2,
          4,
          1,
          9,
          2,
          1,
          6,
          1,
          1,
          1,
          10,
          9,
          5,
          12,
          1,
          1,
          4,
          1,
          1,
          2,
          1,
          5,
          2,
          1,
          2,
          1,
          1,
          1,
          1,
          2,
          2,
          3,
          1,
          1,
          1,
          6,
          22,
          5,
          1,
          7,
          1,
          4,
          7,
          1,
          4,
          2,
          1,
          4,
          24,
          18,
          10,
          14,
          2,
          1,
          3,
          1,
          1,
          6,
          4,
          4,
          6,
          15,
          1,
          1,
          2,
          2,
          18,
          2,
          8,
          6,
          3,
          1,
          1,
          3,
          10,
          9,
          2,
          12,
          1,
          1,
          4,
          2,
          5,
          1,
          2,
          4,
          1,
          8,
          2,
          1,
          4,
          1,
          2,
          6,
          7,
          1,
          4,
          3,
          7,
          1,
          3,
          3,
          1,
          1,
          6,
          4,
          12,
          2,
          1,
          1,
          5,
          3,
          11,
          1,
          5,
          1,
          3,
          4,
          2,
          20,
          1,
          4,
          3,
          4,
          5,
          2,
          2,
          2,
          3,
          4,
          2,
          7,
          1,
          2,
          2,
          10,
          1,
          1,
          2,
          2,
          27,
          1,
          1,
          9,
          1,
          2,
          5,
          6,
          5,
          1,
          1,
          12,
          5,
          4,
          11,
          25,
          3,
          2,
          2,
          1,
          2,
          2,
          12,
          34,
          1,
          4,
          9,
          6,
          4,
          11,
          2,
          1,
          7,
          1,
          1,
          6,
          1,
          1,
          1,
          6,
          6,
          1,
          4,
          4,
          1,
          2,
          7,
          2,
          1,
          3,
          3,
          1,
          2,
          5,
          1,
          9,
          1,
          1,
          1,
          4,
          1,
          1,
          5,
          9,
          13,
          7,
          17,
          8,
          5,
          1,
          1,
          10,
          4,
          9,
          2,
          2,
          2,
          3,
          5,
          2,
          3,
          30,
          13,
          1,
          7,
          5,
          13,
          3,
          1,
          1,
          1,
          17,
          1,
          5,
          2,
          2,
          6,
          5,
          5,
          4,
          7,
          2,
          4,
          1,
          1,
          2,
          5,
          2,
          1,
          1,
          5,
          7,
          1,
          2,
          3,
          1,
          1,
          8,
          1,
          1,
          1,
          1,
          1,
          1,
          1,
          1,
          2,
          4,
          3,
          1,
          1,
          2,
          1,
          3,
          3,
          1,
          1,
          2,
          1,
          5,
          1,
          3,
          1,
          4,
          2,
          3,
          2,
          8,
          16,
          1,
          4,
          1,
          3,
          4,
          1,
          1,
          4,
          5,
          4,
          1,
          1,
          2,
          2,
          2,
          3,
          4,
          3,
          4,
          1,
          5,
          4,
          8,
          5,
          5,
          3,
          1,
          7,
          6,
          1,
          8,
          9,
          2,
          2,
          2,
          2,
          11,
          8,
          17,
          2,
          14,
          1,
          9,
          1,
          3,
          1,
          1,
          4,
          3,
          5,
          2,
          1,
          3,
          2,
          2,
          3,
          1,
          4,
          1,
          4,
          5,
          3,
          2,
          1,
          1,
          4,
          3,
          4,
          3,
          3,
          1,
          1,
          3,
          7,
          3,
          15,
          1,
          7,
          1,
          5,
          1,
          3,
          2,
          3,
          2,
          3,
          3,
          2,
          1,
          1,
          1,
          9,
          5,
          9,
          5,
          2,
          1,
          1,
          2,
          2,
          14,
          3,
          7,
          3,
          7,
          1,
          4,
          3,
          8,
          3,
          3,
          6,
          8,
          1,
          3,
          2,
          2,
          3,
          4,
          1,
          9,
          1,
          5,
          1,
          1,
          3,
          3,
          7,
          1,
          4,
          20,
          3,
          2,
          2,
          1,
          1,
          1,
          1,
          1,
          36,
          1,
          1,
          2,
          8,
          1,
          14,
          1,
          1,
          2,
          3,
          15,
          5,
          6,
          4,
          1,
          1,
          10,
          4,
          5,
          1,
          1,
          1,
          1,
          1,
          1,
          1,
          13,
          9,
          11,
          1,
          10,
          15,
          3,
          15,
          13,
          2,
          5,
          6,
          3,
          4,
          6,
          6,
          2,
          5,
          4,
          3,
          4,
          3,
          10,
          1,
          1,
          3,
          3,
          1,
          2,
          1,
          7,
          2,
          14,
          4,
          1,
          9,
          5,
          5,
          1,
          2,
          33,
          1,
          3,
          1,
          1,
          1,
          1,
          1,
          1,
          1,
          2,
          19,
          3,
          1,
          2,
          5,
          15,
          3,
          4,
          2,
          6,
          1,
          5,
          1,
          2,
          5,
          3,
          11,
          4,
          11,
          7,
          2,
          7,
          14,
          3,
          2,
          2,
          3,
          2,
          1,
          1,
          1,
          7,
          5,
          8,
          1,
          1,
          5,
          1,
          2,
          2,
          4,
          3,
          8,
          3,
          2,
          26,
          1,
          1,
          1,
          14,
          1,
          1,
          1,
          1,
          1,
          2,
          3,
          9,
          9,
          4,
          5,
          1,
          2,
          7,
          1,
          9,
          1,
          9,
          1,
          5,
          3,
          8,
          1,
          1,
          13,
          5,
          2,
          2,
          2,
          1,
          4,
          11,
          3,
          1,
          5,
          1,
          3,
          9,
          8,
          9,
          2,
          1,
          2,
          1,
          1,
          2,
          1,
          2,
          2,
          1,
          1,
          2,
          3,
          4,
          3,
          2,
          7,
          1,
          3,
          3,
          6,
          8,
          4,
          7,
          9,
          1,
          1,
          1,
          18,
          1,
          35,
          11,
          3,
          2,
          2,
          2,
          2,
          1,
          2,
          1,
          14,
          1,
          1,
          5,
          1,
          2,
          2,
          2,
          12,
          3,
          5,
          7,
          1,
          1,
          7,
          9,
          4,
          1,
          1,
          5,
          1,
          1,
          1,
          1,
          2,
          1,
          3,
          1,
          5,
          4,
          1,
          1,
          1,
          6,
          1,
          3,
          3,
          1,
          6,
          4,
          5,
          4,
          3,
          27,
          3,
          1,
          3,
          1,
          9,
          3,
          6,
          12,
          2,
          3,
          1,
          1,
          4,
          2,
          2,
          3,
          25,
          6,
          2,
          1,
          3,
          3,
          6,
          2,
          1,
          1,
          4,
          18,
          3,
          1,
          6,
          1,
          4,
          1,
          5,
          9,
          4,
          6,
          4,
          4,
          21,
          1,
          1,
          5,
          5,
          5,
          5,
          4,
          13,
          1,
          1,
          1,
          4,
          2,
          14,
          4,
          2,
          1,
          5,
          2,
          13,
          12,
          1,
          2,
          10,
          2,
          1,
          1,
          1,
          1,
          4,
          4,
          2,
          1,
          1,
          2,
          2,
          15,
          1,
          2,
          1,
          1,
          4,
          2,
          7,
          23,
          1,
          1,
          4,
          1,
          2,
          1,
          1,
          4,
          1,
          1,
          3,
          1,
          8,
          3,
          4,
          5,
          7,
          4,
          1,
          11,
          8,
          1,
          10,
          8,
          2,
          5,
          1,
          1,
          4,
          11,
          1,
          1,
          1,
          1,
          1,
          1,
          1,
          2,
          1,
          5,
          1,
          22,
          2,
          2,
          4,
          1,
          2,
          1,
          2,
          1,
          2,
          1,
          1,
          1,
          2,
          4,
          11,
          2,
          1,
          2,
          1,
          1,
          2,
          4,
          5,
          11,
          1,
          1,
          2,
          1,
          1,
          1,
          1,
          1,
          6,
          6,
          2,
          26,
          5,
          1,
          2,
          1,
          2,
          13,
          5,
          3,
          1,
          1,
          24,
          5,
          3,
          1,
          4,
          1,
          1,
          1,
          1,
          7,
          1,
          1,
          1,
          1,
          1,
          1,
          1,
          1,
          3,
          4,
          6,
          10,
          1,
          3,
          1,
          3,
          2,
          3,
          1,
          5,
          2,
          2,
          2,
          6,
          4,
          4,
          9,
          2,
          3,
          1,
          1,
          2,
          3,
          10,
          3,
          2,
          2,
          4,
          3,
          6,
          1,
          3,
          8,
          8,
          1,
          1,
          1,
          2,
          2,
          7,
          2,
          1,
          3,
          3,
          8,
          3,
          1,
          1,
          22,
          1,
          9,
          1,
          2,
          2,
          1,
          6,
          2,
          2,
          2,
          1,
          4,
          1,
          7,
          8,
          3,
          2,
          3,
          2,
          3,
          6,
          3,
          2,
          2,
          1,
          3,
          3,
          1,
          1,
          1,
          1,
          1,
          1,
          4,
          2,
          2,
          12,
          2,
          5,
          2,
          11,
          4,
          2,
          7,
          3,
          1,
          3,
          1,
          1,
          1,
          4,
          3,
          2,
          6,
          2,
          2,
          7,
          1,
          13,
          15,
          1,
          2,
          3,
          1,
          1,
          1,
          1,
          2,
          2,
          2,
          1,
          2,
          1,
          1,
          3,
          1,
          6,
          5,
          3,
          6,
          2,
          7,
          8,
          3,
          1,
          2,
          3,
          5,
          3,
          2,
          2,
          5,
          1,
          1,
          3,
          3,
          9,
          3,
          5,
          2,
          1,
          2,
          1,
          3,
          1,
          1,
          4,
          2,
          5,
          2,
          3,
          1,
          1,
          3,
          4,
          12,
          1,
          1,
          1,
          7,
          6,
          4,
          4,
          2,
          7,
          3,
          1,
          2,
          1,
          6,
          4,
          12,
          6,
          3,
          3,
          3,
          3,
          4,
          2,
          5,
          1,
          4,
          2,
          2,
          2,
          8,
          3,
          2,
          2,
          3,
          9,
          2,
          5,
          2,
          7,
          4
         ],
         "xbins": {
          "end": 200,
          "size": 2,
          "start": 10
         }
        }
       ],
       "layout": {
        "bargap": 0.2,
        "template": {
         "data": {
          "bar": [
           {
            "error_x": {
             "color": "#2a3f5f"
            },
            "error_y": {
             "color": "#2a3f5f"
            },
            "marker": {
             "line": {
              "color": "#E5ECF6",
              "width": 0.5
             }
            },
            "type": "bar"
           }
          ],
          "barpolar": [
           {
            "marker": {
             "line": {
              "color": "#E5ECF6",
              "width": 0.5
             }
            },
            "type": "barpolar"
           }
          ],
          "carpet": [
           {
            "aaxis": {
             "endlinecolor": "#2a3f5f",
             "gridcolor": "white",
             "linecolor": "white",
             "minorgridcolor": "white",
             "startlinecolor": "#2a3f5f"
            },
            "baxis": {
             "endlinecolor": "#2a3f5f",
             "gridcolor": "white",
             "linecolor": "white",
             "minorgridcolor": "white",
             "startlinecolor": "#2a3f5f"
            },
            "type": "carpet"
           }
          ],
          "choropleth": [
           {
            "colorbar": {
             "outlinewidth": 0,
             "ticks": ""
            },
            "type": "choropleth"
           }
          ],
          "contour": [
           {
            "colorbar": {
             "outlinewidth": 0,
             "ticks": ""
            },
            "colorscale": [
             [
              0,
              "#0d0887"
             ],
             [
              0.1111111111111111,
              "#46039f"
             ],
             [
              0.2222222222222222,
              "#7201a8"
             ],
             [
              0.3333333333333333,
              "#9c179e"
             ],
             [
              0.4444444444444444,
              "#bd3786"
             ],
             [
              0.5555555555555556,
              "#d8576b"
             ],
             [
              0.6666666666666666,
              "#ed7953"
             ],
             [
              0.7777777777777778,
              "#fb9f3a"
             ],
             [
              0.8888888888888888,
              "#fdca26"
             ],
             [
              1,
              "#f0f921"
             ]
            ],
            "type": "contour"
           }
          ],
          "contourcarpet": [
           {
            "colorbar": {
             "outlinewidth": 0,
             "ticks": ""
            },
            "type": "contourcarpet"
           }
          ],
          "heatmap": [
           {
            "colorbar": {
             "outlinewidth": 0,
             "ticks": ""
            },
            "colorscale": [
             [
              0,
              "#0d0887"
             ],
             [
              0.1111111111111111,
              "#46039f"
             ],
             [
              0.2222222222222222,
              "#7201a8"
             ],
             [
              0.3333333333333333,
              "#9c179e"
             ],
             [
              0.4444444444444444,
              "#bd3786"
             ],
             [
              0.5555555555555556,
              "#d8576b"
             ],
             [
              0.6666666666666666,
              "#ed7953"
             ],
             [
              0.7777777777777778,
              "#fb9f3a"
             ],
             [
              0.8888888888888888,
              "#fdca26"
             ],
             [
              1,
              "#f0f921"
             ]
            ],
            "type": "heatmap"
           }
          ],
          "heatmapgl": [
           {
            "colorbar": {
             "outlinewidth": 0,
             "ticks": ""
            },
            "colorscale": [
             [
              0,
              "#0d0887"
             ],
             [
              0.1111111111111111,
              "#46039f"
             ],
             [
              0.2222222222222222,
              "#7201a8"
             ],
             [
              0.3333333333333333,
              "#9c179e"
             ],
             [
              0.4444444444444444,
              "#bd3786"
             ],
             [
              0.5555555555555556,
              "#d8576b"
             ],
             [
              0.6666666666666666,
              "#ed7953"
             ],
             [
              0.7777777777777778,
              "#fb9f3a"
             ],
             [
              0.8888888888888888,
              "#fdca26"
             ],
             [
              1,
              "#f0f921"
             ]
            ],
            "type": "heatmapgl"
           }
          ],
          "histogram": [
           {
            "marker": {
             "colorbar": {
              "outlinewidth": 0,
              "ticks": ""
             }
            },
            "type": "histogram"
           }
          ],
          "histogram2d": [
           {
            "colorbar": {
             "outlinewidth": 0,
             "ticks": ""
            },
            "colorscale": [
             [
              0,
              "#0d0887"
             ],
             [
              0.1111111111111111,
              "#46039f"
             ],
             [
              0.2222222222222222,
              "#7201a8"
             ],
             [
              0.3333333333333333,
              "#9c179e"
             ],
             [
              0.4444444444444444,
              "#bd3786"
             ],
             [
              0.5555555555555556,
              "#d8576b"
             ],
             [
              0.6666666666666666,
              "#ed7953"
             ],
             [
              0.7777777777777778,
              "#fb9f3a"
             ],
             [
              0.8888888888888888,
              "#fdca26"
             ],
             [
              1,
              "#f0f921"
             ]
            ],
            "type": "histogram2d"
           }
          ],
          "histogram2dcontour": [
           {
            "colorbar": {
             "outlinewidth": 0,
             "ticks": ""
            },
            "colorscale": [
             [
              0,
              "#0d0887"
             ],
             [
              0.1111111111111111,
              "#46039f"
             ],
             [
              0.2222222222222222,
              "#7201a8"
             ],
             [
              0.3333333333333333,
              "#9c179e"
             ],
             [
              0.4444444444444444,
              "#bd3786"
             ],
             [
              0.5555555555555556,
              "#d8576b"
             ],
             [
              0.6666666666666666,
              "#ed7953"
             ],
             [
              0.7777777777777778,
              "#fb9f3a"
             ],
             [
              0.8888888888888888,
              "#fdca26"
             ],
             [
              1,
              "#f0f921"
             ]
            ],
            "type": "histogram2dcontour"
           }
          ],
          "mesh3d": [
           {
            "colorbar": {
             "outlinewidth": 0,
             "ticks": ""
            },
            "type": "mesh3d"
           }
          ],
          "parcoords": [
           {
            "line": {
             "colorbar": {
              "outlinewidth": 0,
              "ticks": ""
             }
            },
            "type": "parcoords"
           }
          ],
          "pie": [
           {
            "automargin": true,
            "type": "pie"
           }
          ],
          "scatter": [
           {
            "marker": {
             "colorbar": {
              "outlinewidth": 0,
              "ticks": ""
             }
            },
            "type": "scatter"
           }
          ],
          "scatter3d": [
           {
            "line": {
             "colorbar": {
              "outlinewidth": 0,
              "ticks": ""
             }
            },
            "marker": {
             "colorbar": {
              "outlinewidth": 0,
              "ticks": ""
             }
            },
            "type": "scatter3d"
           }
          ],
          "scattercarpet": [
           {
            "marker": {
             "colorbar": {
              "outlinewidth": 0,
              "ticks": ""
             }
            },
            "type": "scattercarpet"
           }
          ],
          "scattergeo": [
           {
            "marker": {
             "colorbar": {
              "outlinewidth": 0,
              "ticks": ""
             }
            },
            "type": "scattergeo"
           }
          ],
          "scattergl": [
           {
            "marker": {
             "colorbar": {
              "outlinewidth": 0,
              "ticks": ""
             }
            },
            "type": "scattergl"
           }
          ],
          "scattermapbox": [
           {
            "marker": {
             "colorbar": {
              "outlinewidth": 0,
              "ticks": ""
             }
            },
            "type": "scattermapbox"
           }
          ],
          "scatterpolar": [
           {
            "marker": {
             "colorbar": {
              "outlinewidth": 0,
              "ticks": ""
             }
            },
            "type": "scatterpolar"
           }
          ],
          "scatterpolargl": [
           {
            "marker": {
             "colorbar": {
              "outlinewidth": 0,
              "ticks": ""
             }
            },
            "type": "scatterpolargl"
           }
          ],
          "scatterternary": [
           {
            "marker": {
             "colorbar": {
              "outlinewidth": 0,
              "ticks": ""
             }
            },
            "type": "scatterternary"
           }
          ],
          "surface": [
           {
            "colorbar": {
             "outlinewidth": 0,
             "ticks": ""
            },
            "colorscale": [
             [
              0,
              "#0d0887"
             ],
             [
              0.1111111111111111,
              "#46039f"
             ],
             [
              0.2222222222222222,
              "#7201a8"
             ],
             [
              0.3333333333333333,
              "#9c179e"
             ],
             [
              0.4444444444444444,
              "#bd3786"
             ],
             [
              0.5555555555555556,
              "#d8576b"
             ],
             [
              0.6666666666666666,
              "#ed7953"
             ],
             [
              0.7777777777777778,
              "#fb9f3a"
             ],
             [
              0.8888888888888888,
              "#fdca26"
             ],
             [
              1,
              "#f0f921"
             ]
            ],
            "type": "surface"
           }
          ],
          "table": [
           {
            "cells": {
             "fill": {
              "color": "#EBF0F8"
             },
             "line": {
              "color": "white"
             }
            },
            "header": {
             "fill": {
              "color": "#C8D4E3"
             },
             "line": {
              "color": "white"
             }
            },
            "type": "table"
           }
          ]
         },
         "layout": {
          "annotationdefaults": {
           "arrowcolor": "#2a3f5f",
           "arrowhead": 0,
           "arrowwidth": 1
          },
          "coloraxis": {
           "colorbar": {
            "outlinewidth": 0,
            "ticks": ""
           }
          },
          "colorscale": {
           "diverging": [
            [
             0,
             "#8e0152"
            ],
            [
             0.1,
             "#c51b7d"
            ],
            [
             0.2,
             "#de77ae"
            ],
            [
             0.3,
             "#f1b6da"
            ],
            [
             0.4,
             "#fde0ef"
            ],
            [
             0.5,
             "#f7f7f7"
            ],
            [
             0.6,
             "#e6f5d0"
            ],
            [
             0.7,
             "#b8e186"
            ],
            [
             0.8,
             "#7fbc41"
            ],
            [
             0.9,
             "#4d9221"
            ],
            [
             1,
             "#276419"
            ]
           ],
           "sequential": [
            [
             0,
             "#0d0887"
            ],
            [
             0.1111111111111111,
             "#46039f"
            ],
            [
             0.2222222222222222,
             "#7201a8"
            ],
            [
             0.3333333333333333,
             "#9c179e"
            ],
            [
             0.4444444444444444,
             "#bd3786"
            ],
            [
             0.5555555555555556,
             "#d8576b"
            ],
            [
             0.6666666666666666,
             "#ed7953"
            ],
            [
             0.7777777777777778,
             "#fb9f3a"
            ],
            [
             0.8888888888888888,
             "#fdca26"
            ],
            [
             1,
             "#f0f921"
            ]
           ],
           "sequentialminus": [
            [
             0,
             "#0d0887"
            ],
            [
             0.1111111111111111,
             "#46039f"
            ],
            [
             0.2222222222222222,
             "#7201a8"
            ],
            [
             0.3333333333333333,
             "#9c179e"
            ],
            [
             0.4444444444444444,
             "#bd3786"
            ],
            [
             0.5555555555555556,
             "#d8576b"
            ],
            [
             0.6666666666666666,
             "#ed7953"
            ],
            [
             0.7777777777777778,
             "#fb9f3a"
            ],
            [
             0.8888888888888888,
             "#fdca26"
            ],
            [
             1,
             "#f0f921"
            ]
           ]
          },
          "colorway": [
           "#636efa",
           "#EF553B",
           "#00cc96",
           "#ab63fa",
           "#FFA15A",
           "#19d3f3",
           "#FF6692",
           "#B6E880",
           "#FF97FF",
           "#FECB52"
          ],
          "font": {
           "color": "#2a3f5f"
          },
          "geo": {
           "bgcolor": "white",
           "lakecolor": "white",
           "landcolor": "#E5ECF6",
           "showlakes": true,
           "showland": true,
           "subunitcolor": "white"
          },
          "hoverlabel": {
           "align": "left"
          },
          "hovermode": "closest",
          "mapbox": {
           "style": "light"
          },
          "paper_bgcolor": "white",
          "plot_bgcolor": "#E5ECF6",
          "polar": {
           "angularaxis": {
            "gridcolor": "white",
            "linecolor": "white",
            "ticks": ""
           },
           "bgcolor": "#E5ECF6",
           "radialaxis": {
            "gridcolor": "white",
            "linecolor": "white",
            "ticks": ""
           }
          },
          "scene": {
           "xaxis": {
            "backgroundcolor": "#E5ECF6",
            "gridcolor": "white",
            "gridwidth": 2,
            "linecolor": "white",
            "showbackground": true,
            "ticks": "",
            "zerolinecolor": "white"
           },
           "yaxis": {
            "backgroundcolor": "#E5ECF6",
            "gridcolor": "white",
            "gridwidth": 2,
            "linecolor": "white",
            "showbackground": true,
            "ticks": "",
            "zerolinecolor": "white"
           },
           "zaxis": {
            "backgroundcolor": "#E5ECF6",
            "gridcolor": "white",
            "gridwidth": 2,
            "linecolor": "white",
            "showbackground": true,
            "ticks": "",
            "zerolinecolor": "white"
           }
          },
          "shapedefaults": {
           "line": {
            "color": "#2a3f5f"
           }
          },
          "ternary": {
           "aaxis": {
            "gridcolor": "white",
            "linecolor": "white",
            "ticks": ""
           },
           "baxis": {
            "gridcolor": "white",
            "linecolor": "white",
            "ticks": ""
           },
           "bgcolor": "#E5ECF6",
           "caxis": {
            "gridcolor": "white",
            "linecolor": "white",
            "ticks": ""
           }
          },
          "title": {
           "x": 0.05
          },
          "xaxis": {
           "automargin": true,
           "gridcolor": "white",
           "linecolor": "white",
           "ticks": "",
           "title": {
            "standoff": 15
           },
           "zerolinecolor": "white",
           "zerolinewidth": 2
          },
          "yaxis": {
           "automargin": true,
           "gridcolor": "white",
           "linecolor": "white",
           "ticks": "",
           "title": {
            "standoff": 15
           },
           "zerolinecolor": "white",
           "zerolinewidth": 2
          }
         }
        },
        "title": {
         "text": "Biểu đồ phân phối số sao đánh giá mỗi sản phẩm (Xét tối đa là 200 đánh giá)"
        },
        "xaxis": {
         "title": {
          "text": "Số lượt đánh giá"
         }
        },
        "yaxis": {
         "title": {
          "text": "Số lượng sách"
         }
        }
       }
      },
      "text/html": "<div>\n        \n        \n            <div id=\"5b1ed70a-feab-4cb3-afbd-4a716f45a0a8\" class=\"plotly-graph-div\" style=\"height:525px; width:100%;\"></div>\n            <script type=\"text/javascript\">\n                require([\"plotly\"], function(Plotly) {\n                    window.PLOTLYENV=window.PLOTLYENV || {};\n                    \n                if (document.getElementById(\"5b1ed70a-feab-4cb3-afbd-4a716f45a0a8\")) {\n                    Plotly.newPlot(\n                        '5b1ed70a-feab-4cb3-afbd-4a716f45a0a8',\n                        [{\"name\": \"Ratings\", \"type\": \"histogram\", \"x\": [6, 2, 1, 2, 2, 17, 3, 1, 2, 2, 17, 7, 2, 4, 1, 2, 12, 4, 2, 4, 1, 2, 1, 8, 1, 2, 1, 1, 2, 5, 6, 3, 1, 16, 8, 14, 1, 4, 2, 2, 2, 3, 2, 1, 1, 2, 3, 1, 2, 2, 1, 4, 7, 1, 2, 1, 3, 4, 4, 6, 6, 7, 2, 4, 6, 1, 1, 2, 8, 1, 3, 13, 6, 2, 6, 1, 1, 1, 1, 10, 3, 2, 5, 5, 5, 1, 1, 3, 2, 8, 2, 1, 1, 12, 2, 3, 7, 7, 1, 4, 2, 4, 2, 2, 2, 1, 5, 6, 1, 2, 2, 3, 2, 2, 8, 7, 2, 3, 3, 2, 10, 1, 11, 5, 1, 4, 6, 1, 3, 14, 1, 2, 1, 5, 3, 5, 9, 2, 1, 3, 10, 11, 15, 1, 2, 1, 3, 8, 11, 11, 16, 2, 3, 2, 10, 4, 1, 2, 3, 1, 5, 2, 4, 2, 9, 8, 14, 2, 2, 1, 7, 12, 1, 5, 2, 1, 4, 2, 1, 1, 3, 1, 4, 4, 3, 2, 5, 2, 16, 2, 6, 14, 9, 10, 8, 2, 2, 2, 1, 3, 1, 4, 4, 18, 1, 13, 3, 4, 4, 4, 4, 5, 3, 3, 3, 3, 4, 11, 16, 2, 3, 4, 3, 8, 11, 1, 8, 7, 1, 2, 4, 2, 6, 5, 6, 1, 4, 1, 2, 7, 1, 1, 3, 1, 10, 2, 1, 1, 1, 1, 1, 2, 3, 3, 1, 3, 1, 3, 1, 10, 5, 5, 3, 2, 1, 3, 1, 3, 5, 2, 8, 4, 5, 9, 14, 6, 7, 7, 7, 5, 1, 4, 11, 2, 9, 3, 1, 2, 3, 8, 20, 6, 8, 8, 8, 8, 5, 7, 5, 9, 1, 7, 2, 5, 4, 5, 5, 5, 4, 3, 8, 4, 8, 4, 7, 7, 5, 3, 1, 4, 4, 3, 3, 1, 1, 3, 1, 1, 3, 4, 8, 9, 13, 5, 6, 8, 9, 8, 8, 2, 5, 1, 12, 3, 7, 5, 9, 5, 3, 7, 1, 9, 3, 2, 4, 4, 2, 5, 6, 2, 2, 3, 14, 4, 1, 10, 3, 15, 8, 3, 1, 6, 1, 14, 12, 2, 1, 7, 1, 1, 5, 2, 2, 1, 3, 8, 1, 3, 5, 4, 10, 1, 10, 6, 1, 5, 4, 3, 3, 7, 4, 1, 1, 6, 1, 3, 8, 3, 4, 3, 1, 1, 5, 1, 3, 7, 2, 2, 3, 11, 17, 4, 2, 1, 11, 5, 2, 4, 2, 1, 7, 7, 2, 2, 1, 6, 1, 2, 1, 1, 3, 4, 1, 2, 4, 1, 1, 1, 1, 4, 3, 3, 2, 1, 2, 1, 1, 2, 7, 1, 4, 3, 3, 1, 3, 1, 12, 1, 1, 3, 1, 12, 4, 1, 1, 9, 1, 2, 1, 21, 1, 13, 3, 7, 1, 5, 1, 1, 2, 5, 1, 1, 1, 1, 1, 2, 1, 1, 1, 18, 9, 12, 17, 10, 13, 1, 3, 1, 5, 3, 1, 1, 10, 1, 3, 5, 2, 4, 4, 3, 1, 1, 1, 1, 4, 2, 1, 1, 3, 1, 1, 5, 6, 2, 2, 2, 2, 2, 4, 8, 3, 3, 2, 3, 27, 5, 2, 5, 3, 1, 1, 3, 4, 6, 4, 5, 10, 8, 5, 5, 4, 5, 5, 2, 1, 1, 1, 2, 1, 1, 2, 2, 3, 2, 2, 2, 5, 2, 3, 9, 6, 1, 2, 10, 10, 2, 1, 2, 3, 1, 5, 7, 1, 4, 5, 1, 5, 1, 5, 2, 1, 10, 1, 1, 4, 2, 4, 1, 2, 3, 2, 2, 1, 5, 1, 3, 2, 3, 4, 2, 2, 3, 2, 4, 1, 3, 2, 1, 1, 1, 1, 1, 2, 1, 5, 3, 2, 6, 5, 1, 1, 5, 1, 1, 1, 1, 1, 1, 1, 12, 2, 1, 1, 1, 1, 2, 3, 2, 7, 5, 1, 2, 7, 2, 3, 2, 1, 3, 3, 2, 4, 5, 3, 1, 3, 1, 9, 5, 14, 3, 19, 1, 8, 1, 1, 1, 5, 13, 7, 1, 2, 2, 16, 1, 2, 6, 2, 3, 3, 2, 12, 3, 3, 7, 19, 8, 5, 2, 15, 10, 12, 5, 8, 1, 1, 2, 16, 10, 4, 6, 9, 1, 1, 7, 5, 12, 2, 9, 2, 10, 4, 2, 14, 12, 25, 11, 2, 2, 1, 5, 1, 1, 1, 1, 4, 1, 1, 1, 1, 19, 3, 7, 13, 12, 12, 7, 14, 11, 2, 6, 6, 4, 5, 1, 10, 2, 2, 1, 5, 4, 1, 5, 3, 3, 12, 2, 4, 2, 2, 9, 4, 3, 12, 23, 1, 8, 7, 4, 1, 7, 1, 1, 6, 6, 15, 1, 7, 6, 6, 4, 5, 2, 2, 1, 5, 1, 11, 7, 10, 6, 1, 3, 1, 9, 1, 1, 1, 5, 4, 7, 7, 3, 10, 6, 6, 1, 1, 3, 1, 5, 6, 2, 3, 3, 5, 2, 1, 1, 1, 5, 4, 1, 14, 9, 4, 2, 8, 1, 5, 1, 5, 3, 1, 10, 5, 1, 1, 1, 8, 12, 8, 1, 1, 1, 3, 3, 1, 1, 1, 3, 1, 9, 1, 1, 1, 1, 12, 3, 11, 12, 11, 1, 6, 2, 3, 1, 1, 1, 1, 3, 1, 4, 1, 2, 1, 4, 2, 1, 11, 10, 12, 1, 3, 2, 3, 2, 5, 3, 2, 2, 5, 3, 4, 12, 5, 1, 1, 2, 1, 4, 12, 3, 19, 1, 5, 1, 3, 8, 1, 6, 2, 2, 11, 11, 14, 5, 4, 1, 1, 1, 1, 1, 1, 1, 1, 1, 1, 1, 1, 16, 1, 1, 2, 3, 3, 3, 16, 5, 2, 7, 4, 1, 14, 11, 1, 1, 11, 3, 1, 1, 3, 8, 1, 1, 6, 4, 4, 1, 1, 13, 13, 4, 2, 2, 5, 2, 1, 1, 4, 1, 3, 7, 1, 2, 6, 7, 4, 3, 2, 5, 4, 4, 4, 3, 1, 6, 6, 6, 2, 12, 5, 10, 1, 11, 1, 1, 2, 1, 1, 3, 2, 3, 1, 1, 1, 8, 7, 5, 11, 1, 7, 3, 3, 1, 1, 2, 3, 5, 1, 6, 5, 4, 7, 1, 12, 4, 1, 2, 2, 1, 1, 2, 1, 3, 3, 11, 1, 6, 4, 4, 5, 1, 7, 1, 1, 1, 1, 1, 2, 1, 1, 1, 1, 2, 2, 3, 1, 1, 2, 2, 2, 1, 1, 2, 3, 2, 1, 10, 4, 1, 1, 4, 8, 5, 1, 6, 4, 2, 3, 1, 2, 2, 7, 3, 1, 7, 1, 2, 1, 11, 2, 2, 1, 1, 1, 2, 4, 5, 1, 2, 1, 1, 3, 1, 6, 1, 4, 7, 3, 7, 3, 5, 2, 1, 1, 1, 3, 1, 1, 3, 1, 3, 4, 17, 1, 1, 1, 5, 2, 6, 2, 1, 1, 1, 4, 5, 4, 4, 5, 6, 3, 10, 1, 7, 7, 1, 3, 8, 5, 4, 6, 14, 1, 4, 7, 6, 13, 4, 2, 13, 2, 1, 1, 1, 3, 6, 4, 1, 2, 3, 1, 2, 6, 5, 4, 3, 6, 4, 7, 2, 2, 13, 22, 8, 11, 1, 1, 2, 3, 7, 2, 1, 1, 1, 5, 1, 1, 2, 6, 11, 1, 4, 1, 12, 2, 2, 8, 1, 1, 1, 5, 1, 4, 1, 10, 1, 2, 1, 1, 1, 1, 2, 11, 15, 4, 2, 14, 1, 3, 4, 1, 4, 9, 4, 2, 7, 5, 2, 12, 11, 18, 12, 2, 14, 11, 2, 11, 6, 4, 3, 6, 1, 5, 7, 4, 7, 2, 4, 3, 2, 4, 6, 8, 2, 5, 19, 3, 1, 2, 1, 1, 8, 3, 1, 1, 1, 2, 2, 1, 8, 6, 4, 6, 2, 1, 1, 9, 1, 1, 4, 4, 2, 1, 1, 10, 5, 2, 2, 3, 13, 3, 3, 4, 5, 7, 6, 9, 2, 1, 3, 2, 1, 3, 8, 9, 7, 4, 5, 2, 2, 8, 2, 4, 1, 11, 5, 6, 1, 1, 1, 4, 1, 3, 3, 2, 3, 1, 1, 4, 3, 2, 1, 3, 3, 1, 5, 2, 1, 5, 4, 4, 5, 2, 7, 2, 3, 1, 1, 4, 1, 1, 5, 2, 1, 1, 1, 2, 1, 1, 1, 1, 1, 3, 2, 7, 4, 4, 1, 3, 2, 1, 7, 6, 1, 1, 4, 7, 1, 3, 4, 2, 4, 2, 3, 9, 1, 1, 1, 3, 1, 1, 1, 5, 1, 3, 2, 2, 2, 3, 3, 6, 2, 2, 2, 1, 5, 2, 3, 2, 5, 4, 3, 4, 4, 4, 2, 7, 1, 5, 2, 1, 1, 5, 1, 7, 1, 5, 3, 4, 6, 6, 4, 4, 1, 3, 1, 1, 2, 11, 1, 1, 1, 1, 1, 1, 3, 4, 10, 1, 2, 1, 1, 1, 7, 1, 1, 16, 14, 1, 5, 1, 2, 2, 6, 5, 1, 2, 2, 1, 6, 3, 1, 1, 1, 1, 1, 5, 1, 2, 2, 2, 5, 3, 6, 4, 4, 5, 1, 8, 1, 1, 1, 8, 1, 1, 1, 2, 1, 8, 2, 2, 2, 3, 5, 6, 2, 5, 3, 15, 1, 1, 5, 5, 4, 4, 1, 1, 1, 1, 5, 9, 1, 8, 1, 6, 4, 1, 1, 1, 6, 5, 1, 1, 1, 8, 1, 6, 11, 6, 1, 7, 1, 5, 9, 1, 3, 1, 2, 4, 5, 5, 4, 3, 1, 1, 1, 9, 1, 3, 1, 2, 3, 5, 13, 1, 2, 1, 9, 1, 1, 3, 7, 1, 1, 1, 1, 4, 3, 3, 1, 6, 13, 3, 5, 1, 1, 1, 1, 11, 2, 3, 9, 1, 5, 4, 2, 5, 1, 3, 2, 3, 1, 1, 1, 1, 17, 1, 4, 1, 2, 14, 3, 1, 9, 13, 13, 2, 5, 7, 5, 6, 2, 4, 6, 5, 2, 4, 4, 1, 9, 3, 3, 2, 3, 2, 5, 1, 1, 2, 3, 2, 3, 8, 3, 5, 4, 1, 1, 1, 6, 5, 10, 13, 3, 1, 19, 5, 9, 8, 9, 3, 4, 2, 2, 4, 3, 11, 3, 1, 3, 2, 5, 2, 1, 7, 4, 2, 6, 1, 1, 2, 3, 2, 12, 2, 1, 2, 1, 1, 4, 7, 3, 1, 2, 12, 7, 1, 1, 3, 1, 8, 2, 15, 1, 2, 2, 7, 4, 8, 6, 3, 2, 2, 3, 1, 3, 4, 2, 4, 3, 2, 3, 1, 5, 8, 1, 4, 2, 1, 3, 2, 1, 13, 1, 3, 1, 2, 1, 1, 1, 1, 1, 10, 8, 1, 1, 1, 1, 1, 1, 8, 7, 3, 4, 5, 5, 2, 1, 1, 4, 5, 3, 14, 5, 1, 7, 8, 1, 1, 1, 3, 4, 2, 10, 1, 4, 6, 3, 3, 1, 8, 5, 3, 7, 5, 2, 1, 1, 1, 2, 6, 13, 3, 7, 7, 1, 2, 11, 4, 2, 5, 2, 1, 1, 1, 1, 2, 2, 1, 1, 1, 9, 1, 5, 1, 5, 4, 4, 1, 8, 6, 2, 1, 1, 1, 12, 3, 29, 17, 8, 2, 3, 3, 3, 1, 2, 2, 1, 4, 2, 3, 15, 2, 3, 1, 1, 3, 1, 3, 3, 4, 2, 2, 2, 7, 1, 2, 4, 2, 16, 4, 4, 1, 1, 1, 8, 7, 2, 3, 2, 6, 1, 15, 11, 7, 8, 7, 2, 2, 5, 8, 6, 1, 9, 9, 6, 4, 9, 1, 3, 2, 1, 2, 1, 1, 1, 1, 10, 3, 3, 7, 7, 8, 6, 2, 2, 2, 1, 1, 1, 2, 1, 1, 2, 1, 5, 3, 1, 1, 1, 2, 1, 8, 1, 1, 3, 8, 1, 2, 6, 1, 3, 7, 6, 2, 6, 3, 1, 1, 3, 1, 3, 2, 2, 3, 2, 2, 3, 1, 2, 1, 7, 1, 20, 5, 3, 2, 1, 4, 7, 1, 2, 2, 4, 2, 1, 5, 6, 1, 1, 2, 5, 3, 3, 7, 6, 1, 1, 4, 4, 5, 14, 2, 2, 1, 1, 1, 3, 1, 2, 2, 9, 1, 2, 1, 4, 2, 7, 1, 2, 1, 1, 2, 6, 2, 2, 6, 11, 4, 4, 1, 9, 1, 1, 1, 1, 10, 2, 1, 2, 2, 3, 2, 1, 2, 13, 3, 3, 10, 5, 3, 4, 5, 3, 5, 5, 1, 2, 1, 1, 15, 4, 4, 3, 2, 4, 1, 2, 2, 1, 3, 9, 2, 1, 4, 1, 1, 1, 2, 2, 1, 1, 2, 2, 1, 1, 15, 4, 3, 1, 2, 10, 1, 3, 5, 3, 2, 1, 2, 1, 1, 6, 5, 3, 3, 3, 5, 1, 1, 10, 5, 2, 2, 3, 2, 1, 4, 7, 11, 12, 3, 1, 3, 1, 4, 3, 2, 4, 2, 3, 3, 5, 5, 1, 1, 4, 14, 5, 1, 2, 2, 1, 1, 5, 2, 7, 1, 5, 3, 1, 1, 23, 3, 16, 4, 2, 2, 15, 35, 1, 4, 2, 4, 1, 7, 1, 1, 1, 1, 9, 1, 2, 5, 2, 1, 2, 7, 2, 3, 2, 6, 15, 3, 1, 2, 1, 1, 2, 9, 4, 2, 4, 3, 2, 4, 1, 1, 3, 1, 2, 6, 5, 2, 15, 1, 4, 7, 12, 5, 10, 1, 2, 3, 3, 1, 4, 1, 1, 1, 1, 2, 1, 2, 1, 1, 2, 2, 24, 22, 20, 12, 8, 13, 14, 9, 17, 10, 17, 19, 14, 18, 5, 2, 3, 9, 1, 9, 8, 13, 15, 15, 13, 20, 4, 7, 10, 2, 2, 15, 6, 1, 1, 1, 1, 2, 8, 2, 8, 21, 7, 1, 6, 1, 1, 19, 1, 1, 1, 1, 6, 2, 6, 5, 1, 5, 7, 1, 2, 1, 1, 2, 2, 1, 2, 2, 2, 2, 1, 2, 9, 2, 18, 9, 16, 1, 2, 1, 1, 4, 15, 1, 1, 1, 2, 1, 2, 2, 1, 4, 3, 1, 1, 3, 2, 6, 1, 1, 2, 1, 4, 6, 1, 1, 1, 1, 1, 1, 4, 4, 7, 5, 11, 1, 6, 4, 2, 4, 1, 1, 1, 6, 1, 3, 1, 1, 2, 3, 1, 2, 5, 7, 2, 2, 1, 6, 2, 4, 1, 2, 1, 1, 1, 1, 6, 2, 3, 6, 2, 12, 6, 16, 22, 1, 3, 1, 1, 10, 2, 3, 4, 3, 5, 1, 2, 6, 3, 1, 1, 4, 2, 2, 11, 1, 2, 1, 6, 6, 1, 6, 1, 1, 1, 2, 1, 1, 12, 5, 5, 1, 1, 1, 12, 15, 19, 21, 3, 1, 2, 1, 2, 6, 1, 2, 2, 1, 1, 1, 11, 1, 1, 5, 10, 12, 11, 2, 2, 2, 7, 6, 10, 10, 8, 6, 8, 7, 3, 7, 7, 4, 5, 6, 5, 5, 4, 6, 9, 3, 3, 1, 9, 1, 1, 13, 3, 2, 2, 20, 1, 2, 2, 2, 2, 2, 2, 1, 1, 1, 1, 1, 10, 8, 8, 9, 3, 3, 7, 2, 14, 2, 1, 1, 2, 14, 1, 1, 4, 2, 8, 5, 9, 1, 11, 1, 11, 7, 2, 23, 3, 3, 1, 5, 1, 2, 3, 7, 6, 9, 7, 2, 1, 6, 7, 9, 5, 2, 7, 5, 6, 4, 1, 5, 1, 1, 2, 2, 16, 2, 1, 1, 8, 5, 1, 1, 4, 1, 1, 2, 2, 2, 10, 1, 5, 1, 2, 4, 4, 5, 2, 1, 12, 2, 1, 2, 1, 1, 4, 2, 6, 4, 2, 3, 1, 2, 3, 1, 3, 2, 2, 9, 7, 5, 1, 5, 4, 2, 6, 3, 10, 8, 9, 3, 5, 2, 1, 1, 1, 5, 3, 1, 6, 1, 2, 1, 7, 1, 2, 1, 2, 1, 1, 2, 12, 10, 9, 9, 10, 7, 6, 3, 3, 4, 4, 5, 3, 3, 4, 4, 4, 5, 5, 4, 7, 5, 6, 3, 1, 1, 1, 3, 3, 1, 2, 5, 1, 1, 1, 1, 2, 1, 1, 1, 1, 1, 2, 2, 1, 4, 8, 4, 3, 2, 1, 7, 1, 3, 3, 2, 1, 5, 2, 6, 5, 1, 3, 14, 2, 3, 5, 5, 4, 2, 2, 9, 1, 4, 1, 5, 2, 3, 4, 1, 16, 3, 2, 7, 16, 8, 2, 3, 6, 3, 11, 2, 1, 1, 7, 1, 7, 1, 4, 3, 3, 4, 2, 2, 2, 5, 3, 1, 6, 2, 12, 1, 1, 1, 6, 17, 1, 7, 5, 2, 2, 8, 3, 1, 4, 3, 2, 4, 1, 17, 1, 3, 2, 3, 15, 3, 1, 3, 4, 4, 1, 3, 3, 4, 5, 3, 4, 3, 4, 2, 4, 2, 5, 3, 4, 4, 1, 3, 1, 1, 6, 12, 1, 1, 5, 1, 4, 2, 9, 3, 1, 4, 6, 10, 10, 1, 12, 1, 2, 3, 1, 9, 2, 1, 20, 1, 1, 1, 3, 1, 3, 3, 1, 3, 4, 1, 1, 1, 6, 4, 3, 2, 1, 2, 3, 6, 2, 2, 1, 1, 1, 2, 3, 3, 7, 9, 1, 2, 2, 1, 4, 2, 1, 1, 9, 3, 21, 3, 2, 2, 2, 1, 12, 13, 3, 1, 8, 4, 4, 2, 3, 1, 1, 3, 8, 4, 4, 1, 4, 7, 6, 1, 3, 1, 8, 2, 1, 10, 3, 4, 6, 1, 5, 13, 1, 9, 3, 5, 3, 1, 2, 1, 2, 6, 1, 3, 2, 2, 2, 1, 5, 1, 4, 1, 1, 3, 2, 6, 1, 3, 6, 9, 2, 2, 3, 3, 5, 2, 1, 7, 1, 5, 1, 3, 3, 2, 4, 2, 1, 4, 8, 6, 3, 2, 5, 9, 2, 4, 2, 5, 2, 1, 8, 3, 4, 1, 1, 1, 7, 1, 3, 7, 5, 1, 3, 2, 2, 7, 7, 7, 3, 5, 6, 1, 1, 2, 2, 1, 5, 1, 7, 4, 12, 1, 7, 6, 7, 1, 9, 1, 2, 2, 4, 1, 1, 3, 1, 2, 1, 2, 2, 1, 2, 2, 9, 2, 13, 2, 6, 6, 7, 1, 2, 1, 2, 1, 3, 1, 3, 10, 1, 1, 4, 17, 3, 14, 13, 3, 22, 2, 1, 1, 1, 7, 1, 19, 15, 1, 17, 20, 6, 1, 7, 1, 1, 3, 4, 2, 23, 3, 2, 6, 3, 15, 2, 2, 1, 1, 5, 1, 9, 1, 1, 1, 9, 8, 1, 2, 1, 1, 1, 3, 1, 1, 2, 1, 2, 3, 4, 4, 3, 4, 12, 12, 15, 2, 3, 1, 2, 1, 2, 8, 1, 1, 4, 1, 5, 1, 6, 2, 5, 4, 3, 5, 14, 2, 2, 1, 4, 3, 2, 1, 3, 1, 2, 3, 4, 1, 1, 2, 1, 4, 8, 1, 15, 6, 1, 5, 2, 5, 1, 2, 3, 3, 1, 2, 3, 11, 1, 3, 1, 4, 5, 2, 1, 1, 1, 1, 1, 11, 2, 1, 1, 3, 1, 1, 1, 1, 2, 1, 3, 1, 1, 4, 3, 2, 1, 2, 1, 1, 4, 3, 6, 2, 6, 1, 5, 5, 4, 4, 2, 3, 1, 1, 2, 4, 1, 2, 1, 1, 5, 1, 2, 1, 2, 3, 2, 5, 1, 23, 1, 5, 1, 7, 4, 7, 10, 18, 1, 15, 2, 1, 6, 1, 5, 9, 4, 1, 11, 2, 1, 5, 1, 1, 12, 1, 2, 12, 2, 2, 3, 1, 4, 1, 2, 2, 2, 4, 1, 2, 3, 3, 2, 1, 9, 1, 1, 1, 1, 2, 1, 1, 2, 1, 1, 3, 2, 4, 3, 1, 2, 3, 2, 1, 8, 2, 5, 1, 1, 1, 3, 3, 3, 8, 2, 2, 1, 2, 2, 12, 1, 1, 3, 1, 2, 1, 7, 1, 5, 2, 2, 3, 1, 1, 11, 1, 1, 1, 1, 2, 1, 2, 2, 2, 1, 4, 1, 2, 5, 3, 2, 3, 1, 1, 1, 1, 16, 1, 1, 1, 1, 1, 1, 1, 2, 1, 3, 3, 1, 1, 4, 1, 1, 1, 2, 3, 1, 3, 1, 1, 1, 1, 14, 1, 1, 8, 5, 3, 1, 1, 1, 1, 1, 1, 2, 1, 2, 1, 4, 1, 1, 2, 1, 3, 1, 4, 9, 5, 5, 1, 2, 1, 1, 3, 2, 10, 2, 3, 13, 1, 13, 2, 9, 2, 1, 2, 2, 1, 1, 1, 1, 1, 1, 3, 2, 1, 3, 2, 2, 1, 2, 1, 15, 3, 9, 1, 2, 13, 15, 2, 10, 2, 1, 2, 1, 2, 1, 1, 3, 9, 4, 1, 2, 10, 1, 10, 3, 8, 4, 3, 6, 8, 4, 1, 1, 1, 1, 9, 4, 2, 1, 1, 1, 2, 1, 9, 5, 1, 2, 14, 1, 1, 1, 2, 5, 5, 1, 2, 1, 4, 1, 2, 3, 3, 4, 6, 1, 4, 1, 4, 2, 8, 7, 1, 5, 7, 4, 2, 7, 6, 1, 1, 1, 1, 1, 4, 2, 4, 3, 2, 3, 5, 4, 5, 6, 2, 6, 1, 1, 1, 9, 1, 3, 2, 7, 1, 1, 1, 1, 3, 1, 1, 8, 1, 7, 3, 2, 2, 2, 1, 8, 8, 8, 1, 1, 1, 1, 1, 1, 1, 8, 2, 1, 1, 9, 4, 1, 2, 1, 13, 5, 2, 7, 8, 2, 18, 3, 4, 2, 1, 1, 2, 2, 2, 3, 2, 2, 3, 2, 1, 2, 2, 1, 2, 3, 5, 9, 1, 3, 4, 8, 8, 1, 2, 1, 5, 12, 2, 5, 2, 9, 3, 4, 9, 1, 1, 3, 2, 1, 11, 2, 1, 5, 1, 2, 7, 2, 8, 1, 1, 1, 3, 1, 1, 3, 5, 4, 1, 2, 5, 1, 3, 1, 12, 2, 2, 3, 24, 8, 2, 7, 1, 4, 6, 1, 21, 3, 3, 1, 6, 1, 8, 5, 1, 7, 2, 1, 2, 1, 9, 1, 5, 1, 4, 4, 8, 4, 3, 1, 1, 3, 1, 1, 4, 4, 12, 1, 1, 1, 8, 10, 4, 1, 6, 4, 2, 1, 1, 4, 2, 2, 3, 1, 2, 2, 1, 1, 1, 3, 15, 11, 15, 14, 3, 2, 14, 2, 1, 1, 2, 6, 5, 2, 1, 1, 1, 1, 1, 1, 9, 3, 1, 1, 7, 14, 1, 4, 4, 1, 10, 13, 4, 1, 4, 8, 13, 3, 3, 3, 4, 2, 2, 2, 1, 1, 8, 4, 1, 1, 1, 3, 1, 4, 2, 2, 2, 1, 2, 3, 1, 2, 2, 1, 12, 18, 1, 1, 1, 5, 6, 1, 1, 4, 2, 8, 2, 2, 2, 2, 9, 2, 14, 1, 9, 1, 4, 1, 8, 3, 6, 7, 3, 3, 9, 3, 1, 1, 2, 11, 21, 5, 1, 1, 1, 8, 7, 6, 6, 1, 1, 3, 1, 2, 4, 1, 1, 2, 21, 2, 2, 2, 3, 1, 4, 1, 2, 9, 4, 6, 2, 13, 1, 4, 1, 1, 2, 3, 9, 2, 2, 1, 3, 2, 1, 9, 5, 4, 6, 1, 10, 2, 1, 1, 4, 1, 4, 3, 5, 8, 7, 1, 1, 1, 8, 2, 2, 1, 1, 4, 11, 4, 1, 3, 5, 1, 1, 2, 2, 1, 1, 2, 2, 8, 8, 1, 3, 2, 2, 1, 2, 17, 6, 1, 1, 1, 7, 3, 7, 1, 2, 1, 2, 4, 1, 1, 1, 1, 1, 1, 1, 6, 2, 1, 1, 1, 1, 1, 14, 3, 1, 1, 1, 1, 1, 2, 1, 9, 6, 13, 4, 7, 1, 2, 2, 8, 3, 4, 1, 2, 2, 3, 1, 6, 10, 5, 10, 2, 3, 15, 3, 5, 8, 1, 1, 1, 3, 2, 2, 1, 2, 1, 2, 7, 8, 1, 2, 1, 9, 19, 1, 2, 1, 3, 1, 1, 11, 2, 4, 5, 9, 2, 3, 6, 2, 2, 3, 1, 3, 4, 2, 1, 1, 4, 2, 2, 1, 1, 4, 1, 3, 1, 3, 6, 9, 16, 12, 1, 1, 4, 9, 1, 3, 7, 2, 2, 5, 1, 7, 1, 2, 4, 8, 2, 7, 5, 7, 4, 5, 3, 8, 6, 1, 9, 3, 7, 1, 2, 1, 1, 1, 6, 11, 1, 8, 1, 1, 1, 3, 2, 2, 3, 5, 4, 3, 1, 1, 1, 7, 9, 3, 1, 2, 4, 3, 1, 1, 1, 2, 6, 4, 12, 11, 9, 3, 1, 2, 3, 3, 2, 2, 7, 3, 3, 2, 2, 1, 6, 5, 5, 4, 12, 4, 2, 3, 2, 1, 1, 1, 2, 1, 1, 1, 1, 1, 1, 1, 1, 1, 2, 2, 1, 10, 1, 9, 7, 1, 7, 6, 9, 7, 4, 4, 1, 1, 3, 5, 3, 4, 1, 3, 3, 1, 1, 2, 1, 4, 5, 1, 2, 2, 1, 1, 2, 1, 6, 1, 6, 4, 10, 6, 3, 14, 12, 5, 17, 3, 11, 10, 9, 2, 1, 1, 4, 4, 1, 1, 1, 2, 1, 10, 9, 5, 1, 1, 4, 5, 3, 1, 4, 1, 5, 12, 5, 1, 1, 5, 8, 6, 2, 1, 1, 1, 2, 12, 22, 8, 7, 3, 2, 14, 11, 1, 12, 1, 7, 1, 1, 9, 19, 15, 1, 1, 2, 12, 7, 1, 1, 2, 1, 5, 1, 1, 2, 3, 4, 1, 1, 2, 7, 2, 4, 1, 9, 2, 1, 6, 1, 1, 1, 10, 9, 5, 12, 1, 1, 4, 1, 1, 2, 1, 5, 2, 1, 2, 1, 1, 1, 1, 2, 2, 3, 1, 1, 1, 6, 22, 5, 1, 7, 1, 4, 7, 1, 4, 2, 1, 4, 24, 18, 10, 14, 2, 1, 3, 1, 1, 6, 4, 4, 6, 15, 1, 1, 2, 2, 18, 2, 8, 6, 3, 1, 1, 3, 10, 9, 2, 12, 1, 1, 4, 2, 5, 1, 2, 4, 1, 8, 2, 1, 4, 1, 2, 6, 7, 1, 4, 3, 7, 1, 3, 3, 1, 1, 6, 4, 12, 2, 1, 1, 5, 3, 11, 1, 5, 1, 3, 4, 2, 20, 1, 4, 3, 4, 5, 2, 2, 2, 3, 4, 2, 7, 1, 2, 2, 10, 1, 1, 2, 2, 27, 1, 1, 9, 1, 2, 5, 6, 5, 1, 1, 12, 5, 4, 11, 25, 3, 2, 2, 1, 2, 2, 12, 34, 1, 4, 9, 6, 4, 11, 2, 1, 7, 1, 1, 6, 1, 1, 1, 6, 6, 1, 4, 4, 1, 2, 7, 2, 1, 3, 3, 1, 2, 5, 1, 9, 1, 1, 1, 4, 1, 1, 5, 9, 13, 7, 17, 8, 5, 1, 1, 10, 4, 9, 2, 2, 2, 3, 5, 2, 3, 30, 13, 1, 7, 5, 13, 3, 1, 1, 1, 17, 1, 5, 2, 2, 6, 5, 5, 4, 7, 2, 4, 1, 1, 2, 5, 2, 1, 1, 5, 7, 1, 2, 3, 1, 1, 8, 1, 1, 1, 1, 1, 1, 1, 1, 2, 4, 3, 1, 1, 2, 1, 3, 3, 1, 1, 2, 1, 5, 1, 3, 1, 4, 2, 3, 2, 8, 16, 1, 4, 1, 3, 4, 1, 1, 4, 5, 4, 1, 1, 2, 2, 2, 3, 4, 3, 4, 1, 5, 4, 8, 5, 5, 3, 1, 7, 6, 1, 8, 9, 2, 2, 2, 2, 11, 8, 17, 2, 14, 1, 9, 1, 3, 1, 1, 4, 3, 5, 2, 1, 3, 2, 2, 3, 1, 4, 1, 4, 5, 3, 2, 1, 1, 4, 3, 4, 3, 3, 1, 1, 3, 7, 3, 15, 1, 7, 1, 5, 1, 3, 2, 3, 2, 3, 3, 2, 1, 1, 1, 9, 5, 9, 5, 2, 1, 1, 2, 2, 14, 3, 7, 3, 7, 1, 4, 3, 8, 3, 3, 6, 8, 1, 3, 2, 2, 3, 4, 1, 9, 1, 5, 1, 1, 3, 3, 7, 1, 4, 20, 3, 2, 2, 1, 1, 1, 1, 1, 36, 1, 1, 2, 8, 1, 14, 1, 1, 2, 3, 15, 5, 6, 4, 1, 1, 10, 4, 5, 1, 1, 1, 1, 1, 1, 1, 13, 9, 11, 1, 10, 15, 3, 15, 13, 2, 5, 6, 3, 4, 6, 6, 2, 5, 4, 3, 4, 3, 10, 1, 1, 3, 3, 1, 2, 1, 7, 2, 14, 4, 1, 9, 5, 5, 1, 2, 33, 1, 3, 1, 1, 1, 1, 1, 1, 1, 2, 19, 3, 1, 2, 5, 15, 3, 4, 2, 6, 1, 5, 1, 2, 5, 3, 11, 4, 11, 7, 2, 7, 14, 3, 2, 2, 3, 2, 1, 1, 1, 7, 5, 8, 1, 1, 5, 1, 2, 2, 4, 3, 8, 3, 2, 26, 1, 1, 1, 14, 1, 1, 1, 1, 1, 2, 3, 9, 9, 4, 5, 1, 2, 7, 1, 9, 1, 9, 1, 5, 3, 8, 1, 1, 13, 5, 2, 2, 2, 1, 4, 11, 3, 1, 5, 1, 3, 9, 8, 9, 2, 1, 2, 1, 1, 2, 1, 2, 2, 1, 1, 2, 3, 4, 3, 2, 7, 1, 3, 3, 6, 8, 4, 7, 9, 1, 1, 1, 18, 1, 35, 11, 3, 2, 2, 2, 2, 1, 2, 1, 14, 1, 1, 5, 1, 2, 2, 2, 12, 3, 5, 7, 1, 1, 7, 9, 4, 1, 1, 5, 1, 1, 1, 1, 2, 1, 3, 1, 5, 4, 1, 1, 1, 6, 1, 3, 3, 1, 6, 4, 5, 4, 3, 27, 3, 1, 3, 1, 9, 3, 6, 12, 2, 3, 1, 1, 4, 2, 2, 3, 25, 6, 2, 1, 3, 3, 6, 2, 1, 1, 4, 18, 3, 1, 6, 1, 4, 1, 5, 9, 4, 6, 4, 4, 21, 1, 1, 5, 5, 5, 5, 4, 13, 1, 1, 1, 4, 2, 14, 4, 2, 1, 5, 2, 13, 12, 1, 2, 10, 2, 1, 1, 1, 1, 4, 4, 2, 1, 1, 2, 2, 15, 1, 2, 1, 1, 4, 2, 7, 23, 1, 1, 4, 1, 2, 1, 1, 4, 1, 1, 3, 1, 8, 3, 4, 5, 7, 4, 1, 11, 8, 1, 10, 8, 2, 5, 1, 1, 4, 11, 1, 1, 1, 1, 1, 1, 1, 2, 1, 5, 1, 22, 2, 2, 4, 1, 2, 1, 2, 1, 2, 1, 1, 1, 2, 4, 11, 2, 1, 2, 1, 1, 2, 4, 5, 11, 1, 1, 2, 1, 1, 1, 1, 1, 6, 6, 2, 26, 5, 1, 2, 1, 2, 13, 5, 3, 1, 1, 24, 5, 3, 1, 4, 1, 1, 1, 1, 7, 1, 1, 1, 1, 1, 1, 1, 1, 3, 4, 6, 10, 1, 3, 1, 3, 2, 3, 1, 5, 2, 2, 2, 6, 4, 4, 9, 2, 3, 1, 1, 2, 3, 10, 3, 2, 2, 4, 3, 6, 1, 3, 8, 8, 1, 1, 1, 2, 2, 7, 2, 1, 3, 3, 8, 3, 1, 1, 22, 1, 9, 1, 2, 2, 1, 6, 2, 2, 2, 1, 4, 1, 7, 8, 3, 2, 3, 2, 3, 6, 3, 2, 2, 1, 3, 3, 1, 1, 1, 1, 1, 1, 4, 2, 2, 12, 2, 5, 2, 11, 4, 2, 7, 3, 1, 3, 1, 1, 1, 4, 3, 2, 6, 2, 2, 7, 1, 13, 15, 1, 2, 3, 1, 1, 1, 1, 2, 2, 2, 1, 2, 1, 1, 3, 1, 6, 5, 3, 6, 2, 7, 8, 3, 1, 2, 3, 5, 3, 2, 2, 5, 1, 1, 3, 3, 9, 3, 5, 2, 1, 2, 1, 3, 1, 1, 4, 2, 5, 2, 3, 1, 1, 3, 4, 12, 1, 1, 1, 7, 6, 4, 4, 2, 7, 3, 1, 2, 1, 6, 4, 12, 6, 3, 3, 3, 3, 4, 2, 5, 1, 4, 2, 2, 2, 8, 3, 2, 2, 3, 9, 2, 5, 2, 7, 4], \"xbins\": {\"end\": 200, \"size\": 2, \"start\": 10}}],\n                        {\"bargap\": 0.2, \"template\": {\"data\": {\"bar\": [{\"error_x\": {\"color\": \"#2a3f5f\"}, \"error_y\": {\"color\": \"#2a3f5f\"}, \"marker\": {\"line\": {\"color\": \"#E5ECF6\", \"width\": 0.5}}, \"type\": \"bar\"}], \"barpolar\": [{\"marker\": {\"line\": {\"color\": \"#E5ECF6\", \"width\": 0.5}}, \"type\": \"barpolar\"}], \"carpet\": [{\"aaxis\": {\"endlinecolor\": \"#2a3f5f\", \"gridcolor\": \"white\", \"linecolor\": \"white\", \"minorgridcolor\": \"white\", \"startlinecolor\": \"#2a3f5f\"}, \"baxis\": {\"endlinecolor\": \"#2a3f5f\", \"gridcolor\": \"white\", \"linecolor\": \"white\", \"minorgridcolor\": \"white\", \"startlinecolor\": \"#2a3f5f\"}, \"type\": \"carpet\"}], \"choropleth\": [{\"colorbar\": {\"outlinewidth\": 0, \"ticks\": \"\"}, \"type\": \"choropleth\"}], \"contour\": [{\"colorbar\": {\"outlinewidth\": 0, \"ticks\": \"\"}, \"colorscale\": [[0.0, \"#0d0887\"], [0.1111111111111111, \"#46039f\"], [0.2222222222222222, \"#7201a8\"], [0.3333333333333333, \"#9c179e\"], [0.4444444444444444, \"#bd3786\"], [0.5555555555555556, \"#d8576b\"], [0.6666666666666666, \"#ed7953\"], [0.7777777777777778, \"#fb9f3a\"], [0.8888888888888888, \"#fdca26\"], [1.0, \"#f0f921\"]], \"type\": \"contour\"}], \"contourcarpet\": [{\"colorbar\": {\"outlinewidth\": 0, \"ticks\": \"\"}, \"type\": \"contourcarpet\"}], \"heatmap\": [{\"colorbar\": {\"outlinewidth\": 0, \"ticks\": \"\"}, \"colorscale\": [[0.0, \"#0d0887\"], [0.1111111111111111, \"#46039f\"], [0.2222222222222222, \"#7201a8\"], [0.3333333333333333, \"#9c179e\"], [0.4444444444444444, \"#bd3786\"], [0.5555555555555556, \"#d8576b\"], [0.6666666666666666, \"#ed7953\"], [0.7777777777777778, \"#fb9f3a\"], [0.8888888888888888, \"#fdca26\"], [1.0, \"#f0f921\"]], \"type\": \"heatmap\"}], \"heatmapgl\": [{\"colorbar\": {\"outlinewidth\": 0, \"ticks\": \"\"}, \"colorscale\": [[0.0, \"#0d0887\"], [0.1111111111111111, \"#46039f\"], [0.2222222222222222, \"#7201a8\"], [0.3333333333333333, \"#9c179e\"], [0.4444444444444444, \"#bd3786\"], [0.5555555555555556, \"#d8576b\"], [0.6666666666666666, \"#ed7953\"], [0.7777777777777778, \"#fb9f3a\"], [0.8888888888888888, \"#fdca26\"], [1.0, \"#f0f921\"]], \"type\": \"heatmapgl\"}], \"histogram\": [{\"marker\": {\"colorbar\": {\"outlinewidth\": 0, \"ticks\": \"\"}}, \"type\": \"histogram\"}], \"histogram2d\": [{\"colorbar\": {\"outlinewidth\": 0, \"ticks\": \"\"}, \"colorscale\": [[0.0, \"#0d0887\"], [0.1111111111111111, \"#46039f\"], [0.2222222222222222, \"#7201a8\"], [0.3333333333333333, \"#9c179e\"], [0.4444444444444444, \"#bd3786\"], [0.5555555555555556, \"#d8576b\"], [0.6666666666666666, \"#ed7953\"], [0.7777777777777778, \"#fb9f3a\"], [0.8888888888888888, \"#fdca26\"], [1.0, \"#f0f921\"]], \"type\": \"histogram2d\"}], \"histogram2dcontour\": [{\"colorbar\": {\"outlinewidth\": 0, \"ticks\": \"\"}, \"colorscale\": [[0.0, \"#0d0887\"], [0.1111111111111111, \"#46039f\"], [0.2222222222222222, \"#7201a8\"], [0.3333333333333333, \"#9c179e\"], [0.4444444444444444, \"#bd3786\"], [0.5555555555555556, \"#d8576b\"], [0.6666666666666666, \"#ed7953\"], [0.7777777777777778, \"#fb9f3a\"], [0.8888888888888888, \"#fdca26\"], [1.0, \"#f0f921\"]], \"type\": \"histogram2dcontour\"}], \"mesh3d\": [{\"colorbar\": {\"outlinewidth\": 0, \"ticks\": \"\"}, \"type\": \"mesh3d\"}], \"parcoords\": [{\"line\": {\"colorbar\": {\"outlinewidth\": 0, \"ticks\": \"\"}}, \"type\": \"parcoords\"}], \"pie\": [{\"automargin\": true, \"type\": \"pie\"}], \"scatter\": [{\"marker\": {\"colorbar\": {\"outlinewidth\": 0, \"ticks\": \"\"}}, \"type\": \"scatter\"}], \"scatter3d\": [{\"line\": {\"colorbar\": {\"outlinewidth\": 0, \"ticks\": \"\"}}, \"marker\": {\"colorbar\": {\"outlinewidth\": 0, \"ticks\": \"\"}}, \"type\": \"scatter3d\"}], \"scattercarpet\": [{\"marker\": {\"colorbar\": {\"outlinewidth\": 0, \"ticks\": \"\"}}, \"type\": \"scattercarpet\"}], \"scattergeo\": [{\"marker\": {\"colorbar\": {\"outlinewidth\": 0, \"ticks\": \"\"}}, \"type\": \"scattergeo\"}], \"scattergl\": [{\"marker\": {\"colorbar\": {\"outlinewidth\": 0, \"ticks\": \"\"}}, \"type\": \"scattergl\"}], \"scattermapbox\": [{\"marker\": {\"colorbar\": {\"outlinewidth\": 0, \"ticks\": \"\"}}, \"type\": \"scattermapbox\"}], \"scatterpolar\": [{\"marker\": {\"colorbar\": {\"outlinewidth\": 0, \"ticks\": \"\"}}, \"type\": \"scatterpolar\"}], \"scatterpolargl\": [{\"marker\": {\"colorbar\": {\"outlinewidth\": 0, \"ticks\": \"\"}}, \"type\": \"scatterpolargl\"}], \"scatterternary\": [{\"marker\": {\"colorbar\": {\"outlinewidth\": 0, \"ticks\": \"\"}}, \"type\": \"scatterternary\"}], \"surface\": [{\"colorbar\": {\"outlinewidth\": 0, \"ticks\": \"\"}, \"colorscale\": [[0.0, \"#0d0887\"], [0.1111111111111111, \"#46039f\"], [0.2222222222222222, \"#7201a8\"], [0.3333333333333333, \"#9c179e\"], [0.4444444444444444, \"#bd3786\"], [0.5555555555555556, \"#d8576b\"], [0.6666666666666666, \"#ed7953\"], [0.7777777777777778, \"#fb9f3a\"], [0.8888888888888888, \"#fdca26\"], [1.0, \"#f0f921\"]], \"type\": \"surface\"}], \"table\": [{\"cells\": {\"fill\": {\"color\": \"#EBF0F8\"}, \"line\": {\"color\": \"white\"}}, \"header\": {\"fill\": {\"color\": \"#C8D4E3\"}, \"line\": {\"color\": \"white\"}}, \"type\": \"table\"}]}, \"layout\": {\"annotationdefaults\": {\"arrowcolor\": \"#2a3f5f\", \"arrowhead\": 0, \"arrowwidth\": 1}, \"coloraxis\": {\"colorbar\": {\"outlinewidth\": 0, \"ticks\": \"\"}}, \"colorscale\": {\"diverging\": [[0, \"#8e0152\"], [0.1, \"#c51b7d\"], [0.2, \"#de77ae\"], [0.3, \"#f1b6da\"], [0.4, \"#fde0ef\"], [0.5, \"#f7f7f7\"], [0.6, \"#e6f5d0\"], [0.7, \"#b8e186\"], [0.8, \"#7fbc41\"], [0.9, \"#4d9221\"], [1, \"#276419\"]], \"sequential\": [[0.0, \"#0d0887\"], [0.1111111111111111, \"#46039f\"], [0.2222222222222222, \"#7201a8\"], [0.3333333333333333, \"#9c179e\"], [0.4444444444444444, \"#bd3786\"], [0.5555555555555556, \"#d8576b\"], [0.6666666666666666, \"#ed7953\"], [0.7777777777777778, \"#fb9f3a\"], [0.8888888888888888, \"#fdca26\"], [1.0, \"#f0f921\"]], \"sequentialminus\": [[0.0, \"#0d0887\"], [0.1111111111111111, \"#46039f\"], [0.2222222222222222, \"#7201a8\"], [0.3333333333333333, \"#9c179e\"], [0.4444444444444444, \"#bd3786\"], [0.5555555555555556, \"#d8576b\"], [0.6666666666666666, \"#ed7953\"], [0.7777777777777778, \"#fb9f3a\"], [0.8888888888888888, \"#fdca26\"], [1.0, \"#f0f921\"]]}, \"colorway\": [\"#636efa\", \"#EF553B\", \"#00cc96\", \"#ab63fa\", \"#FFA15A\", \"#19d3f3\", \"#FF6692\", \"#B6E880\", \"#FF97FF\", \"#FECB52\"], \"font\": {\"color\": \"#2a3f5f\"}, \"geo\": {\"bgcolor\": \"white\", \"lakecolor\": \"white\", \"landcolor\": \"#E5ECF6\", \"showlakes\": true, \"showland\": true, \"subunitcolor\": \"white\"}, \"hoverlabel\": {\"align\": \"left\"}, \"hovermode\": \"closest\", \"mapbox\": {\"style\": \"light\"}, \"paper_bgcolor\": \"white\", \"plot_bgcolor\": \"#E5ECF6\", \"polar\": {\"angularaxis\": {\"gridcolor\": \"white\", \"linecolor\": \"white\", \"ticks\": \"\"}, \"bgcolor\": \"#E5ECF6\", \"radialaxis\": {\"gridcolor\": \"white\", \"linecolor\": \"white\", \"ticks\": \"\"}}, \"scene\": {\"xaxis\": {\"backgroundcolor\": \"#E5ECF6\", \"gridcolor\": \"white\", \"gridwidth\": 2, \"linecolor\": \"white\", \"showbackground\": true, \"ticks\": \"\", \"zerolinecolor\": \"white\"}, \"yaxis\": {\"backgroundcolor\": \"#E5ECF6\", \"gridcolor\": \"white\", \"gridwidth\": 2, \"linecolor\": \"white\", \"showbackground\": true, \"ticks\": \"\", \"zerolinecolor\": \"white\"}, \"zaxis\": {\"backgroundcolor\": \"#E5ECF6\", \"gridcolor\": \"white\", \"gridwidth\": 2, \"linecolor\": \"white\", \"showbackground\": true, \"ticks\": \"\", \"zerolinecolor\": \"white\"}}, \"shapedefaults\": {\"line\": {\"color\": \"#2a3f5f\"}}, \"ternary\": {\"aaxis\": {\"gridcolor\": \"white\", \"linecolor\": \"white\", \"ticks\": \"\"}, \"baxis\": {\"gridcolor\": \"white\", \"linecolor\": \"white\", \"ticks\": \"\"}, \"bgcolor\": \"#E5ECF6\", \"caxis\": {\"gridcolor\": \"white\", \"linecolor\": \"white\", \"ticks\": \"\"}}, \"title\": {\"x\": 0.05}, \"xaxis\": {\"automargin\": true, \"gridcolor\": \"white\", \"linecolor\": \"white\", \"ticks\": \"\", \"title\": {\"standoff\": 15}, \"zerolinecolor\": \"white\", \"zerolinewidth\": 2}, \"yaxis\": {\"automargin\": true, \"gridcolor\": \"white\", \"linecolor\": \"white\", \"ticks\": \"\", \"title\": {\"standoff\": 15}, \"zerolinecolor\": \"white\", \"zerolinewidth\": 2}}}, \"title\": {\"text\": \"Bi\\u1ec3u \\u0111\\u1ed3 ph\\u00e2n ph\\u1ed1i s\\u1ed1 sao \\u0111\\u00e1nh gi\\u00e1 m\\u1ed7i s\\u1ea3n ph\\u1ea9m (X\\u00e9t t\\u1ed1i \\u0111a l\\u00e0 200 \\u0111\\u00e1nh gi\\u00e1)\"}, \"xaxis\": {\"title\": {\"text\": \"S\\u1ed1 l\\u01b0\\u1ee3t \\u0111\\u00e1nh gi\\u00e1\"}}, \"yaxis\": {\"title\": {\"text\": \"S\\u1ed1 l\\u01b0\\u1ee3ng s\\u00e1ch\"}}},\n                        {\"responsive\": true}\n                    ).then(function(){\n                            \nvar gd = document.getElementById('5b1ed70a-feab-4cb3-afbd-4a716f45a0a8');\nvar x = new MutationObserver(function (mutations, observer) {{\n        var display = window.getComputedStyle(gd).display;\n        if (!display || display === 'none') {{\n            console.log([gd, 'removed!']);\n            Plotly.purge(gd);\n            observer.disconnect();\n        }}\n}});\n\n// Listen for the removal of the full notebook cells\nvar notebookContainer = gd.closest('#notebook-container');\nif (notebookContainer) {{\n    x.observe(notebookContainer, {childList: true});\n}}\n\n// Listen for the clearing of the current output cell\nvar outputEl = gd.closest('.output');\nif (outputEl) {{\n    x.observe(outputEl, {childList: true});\n}}\n\n                        })\n                };\n                });\n            </script>\n        </div>"
     },
     "metadata": {}
    }
   ],
   "source": [
    "data = format_data.groupby('item')['rating'].count().clip(upper=40)\n",
    "# Create trace\n",
    "trace = go.Histogram(x = data.values,\n",
    "                     name = 'Ratings',\n",
    "                     xbins = dict(start = 10,\n",
    "                                  end = 200,\n",
    "                                  size = 2))\n",
    "# Create layout\n",
    "layout = go.Layout(title = 'Biểu đồ phân phối số sao đánh giá mỗi sản phẩm (Xét tối đa là 200 đánh giá)',\n",
    "                   xaxis = dict(title = 'Số lượt đánh giá'),\n",
    "                   yaxis = dict(title = 'Số lượng sách'),\n",
    "                   bargap = 0.2)\n",
    "\n",
    "# Create plot\n",
    "fig = go.Figure(data=[trace], layout=layout)\n",
    "iplot(fig)"
   ]
  },
  {
   "cell_type": "code",
   "execution_count": 9,
   "metadata": {},
   "outputs": [
    {
     "output_type": "execute_result",
     "data": {
      "text/plain": [
       "      item  rating\n",
       "4761  9161      26\n",
       "5053  9781      26\n",
       "734   1420      25\n",
       "4365  8370      25\n",
       "4906  9455      25\n",
       "...    ...     ...\n",
       "1347  2539       1\n",
       "745   1439       1\n",
       "3941  7610       1\n",
       "1343  2535       1\n",
       "4238  8151       1\n",
       "\n",
       "[5279 rows x 2 columns]"
      ],
      "text/html": "<div>\n<style scoped>\n    .dataframe tbody tr th:only-of-type {\n        vertical-align: middle;\n    }\n\n    .dataframe tbody tr th {\n        vertical-align: top;\n    }\n\n    .dataframe thead th {\n        text-align: right;\n    }\n</style>\n<table border=\"1\" class=\"dataframe\">\n  <thead>\n    <tr style=\"text-align: right;\">\n      <th></th>\n      <th>item</th>\n      <th>rating</th>\n    </tr>\n  </thead>\n  <tbody>\n    <tr>\n      <th>4761</th>\n      <td>9161</td>\n      <td>26</td>\n    </tr>\n    <tr>\n      <th>5053</th>\n      <td>9781</td>\n      <td>26</td>\n    </tr>\n    <tr>\n      <th>734</th>\n      <td>1420</td>\n      <td>25</td>\n    </tr>\n    <tr>\n      <th>4365</th>\n      <td>8370</td>\n      <td>25</td>\n    </tr>\n    <tr>\n      <th>4906</th>\n      <td>9455</td>\n      <td>25</td>\n    </tr>\n    <tr>\n      <th>...</th>\n      <td>...</td>\n      <td>...</td>\n    </tr>\n    <tr>\n      <th>1347</th>\n      <td>2539</td>\n      <td>1</td>\n    </tr>\n    <tr>\n      <th>745</th>\n      <td>1439</td>\n      <td>1</td>\n    </tr>\n    <tr>\n      <th>3941</th>\n      <td>7610</td>\n      <td>1</td>\n    </tr>\n    <tr>\n      <th>1343</th>\n      <td>2535</td>\n      <td>1</td>\n    </tr>\n    <tr>\n      <th>4238</th>\n      <td>8151</td>\n      <td>1</td>\n    </tr>\n  </tbody>\n</table>\n<p>5279 rows × 2 columns</p>\n</div>"
     },
     "metadata": {},
     "execution_count": 9
    }
   ],
   "source": [
    "format_data.groupby('item')['rating'].count().reset_index().sort_values('rating', ascending=False)[10:]"
   ]
  },
  {
   "cell_type": "code",
   "execution_count": 10,
   "metadata": {},
   "outputs": [
    {
     "output_type": "display_data",
     "data": {
      "application/vnd.plotly.v1+json": {
       "config": {
        "linkText": "Export to plot.ly",
        "plotlyServerURL": "https://plot.ly",
        "showLink": false
       },
       "data": [
        {
         "name": "Ratings",
         "type": "histogram",
         "x": [
          10,
          23,
          13,
          12,
          11,
          10,
          18,
          11,
          15,
          10,
          29,
          10,
          17,
          25,
          11,
          10,
          10,
          15,
          11,
          12,
          10,
          11,
          12,
          12,
          11,
          30,
          19,
          31,
          12,
          10,
          11,
          22,
          14,
          20,
          10,
          13,
          11,
          12,
          21,
          21,
          11,
          14,
          11,
          20,
          20,
          11,
          10,
          10,
          11,
          10,
          16,
          14,
          10,
          14,
          10,
          10,
          15,
          13,
          10,
          15,
          13,
          13,
          18,
          12,
          21,
          13,
          16,
          12,
          10,
          10,
          11,
          11,
          21,
          13,
          10,
          17,
          10,
          13,
          14,
          16,
          19,
          10,
          12,
          23,
          33,
          10,
          14,
          11,
          10,
          16,
          12,
          12,
          10,
          17,
          15,
          14,
          23,
          12,
          20,
          16,
          10,
          24,
          13,
          22,
          11,
          10,
          19,
          10,
          10,
          14,
          12,
          10,
          10,
          11,
          13,
          19,
          19,
          10,
          22,
          24,
          13,
          10,
          10,
          10,
          14,
          11,
          11,
          17,
          12,
          12,
          14,
          16,
          17,
          17,
          10,
          11,
          14,
          14,
          12,
          16,
          37,
          17,
          15,
          12,
          10,
          10,
          14,
          10,
          13,
          11,
          14,
          10,
          11,
          11,
          23,
          11,
          10,
          10,
          16,
          34,
          11,
          10,
          12,
          19,
          11,
          15,
          15,
          10,
          12,
          11,
          34,
          12,
          15,
          18,
          10,
          16,
          40,
          10,
          12,
          15,
          11,
          26,
          27,
          11,
          10,
          12,
          23,
          13,
          17,
          13,
          15,
          10,
          32,
          10,
          10,
          10,
          15,
          10,
          12,
          14,
          14,
          10,
          11,
          13,
          12,
          16,
          12,
          14,
          10,
          11,
          18,
          14,
          12,
          12,
          26,
          20,
          12,
          19,
          12,
          10,
          13,
          18,
          16,
          12,
          18,
          12,
          10,
          12,
          11,
          12,
          14,
          10,
          12,
          40,
          10,
          10,
          12,
          13,
          11,
          18,
          10,
          18,
          10,
          11,
          10,
          14,
          10,
          13,
          11,
          10,
          23,
          40,
          13,
          13,
          24,
          11,
          13,
          18,
          26,
          10,
          13,
          10,
          12,
          15,
          10,
          10,
          14,
          12,
          10,
          11,
          24,
          10,
          10,
          11,
          12,
          13,
          10,
          20,
          19,
          12,
          12,
          11,
          10,
          11,
          18,
          11,
          10,
          13,
          11,
          11,
          20,
          11,
          12,
          10,
          10,
          27,
          18,
          22,
          15,
          40,
          13,
          10,
          11,
          29,
          11,
          10,
          17,
          16,
          28,
          13,
          10,
          11,
          19,
          11,
          15,
          10,
          17,
          20,
          15,
          12,
          12,
          17,
          30,
          13,
          11,
          17,
          10,
          16,
          11,
          27,
          11,
          10,
          12,
          16,
          14,
          10,
          14,
          11,
          10,
          12,
          12,
          10,
          16,
          23,
          17,
          10,
          13,
          16,
          10,
          12,
          40,
          16,
          10,
          10,
          11,
          18,
          40,
          13,
          12,
          10,
          11,
          20,
          15,
          14,
          11,
          26,
          21,
          22,
          24,
          23,
          20,
          11,
          15,
          16,
          14,
          12,
          22,
          13,
          11,
          10,
          11,
          11,
          12,
          11,
          10,
          13,
          40,
          12,
          13,
          24,
          10,
          10,
          13,
          18,
          40,
          10,
          10,
          20,
          14,
          13,
          21,
          26,
          11,
          14,
          38,
          11,
          10,
          16,
          10,
          29,
          16,
          37,
          40,
          10,
          24,
          10,
          40,
          14,
          12,
          16,
          23,
          12,
          12,
          22,
          22,
          24,
          10,
          40,
          12,
          11,
          14,
          10,
          19,
          11,
          26,
          12,
          13,
          10,
          13,
          11,
          14,
          13,
          10,
          15,
          13,
          10,
          10,
          10,
          10,
          11,
          11,
          11,
          15,
          25,
          17,
          12,
          12,
          10,
          40,
          14,
          10,
          13,
          10,
          11,
          11,
          11,
          10,
          13,
          14,
          11,
          11,
          20,
          13,
          12,
          10,
          15,
          10,
          11,
          35,
          14,
          10,
          27,
          11,
          14,
          13,
          12,
          14,
          16,
          13,
          11,
          25,
          22,
          10,
          10,
          26,
          14,
          10,
          14,
          11,
          40,
          13,
          29,
          10,
          13,
          10,
          10,
          11,
          12,
          11,
          11,
          25,
          12,
          17,
          12,
          40,
          11,
          17,
          11,
          11,
          22,
          36,
          13,
          13,
          15,
          13,
          11,
          10,
          11,
          12,
          15,
          12,
          11,
          11,
          25,
          14,
          10,
          18,
          30,
          10,
          17,
          20,
          13,
          11,
          10,
          13,
          15,
          10,
          11,
          10,
          18,
          11,
          21,
          18,
          14,
          10,
          14,
          11,
          12,
          10,
          24,
          40,
          21,
          11,
          10,
          40,
          11,
          14,
          10,
          10,
          10,
          11,
          25,
          16,
          21,
          34,
          17,
          16,
          13,
          13,
          11,
          11,
          13,
          10,
          16,
          10,
          11,
          14,
          10,
          16,
          20,
          16,
          10,
          12,
          10,
          11,
          17,
          14,
          11,
          12,
          15,
          17,
          10,
          29,
          12,
          11,
          10,
          13,
          10,
          11,
          31,
          10,
          34,
          14,
          18,
          14,
          10,
          18,
          13,
          16,
          15,
          11,
          12,
          13,
          13,
          10,
          12,
          10,
          11,
          12,
          11,
          16,
          13,
          16,
          10,
          14,
          18,
          16,
          11,
          13,
          11,
          24,
          14,
          11,
          13,
          12,
          10,
          15,
          10,
          33,
          21,
          10,
          17,
          11,
          14,
          11,
          11,
          10,
          13,
          12,
          11,
          10,
          29,
          10,
          16,
          11,
          16,
          11,
          14,
          26,
          17,
          22,
          10,
          21,
          20,
          18,
          11,
          21,
          12,
          13,
          19,
          10,
          23,
          11,
          12,
          40,
          10,
          13,
          11,
          12,
          11,
          15,
          15,
          10,
          10,
          15,
          12,
          16,
          23,
          11,
          12,
          16,
          10,
          34,
          10,
          15,
          22,
          19,
          11,
          15,
          14,
          14,
          34,
          18,
          20,
          21,
          13,
          15,
          24,
          13,
          15,
          11,
          12,
          12,
          11,
          10,
          10,
          18,
          14,
          11,
          13,
          11,
          11,
          15,
          10,
          14,
          17,
          18,
          11,
          13,
          14,
          11,
          11,
          20,
          22,
          20,
          17,
          12,
          15,
          10,
          15,
          25,
          14,
          11,
          16,
          34,
          24,
          10,
          35,
          10,
          10,
          13,
          14,
          10,
          12,
          10,
          12,
          12,
          13,
          29,
          10,
          12,
          13,
          17,
          11,
          11,
          13,
          12,
          39,
          10,
          13,
          31,
          10,
          10,
          18,
          28,
          13,
          18,
          11,
          13,
          13,
          17,
          10,
          14,
          10,
          15,
          16,
          21,
          14,
          15,
          26,
          15,
          12,
          19,
          16,
          14,
          14,
          22,
          12,
          29,
          20,
          22,
          21,
          19,
          23,
          16,
          10,
          14,
          10,
          10,
          12,
          10,
          10,
          10,
          11,
          10,
          10,
          10,
          11,
          11,
          10,
          10,
          10,
          23,
          12,
          10,
          10,
          14,
          27,
          10,
          12,
          12,
          31,
          12,
          20,
          25,
          35,
          10,
          10,
          11,
          14,
          11,
          10,
          22,
          27,
          18,
          12,
          18,
          19,
          12,
          11,
          11,
          12,
          12,
          15,
          10,
          14,
          10,
          10,
          12,
          21,
          13,
          10,
          11,
          16,
          12,
          11,
          13,
          11,
          13,
          17,
          10,
          21,
          15,
          12,
          10,
          13,
          11,
          11,
          11,
          16,
          40,
          25,
          20,
          16,
          10,
          12,
          24,
          19,
          16,
          13,
          11,
          12,
          13,
          15,
          12,
          18,
          14,
          14,
          13,
          10,
          10,
          10,
          13,
          15,
          25,
          10,
          16,
          11,
          10,
          11,
          13,
          10,
          14,
          12,
          16,
          10,
          11,
          10,
          11,
          10,
          17,
          15,
          14,
          21,
          11,
          10,
          17,
          19,
          12,
          10,
          27,
          11,
          15,
          16,
          11,
          19,
          27,
          13,
          14,
          18,
          12,
          11,
          11,
          10,
          19,
          13,
          10,
          14,
          12,
          14,
          17,
          11,
          12,
          10,
          11,
          11,
          14,
          33,
          13,
          14,
          12,
          11,
          10,
          10,
          13,
          10,
          11,
          11,
          10,
          14,
          10,
          40,
          13,
          10,
          10,
          17,
          25,
          10,
          11,
          13,
          10,
          11,
          10,
          21,
          10,
          13,
          12,
          10,
          12,
          20,
          20,
          17,
          25,
          40,
          18,
          20,
          10,
          11,
          12,
          17,
          18,
          10,
          13,
          10,
          11,
          10,
          18,
          15,
          10,
          11,
          12,
          11,
          12,
          16,
          13,
          22,
          18,
          15,
          23,
          14,
          12,
          10,
          14,
          11,
          21,
          11,
          14,
          12,
          20,
          13,
          14,
          11,
          11,
          17,
          11,
          18,
          14,
          10,
          12,
          20,
          10,
          13,
          20,
          14,
          40,
          11,
          22,
          14,
          10,
          19,
          10,
          14,
          11,
          25,
          10,
          11,
          11,
          10,
          10,
          11,
          19,
          24,
          10,
          20,
          12,
          10,
          28,
          10,
          10,
          10,
          15,
          12,
          10,
          15,
          12,
          21,
          10,
          11,
          14,
          10,
          21,
          11,
          11,
          14,
          12,
          13,
          20,
          10,
          13,
          29,
          14,
          12,
          15,
          10,
          11,
          14,
          14,
          10,
          18,
          10,
          10,
          10,
          10,
          15,
          16,
          13,
          12,
          19,
          18,
          11,
          18,
          14,
          18,
          18,
          10,
          11,
          17,
          10,
          14,
          17,
          40,
          15,
          12,
          16,
          23,
          15,
          15,
          17,
          19,
          19,
          11,
          11,
          13,
          18,
          10,
          11,
          10,
          11,
          10,
          10,
          19,
          10,
          10,
          10,
          11,
          10,
          13,
          11,
          14,
          11,
          16,
          16,
          20,
          15,
          19,
          14,
          19,
          13,
          10,
          11,
          12,
          15,
          10,
          13,
          23,
          15,
          12,
          11,
          11,
          10,
          10,
          12,
          40,
          11,
          11,
          10,
          15,
          10,
          15,
          11,
          12,
          12,
          10,
          11,
          12,
          20,
          18,
          18,
          16,
          17,
          11,
          13,
          14,
          12,
          19,
          15,
          16,
          15,
          12,
          10,
          11,
          10,
          11,
          11,
          10,
          10,
          11,
          15,
          14,
          25,
          12,
          13,
          15,
          10,
          12,
          10,
          16,
          13,
          21,
          13,
          40,
          14,
          12,
          12,
          13,
          11,
          14,
          14,
          11,
          16,
          28,
          15,
          12,
          13,
          18,
          10,
          11,
          11,
          11,
          14,
          26,
          18,
          11,
          20,
          26,
          10,
          10,
          13,
          18,
          15,
          12,
          15,
          21,
          12,
          31,
          16,
          12,
          15,
          11,
          13,
          14,
          13,
          12,
          12,
          11,
          11,
          11,
          12,
          13,
          25,
          14,
          21,
          11,
          16,
          10,
          10,
          15,
          10,
          21,
          11,
          11,
          12,
          10,
          10,
          12,
          12,
          16,
          17,
          12,
          13,
          12,
          17,
          12,
          12,
          31,
          18,
          12,
          13,
          12,
          11,
          15,
          14,
          10,
          10,
          17,
          18,
          14,
          12,
          17,
          14,
          23,
          13,
          13,
          28,
          11,
          11,
          17,
          10,
          31,
          27,
          17,
          11,
          10,
          10,
          10,
          40,
          12,
          19,
          10,
          11,
          10,
          27,
          24,
          10,
          11,
          33,
          15,
          10,
          12,
          10,
          13,
          18,
          14,
          10,
          10,
          11,
          13,
          13,
          11,
          12,
          13,
          26,
          14,
          15,
          12,
          10,
          23,
          21,
          40,
          13,
          10,
          10,
          11,
          17,
          13,
          10,
          10,
          13,
          10,
          12,
          10,
          15
         ],
         "xbins": {
          "end": 50,
          "size": 2,
          "start": 0
         }
        }
       ],
       "layout": {
        "bargap": 0.2,
        "template": {
         "data": {
          "bar": [
           {
            "error_x": {
             "color": "#2a3f5f"
            },
            "error_y": {
             "color": "#2a3f5f"
            },
            "marker": {
             "line": {
              "color": "#E5ECF6",
              "width": 0.5
             }
            },
            "type": "bar"
           }
          ],
          "barpolar": [
           {
            "marker": {
             "line": {
              "color": "#E5ECF6",
              "width": 0.5
             }
            },
            "type": "barpolar"
           }
          ],
          "carpet": [
           {
            "aaxis": {
             "endlinecolor": "#2a3f5f",
             "gridcolor": "white",
             "linecolor": "white",
             "minorgridcolor": "white",
             "startlinecolor": "#2a3f5f"
            },
            "baxis": {
             "endlinecolor": "#2a3f5f",
             "gridcolor": "white",
             "linecolor": "white",
             "minorgridcolor": "white",
             "startlinecolor": "#2a3f5f"
            },
            "type": "carpet"
           }
          ],
          "choropleth": [
           {
            "colorbar": {
             "outlinewidth": 0,
             "ticks": ""
            },
            "type": "choropleth"
           }
          ],
          "contour": [
           {
            "colorbar": {
             "outlinewidth": 0,
             "ticks": ""
            },
            "colorscale": [
             [
              0,
              "#0d0887"
             ],
             [
              0.1111111111111111,
              "#46039f"
             ],
             [
              0.2222222222222222,
              "#7201a8"
             ],
             [
              0.3333333333333333,
              "#9c179e"
             ],
             [
              0.4444444444444444,
              "#bd3786"
             ],
             [
              0.5555555555555556,
              "#d8576b"
             ],
             [
              0.6666666666666666,
              "#ed7953"
             ],
             [
              0.7777777777777778,
              "#fb9f3a"
             ],
             [
              0.8888888888888888,
              "#fdca26"
             ],
             [
              1,
              "#f0f921"
             ]
            ],
            "type": "contour"
           }
          ],
          "contourcarpet": [
           {
            "colorbar": {
             "outlinewidth": 0,
             "ticks": ""
            },
            "type": "contourcarpet"
           }
          ],
          "heatmap": [
           {
            "colorbar": {
             "outlinewidth": 0,
             "ticks": ""
            },
            "colorscale": [
             [
              0,
              "#0d0887"
             ],
             [
              0.1111111111111111,
              "#46039f"
             ],
             [
              0.2222222222222222,
              "#7201a8"
             ],
             [
              0.3333333333333333,
              "#9c179e"
             ],
             [
              0.4444444444444444,
              "#bd3786"
             ],
             [
              0.5555555555555556,
              "#d8576b"
             ],
             [
              0.6666666666666666,
              "#ed7953"
             ],
             [
              0.7777777777777778,
              "#fb9f3a"
             ],
             [
              0.8888888888888888,
              "#fdca26"
             ],
             [
              1,
              "#f0f921"
             ]
            ],
            "type": "heatmap"
           }
          ],
          "heatmapgl": [
           {
            "colorbar": {
             "outlinewidth": 0,
             "ticks": ""
            },
            "colorscale": [
             [
              0,
              "#0d0887"
             ],
             [
              0.1111111111111111,
              "#46039f"
             ],
             [
              0.2222222222222222,
              "#7201a8"
             ],
             [
              0.3333333333333333,
              "#9c179e"
             ],
             [
              0.4444444444444444,
              "#bd3786"
             ],
             [
              0.5555555555555556,
              "#d8576b"
             ],
             [
              0.6666666666666666,
              "#ed7953"
             ],
             [
              0.7777777777777778,
              "#fb9f3a"
             ],
             [
              0.8888888888888888,
              "#fdca26"
             ],
             [
              1,
              "#f0f921"
             ]
            ],
            "type": "heatmapgl"
           }
          ],
          "histogram": [
           {
            "marker": {
             "colorbar": {
              "outlinewidth": 0,
              "ticks": ""
             }
            },
            "type": "histogram"
           }
          ],
          "histogram2d": [
           {
            "colorbar": {
             "outlinewidth": 0,
             "ticks": ""
            },
            "colorscale": [
             [
              0,
              "#0d0887"
             ],
             [
              0.1111111111111111,
              "#46039f"
             ],
             [
              0.2222222222222222,
              "#7201a8"
             ],
             [
              0.3333333333333333,
              "#9c179e"
             ],
             [
              0.4444444444444444,
              "#bd3786"
             ],
             [
              0.5555555555555556,
              "#d8576b"
             ],
             [
              0.6666666666666666,
              "#ed7953"
             ],
             [
              0.7777777777777778,
              "#fb9f3a"
             ],
             [
              0.8888888888888888,
              "#fdca26"
             ],
             [
              1,
              "#f0f921"
             ]
            ],
            "type": "histogram2d"
           }
          ],
          "histogram2dcontour": [
           {
            "colorbar": {
             "outlinewidth": 0,
             "ticks": ""
            },
            "colorscale": [
             [
              0,
              "#0d0887"
             ],
             [
              0.1111111111111111,
              "#46039f"
             ],
             [
              0.2222222222222222,
              "#7201a8"
             ],
             [
              0.3333333333333333,
              "#9c179e"
             ],
             [
              0.4444444444444444,
              "#bd3786"
             ],
             [
              0.5555555555555556,
              "#d8576b"
             ],
             [
              0.6666666666666666,
              "#ed7953"
             ],
             [
              0.7777777777777778,
              "#fb9f3a"
             ],
             [
              0.8888888888888888,
              "#fdca26"
             ],
             [
              1,
              "#f0f921"
             ]
            ],
            "type": "histogram2dcontour"
           }
          ],
          "mesh3d": [
           {
            "colorbar": {
             "outlinewidth": 0,
             "ticks": ""
            },
            "type": "mesh3d"
           }
          ],
          "parcoords": [
           {
            "line": {
             "colorbar": {
              "outlinewidth": 0,
              "ticks": ""
             }
            },
            "type": "parcoords"
           }
          ],
          "pie": [
           {
            "automargin": true,
            "type": "pie"
           }
          ],
          "scatter": [
           {
            "marker": {
             "colorbar": {
              "outlinewidth": 0,
              "ticks": ""
             }
            },
            "type": "scatter"
           }
          ],
          "scatter3d": [
           {
            "line": {
             "colorbar": {
              "outlinewidth": 0,
              "ticks": ""
             }
            },
            "marker": {
             "colorbar": {
              "outlinewidth": 0,
              "ticks": ""
             }
            },
            "type": "scatter3d"
           }
          ],
          "scattercarpet": [
           {
            "marker": {
             "colorbar": {
              "outlinewidth": 0,
              "ticks": ""
             }
            },
            "type": "scattercarpet"
           }
          ],
          "scattergeo": [
           {
            "marker": {
             "colorbar": {
              "outlinewidth": 0,
              "ticks": ""
             }
            },
            "type": "scattergeo"
           }
          ],
          "scattergl": [
           {
            "marker": {
             "colorbar": {
              "outlinewidth": 0,
              "ticks": ""
             }
            },
            "type": "scattergl"
           }
          ],
          "scattermapbox": [
           {
            "marker": {
             "colorbar": {
              "outlinewidth": 0,
              "ticks": ""
             }
            },
            "type": "scattermapbox"
           }
          ],
          "scatterpolar": [
           {
            "marker": {
             "colorbar": {
              "outlinewidth": 0,
              "ticks": ""
             }
            },
            "type": "scatterpolar"
           }
          ],
          "scatterpolargl": [
           {
            "marker": {
             "colorbar": {
              "outlinewidth": 0,
              "ticks": ""
             }
            },
            "type": "scatterpolargl"
           }
          ],
          "scatterternary": [
           {
            "marker": {
             "colorbar": {
              "outlinewidth": 0,
              "ticks": ""
             }
            },
            "type": "scatterternary"
           }
          ],
          "surface": [
           {
            "colorbar": {
             "outlinewidth": 0,
             "ticks": ""
            },
            "colorscale": [
             [
              0,
              "#0d0887"
             ],
             [
              0.1111111111111111,
              "#46039f"
             ],
             [
              0.2222222222222222,
              "#7201a8"
             ],
             [
              0.3333333333333333,
              "#9c179e"
             ],
             [
              0.4444444444444444,
              "#bd3786"
             ],
             [
              0.5555555555555556,
              "#d8576b"
             ],
             [
              0.6666666666666666,
              "#ed7953"
             ],
             [
              0.7777777777777778,
              "#fb9f3a"
             ],
             [
              0.8888888888888888,
              "#fdca26"
             ],
             [
              1,
              "#f0f921"
             ]
            ],
            "type": "surface"
           }
          ],
          "table": [
           {
            "cells": {
             "fill": {
              "color": "#EBF0F8"
             },
             "line": {
              "color": "white"
             }
            },
            "header": {
             "fill": {
              "color": "#C8D4E3"
             },
             "line": {
              "color": "white"
             }
            },
            "type": "table"
           }
          ]
         },
         "layout": {
          "annotationdefaults": {
           "arrowcolor": "#2a3f5f",
           "arrowhead": 0,
           "arrowwidth": 1
          },
          "coloraxis": {
           "colorbar": {
            "outlinewidth": 0,
            "ticks": ""
           }
          },
          "colorscale": {
           "diverging": [
            [
             0,
             "#8e0152"
            ],
            [
             0.1,
             "#c51b7d"
            ],
            [
             0.2,
             "#de77ae"
            ],
            [
             0.3,
             "#f1b6da"
            ],
            [
             0.4,
             "#fde0ef"
            ],
            [
             0.5,
             "#f7f7f7"
            ],
            [
             0.6,
             "#e6f5d0"
            ],
            [
             0.7,
             "#b8e186"
            ],
            [
             0.8,
             "#7fbc41"
            ],
            [
             0.9,
             "#4d9221"
            ],
            [
             1,
             "#276419"
            ]
           ],
           "sequential": [
            [
             0,
             "#0d0887"
            ],
            [
             0.1111111111111111,
             "#46039f"
            ],
            [
             0.2222222222222222,
             "#7201a8"
            ],
            [
             0.3333333333333333,
             "#9c179e"
            ],
            [
             0.4444444444444444,
             "#bd3786"
            ],
            [
             0.5555555555555556,
             "#d8576b"
            ],
            [
             0.6666666666666666,
             "#ed7953"
            ],
            [
             0.7777777777777778,
             "#fb9f3a"
            ],
            [
             0.8888888888888888,
             "#fdca26"
            ],
            [
             1,
             "#f0f921"
            ]
           ],
           "sequentialminus": [
            [
             0,
             "#0d0887"
            ],
            [
             0.1111111111111111,
             "#46039f"
            ],
            [
             0.2222222222222222,
             "#7201a8"
            ],
            [
             0.3333333333333333,
             "#9c179e"
            ],
            [
             0.4444444444444444,
             "#bd3786"
            ],
            [
             0.5555555555555556,
             "#d8576b"
            ],
            [
             0.6666666666666666,
             "#ed7953"
            ],
            [
             0.7777777777777778,
             "#fb9f3a"
            ],
            [
             0.8888888888888888,
             "#fdca26"
            ],
            [
             1,
             "#f0f921"
            ]
           ]
          },
          "colorway": [
           "#636efa",
           "#EF553B",
           "#00cc96",
           "#ab63fa",
           "#FFA15A",
           "#19d3f3",
           "#FF6692",
           "#B6E880",
           "#FF97FF",
           "#FECB52"
          ],
          "font": {
           "color": "#2a3f5f"
          },
          "geo": {
           "bgcolor": "white",
           "lakecolor": "white",
           "landcolor": "#E5ECF6",
           "showlakes": true,
           "showland": true,
           "subunitcolor": "white"
          },
          "hoverlabel": {
           "align": "left"
          },
          "hovermode": "closest",
          "mapbox": {
           "style": "light"
          },
          "paper_bgcolor": "white",
          "plot_bgcolor": "#E5ECF6",
          "polar": {
           "angularaxis": {
            "gridcolor": "white",
            "linecolor": "white",
            "ticks": ""
           },
           "bgcolor": "#E5ECF6",
           "radialaxis": {
            "gridcolor": "white",
            "linecolor": "white",
            "ticks": ""
           }
          },
          "scene": {
           "xaxis": {
            "backgroundcolor": "#E5ECF6",
            "gridcolor": "white",
            "gridwidth": 2,
            "linecolor": "white",
            "showbackground": true,
            "ticks": "",
            "zerolinecolor": "white"
           },
           "yaxis": {
            "backgroundcolor": "#E5ECF6",
            "gridcolor": "white",
            "gridwidth": 2,
            "linecolor": "white",
            "showbackground": true,
            "ticks": "",
            "zerolinecolor": "white"
           },
           "zaxis": {
            "backgroundcolor": "#E5ECF6",
            "gridcolor": "white",
            "gridwidth": 2,
            "linecolor": "white",
            "showbackground": true,
            "ticks": "",
            "zerolinecolor": "white"
           }
          },
          "shapedefaults": {
           "line": {
            "color": "#2a3f5f"
           }
          },
          "ternary": {
           "aaxis": {
            "gridcolor": "white",
            "linecolor": "white",
            "ticks": ""
           },
           "baxis": {
            "gridcolor": "white",
            "linecolor": "white",
            "ticks": ""
           },
           "bgcolor": "#E5ECF6",
           "caxis": {
            "gridcolor": "white",
            "linecolor": "white",
            "ticks": ""
           }
          },
          "title": {
           "x": 0.05
          },
          "xaxis": {
           "automargin": true,
           "gridcolor": "white",
           "linecolor": "white",
           "ticks": "",
           "title": {
            "standoff": 15
           },
           "zerolinecolor": "white",
           "zerolinewidth": 2
          },
          "yaxis": {
           "automargin": true,
           "gridcolor": "white",
           "linecolor": "white",
           "ticks": "",
           "title": {
            "standoff": 15
           },
           "zerolinecolor": "white",
           "zerolinewidth": 2
          }
         }
        },
        "title": {
         "text": "Phân phối đánh giá theo người dùng (xét tối đa 40 đánh giá)"
        },
        "xaxis": {
         "title": {
          "text": "Số lượt đánh giá của mỗi người"
         }
        },
        "yaxis": {
         "title": {
          "text": "Số lượng người dùng"
         }
        }
       }
      },
      "text/html": "<div>\n        \n        \n            <div id=\"6d0b0cd5-62dd-4327-9e8d-742a4e830141\" class=\"plotly-graph-div\" style=\"height:525px; width:100%;\"></div>\n            <script type=\"text/javascript\">\n                require([\"plotly\"], function(Plotly) {\n                    window.PLOTLYENV=window.PLOTLYENV || {};\n                    \n                if (document.getElementById(\"6d0b0cd5-62dd-4327-9e8d-742a4e830141\")) {\n                    Plotly.newPlot(\n                        '6d0b0cd5-62dd-4327-9e8d-742a4e830141',\n                        [{\"name\": \"Ratings\", \"type\": \"histogram\", \"x\": [10, 23, 13, 12, 11, 10, 18, 11, 15, 10, 29, 10, 17, 25, 11, 10, 10, 15, 11, 12, 10, 11, 12, 12, 11, 30, 19, 31, 12, 10, 11, 22, 14, 20, 10, 13, 11, 12, 21, 21, 11, 14, 11, 20, 20, 11, 10, 10, 11, 10, 16, 14, 10, 14, 10, 10, 15, 13, 10, 15, 13, 13, 18, 12, 21, 13, 16, 12, 10, 10, 11, 11, 21, 13, 10, 17, 10, 13, 14, 16, 19, 10, 12, 23, 33, 10, 14, 11, 10, 16, 12, 12, 10, 17, 15, 14, 23, 12, 20, 16, 10, 24, 13, 22, 11, 10, 19, 10, 10, 14, 12, 10, 10, 11, 13, 19, 19, 10, 22, 24, 13, 10, 10, 10, 14, 11, 11, 17, 12, 12, 14, 16, 17, 17, 10, 11, 14, 14, 12, 16, 37, 17, 15, 12, 10, 10, 14, 10, 13, 11, 14, 10, 11, 11, 23, 11, 10, 10, 16, 34, 11, 10, 12, 19, 11, 15, 15, 10, 12, 11, 34, 12, 15, 18, 10, 16, 40, 10, 12, 15, 11, 26, 27, 11, 10, 12, 23, 13, 17, 13, 15, 10, 32, 10, 10, 10, 15, 10, 12, 14, 14, 10, 11, 13, 12, 16, 12, 14, 10, 11, 18, 14, 12, 12, 26, 20, 12, 19, 12, 10, 13, 18, 16, 12, 18, 12, 10, 12, 11, 12, 14, 10, 12, 40, 10, 10, 12, 13, 11, 18, 10, 18, 10, 11, 10, 14, 10, 13, 11, 10, 23, 40, 13, 13, 24, 11, 13, 18, 26, 10, 13, 10, 12, 15, 10, 10, 14, 12, 10, 11, 24, 10, 10, 11, 12, 13, 10, 20, 19, 12, 12, 11, 10, 11, 18, 11, 10, 13, 11, 11, 20, 11, 12, 10, 10, 27, 18, 22, 15, 40, 13, 10, 11, 29, 11, 10, 17, 16, 28, 13, 10, 11, 19, 11, 15, 10, 17, 20, 15, 12, 12, 17, 30, 13, 11, 17, 10, 16, 11, 27, 11, 10, 12, 16, 14, 10, 14, 11, 10, 12, 12, 10, 16, 23, 17, 10, 13, 16, 10, 12, 40, 16, 10, 10, 11, 18, 40, 13, 12, 10, 11, 20, 15, 14, 11, 26, 21, 22, 24, 23, 20, 11, 15, 16, 14, 12, 22, 13, 11, 10, 11, 11, 12, 11, 10, 13, 40, 12, 13, 24, 10, 10, 13, 18, 40, 10, 10, 20, 14, 13, 21, 26, 11, 14, 38, 11, 10, 16, 10, 29, 16, 37, 40, 10, 24, 10, 40, 14, 12, 16, 23, 12, 12, 22, 22, 24, 10, 40, 12, 11, 14, 10, 19, 11, 26, 12, 13, 10, 13, 11, 14, 13, 10, 15, 13, 10, 10, 10, 10, 11, 11, 11, 15, 25, 17, 12, 12, 10, 40, 14, 10, 13, 10, 11, 11, 11, 10, 13, 14, 11, 11, 20, 13, 12, 10, 15, 10, 11, 35, 14, 10, 27, 11, 14, 13, 12, 14, 16, 13, 11, 25, 22, 10, 10, 26, 14, 10, 14, 11, 40, 13, 29, 10, 13, 10, 10, 11, 12, 11, 11, 25, 12, 17, 12, 40, 11, 17, 11, 11, 22, 36, 13, 13, 15, 13, 11, 10, 11, 12, 15, 12, 11, 11, 25, 14, 10, 18, 30, 10, 17, 20, 13, 11, 10, 13, 15, 10, 11, 10, 18, 11, 21, 18, 14, 10, 14, 11, 12, 10, 24, 40, 21, 11, 10, 40, 11, 14, 10, 10, 10, 11, 25, 16, 21, 34, 17, 16, 13, 13, 11, 11, 13, 10, 16, 10, 11, 14, 10, 16, 20, 16, 10, 12, 10, 11, 17, 14, 11, 12, 15, 17, 10, 29, 12, 11, 10, 13, 10, 11, 31, 10, 34, 14, 18, 14, 10, 18, 13, 16, 15, 11, 12, 13, 13, 10, 12, 10, 11, 12, 11, 16, 13, 16, 10, 14, 18, 16, 11, 13, 11, 24, 14, 11, 13, 12, 10, 15, 10, 33, 21, 10, 17, 11, 14, 11, 11, 10, 13, 12, 11, 10, 29, 10, 16, 11, 16, 11, 14, 26, 17, 22, 10, 21, 20, 18, 11, 21, 12, 13, 19, 10, 23, 11, 12, 40, 10, 13, 11, 12, 11, 15, 15, 10, 10, 15, 12, 16, 23, 11, 12, 16, 10, 34, 10, 15, 22, 19, 11, 15, 14, 14, 34, 18, 20, 21, 13, 15, 24, 13, 15, 11, 12, 12, 11, 10, 10, 18, 14, 11, 13, 11, 11, 15, 10, 14, 17, 18, 11, 13, 14, 11, 11, 20, 22, 20, 17, 12, 15, 10, 15, 25, 14, 11, 16, 34, 24, 10, 35, 10, 10, 13, 14, 10, 12, 10, 12, 12, 13, 29, 10, 12, 13, 17, 11, 11, 13, 12, 39, 10, 13, 31, 10, 10, 18, 28, 13, 18, 11, 13, 13, 17, 10, 14, 10, 15, 16, 21, 14, 15, 26, 15, 12, 19, 16, 14, 14, 22, 12, 29, 20, 22, 21, 19, 23, 16, 10, 14, 10, 10, 12, 10, 10, 10, 11, 10, 10, 10, 11, 11, 10, 10, 10, 23, 12, 10, 10, 14, 27, 10, 12, 12, 31, 12, 20, 25, 35, 10, 10, 11, 14, 11, 10, 22, 27, 18, 12, 18, 19, 12, 11, 11, 12, 12, 15, 10, 14, 10, 10, 12, 21, 13, 10, 11, 16, 12, 11, 13, 11, 13, 17, 10, 21, 15, 12, 10, 13, 11, 11, 11, 16, 40, 25, 20, 16, 10, 12, 24, 19, 16, 13, 11, 12, 13, 15, 12, 18, 14, 14, 13, 10, 10, 10, 13, 15, 25, 10, 16, 11, 10, 11, 13, 10, 14, 12, 16, 10, 11, 10, 11, 10, 17, 15, 14, 21, 11, 10, 17, 19, 12, 10, 27, 11, 15, 16, 11, 19, 27, 13, 14, 18, 12, 11, 11, 10, 19, 13, 10, 14, 12, 14, 17, 11, 12, 10, 11, 11, 14, 33, 13, 14, 12, 11, 10, 10, 13, 10, 11, 11, 10, 14, 10, 40, 13, 10, 10, 17, 25, 10, 11, 13, 10, 11, 10, 21, 10, 13, 12, 10, 12, 20, 20, 17, 25, 40, 18, 20, 10, 11, 12, 17, 18, 10, 13, 10, 11, 10, 18, 15, 10, 11, 12, 11, 12, 16, 13, 22, 18, 15, 23, 14, 12, 10, 14, 11, 21, 11, 14, 12, 20, 13, 14, 11, 11, 17, 11, 18, 14, 10, 12, 20, 10, 13, 20, 14, 40, 11, 22, 14, 10, 19, 10, 14, 11, 25, 10, 11, 11, 10, 10, 11, 19, 24, 10, 20, 12, 10, 28, 10, 10, 10, 15, 12, 10, 15, 12, 21, 10, 11, 14, 10, 21, 11, 11, 14, 12, 13, 20, 10, 13, 29, 14, 12, 15, 10, 11, 14, 14, 10, 18, 10, 10, 10, 10, 15, 16, 13, 12, 19, 18, 11, 18, 14, 18, 18, 10, 11, 17, 10, 14, 17, 40, 15, 12, 16, 23, 15, 15, 17, 19, 19, 11, 11, 13, 18, 10, 11, 10, 11, 10, 10, 19, 10, 10, 10, 11, 10, 13, 11, 14, 11, 16, 16, 20, 15, 19, 14, 19, 13, 10, 11, 12, 15, 10, 13, 23, 15, 12, 11, 11, 10, 10, 12, 40, 11, 11, 10, 15, 10, 15, 11, 12, 12, 10, 11, 12, 20, 18, 18, 16, 17, 11, 13, 14, 12, 19, 15, 16, 15, 12, 10, 11, 10, 11, 11, 10, 10, 11, 15, 14, 25, 12, 13, 15, 10, 12, 10, 16, 13, 21, 13, 40, 14, 12, 12, 13, 11, 14, 14, 11, 16, 28, 15, 12, 13, 18, 10, 11, 11, 11, 14, 26, 18, 11, 20, 26, 10, 10, 13, 18, 15, 12, 15, 21, 12, 31, 16, 12, 15, 11, 13, 14, 13, 12, 12, 11, 11, 11, 12, 13, 25, 14, 21, 11, 16, 10, 10, 15, 10, 21, 11, 11, 12, 10, 10, 12, 12, 16, 17, 12, 13, 12, 17, 12, 12, 31, 18, 12, 13, 12, 11, 15, 14, 10, 10, 17, 18, 14, 12, 17, 14, 23, 13, 13, 28, 11, 11, 17, 10, 31, 27, 17, 11, 10, 10, 10, 40, 12, 19, 10, 11, 10, 27, 24, 10, 11, 33, 15, 10, 12, 10, 13, 18, 14, 10, 10, 11, 13, 13, 11, 12, 13, 26, 14, 15, 12, 10, 23, 21, 40, 13, 10, 10, 11, 17, 13, 10, 10, 13, 10, 12, 10, 15], \"xbins\": {\"end\": 50, \"size\": 2, \"start\": 0}}],\n                        {\"bargap\": 0.2, \"template\": {\"data\": {\"bar\": [{\"error_x\": {\"color\": \"#2a3f5f\"}, \"error_y\": {\"color\": \"#2a3f5f\"}, \"marker\": {\"line\": {\"color\": \"#E5ECF6\", \"width\": 0.5}}, \"type\": \"bar\"}], \"barpolar\": [{\"marker\": {\"line\": {\"color\": \"#E5ECF6\", \"width\": 0.5}}, \"type\": \"barpolar\"}], \"carpet\": [{\"aaxis\": {\"endlinecolor\": \"#2a3f5f\", \"gridcolor\": \"white\", \"linecolor\": \"white\", \"minorgridcolor\": \"white\", \"startlinecolor\": \"#2a3f5f\"}, \"baxis\": {\"endlinecolor\": \"#2a3f5f\", \"gridcolor\": \"white\", \"linecolor\": \"white\", \"minorgridcolor\": \"white\", \"startlinecolor\": \"#2a3f5f\"}, \"type\": \"carpet\"}], \"choropleth\": [{\"colorbar\": {\"outlinewidth\": 0, \"ticks\": \"\"}, \"type\": \"choropleth\"}], \"contour\": [{\"colorbar\": {\"outlinewidth\": 0, \"ticks\": \"\"}, \"colorscale\": [[0.0, \"#0d0887\"], [0.1111111111111111, \"#46039f\"], [0.2222222222222222, \"#7201a8\"], [0.3333333333333333, \"#9c179e\"], [0.4444444444444444, \"#bd3786\"], [0.5555555555555556, \"#d8576b\"], [0.6666666666666666, \"#ed7953\"], [0.7777777777777778, \"#fb9f3a\"], [0.8888888888888888, \"#fdca26\"], [1.0, \"#f0f921\"]], \"type\": \"contour\"}], \"contourcarpet\": [{\"colorbar\": {\"outlinewidth\": 0, \"ticks\": \"\"}, \"type\": \"contourcarpet\"}], \"heatmap\": [{\"colorbar\": {\"outlinewidth\": 0, \"ticks\": \"\"}, \"colorscale\": [[0.0, \"#0d0887\"], [0.1111111111111111, \"#46039f\"], [0.2222222222222222, \"#7201a8\"], [0.3333333333333333, \"#9c179e\"], [0.4444444444444444, \"#bd3786\"], [0.5555555555555556, \"#d8576b\"], [0.6666666666666666, \"#ed7953\"], [0.7777777777777778, \"#fb9f3a\"], [0.8888888888888888, \"#fdca26\"], [1.0, \"#f0f921\"]], \"type\": \"heatmap\"}], \"heatmapgl\": [{\"colorbar\": {\"outlinewidth\": 0, \"ticks\": \"\"}, \"colorscale\": [[0.0, \"#0d0887\"], [0.1111111111111111, \"#46039f\"], [0.2222222222222222, \"#7201a8\"], [0.3333333333333333, \"#9c179e\"], [0.4444444444444444, \"#bd3786\"], [0.5555555555555556, \"#d8576b\"], [0.6666666666666666, \"#ed7953\"], [0.7777777777777778, \"#fb9f3a\"], [0.8888888888888888, \"#fdca26\"], [1.0, \"#f0f921\"]], \"type\": \"heatmapgl\"}], \"histogram\": [{\"marker\": {\"colorbar\": {\"outlinewidth\": 0, \"ticks\": \"\"}}, \"type\": \"histogram\"}], \"histogram2d\": [{\"colorbar\": {\"outlinewidth\": 0, \"ticks\": \"\"}, \"colorscale\": [[0.0, \"#0d0887\"], [0.1111111111111111, \"#46039f\"], [0.2222222222222222, \"#7201a8\"], [0.3333333333333333, \"#9c179e\"], [0.4444444444444444, \"#bd3786\"], [0.5555555555555556, \"#d8576b\"], [0.6666666666666666, \"#ed7953\"], [0.7777777777777778, \"#fb9f3a\"], [0.8888888888888888, \"#fdca26\"], [1.0, \"#f0f921\"]], \"type\": \"histogram2d\"}], \"histogram2dcontour\": [{\"colorbar\": {\"outlinewidth\": 0, \"ticks\": \"\"}, \"colorscale\": [[0.0, \"#0d0887\"], [0.1111111111111111, \"#46039f\"], [0.2222222222222222, \"#7201a8\"], [0.3333333333333333, \"#9c179e\"], [0.4444444444444444, \"#bd3786\"], [0.5555555555555556, \"#d8576b\"], [0.6666666666666666, \"#ed7953\"], [0.7777777777777778, \"#fb9f3a\"], [0.8888888888888888, \"#fdca26\"], [1.0, \"#f0f921\"]], \"type\": \"histogram2dcontour\"}], \"mesh3d\": [{\"colorbar\": {\"outlinewidth\": 0, \"ticks\": \"\"}, \"type\": \"mesh3d\"}], \"parcoords\": [{\"line\": {\"colorbar\": {\"outlinewidth\": 0, \"ticks\": \"\"}}, \"type\": \"parcoords\"}], \"pie\": [{\"automargin\": true, \"type\": \"pie\"}], \"scatter\": [{\"marker\": {\"colorbar\": {\"outlinewidth\": 0, \"ticks\": \"\"}}, \"type\": \"scatter\"}], \"scatter3d\": [{\"line\": {\"colorbar\": {\"outlinewidth\": 0, \"ticks\": \"\"}}, \"marker\": {\"colorbar\": {\"outlinewidth\": 0, \"ticks\": \"\"}}, \"type\": \"scatter3d\"}], \"scattercarpet\": [{\"marker\": {\"colorbar\": {\"outlinewidth\": 0, \"ticks\": \"\"}}, \"type\": \"scattercarpet\"}], \"scattergeo\": [{\"marker\": {\"colorbar\": {\"outlinewidth\": 0, \"ticks\": \"\"}}, \"type\": \"scattergeo\"}], \"scattergl\": [{\"marker\": {\"colorbar\": {\"outlinewidth\": 0, \"ticks\": \"\"}}, \"type\": \"scattergl\"}], \"scattermapbox\": [{\"marker\": {\"colorbar\": {\"outlinewidth\": 0, \"ticks\": \"\"}}, \"type\": \"scattermapbox\"}], \"scatterpolar\": [{\"marker\": {\"colorbar\": {\"outlinewidth\": 0, \"ticks\": \"\"}}, \"type\": \"scatterpolar\"}], \"scatterpolargl\": [{\"marker\": {\"colorbar\": {\"outlinewidth\": 0, \"ticks\": \"\"}}, \"type\": \"scatterpolargl\"}], \"scatterternary\": [{\"marker\": {\"colorbar\": {\"outlinewidth\": 0, \"ticks\": \"\"}}, \"type\": \"scatterternary\"}], \"surface\": [{\"colorbar\": {\"outlinewidth\": 0, \"ticks\": \"\"}, \"colorscale\": [[0.0, \"#0d0887\"], [0.1111111111111111, \"#46039f\"], [0.2222222222222222, \"#7201a8\"], [0.3333333333333333, \"#9c179e\"], [0.4444444444444444, \"#bd3786\"], [0.5555555555555556, \"#d8576b\"], [0.6666666666666666, \"#ed7953\"], [0.7777777777777778, \"#fb9f3a\"], [0.8888888888888888, \"#fdca26\"], [1.0, \"#f0f921\"]], \"type\": \"surface\"}], \"table\": [{\"cells\": {\"fill\": {\"color\": \"#EBF0F8\"}, \"line\": {\"color\": \"white\"}}, \"header\": {\"fill\": {\"color\": \"#C8D4E3\"}, \"line\": {\"color\": \"white\"}}, \"type\": \"table\"}]}, \"layout\": {\"annotationdefaults\": {\"arrowcolor\": \"#2a3f5f\", \"arrowhead\": 0, \"arrowwidth\": 1}, \"coloraxis\": {\"colorbar\": {\"outlinewidth\": 0, \"ticks\": \"\"}}, \"colorscale\": {\"diverging\": [[0, \"#8e0152\"], [0.1, \"#c51b7d\"], [0.2, \"#de77ae\"], [0.3, \"#f1b6da\"], [0.4, \"#fde0ef\"], [0.5, \"#f7f7f7\"], [0.6, \"#e6f5d0\"], [0.7, \"#b8e186\"], [0.8, \"#7fbc41\"], [0.9, \"#4d9221\"], [1, \"#276419\"]], \"sequential\": [[0.0, \"#0d0887\"], [0.1111111111111111, \"#46039f\"], [0.2222222222222222, \"#7201a8\"], [0.3333333333333333, \"#9c179e\"], [0.4444444444444444, \"#bd3786\"], [0.5555555555555556, \"#d8576b\"], [0.6666666666666666, \"#ed7953\"], [0.7777777777777778, \"#fb9f3a\"], [0.8888888888888888, \"#fdca26\"], [1.0, \"#f0f921\"]], \"sequentialminus\": [[0.0, \"#0d0887\"], [0.1111111111111111, \"#46039f\"], [0.2222222222222222, \"#7201a8\"], [0.3333333333333333, \"#9c179e\"], [0.4444444444444444, \"#bd3786\"], [0.5555555555555556, \"#d8576b\"], [0.6666666666666666, \"#ed7953\"], [0.7777777777777778, \"#fb9f3a\"], [0.8888888888888888, \"#fdca26\"], [1.0, \"#f0f921\"]]}, \"colorway\": [\"#636efa\", \"#EF553B\", \"#00cc96\", \"#ab63fa\", \"#FFA15A\", \"#19d3f3\", \"#FF6692\", \"#B6E880\", \"#FF97FF\", \"#FECB52\"], \"font\": {\"color\": \"#2a3f5f\"}, \"geo\": {\"bgcolor\": \"white\", \"lakecolor\": \"white\", \"landcolor\": \"#E5ECF6\", \"showlakes\": true, \"showland\": true, \"subunitcolor\": \"white\"}, \"hoverlabel\": {\"align\": \"left\"}, \"hovermode\": \"closest\", \"mapbox\": {\"style\": \"light\"}, \"paper_bgcolor\": \"white\", \"plot_bgcolor\": \"#E5ECF6\", \"polar\": {\"angularaxis\": {\"gridcolor\": \"white\", \"linecolor\": \"white\", \"ticks\": \"\"}, \"bgcolor\": \"#E5ECF6\", \"radialaxis\": {\"gridcolor\": \"white\", \"linecolor\": \"white\", \"ticks\": \"\"}}, \"scene\": {\"xaxis\": {\"backgroundcolor\": \"#E5ECF6\", \"gridcolor\": \"white\", \"gridwidth\": 2, \"linecolor\": \"white\", \"showbackground\": true, \"ticks\": \"\", \"zerolinecolor\": \"white\"}, \"yaxis\": {\"backgroundcolor\": \"#E5ECF6\", \"gridcolor\": \"white\", \"gridwidth\": 2, \"linecolor\": \"white\", \"showbackground\": true, \"ticks\": \"\", \"zerolinecolor\": \"white\"}, \"zaxis\": {\"backgroundcolor\": \"#E5ECF6\", \"gridcolor\": \"white\", \"gridwidth\": 2, \"linecolor\": \"white\", \"showbackground\": true, \"ticks\": \"\", \"zerolinecolor\": \"white\"}}, \"shapedefaults\": {\"line\": {\"color\": \"#2a3f5f\"}}, \"ternary\": {\"aaxis\": {\"gridcolor\": \"white\", \"linecolor\": \"white\", \"ticks\": \"\"}, \"baxis\": {\"gridcolor\": \"white\", \"linecolor\": \"white\", \"ticks\": \"\"}, \"bgcolor\": \"#E5ECF6\", \"caxis\": {\"gridcolor\": \"white\", \"linecolor\": \"white\", \"ticks\": \"\"}}, \"title\": {\"x\": 0.05}, \"xaxis\": {\"automargin\": true, \"gridcolor\": \"white\", \"linecolor\": \"white\", \"ticks\": \"\", \"title\": {\"standoff\": 15}, \"zerolinecolor\": \"white\", \"zerolinewidth\": 2}, \"yaxis\": {\"automargin\": true, \"gridcolor\": \"white\", \"linecolor\": \"white\", \"ticks\": \"\", \"title\": {\"standoff\": 15}, \"zerolinecolor\": \"white\", \"zerolinewidth\": 2}}}, \"title\": {\"text\": \"Ph\\u00e2n ph\\u1ed1i \\u0111\\u00e1nh gi\\u00e1 theo ng\\u01b0\\u1eddi d\\u00f9ng (x\\u00e9t t\\u1ed1i \\u0111a 40 \\u0111\\u00e1nh gi\\u00e1)\"}, \"xaxis\": {\"title\": {\"text\": \"S\\u1ed1 l\\u01b0\\u1ee3t \\u0111\\u00e1nh gi\\u00e1 c\\u1ee7a m\\u1ed7i ng\\u01b0\\u1eddi\"}}, \"yaxis\": {\"title\": {\"text\": \"S\\u1ed1 l\\u01b0\\u1ee3ng ng\\u01b0\\u1eddi d\\u00f9ng\"}}},\n                        {\"responsive\": true}\n                    ).then(function(){\n                            \nvar gd = document.getElementById('6d0b0cd5-62dd-4327-9e8d-742a4e830141');\nvar x = new MutationObserver(function (mutations, observer) {{\n        var display = window.getComputedStyle(gd).display;\n        if (!display || display === 'none') {{\n            console.log([gd, 'removed!']);\n            Plotly.purge(gd);\n            observer.disconnect();\n        }}\n}});\n\n// Listen for the removal of the full notebook cells\nvar notebookContainer = gd.closest('#notebook-container');\nif (notebookContainer) {{\n    x.observe(notebookContainer, {childList: true});\n}}\n\n// Listen for the clearing of the current output cell\nvar outputEl = gd.closest('.output');\nif (outputEl) {{\n    x.observe(outputEl, {childList: true});\n}}\n\n                        })\n                };\n                });\n            </script>\n        </div>"
     },
     "metadata": {}
    }
   ],
   "source": [
    "data = format_data.groupby('user')['rating'].count().clip(upper=40)\n",
    "# Create trace\n",
    "trace = go.Histogram(x = data.values,\n",
    "                     name = 'Ratings',\n",
    "                     xbins = dict(start = 0,\n",
    "                                  end = 50,\n",
    "                                  size = 2))\n",
    "# Create layout\n",
    "layout = go.Layout(title = 'Phân phối đánh giá theo người dùng (xét tối đa 40 đánh giá)',\n",
    "                   xaxis = dict(title = 'Số lượt đánh giá của mỗi người'),\n",
    "                   yaxis = dict(title = 'Số lượng người dùng'),\n",
    "                   bargap = 0.2)\n",
    "\n",
    "# Create plot\n",
    "fig = go.Figure(data=[trace], layout=layout)\n",
    "iplot(fig)"
   ]
  },
  {
   "cell_type": "code",
   "execution_count": 11,
   "metadata": {},
   "outputs": [
    {
     "output_type": "execute_result",
     "data": {
      "text/plain": [
       "        user  rating\n",
       "514    48036     148\n",
       "684    63996      84\n",
       "416    36454      68\n",
       "499    45589      65\n",
       "1335  127590      62\n",
       "981    90422      61\n",
       "1054   98864      58\n",
       "251    19931      57\n",
       "394    33591      56\n",
       "356    30255      55"
      ],
      "text/html": "<div>\n<style scoped>\n    .dataframe tbody tr th:only-of-type {\n        vertical-align: middle;\n    }\n\n    .dataframe tbody tr th {\n        vertical-align: top;\n    }\n\n    .dataframe thead th {\n        text-align: right;\n    }\n</style>\n<table border=\"1\" class=\"dataframe\">\n  <thead>\n    <tr style=\"text-align: right;\">\n      <th></th>\n      <th>user</th>\n      <th>rating</th>\n    </tr>\n  </thead>\n  <tbody>\n    <tr>\n      <th>514</th>\n      <td>48036</td>\n      <td>148</td>\n    </tr>\n    <tr>\n      <th>684</th>\n      <td>63996</td>\n      <td>84</td>\n    </tr>\n    <tr>\n      <th>416</th>\n      <td>36454</td>\n      <td>68</td>\n    </tr>\n    <tr>\n      <th>499</th>\n      <td>45589</td>\n      <td>65</td>\n    </tr>\n    <tr>\n      <th>1335</th>\n      <td>127590</td>\n      <td>62</td>\n    </tr>\n    <tr>\n      <th>981</th>\n      <td>90422</td>\n      <td>61</td>\n    </tr>\n    <tr>\n      <th>1054</th>\n      <td>98864</td>\n      <td>58</td>\n    </tr>\n    <tr>\n      <th>251</th>\n      <td>19931</td>\n      <td>57</td>\n    </tr>\n    <tr>\n      <th>394</th>\n      <td>33591</td>\n      <td>56</td>\n    </tr>\n    <tr>\n      <th>356</th>\n      <td>30255</td>\n      <td>55</td>\n    </tr>\n  </tbody>\n</table>\n</div>"
     },
     "metadata": {},
     "execution_count": 11
    }
   ],
   "source": [
    "format_data.groupby('user')['rating'].count().reset_index().sort_values('rating', ascending=False)[:10]"
   ]
  },
  {
   "source": [
    "# 3. Surprise - model selection"
   ],
   "cell_type": "markdown",
   "metadata": {}
  },
  {
   "cell_type": "code",
   "execution_count": 12,
   "metadata": {},
   "outputs": [],
   "source": [
    "file_path = '../Data/final_rating_not_spare_format.csv'\n",
    "reader = Reader(line_format='item user rating', sep=',', rating_scale = (1,5), skip_lines=1)\n",
    "\n",
    "data = Dataset.load_from_file(file_path, reader=reader)"
   ]
  },
  {
   "cell_type": "code",
   "execution_count": 13,
   "metadata": {},
   "outputs": [
    {
     "output_type": "stream",
     "name": "stdout",
     "text": [
      "Computing the msd similarity matrix...\n",
      "Done computing similarity matrix.\n",
      "Computing the msd similarity matrix...\n",
      "Done computing similarity matrix.\n",
      "Computing the msd similarity matrix...\n",
      "Done computing similarity matrix.\n"
     ]
    }
   ],
   "source": [
    "benchmark = []\n",
    "# Iterate over all algorithms\n",
    "for algorithm in [SVD(), NMF(), NormalPredictor(), KNNBasic()]:\n",
    "    # Perform cross validation\n",
    "    results = cross_validate(algorithm, data, measures=['RMSE', 'MAE'], cv=3, verbose=False)\n",
    "    \n",
    "    # Get results & append algorithm name\n",
    "    tmp = pd.DataFrame.from_dict(results).mean(axis=0)\n",
    "    tmp = tmp.append(pd.Series([str(algorithm).split(' ')[0].split('.')[-1]],index=['Algorithm']))\n",
    "    benchmark.append(tmp)"
   ]
  },
  {
   "cell_type": "code",
   "execution_count": 14,
   "metadata": {},
   "outputs": [
    {
     "output_type": "execute_result",
     "data": {
      "text/plain": [
       "                 test_rmse  test_mae  fit_time  test_time\n",
       "Algorithm                                                \n",
       "SVD               0.579832  0.336416  1.404071   0.092673\n",
       "KNNBasic          0.751567  0.406697  0.093339   0.163264\n",
       "NormalPredictor   0.834492  0.542489  0.033078   0.072917\n",
       "NMF               0.851787  0.652043  2.187002   0.072004"
      ],
      "text/html": "<div>\n<style scoped>\n    .dataframe tbody tr th:only-of-type {\n        vertical-align: middle;\n    }\n\n    .dataframe tbody tr th {\n        vertical-align: top;\n    }\n\n    .dataframe thead th {\n        text-align: right;\n    }\n</style>\n<table border=\"1\" class=\"dataframe\">\n  <thead>\n    <tr style=\"text-align: right;\">\n      <th></th>\n      <th>test_rmse</th>\n      <th>test_mae</th>\n      <th>fit_time</th>\n      <th>test_time</th>\n    </tr>\n    <tr>\n      <th>Algorithm</th>\n      <th></th>\n      <th></th>\n      <th></th>\n      <th></th>\n    </tr>\n  </thead>\n  <tbody>\n    <tr>\n      <th>SVD</th>\n      <td>0.579832</td>\n      <td>0.336416</td>\n      <td>1.404071</td>\n      <td>0.092673</td>\n    </tr>\n    <tr>\n      <th>KNNBasic</th>\n      <td>0.751567</td>\n      <td>0.406697</td>\n      <td>0.093339</td>\n      <td>0.163264</td>\n    </tr>\n    <tr>\n      <th>NormalPredictor</th>\n      <td>0.834492</td>\n      <td>0.542489</td>\n      <td>0.033078</td>\n      <td>0.072917</td>\n    </tr>\n    <tr>\n      <th>NMF</th>\n      <td>0.851787</td>\n      <td>0.652043</td>\n      <td>2.187002</td>\n      <td>0.072004</td>\n    </tr>\n  </tbody>\n</table>\n</div>"
     },
     "metadata": {},
     "execution_count": 14
    }
   ],
   "source": [
    "surprise_results = pd.DataFrame(benchmark).set_index('Algorithm').sort_values('test_rmse')\n",
    "surprise_results"
   ]
  },
  {
   "source": [
    "## Tunining algorithm parameters with to find the best parameters for the algorithm.\n",
    "\n",
    "Default values for SVD:\n",
    "- n_factors - 100\n",
    "- n_epochs - 20\n",
    "- lr_all – 0.005\n",
    "- reg_all – 0.02\n"
   ],
   "cell_type": "markdown",
   "metadata": {}
  },
  {
   "cell_type": "code",
   "execution_count": 15,
   "metadata": {},
   "outputs": [
    {
     "output_type": "stream",
     "name": "stdout",
     "text": [
      "0.5680282385625571\n{'n_factors': 25, 'n_epochs': 25, 'lr_all': 0.008, 'reg_all': 0.1}\n"
     ]
    }
   ],
   "source": [
    "param_grid = {'n_factors': [25, 30, 35, 40], 'n_epochs': [15, 20, 25], 'lr_all': [0.001, 0.003, 0.005, 0.008],\n",
    "              'reg_all': [0.08, 0.1, 0.15]}\n",
    "gs = GridSearchCV(SVD, param_grid, measures=['rmse', 'mae'], cv=3, return_train_measures=True)\n",
    "gs.fit(data)\n",
    "algo = gs.best_estimator['rmse']\n",
    "print(gs.best_score['rmse'])\n",
    "print(gs.best_params['rmse'])\n",
    "\n",
    "#Assigning values\n",
    "t = gs.best_params\n",
    "factors = t['rmse']['n_factors']\n",
    "epochs = t['rmse']['n_epochs']\n",
    "lr_value = t['rmse']['lr_all']\n",
    "reg_value = t['rmse']['reg_all']\n",
    "\n"
   ]
  },
  {
   "source": [
    "## Training and Testing"
   ],
   "cell_type": "markdown",
   "metadata": {}
  },
  {
   "cell_type": "code",
   "execution_count": null,
   "metadata": {},
   "outputs": [],
   "source": []
  },
  {
   "cell_type": "code",
   "execution_count": 16,
   "metadata": {},
   "outputs": [
    {
     "output_type": "stream",
     "name": "stdout",
     "text": [
      "Number of users:  1382 \n\nNumber of items:  4881 \n\n"
     ]
    }
   ],
   "source": [
    "trainset, testset = train_test_split(data, test_size=0.2, random_state=43)\n",
    "print('Number of users: ', trainset.n_users, '\\n')\n",
    "print('Number of items: ', trainset.n_items, '\\n')"
   ]
  },
  {
   "cell_type": "code",
   "execution_count": 17,
   "metadata": {},
   "outputs": [
    {
     "output_type": "stream",
     "name": "stdout",
     "text": [
      "RMSE: 0.5322\n"
     ]
    },
    {
     "output_type": "execute_result",
     "data": {
      "text/plain": [
       "0.5321553952639398"
      ]
     },
     "metadata": {},
     "execution_count": 17
    }
   ],
   "source": [
    "algo = SVD(n_factors=factors, n_epochs=epochs, lr_all=lr_value, reg_all=reg_value)\n",
    "predictions = algo.fit(trainset).test(testset)\n",
    "accuracy.rmse(predictions)"
   ]
  },
  {
   "source": [
    "### Let's check how good or bad our predictions are:\n",
    "\n",
    "The following function will create a pandas data frame which will consist of these columns:\n",
    "\n",
    "**UID**: user-id\n",
    "\n",
    "**iid**: item id\n",
    "\n",
    "**Rui**: the rating given by the user\n",
    "\n",
    "**est**: rating estimated by the model\n",
    "\n",
    "**Iu**: No of items rated by the user\n",
    "\n",
    "**UI**: number of users that have rated this item\n",
    "\n",
    "**err**: abs difference between predicted rating and the actual rating.\n"
   ],
   "cell_type": "markdown",
   "metadata": {}
  },
  {
   "cell_type": "code",
   "execution_count": 18,
   "metadata": {},
   "outputs": [],
   "source": [
    "def get_Iu(uid):\n",
    "    \"\"\" \n",
    "    args: \n",
    "      uid: the id of the user\n",
    "    returns: \n",
    "      the number of items rated by the user\n",
    "    \"\"\"\n",
    "    try:\n",
    "        return len(trainset.ur[trainset.to_inner_uid(uid)])\n",
    "    except ValueError: # user was not part of the trainset\n",
    "        return 0\n",
    "    \n",
    "def get_Ui(iid):\n",
    "    \"\"\" \n",
    "    args:\n",
    "      iid: the raw id of the item\n",
    "    returns:\n",
    "      the number of users that have rated the item.\n",
    "    \"\"\"\n",
    "    try: \n",
    "        return len(trainset.ir[trainset.to_inner_iid(iid)])\n",
    "    except ValueError:\n",
    "        return 0\n",
    "\n",
    "    \n",
    "df_predictions = pd.DataFrame(predictions, columns=['uid', 'iid', 'rui', 'est', 'details'])\n",
    "df_predictions['Iu'] = df_predictions.uid.apply(get_Iu)\n",
    "df_predictions['Ui'] = df_predictions.iid.apply(get_Ui)\n",
    "df_predictions['err'] = abs(df_predictions.est - df_predictions.rui)"
   ]
  },
  {
   "cell_type": "code",
   "execution_count": 19,
   "metadata": {},
   "outputs": [
    {
     "output_type": "execute_result",
     "data": {
      "text/plain": [
       "      uid   iid  rui       est                    details  Iu  Ui       err\n",
       "0  125199  1837  5.0  4.608253  {'was_impossible': False}  10  15  0.391747\n",
       "1   65488  6878  5.0  4.675998  {'was_impossible': False}  13   5  0.324002\n",
       "2  118840  2490  5.0  4.847784  {'was_impossible': False}  15   0  0.152216\n",
       "3  115016  7744  4.0  4.770813  {'was_impossible': False}  18   4  0.770813\n",
       "4   20495  1866  5.0  4.557089  {'was_impossible': False}  22   4  0.442911"
      ],
      "text/html": "<div>\n<style scoped>\n    .dataframe tbody tr th:only-of-type {\n        vertical-align: middle;\n    }\n\n    .dataframe tbody tr th {\n        vertical-align: top;\n    }\n\n    .dataframe thead th {\n        text-align: right;\n    }\n</style>\n<table border=\"1\" class=\"dataframe\">\n  <thead>\n    <tr style=\"text-align: right;\">\n      <th></th>\n      <th>uid</th>\n      <th>iid</th>\n      <th>rui</th>\n      <th>est</th>\n      <th>details</th>\n      <th>Iu</th>\n      <th>Ui</th>\n      <th>err</th>\n    </tr>\n  </thead>\n  <tbody>\n    <tr>\n      <th>0</th>\n      <td>125199</td>\n      <td>1837</td>\n      <td>5.0</td>\n      <td>4.608253</td>\n      <td>{'was_impossible': False}</td>\n      <td>10</td>\n      <td>15</td>\n      <td>0.391747</td>\n    </tr>\n    <tr>\n      <th>1</th>\n      <td>65488</td>\n      <td>6878</td>\n      <td>5.0</td>\n      <td>4.675998</td>\n      <td>{'was_impossible': False}</td>\n      <td>13</td>\n      <td>5</td>\n      <td>0.324002</td>\n    </tr>\n    <tr>\n      <th>2</th>\n      <td>118840</td>\n      <td>2490</td>\n      <td>5.0</td>\n      <td>4.847784</td>\n      <td>{'was_impossible': False}</td>\n      <td>15</td>\n      <td>0</td>\n      <td>0.152216</td>\n    </tr>\n    <tr>\n      <th>3</th>\n      <td>115016</td>\n      <td>7744</td>\n      <td>4.0</td>\n      <td>4.770813</td>\n      <td>{'was_impossible': False}</td>\n      <td>18</td>\n      <td>4</td>\n      <td>0.770813</td>\n    </tr>\n    <tr>\n      <th>4</th>\n      <td>20495</td>\n      <td>1866</td>\n      <td>5.0</td>\n      <td>4.557089</td>\n      <td>{'was_impossible': False}</td>\n      <td>22</td>\n      <td>4</td>\n      <td>0.442911</td>\n    </tr>\n  </tbody>\n</table>\n</div>"
     },
     "metadata": {},
     "execution_count": 19
    }
   ],
   "source": [
    "df_predictions.head()"
   ]
  },
  {
   "source": [
    "## Let's see the 10 best and worst predictions our model made"
   ],
   "cell_type": "markdown",
   "metadata": {}
  },
  {
   "cell_type": "code",
   "execution_count": 20,
   "metadata": {},
   "outputs": [],
   "source": [
    "best_predictions = df_predictions.sort_values(by='err')[:10]\n",
    "worst_predictions = df_predictions.sort_values(by='err')[-10:]"
   ]
  },
  {
   "cell_type": "code",
   "execution_count": 21,
   "metadata": {},
   "outputs": [
    {
     "output_type": "execute_result",
     "data": {
      "text/plain": [
       "         uid   iid  rui  est                    details  Iu  Ui  err\n",
       "609   119574  4693  5.0  5.0  {'was_impossible': False}   8   4  0.0\n",
       "1531   92673  7393  5.0  5.0  {'was_impossible': False}  34   8  0.0\n",
       "1529   65887  8169  5.0  5.0  {'was_impossible': False}  13   5  0.0\n",
       "3982   82888  8346  5.0  5.0  {'was_impossible': False}  34  19  0.0\n",
       "3980   52494  9204  5.0  5.0  {'was_impossible': False}  36   5  0.0\n",
       "3320   68956   598  5.0  5.0  {'was_impossible': False}   5  15  0.0\n",
       "683   110700  8679  5.0  5.0  {'was_impossible': False}   9   4  0.0\n",
       "2184   55338  3534  5.0  5.0  {'was_impossible': False}   9  12  0.0\n",
       "3979   18620  9793  5.0  5.0  {'was_impossible': False}  38   2  0.0\n",
       "2714   70182  2187  5.0  5.0  {'was_impossible': False}  18   3  0.0"
      ],
      "text/html": "<div>\n<style scoped>\n    .dataframe tbody tr th:only-of-type {\n        vertical-align: middle;\n    }\n\n    .dataframe tbody tr th {\n        vertical-align: top;\n    }\n\n    .dataframe thead th {\n        text-align: right;\n    }\n</style>\n<table border=\"1\" class=\"dataframe\">\n  <thead>\n    <tr style=\"text-align: right;\">\n      <th></th>\n      <th>uid</th>\n      <th>iid</th>\n      <th>rui</th>\n      <th>est</th>\n      <th>details</th>\n      <th>Iu</th>\n      <th>Ui</th>\n      <th>err</th>\n    </tr>\n  </thead>\n  <tbody>\n    <tr>\n      <th>609</th>\n      <td>119574</td>\n      <td>4693</td>\n      <td>5.0</td>\n      <td>5.0</td>\n      <td>{'was_impossible': False}</td>\n      <td>8</td>\n      <td>4</td>\n      <td>0.0</td>\n    </tr>\n    <tr>\n      <th>1531</th>\n      <td>92673</td>\n      <td>7393</td>\n      <td>5.0</td>\n      <td>5.0</td>\n      <td>{'was_impossible': False}</td>\n      <td>34</td>\n      <td>8</td>\n      <td>0.0</td>\n    </tr>\n    <tr>\n      <th>1529</th>\n      <td>65887</td>\n      <td>8169</td>\n      <td>5.0</td>\n      <td>5.0</td>\n      <td>{'was_impossible': False}</td>\n      <td>13</td>\n      <td>5</td>\n      <td>0.0</td>\n    </tr>\n    <tr>\n      <th>3982</th>\n      <td>82888</td>\n      <td>8346</td>\n      <td>5.0</td>\n      <td>5.0</td>\n      <td>{'was_impossible': False}</td>\n      <td>34</td>\n      <td>19</td>\n      <td>0.0</td>\n    </tr>\n    <tr>\n      <th>3980</th>\n      <td>52494</td>\n      <td>9204</td>\n      <td>5.0</td>\n      <td>5.0</td>\n      <td>{'was_impossible': False}</td>\n      <td>36</td>\n      <td>5</td>\n      <td>0.0</td>\n    </tr>\n    <tr>\n      <th>3320</th>\n      <td>68956</td>\n      <td>598</td>\n      <td>5.0</td>\n      <td>5.0</td>\n      <td>{'was_impossible': False}</td>\n      <td>5</td>\n      <td>15</td>\n      <td>0.0</td>\n    </tr>\n    <tr>\n      <th>683</th>\n      <td>110700</td>\n      <td>8679</td>\n      <td>5.0</td>\n      <td>5.0</td>\n      <td>{'was_impossible': False}</td>\n      <td>9</td>\n      <td>4</td>\n      <td>0.0</td>\n    </tr>\n    <tr>\n      <th>2184</th>\n      <td>55338</td>\n      <td>3534</td>\n      <td>5.0</td>\n      <td>5.0</td>\n      <td>{'was_impossible': False}</td>\n      <td>9</td>\n      <td>12</td>\n      <td>0.0</td>\n    </tr>\n    <tr>\n      <th>3979</th>\n      <td>18620</td>\n      <td>9793</td>\n      <td>5.0</td>\n      <td>5.0</td>\n      <td>{'was_impossible': False}</td>\n      <td>38</td>\n      <td>2</td>\n      <td>0.0</td>\n    </tr>\n    <tr>\n      <th>2714</th>\n      <td>70182</td>\n      <td>2187</td>\n      <td>5.0</td>\n      <td>5.0</td>\n      <td>{'was_impossible': False}</td>\n      <td>18</td>\n      <td>3</td>\n      <td>0.0</td>\n    </tr>\n  </tbody>\n</table>\n</div>"
     },
     "metadata": {},
     "execution_count": 21
    }
   ],
   "source": [
    "best_predictions"
   ]
  },
  {
   "cell_type": "code",
   "execution_count": 22,
   "metadata": {},
   "outputs": [
    {
     "output_type": "execute_result",
     "data": {
      "text/plain": [
       "         uid   iid  rui       est                    details  Iu  Ui       err\n",
       "523     7432  4317  1.0  4.566855  {'was_impossible': False}  11   1  3.566855\n",
       "1903   98864  1381  5.0  1.348707  {'was_impossible': False}  48   9  3.651293\n",
       "824    23598  5248  1.0  4.703845  {'was_impossible': False}   8   7  3.703845\n",
       "1673  115584  6328  1.0  4.720897  {'was_impossible': False}  15   7  3.720897\n",
       "3456   65154  9359  1.0  4.752760  {'was_impossible': False}  13   5  3.752760\n",
       "2700  108690  6296  1.0  4.856180  {'was_impossible': False}  20   4  3.856180\n",
       "3421   32896  3085  1.0  4.929213  {'was_impossible': False}  35   1  3.929213\n",
       "2910   46801  1185  1.0  4.934567  {'was_impossible': False}   6   1  3.934567\n",
       "1807   60028  2329  1.0  4.957366  {'was_impossible': False}  29   0  3.957366\n",
       "4083   52494  1622  1.0  5.000000  {'was_impossible': False}  36   6  4.000000"
      ],
      "text/html": "<div>\n<style scoped>\n    .dataframe tbody tr th:only-of-type {\n        vertical-align: middle;\n    }\n\n    .dataframe tbody tr th {\n        vertical-align: top;\n    }\n\n    .dataframe thead th {\n        text-align: right;\n    }\n</style>\n<table border=\"1\" class=\"dataframe\">\n  <thead>\n    <tr style=\"text-align: right;\">\n      <th></th>\n      <th>uid</th>\n      <th>iid</th>\n      <th>rui</th>\n      <th>est</th>\n      <th>details</th>\n      <th>Iu</th>\n      <th>Ui</th>\n      <th>err</th>\n    </tr>\n  </thead>\n  <tbody>\n    <tr>\n      <th>523</th>\n      <td>7432</td>\n      <td>4317</td>\n      <td>1.0</td>\n      <td>4.566855</td>\n      <td>{'was_impossible': False}</td>\n      <td>11</td>\n      <td>1</td>\n      <td>3.566855</td>\n    </tr>\n    <tr>\n      <th>1903</th>\n      <td>98864</td>\n      <td>1381</td>\n      <td>5.0</td>\n      <td>1.348707</td>\n      <td>{'was_impossible': False}</td>\n      <td>48</td>\n      <td>9</td>\n      <td>3.651293</td>\n    </tr>\n    <tr>\n      <th>824</th>\n      <td>23598</td>\n      <td>5248</td>\n      <td>1.0</td>\n      <td>4.703845</td>\n      <td>{'was_impossible': False}</td>\n      <td>8</td>\n      <td>7</td>\n      <td>3.703845</td>\n    </tr>\n    <tr>\n      <th>1673</th>\n      <td>115584</td>\n      <td>6328</td>\n      <td>1.0</td>\n      <td>4.720897</td>\n      <td>{'was_impossible': False}</td>\n      <td>15</td>\n      <td>7</td>\n      <td>3.720897</td>\n    </tr>\n    <tr>\n      <th>3456</th>\n      <td>65154</td>\n      <td>9359</td>\n      <td>1.0</td>\n      <td>4.752760</td>\n      <td>{'was_impossible': False}</td>\n      <td>13</td>\n      <td>5</td>\n      <td>3.752760</td>\n    </tr>\n    <tr>\n      <th>2700</th>\n      <td>108690</td>\n      <td>6296</td>\n      <td>1.0</td>\n      <td>4.856180</td>\n      <td>{'was_impossible': False}</td>\n      <td>20</td>\n      <td>4</td>\n      <td>3.856180</td>\n    </tr>\n    <tr>\n      <th>3421</th>\n      <td>32896</td>\n      <td>3085</td>\n      <td>1.0</td>\n      <td>4.929213</td>\n      <td>{'was_impossible': False}</td>\n      <td>35</td>\n      <td>1</td>\n      <td>3.929213</td>\n    </tr>\n    <tr>\n      <th>2910</th>\n      <td>46801</td>\n      <td>1185</td>\n      <td>1.0</td>\n      <td>4.934567</td>\n      <td>{'was_impossible': False}</td>\n      <td>6</td>\n      <td>1</td>\n      <td>3.934567</td>\n    </tr>\n    <tr>\n      <th>1807</th>\n      <td>60028</td>\n      <td>2329</td>\n      <td>1.0</td>\n      <td>4.957366</td>\n      <td>{'was_impossible': False}</td>\n      <td>29</td>\n      <td>0</td>\n      <td>3.957366</td>\n    </tr>\n    <tr>\n      <th>4083</th>\n      <td>52494</td>\n      <td>1622</td>\n      <td>1.0</td>\n      <td>5.000000</td>\n      <td>{'was_impossible': False}</td>\n      <td>36</td>\n      <td>6</td>\n      <td>4.000000</td>\n    </tr>\n  </tbody>\n</table>\n</div>"
     },
     "metadata": {},
     "execution_count": 22
    }
   ],
   "source": [
    "worst_predictions"
   ]
  },
  {
   "cell_type": "code",
   "execution_count": 23,
   "metadata": {},
   "outputs": [
    {
     "output_type": "execute_result",
     "data": {
      "text/plain": [
       "Series([], Name: rating, dtype: int64)"
      ]
     },
     "metadata": {},
     "execution_count": 23
    }
   ],
   "source": [
    "format_data.loc[format_data['item'] == 23598]['rating']"
   ]
  },
  {
   "cell_type": "code",
   "execution_count": 24,
   "metadata": {},
   "outputs": [
    {
     "output_type": "display_data",
     "data": {
      "application/vnd.plotly.v1+json": {
       "config": {
        "linkText": "Export to plot.ly",
        "plotlyServerURL": "https://plot.ly",
        "showLink": false
       },
       "data": [
        {
         "name": "Ratings",
         "type": "histogram",
         "x": [],
         "xbins": {
          "end": 5,
          "size": 0.3,
          "start": 0
         }
        }
       ],
       "layout": {
        "bargap": 0.2,
        "template": {
         "data": {
          "bar": [
           {
            "error_x": {
             "color": "#2a3f5f"
            },
            "error_y": {
             "color": "#2a3f5f"
            },
            "marker": {
             "line": {
              "color": "#E5ECF6",
              "width": 0.5
             }
            },
            "type": "bar"
           }
          ],
          "barpolar": [
           {
            "marker": {
             "line": {
              "color": "#E5ECF6",
              "width": 0.5
             }
            },
            "type": "barpolar"
           }
          ],
          "carpet": [
           {
            "aaxis": {
             "endlinecolor": "#2a3f5f",
             "gridcolor": "white",
             "linecolor": "white",
             "minorgridcolor": "white",
             "startlinecolor": "#2a3f5f"
            },
            "baxis": {
             "endlinecolor": "#2a3f5f",
             "gridcolor": "white",
             "linecolor": "white",
             "minorgridcolor": "white",
             "startlinecolor": "#2a3f5f"
            },
            "type": "carpet"
           }
          ],
          "choropleth": [
           {
            "colorbar": {
             "outlinewidth": 0,
             "ticks": ""
            },
            "type": "choropleth"
           }
          ],
          "contour": [
           {
            "colorbar": {
             "outlinewidth": 0,
             "ticks": ""
            },
            "colorscale": [
             [
              0,
              "#0d0887"
             ],
             [
              0.1111111111111111,
              "#46039f"
             ],
             [
              0.2222222222222222,
              "#7201a8"
             ],
             [
              0.3333333333333333,
              "#9c179e"
             ],
             [
              0.4444444444444444,
              "#bd3786"
             ],
             [
              0.5555555555555556,
              "#d8576b"
             ],
             [
              0.6666666666666666,
              "#ed7953"
             ],
             [
              0.7777777777777778,
              "#fb9f3a"
             ],
             [
              0.8888888888888888,
              "#fdca26"
             ],
             [
              1,
              "#f0f921"
             ]
            ],
            "type": "contour"
           }
          ],
          "contourcarpet": [
           {
            "colorbar": {
             "outlinewidth": 0,
             "ticks": ""
            },
            "type": "contourcarpet"
           }
          ],
          "heatmap": [
           {
            "colorbar": {
             "outlinewidth": 0,
             "ticks": ""
            },
            "colorscale": [
             [
              0,
              "#0d0887"
             ],
             [
              0.1111111111111111,
              "#46039f"
             ],
             [
              0.2222222222222222,
              "#7201a8"
             ],
             [
              0.3333333333333333,
              "#9c179e"
             ],
             [
              0.4444444444444444,
              "#bd3786"
             ],
             [
              0.5555555555555556,
              "#d8576b"
             ],
             [
              0.6666666666666666,
              "#ed7953"
             ],
             [
              0.7777777777777778,
              "#fb9f3a"
             ],
             [
              0.8888888888888888,
              "#fdca26"
             ],
             [
              1,
              "#f0f921"
             ]
            ],
            "type": "heatmap"
           }
          ],
          "heatmapgl": [
           {
            "colorbar": {
             "outlinewidth": 0,
             "ticks": ""
            },
            "colorscale": [
             [
              0,
              "#0d0887"
             ],
             [
              0.1111111111111111,
              "#46039f"
             ],
             [
              0.2222222222222222,
              "#7201a8"
             ],
             [
              0.3333333333333333,
              "#9c179e"
             ],
             [
              0.4444444444444444,
              "#bd3786"
             ],
             [
              0.5555555555555556,
              "#d8576b"
             ],
             [
              0.6666666666666666,
              "#ed7953"
             ],
             [
              0.7777777777777778,
              "#fb9f3a"
             ],
             [
              0.8888888888888888,
              "#fdca26"
             ],
             [
              1,
              "#f0f921"
             ]
            ],
            "type": "heatmapgl"
           }
          ],
          "histogram": [
           {
            "marker": {
             "colorbar": {
              "outlinewidth": 0,
              "ticks": ""
             }
            },
            "type": "histogram"
           }
          ],
          "histogram2d": [
           {
            "colorbar": {
             "outlinewidth": 0,
             "ticks": ""
            },
            "colorscale": [
             [
              0,
              "#0d0887"
             ],
             [
              0.1111111111111111,
              "#46039f"
             ],
             [
              0.2222222222222222,
              "#7201a8"
             ],
             [
              0.3333333333333333,
              "#9c179e"
             ],
             [
              0.4444444444444444,
              "#bd3786"
             ],
             [
              0.5555555555555556,
              "#d8576b"
             ],
             [
              0.6666666666666666,
              "#ed7953"
             ],
             [
              0.7777777777777778,
              "#fb9f3a"
             ],
             [
              0.8888888888888888,
              "#fdca26"
             ],
             [
              1,
              "#f0f921"
             ]
            ],
            "type": "histogram2d"
           }
          ],
          "histogram2dcontour": [
           {
            "colorbar": {
             "outlinewidth": 0,
             "ticks": ""
            },
            "colorscale": [
             [
              0,
              "#0d0887"
             ],
             [
              0.1111111111111111,
              "#46039f"
             ],
             [
              0.2222222222222222,
              "#7201a8"
             ],
             [
              0.3333333333333333,
              "#9c179e"
             ],
             [
              0.4444444444444444,
              "#bd3786"
             ],
             [
              0.5555555555555556,
              "#d8576b"
             ],
             [
              0.6666666666666666,
              "#ed7953"
             ],
             [
              0.7777777777777778,
              "#fb9f3a"
             ],
             [
              0.8888888888888888,
              "#fdca26"
             ],
             [
              1,
              "#f0f921"
             ]
            ],
            "type": "histogram2dcontour"
           }
          ],
          "mesh3d": [
           {
            "colorbar": {
             "outlinewidth": 0,
             "ticks": ""
            },
            "type": "mesh3d"
           }
          ],
          "parcoords": [
           {
            "line": {
             "colorbar": {
              "outlinewidth": 0,
              "ticks": ""
             }
            },
            "type": "parcoords"
           }
          ],
          "pie": [
           {
            "automargin": true,
            "type": "pie"
           }
          ],
          "scatter": [
           {
            "marker": {
             "colorbar": {
              "outlinewidth": 0,
              "ticks": ""
             }
            },
            "type": "scatter"
           }
          ],
          "scatter3d": [
           {
            "line": {
             "colorbar": {
              "outlinewidth": 0,
              "ticks": ""
             }
            },
            "marker": {
             "colorbar": {
              "outlinewidth": 0,
              "ticks": ""
             }
            },
            "type": "scatter3d"
           }
          ],
          "scattercarpet": [
           {
            "marker": {
             "colorbar": {
              "outlinewidth": 0,
              "ticks": ""
             }
            },
            "type": "scattercarpet"
           }
          ],
          "scattergeo": [
           {
            "marker": {
             "colorbar": {
              "outlinewidth": 0,
              "ticks": ""
             }
            },
            "type": "scattergeo"
           }
          ],
          "scattergl": [
           {
            "marker": {
             "colorbar": {
              "outlinewidth": 0,
              "ticks": ""
             }
            },
            "type": "scattergl"
           }
          ],
          "scattermapbox": [
           {
            "marker": {
             "colorbar": {
              "outlinewidth": 0,
              "ticks": ""
             }
            },
            "type": "scattermapbox"
           }
          ],
          "scatterpolar": [
           {
            "marker": {
             "colorbar": {
              "outlinewidth": 0,
              "ticks": ""
             }
            },
            "type": "scatterpolar"
           }
          ],
          "scatterpolargl": [
           {
            "marker": {
             "colorbar": {
              "outlinewidth": 0,
              "ticks": ""
             }
            },
            "type": "scatterpolargl"
           }
          ],
          "scatterternary": [
           {
            "marker": {
             "colorbar": {
              "outlinewidth": 0,
              "ticks": ""
             }
            },
            "type": "scatterternary"
           }
          ],
          "surface": [
           {
            "colorbar": {
             "outlinewidth": 0,
             "ticks": ""
            },
            "colorscale": [
             [
              0,
              "#0d0887"
             ],
             [
              0.1111111111111111,
              "#46039f"
             ],
             [
              0.2222222222222222,
              "#7201a8"
             ],
             [
              0.3333333333333333,
              "#9c179e"
             ],
             [
              0.4444444444444444,
              "#bd3786"
             ],
             [
              0.5555555555555556,
              "#d8576b"
             ],
             [
              0.6666666666666666,
              "#ed7953"
             ],
             [
              0.7777777777777778,
              "#fb9f3a"
             ],
             [
              0.8888888888888888,
              "#fdca26"
             ],
             [
              1,
              "#f0f921"
             ]
            ],
            "type": "surface"
           }
          ],
          "table": [
           {
            "cells": {
             "fill": {
              "color": "#EBF0F8"
             },
             "line": {
              "color": "white"
             }
            },
            "header": {
             "fill": {
              "color": "#C8D4E3"
             },
             "line": {
              "color": "white"
             }
            },
            "type": "table"
           }
          ]
         },
         "layout": {
          "annotationdefaults": {
           "arrowcolor": "#2a3f5f",
           "arrowhead": 0,
           "arrowwidth": 1
          },
          "coloraxis": {
           "colorbar": {
            "outlinewidth": 0,
            "ticks": ""
           }
          },
          "colorscale": {
           "diverging": [
            [
             0,
             "#8e0152"
            ],
            [
             0.1,
             "#c51b7d"
            ],
            [
             0.2,
             "#de77ae"
            ],
            [
             0.3,
             "#f1b6da"
            ],
            [
             0.4,
             "#fde0ef"
            ],
            [
             0.5,
             "#f7f7f7"
            ],
            [
             0.6,
             "#e6f5d0"
            ],
            [
             0.7,
             "#b8e186"
            ],
            [
             0.8,
             "#7fbc41"
            ],
            [
             0.9,
             "#4d9221"
            ],
            [
             1,
             "#276419"
            ]
           ],
           "sequential": [
            [
             0,
             "#0d0887"
            ],
            [
             0.1111111111111111,
             "#46039f"
            ],
            [
             0.2222222222222222,
             "#7201a8"
            ],
            [
             0.3333333333333333,
             "#9c179e"
            ],
            [
             0.4444444444444444,
             "#bd3786"
            ],
            [
             0.5555555555555556,
             "#d8576b"
            ],
            [
             0.6666666666666666,
             "#ed7953"
            ],
            [
             0.7777777777777778,
             "#fb9f3a"
            ],
            [
             0.8888888888888888,
             "#fdca26"
            ],
            [
             1,
             "#f0f921"
            ]
           ],
           "sequentialminus": [
            [
             0,
             "#0d0887"
            ],
            [
             0.1111111111111111,
             "#46039f"
            ],
            [
             0.2222222222222222,
             "#7201a8"
            ],
            [
             0.3333333333333333,
             "#9c179e"
            ],
            [
             0.4444444444444444,
             "#bd3786"
            ],
            [
             0.5555555555555556,
             "#d8576b"
            ],
            [
             0.6666666666666666,
             "#ed7953"
            ],
            [
             0.7777777777777778,
             "#fb9f3a"
            ],
            [
             0.8888888888888888,
             "#fdca26"
            ],
            [
             1,
             "#f0f921"
            ]
           ]
          },
          "colorway": [
           "#636efa",
           "#EF553B",
           "#00cc96",
           "#ab63fa",
           "#FFA15A",
           "#19d3f3",
           "#FF6692",
           "#B6E880",
           "#FF97FF",
           "#FECB52"
          ],
          "font": {
           "color": "#2a3f5f"
          },
          "geo": {
           "bgcolor": "white",
           "lakecolor": "white",
           "landcolor": "#E5ECF6",
           "showlakes": true,
           "showland": true,
           "subunitcolor": "white"
          },
          "hoverlabel": {
           "align": "left"
          },
          "hovermode": "closest",
          "mapbox": {
           "style": "light"
          },
          "paper_bgcolor": "white",
          "plot_bgcolor": "#E5ECF6",
          "polar": {
           "angularaxis": {
            "gridcolor": "white",
            "linecolor": "white",
            "ticks": ""
           },
           "bgcolor": "#E5ECF6",
           "radialaxis": {
            "gridcolor": "white",
            "linecolor": "white",
            "ticks": ""
           }
          },
          "scene": {
           "xaxis": {
            "backgroundcolor": "#E5ECF6",
            "gridcolor": "white",
            "gridwidth": 2,
            "linecolor": "white",
            "showbackground": true,
            "ticks": "",
            "zerolinecolor": "white"
           },
           "yaxis": {
            "backgroundcolor": "#E5ECF6",
            "gridcolor": "white",
            "gridwidth": 2,
            "linecolor": "white",
            "showbackground": true,
            "ticks": "",
            "zerolinecolor": "white"
           },
           "zaxis": {
            "backgroundcolor": "#E5ECF6",
            "gridcolor": "white",
            "gridwidth": 2,
            "linecolor": "white",
            "showbackground": true,
            "ticks": "",
            "zerolinecolor": "white"
           }
          },
          "shapedefaults": {
           "line": {
            "color": "#2a3f5f"
           }
          },
          "ternary": {
           "aaxis": {
            "gridcolor": "white",
            "linecolor": "white",
            "ticks": ""
           },
           "baxis": {
            "gridcolor": "white",
            "linecolor": "white",
            "ticks": ""
           },
           "bgcolor": "#E5ECF6",
           "caxis": {
            "gridcolor": "white",
            "linecolor": "white",
            "ticks": ""
           }
          },
          "title": {
           "x": 0.05
          },
          "xaxis": {
           "automargin": true,
           "gridcolor": "white",
           "linecolor": "white",
           "ticks": "",
           "title": {
            "standoff": 15
           },
           "zerolinecolor": "white",
           "zerolinewidth": 2
          },
          "yaxis": {
           "automargin": true,
           "gridcolor": "white",
           "linecolor": "white",
           "ticks": "",
           "title": {
            "standoff": 15
           },
           "zerolinecolor": "white",
           "zerolinewidth": 2
          }
         }
        },
        "title": {
         "text": "Number of ratings item 3996 has received"
        },
        "xaxis": {
         "title": {
          "text": "Number of Ratings Per Item"
         }
        },
        "yaxis": {
         "title": {
          "text": "Count"
         }
        }
       }
      },
      "text/html": "<div>\n        \n        \n            <div id=\"58f95722-bf3f-4f42-9803-b37185fc75ed\" class=\"plotly-graph-div\" style=\"height:525px; width:100%;\"></div>\n            <script type=\"text/javascript\">\n                require([\"plotly\"], function(Plotly) {\n                    window.PLOTLYENV=window.PLOTLYENV || {};\n                    \n                if (document.getElementById(\"58f95722-bf3f-4f42-9803-b37185fc75ed\")) {\n                    Plotly.newPlot(\n                        '58f95722-bf3f-4f42-9803-b37185fc75ed',\n                        [{\"name\": \"Ratings\", \"type\": \"histogram\", \"x\": [], \"xbins\": {\"end\": 5, \"size\": 0.3, \"start\": 0}}],\n                        {\"bargap\": 0.2, \"template\": {\"data\": {\"bar\": [{\"error_x\": {\"color\": \"#2a3f5f\"}, \"error_y\": {\"color\": \"#2a3f5f\"}, \"marker\": {\"line\": {\"color\": \"#E5ECF6\", \"width\": 0.5}}, \"type\": \"bar\"}], \"barpolar\": [{\"marker\": {\"line\": {\"color\": \"#E5ECF6\", \"width\": 0.5}}, \"type\": \"barpolar\"}], \"carpet\": [{\"aaxis\": {\"endlinecolor\": \"#2a3f5f\", \"gridcolor\": \"white\", \"linecolor\": \"white\", \"minorgridcolor\": \"white\", \"startlinecolor\": \"#2a3f5f\"}, \"baxis\": {\"endlinecolor\": \"#2a3f5f\", \"gridcolor\": \"white\", \"linecolor\": \"white\", \"minorgridcolor\": \"white\", \"startlinecolor\": \"#2a3f5f\"}, \"type\": \"carpet\"}], \"choropleth\": [{\"colorbar\": {\"outlinewidth\": 0, \"ticks\": \"\"}, \"type\": \"choropleth\"}], \"contour\": [{\"colorbar\": {\"outlinewidth\": 0, \"ticks\": \"\"}, \"colorscale\": [[0.0, \"#0d0887\"], [0.1111111111111111, \"#46039f\"], [0.2222222222222222, \"#7201a8\"], [0.3333333333333333, \"#9c179e\"], [0.4444444444444444, \"#bd3786\"], [0.5555555555555556, \"#d8576b\"], [0.6666666666666666, \"#ed7953\"], [0.7777777777777778, \"#fb9f3a\"], [0.8888888888888888, \"#fdca26\"], [1.0, \"#f0f921\"]], \"type\": \"contour\"}], \"contourcarpet\": [{\"colorbar\": {\"outlinewidth\": 0, \"ticks\": \"\"}, \"type\": \"contourcarpet\"}], \"heatmap\": [{\"colorbar\": {\"outlinewidth\": 0, \"ticks\": \"\"}, \"colorscale\": [[0.0, \"#0d0887\"], [0.1111111111111111, \"#46039f\"], [0.2222222222222222, \"#7201a8\"], [0.3333333333333333, \"#9c179e\"], [0.4444444444444444, \"#bd3786\"], [0.5555555555555556, \"#d8576b\"], [0.6666666666666666, \"#ed7953\"], [0.7777777777777778, \"#fb9f3a\"], [0.8888888888888888, \"#fdca26\"], [1.0, \"#f0f921\"]], \"type\": \"heatmap\"}], \"heatmapgl\": [{\"colorbar\": {\"outlinewidth\": 0, \"ticks\": \"\"}, \"colorscale\": [[0.0, \"#0d0887\"], [0.1111111111111111, \"#46039f\"], [0.2222222222222222, \"#7201a8\"], [0.3333333333333333, \"#9c179e\"], [0.4444444444444444, \"#bd3786\"], [0.5555555555555556, \"#d8576b\"], [0.6666666666666666, \"#ed7953\"], [0.7777777777777778, \"#fb9f3a\"], [0.8888888888888888, \"#fdca26\"], [1.0, \"#f0f921\"]], \"type\": \"heatmapgl\"}], \"histogram\": [{\"marker\": {\"colorbar\": {\"outlinewidth\": 0, \"ticks\": \"\"}}, \"type\": \"histogram\"}], \"histogram2d\": [{\"colorbar\": {\"outlinewidth\": 0, \"ticks\": \"\"}, \"colorscale\": [[0.0, \"#0d0887\"], [0.1111111111111111, \"#46039f\"], [0.2222222222222222, \"#7201a8\"], [0.3333333333333333, \"#9c179e\"], [0.4444444444444444, \"#bd3786\"], [0.5555555555555556, \"#d8576b\"], [0.6666666666666666, \"#ed7953\"], [0.7777777777777778, \"#fb9f3a\"], [0.8888888888888888, \"#fdca26\"], [1.0, \"#f0f921\"]], \"type\": \"histogram2d\"}], \"histogram2dcontour\": [{\"colorbar\": {\"outlinewidth\": 0, \"ticks\": \"\"}, \"colorscale\": [[0.0, \"#0d0887\"], [0.1111111111111111, \"#46039f\"], [0.2222222222222222, \"#7201a8\"], [0.3333333333333333, \"#9c179e\"], [0.4444444444444444, \"#bd3786\"], [0.5555555555555556, \"#d8576b\"], [0.6666666666666666, \"#ed7953\"], [0.7777777777777778, \"#fb9f3a\"], [0.8888888888888888, \"#fdca26\"], [1.0, \"#f0f921\"]], \"type\": \"histogram2dcontour\"}], \"mesh3d\": [{\"colorbar\": {\"outlinewidth\": 0, \"ticks\": \"\"}, \"type\": \"mesh3d\"}], \"parcoords\": [{\"line\": {\"colorbar\": {\"outlinewidth\": 0, \"ticks\": \"\"}}, \"type\": \"parcoords\"}], \"pie\": [{\"automargin\": true, \"type\": \"pie\"}], \"scatter\": [{\"marker\": {\"colorbar\": {\"outlinewidth\": 0, \"ticks\": \"\"}}, \"type\": \"scatter\"}], \"scatter3d\": [{\"line\": {\"colorbar\": {\"outlinewidth\": 0, \"ticks\": \"\"}}, \"marker\": {\"colorbar\": {\"outlinewidth\": 0, \"ticks\": \"\"}}, \"type\": \"scatter3d\"}], \"scattercarpet\": [{\"marker\": {\"colorbar\": {\"outlinewidth\": 0, \"ticks\": \"\"}}, \"type\": \"scattercarpet\"}], \"scattergeo\": [{\"marker\": {\"colorbar\": {\"outlinewidth\": 0, \"ticks\": \"\"}}, \"type\": \"scattergeo\"}], \"scattergl\": [{\"marker\": {\"colorbar\": {\"outlinewidth\": 0, \"ticks\": \"\"}}, \"type\": \"scattergl\"}], \"scattermapbox\": [{\"marker\": {\"colorbar\": {\"outlinewidth\": 0, \"ticks\": \"\"}}, \"type\": \"scattermapbox\"}], \"scatterpolar\": [{\"marker\": {\"colorbar\": {\"outlinewidth\": 0, \"ticks\": \"\"}}, \"type\": \"scatterpolar\"}], \"scatterpolargl\": [{\"marker\": {\"colorbar\": {\"outlinewidth\": 0, \"ticks\": \"\"}}, \"type\": \"scatterpolargl\"}], \"scatterternary\": [{\"marker\": {\"colorbar\": {\"outlinewidth\": 0, \"ticks\": \"\"}}, \"type\": \"scatterternary\"}], \"surface\": [{\"colorbar\": {\"outlinewidth\": 0, \"ticks\": \"\"}, \"colorscale\": [[0.0, \"#0d0887\"], [0.1111111111111111, \"#46039f\"], [0.2222222222222222, \"#7201a8\"], [0.3333333333333333, \"#9c179e\"], [0.4444444444444444, \"#bd3786\"], [0.5555555555555556, \"#d8576b\"], [0.6666666666666666, \"#ed7953\"], [0.7777777777777778, \"#fb9f3a\"], [0.8888888888888888, \"#fdca26\"], [1.0, \"#f0f921\"]], \"type\": \"surface\"}], \"table\": [{\"cells\": {\"fill\": {\"color\": \"#EBF0F8\"}, \"line\": {\"color\": \"white\"}}, \"header\": {\"fill\": {\"color\": \"#C8D4E3\"}, \"line\": {\"color\": \"white\"}}, \"type\": \"table\"}]}, \"layout\": {\"annotationdefaults\": {\"arrowcolor\": \"#2a3f5f\", \"arrowhead\": 0, \"arrowwidth\": 1}, \"coloraxis\": {\"colorbar\": {\"outlinewidth\": 0, \"ticks\": \"\"}}, \"colorscale\": {\"diverging\": [[0, \"#8e0152\"], [0.1, \"#c51b7d\"], [0.2, \"#de77ae\"], [0.3, \"#f1b6da\"], [0.4, \"#fde0ef\"], [0.5, \"#f7f7f7\"], [0.6, \"#e6f5d0\"], [0.7, \"#b8e186\"], [0.8, \"#7fbc41\"], [0.9, \"#4d9221\"], [1, \"#276419\"]], \"sequential\": [[0.0, \"#0d0887\"], [0.1111111111111111, \"#46039f\"], [0.2222222222222222, \"#7201a8\"], [0.3333333333333333, \"#9c179e\"], [0.4444444444444444, \"#bd3786\"], [0.5555555555555556, \"#d8576b\"], [0.6666666666666666, \"#ed7953\"], [0.7777777777777778, \"#fb9f3a\"], [0.8888888888888888, \"#fdca26\"], [1.0, \"#f0f921\"]], \"sequentialminus\": [[0.0, \"#0d0887\"], [0.1111111111111111, \"#46039f\"], [0.2222222222222222, \"#7201a8\"], [0.3333333333333333, \"#9c179e\"], [0.4444444444444444, \"#bd3786\"], [0.5555555555555556, \"#d8576b\"], [0.6666666666666666, \"#ed7953\"], [0.7777777777777778, \"#fb9f3a\"], [0.8888888888888888, \"#fdca26\"], [1.0, \"#f0f921\"]]}, \"colorway\": [\"#636efa\", \"#EF553B\", \"#00cc96\", \"#ab63fa\", \"#FFA15A\", \"#19d3f3\", \"#FF6692\", \"#B6E880\", \"#FF97FF\", \"#FECB52\"], \"font\": {\"color\": \"#2a3f5f\"}, \"geo\": {\"bgcolor\": \"white\", \"lakecolor\": \"white\", \"landcolor\": \"#E5ECF6\", \"showlakes\": true, \"showland\": true, \"subunitcolor\": \"white\"}, \"hoverlabel\": {\"align\": \"left\"}, \"hovermode\": \"closest\", \"mapbox\": {\"style\": \"light\"}, \"paper_bgcolor\": \"white\", \"plot_bgcolor\": \"#E5ECF6\", \"polar\": {\"angularaxis\": {\"gridcolor\": \"white\", \"linecolor\": \"white\", \"ticks\": \"\"}, \"bgcolor\": \"#E5ECF6\", \"radialaxis\": {\"gridcolor\": \"white\", \"linecolor\": \"white\", \"ticks\": \"\"}}, \"scene\": {\"xaxis\": {\"backgroundcolor\": \"#E5ECF6\", \"gridcolor\": \"white\", \"gridwidth\": 2, \"linecolor\": \"white\", \"showbackground\": true, \"ticks\": \"\", \"zerolinecolor\": \"white\"}, \"yaxis\": {\"backgroundcolor\": \"#E5ECF6\", \"gridcolor\": \"white\", \"gridwidth\": 2, \"linecolor\": \"white\", \"showbackground\": true, \"ticks\": \"\", \"zerolinecolor\": \"white\"}, \"zaxis\": {\"backgroundcolor\": \"#E5ECF6\", \"gridcolor\": \"white\", \"gridwidth\": 2, \"linecolor\": \"white\", \"showbackground\": true, \"ticks\": \"\", \"zerolinecolor\": \"white\"}}, \"shapedefaults\": {\"line\": {\"color\": \"#2a3f5f\"}}, \"ternary\": {\"aaxis\": {\"gridcolor\": \"white\", \"linecolor\": \"white\", \"ticks\": \"\"}, \"baxis\": {\"gridcolor\": \"white\", \"linecolor\": \"white\", \"ticks\": \"\"}, \"bgcolor\": \"#E5ECF6\", \"caxis\": {\"gridcolor\": \"white\", \"linecolor\": \"white\", \"ticks\": \"\"}}, \"title\": {\"x\": 0.05}, \"xaxis\": {\"automargin\": true, \"gridcolor\": \"white\", \"linecolor\": \"white\", \"ticks\": \"\", \"title\": {\"standoff\": 15}, \"zerolinecolor\": \"white\", \"zerolinewidth\": 2}, \"yaxis\": {\"automargin\": true, \"gridcolor\": \"white\", \"linecolor\": \"white\", \"ticks\": \"\", \"title\": {\"standoff\": 15}, \"zerolinecolor\": \"white\", \"zerolinewidth\": 2}}}, \"title\": {\"text\": \"Number of ratings item 3996 has received\"}, \"xaxis\": {\"title\": {\"text\": \"Number of Ratings Per Item\"}}, \"yaxis\": {\"title\": {\"text\": \"Count\"}}},\n                        {\"responsive\": true}\n                    ).then(function(){\n                            \nvar gd = document.getElementById('58f95722-bf3f-4f42-9803-b37185fc75ed');\nvar x = new MutationObserver(function (mutations, observer) {{\n        var display = window.getComputedStyle(gd).display;\n        if (!display || display === 'none') {{\n            console.log([gd, 'removed!']);\n            Plotly.purge(gd);\n            observer.disconnect();\n        }}\n}});\n\n// Listen for the removal of the full notebook cells\nvar notebookContainer = gd.closest('#notebook-container');\nif (notebookContainer) {{\n    x.observe(notebookContainer, {childList: true});\n}}\n\n// Listen for the clearing of the current output cell\nvar outputEl = gd.closest('.output');\nif (outputEl) {{\n    x.observe(outputEl, {childList: true});\n}}\n\n                        })\n                };\n                });\n            </script>\n        </div>"
     },
     "metadata": {}
    }
   ],
   "source": [
    "temp = format_data.loc[format_data['item'] == 23598]['rating']\n",
    "\n",
    "# Create trace\n",
    "trace = go.Histogram(x = temp.values,\n",
    "                     name = 'Ratings',\n",
    "                     xbins = dict(start = 0,\n",
    "                                  end = 5, size=.3))\n",
    " # Create layout\n",
    "layout = go.Layout(title = 'Number of ratings item 3996 has received',\n",
    "                   xaxis = dict(title = 'Number of Ratings Per Item'),\n",
    "                   yaxis = dict(title = 'Count'),\n",
    "                   bargap = 0.2)\n",
    "# Create plot\n",
    "fig = go.Figure(data=[trace], layout=layout)\n",
    "iplot(fig)"
   ]
  },
  {
   "source": [
    "# 4. k recommendations"
   ],
   "cell_type": "markdown",
   "metadata": {}
  },
  {
   "source": [
    "Recall and precision are the classical evaluation metric and are used to evaluate the binary metric and so we have to convert our rating which is scaled from (1-5) into a binary problem relevant and not relevant items.\n"
   ],
   "cell_type": "markdown",
   "metadata": {}
  },
  {
   "source": [
    "### Conversion to binary\n",
    "\n",
    "To do the translation we have to select an arbitrary value on which we can say any rating above that will be considered relevant. There are many methods on selecting that value but for now, we will select 3.5 as the threshold, which means any true rating above 3.5 will be considered relevant and below will be not relevant.\n",
    "\n",
    "**Relevant**: True Rating > = 3.5\n",
    "\n",
    "**Irrelevant**: True Rating < 3.5"
   ],
   "cell_type": "markdown",
   "metadata": {}
  },
  {
   "source": [
    "## Definition of Precision and Recall\n",
    "\n",
    "Precision: It tries to answer \"What proportion of positive identifications was actually correct?\" i.e True positive / (True positive+False Positive) in RecSys we can say (# of recommended items @k that are relevant) / (# of recommended items @k)\n",
    "\n",
    "Recall: It tries to answer \"What proportion of actual positives were identified correctly?\" i.e True positive / (True Positive+False Negative) in RecSys we can say (# of recommended items @k that are relevant) / (# of relevant items @k)\n"
   ],
   "cell_type": "markdown",
   "metadata": {}
  },
  {
   "source": [
    "While recall expresses the ability to find all relevant instances in a dataset, precision expresses the proportion of the data points our model says was relevant actually were relevant.\n",
    "\n",
    "In some circumstances, we might know that we need to maximize either recall or precision at the cost of the other metric. For example, in disease screening of patients, we would probably want a recall near 1.0 i.e. we want to find all patients who have the disease.\n",
    "\n",
    "However, in cases where we want to obtain an optimal blend of precision and recall, we can use F1 score which is the harmonic mean of precision and recall taking both metrics into account while calculating it.\n",
    "\n",
    "f1 score = 2 (precision recall) / (precision + recall)\n"
   ],
   "cell_type": "markdown",
   "metadata": {}
  },
  {
   "cell_type": "code",
   "execution_count": 25,
   "metadata": {},
   "outputs": [
    {
     "output_type": "execute_result",
     "data": {
      "text/plain": [
       "    threshold    tp   fp   tn    fn  Precision    Recall        F1\n",
       "0         0.0  4170    0    0     0   1.000000  1.000000  1.000000\n",
       "1         0.5  4170    0    0     0   1.000000  1.000000  1.000000\n",
       "2         1.0  4170    0    0     0   1.000000  1.000000  1.000000\n",
       "3         1.5  4136   31    2     1   0.992561  0.999758  0.996146\n",
       "4         2.0  4135   25    8     2   0.993990  0.999517  0.996746\n",
       "5         2.5  4097   61   10     2   0.985329  0.999512  0.992370\n",
       "6         3.0  4096   58   13     3   0.986038  0.999268  0.992609\n",
       "7         3.5  3963  179   23     5   0.956784  0.998740  0.977312\n",
       "8         4.0  3898  141   61    70   0.965090  0.982359  0.973648\n",
       "9         4.5  3142  323  400   305   0.906782  0.911517  0.909144\n",
       "10        5.0   626   22  701  2821   0.966049  0.181607  0.305739"
      ],
      "text/html": "<div>\n<style scoped>\n    .dataframe tbody tr th:only-of-type {\n        vertical-align: middle;\n    }\n\n    .dataframe tbody tr th {\n        vertical-align: top;\n    }\n\n    .dataframe thead th {\n        text-align: right;\n    }\n</style>\n<table border=\"1\" class=\"dataframe\">\n  <thead>\n    <tr style=\"text-align: right;\">\n      <th></th>\n      <th>threshold</th>\n      <th>tp</th>\n      <th>fp</th>\n      <th>tn</th>\n      <th>fn</th>\n      <th>Precision</th>\n      <th>Recall</th>\n      <th>F1</th>\n    </tr>\n  </thead>\n  <tbody>\n    <tr>\n      <th>0</th>\n      <td>0.0</td>\n      <td>4170</td>\n      <td>0</td>\n      <td>0</td>\n      <td>0</td>\n      <td>1.000000</td>\n      <td>1.000000</td>\n      <td>1.000000</td>\n    </tr>\n    <tr>\n      <th>1</th>\n      <td>0.5</td>\n      <td>4170</td>\n      <td>0</td>\n      <td>0</td>\n      <td>0</td>\n      <td>1.000000</td>\n      <td>1.000000</td>\n      <td>1.000000</td>\n    </tr>\n    <tr>\n      <th>2</th>\n      <td>1.0</td>\n      <td>4170</td>\n      <td>0</td>\n      <td>0</td>\n      <td>0</td>\n      <td>1.000000</td>\n      <td>1.000000</td>\n      <td>1.000000</td>\n    </tr>\n    <tr>\n      <th>3</th>\n      <td>1.5</td>\n      <td>4136</td>\n      <td>31</td>\n      <td>2</td>\n      <td>1</td>\n      <td>0.992561</td>\n      <td>0.999758</td>\n      <td>0.996146</td>\n    </tr>\n    <tr>\n      <th>4</th>\n      <td>2.0</td>\n      <td>4135</td>\n      <td>25</td>\n      <td>8</td>\n      <td>2</td>\n      <td>0.993990</td>\n      <td>0.999517</td>\n      <td>0.996746</td>\n    </tr>\n    <tr>\n      <th>5</th>\n      <td>2.5</td>\n      <td>4097</td>\n      <td>61</td>\n      <td>10</td>\n      <td>2</td>\n      <td>0.985329</td>\n      <td>0.999512</td>\n      <td>0.992370</td>\n    </tr>\n    <tr>\n      <th>6</th>\n      <td>3.0</td>\n      <td>4096</td>\n      <td>58</td>\n      <td>13</td>\n      <td>3</td>\n      <td>0.986038</td>\n      <td>0.999268</td>\n      <td>0.992609</td>\n    </tr>\n    <tr>\n      <th>7</th>\n      <td>3.5</td>\n      <td>3963</td>\n      <td>179</td>\n      <td>23</td>\n      <td>5</td>\n      <td>0.956784</td>\n      <td>0.998740</td>\n      <td>0.977312</td>\n    </tr>\n    <tr>\n      <th>8</th>\n      <td>4.0</td>\n      <td>3898</td>\n      <td>141</td>\n      <td>61</td>\n      <td>70</td>\n      <td>0.965090</td>\n      <td>0.982359</td>\n      <td>0.973648</td>\n    </tr>\n    <tr>\n      <th>9</th>\n      <td>4.5</td>\n      <td>3142</td>\n      <td>323</td>\n      <td>400</td>\n      <td>305</td>\n      <td>0.906782</td>\n      <td>0.911517</td>\n      <td>0.909144</td>\n    </tr>\n    <tr>\n      <th>10</th>\n      <td>5.0</td>\n      <td>626</td>\n      <td>22</td>\n      <td>701</td>\n      <td>2821</td>\n      <td>0.966049</td>\n      <td>0.181607</td>\n      <td>0.305739</td>\n    </tr>\n  </tbody>\n</table>\n</div>"
     },
     "metadata": {},
     "execution_count": 25
    }
   ],
   "source": [
    "#Calculate TP,FP,TN,FN at every threshold level (0.0 - 5.0)\n",
    "\n",
    "final = []\n",
    "\n",
    "for threshold in np.arange(0, 5.5, 0.5):\n",
    "  tp=0\n",
    "  fn=0\n",
    "  fp=0\n",
    "  tn=0\n",
    "  temp = []\n",
    "\n",
    "  for uid, _, true_r, est, _ in predictions:\n",
    "    if(true_r>=threshold):\n",
    "      if(est>=threshold):\n",
    "        tp = tp+1\n",
    "      else:\n",
    "        fn = fn+1\n",
    "    else:\n",
    "      if(est>=threshold):\n",
    "        fp = fp+1\n",
    "      else:\n",
    "        tn = tn+1   \n",
    "\n",
    "    if tp == 0:\n",
    "      precision = 0\n",
    "      recall = 0\n",
    "      f1 = 0\n",
    "    else:\n",
    "      precision = tp / (tp + fp)\n",
    "      recall = tp / (tp + fn)\n",
    "      f1 = 2 * (precision * recall) / (precision + recall)  \n",
    "\n",
    "  temp = [threshold, tp,fp,tn ,fn, precision, recall, f1]\n",
    "  final.append(temp)\n",
    "\n",
    "results = pd.DataFrame(final)\n",
    "results.rename(columns={0:'threshold', 1:'tp', 2: 'fp', 3: 'tn', 4:'fn', 5: 'Precision', 6:'Recall', 7:'F1'}, inplace=True)\n",
    "results"
   ]
  },
  {
   "cell_type": "code",
   "execution_count": 26,
   "metadata": {},
   "outputs": [],
   "source": [
    "def precision_recall_at_k(predictions, k, threshold):\n",
    "    '''Return precision and recall at k metrics for each user.'''\n",
    "\n",
    "    # First map the predictions to each user.\n",
    "    user_est_true = defaultdict(list)\n",
    "    for uid, _, true_r, est, _ in predictions:\n",
    "        user_est_true[uid].append((est, true_r))\n",
    "\n",
    "    precisions = dict()\n",
    "    recalls = dict()\n",
    "    for uid, user_ratings in user_est_true.items():\n",
    "\n",
    "        # Sort user ratings by estimated value\n",
    "        user_ratings.sort(key=lambda x: x[0], reverse=True)\n",
    "\n",
    "        # Number of relevant items\n",
    "        n_rel = sum((true_r >= threshold) for (_, true_r) in user_ratings)\n",
    "\n",
    "        # Number of recommended items in top k\n",
    "        n_rec_k = sum((est >= threshold) for (est, _) in user_ratings[:k])\n",
    "\n",
    "        # Number of relevant and recommended items in top k\n",
    "        n_rel_and_rec_k = sum(((true_r >= threshold) and (est >= threshold))\n",
    "                              for (est, true_r) in user_ratings[:k])\n",
    "\n",
    "        # Precision@K: Proportion of recommended items that are relevant\n",
    "        precisions[uid] = n_rel_and_rec_k / n_rec_k if n_rec_k != 0 else 1\n",
    "\n",
    "        # Recall@K: Proportion of relevant items that are recommended\n",
    "        recalls[uid] = n_rel_and_rec_k / n_rel if n_rel != 0 else 1\n",
    "\n",
    "    #tp = n_rel_and_rec_k\n",
    "    #fn =  n_rel - tp\n",
    "    #fp = n_rec_k - tp\n",
    "    return precisions, recalls"
   ]
  },
  {
   "cell_type": "code",
   "execution_count": 27,
   "metadata": {},
   "outputs": [
    {
     "output_type": "execute_result",
     "data": {
      "text/plain": [
       "[{'K': 2,\n",
       "  'Precision': 0.9065384615384615,\n",
       "  'Recall': 0.663026459932329,\n",
       "  'F1': 0.7658924823359485},\n",
       " {'K': 3,\n",
       "  'Precision': 0.9046153846153843,\n",
       "  'Recall': 0.780343871827678,\n",
       "  'F1': 0.8378969034964402},\n",
       " {'K': 4,\n",
       "  'Precision': 0.904487179487179,\n",
       "  'Recall': 0.8363746536863942,\n",
       "  'F1': 0.8690984397403889},\n",
       " {'K': 5,\n",
       "  'Precision': 0.9044102564102557,\n",
       "  'Recall': 0.8609609911006673,\n",
       "  'F1': 0.8821509377344321},\n",
       " {'K': 6,\n",
       "  'Precision': 0.9043333333333328,\n",
       "  'Recall': 0.8711813333989445,\n",
       "  'F1': 0.8874478301217436},\n",
       " {'K': 7,\n",
       "  'Precision': 0.9041318681318675,\n",
       "  'Recall': 0.876437667483214,\n",
       "  'F1': 0.890069396058719},\n",
       " {'K': 8,\n",
       "  'Precision': 0.9042280219780213,\n",
       "  'Recall': 0.8795770907005723,\n",
       "  'F1': 0.8917322270784022},\n",
       " {'K': 9,\n",
       "  'Precision': 0.9041852869352863,\n",
       "  'Recall': 0.8812983487497656,\n",
       "  'F1': 0.8925951315528735},\n",
       " {'K': 10,\n",
       "  'Precision': 0.9041767399267393,\n",
       "  'Recall': 0.8823007423300945,\n",
       "  'F1': 0.8931048017769274}]"
      ]
     },
     "metadata": {},
     "execution_count": 27
    }
   ],
   "source": [
    "results=[]\n",
    "for i in range(2, 11):\n",
    "    precisions, recalls = precision_recall_at_k(predictions, k=i, threshold=4.5)\n",
    "\n",
    "    # Precision and recall can then be averaged over all users\n",
    "    prec = sum(prec for prec in precisions.values()) / len(precisions)\n",
    "    rec = sum(rec for rec in recalls.values()) / len(recalls)\n",
    "    f1 = 2 * (prec * rec) / (prec + rec)  \n",
    "\n",
    "    results.append({'K': i, 'Precision': prec, 'Recall': rec, 'F1': f1})\n",
    "    \n",
    "\n",
    "results"
   ]
  },
  {
   "cell_type": "code",
   "execution_count": 28,
   "metadata": {},
   "outputs": [
    {
     "output_type": "display_data",
     "data": {
      "text/plain": "<Figure size 432x288 with 2 Axes>",
      "image/svg+xml": "<?xml version=\"1.0\" encoding=\"utf-8\" standalone=\"no\"?>\r\n<!DOCTYPE svg PUBLIC \"-//W3C//DTD SVG 1.1//EN\"\r\n  \"http://www.w3.org/Graphics/SVG/1.1/DTD/svg11.dtd\">\r\n<!-- Created with matplotlib (https://matplotlib.org/) -->\r\n<svg height=\"262.19625pt\" version=\"1.1\" viewBox=\"0 0 447.8125 262.19625\" width=\"447.8125pt\" xmlns=\"http://www.w3.org/2000/svg\" xmlns:xlink=\"http://www.w3.org/1999/xlink\">\r\n <defs>\r\n  <style type=\"text/css\">\r\n*{stroke-linecap:butt;stroke-linejoin:round;}\r\n  </style>\r\n </defs>\r\n <g id=\"figure_1\">\r\n  <g id=\"patch_1\">\r\n   <path d=\"M 0 262.19625 \r\nL 447.8125 262.19625 \r\nL 447.8125 0 \r\nL 0 0 \r\nz\r\n\" style=\"fill:none;\"/>\r\n  </g>\r\n  <g id=\"axes_1\">\r\n   <g id=\"patch_2\">\r\n    <path d=\"M 62.86875 224.64 \r\nL 397.66875 224.64 \r\nL 397.66875 7.2 \r\nL 62.86875 7.2 \r\nz\r\n\" style=\"fill:#ffffff;\"/>\r\n   </g>\r\n   <g id=\"matplotlib.axis_1\">\r\n    <g id=\"xtick_1\">\r\n     <g id=\"line2d_1\">\r\n      <defs>\r\n       <path d=\"M 0 0 \r\nL 0 3.5 \r\n\" id=\"m56eeaf1860\" style=\"stroke:#000000;stroke-width:0.8;\"/>\r\n      </defs>\r\n      <g>\r\n       <use style=\"stroke:#000000;stroke-width:0.8;\" x=\"78.086932\" xlink:href=\"#m56eeaf1860\" y=\"224.64\"/>\r\n      </g>\r\n     </g>\r\n     <g id=\"text_1\">\r\n      <!-- 2 -->\r\n      <defs>\r\n       <path d=\"M 19.1875 8.296875 \r\nL 53.609375 8.296875 \r\nL 53.609375 0 \r\nL 7.328125 0 \r\nL 7.328125 8.296875 \r\nQ 12.9375 14.109375 22.625 23.890625 \r\nQ 32.328125 33.6875 34.8125 36.53125 \r\nQ 39.546875 41.84375 41.421875 45.53125 \r\nQ 43.3125 49.21875 43.3125 52.78125 \r\nQ 43.3125 58.59375 39.234375 62.25 \r\nQ 35.15625 65.921875 28.609375 65.921875 \r\nQ 23.96875 65.921875 18.8125 64.3125 \r\nQ 13.671875 62.703125 7.8125 59.421875 \r\nL 7.8125 69.390625 \r\nQ 13.765625 71.78125 18.9375 73 \r\nQ 24.125 74.21875 28.421875 74.21875 \r\nQ 39.75 74.21875 46.484375 68.546875 \r\nQ 53.21875 62.890625 53.21875 53.421875 \r\nQ 53.21875 48.921875 51.53125 44.890625 \r\nQ 49.859375 40.875 45.40625 35.40625 \r\nQ 44.1875 33.984375 37.640625 27.21875 \r\nQ 31.109375 20.453125 19.1875 8.296875 \r\nz\r\n\" id=\"DejaVuSans-50\"/>\r\n      </defs>\r\n      <g transform=\"translate(74.905682 239.238438)scale(0.1 -0.1)\">\r\n       <use xlink:href=\"#DejaVuSans-50\"/>\r\n      </g>\r\n     </g>\r\n    </g>\r\n    <g id=\"xtick_2\">\r\n     <g id=\"line2d_2\">\r\n      <g>\r\n       <use style=\"stroke:#000000;stroke-width:0.8;\" x=\"116.132386\" xlink:href=\"#m56eeaf1860\" y=\"224.64\"/>\r\n      </g>\r\n     </g>\r\n     <g id=\"text_2\">\r\n      <!-- 3 -->\r\n      <defs>\r\n       <path d=\"M 40.578125 39.3125 \r\nQ 47.65625 37.796875 51.625 33 \r\nQ 55.609375 28.21875 55.609375 21.1875 \r\nQ 55.609375 10.40625 48.1875 4.484375 \r\nQ 40.765625 -1.421875 27.09375 -1.421875 \r\nQ 22.515625 -1.421875 17.65625 -0.515625 \r\nQ 12.796875 0.390625 7.625 2.203125 \r\nL 7.625 11.71875 \r\nQ 11.71875 9.328125 16.59375 8.109375 \r\nQ 21.484375 6.890625 26.8125 6.890625 \r\nQ 36.078125 6.890625 40.9375 10.546875 \r\nQ 45.796875 14.203125 45.796875 21.1875 \r\nQ 45.796875 27.640625 41.28125 31.265625 \r\nQ 36.765625 34.90625 28.71875 34.90625 \r\nL 20.21875 34.90625 \r\nL 20.21875 43.015625 \r\nL 29.109375 43.015625 \r\nQ 36.375 43.015625 40.234375 45.921875 \r\nQ 44.09375 48.828125 44.09375 54.296875 \r\nQ 44.09375 59.90625 40.109375 62.90625 \r\nQ 36.140625 65.921875 28.71875 65.921875 \r\nQ 24.65625 65.921875 20.015625 65.03125 \r\nQ 15.375 64.15625 9.8125 62.3125 \r\nL 9.8125 71.09375 \r\nQ 15.4375 72.65625 20.34375 73.4375 \r\nQ 25.25 74.21875 29.59375 74.21875 \r\nQ 40.828125 74.21875 47.359375 69.109375 \r\nQ 53.90625 64.015625 53.90625 55.328125 \r\nQ 53.90625 49.265625 50.4375 45.09375 \r\nQ 46.96875 40.921875 40.578125 39.3125 \r\nz\r\n\" id=\"DejaVuSans-51\"/>\r\n      </defs>\r\n      <g transform=\"translate(112.951136 239.238438)scale(0.1 -0.1)\">\r\n       <use xlink:href=\"#DejaVuSans-51\"/>\r\n      </g>\r\n     </g>\r\n    </g>\r\n    <g id=\"xtick_3\">\r\n     <g id=\"line2d_3\">\r\n      <g>\r\n       <use style=\"stroke:#000000;stroke-width:0.8;\" x=\"154.177841\" xlink:href=\"#m56eeaf1860\" y=\"224.64\"/>\r\n      </g>\r\n     </g>\r\n     <g id=\"text_3\">\r\n      <!-- 4 -->\r\n      <defs>\r\n       <path d=\"M 37.796875 64.3125 \r\nL 12.890625 25.390625 \r\nL 37.796875 25.390625 \r\nz\r\nM 35.203125 72.90625 \r\nL 47.609375 72.90625 \r\nL 47.609375 25.390625 \r\nL 58.015625 25.390625 \r\nL 58.015625 17.1875 \r\nL 47.609375 17.1875 \r\nL 47.609375 0 \r\nL 37.796875 0 \r\nL 37.796875 17.1875 \r\nL 4.890625 17.1875 \r\nL 4.890625 26.703125 \r\nz\r\n\" id=\"DejaVuSans-52\"/>\r\n      </defs>\r\n      <g transform=\"translate(150.996591 239.238438)scale(0.1 -0.1)\">\r\n       <use xlink:href=\"#DejaVuSans-52\"/>\r\n      </g>\r\n     </g>\r\n    </g>\r\n    <g id=\"xtick_4\">\r\n     <g id=\"line2d_4\">\r\n      <g>\r\n       <use style=\"stroke:#000000;stroke-width:0.8;\" x=\"192.223295\" xlink:href=\"#m56eeaf1860\" y=\"224.64\"/>\r\n      </g>\r\n     </g>\r\n     <g id=\"text_4\">\r\n      <!-- 5 -->\r\n      <defs>\r\n       <path d=\"M 10.796875 72.90625 \r\nL 49.515625 72.90625 \r\nL 49.515625 64.59375 \r\nL 19.828125 64.59375 \r\nL 19.828125 46.734375 \r\nQ 21.96875 47.46875 24.109375 47.828125 \r\nQ 26.265625 48.1875 28.421875 48.1875 \r\nQ 40.625 48.1875 47.75 41.5 \r\nQ 54.890625 34.8125 54.890625 23.390625 \r\nQ 54.890625 11.625 47.5625 5.09375 \r\nQ 40.234375 -1.421875 26.90625 -1.421875 \r\nQ 22.3125 -1.421875 17.546875 -0.640625 \r\nQ 12.796875 0.140625 7.71875 1.703125 \r\nL 7.71875 11.625 \r\nQ 12.109375 9.234375 16.796875 8.0625 \r\nQ 21.484375 6.890625 26.703125 6.890625 \r\nQ 35.15625 6.890625 40.078125 11.328125 \r\nQ 45.015625 15.765625 45.015625 23.390625 \r\nQ 45.015625 31 40.078125 35.4375 \r\nQ 35.15625 39.890625 26.703125 39.890625 \r\nQ 22.75 39.890625 18.8125 39.015625 \r\nQ 14.890625 38.140625 10.796875 36.28125 \r\nz\r\n\" id=\"DejaVuSans-53\"/>\r\n      </defs>\r\n      <g transform=\"translate(189.042045 239.238438)scale(0.1 -0.1)\">\r\n       <use xlink:href=\"#DejaVuSans-53\"/>\r\n      </g>\r\n     </g>\r\n    </g>\r\n    <g id=\"xtick_5\">\r\n     <g id=\"line2d_5\">\r\n      <g>\r\n       <use style=\"stroke:#000000;stroke-width:0.8;\" x=\"230.26875\" xlink:href=\"#m56eeaf1860\" y=\"224.64\"/>\r\n      </g>\r\n     </g>\r\n     <g id=\"text_5\">\r\n      <!-- 6 -->\r\n      <defs>\r\n       <path d=\"M 33.015625 40.375 \r\nQ 26.375 40.375 22.484375 35.828125 \r\nQ 18.609375 31.296875 18.609375 23.390625 \r\nQ 18.609375 15.53125 22.484375 10.953125 \r\nQ 26.375 6.390625 33.015625 6.390625 \r\nQ 39.65625 6.390625 43.53125 10.953125 \r\nQ 47.40625 15.53125 47.40625 23.390625 \r\nQ 47.40625 31.296875 43.53125 35.828125 \r\nQ 39.65625 40.375 33.015625 40.375 \r\nz\r\nM 52.59375 71.296875 \r\nL 52.59375 62.3125 \r\nQ 48.875 64.0625 45.09375 64.984375 \r\nQ 41.3125 65.921875 37.59375 65.921875 \r\nQ 27.828125 65.921875 22.671875 59.328125 \r\nQ 17.53125 52.734375 16.796875 39.40625 \r\nQ 19.671875 43.65625 24.015625 45.921875 \r\nQ 28.375 48.1875 33.59375 48.1875 \r\nQ 44.578125 48.1875 50.953125 41.515625 \r\nQ 57.328125 34.859375 57.328125 23.390625 \r\nQ 57.328125 12.15625 50.6875 5.359375 \r\nQ 44.046875 -1.421875 33.015625 -1.421875 \r\nQ 20.359375 -1.421875 13.671875 8.265625 \r\nQ 6.984375 17.96875 6.984375 36.375 \r\nQ 6.984375 53.65625 15.1875 63.9375 \r\nQ 23.390625 74.21875 37.203125 74.21875 \r\nQ 40.921875 74.21875 44.703125 73.484375 \r\nQ 48.484375 72.75 52.59375 71.296875 \r\nz\r\n\" id=\"DejaVuSans-54\"/>\r\n      </defs>\r\n      <g transform=\"translate(227.0875 239.238438)scale(0.1 -0.1)\">\r\n       <use xlink:href=\"#DejaVuSans-54\"/>\r\n      </g>\r\n     </g>\r\n    </g>\r\n    <g id=\"xtick_6\">\r\n     <g id=\"line2d_6\">\r\n      <g>\r\n       <use style=\"stroke:#000000;stroke-width:0.8;\" x=\"268.314205\" xlink:href=\"#m56eeaf1860\" y=\"224.64\"/>\r\n      </g>\r\n     </g>\r\n     <g id=\"text_6\">\r\n      <!-- 7 -->\r\n      <defs>\r\n       <path d=\"M 8.203125 72.90625 \r\nL 55.078125 72.90625 \r\nL 55.078125 68.703125 \r\nL 28.609375 0 \r\nL 18.3125 0 \r\nL 43.21875 64.59375 \r\nL 8.203125 64.59375 \r\nz\r\n\" id=\"DejaVuSans-55\"/>\r\n      </defs>\r\n      <g transform=\"translate(265.132955 239.238438)scale(0.1 -0.1)\">\r\n       <use xlink:href=\"#DejaVuSans-55\"/>\r\n      </g>\r\n     </g>\r\n    </g>\r\n    <g id=\"xtick_7\">\r\n     <g id=\"line2d_7\">\r\n      <g>\r\n       <use style=\"stroke:#000000;stroke-width:0.8;\" x=\"306.359659\" xlink:href=\"#m56eeaf1860\" y=\"224.64\"/>\r\n      </g>\r\n     </g>\r\n     <g id=\"text_7\">\r\n      <!-- 8 -->\r\n      <defs>\r\n       <path d=\"M 31.78125 34.625 \r\nQ 24.75 34.625 20.71875 30.859375 \r\nQ 16.703125 27.09375 16.703125 20.515625 \r\nQ 16.703125 13.921875 20.71875 10.15625 \r\nQ 24.75 6.390625 31.78125 6.390625 \r\nQ 38.8125 6.390625 42.859375 10.171875 \r\nQ 46.921875 13.96875 46.921875 20.515625 \r\nQ 46.921875 27.09375 42.890625 30.859375 \r\nQ 38.875 34.625 31.78125 34.625 \r\nz\r\nM 21.921875 38.8125 \r\nQ 15.578125 40.375 12.03125 44.71875 \r\nQ 8.5 49.078125 8.5 55.328125 \r\nQ 8.5 64.0625 14.71875 69.140625 \r\nQ 20.953125 74.21875 31.78125 74.21875 \r\nQ 42.671875 74.21875 48.875 69.140625 \r\nQ 55.078125 64.0625 55.078125 55.328125 \r\nQ 55.078125 49.078125 51.53125 44.71875 \r\nQ 48 40.375 41.703125 38.8125 \r\nQ 48.828125 37.15625 52.796875 32.3125 \r\nQ 56.78125 27.484375 56.78125 20.515625 \r\nQ 56.78125 9.90625 50.3125 4.234375 \r\nQ 43.84375 -1.421875 31.78125 -1.421875 \r\nQ 19.734375 -1.421875 13.25 4.234375 \r\nQ 6.78125 9.90625 6.78125 20.515625 \r\nQ 6.78125 27.484375 10.78125 32.3125 \r\nQ 14.796875 37.15625 21.921875 38.8125 \r\nz\r\nM 18.3125 54.390625 \r\nQ 18.3125 48.734375 21.84375 45.5625 \r\nQ 25.390625 42.390625 31.78125 42.390625 \r\nQ 38.140625 42.390625 41.71875 45.5625 \r\nQ 45.3125 48.734375 45.3125 54.390625 \r\nQ 45.3125 60.0625 41.71875 63.234375 \r\nQ 38.140625 66.40625 31.78125 66.40625 \r\nQ 25.390625 66.40625 21.84375 63.234375 \r\nQ 18.3125 60.0625 18.3125 54.390625 \r\nz\r\n\" id=\"DejaVuSans-56\"/>\r\n      </defs>\r\n      <g transform=\"translate(303.178409 239.238438)scale(0.1 -0.1)\">\r\n       <use xlink:href=\"#DejaVuSans-56\"/>\r\n      </g>\r\n     </g>\r\n    </g>\r\n    <g id=\"xtick_8\">\r\n     <g id=\"line2d_8\">\r\n      <g>\r\n       <use style=\"stroke:#000000;stroke-width:0.8;\" x=\"344.405114\" xlink:href=\"#m56eeaf1860\" y=\"224.64\"/>\r\n      </g>\r\n     </g>\r\n     <g id=\"text_8\">\r\n      <!-- 9 -->\r\n      <defs>\r\n       <path d=\"M 10.984375 1.515625 \r\nL 10.984375 10.5 \r\nQ 14.703125 8.734375 18.5 7.8125 \r\nQ 22.3125 6.890625 25.984375 6.890625 \r\nQ 35.75 6.890625 40.890625 13.453125 \r\nQ 46.046875 20.015625 46.78125 33.40625 \r\nQ 43.953125 29.203125 39.59375 26.953125 \r\nQ 35.25 24.703125 29.984375 24.703125 \r\nQ 19.046875 24.703125 12.671875 31.3125 \r\nQ 6.296875 37.9375 6.296875 49.421875 \r\nQ 6.296875 60.640625 12.9375 67.421875 \r\nQ 19.578125 74.21875 30.609375 74.21875 \r\nQ 43.265625 74.21875 49.921875 64.515625 \r\nQ 56.59375 54.828125 56.59375 36.375 \r\nQ 56.59375 19.140625 48.40625 8.859375 \r\nQ 40.234375 -1.421875 26.421875 -1.421875 \r\nQ 22.703125 -1.421875 18.890625 -0.6875 \r\nQ 15.09375 0.046875 10.984375 1.515625 \r\nz\r\nM 30.609375 32.421875 \r\nQ 37.25 32.421875 41.125 36.953125 \r\nQ 45.015625 41.5 45.015625 49.421875 \r\nQ 45.015625 57.28125 41.125 61.84375 \r\nQ 37.25 66.40625 30.609375 66.40625 \r\nQ 23.96875 66.40625 20.09375 61.84375 \r\nQ 16.21875 57.28125 16.21875 49.421875 \r\nQ 16.21875 41.5 20.09375 36.953125 \r\nQ 23.96875 32.421875 30.609375 32.421875 \r\nz\r\n\" id=\"DejaVuSans-57\"/>\r\n      </defs>\r\n      <g transform=\"translate(341.223864 239.238438)scale(0.1 -0.1)\">\r\n       <use xlink:href=\"#DejaVuSans-57\"/>\r\n      </g>\r\n     </g>\r\n    </g>\r\n    <g id=\"xtick_9\">\r\n     <g id=\"line2d_9\">\r\n      <g>\r\n       <use style=\"stroke:#000000;stroke-width:0.8;\" x=\"382.450568\" xlink:href=\"#m56eeaf1860\" y=\"224.64\"/>\r\n      </g>\r\n     </g>\r\n     <g id=\"text_9\">\r\n      <!-- 10 -->\r\n      <defs>\r\n       <path d=\"M 12.40625 8.296875 \r\nL 28.515625 8.296875 \r\nL 28.515625 63.921875 \r\nL 10.984375 60.40625 \r\nL 10.984375 69.390625 \r\nL 28.421875 72.90625 \r\nL 38.28125 72.90625 \r\nL 38.28125 8.296875 \r\nL 54.390625 8.296875 \r\nL 54.390625 0 \r\nL 12.40625 0 \r\nz\r\n\" id=\"DejaVuSans-49\"/>\r\n       <path d=\"M 31.78125 66.40625 \r\nQ 24.171875 66.40625 20.328125 58.90625 \r\nQ 16.5 51.421875 16.5 36.375 \r\nQ 16.5 21.390625 20.328125 13.890625 \r\nQ 24.171875 6.390625 31.78125 6.390625 \r\nQ 39.453125 6.390625 43.28125 13.890625 \r\nQ 47.125 21.390625 47.125 36.375 \r\nQ 47.125 51.421875 43.28125 58.90625 \r\nQ 39.453125 66.40625 31.78125 66.40625 \r\nz\r\nM 31.78125 74.21875 \r\nQ 44.046875 74.21875 50.515625 64.515625 \r\nQ 56.984375 54.828125 56.984375 36.375 \r\nQ 56.984375 17.96875 50.515625 8.265625 \r\nQ 44.046875 -1.421875 31.78125 -1.421875 \r\nQ 19.53125 -1.421875 13.0625 8.265625 \r\nQ 6.59375 17.96875 6.59375 36.375 \r\nQ 6.59375 54.828125 13.0625 64.515625 \r\nQ 19.53125 74.21875 31.78125 74.21875 \r\nz\r\n\" id=\"DejaVuSans-48\"/>\r\n      </defs>\r\n      <g transform=\"translate(376.088068 239.238438)scale(0.1 -0.1)\">\r\n       <use xlink:href=\"#DejaVuSans-49\"/>\r\n       <use x=\"63.623047\" xlink:href=\"#DejaVuSans-48\"/>\r\n      </g>\r\n     </g>\r\n    </g>\r\n    <g id=\"text_10\">\r\n     <!-- # of Recommendations -->\r\n     <defs>\r\n      <path d=\"M 51.125 44 \r\nL 36.921875 44 \r\nL 32.8125 27.6875 \r\nL 47.125 27.6875 \r\nz\r\nM 43.796875 71.78125 \r\nL 38.71875 51.515625 \r\nL 52.984375 51.515625 \r\nL 58.109375 71.78125 \r\nL 65.921875 71.78125 \r\nL 60.890625 51.515625 \r\nL 76.125 51.515625 \r\nL 76.125 44 \r\nL 58.984375 44 \r\nL 54.984375 27.6875 \r\nL 70.515625 27.6875 \r\nL 70.515625 20.21875 \r\nL 53.078125 20.21875 \r\nL 48 0 \r\nL 40.1875 0 \r\nL 45.21875 20.21875 \r\nL 30.90625 20.21875 \r\nL 25.875 0 \r\nL 18.015625 0 \r\nL 23.09375 20.21875 \r\nL 7.71875 20.21875 \r\nL 7.71875 27.6875 \r\nL 24.90625 27.6875 \r\nL 29 44 \r\nL 13.28125 44 \r\nL 13.28125 51.515625 \r\nL 30.90625 51.515625 \r\nL 35.890625 71.78125 \r\nz\r\n\" id=\"DejaVuSans-35\"/>\r\n      <path id=\"DejaVuSans-32\"/>\r\n      <path d=\"M 30.609375 48.390625 \r\nQ 23.390625 48.390625 19.1875 42.75 \r\nQ 14.984375 37.109375 14.984375 27.296875 \r\nQ 14.984375 17.484375 19.15625 11.84375 \r\nQ 23.34375 6.203125 30.609375 6.203125 \r\nQ 37.796875 6.203125 41.984375 11.859375 \r\nQ 46.1875 17.53125 46.1875 27.296875 \r\nQ 46.1875 37.015625 41.984375 42.703125 \r\nQ 37.796875 48.390625 30.609375 48.390625 \r\nz\r\nM 30.609375 56 \r\nQ 42.328125 56 49.015625 48.375 \r\nQ 55.71875 40.765625 55.71875 27.296875 \r\nQ 55.71875 13.875 49.015625 6.21875 \r\nQ 42.328125 -1.421875 30.609375 -1.421875 \r\nQ 18.84375 -1.421875 12.171875 6.21875 \r\nQ 5.515625 13.875 5.515625 27.296875 \r\nQ 5.515625 40.765625 12.171875 48.375 \r\nQ 18.84375 56 30.609375 56 \r\nz\r\n\" id=\"DejaVuSans-111\"/>\r\n      <path d=\"M 37.109375 75.984375 \r\nL 37.109375 68.5 \r\nL 28.515625 68.5 \r\nQ 23.6875 68.5 21.796875 66.546875 \r\nQ 19.921875 64.59375 19.921875 59.515625 \r\nL 19.921875 54.6875 \r\nL 34.71875 54.6875 \r\nL 34.71875 47.703125 \r\nL 19.921875 47.703125 \r\nL 19.921875 0 \r\nL 10.890625 0 \r\nL 10.890625 47.703125 \r\nL 2.296875 47.703125 \r\nL 2.296875 54.6875 \r\nL 10.890625 54.6875 \r\nL 10.890625 58.5 \r\nQ 10.890625 67.625 15.140625 71.796875 \r\nQ 19.390625 75.984375 28.609375 75.984375 \r\nz\r\n\" id=\"DejaVuSans-102\"/>\r\n      <path d=\"M 44.390625 34.1875 \r\nQ 47.5625 33.109375 50.5625 29.59375 \r\nQ 53.5625 26.078125 56.59375 19.921875 \r\nL 66.609375 0 \r\nL 56 0 \r\nL 46.6875 18.703125 \r\nQ 43.0625 26.03125 39.671875 28.421875 \r\nQ 36.28125 30.8125 30.421875 30.8125 \r\nL 19.671875 30.8125 \r\nL 19.671875 0 \r\nL 9.8125 0 \r\nL 9.8125 72.90625 \r\nL 32.078125 72.90625 \r\nQ 44.578125 72.90625 50.734375 67.671875 \r\nQ 56.890625 62.453125 56.890625 51.90625 \r\nQ 56.890625 45.015625 53.6875 40.46875 \r\nQ 50.484375 35.9375 44.390625 34.1875 \r\nz\r\nM 19.671875 64.796875 \r\nL 19.671875 38.921875 \r\nL 32.078125 38.921875 \r\nQ 39.203125 38.921875 42.84375 42.21875 \r\nQ 46.484375 45.515625 46.484375 51.90625 \r\nQ 46.484375 58.296875 42.84375 61.546875 \r\nQ 39.203125 64.796875 32.078125 64.796875 \r\nz\r\n\" id=\"DejaVuSans-82\"/>\r\n      <path d=\"M 56.203125 29.59375 \r\nL 56.203125 25.203125 \r\nL 14.890625 25.203125 \r\nQ 15.484375 15.921875 20.484375 11.0625 \r\nQ 25.484375 6.203125 34.421875 6.203125 \r\nQ 39.59375 6.203125 44.453125 7.46875 \r\nQ 49.3125 8.734375 54.109375 11.28125 \r\nL 54.109375 2.78125 \r\nQ 49.265625 0.734375 44.1875 -0.34375 \r\nQ 39.109375 -1.421875 33.890625 -1.421875 \r\nQ 20.796875 -1.421875 13.15625 6.1875 \r\nQ 5.515625 13.8125 5.515625 26.8125 \r\nQ 5.515625 40.234375 12.765625 48.109375 \r\nQ 20.015625 56 32.328125 56 \r\nQ 43.359375 56 49.78125 48.890625 \r\nQ 56.203125 41.796875 56.203125 29.59375 \r\nz\r\nM 47.21875 32.234375 \r\nQ 47.125 39.59375 43.09375 43.984375 \r\nQ 39.0625 48.390625 32.421875 48.390625 \r\nQ 24.90625 48.390625 20.390625 44.140625 \r\nQ 15.875 39.890625 15.1875 32.171875 \r\nz\r\n\" id=\"DejaVuSans-101\"/>\r\n      <path d=\"M 48.78125 52.59375 \r\nL 48.78125 44.1875 \r\nQ 44.96875 46.296875 41.140625 47.34375 \r\nQ 37.3125 48.390625 33.40625 48.390625 \r\nQ 24.65625 48.390625 19.8125 42.84375 \r\nQ 14.984375 37.3125 14.984375 27.296875 \r\nQ 14.984375 17.28125 19.8125 11.734375 \r\nQ 24.65625 6.203125 33.40625 6.203125 \r\nQ 37.3125 6.203125 41.140625 7.25 \r\nQ 44.96875 8.296875 48.78125 10.40625 \r\nL 48.78125 2.09375 \r\nQ 45.015625 0.34375 40.984375 -0.53125 \r\nQ 36.96875 -1.421875 32.421875 -1.421875 \r\nQ 20.0625 -1.421875 12.78125 6.34375 \r\nQ 5.515625 14.109375 5.515625 27.296875 \r\nQ 5.515625 40.671875 12.859375 48.328125 \r\nQ 20.21875 56 33.015625 56 \r\nQ 37.15625 56 41.109375 55.140625 \r\nQ 45.0625 54.296875 48.78125 52.59375 \r\nz\r\n\" id=\"DejaVuSans-99\"/>\r\n      <path d=\"M 52 44.1875 \r\nQ 55.375 50.25 60.0625 53.125 \r\nQ 64.75 56 71.09375 56 \r\nQ 79.640625 56 84.28125 50.015625 \r\nQ 88.921875 44.046875 88.921875 33.015625 \r\nL 88.921875 0 \r\nL 79.890625 0 \r\nL 79.890625 32.71875 \r\nQ 79.890625 40.578125 77.09375 44.375 \r\nQ 74.3125 48.1875 68.609375 48.1875 \r\nQ 61.625 48.1875 57.5625 43.546875 \r\nQ 53.515625 38.921875 53.515625 30.90625 \r\nL 53.515625 0 \r\nL 44.484375 0 \r\nL 44.484375 32.71875 \r\nQ 44.484375 40.625 41.703125 44.40625 \r\nQ 38.921875 48.1875 33.109375 48.1875 \r\nQ 26.21875 48.1875 22.15625 43.53125 \r\nQ 18.109375 38.875 18.109375 30.90625 \r\nL 18.109375 0 \r\nL 9.078125 0 \r\nL 9.078125 54.6875 \r\nL 18.109375 54.6875 \r\nL 18.109375 46.1875 \r\nQ 21.1875 51.21875 25.484375 53.609375 \r\nQ 29.78125 56 35.6875 56 \r\nQ 41.65625 56 45.828125 52.96875 \r\nQ 50 49.953125 52 44.1875 \r\nz\r\n\" id=\"DejaVuSans-109\"/>\r\n      <path d=\"M 54.890625 33.015625 \r\nL 54.890625 0 \r\nL 45.90625 0 \r\nL 45.90625 32.71875 \r\nQ 45.90625 40.484375 42.875 44.328125 \r\nQ 39.84375 48.1875 33.796875 48.1875 \r\nQ 26.515625 48.1875 22.3125 43.546875 \r\nQ 18.109375 38.921875 18.109375 30.90625 \r\nL 18.109375 0 \r\nL 9.078125 0 \r\nL 9.078125 54.6875 \r\nL 18.109375 54.6875 \r\nL 18.109375 46.1875 \r\nQ 21.34375 51.125 25.703125 53.5625 \r\nQ 30.078125 56 35.796875 56 \r\nQ 45.21875 56 50.046875 50.171875 \r\nQ 54.890625 44.34375 54.890625 33.015625 \r\nz\r\n\" id=\"DejaVuSans-110\"/>\r\n      <path d=\"M 45.40625 46.390625 \r\nL 45.40625 75.984375 \r\nL 54.390625 75.984375 \r\nL 54.390625 0 \r\nL 45.40625 0 \r\nL 45.40625 8.203125 \r\nQ 42.578125 3.328125 38.25 0.953125 \r\nQ 33.9375 -1.421875 27.875 -1.421875 \r\nQ 17.96875 -1.421875 11.734375 6.484375 \r\nQ 5.515625 14.40625 5.515625 27.296875 \r\nQ 5.515625 40.1875 11.734375 48.09375 \r\nQ 17.96875 56 27.875 56 \r\nQ 33.9375 56 38.25 53.625 \r\nQ 42.578125 51.265625 45.40625 46.390625 \r\nz\r\nM 14.796875 27.296875 \r\nQ 14.796875 17.390625 18.875 11.75 \r\nQ 22.953125 6.109375 30.078125 6.109375 \r\nQ 37.203125 6.109375 41.296875 11.75 \r\nQ 45.40625 17.390625 45.40625 27.296875 \r\nQ 45.40625 37.203125 41.296875 42.84375 \r\nQ 37.203125 48.484375 30.078125 48.484375 \r\nQ 22.953125 48.484375 18.875 42.84375 \r\nQ 14.796875 37.203125 14.796875 27.296875 \r\nz\r\n\" id=\"DejaVuSans-100\"/>\r\n      <path d=\"M 34.28125 27.484375 \r\nQ 23.390625 27.484375 19.1875 25 \r\nQ 14.984375 22.515625 14.984375 16.5 \r\nQ 14.984375 11.71875 18.140625 8.90625 \r\nQ 21.296875 6.109375 26.703125 6.109375 \r\nQ 34.1875 6.109375 38.703125 11.40625 \r\nQ 43.21875 16.703125 43.21875 25.484375 \r\nL 43.21875 27.484375 \r\nz\r\nM 52.203125 31.203125 \r\nL 52.203125 0 \r\nL 43.21875 0 \r\nL 43.21875 8.296875 \r\nQ 40.140625 3.328125 35.546875 0.953125 \r\nQ 30.953125 -1.421875 24.3125 -1.421875 \r\nQ 15.921875 -1.421875 10.953125 3.296875 \r\nQ 6 8.015625 6 15.921875 \r\nQ 6 25.140625 12.171875 29.828125 \r\nQ 18.359375 34.515625 30.609375 34.515625 \r\nL 43.21875 34.515625 \r\nL 43.21875 35.40625 \r\nQ 43.21875 41.609375 39.140625 45 \r\nQ 35.0625 48.390625 27.6875 48.390625 \r\nQ 23 48.390625 18.546875 47.265625 \r\nQ 14.109375 46.140625 10.015625 43.890625 \r\nL 10.015625 52.203125 \r\nQ 14.9375 54.109375 19.578125 55.046875 \r\nQ 24.21875 56 28.609375 56 \r\nQ 40.484375 56 46.34375 49.84375 \r\nQ 52.203125 43.703125 52.203125 31.203125 \r\nz\r\n\" id=\"DejaVuSans-97\"/>\r\n      <path d=\"M 18.3125 70.21875 \r\nL 18.3125 54.6875 \r\nL 36.8125 54.6875 \r\nL 36.8125 47.703125 \r\nL 18.3125 47.703125 \r\nL 18.3125 18.015625 \r\nQ 18.3125 11.328125 20.140625 9.421875 \r\nQ 21.96875 7.515625 27.59375 7.515625 \r\nL 36.8125 7.515625 \r\nL 36.8125 0 \r\nL 27.59375 0 \r\nQ 17.1875 0 13.234375 3.875 \r\nQ 9.28125 7.765625 9.28125 18.015625 \r\nL 9.28125 47.703125 \r\nL 2.6875 47.703125 \r\nL 2.6875 54.6875 \r\nL 9.28125 54.6875 \r\nL 9.28125 70.21875 \r\nz\r\n\" id=\"DejaVuSans-116\"/>\r\n      <path d=\"M 9.421875 54.6875 \r\nL 18.40625 54.6875 \r\nL 18.40625 0 \r\nL 9.421875 0 \r\nz\r\nM 9.421875 75.984375 \r\nL 18.40625 75.984375 \r\nL 18.40625 64.59375 \r\nL 9.421875 64.59375 \r\nz\r\n\" id=\"DejaVuSans-105\"/>\r\n      <path d=\"M 44.28125 53.078125 \r\nL 44.28125 44.578125 \r\nQ 40.484375 46.53125 36.375 47.5 \r\nQ 32.28125 48.484375 27.875 48.484375 \r\nQ 21.1875 48.484375 17.84375 46.4375 \r\nQ 14.5 44.390625 14.5 40.28125 \r\nQ 14.5 37.15625 16.890625 35.375 \r\nQ 19.28125 33.59375 26.515625 31.984375 \r\nL 29.59375 31.296875 \r\nQ 39.15625 29.25 43.1875 25.515625 \r\nQ 47.21875 21.78125 47.21875 15.09375 \r\nQ 47.21875 7.46875 41.1875 3.015625 \r\nQ 35.15625 -1.421875 24.609375 -1.421875 \r\nQ 20.21875 -1.421875 15.453125 -0.5625 \r\nQ 10.6875 0.296875 5.421875 2 \r\nL 5.421875 11.28125 \r\nQ 10.40625 8.6875 15.234375 7.390625 \r\nQ 20.0625 6.109375 24.8125 6.109375 \r\nQ 31.15625 6.109375 34.5625 8.28125 \r\nQ 37.984375 10.453125 37.984375 14.40625 \r\nQ 37.984375 18.0625 35.515625 20.015625 \r\nQ 33.0625 21.96875 24.703125 23.78125 \r\nL 21.578125 24.515625 \r\nQ 13.234375 26.265625 9.515625 29.90625 \r\nQ 5.8125 33.546875 5.8125 39.890625 \r\nQ 5.8125 47.609375 11.28125 51.796875 \r\nQ 16.75 56 26.8125 56 \r\nQ 31.78125 56 36.171875 55.265625 \r\nQ 40.578125 54.546875 44.28125 53.078125 \r\nz\r\n\" id=\"DejaVuSans-115\"/>\r\n     </defs>\r\n     <g transform=\"translate(171.540625 252.916563)scale(0.1 -0.1)\">\r\n      <use xlink:href=\"#DejaVuSans-35\"/>\r\n      <use x=\"83.789062\" xlink:href=\"#DejaVuSans-32\"/>\r\n      <use x=\"115.576172\" xlink:href=\"#DejaVuSans-111\"/>\r\n      <use x=\"176.757812\" xlink:href=\"#DejaVuSans-102\"/>\r\n      <use x=\"211.962891\" xlink:href=\"#DejaVuSans-32\"/>\r\n      <use x=\"243.75\" xlink:href=\"#DejaVuSans-82\"/>\r\n      <use x=\"308.732422\" xlink:href=\"#DejaVuSans-101\"/>\r\n      <use x=\"370.255859\" xlink:href=\"#DejaVuSans-99\"/>\r\n      <use x=\"425.236328\" xlink:href=\"#DejaVuSans-111\"/>\r\n      <use x=\"486.417969\" xlink:href=\"#DejaVuSans-109\"/>\r\n      <use x=\"583.830078\" xlink:href=\"#DejaVuSans-109\"/>\r\n      <use x=\"681.242188\" xlink:href=\"#DejaVuSans-101\"/>\r\n      <use x=\"742.765625\" xlink:href=\"#DejaVuSans-110\"/>\r\n      <use x=\"806.144531\" xlink:href=\"#DejaVuSans-100\"/>\r\n      <use x=\"869.621094\" xlink:href=\"#DejaVuSans-97\"/>\r\n      <use x=\"930.900391\" xlink:href=\"#DejaVuSans-116\"/>\r\n      <use x=\"970.109375\" xlink:href=\"#DejaVuSans-105\"/>\r\n      <use x=\"997.892578\" xlink:href=\"#DejaVuSans-111\"/>\r\n      <use x=\"1059.074219\" xlink:href=\"#DejaVuSans-110\"/>\r\n      <use x=\"1122.453125\" xlink:href=\"#DejaVuSans-115\"/>\r\n     </g>\r\n    </g>\r\n   </g>\r\n   <g id=\"matplotlib.axis_2\">\r\n    <g id=\"ytick_1\">\r\n     <g id=\"line2d_10\">\r\n      <defs>\r\n       <path d=\"M 0 0 \r\nL -3.5 0 \r\n\" id=\"mc872d009d4\" style=\"stroke:#000000;stroke-width:0.8;\"/>\r\n      </defs>\r\n      <g>\r\n       <use style=\"stroke:#000000;stroke-width:0.8;\" x=\"62.86875\" xlink:href=\"#mc872d009d4\" y=\"184.518755\"/>\r\n      </g>\r\n     </g>\r\n     <g id=\"text_11\">\r\n      <!-- 0.9045 -->\r\n      <defs>\r\n       <path d=\"M 10.6875 12.40625 \r\nL 21 12.40625 \r\nL 21 0 \r\nL 10.6875 0 \r\nz\r\n\" id=\"DejaVuSans-46\"/>\r\n      </defs>\r\n      <g transform=\"translate(20.878125 188.317973)scale(0.1 -0.1)\">\r\n       <use xlink:href=\"#DejaVuSans-48\"/>\r\n       <use x=\"63.623047\" xlink:href=\"#DejaVuSans-46\"/>\r\n       <use x=\"95.410156\" xlink:href=\"#DejaVuSans-57\"/>\r\n       <use x=\"159.033203\" xlink:href=\"#DejaVuSans-48\"/>\r\n       <use x=\"222.65625\" xlink:href=\"#DejaVuSans-52\"/>\r\n       <use x=\"286.279297\" xlink:href=\"#DejaVuSans-53\"/>\r\n      </g>\r\n     </g>\r\n    </g>\r\n    <g id=\"ytick_2\">\r\n     <g id=\"line2d_11\">\r\n      <g>\r\n       <use style=\"stroke:#000000;stroke-width:0.8;\" x=\"62.86875\" xlink:href=\"#mc872d009d4\" y=\"143.449763\"/>\r\n      </g>\r\n     </g>\r\n     <g id=\"text_12\">\r\n      <!-- 0.9050 -->\r\n      <g transform=\"translate(20.878125 147.248982)scale(0.1 -0.1)\">\r\n       <use xlink:href=\"#DejaVuSans-48\"/>\r\n       <use x=\"63.623047\" xlink:href=\"#DejaVuSans-46\"/>\r\n       <use x=\"95.410156\" xlink:href=\"#DejaVuSans-57\"/>\r\n       <use x=\"159.033203\" xlink:href=\"#DejaVuSans-48\"/>\r\n       <use x=\"222.65625\" xlink:href=\"#DejaVuSans-53\"/>\r\n       <use x=\"286.279297\" xlink:href=\"#DejaVuSans-48\"/>\r\n      </g>\r\n     </g>\r\n    </g>\r\n    <g id=\"ytick_3\">\r\n     <g id=\"line2d_12\">\r\n      <g>\r\n       <use style=\"stroke:#000000;stroke-width:0.8;\" x=\"62.86875\" xlink:href=\"#mc872d009d4\" y=\"102.380772\"/>\r\n      </g>\r\n     </g>\r\n     <g id=\"text_13\">\r\n      <!-- 0.9055 -->\r\n      <g transform=\"translate(20.878125 106.179991)scale(0.1 -0.1)\">\r\n       <use xlink:href=\"#DejaVuSans-48\"/>\r\n       <use x=\"63.623047\" xlink:href=\"#DejaVuSans-46\"/>\r\n       <use x=\"95.410156\" xlink:href=\"#DejaVuSans-57\"/>\r\n       <use x=\"159.033203\" xlink:href=\"#DejaVuSans-48\"/>\r\n       <use x=\"222.65625\" xlink:href=\"#DejaVuSans-53\"/>\r\n       <use x=\"286.279297\" xlink:href=\"#DejaVuSans-53\"/>\r\n      </g>\r\n     </g>\r\n    </g>\r\n    <g id=\"ytick_4\">\r\n     <g id=\"line2d_13\">\r\n      <g>\r\n       <use style=\"stroke:#000000;stroke-width:0.8;\" x=\"62.86875\" xlink:href=\"#mc872d009d4\" y=\"61.311781\"/>\r\n      </g>\r\n     </g>\r\n     <g id=\"text_14\">\r\n      <!-- 0.9060 -->\r\n      <g transform=\"translate(20.878125 65.111)scale(0.1 -0.1)\">\r\n       <use xlink:href=\"#DejaVuSans-48\"/>\r\n       <use x=\"63.623047\" xlink:href=\"#DejaVuSans-46\"/>\r\n       <use x=\"95.410156\" xlink:href=\"#DejaVuSans-57\"/>\r\n       <use x=\"159.033203\" xlink:href=\"#DejaVuSans-48\"/>\r\n       <use x=\"222.65625\" xlink:href=\"#DejaVuSans-54\"/>\r\n       <use x=\"286.279297\" xlink:href=\"#DejaVuSans-48\"/>\r\n      </g>\r\n     </g>\r\n    </g>\r\n    <g id=\"ytick_5\">\r\n     <g id=\"line2d_14\">\r\n      <g>\r\n       <use style=\"stroke:#000000;stroke-width:0.8;\" x=\"62.86875\" xlink:href=\"#mc872d009d4\" y=\"20.24279\"/>\r\n      </g>\r\n     </g>\r\n     <g id=\"text_15\">\r\n      <!-- 0.9065 -->\r\n      <g transform=\"translate(20.878125 24.042008)scale(0.1 -0.1)\">\r\n       <use xlink:href=\"#DejaVuSans-48\"/>\r\n       <use x=\"63.623047\" xlink:href=\"#DejaVuSans-46\"/>\r\n       <use x=\"95.410156\" xlink:href=\"#DejaVuSans-57\"/>\r\n       <use x=\"159.033203\" xlink:href=\"#DejaVuSans-48\"/>\r\n       <use x=\"222.65625\" xlink:href=\"#DejaVuSans-54\"/>\r\n       <use x=\"286.279297\" xlink:href=\"#DejaVuSans-53\"/>\r\n      </g>\r\n     </g>\r\n    </g>\r\n    <g id=\"text_16\">\r\n     <!-- Precision -->\r\n     <defs>\r\n      <path d=\"M 19.671875 64.796875 \r\nL 19.671875 37.40625 \r\nL 32.078125 37.40625 \r\nQ 38.96875 37.40625 42.71875 40.96875 \r\nQ 46.484375 44.53125 46.484375 51.125 \r\nQ 46.484375 57.671875 42.71875 61.234375 \r\nQ 38.96875 64.796875 32.078125 64.796875 \r\nz\r\nM 9.8125 72.90625 \r\nL 32.078125 72.90625 \r\nQ 44.34375 72.90625 50.609375 67.359375 \r\nQ 56.890625 61.8125 56.890625 51.125 \r\nQ 56.890625 40.328125 50.609375 34.8125 \r\nQ 44.34375 29.296875 32.078125 29.296875 \r\nL 19.671875 29.296875 \r\nL 19.671875 0 \r\nL 9.8125 0 \r\nz\r\n\" id=\"DejaVuSans-80\"/>\r\n      <path d=\"M 41.109375 46.296875 \r\nQ 39.59375 47.171875 37.8125 47.578125 \r\nQ 36.03125 48 33.890625 48 \r\nQ 26.265625 48 22.1875 43.046875 \r\nQ 18.109375 38.09375 18.109375 28.8125 \r\nL 18.109375 0 \r\nL 9.078125 0 \r\nL 9.078125 54.6875 \r\nL 18.109375 54.6875 \r\nL 18.109375 46.1875 \r\nQ 20.953125 51.171875 25.484375 53.578125 \r\nQ 30.03125 56 36.53125 56 \r\nQ 37.453125 56 38.578125 55.875 \r\nQ 39.703125 55.765625 41.0625 55.515625 \r\nz\r\n\" id=\"DejaVuSans-114\"/>\r\n     </defs>\r\n     <g transform=\"translate(14.798438 138.227031)rotate(-90)scale(0.1 -0.1)\">\r\n      <use xlink:href=\"#DejaVuSans-80\"/>\r\n      <use x=\"58.552734\" xlink:href=\"#DejaVuSans-114\"/>\r\n      <use x=\"97.416016\" xlink:href=\"#DejaVuSans-101\"/>\r\n      <use x=\"158.939453\" xlink:href=\"#DejaVuSans-99\"/>\r\n      <use x=\"213.919922\" xlink:href=\"#DejaVuSans-105\"/>\r\n      <use x=\"241.703125\" xlink:href=\"#DejaVuSans-115\"/>\r\n      <use x=\"293.802734\" xlink:href=\"#DejaVuSans-105\"/>\r\n      <use x=\"321.585938\" xlink:href=\"#DejaVuSans-111\"/>\r\n      <use x=\"382.767578\" xlink:href=\"#DejaVuSans-110\"/>\r\n     </g>\r\n    </g>\r\n   </g>\r\n   <g id=\"line2d_15\">\r\n    <path clip-path=\"url(#pb1c29e89c6)\" d=\"M 78.086932 17.083636 \r\nL 116.132386 175.041295 \r\nL 154.177841 185.571806 \r\nL 192.223295 191.890112 \r\nL 230.26875 198.208418 \r\nL 268.314205 214.756364 \r\nL 306.359659 206.858481 \r\nL 344.405114 210.368651 \r\nL 382.450568 211.070685 \r\n\" style=\"fill:none;stroke:#1f77b4;stroke-linecap:square;stroke-width:1.5;\"/>\r\n   </g>\r\n   <g id=\"patch_3\">\r\n    <path d=\"M 62.86875 224.64 \r\nL 62.86875 7.2 \r\n\" style=\"fill:none;stroke:#000000;stroke-linecap:square;stroke-linejoin:miter;stroke-width:0.8;\"/>\r\n   </g>\r\n   <g id=\"patch_4\">\r\n    <path d=\"M 397.66875 224.64 \r\nL 397.66875 7.2 \r\n\" style=\"fill:none;stroke:#000000;stroke-linecap:square;stroke-linejoin:miter;stroke-width:0.8;\"/>\r\n   </g>\r\n   <g id=\"patch_5\">\r\n    <path d=\"M 62.86875 224.64 \r\nL 397.66875 224.64 \r\n\" style=\"fill:none;stroke:#000000;stroke-linecap:square;stroke-linejoin:miter;stroke-width:0.8;\"/>\r\n   </g>\r\n   <g id=\"patch_6\">\r\n    <path d=\"M 62.86875 7.2 \r\nL 397.66875 7.2 \r\n\" style=\"fill:none;stroke:#000000;stroke-linecap:square;stroke-linejoin:miter;stroke-width:0.8;\"/>\r\n   </g>\r\n  </g>\r\n  <g id=\"axes_2\">\r\n   <g id=\"matplotlib.axis_3\">\r\n    <g id=\"ytick_6\">\r\n     <g id=\"line2d_16\">\r\n      <defs>\r\n       <path d=\"M 0 0 \r\nL 3.5 0 \r\n\" id=\"mc6b30c7b17\" style=\"stroke:#000000;stroke-width:0.8;\"/>\r\n      </defs>\r\n      <g>\r\n       <use style=\"stroke:#000000;stroke-width:0.8;\" x=\"397.66875\" xlink:href=\"#mc6b30c7b17\" y=\"181.42523\"/>\r\n      </g>\r\n     </g>\r\n     <g id=\"text_17\">\r\n      <!-- 0.70 -->\r\n      <g style=\"fill:#ff0000;\" transform=\"translate(404.66875 185.224448)scale(0.1 -0.1)\">\r\n       <use xlink:href=\"#DejaVuSans-48\"/>\r\n       <use x=\"63.623047\" xlink:href=\"#DejaVuSans-46\"/>\r\n       <use x=\"95.410156\" xlink:href=\"#DejaVuSans-55\"/>\r\n       <use x=\"159.033203\" xlink:href=\"#DejaVuSans-48\"/>\r\n      </g>\r\n     </g>\r\n    </g>\r\n    <g id=\"ytick_7\">\r\n     <g id=\"line2d_17\">\r\n      <g>\r\n       <use style=\"stroke:#000000;stroke-width:0.8;\" x=\"397.66875\" xlink:href=\"#mc6b30c7b17\" y=\"136.350922\"/>\r\n      </g>\r\n     </g>\r\n     <g id=\"text_18\">\r\n      <!-- 0.75 -->\r\n      <g style=\"fill:#ff0000;\" transform=\"translate(404.66875 140.150141)scale(0.1 -0.1)\">\r\n       <use xlink:href=\"#DejaVuSans-48\"/>\r\n       <use x=\"63.623047\" xlink:href=\"#DejaVuSans-46\"/>\r\n       <use x=\"95.410156\" xlink:href=\"#DejaVuSans-55\"/>\r\n       <use x=\"159.033203\" xlink:href=\"#DejaVuSans-53\"/>\r\n      </g>\r\n     </g>\r\n    </g>\r\n    <g id=\"ytick_8\">\r\n     <g id=\"line2d_18\">\r\n      <g>\r\n       <use style=\"stroke:#000000;stroke-width:0.8;\" x=\"397.66875\" xlink:href=\"#mc6b30c7b17\" y=\"91.276615\"/>\r\n      </g>\r\n     </g>\r\n     <g id=\"text_19\">\r\n      <!-- 0.80 -->\r\n      <g style=\"fill:#ff0000;\" transform=\"translate(404.66875 95.075834)scale(0.1 -0.1)\">\r\n       <use xlink:href=\"#DejaVuSans-48\"/>\r\n       <use x=\"63.623047\" xlink:href=\"#DejaVuSans-46\"/>\r\n       <use x=\"95.410156\" xlink:href=\"#DejaVuSans-56\"/>\r\n       <use x=\"159.033203\" xlink:href=\"#DejaVuSans-48\"/>\r\n      </g>\r\n     </g>\r\n    </g>\r\n    <g id=\"ytick_9\">\r\n     <g id=\"line2d_19\">\r\n      <g>\r\n       <use style=\"stroke:#000000;stroke-width:0.8;\" x=\"397.66875\" xlink:href=\"#mc6b30c7b17\" y=\"46.202308\"/>\r\n      </g>\r\n     </g>\r\n     <g id=\"text_20\">\r\n      <!-- 0.85 -->\r\n      <g style=\"fill:#ff0000;\" transform=\"translate(404.66875 50.001527)scale(0.1 -0.1)\">\r\n       <use xlink:href=\"#DejaVuSans-48\"/>\r\n       <use x=\"63.623047\" xlink:href=\"#DejaVuSans-46\"/>\r\n       <use x=\"95.410156\" xlink:href=\"#DejaVuSans-56\"/>\r\n       <use x=\"159.033203\" xlink:href=\"#DejaVuSans-53\"/>\r\n      </g>\r\n     </g>\r\n    </g>\r\n    <g id=\"text_21\">\r\n     <!-- Recall -->\r\n     <defs>\r\n      <path d=\"M 9.421875 75.984375 \r\nL 18.40625 75.984375 \r\nL 18.40625 0 \r\nL 9.421875 0 \r\nz\r\n\" id=\"DejaVuSans-108\"/>\r\n     </defs>\r\n     <g transform=\"translate(438.532813 130.837188)rotate(-90)scale(0.1 -0.1)\">\r\n      <use xlink:href=\"#DejaVuSans-82\"/>\r\n      <use x=\"64.982422\" xlink:href=\"#DejaVuSans-101\"/>\r\n      <use x=\"126.505859\" xlink:href=\"#DejaVuSans-99\"/>\r\n      <use x=\"181.486328\" xlink:href=\"#DejaVuSans-97\"/>\r\n      <use x=\"242.765625\" xlink:href=\"#DejaVuSans-108\"/>\r\n      <use x=\"270.548828\" xlink:href=\"#DejaVuSans-108\"/>\r\n     </g>\r\n    </g>\r\n   </g>\r\n   <g id=\"line2d_20\">\r\n    <path clip-path=\"url(#pb1c29e89c6)\" d=\"M 78.086932 214.756364 \r\nL 116.132386 108.996342 \r\nL 154.177841 58.485369 \r\nL 192.223295 36.321126 \r\nL 230.26875 27.107629 \r\nL 268.314205 22.369117 \r\nL 306.359659 19.538971 \r\nL 344.405114 17.98728 \r\nL 382.450568 17.083636 \r\n\" style=\"fill:none;stroke:#ff0000;stroke-linecap:square;stroke-width:1.5;\"/>\r\n   </g>\r\n   <g id=\"patch_7\">\r\n    <path d=\"M 62.86875 224.64 \r\nL 62.86875 7.2 \r\n\" style=\"fill:none;stroke:#000000;stroke-linecap:square;stroke-linejoin:miter;stroke-width:0.8;\"/>\r\n   </g>\r\n   <g id=\"patch_8\">\r\n    <path d=\"M 397.66875 224.64 \r\nL 397.66875 7.2 \r\n\" style=\"fill:none;stroke:#000000;stroke-linecap:square;stroke-linejoin:miter;stroke-width:0.8;\"/>\r\n   </g>\r\n   <g id=\"patch_9\">\r\n    <path d=\"M 62.86875 224.64 \r\nL 397.66875 224.64 \r\n\" style=\"fill:none;stroke:#000000;stroke-linecap:square;stroke-linejoin:miter;stroke-width:0.8;\"/>\r\n   </g>\r\n   <g id=\"patch_10\">\r\n    <path d=\"M 62.86875 7.2 \r\nL 397.66875 7.2 \r\n\" style=\"fill:none;stroke:#000000;stroke-linecap:square;stroke-linejoin:miter;stroke-width:0.8;\"/>\r\n   </g>\r\n  </g>\r\n </g>\r\n <defs>\r\n  <clipPath id=\"pb1c29e89c6\">\r\n   <rect height=\"217.44\" width=\"334.8\" x=\"62.86875\" y=\"7.2\"/>\r\n  </clipPath>\r\n </defs>\r\n</svg>\r\n",
      "image/png": "[encoded data removed]"
     },
     "metadata": {
      "needs_background": "light"
     }
    }
   ],
   "source": [
    "Rec=[]\n",
    "Precision=[]\n",
    "Recall=[]\n",
    "for i in range(0,9):\n",
    "    Rec.append(results[i]['K'])\n",
    "    Precision.append(results[i]['Precision'])\n",
    "    Recall.append(results[i]['Recall'])\n",
    "\n",
    "from matplotlib import pyplot as plt\n",
    "plt.plot(Rec, Precision)\n",
    "plt.xlabel('# of Recommendations')\n",
    "plt.ylabel('Precision')\n",
    "plt2 = plt.twinx()\n",
    "plt2.plot(Rec, Recall, 'r')\n",
    "plt.ylabel('Recall')\n",
    "for tl in plt2.get_yticklabels():\n",
    "    tl.set_color('r')"
   ]
  },
  {
   "source": [
    "# 5. Time to recommend some movies to users"
   ],
   "cell_type": "markdown",
   "metadata": {}
  },
  {
   "cell_type": "code",
   "execution_count": 29,
   "metadata": {},
   "outputs": [],
   "source": [
    "trainset = data.build_full_trainset()   #Build on entire data set\n",
    "algo = SVD(n_factors=factors, n_epochs=epochs, lr_all=lr_value, reg_all=reg_value)\n",
    "algo.fit(trainset)\n",
    "# Predict ratings fo8r all pairs (u, i) that are NOT in the training set.\n",
    "testset = trainset.build_anti_testset()\n",
    "\n",
    "#Predicting the ratings for testset\n",
    "predictions = algo.test(testset)"
   ]
  },
  {
   "source": [
    "Function get all predicts sorted"
   ],
   "cell_type": "markdown",
   "metadata": {}
  },
  {
   "cell_type": "code",
   "execution_count": 30,
   "metadata": {},
   "outputs": [],
   "source": [
    "def get_all_predictions(predictions):\n",
    "    \n",
    "    # First map the predictions to each user.\n",
    "    top_n = defaultdict(list)    \n",
    "    for uid, iid, true_r, est, _ in predictions:\n",
    "        top_n[uid].append((iid, est))\n",
    "\n",
    "    # Then sort the predictions for each user\n",
    "    for uid, user_ratings in top_n.items():\n",
    "        user_ratings.sort(key=lambda x: x[1], reverse=True)\n",
    "\n",
    "    return top_n"
   ]
  },
  {
   "cell_type": "code",
   "execution_count": 31,
   "metadata": {},
   "outputs": [],
   "source": [
    "all_pred = get_all_predictions(predictions)"
   ]
  },
  {
   "cell_type": "code",
   "execution_count": 32,
   "metadata": {},
   "outputs": [],
   "source": [
    "#To get top 10 recommendation\n",
    "n = 10\n",
    "\n",
    "for uid, user_ratings in all_pred.items():\n",
    "    user_ratings.sort(key=lambda x: x[1], reverse=True)\n",
    "    all_pred[uid] = user_ratings[:n]\n",
    "\n"
   ]
  },
  {
   "cell_type": "code",
   "execution_count": 33,
   "metadata": {},
   "outputs": [],
   "source": [
    "tmp = pd.DataFrame.from_dict(all_pred)\n",
    "tmp_transpose = tmp.transpose()"
   ]
  },
  {
   "cell_type": "code",
   "execution_count": 34,
   "metadata": {},
   "outputs": [
    {
     "output_type": "execute_result",
     "data": {
      "text/plain": [
       "Index(['53270', '91213', '56289', '88524', '72126', '131996', '9077', '113186',\n",
       "       '34988', '119325',\n",
       "       ...\n",
       "       '100672', '122601', '11599', '81178', '88664', '1319', '119382',\n",
       "       '83103', '75278', '39283'],\n",
       "      dtype='object', length=1382)"
      ]
     },
     "metadata": {},
     "execution_count": 34
    }
   ],
   "source": [
    "tmp_transpose.index"
   ]
  },
  {
   "cell_type": "code",
   "execution_count": null,
   "metadata": {},
   "outputs": [],
   "source": []
  },
  {
   "cell_type": "code",
   "execution_count": 35,
   "metadata": {},
   "outputs": [
    {
     "output_type": "execute_result",
     "data": {
      "text/plain": [
       "               0          1          2          3          4          5  \\\n",
       "53270  (3038, 5)  (1287, 5)   (749, 5)  (4032, 5)    (11, 5)  (1031, 5)   \n",
       "91213  (8257, 5)  (9002, 5)  (1910, 5)  (3428, 5)  (1668, 5)   (692, 5)   \n",
       "56289  (1287, 5)   (770, 5)  (1769, 5)   (243, 5)  (8257, 5)  (5391, 5)   \n",
       "88524  (1287, 5)   (892, 5)  (1769, 5)   (243, 5)   (748, 5)  (2826, 5)   \n",
       "72126  (9940, 5)  (1287, 5)   (749, 5)    (52, 5)  (4032, 5)  (7871, 5)   \n",
       "\n",
       "               6          7                          8  \\\n",
       "53270  (4529, 5)   (538, 5)                  (2831, 5)   \n",
       "91213   (252, 5)  (5837, 5)  (1286, 4.990840040356788)   \n",
       "56289  (8485, 5)  (5964, 5)                  (6407, 5)   \n",
       "88524   (386, 5)  (8257, 5)                  (5368, 5)   \n",
       "72126  (4529, 5)   (737, 5)                   (172, 5)   \n",
       "\n",
       "                               9  \n",
       "53270                  (6601, 5)  \n",
       "91213  (8640, 4.984585248812934)  \n",
       "56289                  (4426, 5)  \n",
       "88524                  (9021, 5)  \n",
       "72126                  (5879, 5)  "
      ],
      "text/html": "<div>\n<style scoped>\n    .dataframe tbody tr th:only-of-type {\n        vertical-align: middle;\n    }\n\n    .dataframe tbody tr th {\n        vertical-align: top;\n    }\n\n    .dataframe thead th {\n        text-align: right;\n    }\n</style>\n<table border=\"1\" class=\"dataframe\">\n  <thead>\n    <tr style=\"text-align: right;\">\n      <th></th>\n      <th>0</th>\n      <th>1</th>\n      <th>2</th>\n      <th>3</th>\n      <th>4</th>\n      <th>5</th>\n      <th>6</th>\n      <th>7</th>\n      <th>8</th>\n      <th>9</th>\n    </tr>\n  </thead>\n  <tbody>\n    <tr>\n      <th>53270</th>\n      <td>(3038, 5)</td>\n      <td>(1287, 5)</td>\n      <td>(749, 5)</td>\n      <td>(4032, 5)</td>\n      <td>(11, 5)</td>\n      <td>(1031, 5)</td>\n      <td>(4529, 5)</td>\n      <td>(538, 5)</td>\n      <td>(2831, 5)</td>\n      <td>(6601, 5)</td>\n    </tr>\n    <tr>\n      <th>91213</th>\n      <td>(8257, 5)</td>\n      <td>(9002, 5)</td>\n      <td>(1910, 5)</td>\n      <td>(3428, 5)</td>\n      <td>(1668, 5)</td>\n      <td>(692, 5)</td>\n      <td>(252, 5)</td>\n      <td>(5837, 5)</td>\n      <td>(1286, 4.990840040356788)</td>\n      <td>(8640, 4.984585248812934)</td>\n    </tr>\n    <tr>\n      <th>56289</th>\n      <td>(1287, 5)</td>\n      <td>(770, 5)</td>\n      <td>(1769, 5)</td>\n      <td>(243, 5)</td>\n      <td>(8257, 5)</td>\n      <td>(5391, 5)</td>\n      <td>(8485, 5)</td>\n      <td>(5964, 5)</td>\n      <td>(6407, 5)</td>\n      <td>(4426, 5)</td>\n    </tr>\n    <tr>\n      <th>88524</th>\n      <td>(1287, 5)</td>\n      <td>(892, 5)</td>\n      <td>(1769, 5)</td>\n      <td>(243, 5)</td>\n      <td>(748, 5)</td>\n      <td>(2826, 5)</td>\n      <td>(386, 5)</td>\n      <td>(8257, 5)</td>\n      <td>(5368, 5)</td>\n      <td>(9021, 5)</td>\n    </tr>\n    <tr>\n      <th>72126</th>\n      <td>(9940, 5)</td>\n      <td>(1287, 5)</td>\n      <td>(749, 5)</td>\n      <td>(52, 5)</td>\n      <td>(4032, 5)</td>\n      <td>(7871, 5)</td>\n      <td>(4529, 5)</td>\n      <td>(737, 5)</td>\n      <td>(172, 5)</td>\n      <td>(5879, 5)</td>\n    </tr>\n  </tbody>\n</table>\n</div>"
     },
     "metadata": {},
     "execution_count": 35
    }
   ],
   "source": [
    "tmp_transpose.head()"
   ]
  },
  {
   "cell_type": "code",
   "execution_count": 56,
   "metadata": {},
   "outputs": [
    {
     "output_type": "execute_result",
     "data": {
      "text/plain": [
       "0    (9940, 5)\n",
       "1    (1287, 5)\n",
       "2     (749, 5)\n",
       "3      (52, 5)\n",
       "4    (4032, 5)\n",
       "5    (7871, 5)\n",
       "6    (4529, 5)\n",
       "7     (737, 5)\n",
       "8     (172, 5)\n",
       "9    (5879, 5)\n",
       "Name: 72126, dtype: object"
      ]
     },
     "metadata": {},
     "execution_count": 56
    }
   ],
   "source": [
    "tmp_transpose.loc['72126']"
   ]
  },
  {
   "source": [
    "Now we have a dataframe which consits of top 4 movies recommended to every user.\n",
    "Let's try one example and find recommendations for user 67\n"
   ],
   "cell_type": "markdown",
   "metadata": {}
  },
  {
   "cell_type": "code",
   "execution_count": 37,
   "metadata": {},
   "outputs": [],
   "source": [
    "def get_predictions(user_id):\n",
    "    results = tmp_transpose.loc[user_id]\n",
    "    return results"
   ]
  },
  {
   "cell_type": "code",
   "execution_count": 61,
   "metadata": {},
   "outputs": [
    {
     "output_type": "execute_result",
     "data": {
      "text/plain": [
       "0    (9940, 5)\n",
       "1    (1287, 5)\n",
       "2     (749, 5)\n",
       "3      (52, 5)\n",
       "4    (4032, 5)\n",
       "5    (7871, 5)\n",
       "6    (4529, 5)\n",
       "7     (737, 5)\n",
       "8     (172, 5)\n",
       "9    (5879, 5)\n",
       "Name: 72126, dtype: object"
      ]
     },
     "metadata": {},
     "execution_count": 61
    }
   ],
   "source": [
    "user_id='72126'\n",
    "results = get_predictions(user_id)\n",
    "results"
   ]
  },
  {
   "source": [
    "Above matrix is showing top \"4\" recommendations for user 67. (Movie-id, Predicted-Rating).\n",
    "But we just need the movies not the ratings, so let's extract the movie id's from the result."
   ],
   "cell_type": "markdown",
   "metadata": {}
  },
  {
   "cell_type": "code",
   "execution_count": 39,
   "metadata": {},
   "outputs": [
    {
     "output_type": "execute_result",
     "data": {
      "text/plain": [
       "['3038', '9940', '1287', '749', '4032', '7871', '4695', '1031', '6461', '538']"
      ]
     },
     "metadata": {},
     "execution_count": 39
    }
   ],
   "source": [
    "recommended_movie_ids=[]\n",
    "for x in range(0, n):\n",
    "    recommended_movie_ids.append(results[x][0])\n",
    "\n",
    "recommended_movie_ids"
   ]
  },
  {
   "source": [
    "## Save to database"
   ],
   "cell_type": "markdown",
   "metadata": {}
  },
  {
   "cell_type": "code",
   "execution_count": 89,
   "metadata": {},
   "outputs": [],
   "source": [
    "all_customer = format_data['user'].unique()"
   ]
  },
  {
   "cell_type": "code",
   "execution_count": 90,
   "metadata": {},
   "outputs": [
    {
     "output_type": "execute_result",
     "data": {
      "text/plain": [
       "array([53270, 91213, 56289, 88524, 72126], dtype=int64)"
      ]
     },
     "metadata": {},
     "execution_count": 90
    }
   ],
   "source": [
    "all_customer[:5]"
   ]
  },
  {
   "cell_type": "code",
   "execution_count": 66,
   "metadata": {},
   "outputs": [],
   "source": [
    "items = pd.read_csv('../Data/final_all_clean_books.csv')"
   ]
  },
  {
   "cell_type": "code",
   "execution_count": 78,
   "metadata": {},
   "outputs": [
    {
     "output_type": "execute_result",
     "data": {
      "text/plain": [
       "Series([], Name: id, dtype: int64)"
      ]
     },
     "metadata": {},
     "execution_count": 78
    }
   ],
   "source": [
    "items.loc[items['new_id']==53270]['id']"
   ]
  },
  {
   "cell_type": "code",
   "execution_count": null,
   "metadata": {},
   "outputs": [],
   "source": []
  },
  {
   "cell_type": "code",
   "execution_count": 113,
   "metadata": {},
   "outputs": [
    {
     "output_type": "execute_result",
     "data": {
      "text/plain": [
       "[53270,\n",
       " [3071851,\n",
       "  568145,\n",
       "  474168,\n",
       "  7959221,\n",
       "  339327,\n",
       "  532318,\n",
       "  10697068,\n",
       "  439874,\n",
       "  2612575,\n",
       "  32080645]]"
      ]
     },
     "metadata": {},
     "execution_count": 113
    }
   ],
   "source": [
    "data = []\n",
    "count = 0\n",
    "for id in list(all_customer):\n",
    "    results = get_predictions(str(id))\n",
    "    recommended_movie_ids=[]\n",
    "    for x in range(0, 10):\n",
    "        rs_id = items.loc[items['new_id']==int(results[x][0])]['id'].values[0]\n",
    "        recommended_movie_ids.append(rs_id)\n",
    "    data.append([id, recommended_movie_ids])\n",
    "data[0]"
   ]
  },
  {
   "cell_type": "code",
   "execution_count": 114,
   "metadata": {},
   "outputs": [],
   "source": [
    "df = pd.DataFrame(data)"
   ]
  },
  {
   "cell_type": "code",
   "execution_count": 115,
   "metadata": {},
   "outputs": [
    {
     "output_type": "execute_result",
     "data": {
      "text/plain": [
       "       0                                                  1\n",
       "0  53270  [3071851, 568145, 474168, 7959221, 339327, 532...\n",
       "1  91213  [49659437, 54809933, 970220, 4483791, 777253, ...\n",
       "2  56289  [568145, 475828, 859057, 393554, 49659437, 152...\n",
       "3  88524  [568145, 500769, 859057, 393554, 474165, 26125...\n",
       "4  72126  [59235430, 568145, 474168, 343300, 7959221, 47..."
      ],
      "text/html": "<div>\n<style scoped>\n    .dataframe tbody tr th:only-of-type {\n        vertical-align: middle;\n    }\n\n    .dataframe tbody tr th {\n        vertical-align: top;\n    }\n\n    .dataframe thead th {\n        text-align: right;\n    }\n</style>\n<table border=\"1\" class=\"dataframe\">\n  <thead>\n    <tr style=\"text-align: right;\">\n      <th></th>\n      <th>0</th>\n      <th>1</th>\n    </tr>\n  </thead>\n  <tbody>\n    <tr>\n      <th>0</th>\n      <td>53270</td>\n      <td>[3071851, 568145, 474168, 7959221, 339327, 532...</td>\n    </tr>\n    <tr>\n      <th>1</th>\n      <td>91213</td>\n      <td>[49659437, 54809933, 970220, 4483791, 777253, ...</td>\n    </tr>\n    <tr>\n      <th>2</th>\n      <td>56289</td>\n      <td>[568145, 475828, 859057, 393554, 49659437, 152...</td>\n    </tr>\n    <tr>\n      <th>3</th>\n      <td>88524</td>\n      <td>[568145, 500769, 859057, 393554, 474165, 26125...</td>\n    </tr>\n    <tr>\n      <th>4</th>\n      <td>72126</td>\n      <td>[59235430, 568145, 474168, 343300, 7959221, 47...</td>\n    </tr>\n  </tbody>\n</table>\n</div>"
     },
     "metadata": {},
     "execution_count": 115
    }
   ],
   "source": [
    "df.head()"
   ]
  },
  {
   "cell_type": "code",
   "execution_count": 116,
   "metadata": {},
   "outputs": [],
   "source": [
    "df.to_csv('../Data/svd-rs.csv', index=False)"
   ]
  },
  {
   "cell_type": "code",
   "execution_count": 102,
   "metadata": {},
   "outputs": [],
   "source": [
    "a = data[0][1]"
   ]
  },
  {
   "cell_type": "code",
   "execution_count": 104,
   "metadata": {},
   "outputs": [
    {
     "output_type": "execute_result",
     "data": {
      "text/plain": [
       "array(['Sách Lật Tương Tác Song Ngữ 0-3 Tuổi: Mông Ai Đây?',\n",
       "       'Góc Sân Và Khoảng Trời - Hạt Gạo Làng Ta',\n",
       "       'Truyện Cổ Andersen (Bìa Mềm)',\n",
       "       'Chỉ Số Cảm Xúc EQ - Phát Triển Chỉ Số Cảm Xúc- Miếng Dán Thần Kì - 3 Đến 4 Tuổi (Tái Bản)',\n",
       "       'Sách Tương Tác - Sách Chuyển Động - Busy - Holiday - Kỳ Nghỉ',\n",
       "       'Pettson & Findus - Chuyến Dã Ngoại Li Kì',\n",
       "       'Tập Tô Màu Mẫu Giáo - Chủ Đề Giao Thông',\n",
       "       'Bộ Túi 2 - Bộ Sách Giáo Dục Sớm Dành Cho Trẻ Em Từ 2-8 Tuổi - Rèn Luyện Kỹ Năng Sống, Giúp Trẻ Biết Tự Lập, Biết Yêu Thương, Chia Sẻ',\n",
       "       '10 Vạn Câu Hỏi Vì Sao - Khám Phá Thế Giới Thực Vật (Tái Bản 2018)',\n",
       "       'Bộ Truyện Giáo Dục Giới Tính Cho Trẻ Nhỏ - Tại Sao Con Là Con Trai?'],\n",
       "      dtype=object)"
      ]
     },
     "metadata": {},
     "execution_count": 104
    }
   ],
   "source": [
    "items.loc[items['id'].isin(a)]['name'].values"
   ]
  },
  {
   "cell_type": "code",
   "execution_count": 106,
   "metadata": {},
   "outputs": [],
   "source": [
    "list_rated = list(format_data.loc[format_data['user']==53270]['item'].values)"
   ]
  },
  {
   "cell_type": "code",
   "execution_count": 107,
   "metadata": {},
   "outputs": [
    {
     "output_type": "execute_result",
     "data": {
      "text/plain": [
       "array(['Những Câu Chuyện Sưởi Ấm Tâm Hồn: Ngôi Nhà Trong Cỏ',\n",
       "       'Đồng hành cùng con học Tiếng Anh', 'Tiệm Sách Cơn Mưa',\n",
       "       'Anne Tóc Đỏ Làng Avonlea (Tái Bản 2019)', 'Thành Ngữ Bằng Tranh',\n",
       "       'Thực Hành Giáo Dục Nhân Cách (Giúp Trẻ Trưởng Thành Hạnh Phúc Và Vững Vàng)',\n",
       "       'Hachiko - Chú Chó Đợi Chờ (Bìa Mềm) (Tái Bản 2019)',\n",
       "       'Siêu Nhí Hỏi Nhà Khoa Học Trả Lời - 100 Bí Ẩn Mọi Đứa Trẻ Đều Muốn Hỏi Một Nhà Khoa Học',\n",
       "       'Ehon Kỹ Năng Sống: Em Biết Quan Tâm, Chia Sẻ',\n",
       "       'Chuyện Phiêu Lưu Của Mít Đặc Và Các Bạn ( Bìa Cứng)(Tái Bản 2019)',\n",
       "       'Cuộc Phiêu Lưu Của Quả Lê Khổng Lồ (Tái Bản 2019)',\n",
       "       '80++ Hoạt Động Thử Tài IQ, Rèn Luyện Tư Duy',\n",
       "       'Quiz! Khoa Học Kì Thú: Những Cái Nhất Và Đầu Tiên Trên Thế Giới (Tái Bản 2020)',\n",
       "       'Quiz! Khoa Học Kì Thú: Cơ Thể Con Người (Tái Bản 2020)',\n",
       "       'Quiz! Khoa Học Kì Thú: Thế Giới Huyền Bí (Tái Bản 2020)',\n",
       "       'Quiz! Khoa Học Kì Thú: Vũ Trụ (Tái Bản 2020)',\n",
       "       'Quiz! Khoa Học Kì Thú: Phát Minh Phát Kiến (Tái Bản 2020)',\n",
       "       'Ehon Kỹ Năng Sống - Khéo Léo Dùng Đôi Tay',\n",
       "       'Em Làm Việc Nhà - Ehon Kỹ Năng Sống (Tái Bản 2020)',\n",
       "       'Quiz! Khoa Học Kì Thú: Bệnh Tật Vi Khuẩn (Tái Bản 2020)',\n",
       "       'Quiz! Khoa Học Kì Thú: Thời Tiết Môi Trường (Tái Bản 2020)',\n",
       "       'Quiz! Khoa Học Kì Thú: Động Đất Núi Lửa (Tái Bản 2020)',\n",
       "       'Quiz! Khoa Học Kì Thú: Côn Trùng (Tái Bản 2020)',\n",
       "       'Quiz! Khoa Học Kì Thú: Động Vật (Tái Bản 2020)',\n",
       "       'NYM - Tôi Của Tương Lai (Bản Thường)'], dtype=object)"
      ]
     },
     "metadata": {},
     "execution_count": 107
    }
   ],
   "source": [
    "items.loc[items['new_id'].isin(list_rated)]['name'].values"
   ]
  },
  {
   "cell_type": "code",
   "execution_count": 80,
   "metadata": {},
   "outputs": [
    {
     "output_type": "execute_result",
     "data": {
      "text/plain": [
       "        customer_id  stars\n",
       "52231       5582356    163\n",
       "69896       7031251     97\n",
       "124448     15701232     78\n",
       "39520       1895509     73\n",
       "49541       5399042     70\n",
       "108075     12631514     65\n",
       "98819      11202148     64\n",
       "139641     17612596     63\n",
       "21574        810770     59\n",
       "57168       5962045     59"
      ],
      "text/html": "<div>\n<style scoped>\n    .dataframe tbody tr th:only-of-type {\n        vertical-align: middle;\n    }\n\n    .dataframe tbody tr th {\n        vertical-align: top;\n    }\n\n    .dataframe thead th {\n        text-align: right;\n    }\n</style>\n<table border=\"1\" class=\"dataframe\">\n  <thead>\n    <tr style=\"text-align: right;\">\n      <th></th>\n      <th>customer_id</th>\n      <th>stars</th>\n    </tr>\n  </thead>\n  <tbody>\n    <tr>\n      <th>52231</th>\n      <td>5582356</td>\n      <td>163</td>\n    </tr>\n    <tr>\n      <th>69896</th>\n      <td>7031251</td>\n      <td>97</td>\n    </tr>\n    <tr>\n      <th>124448</th>\n      <td>15701232</td>\n      <td>78</td>\n    </tr>\n    <tr>\n      <th>39520</th>\n      <td>1895509</td>\n      <td>73</td>\n    </tr>\n    <tr>\n      <th>49541</th>\n      <td>5399042</td>\n      <td>70</td>\n    </tr>\n    <tr>\n      <th>108075</th>\n      <td>12631514</td>\n      <td>65</td>\n    </tr>\n    <tr>\n      <th>98819</th>\n      <td>11202148</td>\n      <td>64</td>\n    </tr>\n    <tr>\n      <th>139641</th>\n      <td>17612596</td>\n      <td>63</td>\n    </tr>\n    <tr>\n      <th>21574</th>\n      <td>810770</td>\n      <td>59</td>\n    </tr>\n    <tr>\n      <th>57168</th>\n      <td>5962045</td>\n      <td>59</td>\n    </tr>\n  </tbody>\n</table>\n</div>"
     },
     "metadata": {},
     "execution_count": 80
    }
   ],
   "source": [
    "first_ratings = pd.read_csv('../Data/all_rating.csv')\n",
    "first_ratings.groupby('customer_id')['stars'].count().reset_index().sort_values('stars', ascending=False)[:10]"
   ]
  },
  {
   "cell_type": "code",
   "execution_count": 81,
   "metadata": {},
   "outputs": [
    {
     "output_type": "execute_result",
     "data": {
      "text/plain": [
       "      product_id  stars\n",
       "0         181893    200\n",
       "4599    11232442    200\n",
       "2010      970950    200\n",
       "3534     5449561    200\n",
       "2014      974014    200\n",
       "7771    49365848    200\n",
       "2028      982037    200\n",
       "2030      984938    200\n",
       "7749    49249526    200\n",
       "3535     5449569    200"
      ],
      "text/html": "<div>\n<style scoped>\n    .dataframe tbody tr th:only-of-type {\n        vertical-align: middle;\n    }\n\n    .dataframe tbody tr th {\n        vertical-align: top;\n    }\n\n    .dataframe thead th {\n        text-align: right;\n    }\n</style>\n<table border=\"1\" class=\"dataframe\">\n  <thead>\n    <tr style=\"text-align: right;\">\n      <th></th>\n      <th>product_id</th>\n      <th>stars</th>\n    </tr>\n  </thead>\n  <tbody>\n    <tr>\n      <th>0</th>\n      <td>181893</td>\n      <td>200</td>\n    </tr>\n    <tr>\n      <th>4599</th>\n      <td>11232442</td>\n      <td>200</td>\n    </tr>\n    <tr>\n      <th>2010</th>\n      <td>970950</td>\n      <td>200</td>\n    </tr>\n    <tr>\n      <th>3534</th>\n      <td>5449561</td>\n      <td>200</td>\n    </tr>\n    <tr>\n      <th>2014</th>\n      <td>974014</td>\n      <td>200</td>\n    </tr>\n    <tr>\n      <th>7771</th>\n      <td>49365848</td>\n      <td>200</td>\n    </tr>\n    <tr>\n      <th>2028</th>\n      <td>982037</td>\n      <td>200</td>\n    </tr>\n    <tr>\n      <th>2030</th>\n      <td>984938</td>\n      <td>200</td>\n    </tr>\n    <tr>\n      <th>7749</th>\n      <td>49249526</td>\n      <td>200</td>\n    </tr>\n    <tr>\n      <th>3535</th>\n      <td>5449569</td>\n      <td>200</td>\n    </tr>\n  </tbody>\n</table>\n</div>"
     },
     "metadata": {},
     "execution_count": 81
    }
   ],
   "source": [
    "first_ratings.groupby('product_id')['stars'].count().reset_index().sort_values('stars', ascending=False)[:10]"
   ]
  },
  {
   "cell_type": "code",
   "execution_count": 144,
   "metadata": {},
   "outputs": [
    {
     "output_type": "execute_result",
     "data": {
      "text/plain": [
       "10329"
      ]
     },
     "metadata": {},
     "execution_count": 144
    }
   ],
   "source": [
    "items['new_id'].max()"
   ]
  },
  {
   "source": [
    "# ------------------------------\n",
    "## Old code"
   ],
   "cell_type": "markdown",
   "metadata": {}
  },
  {
   "source": [
    "trainset_iids = list(trainset.all_items())\n",
    "iid_converter = lambda x: trainset.to_raw_iid(x)\n",
    "trainset_raw_iids = list(map(iid_converter, trainset_iids))"
   ],
   "cell_type": "code",
   "metadata": {},
   "execution_count": null,
   "outputs": []
  },
  {
   "cell_type": "code",
   "execution_count": 8,
   "metadata": {},
   "outputs": [
    {
     "output_type": "stream",
     "name": "stdout",
     "text": [
      "Number of users:  5289 \n\nNumber of items:  1382 \n\n"
     ]
    }
   ],
   "source": [
    "trainsetfull = data.build_full_trainset()\n",
    "print('Number of users: ', trainsetfull.n_users, '\\n')\n",
    "print('Number of items: ', trainsetfull.n_items, '\\n')"
   ]
  },
  {
   "cell_type": "code",
   "execution_count": 10,
   "metadata": {},
   "outputs": [
    {
     "output_type": "stream",
     "name": "stderr",
     "text": [
      "[Parallel(n_jobs=-1)]: Using backend LokyBackend with 4 concurrent workers.\n",
      "[Parallel(n_jobs=-1)]: Done  10 tasks      | elapsed:   10.5s\n",
      "[Parallel(n_jobs=-1)]: Done  64 tasks      | elapsed:   48.3s\n",
      "[Parallel(n_jobs=-1)]: Done 154 tasks      | elapsed:  2.0min\n",
      "[Parallel(n_jobs=-1)]: Done 180 out of 180 | elapsed:  2.4min finished\n"
     ]
    }
   ],
   "source": [
    "param_grid_2 = {'n_factors':[5, 10,20],'n_epochs': [5, 10, 20], 'lr_all': [0.002, 0.005],\n",
    "              'reg_all': [0.4, 0.6]}\n",
    "\n",
    "gs_model_2 = GridSearchCV(SVD,param_grid=param_grid_2, n_jobs = -1, joblib_verbose=5)\n",
    "gs_model_2.fit(data)"
   ]
  },
  {
   "cell_type": "code",
   "execution_count": 11,
   "metadata": {},
   "outputs": [
    {
     "output_type": "execute_result",
     "data": {
      "text/plain": [
       "{'rmse': {'n_factors': 5, 'n_epochs': 20, 'lr_all': 0.005, 'reg_all': 0.4},\n",
       " 'mae': {'n_factors': 5, 'n_epochs': 20, 'lr_all': 0.005, 'reg_all': 0.4}}"
      ]
     },
     "metadata": {},
     "execution_count": 11
    }
   ],
   "source": [
    "gs_model_2.best_params"
   ]
  },
  {
   "cell_type": "code",
   "execution_count": 12,
   "metadata": {},
   "outputs": [
    {
     "output_type": "stream",
     "name": "stdout",
     "text": [
      "RMSE: 0.5450\n0.5450495272216493\nMAE:  0.3287\n0.32872229368379235\nFCP:  0.5888\n0.5887594936708861\n"
     ]
    }
   ],
   "source": [
    "svd2 = SVD(n_factors=20, n_epochs=20, lr_all=0.005, reg_all=0.6)\n",
    "svd2.fit(trainset)\n",
    "predictions = svd2.test(testset)\n",
    "print(accuracy.rmse(predictions))\n",
    "print(accuracy.mae(predictions))\n",
    "print(accuracy.fcp(predictions))"
   ]
  },
  {
   "cell_type": "code",
   "execution_count": 13,
   "metadata": {},
   "outputs": [
    {
     "output_type": "stream",
     "name": "stderr",
     "text": [
      "[Parallel(n_jobs=-1)]: Using backend LokyBackend with 4 concurrent workers.\n",
      "[Parallel(n_jobs=-1)]: Done  10 tasks      | elapsed:    9.3s\n",
      "[Parallel(n_jobs=-1)]: Done  45 out of  45 | elapsed:   39.6s finished\n"
     ]
    }
   ],
   "source": [
    "param_grid_3 = {'n_factors':[20],'n_epochs': [20], 'lr_all': [0.004, 0.005, 0.006],\n",
    "              'reg_all': [0.5, 0.6, 0.7]}\n",
    "\n",
    "gs_model_3 = GridSearchCV(SVD,param_grid=param_grid_3,n_jobs = -1,joblib_verbose=5)\n",
    "gs_model_3.fit(data)"
   ]
  },
  {
   "cell_type": "code",
   "execution_count": 14,
   "metadata": {},
   "outputs": [
    {
     "output_type": "execute_result",
     "data": {
      "text/plain": [
       "{'rmse': {'n_factors': 20, 'n_epochs': 20, 'lr_all': 0.006, 'reg_all': 0.5},\n",
       " 'mae': {'n_factors': 20, 'n_epochs': 20, 'lr_all': 0.006, 'reg_all': 0.5}}"
      ]
     },
     "metadata": {},
     "execution_count": 14
    }
   ],
   "source": [
    "gs_model_3.best_params"
   ]
  },
  {
   "cell_type": "code",
   "execution_count": 15,
   "metadata": {},
   "outputs": [
    {
     "output_type": "stream",
     "name": "stderr",
     "text": [
      "[Parallel(n_jobs=-1)]: Using backend LokyBackend with 4 concurrent workers.\n",
      "[Parallel(n_jobs=-1)]: Done  10 tasks      | elapsed:    8.2s\n",
      "[Parallel(n_jobs=-1)]: Done  64 tasks      | elapsed:   53.7s\n",
      "[Parallel(n_jobs=-1)]: Done  90 out of  90 | elapsed:  1.3min finished\n"
     ]
    }
   ],
   "source": [
    "param_grid_4 = {'n_factors':[20, 30],'n_epochs': [20], 'lr_all': [0.006, 0.01, 0.015],\n",
    "              'reg_all': [0.7, 1, 1.5]}\n",
    "\n",
    "gs_model_4 = GridSearchCV(SVD,param_grid=param_grid_4,n_jobs = -1,joblib_verbose=5)\n",
    "gs_model_4.fit(data)"
   ]
  },
  {
   "source": [
    "gs_model_4.best_params"
   ],
   "cell_type": "code",
   "metadata": {},
   "execution_count": 16,
   "outputs": [
    {
     "output_type": "execute_result",
     "data": {
      "text/plain": [
       "{'rmse': {'n_factors': 30, 'n_epochs': 20, 'lr_all': 0.01, 'reg_all': 0.7},\n",
       " 'mae': {'n_factors': 20, 'n_epochs': 20, 'lr_all': 0.015, 'reg_all': 0.7}}"
      ]
     },
     "metadata": {},
     "execution_count": 16
    }
   ]
  },
  {
   "cell_type": "code",
   "execution_count": 17,
   "metadata": {},
   "outputs": [
    {
     "output_type": "execute_result",
     "data": {
      "text/plain": [
       "{'rmse': 0.5763102673859464, 'mae': 0.33417214310816595}"
      ]
     },
     "metadata": {},
     "execution_count": 17
    }
   ],
   "source": [
    "gs_model_4.best_score"
   ]
  },
  {
   "cell_type": "code",
   "execution_count": 18,
   "metadata": {},
   "outputs": [
    {
     "output_type": "stream",
     "name": "stderr",
     "text": [
      "[Parallel(n_jobs=-1)]: Using backend LokyBackend with 4 concurrent workers.\n",
      "[Parallel(n_jobs=-1)]: Done  12 out of  15 | elapsed:   13.4s remaining:    3.3s\n",
      "[Parallel(n_jobs=-1)]: Done  15 out of  15 | elapsed:   15.7s finished\n"
     ]
    }
   ],
   "source": [
    "param_grid_5 = {'n_factors':[30, 40, 50],'n_epochs': [20], 'lr_all': [0.006],\n",
    "              'reg_all': [0.7]}\n",
    "\n",
    "gs_model_5 = GridSearchCV(SVD,param_grid=param_grid_5,n_jobs = -1,joblib_verbose=5)\n",
    "gs_model_5.fit(data)"
   ]
  },
  {
   "cell_type": "code",
   "execution_count": 19,
   "metadata": {},
   "outputs": [
    {
     "output_type": "execute_result",
     "data": {
      "text/plain": [
       "{'rmse': {'n_factors': 30, 'n_epochs': 20, 'lr_all': 0.006, 'reg_all': 0.7},\n",
       " 'mae': {'n_factors': 30, 'n_epochs': 20, 'lr_all': 0.006, 'reg_all': 0.7}}"
      ]
     },
     "metadata": {},
     "execution_count": 19
    }
   ],
   "source": [
    "gs_model_5.best_params\n"
   ]
  },
  {
   "cell_type": "code",
   "execution_count": 20,
   "metadata": {},
   "outputs": [
    {
     "output_type": "execute_result",
     "data": {
      "text/plain": [
       "{'rmse': 0.5781285655026138, 'mae': 0.3428240357209737}"
      ]
     },
     "metadata": {},
     "execution_count": 20
    }
   ],
   "source": [
    "gs_model_5.best_score\n"
   ]
  },
  {
   "cell_type": "code",
   "execution_count": 21,
   "metadata": {},
   "outputs": [
    {
     "output_type": "stream",
     "name": "stdout",
     "text": [
      "RMSE: 0.5464\n"
     ]
    },
    {
     "output_type": "execute_result",
     "data": {
      "text/plain": [
       "0.5463804052751202"
      ]
     },
     "metadata": {},
     "execution_count": 21
    }
   ],
   "source": [
    "chosen_SVD = SVD(n_factors= 50, n_epochs=20, lr_all=0.006, reg_all=0.7)\n",
    "chosen_SVD.fit(trainset)\n",
    "predictions = chosen_SVD.test(testset)\n",
    "accuracy.rmse(predictions)"
   ]
  },
  {
   "source": [
    "# SVD++"
   ],
   "cell_type": "markdown",
   "metadata": {}
  },
  {
   "cell_type": "code",
   "execution_count": 22,
   "metadata": {},
   "outputs": [
    {
     "output_type": "stream",
     "name": "stdout",
     "text": [
      "RMSE: 0.5344\n"
     ]
    },
    {
     "output_type": "execute_result",
     "data": {
      "text/plain": [
       "0.5344483344424271"
      ]
     },
     "metadata": {},
     "execution_count": 22
    }
   ],
   "source": [
    "chosen_SVDpp = SVDpp()\n",
    "chosen_SVDpp.fit(trainset)\n",
    "predictions = chosen_SVDpp.test(testset)\n",
    "accuracy.rmse(predictions)"
   ]
  },
  {
   "cell_type": "code",
   "execution_count": 23,
   "metadata": {},
   "outputs": [
    {
     "output_type": "stream",
     "name": "stderr",
     "text": [
      "[Parallel(n_jobs=-1)]: Using backend LokyBackend with 4 concurrent workers.\n",
      "[Parallel(n_jobs=-1)]: Done  10 tasks      | elapsed:   33.1s\n",
      "[Parallel(n_jobs=-1)]: Done  40 out of  40 | elapsed:  2.2min finished\n"
     ]
    }
   ],
   "source": [
    "param_grid_6 = {'n_factors':[20, 30],'n_epochs': [20], 'lr_all': [0.006, 0.01],\n",
    "              'reg_all': [0.7, 1]}\n",
    "\n",
    "gs_model_6 = GridSearchCV(SVDpp,param_grid=param_grid_6,n_jobs = -1,joblib_verbose=5)\n",
    "gs_model_6.fit(data)"
   ]
  },
  {
   "cell_type": "code",
   "execution_count": 24,
   "metadata": {},
   "outputs": [],
   "source": [
    "from surprise import SlopeOne, CoClustering"
   ]
  },
  {
   "cell_type": "code",
   "execution_count": 25,
   "metadata": {},
   "outputs": [
    {
     "output_type": "execute_result",
     "data": {
      "text/plain": [
       "{'test_rmse': array([0.70038591, 0.72105193, 0.72781083, 0.71335018, 0.71941643]),\n",
       " 'train_rmse': array([0.11395113, 0.11130666, 0.11365267, 0.11728612, 0.11848615]),\n",
       " 'fit_time': (0.2700638771057129,\n",
       "  0.23703742027282715,\n",
       "  0.462996244430542,\n",
       "  0.31354331970214844,\n",
       "  0.27552294731140137),\n",
       " 'test_time': (0.13900113105773926,\n",
       "  0.1285243034362793,\n",
       "  0.21700191497802734,\n",
       "  0.11150956153869629,\n",
       "  0.10952305793762207)}"
      ]
     },
     "metadata": {},
     "execution_count": 25
    }
   ],
   "source": [
    "algo = SlopeOne()\n",
    "results = cross_validate(algo, data, measures = ['RMSE'], return_train_measures=True)\n",
    "results"
   ]
  },
  {
   "cell_type": "code",
   "execution_count": 26,
   "metadata": {},
   "outputs": [
    {
     "output_type": "execute_result",
     "data": {
      "text/plain": [
       "{'test_rmse': array([0.70038591, 0.72105193, 0.72781083, 0.71335018, 0.71941643]),\n",
       " 'train_rmse': array([0.11395113, 0.11130666, 0.11365267, 0.11728612, 0.11848615]),\n",
       " 'fit_time': (0.2700638771057129,\n",
       "  0.23703742027282715,\n",
       "  0.462996244430542,\n",
       "  0.31354331970214844,\n",
       "  0.27552294731140137),\n",
       " 'test_time': (0.13900113105773926,\n",
       "  0.1285243034362793,\n",
       "  0.21700191497802734,\n",
       "  0.11150956153869629,\n",
       "  0.10952305793762207)}"
      ]
     },
     "metadata": {},
     "execution_count": 26
    }
   ],
   "source": [
    "results\n"
   ]
  },
  {
   "cell_type": "code",
   "execution_count": 27,
   "metadata": {},
   "outputs": [
    {
     "output_type": "stream",
     "name": "stdout",
     "text": [
      "RMSE: 0.6765\n"
     ]
    },
    {
     "output_type": "execute_result",
     "data": {
      "text/plain": [
       "0.6764761736966756"
      ]
     },
     "metadata": {},
     "execution_count": 27
    }
   ],
   "source": [
    "slopeone = SlopeOne()\n",
    "slopeone.fit(trainset)\n",
    "predictions = slopeone.test(testset)\n",
    "accuracy.rmse(predictions)"
   ]
  },
  {
   "cell_type": "code",
   "execution_count": 28,
   "metadata": {},
   "outputs": [
    {
     "output_type": "stream",
     "name": "stdout",
     "text": [
      "RMSE: 0.6319\n"
     ]
    },
    {
     "output_type": "execute_result",
     "data": {
      "text/plain": [
       "0.6319431234637242"
      ]
     },
     "metadata": {},
     "execution_count": 28
    }
   ],
   "source": [
    "algo = CoClustering(n_cltr_u = 3, n_cltr_i = 3)\n",
    "algo.fit(trainset)\n",
    "predictions = algo.test(testset)\n",
    "accuracy.rmse(predictions)"
   ]
  },
  {
   "cell_type": "code",
   "execution_count": 29,
   "metadata": {},
   "outputs": [
    {
     "output_type": "stream",
     "name": "stdout",
     "text": [
      "RMSE: 0.6574\n"
     ]
    },
    {
     "output_type": "execute_result",
     "data": {
      "text/plain": [
       "0.657387397133368"
      ]
     },
     "metadata": {},
     "execution_count": 29
    }
   ],
   "source": [
    "algo = CoClustering(n_cltr_u = 5, n_cltr_i = 5)\n",
    "algo.fit(trainset)\n",
    "predictions = algo.test(testset)\n",
    "accuracy.rmse(predictions)"
   ]
  }
 ]
}
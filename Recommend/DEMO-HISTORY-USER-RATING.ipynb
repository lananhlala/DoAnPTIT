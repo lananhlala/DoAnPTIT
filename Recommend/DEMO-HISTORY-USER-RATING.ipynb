{
 "metadata": {
  "language_info": {
   "codemirror_mode": {
    "name": "ipython",
    "version": 3
   },
   "file_extension": ".py",
   "mimetype": "text/x-python",
   "name": "python",
   "nbconvert_exporter": "python",
   "pygments_lexer": "ipython3",
   "version": "3.7.6-final"
  },
  "orig_nbformat": 2,
  "kernelspec": {
   "name": "python36864bitcc30d91a1dad45e4b3c775dc11df627a",
   "display_name": "Python 3.6.8 64-bit",
   "language": "python"
  }
 },
 "nbformat": 4,
 "nbformat_minor": 2,
 "cells": [
  {
   "cell_type": "code",
   "execution_count": 73,
   "metadata": {},
   "outputs": [],
   "source": [
    "import pandas as pd"
   ]
  },
  {
   "cell_type": "code",
   "execution_count": 74,
   "metadata": {},
   "outputs": [],
   "source": [
    "ratings = pd.read_csv('../Data/final_rating_not_spare.csv')"
   ]
  },
  {
   "cell_type": "code",
   "execution_count": 75,
   "metadata": {},
   "outputs": [],
   "source": [
    "items = pd.read_csv('../Data/final_all_clean_books.csv')"
   ]
  },
  {
   "cell_type": "code",
   "execution_count": 78,
   "metadata": {},
   "outputs": [
    {
     "output_type": "execute_result",
     "data": {
      "text/plain": [
       "array([['Who? Chuyện Kể Về Danh Nhân Thế Giới: Walt Disney (Tái Bản 2019)',\n",
       "        'Sách thiếu nhi', ' Kiến thức - Bách khoa'],\n",
       "       ['Who? Chuyện Kể Về Danh Nhân Thế Giới: Ludwig Van Beethoven (Tái Bản 2019)',\n",
       "        'Sách thiếu nhi', ' Kiến thức - Bách khoa'],\n",
       "       ['Who? Chuyện Kể Về Danh Nhân Thế Giới: Stephen Hawking (Tái Bản 2019)',\n",
       "        'Sách thiếu nhi', ' Kiến thức - Bách khoa'],\n",
       "       ['Who? Chuyện Kể Về Danh Nhân Thế Giới: Jane Goodall (Tái Bản 2019)',\n",
       "        'Sách thiếu nhi', ' Kiến thức - Bách khoa'],\n",
       "       ['Chuyện Kể Về Danh Nhân Thế Giới: Who? Hans Christian Andersen (Tái Bản)',\n",
       "        'Sách thiếu nhi', ' Truyện kể cho bé'],\n",
       "       ['Who? Chuyện Kể Về Danh Nhân Thế Giới - Maria Montessori (Tái Bản 2019)',\n",
       "        'Sách thiếu nhi', ' Kiến thức - Bách khoa'],\n",
       "       ['Who? Chuyện Kể Về Danh Nhân Thế Giới: Vincent Van Gogh (Tái Bản 2019)',\n",
       "        'Sách thiếu nhi', ' Kiến thức - Bách khoa'],\n",
       "       ['Who? Chuyện Kể Về Danh Nhân Thế Giới: Martin Luther King (Tái Bản 2019)',\n",
       "        'Sách thiếu nhi', ' Kiến thức - Bách khoa'],\n",
       "       ['Who? Chuyện Kể Về Danh Nhân Thế Giới: Nelson Mandela (Tái Bản 2019)',\n",
       "        'Sách thiếu nhi', ' Kiến thức - Bách khoa'],\n",
       "       ['Who? Chuyện Kể Về Danh Nhân Thế Giới: Charlie Chaplin (Tái Bản 2019)',\n",
       "        'Sách thiếu nhi', ' Kiến thức - Bách khoa'],\n",
       "       ['Who? Chuyện Kể Về Danh Nhân Thế Giới: Winston Churchill (Tái Bản 2019)',\n",
       "        'Sách thiếu nhi', ' Kiến thức - Bách khoa'],\n",
       "       ['Who? Chuyện Kể Về Danh Nhân Thế Giới - Wilhelm Roentgen (Tái Bản 2019)',\n",
       "        'Sách thiếu nhi', ' Kiến thức - Bách khoa'],\n",
       "       ['Who? Chuyện Kể Về Danh Nhân Thế Giới: Steven Spielberg (Tái Bản 2019)',\n",
       "        'Sách thiếu nhi', ' Kiến thức - Bách khoa'],\n",
       "       ['Who? Chuyện Kể Về Danh Nhân Thế Giới: Charles Darwin (Tái Bản 2019)',\n",
       "        'Sách kinh tế', ' Sách quản trị']], dtype=object)"
      ]
     },
     "metadata": {},
     "execution_count": 78
    }
   ],
   "source": [
    "user_id = 96710\n",
    "idx = ratings[ratings['customer_id']==user_id]['product_id'].values\n",
    "items.loc[items['new_id'].isin(idx)][['name','big_category','sub_category']].values"
   ]
  },
  {
   "cell_type": "code",
   "execution_count": 68,
   "metadata": {},
   "outputs": [],
   "source": [
    "items = pd.read_csv('../Data/final_all_clean_books.csv')"
   ]
  },
  {
   "cell_type": "code",
   "execution_count": 67,
   "metadata": {},
   "outputs": [
    {
     "output_type": "execute_result",
     "data": {
      "text/plain": [
       "   item   user  rating\n",
       "0  9672  53270       5\n",
       "1  9672  91213       4\n",
       "2  3038  56289       5\n",
       "3  3038  88524       5\n",
       "4  3038  72126       5"
      ],
      "text/html": "<div>\n<style scoped>\n    .dataframe tbody tr th:only-of-type {\n        vertical-align: middle;\n    }\n\n    .dataframe tbody tr th {\n        vertical-align: top;\n    }\n\n    .dataframe thead th {\n        text-align: right;\n    }\n</style>\n<table border=\"1\" class=\"dataframe\">\n  <thead>\n    <tr style=\"text-align: right;\">\n      <th></th>\n      <th>item</th>\n      <th>user</th>\n      <th>rating</th>\n    </tr>\n  </thead>\n  <tbody>\n    <tr>\n      <th>0</th>\n      <td>9672</td>\n      <td>53270</td>\n      <td>5</td>\n    </tr>\n    <tr>\n      <th>1</th>\n      <td>9672</td>\n      <td>91213</td>\n      <td>4</td>\n    </tr>\n    <tr>\n      <th>2</th>\n      <td>3038</td>\n      <td>56289</td>\n      <td>5</td>\n    </tr>\n    <tr>\n      <th>3</th>\n      <td>3038</td>\n      <td>88524</td>\n      <td>5</td>\n    </tr>\n    <tr>\n      <th>4</th>\n      <td>3038</td>\n      <td>72126</td>\n      <td>5</td>\n    </tr>\n  </tbody>\n</table>\n</div>"
     },
     "metadata": {},
     "execution_count": 67
    }
   ],
   "source": [
    "create_rating_db = pd.read_csv('../Data/final_rating_not_spare_format.csv')\n",
    "create_rating_db.head()"
   ]
  },
  {
   "cell_type": "code",
   "execution_count": 69,
   "metadata": {},
   "outputs": [],
   "source": [
    "create_rating_db['raw_id_product'] = create_rating_db['item'].apply(lambda x: items.loc[items['new_id']==x]['id'].values[0])"
   ]
  },
  {
   "cell_type": "code",
   "execution_count": 70,
   "metadata": {},
   "outputs": [
    {
     "output_type": "execute_result",
     "data": {
      "text/plain": [
       "   item   user  rating  raw_id_product\n",
       "0  9672  53270       5        58441480\n",
       "1  9672  91213       4        58441480\n",
       "2  3038  56289       5         3071851\n",
       "3  3038  88524       5         3071851\n",
       "4  3038  72126       5         3071851"
      ],
      "text/html": "<div>\n<style scoped>\n    .dataframe tbody tr th:only-of-type {\n        vertical-align: middle;\n    }\n\n    .dataframe tbody tr th {\n        vertical-align: top;\n    }\n\n    .dataframe thead th {\n        text-align: right;\n    }\n</style>\n<table border=\"1\" class=\"dataframe\">\n  <thead>\n    <tr style=\"text-align: right;\">\n      <th></th>\n      <th>item</th>\n      <th>user</th>\n      <th>rating</th>\n      <th>raw_id_product</th>\n    </tr>\n  </thead>\n  <tbody>\n    <tr>\n      <th>0</th>\n      <td>9672</td>\n      <td>53270</td>\n      <td>5</td>\n      <td>58441480</td>\n    </tr>\n    <tr>\n      <th>1</th>\n      <td>9672</td>\n      <td>91213</td>\n      <td>4</td>\n      <td>58441480</td>\n    </tr>\n    <tr>\n      <th>2</th>\n      <td>3038</td>\n      <td>56289</td>\n      <td>5</td>\n      <td>3071851</td>\n    </tr>\n    <tr>\n      <th>3</th>\n      <td>3038</td>\n      <td>88524</td>\n      <td>5</td>\n      <td>3071851</td>\n    </tr>\n    <tr>\n      <th>4</th>\n      <td>3038</td>\n      <td>72126</td>\n      <td>5</td>\n      <td>3071851</td>\n    </tr>\n  </tbody>\n</table>\n</div>"
     },
     "metadata": {},
     "execution_count": 70
    }
   ],
   "source": [
    "create_rating_db.head()"
   ]
  },
  {
   "cell_type": "code",
   "execution_count": 72,
   "metadata": {},
   "outputs": [],
   "source": [
    "create_rating_db[['user', 'raw_id_product', 'rating']].to_csv('../Data/ratings.csv', index=False)"
   ]
  },
  {
   "cell_type": "code",
   "execution_count": null,
   "metadata": {},
   "outputs": [],
   "source": []
  }
 ]
}
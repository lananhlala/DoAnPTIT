{
 "metadata": {
  "language_info": {
   "codemirror_mode": {
    "name": "ipython",
    "version": 3
   },
   "file_extension": ".py",
   "mimetype": "text/x-python",
   "name": "python",
   "nbconvert_exporter": "python",
   "pygments_lexer": "ipython3",
   "version": "3.7.6-final"
  },
  "orig_nbformat": 2,
  "kernelspec": {
   "name": "python36864bitcc30d91a1dad45e4b3c775dc11df627a",
   "display_name": "Python 3.6.8 64-bit"
  }
 },
 "nbformat": 4,
 "nbformat_minor": 2,
 "cells": [
  {
   "cell_type": "code",
   "execution_count": 1,
   "metadata": {},
   "outputs": [],
   "source": [
    "import pandas as pd\n",
    "import numpy as np"
   ]
  },
  {
   "cell_type": "code",
   "execution_count": 2,
   "metadata": {},
   "outputs": [],
   "source": [
    "books = pd.read_csv(r'E:\\DoAnPTIT\\Data\\clean_books.csv')"
   ]
  },
  {
   "cell_type": "code",
   "execution_count": 4,
   "metadata": {},
   "outputs": [],
   "source": [
    "tiki_ids = books.id.values "
   ]
  },
  {
   "cell_type": "code",
   "execution_count": 5,
   "metadata": {},
   "outputs": [
    {
     "output_type": "execute_result",
     "data": {
      "text/plain": [
       "array([58390336,  1664525, 55573620, ..., 49064610,  2099833, 17536973],\n",
       "      dtype=int64)"
      ]
     },
     "metadata": {},
     "execution_count": 5
    }
   ],
   "source": [
    "tiki_ids"
   ]
  },
  {
   "cell_type": "code",
   "execution_count": 6,
   "metadata": {},
   "outputs": [
    {
     "output_type": "execute_result",
     "data": {
      "text/plain": [
       "   product_id                                            content  customer_id  \\\n",
       "0    58441480  Giao hàng nhanh , sách đẹp .Giao hôm qua hn Ti...      7201105   \n",
       "1    58441480  Nội dung hay, Phụ huynh nên đọc để định hướng ...       823195   \n",
       "2    58441480  Sách hay dành cho cả người lớn và trẻ nhỏ. Hìn...      6927758   \n",
       "3    58441480                   sách quá đẹp đi! nội dung rất ok        73375   \n",
       "4    58441480                                           Sách đẹp      7103521   \n",
       "\n",
       "          user_name  stars  comment_id  \n",
       "0          Hải Phạm      5     4702781  \n",
       "1      Trang Nguyen      5     4940437  \n",
       "2          Luyen Do      4     4690057  \n",
       "3          Hiểu Mai      5     4645307  \n",
       "4  Nguyễn Xuân Hùng      5     4627799  "
      ],
      "text/html": "<div>\n<style scoped>\n    .dataframe tbody tr th:only-of-type {\n        vertical-align: middle;\n    }\n\n    .dataframe tbody tr th {\n        vertical-align: top;\n    }\n\n    .dataframe thead th {\n        text-align: right;\n    }\n</style>\n<table border=\"1\" class=\"dataframe\">\n  <thead>\n    <tr style=\"text-align: right;\">\n      <th></th>\n      <th>product_id</th>\n      <th>content</th>\n      <th>customer_id</th>\n      <th>user_name</th>\n      <th>stars</th>\n      <th>comment_id</th>\n    </tr>\n  </thead>\n  <tbody>\n    <tr>\n      <th>0</th>\n      <td>58441480</td>\n      <td>Giao hàng nhanh , sách đẹp .Giao hôm qua hn Ti...</td>\n      <td>7201105</td>\n      <td>Hải Phạm</td>\n      <td>5</td>\n      <td>4702781</td>\n    </tr>\n    <tr>\n      <th>1</th>\n      <td>58441480</td>\n      <td>Nội dung hay, Phụ huynh nên đọc để định hướng ...</td>\n      <td>823195</td>\n      <td>Trang Nguyen</td>\n      <td>5</td>\n      <td>4940437</td>\n    </tr>\n    <tr>\n      <th>2</th>\n      <td>58441480</td>\n      <td>Sách hay dành cho cả người lớn và trẻ nhỏ. Hìn...</td>\n      <td>6927758</td>\n      <td>Luyen Do</td>\n      <td>4</td>\n      <td>4690057</td>\n    </tr>\n    <tr>\n      <th>3</th>\n      <td>58441480</td>\n      <td>sách quá đẹp đi! nội dung rất ok</td>\n      <td>73375</td>\n      <td>Hiểu Mai</td>\n      <td>5</td>\n      <td>4645307</td>\n    </tr>\n    <tr>\n      <th>4</th>\n      <td>58441480</td>\n      <td>Sách đẹp</td>\n      <td>7103521</td>\n      <td>Nguyễn Xuân Hùng</td>\n      <td>5</td>\n      <td>4627799</td>\n    </tr>\n  </tbody>\n</table>\n</div>"
     },
     "metadata": {},
     "execution_count": 6
    }
   ],
   "source": [
    "ratings = pd.read_csv(r'E:\\DoAnPTIT\\Data\\all_rating.csv')\n",
    "ratings.head()"
   ]
  },
  {
   "cell_type": "code",
   "execution_count": 7,
   "metadata": {},
   "outputs": [],
   "source": [
    "ratings.drop(ratings[~ratings['product_id'].isin(tiki_ids)].index, inplace=True)"
   ]
  },
  {
   "cell_type": "code",
   "execution_count": 8,
   "metadata": {},
   "outputs": [
    {
     "output_type": "stream",
     "name": "stdout",
     "text": [
      "<class 'pandas.core.frame.DataFrame'>\nInt64Index: 237916 entries, 0 to 267741\nData columns (total 6 columns):\n #   Column       Non-Null Count   Dtype \n---  ------       --------------   ----- \n 0   product_id   237916 non-null  int64 \n 1   content      158939 non-null  object\n 2   customer_id  237916 non-null  int64 \n 3   user_name    237315 non-null  object\n 4   stars        237916 non-null  int64 \n 5   comment_id   237916 non-null  int64 \ndtypes: int64(4), object(2)\nmemory usage: 12.7+ MB\n"
     ]
    }
   ],
   "source": [
    "ratings.info()"
   ]
  },
  {
   "cell_type": "code",
   "execution_count": 9,
   "metadata": {},
   "outputs": [],
   "source": [
    "ratings.to_csv('../Data/final_rating_data.csv', index=False)"
   ]
  },
  {
   "cell_type": "code",
   "execution_count": null,
   "metadata": {},
   "outputs": [],
   "source": []
  }
 ]
}
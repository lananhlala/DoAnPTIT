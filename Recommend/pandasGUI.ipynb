{
 "metadata": {
  "language_info": {
   "codemirror_mode": {
    "name": "ipython",
    "version": 3
   },
   "file_extension": ".py",
   "mimetype": "text/x-python",
   "name": "python",
   "nbconvert_exporter": "python",
   "pygments_lexer": "ipython3",
   "version": "3.7.6-final"
  },
  "orig_nbformat": 2,
  "kernelspec": {
   "name": "python36864bitcc30d91a1dad45e4b3c775dc11df627a",
   "display_name": "Python 3.6.8 64-bit"
  }
 },
 "nbformat": 4,
 "nbformat_minor": 2,
 "cells": [
  {
   "cell_type": "code",
   "execution_count": 458,
   "metadata": {},
   "outputs": [],
   "source": [
    "import pandas as pd \n",
    "from pandasgui import show\n",
    "import numpy as np "
   ]
  },
  {
   "cell_type": "code",
   "execution_count": 50,
   "metadata": {},
   "outputs": [
    {
     "output_type": "stream",
     "name": "stdout",
     "text": [
      "<class 'pandas.core.frame.DataFrame'>\nRangeIndex: 10738 entries, 0 to 10737\nData columns (total 21 columns):\n #   Column                 Non-Null Count  Dtype  \n---  ------                 --------------  -----  \n 0   id                     10738 non-null  int64  \n 1   sku                    10738 non-null  int64  \n 2   name                   10738 non-null  object \n 3   url_path               10738 non-null  object \n 4   book_cover             9802 non-null   object \n 5   short_description      10735 non-null  object \n 6   price                  10738 non-null  int64  \n 7   list_price             10738 non-null  int64  \n 8   price_usd              10738 non-null  float64\n 9   discount               10738 non-null  int64  \n 10  discount_rate          10738 non-null  int64  \n 11  rating_average         10738 non-null  float64\n 12  review_count           10738 non-null  int64  \n 13  order_count            10738 non-null  int64  \n 14  favourite_count        10738 non-null  int64  \n 15  thumbnail_url          10738 non-null  object \n 16  productset_group_name  10694 non-null  object \n 17  description            10738 non-null  object \n 18  publisher              10731 non-null  object \n 19  authors                10731 non-null  object \n 20  stock_item             9359 non-null   float64\ndtypes: float64(3), int64(9), object(9)\nmemory usage: 1.7+ MB\n"
     ]
    }
   ],
   "source": [
    "data = pd.read_csv('../Data/books.csv')\n",
    "data.info()"
   ]
  },
  {
   "cell_type": "code",
   "execution_count": 51,
   "metadata": {},
   "outputs": [],
   "source": [
    "data.drop_duplicates('name', inplace=True, ignore_index=True)"
   ]
  },
  {
   "cell_type": "code",
   "execution_count": 52,
   "metadata": {},
   "outputs": [
    {
     "output_type": "stream",
     "name": "stdout",
     "text": [
      "<class 'pandas.core.frame.DataFrame'>\nRangeIndex: 10659 entries, 0 to 10658\nData columns (total 21 columns):\n #   Column                 Non-Null Count  Dtype  \n---  ------                 --------------  -----  \n 0   id                     10659 non-null  int64  \n 1   sku                    10659 non-null  int64  \n 2   name                   10659 non-null  object \n 3   url_path               10659 non-null  object \n 4   book_cover             9732 non-null   object \n 5   short_description      10656 non-null  object \n 6   price                  10659 non-null  int64  \n 7   list_price             10659 non-null  int64  \n 8   price_usd              10659 non-null  float64\n 9   discount               10659 non-null  int64  \n 10  discount_rate          10659 non-null  int64  \n 11  rating_average         10659 non-null  float64\n 12  review_count           10659 non-null  int64  \n 13  order_count            10659 non-null  int64  \n 14  favourite_count        10659 non-null  int64  \n 15  thumbnail_url          10659 non-null  object \n 16  productset_group_name  10617 non-null  object \n 17  description            10659 non-null  object \n 18  publisher              10652 non-null  object \n 19  authors                10652 non-null  object \n 20  stock_item             9290 non-null   float64\ndtypes: float64(3), int64(9), object(9)\nmemory usage: 1.7+ MB\n"
     ]
    }
   ],
   "source": [
    "data.info()"
   ]
  },
  {
   "cell_type": "code",
   "execution_count": 53,
   "metadata": {},
   "outputs": [],
   "source": [
    "# gui = show(data)"
   ]
  },
  {
   "cell_type": "code",
   "execution_count": 54,
   "metadata": {},
   "outputs": [
    {
     "output_type": "execute_result",
     "data": {
      "text/plain": [
       "0                Sách Công Nghệ Thông Tin, Lập Trình\n",
       "1                Sách Công Nghệ Thông Tin, Lập Trình\n",
       "2        Sách Công Nghệ Thông Tin, Thiết Kế - Đồ Họa\n",
       "3                Sách Công Nghệ Thông Tin, Lập Trình\n",
       "4                Sách Công Nghệ Thông Tin, Lập Trình\n",
       "                            ...                     \n",
       "10654          Sách Tham Khảo, Sách tham khảo cấp II\n",
       "10655           Sách Tham Khảo, Sách tham khảo cấp I\n",
       "10656         Sách Tham Khảo, Sách tham khảo cấp III\n",
       "10657           Sách Tham Khảo, Sách tham khảo cấp I\n",
       "10658         Sách Tham Khảo, Sách tham khảo cấp III\n",
       "Name: productset_group_name, Length: 10659, dtype: object"
      ]
     },
     "metadata": {},
     "execution_count": 54
    }
   ],
   "source": [
    "data['productset_group_name']"
   ]
  },
  {
   "cell_type": "code",
   "execution_count": 55,
   "metadata": {},
   "outputs": [],
   "source": [
    "def transform(origin):\n",
    "    if origin=='Truyện Tranh, Manga, Comic':\n",
    "        return 'Sách thiếu nhi , Truyện Tranh, Manga, Comic'\n",
    "    return origin"
   ]
  },
  {
   "cell_type": "code",
   "execution_count": 56,
   "metadata": {},
   "outputs": [],
   "source": [
    "data['productset_group_name'] = data['productset_group_name'].apply(lambda x: transform(str(x)))"
   ]
  },
  {
   "cell_type": "code",
   "execution_count": 438,
   "metadata": {},
   "outputs": [
    {
     "output_type": "execute_result",
     "data": {
      "text/plain": [
       "Int64Index([2133, 2475, 2468, 2214, 2714, 2353, 2581, 2380, 2401, 2481, 2836,\n",
       "            2309, 2812, 2349, 2408, 2440, 2776, 2254, 2618, 2471, 2406, 2338,\n",
       "            2323, 2771, 2472, 2523, 2414, 2605, 2610, 2799, 2927, 2837, 2932,\n",
       "            2884, 2781, 3065, 2358, 2445, 2706, 2725, 2671, 2992, 2650, 2786,\n",
       "            2525, 2597, 2881, 2704, 3026, 2877, 2594, 2657, 2667, 2820, 2922,\n",
       "            2814, 2940, 2967, 2670, 3063, 2661, 2894, 3051],\n",
       "           dtype='int64')"
      ]
     },
     "metadata": {},
     "execution_count": 438
    }
   ],
   "source": [
    "idx = data[data['productset_group_name']=='Sách Tôn Giáo - Tâm Linh'][['id', 'name', 'review_count']].sort_values('review_count', ascending=False).index\n",
    "idx"
   ]
  },
  {
   "cell_type": "code",
   "execution_count": 439,
   "metadata": {},
   "outputs": [],
   "source": [
    "for i in idx:\n",
    "    data.at[i, 'productset_group_name'] = 'Sách Kiến Thức Tổng Hợp, Tôn Giáo - Tâm Linh'\n"
   ]
  },
  {
   "cell_type": "code",
   "execution_count": 426,
   "metadata": {},
   "outputs": [
    {
     "output_type": "execute_result",
     "data": {
      "text/plain": [
       "2486    Sách Kiến Thức Tổng Hợp, Lĩnh vực khác\n",
       "Name: productset_group_name, dtype: object"
      ]
     },
     "metadata": {},
     "execution_count": 426
    }
   ],
   "source": [
    "data.at[2486, 'productset_group_name'] = 'Sách Kiến Thức Tổng Hợp, Lĩnh vực khác'\n",
    "data[data['id']==585282\t]['productset_group_name']"
   ]
  },
  {
   "cell_type": "code",
   "execution_count": 427,
   "metadata": {},
   "outputs": [
    {
     "output_type": "execute_result",
     "data": {
      "text/plain": [
       "4835    Sách văn học, Truyện ngắn - Tản văn - Tạp Văn\n",
       "Name: productset_group_name, dtype: object"
      ]
     },
     "metadata": {},
     "execution_count": 427
    }
   ],
   "source": [
    "data.at[4835, 'productset_group_name'] = 'Sách văn học, Truyện ngắn - Tản văn - Tạp Văn'\n",
    "data[data['id']==644080\t]['productset_group_name']"
   ]
  },
  {
   "cell_type": "code",
   "execution_count": 434,
   "metadata": {},
   "outputs": [],
   "source": [
    "data.drop(idx, axis=0, inplace=True)"
   ]
  },
  {
   "cell_type": "code",
   "execution_count": 263,
   "metadata": {},
   "outputs": [],
   "source": [
    "drop_idx = data[data['productset_group_name']=='nan'][['id', 'name', 'review_count']].index"
   ]
  },
  {
   "cell_type": "code",
   "execution_count": 440,
   "metadata": {},
   "outputs": [
    {
     "output_type": "execute_result",
     "data": {
      "text/plain": [
       "Sách thiếu nhi , Truyện Tranh, Manga, Comic              932\n",
       "Sách kỹ năng sống, Sách tư duy - Kỹ năng sống            831\n",
       "Sách Lịch sử, Lịch Sử Việt Nam                           635\n",
       "Sách Chính Trị - Pháp Lý, Luật - Văn Bản Luật            626\n",
       "Sách Bà mẹ - Em bé, Sách Làm Cha Mẹ                      579\n",
       "Sách Học Ngoại Ngữ, Sách Học Tiếng Anh                   545\n",
       "Sách thiếu nhi , Kiến thức - Bách khoa                   458\n",
       "Sách Tham Khảo, Sách tham khảo cấp II                    348\n",
       "Sách kinh tế, Sách kỹ năng làm việc                      315\n",
       "Sách Tham Khảo, Sách tham khảo cấp III                   312\n",
       "Sách Lịch sử, Lịch Sử Thế Giới                           292\n",
       "Sách Kiến Thức Tổng Hợp, Kiến Thức Bách Khoa             270\n",
       "Sách kinh tế, Bài học kinh doanh                         218\n",
       "Sách Chính Trị - Pháp Lý, Lý Luận Chính Trị              217\n",
       "Sách Học Ngoại Ngữ, Sách Học Tiếng Hoa                   215\n",
       "Sách Bà mẹ - Em bé, Sách Kiến Thức - Kỹ Năng Cho Trẻ     207\n",
       "Sách Tham Khảo, Sách tham khảo cấp I                     195\n",
       "Sách văn học, Tiểu Thuyết                                176\n",
       "Sách Kiến Thức Tổng Hợp, Lĩnh vực khác                   165\n",
       "Sách văn học, Truyện ngắn - Tản văn - Tạp Văn            162\n",
       "Sách thiếu nhi , Truyện kể cho bé                        151\n",
       "Sách kinh tế, Sách Marketing - Bán hàng                  138\n",
       "Sách văn học, Tác phẩm kinh điển                         126\n",
       "Sách kỹ năng sống, Sách nghệ thuật sống đẹp              125\n",
       "Sách Kiến Thức Tổng Hợp, Sách Phong Thủy - Kinh Dịch     114\n",
       "Sách Học Ngoại Ngữ, Sách Học Tiếng Nhật                  104\n",
       "Sách Tham Khảo, Sách Luyện Thi Đại Học - Cao Đẳng         91\n",
       "Sách thiếu nhi , Truyện tranh thiếu nhi                   90\n",
       "Sách thiếu nhi , Văn học thiếu nhi                        86\n",
       "Sách kinh tế, Sách quản trị, lãnh đạo                     76\n",
       "Sách văn học, Truyện trinh thám                           76\n",
       "Sách Học Ngoại Ngữ, Sách Học Tiếng Hàn                    75\n",
       "Sách thiếu nhi , Truyện tranh Ehon                        71\n",
       "Sách Bà mẹ - Em bé, Sách Dinh Dưỡng - Sức Khỏe Cho Bé     65\n",
       "Sách văn học, Truyện ngôn tình                            64\n",
       "Sách Kiến Thức Tổng Hợp, Tôn Giáo - Tâm Linh              63\n",
       "Sách kinh tế, Sách tài chính, tiền tệ                     63\n",
       "Sách thiếu nhi , Tô màu - Luyện chữ                       61\n",
       "Sách Kiến Thức Tổng Hợp, Triết Học                        60\n",
       "Sách kinh tế, Sách kinh tế học                            56\n",
       "Sách văn học, Truyện Giả tưởng - Huyền Bí - Phiêu Lưu     52\n",
       "Sách Công Nghệ Thông Tin, Lập Trình                       51\n",
       "Sách Kiến Thức Tổng Hợp, Khoa Học - Kỹ Thuật              51\n",
       "Sách văn học, Tiểu sử - Hồi ký                            48\n",
       "Sách văn học, Truyện dài                                  47\n",
       "Sách Kiến Thức Tổng Hợp, Thể Dục - Thể Thao               45\n",
       "Sách thiếu nhi , Đạo đức - Kỹ năng sống                   44\n",
       "Sách văn học, Light novel                                 41\n",
       "Sách Bà mẹ - Em bé, Sách Thai Giáo                        38\n",
       "Sách kinh tế, Sách khởi nghiệp                            38\n",
       "Sách kinh tế, Sách doanh nhân                             36\n",
       "Sách Kiến Thức Tổng Hợp, Sách giáo dục                    34\n",
       "Sách Kiến Thức Tổng Hợp, Y Học                            32\n",
       "Sách Kiến Thức Tổng Hợp, Sách Chiêm Tinh - Horoscope      30\n",
       "Sách Công Nghệ Thông Tin, Tin Học Văn Phòng               23\n",
       "Sách Tham Khảo, Thẻ luyện thi                             22\n",
       "Sách kỹ năng sống, Sách hướng nghiệp - Kỹ năng mềm        22\n",
       "Sách Học Ngoại Ngữ, Ngoại Ngữ Khác                        22\n",
       "Sách Công Nghệ Thông Tin, Thiết Kế - Đồ Họa               21\n",
       "Sách Kiến Thức Tổng Hợp, Địa Danh - Du Lịch               20\n",
       "Name: productset_group_name, dtype: int64"
      ]
     },
     "metadata": {},
     "execution_count": 440
    }
   ],
   "source": [
    "data.productset_group_name.value_counts()[:60]"
   ]
  },
  {
   "cell_type": "code",
   "execution_count": 441,
   "metadata": {},
   "outputs": [
    {
     "output_type": "execute_result",
     "data": {
      "text/plain": [
       "Sách văn học, Thơ                                             18\n",
       "Sách Kiến Thức Tổng Hợp, Nấu ăn                               17\n",
       "Sách văn học, Tranh Truyện                                    16\n",
       "Sách thiếu nhi , Truyện cổ tích                               16\n",
       "Sách văn học, Phóng sự - Ký sự - Bút ký                       15\n",
       "Sách văn học, Truyện đam mỹ                                   14\n",
       "Sách văn học, Truyện kinh dị                                  13\n",
       "Sách kinh tế, Sách quản trị nhân lực                          13\n",
       "Sách kinh tế, Sách tài chính, kế toán                         13\n",
       "Sách Giáo Khoa - Giáo Trình, Giáo Trình Đại Học - Cao Đẳng    11\n",
       "Sách văn học, Phê Bình - Lý Luận Văn Học                       8\n",
       "Sách văn học, Du ký                                            8\n",
       "Sách Tham Khảo, Sách chuyên đề                                 5\n",
       "Sách văn học, Truyện kiếm hiệp                                 2\n",
       "Sách văn học, Sách ảnh                                         1\n",
       "Sách văn học, Ca dao - Tục ngữ                                 1\n",
       "Name: productset_group_name, dtype: int64"
      ]
     },
     "metadata": {},
     "execution_count": 441
    }
   ],
   "source": [
    "data.productset_group_name.value_counts()[60:]"
   ]
  },
  {
   "cell_type": "code",
   "execution_count": 442,
   "metadata": {},
   "outputs": [
    {
     "output_type": "stream",
     "name": "stdout",
     "text": [
      "<class 'pandas.core.frame.DataFrame'>\nInt64Index: 10341 entries, 0 to 10658\nData columns (total 21 columns):\n #   Column                 Non-Null Count  Dtype  \n---  ------                 --------------  -----  \n 0   id                     10341 non-null  int64  \n 1   sku                    10341 non-null  int64  \n 2   name                   10341 non-null  object \n 3   url_path               10341 non-null  object \n 4   book_cover             9428 non-null   object \n 5   short_description      10338 non-null  object \n 6   price                  10341 non-null  int64  \n 7   list_price             10341 non-null  int64  \n 8   price_usd              10341 non-null  float64\n 9   discount               10341 non-null  int64  \n 10  discount_rate          10341 non-null  int64  \n 11  rating_average         10341 non-null  float64\n 12  review_count           10341 non-null  int64  \n 13  order_count            10341 non-null  int64  \n 14  favourite_count        10341 non-null  int64  \n 15  thumbnail_url          10341 non-null  object \n 16  productset_group_name  10341 non-null  object \n 17  description            10341 non-null  object \n 18  publisher              10334 non-null  object \n 19  authors                10334 non-null  object \n 20  stock_item             8991 non-null   float64\ndtypes: float64(3), int64(9), object(9)\nmemory usage: 2.0+ MB\n"
     ]
    }
   ],
   "source": [
    "data.info()"
   ]
  },
  {
   "cell_type": "code",
   "execution_count": 460,
   "metadata": {},
   "outputs": [],
   "source": [
    "# data.to_csv('../Data/new_data_split_cate.csv', index=False)"
   ]
  },
  {
   "cell_type": "code",
   "execution_count": 445,
   "metadata": {},
   "outputs": [],
   "source": [
    "def get_big_category(big_cate):\n",
    "    return big_cate.split(',')[0].rstrip()\n",
    "def get_sub_category(big_cate):\n",
    "    return big_cate.split(',')[1].rstrip()"
   ]
  },
  {
   "cell_type": "code",
   "execution_count": null,
   "metadata": {},
   "outputs": [],
   "source": []
  },
  {
   "cell_type": "code",
   "execution_count": 446,
   "metadata": {},
   "outputs": [],
   "source": [
    "data['big_category'] = data['productset_group_name'].apply(lambda x: get_big_category(str(x)))"
   ]
  },
  {
   "cell_type": "code",
   "execution_count": 447,
   "metadata": {},
   "outputs": [],
   "source": [
    "data['sub_category'] = data['productset_group_name'].apply(lambda x: get_sub_category(str(x)))"
   ]
  },
  {
   "cell_type": "code",
   "execution_count": 448,
   "metadata": {},
   "outputs": [
    {
     "output_type": "execute_result",
     "data": {
      "text/plain": [
       "Sách thiếu nhi                 1909\n",
       "Sách kỹ năng sống               978\n",
       "Sách Tham Khảo                  973\n",
       "Sách kinh tế                    966\n",
       "Sách Học Ngoại Ngữ              961\n",
       "Sách Lịch sử                    927\n",
       "Sách Kiến Thức Tổng Hợp         901\n",
       "Sách Bà mẹ - Em bé              889\n",
       "Sách văn học                    888\n",
       "Sách Chính Trị - Pháp Lý        843\n",
       "Sách Công Nghệ Thông Tin         95\n",
       "Sách Giáo Khoa - Giáo Trình      11\n",
       "Name: big_category, dtype: int64"
      ]
     },
     "metadata": {},
     "execution_count": 448
    }
   ],
   "source": [
    "data.big_category.value_counts()"
   ]
  },
  {
   "cell_type": "code",
   "execution_count": 449,
   "metadata": {},
   "outputs": [
    {
     "output_type": "execute_result",
     "data": {
      "text/plain": [
       " Truyện Tranh                  932\n",
       " Sách tư duy - Kỹ năng sống    831\n",
       " Lịch Sử Việt Nam              635\n",
       " Luật - Văn Bản Luật           626\n",
       " Sách Làm Cha Mẹ               579\n",
       "                              ... \n",
       " Du ký                           8\n",
       " Sách chuyên đề                  5\n",
       " Truyện kiếm hiệp                2\n",
       " Ca dao - Tục ngữ                1\n",
       " Sách ảnh                        1\n",
       "Name: sub_category, Length: 75, dtype: int64"
      ]
     },
     "metadata": {},
     "execution_count": 449
    }
   ],
   "source": [
    "data.sub_category.value_counts()"
   ]
  },
  {
   "cell_type": "code",
   "execution_count": 453,
   "metadata": {},
   "outputs": [],
   "source": [
    "index = data[data['big_category']=='Sách Giáo Khoa - Giáo Trình'].index"
   ]
  },
  {
   "cell_type": "code",
   "execution_count": 455,
   "metadata": {},
   "outputs": [],
   "source": [
    "data.drop(index, inplace=True)"
   ]
  },
  {
   "cell_type": "code",
   "execution_count": 456,
   "metadata": {},
   "outputs": [
    {
     "output_type": "execute_result",
     "data": {
      "text/plain": [
       "Sách thiếu nhi              1909\n",
       "Sách kỹ năng sống            978\n",
       "Sách Tham Khảo               973\n",
       "Sách kinh tế                 966\n",
       "Sách Học Ngoại Ngữ           961\n",
       "Sách Lịch sử                 927\n",
       "Sách Kiến Thức Tổng Hợp      901\n",
       "Sách Bà mẹ - Em bé           889\n",
       "Sách văn học                 888\n",
       "Sách Chính Trị - Pháp Lý     843\n",
       "Sách Công Nghệ Thông Tin      95\n",
       "Name: big_category, dtype: int64"
      ]
     },
     "metadata": {},
     "execution_count": 456
    }
   ],
   "source": [
    "data.big_category.value_counts()"
   ]
  },
  {
   "cell_type": "code",
   "execution_count": 457,
   "metadata": {},
   "outputs": [],
   "source": [
    "data.to_csv('../Data/new_data_split_cate.csv', index=False)"
   ]
  },
  {
   "cell_type": "code",
   "execution_count": 1,
   "metadata": {},
   "outputs": [],
   "source": [
    "import pandas as pd"
   ]
  },
  {
   "cell_type": "code",
   "execution_count": 2,
   "metadata": {},
   "outputs": [
    {
     "output_type": "execute_result",
     "data": {
      "text/plain": [
       "         id            sku                                               name  \\\n",
       "0  58390336  3380735508079                                      Python cơ bản   \n",
       "1   1664525  2147399986992  Giáo Trình Kỹ Thuật Lập Trình C Căn Bản Và Nân...   \n",
       "2  55573620  6752050391860  Giáo Trình Tự Học AutoCAD 2019 Thực Hành Bằng ...   \n",
       "3  24889348  3747885152000  Lập trình hướng đối tượng JAVA core dành cho n...   \n",
       "4  37667006  5950833882104  Combo Giáo Trình Kỹ Thuật Lập Trình C Căn Bản ...   \n",
       "\n",
       "                                            url_path book_cover  \\\n",
       "0         python-co-ban-p58390336.html?spid=58390337    Bìa mềm   \n",
       "1  giao-trinh-ky-thuat-lap-trinh-c-can-ban-va-nan...    Bìa mềm   \n",
       "2  giao-trinh-tu-hoc-autocad-2019-thuc-hanh-bang-...    Bìa mềm   \n",
       "3  lap-trinh-huong-doi-tuong-java-core-danh-cho-n...        NaN   \n",
       "4  combo-giao-trinh-ky-thuat-lap-trinh-c-can-ban-...    Bìa mềm   \n",
       "\n",
       "                                   short_description   price  list_price  \\\n",
       "0  SÁCH PYTHON CƠ BẢN\\r\\nHiện nay ngôn ngữ lập tr...  125000      125000   \n",
       "1  Giáo trình kỹ thuật lập trình C căn bản và nân...   67500      135000   \n",
       "2  Mục lục:\\r\\nCHƯƠNG 1: BẮT ĐẦU AUTOCAD 2019 \\r\\...  110000      110000   \n",
       "3  I. Đôi điều về tác giả\\r\\nTôi là NEOS.THÀNH (N...  189000      299000   \n",
       "4  Giáo trình kỹ thuật lập trình C căn bản và nân...  223400      280000   \n",
       "\n",
       "   price_usd  discount  ...  order_count  favourite_count  \\\n",
       "0      5.343         0  ...            0                0   \n",
       "1      2.885     67500  ...            0                0   \n",
       "2      4.702         0  ...            0                0   \n",
       "3      8.079    110000  ...            0                0   \n",
       "4      9.550     56600  ...            0                0   \n",
       "\n",
       "                                       thumbnail_url  \\\n",
       "0  https://salt.tikicdn.com/cache/280x280/ts/prod...   \n",
       "1  https://salt.tikicdn.com/cache/280x280/ts/prod...   \n",
       "2  https://salt.tikicdn.com/cache/280x280/ts/prod...   \n",
       "3  https://salt.tikicdn.com/cache/280x280/ts/prod...   \n",
       "4  https://salt.tikicdn.com/cache/280x280/ts/prod...   \n",
       "\n",
       "                         productset_group_name  \\\n",
       "0          Sách Công Nghệ Thông Tin, Lập Trình   \n",
       "1          Sách Công Nghệ Thông Tin, Lập Trình   \n",
       "2  Sách Công Nghệ Thông Tin, Thiết Kế - Đồ Họa   \n",
       "3          Sách Công Nghệ Thông Tin, Lập Trình   \n",
       "4          Sách Công Nghệ Thông Tin, Lập Trình   \n",
       "\n",
       "                                         description  \\\n",
       "0  <p><strong>SÁCH PYTHON CƠ BẢN</strong></p>\\r\\n...   \n",
       "1  <p><strong>Giáo trình kỹ thuật lập trình C căn...   \n",
       "2  <p><span style=\"text-decoration: underline;\"><...   \n",
       "3  <p><strong>I. Đôi điều về tác giả</strong></p>...   \n",
       "4  Giáo trình kỹ thuật lập trình C căn bản và nân...   \n",
       "\n",
       "                                   publisher  \\\n",
       "0                NXB Đại Học Quốc Gia Hà Nội   \n",
       "1                        Huy Hoàng Bookstore   \n",
       "2  Công Ty TNHH Văn Hóa - Thế Giới Sách Việt   \n",
       "3                                          -   \n",
       "4                        Huy Hoàng Bookstore   \n",
       "\n",
       "                                             authors stock_item  \\\n",
       "0                                        Bùi Việt Hà        5.0   \n",
       "1                                      Nhiều Tác Giả      801.0   \n",
       "2                                      Nhiều Tác Giả       12.0   \n",
       "3  Tiki hoàn tiền 111% nếu phát hiện hàng giả, Ca...        NaN   \n",
       "4                                      Nhiều Tác Giả       97.0   \n",
       "\n",
       "               big_category        sub_category  \n",
       "0  Sách Công Nghệ Thông Tin           Lập Trình  \n",
       "1  Sách Công Nghệ Thông Tin           Lập Trình  \n",
       "2  Sách Công Nghệ Thông Tin   Thiết Kế - Đồ Họa  \n",
       "3  Sách Công Nghệ Thông Tin           Lập Trình  \n",
       "4  Sách Công Nghệ Thông Tin           Lập Trình  \n",
       "\n",
       "[5 rows x 23 columns]"
      ],
      "text/html": "<div>\n<style scoped>\n    .dataframe tbody tr th:only-of-type {\n        vertical-align: middle;\n    }\n\n    .dataframe tbody tr th {\n        vertical-align: top;\n    }\n\n    .dataframe thead th {\n        text-align: right;\n    }\n</style>\n<table border=\"1\" class=\"dataframe\">\n  <thead>\n    <tr style=\"text-align: right;\">\n      <th></th>\n      <th>id</th>\n      <th>sku</th>\n      <th>name</th>\n      <th>url_path</th>\n      <th>book_cover</th>\n      <th>short_description</th>\n      <th>price</th>\n      <th>list_price</th>\n      <th>price_usd</th>\n      <th>discount</th>\n      <th>...</th>\n      <th>order_count</th>\n      <th>favourite_count</th>\n      <th>thumbnail_url</th>\n      <th>productset_group_name</th>\n      <th>description</th>\n      <th>publisher</th>\n      <th>authors</th>\n      <th>stock_item</th>\n      <th>big_category</th>\n      <th>sub_category</th>\n    </tr>\n  </thead>\n  <tbody>\n    <tr>\n      <th>0</th>\n      <td>58390336</td>\n      <td>3380735508079</td>\n      <td>Python cơ bản</td>\n      <td>python-co-ban-p58390336.html?spid=58390337</td>\n      <td>Bìa mềm</td>\n      <td>SÁCH PYTHON CƠ BẢN\\r\\nHiện nay ngôn ngữ lập tr...</td>\n      <td>125000</td>\n      <td>125000</td>\n      <td>5.343</td>\n      <td>0</td>\n      <td>...</td>\n      <td>0</td>\n      <td>0</td>\n      <td>https://salt.tikicdn.com/cache/280x280/ts/prod...</td>\n      <td>Sách Công Nghệ Thông Tin, Lập Trình</td>\n      <td>&lt;p&gt;&lt;strong&gt;SÁCH PYTHON CƠ BẢN&lt;/strong&gt;&lt;/p&gt;\\r\\n...</td>\n      <td>NXB Đại Học Quốc Gia Hà Nội</td>\n      <td>Bùi Việt Hà</td>\n      <td>5.0</td>\n      <td>Sách Công Nghệ Thông Tin</td>\n      <td>Lập Trình</td>\n    </tr>\n    <tr>\n      <th>1</th>\n      <td>1664525</td>\n      <td>2147399986992</td>\n      <td>Giáo Trình Kỹ Thuật Lập Trình C Căn Bản Và Nân...</td>\n      <td>giao-trinh-ky-thuat-lap-trinh-c-can-ban-va-nan...</td>\n      <td>Bìa mềm</td>\n      <td>Giáo trình kỹ thuật lập trình C căn bản và nân...</td>\n      <td>67500</td>\n      <td>135000</td>\n      <td>2.885</td>\n      <td>67500</td>\n      <td>...</td>\n      <td>0</td>\n      <td>0</td>\n      <td>https://salt.tikicdn.com/cache/280x280/ts/prod...</td>\n      <td>Sách Công Nghệ Thông Tin, Lập Trình</td>\n      <td>&lt;p&gt;&lt;strong&gt;Giáo trình kỹ thuật lập trình C căn...</td>\n      <td>Huy Hoàng Bookstore</td>\n      <td>Nhiều Tác Giả</td>\n      <td>801.0</td>\n      <td>Sách Công Nghệ Thông Tin</td>\n      <td>Lập Trình</td>\n    </tr>\n    <tr>\n      <th>2</th>\n      <td>55573620</td>\n      <td>6752050391860</td>\n      <td>Giáo Trình Tự Học AutoCAD 2019 Thực Hành Bằng ...</td>\n      <td>giao-trinh-tu-hoc-autocad-2019-thuc-hanh-bang-...</td>\n      <td>Bìa mềm</td>\n      <td>Mục lục:\\r\\nCHƯƠNG 1: BẮT ĐẦU AUTOCAD 2019 \\r\\...</td>\n      <td>110000</td>\n      <td>110000</td>\n      <td>4.702</td>\n      <td>0</td>\n      <td>...</td>\n      <td>0</td>\n      <td>0</td>\n      <td>https://salt.tikicdn.com/cache/280x280/ts/prod...</td>\n      <td>Sách Công Nghệ Thông Tin, Thiết Kế - Đồ Họa</td>\n      <td>&lt;p&gt;&lt;span style=\"text-decoration: underline;\"&gt;&lt;...</td>\n      <td>Công Ty TNHH Văn Hóa - Thế Giới Sách Việt</td>\n      <td>Nhiều Tác Giả</td>\n      <td>12.0</td>\n      <td>Sách Công Nghệ Thông Tin</td>\n      <td>Thiết Kế - Đồ Họa</td>\n    </tr>\n    <tr>\n      <th>3</th>\n      <td>24889348</td>\n      <td>3747885152000</td>\n      <td>Lập trình hướng đối tượng JAVA core dành cho n...</td>\n      <td>lap-trinh-huong-doi-tuong-java-core-danh-cho-n...</td>\n      <td>NaN</td>\n      <td>I. Đôi điều về tác giả\\r\\nTôi là NEOS.THÀNH (N...</td>\n      <td>189000</td>\n      <td>299000</td>\n      <td>8.079</td>\n      <td>110000</td>\n      <td>...</td>\n      <td>0</td>\n      <td>0</td>\n      <td>https://salt.tikicdn.com/cache/280x280/ts/prod...</td>\n      <td>Sách Công Nghệ Thông Tin, Lập Trình</td>\n      <td>&lt;p&gt;&lt;strong&gt;I. Đôi điều về tác giả&lt;/strong&gt;&lt;/p&gt;...</td>\n      <td>-</td>\n      <td>Tiki hoàn tiền 111% nếu phát hiện hàng giả, Ca...</td>\n      <td>NaN</td>\n      <td>Sách Công Nghệ Thông Tin</td>\n      <td>Lập Trình</td>\n    </tr>\n    <tr>\n      <th>4</th>\n      <td>37667006</td>\n      <td>5950833882104</td>\n      <td>Combo Giáo Trình Kỹ Thuật Lập Trình C Căn Bản ...</td>\n      <td>combo-giao-trinh-ky-thuat-lap-trinh-c-can-ban-...</td>\n      <td>Bìa mềm</td>\n      <td>Giáo trình kỹ thuật lập trình C căn bản và nân...</td>\n      <td>223400</td>\n      <td>280000</td>\n      <td>9.550</td>\n      <td>56600</td>\n      <td>...</td>\n      <td>0</td>\n      <td>0</td>\n      <td>https://salt.tikicdn.com/cache/280x280/ts/prod...</td>\n      <td>Sách Công Nghệ Thông Tin, Lập Trình</td>\n      <td>Giáo trình kỹ thuật lập trình C căn bản và nân...</td>\n      <td>Huy Hoàng Bookstore</td>\n      <td>Nhiều Tác Giả</td>\n      <td>97.0</td>\n      <td>Sách Công Nghệ Thông Tin</td>\n      <td>Lập Trình</td>\n    </tr>\n  </tbody>\n</table>\n<p>5 rows × 23 columns</p>\n</div>"
     },
     "metadata": {},
     "execution_count": 2
    }
   ],
   "source": [
    "data = pd.read_csv('../Data/new_data_split_cate.csv')\n",
    "data.head()"
   ]
  },
  {
   "cell_type": "code",
   "execution_count": 3,
   "metadata": {},
   "outputs": [
    {
     "output_type": "stream",
     "name": "stdout",
     "text": [
      "<class 'pandas.core.frame.DataFrame'>\nRangeIndex: 10330 entries, 0 to 10329\nData columns (total 23 columns):\n #   Column                 Non-Null Count  Dtype  \n---  ------                 --------------  -----  \n 0   id                     10330 non-null  int64  \n 1   sku                    10330 non-null  int64  \n 2   name                   10330 non-null  object \n 3   url_path               10330 non-null  object \n 4   book_cover             9417 non-null   object \n 5   short_description      10327 non-null  object \n 6   price                  10330 non-null  int64  \n 7   list_price             10330 non-null  int64  \n 8   price_usd              10330 non-null  float64\n 9   discount               10330 non-null  int64  \n 10  discount_rate          10330 non-null  int64  \n 11  rating_average         10330 non-null  float64\n 12  review_count           10330 non-null  int64  \n 13  order_count            10330 non-null  int64  \n 14  favourite_count        10330 non-null  int64  \n 15  thumbnail_url          10330 non-null  object \n 16  productset_group_name  10330 non-null  object \n 17  description            10330 non-null  object \n 18  publisher              10323 non-null  object \n 19  authors                10323 non-null  object \n 20  stock_item             8981 non-null   float64\n 21  big_category           10330 non-null  object \n 22  sub_category           10330 non-null  object \ndtypes: float64(3), int64(9), object(11)\nmemory usage: 1.8+ MB\n"
     ]
    }
   ],
   "source": [
    "data.info()"
   ]
  },
  {
   "cell_type": "code",
   "execution_count": 5,
   "metadata": {},
   "outputs": [
    {
     "output_type": "execute_result",
     "data": {
      "text/plain": [
       "Sách thiếu nhi              1909\n",
       "Sách kỹ năng sống            978\n",
       "Sách Tham Khảo               973\n",
       "Sách kinh tế                 966\n",
       "Sách Học Ngoại Ngữ           961\n",
       "Sách Lịch sử                 927\n",
       "Sách Kiến Thức Tổng Hợp      901\n",
       "Sách Bà mẹ - Em bé           889\n",
       "Sách văn học                 888\n",
       "Sách Chính Trị - Pháp Lý     843\n",
       "Sách Công Nghệ Thông Tin      95\n",
       "Name: big_category, dtype: int64"
      ]
     },
     "metadata": {},
     "execution_count": 5
    }
   ],
   "source": [
    "data.big_category.value_counts()"
   ]
  },
  {
   "cell_type": "code",
   "execution_count": 6,
   "metadata": {},
   "outputs": [
    {
     "output_type": "execute_result",
     "data": {
      "text/plain": [
       " Truyện Tranh                  932\n",
       " Sách tư duy - Kỹ năng sống    831\n",
       " Lịch Sử Việt Nam              635\n",
       " Luật - Văn Bản Luật           626\n",
       " Sách Làm Cha Mẹ               579\n",
       "                              ... \n",
       " Phê Bình - Lý Luận Văn Học      8\n",
       " Sách chuyên đề                  5\n",
       " Truyện kiếm hiệp                2\n",
       " Sách ảnh                        1\n",
       " Ca dao - Tục ngữ                1\n",
       "Name: sub_category, Length: 74, dtype: int64"
      ]
     },
     "metadata": {},
     "execution_count": 6
    }
   ],
   "source": [
    "data.sub_category.value_counts()"
   ]
  },
  {
   "cell_type": "code",
   "execution_count": 25,
   "metadata": {},
   "outputs": [],
   "source": [
    "import re\n",
    "def transform_category(cate):\n",
    "    cate = cate.replace('-', '')\n",
    "    cate = cate.lower()\n",
    "    cate = re.sub(\"à|á|ạ|ả|ã|â|ầ|ấ|ậ|ẩ|ẫ|ă|ằ|ắ|ặ|ẳ|ẵ\", \"a\", cate)\n",
    "    cate = re.sub(\"è|é|ẹ|ẻ|ẽ|ê|ề|ế|ệ|ể|ễ\", \"e\", cate)\n",
    "    cate = re.sub(\"ì|í|ị|ỉ|ĩ\", \"i\", cate)\n",
    "    cate = re.sub(\"ò|ó|ọ|ỏ|õ|ô|ồ|ố|ộ|ổ|ỗ|ơ|ờ|ớ|ợ|ở|ỡ\", \"o\", cate)\n",
    "    cate = re.sub(\"ù|ú|ụ|ủ|ũ|ư|ừ|ứ|ự|ử|ữ\", \"u\", cate)\n",
    "    cate = re.sub(\"ỳ|ý|ỵ|ỷ|ỹ\", \"y\", cate)\n",
    "    cate = re.sub(\"đ\", \"d\", cate)\n",
    "    words = cate.split()\n",
    "    return \"-\".join(i for i in words)"
   ]
  },
  {
   "cell_type": "code",
   "execution_count": 27,
   "metadata": {},
   "outputs": [
    {
     "output_type": "execute_result",
     "data": {
      "text/plain": [
       "'sach-kien-thuc-tong-hop'"
      ]
     },
     "metadata": {},
     "execution_count": 27
    }
   ],
   "source": [
    "transform_category('Sách Kiến Thức Tổng Hợp')"
   ]
  },
  {
   "cell_type": "code",
   "execution_count": 28,
   "metadata": {},
   "outputs": [],
   "source": [
    "data['big_category'] = data['big_category'].apply(lambda x: transform_category(str(x)))\n",
    "data['sub_category'] = data['sub_category'].apply(lambda x: transform_category(str(x)))\n"
   ]
  },
  {
   "cell_type": "code",
   "execution_count": 29,
   "metadata": {},
   "outputs": [
    {
     "output_type": "execute_result",
     "data": {
      "text/plain": [
       "                   big_category            sub_category\n",
       "0      sach-cong-nghe-thong-tin               lap-trinh\n",
       "1      sach-cong-nghe-thong-tin               lap-trinh\n",
       "2      sach-cong-nghe-thong-tin         thiet-ke-do-hoa\n",
       "3      sach-cong-nghe-thong-tin               lap-trinh\n",
       "4      sach-cong-nghe-thong-tin               lap-trinh\n",
       "...                         ...                     ...\n",
       "10325            sach-tham-khao   sach-tham-khao-cap-ii\n",
       "10326            sach-tham-khao    sach-tham-khao-cap-i\n",
       "10327            sach-tham-khao  sach-tham-khao-cap-iii\n",
       "10328            sach-tham-khao    sach-tham-khao-cap-i\n",
       "10329            sach-tham-khao  sach-tham-khao-cap-iii\n",
       "\n",
       "[10330 rows x 2 columns]"
      ],
      "text/html": "<div>\n<style scoped>\n    .dataframe tbody tr th:only-of-type {\n        vertical-align: middle;\n    }\n\n    .dataframe tbody tr th {\n        vertical-align: top;\n    }\n\n    .dataframe thead th {\n        text-align: right;\n    }\n</style>\n<table border=\"1\" class=\"dataframe\">\n  <thead>\n    <tr style=\"text-align: right;\">\n      <th></th>\n      <th>big_category</th>\n      <th>sub_category</th>\n    </tr>\n  </thead>\n  <tbody>\n    <tr>\n      <th>0</th>\n      <td>sach-cong-nghe-thong-tin</td>\n      <td>lap-trinh</td>\n    </tr>\n    <tr>\n      <th>1</th>\n      <td>sach-cong-nghe-thong-tin</td>\n      <td>lap-trinh</td>\n    </tr>\n    <tr>\n      <th>2</th>\n      <td>sach-cong-nghe-thong-tin</td>\n      <td>thiet-ke-do-hoa</td>\n    </tr>\n    <tr>\n      <th>3</th>\n      <td>sach-cong-nghe-thong-tin</td>\n      <td>lap-trinh</td>\n    </tr>\n    <tr>\n      <th>4</th>\n      <td>sach-cong-nghe-thong-tin</td>\n      <td>lap-trinh</td>\n    </tr>\n    <tr>\n      <th>...</th>\n      <td>...</td>\n      <td>...</td>\n    </tr>\n    <tr>\n      <th>10325</th>\n      <td>sach-tham-khao</td>\n      <td>sach-tham-khao-cap-ii</td>\n    </tr>\n    <tr>\n      <th>10326</th>\n      <td>sach-tham-khao</td>\n      <td>sach-tham-khao-cap-i</td>\n    </tr>\n    <tr>\n      <th>10327</th>\n      <td>sach-tham-khao</td>\n      <td>sach-tham-khao-cap-iii</td>\n    </tr>\n    <tr>\n      <th>10328</th>\n      <td>sach-tham-khao</td>\n      <td>sach-tham-khao-cap-i</td>\n    </tr>\n    <tr>\n      <th>10329</th>\n      <td>sach-tham-khao</td>\n      <td>sach-tham-khao-cap-iii</td>\n    </tr>\n  </tbody>\n</table>\n<p>10330 rows × 2 columns</p>\n</div>"
     },
     "metadata": {},
     "execution_count": 29
    }
   ],
   "source": [
    "data[['big_category', 'sub_category']]"
   ]
  },
  {
   "cell_type": "code",
   "execution_count": 35,
   "metadata": {},
   "outputs": [
    {
     "output_type": "execute_result",
     "data": {
      "text/plain": [
       "sach-thieu-nhi              1909\n",
       "sach-ky-nang-song            978\n",
       "sach-tham-khao               973\n",
       "sach-kinh-te                 966\n",
       "sach-hoc-ngoai-ngu           961\n",
       "sach-lich-su                 927\n",
       "sach-kien-thuc-tong-hop      901\n",
       "sach-ba-me-em-be             889\n",
       "sach-van-hoc                 888\n",
       "sach-chinh-tri-phap-ly       843\n",
       "sach-cong-nghe-thong-tin      95\n",
       "Name: big_category, dtype: int64"
      ]
     },
     "metadata": {},
     "execution_count": 35
    }
   ],
   "source": [
    "data['big_category'].value_counts()"
   ]
  },
  {
   "cell_type": "code",
   "execution_count": 59,
   "metadata": {},
   "outputs": [
    {
     "output_type": "execute_result",
     "data": {
      "text/plain": [
       "lich-su-viet-nam    635\n",
       "lich-su-the-gioi    292\n",
       "Name: sub_category, dtype: int64"
      ]
     },
     "metadata": {},
     "execution_count": 59
    }
   ],
   "source": [
    "data[data['big_category']=='sach-lich-su']['sub_category'].value_counts()"
   ]
  },
  {
   "cell_type": "code",
   "execution_count": 32,
   "metadata": {},
   "outputs": [],
   "source": [
    "new_database = data[['id', 'name', 'short_description', 'price', 'list_price', 'rating_average', 'thumbnail_url', 'big_category', 'sub_category', 'book_cover', 'order_count', 'publisher', 'authors', 'stock_item', 'description']]"
   ]
  },
  {
   "cell_type": "code",
   "execution_count": 33,
   "metadata": {},
   "outputs": [],
   "source": [
    "new_database.to_csv('../Data/new_database.csv', index=False)"
   ]
  },
  {
   "cell_type": "code",
   "execution_count": null,
   "metadata": {},
   "outputs": [],
   "source": []
  }
 ]
}
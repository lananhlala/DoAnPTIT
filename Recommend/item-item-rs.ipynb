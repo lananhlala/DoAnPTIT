{
 "metadata": {
  "language_info": {
   "codemirror_mode": {
    "name": "ipython",
    "version": 3
   },
   "file_extension": ".py",
   "mimetype": "text/x-python",
   "name": "python",
   "nbconvert_exporter": "python",
   "pygments_lexer": "ipython3",
   "version": "3.7.6-final"
  },
  "orig_nbformat": 2,
  "kernelspec": {
   "name": "python36864bitcc30d91a1dad45e4b3c775dc11df627a",
   "display_name": "Python 3.6.8 64-bit"
  }
 },
 "nbformat": 4,
 "nbformat_minor": 2,
 "cells": [
  {
   "cell_type": "code",
   "execution_count": 163,
   "metadata": {},
   "outputs": [],
   "source": [
    "import numpy as np\n",
    "import pandas as pd\n",
    "import sklearn\n",
    "import matplotlib.pyplot as plt\n",
    "import seaborn as sns\n",
    "\n",
    "import warnings\n",
    "warnings.simplefilter(action='ignore', category=FutureWarning)"
   ]
  },
  {
   "cell_type": "code",
   "execution_count": 164,
   "metadata": {},
   "outputs": [
    {
     "output_type": "execute_result",
     "data": {
      "text/plain": [
       "   product_id                                            content  customer_id  \\\n",
       "0    58441480                                                NaN      6024679   \n",
       "1    58441480                                                NaN     11333255   \n",
       "2     3071851  Sách có hình vẽ và nội dung rất đáng yêu, là m...      6292041   \n",
       "3     3071851           Sách dễ thương. Bé nhà mình rất thích :)     10905691   \n",
       "4     3071851                                     Sách dễ thương      7933673   \n",
       "\n",
       "           user_name  stars  comment_id  \n",
       "0         Nhung Phạm      5     4864338  \n",
       "1  Nguyen Nang Quang      4     4589409  \n",
       "2      Phan Thi Hoan      5     2831147  \n",
       "3            Yến Nhi      5     3477988  \n",
       "4          Ngoc Dung      5     4633043  "
      ],
      "text/html": "<div>\n<style scoped>\n    .dataframe tbody tr th:only-of-type {\n        vertical-align: middle;\n    }\n\n    .dataframe tbody tr th {\n        vertical-align: top;\n    }\n\n    .dataframe thead th {\n        text-align: right;\n    }\n</style>\n<table border=\"1\" class=\"dataframe\">\n  <thead>\n    <tr style=\"text-align: right;\">\n      <th></th>\n      <th>product_id</th>\n      <th>content</th>\n      <th>customer_id</th>\n      <th>user_name</th>\n      <th>stars</th>\n      <th>comment_id</th>\n    </tr>\n  </thead>\n  <tbody>\n    <tr>\n      <th>0</th>\n      <td>58441480</td>\n      <td>NaN</td>\n      <td>6024679</td>\n      <td>Nhung Phạm</td>\n      <td>5</td>\n      <td>4864338</td>\n    </tr>\n    <tr>\n      <th>1</th>\n      <td>58441480</td>\n      <td>NaN</td>\n      <td>11333255</td>\n      <td>Nguyen Nang Quang</td>\n      <td>4</td>\n      <td>4589409</td>\n    </tr>\n    <tr>\n      <th>2</th>\n      <td>3071851</td>\n      <td>Sách có hình vẽ và nội dung rất đáng yêu, là m...</td>\n      <td>6292041</td>\n      <td>Phan Thi Hoan</td>\n      <td>5</td>\n      <td>2831147</td>\n    </tr>\n    <tr>\n      <th>3</th>\n      <td>3071851</td>\n      <td>Sách dễ thương. Bé nhà mình rất thích :)</td>\n      <td>10905691</td>\n      <td>Yến Nhi</td>\n      <td>5</td>\n      <td>3477988</td>\n    </tr>\n    <tr>\n      <th>4</th>\n      <td>3071851</td>\n      <td>Sách dễ thương</td>\n      <td>7933673</td>\n      <td>Ngoc Dung</td>\n      <td>5</td>\n      <td>4633043</td>\n    </tr>\n  </tbody>\n</table>\n</div>"
     },
     "metadata": {},
     "execution_count": 164
    }
   ],
   "source": [
    "ratings = pd.read_csv(r\"E:\\DoAnPTIT\\Data\\not_spare_rating.csv\")\n",
    "ratings.head()"
   ]
  },
  {
   "cell_type": "code",
   "execution_count": 165,
   "metadata": {},
   "outputs": [
    {
     "output_type": "execute_result",
     "data": {
      "text/plain": [
       "         id                                               name  \\\n",
       "0  58390336                                      Python cơ bản   \n",
       "1   1664525  Giáo Trình Kỹ Thuật Lập Trình C Căn Bản Và Nân...   \n",
       "2  55573620  Giáo Trình Tự Học AutoCAD 2019 Thực Hành Bằng ...   \n",
       "3  24889348  Lập trình hướng đối tượng JAVA core dành cho n...   \n",
       "4  37667006  Combo Giáo Trình Kỹ Thuật Lập Trình C Căn Bản ...   \n",
       "\n",
       "               big_category        sub_category  \n",
       "0  Sách Công Nghệ Thông Tin           Lập Trình  \n",
       "1  Sách Công Nghệ Thông Tin           Lập Trình  \n",
       "2  Sách Công Nghệ Thông Tin   Thiết Kế - Đồ Họa  \n",
       "3  Sách Công Nghệ Thông Tin           Lập Trình  \n",
       "4  Sách Công Nghệ Thông Tin           Lập Trình  "
      ],
      "text/html": "<div>\n<style scoped>\n    .dataframe tbody tr th:only-of-type {\n        vertical-align: middle;\n    }\n\n    .dataframe tbody tr th {\n        vertical-align: top;\n    }\n\n    .dataframe thead th {\n        text-align: right;\n    }\n</style>\n<table border=\"1\" class=\"dataframe\">\n  <thead>\n    <tr style=\"text-align: right;\">\n      <th></th>\n      <th>id</th>\n      <th>name</th>\n      <th>big_category</th>\n      <th>sub_category</th>\n    </tr>\n  </thead>\n  <tbody>\n    <tr>\n      <th>0</th>\n      <td>58390336</td>\n      <td>Python cơ bản</td>\n      <td>Sách Công Nghệ Thông Tin</td>\n      <td>Lập Trình</td>\n    </tr>\n    <tr>\n      <th>1</th>\n      <td>1664525</td>\n      <td>Giáo Trình Kỹ Thuật Lập Trình C Căn Bản Và Nân...</td>\n      <td>Sách Công Nghệ Thông Tin</td>\n      <td>Lập Trình</td>\n    </tr>\n    <tr>\n      <th>2</th>\n      <td>55573620</td>\n      <td>Giáo Trình Tự Học AutoCAD 2019 Thực Hành Bằng ...</td>\n      <td>Sách Công Nghệ Thông Tin</td>\n      <td>Thiết Kế - Đồ Họa</td>\n    </tr>\n    <tr>\n      <th>3</th>\n      <td>24889348</td>\n      <td>Lập trình hướng đối tượng JAVA core dành cho n...</td>\n      <td>Sách Công Nghệ Thông Tin</td>\n      <td>Lập Trình</td>\n    </tr>\n    <tr>\n      <th>4</th>\n      <td>37667006</td>\n      <td>Combo Giáo Trình Kỹ Thuật Lập Trình C Căn Bản ...</td>\n      <td>Sách Công Nghệ Thông Tin</td>\n      <td>Lập Trình</td>\n    </tr>\n  </tbody>\n</table>\n</div>"
     },
     "metadata": {},
     "execution_count": 165
    }
   ],
   "source": [
    "books = pd.read_csv(r\"E:\\DoAnPTIT\\Data\\clean_books.csv\", usecols=['id', 'name', 'big_category', 'sub_category'])\n",
    "books.head()"
   ]
  },
  {
   "cell_type": "code",
   "execution_count": 166,
   "metadata": {},
   "outputs": [
    {
     "output_type": "stream",
     "name": "stdout",
     "text": [
      "Number of ratings: 20849\nNumber of unique bookId's: 5289\nNumber of unique users: 1382\nAverage number of ratings per user: 15.09\nAverage number of ratings per book: 3.94\n"
     ]
    }
   ],
   "source": [
    "n_ratings = len(ratings)\n",
    "n_books = ratings['product_id'].nunique()\n",
    "n_users = ratings['customer_id'].nunique()\n",
    "\n",
    "print(f\"Number of ratings: {n_ratings}\")\n",
    "print(f\"Number of unique bookId's: {n_books}\")\n",
    "print(f\"Number of unique users: {n_users}\")\n",
    "print(f\"Average number of ratings per user: {round(n_ratings/n_users, 2)}\")\n",
    "print(f\"Average number of ratings per book: {round(n_ratings/n_books, 2)}\")"
   ]
  },
  {
   "cell_type": "code",
   "execution_count": 167,
   "metadata": {},
   "outputs": [
    {
     "output_type": "execute_result",
     "data": {
      "text/plain": [
       "      customer_id  n_ratings\n",
       "514       5582356        148\n",
       "684       7031251         84\n",
       "416       1895509         68\n",
       "499       5399042         65\n",
       "1335     17612596         62\n",
       "...           ...        ...\n",
       "1111     13958756         10\n",
       "1110     13916045         10\n",
       "1109     13898138         10\n",
       "1107     13841425         10\n",
       "0             745         10\n",
       "\n",
       "[1382 rows x 2 columns]"
      ],
      "text/html": "<div>\n<style scoped>\n    .dataframe tbody tr th:only-of-type {\n        vertical-align: middle;\n    }\n\n    .dataframe tbody tr th {\n        vertical-align: top;\n    }\n\n    .dataframe thead th {\n        text-align: right;\n    }\n</style>\n<table border=\"1\" class=\"dataframe\">\n  <thead>\n    <tr style=\"text-align: right;\">\n      <th></th>\n      <th>customer_id</th>\n      <th>n_ratings</th>\n    </tr>\n  </thead>\n  <tbody>\n    <tr>\n      <th>514</th>\n      <td>5582356</td>\n      <td>148</td>\n    </tr>\n    <tr>\n      <th>684</th>\n      <td>7031251</td>\n      <td>84</td>\n    </tr>\n    <tr>\n      <th>416</th>\n      <td>1895509</td>\n      <td>68</td>\n    </tr>\n    <tr>\n      <th>499</th>\n      <td>5399042</td>\n      <td>65</td>\n    </tr>\n    <tr>\n      <th>1335</th>\n      <td>17612596</td>\n      <td>62</td>\n    </tr>\n    <tr>\n      <th>...</th>\n      <td>...</td>\n      <td>...</td>\n    </tr>\n    <tr>\n      <th>1111</th>\n      <td>13958756</td>\n      <td>10</td>\n    </tr>\n    <tr>\n      <th>1110</th>\n      <td>13916045</td>\n      <td>10</td>\n    </tr>\n    <tr>\n      <th>1109</th>\n      <td>13898138</td>\n      <td>10</td>\n    </tr>\n    <tr>\n      <th>1107</th>\n      <td>13841425</td>\n      <td>10</td>\n    </tr>\n    <tr>\n      <th>0</th>\n      <td>745</td>\n      <td>10</td>\n    </tr>\n  </tbody>\n</table>\n<p>1382 rows × 2 columns</p>\n</div>"
     },
     "metadata": {},
     "execution_count": 167
    }
   ],
   "source": [
    "user_freq = ratings[['customer_id', 'product_id']].groupby('customer_id').count().reset_index()\n",
    "user_freq.columns = ['customer_id', 'n_ratings']\n",
    "user_freq.sort_values('n_ratings', ascending=False)"
   ]
  },
  {
   "cell_type": "code",
   "execution_count": 168,
   "metadata": {},
   "outputs": [],
   "source": [
    "# idx = user_freq[user_freq['n_ratings']<10].customer_id.values"
   ]
  },
  {
   "cell_type": "code",
   "execution_count": 169,
   "metadata": {},
   "outputs": [],
   "source": [
    "# ratings.drop(ratings[ratings['customer_id'].isin(idx)].index, inplace=True)"
   ]
  },
  {
   "cell_type": "code",
   "execution_count": 170,
   "metadata": {},
   "outputs": [],
   "source": [
    "# ratings.info()"
   ]
  },
  {
   "cell_type": "code",
   "execution_count": 171,
   "metadata": {},
   "outputs": [],
   "source": [
    "# ratings.to_csv('../Data/not_spare_rating.csv', index=False)"
   ]
  },
  {
   "cell_type": "code",
   "execution_count": 172,
   "metadata": {},
   "outputs": [
    {
     "output_type": "stream",
     "name": "stdout",
     "text": [
      "Mean number of ratings for a given user: 15.09.\n"
     ]
    }
   ],
   "source": [
    "print(f\"Mean number of ratings for a given user: {user_freq['n_ratings'].mean():.2f}.\")"
   ]
  },
  {
   "cell_type": "code",
   "execution_count": 173,
   "metadata": {},
   "outputs": [
    {
     "output_type": "display_data",
     "data": {
      "text/plain": "<Figure size 1008x360 with 2 Axes>",
      "image/svg+xml": "<?xml version=\"1.0\" encoding=\"utf-8\" standalone=\"no\"?>\r\n<!DOCTYPE svg PUBLIC \"-//W3C//DTD SVG 1.1//EN\"\r\n  \"http://www.w3.org/Graphics/SVG/1.1/DTD/svg11.dtd\">\r\n<!-- Created with matplotlib (https://matplotlib.org/) -->\r\n<svg height=\"330.465312pt\" version=\"1.1\" viewBox=\"0 0 849.211254 330.465312\" width=\"849.211254pt\" xmlns=\"http://www.w3.org/2000/svg\" xmlns:xlink=\"http://www.w3.org/1999/xlink\">\r\n <defs>\r\n  <style type=\"text/css\">\r\n*{stroke-linecap:butt;stroke-linejoin:round;}\r\n  </style>\r\n </defs>\r\n <g id=\"figure_1\">\r\n  <g id=\"patch_1\">\r\n   <path d=\"M 0 330.465312 \r\nL 849.211254 330.465312 \r\nL 849.211254 0 \r\nL 0 0 \r\nz\r\n\" style=\"fill:#ffffff;\"/>\r\n  </g>\r\n  <g id=\"axes_1\">\r\n   <g id=\"patch_2\">\r\n    <path d=\"M 55.15 293.735625 \r\nL 410.240909 293.735625 \r\nL 410.240909 21.935625 \r\nL 55.15 21.935625 \r\nz\r\n\" style=\"fill:#ffffff;\"/>\r\n   </g>\r\n   <g id=\"matplotlib.axis_1\">\r\n    <g id=\"xtick_1\">\r\n     <g id=\"text_1\">\r\n      <!-- 1 -->\r\n      <defs>\r\n       <path d=\"M 37.25 0 \r\nL 28.46875 0 \r\nL 28.46875 56 \r\nQ 25.296875 52.984375 20.140625 49.953125 \r\nQ 14.984375 46.921875 10.890625 45.40625 \r\nL 10.890625 53.90625 \r\nQ 18.265625 57.375 23.78125 62.296875 \r\nQ 29.296875 67.234375 31.59375 71.875 \r\nL 37.25 71.875 \r\nz\r\n\" id=\"ArialMT-49\"/>\r\n      </defs>\r\n      <g style=\"fill:#262626;\" transform=\"translate(87.878622 307.893438)scale(0.1 -0.1)\">\r\n       <use xlink:href=\"#ArialMT-49\"/>\r\n      </g>\r\n     </g>\r\n    </g>\r\n    <g id=\"xtick_2\">\r\n     <g id=\"text_2\">\r\n      <!-- 2 -->\r\n      <defs>\r\n       <path d=\"M 50.34375 8.453125 \r\nL 50.34375 0 \r\nL 3.03125 0 \r\nQ 2.9375 3.171875 4.046875 6.109375 \r\nQ 5.859375 10.9375 9.828125 15.625 \r\nQ 13.8125 20.3125 21.34375 26.46875 \r\nQ 33.015625 36.03125 37.109375 41.625 \r\nQ 41.21875 47.21875 41.21875 52.203125 \r\nQ 41.21875 57.421875 37.46875 61 \r\nQ 33.734375 64.59375 27.734375 64.59375 \r\nQ 21.390625 64.59375 17.578125 60.78125 \r\nQ 13.765625 56.984375 13.71875 50.25 \r\nL 4.6875 51.171875 \r\nQ 5.609375 61.28125 11.65625 66.578125 \r\nQ 17.71875 71.875 27.9375 71.875 \r\nQ 38.234375 71.875 44.234375 66.15625 \r\nQ 50.25 60.453125 50.25 52 \r\nQ 50.25 47.703125 48.484375 43.546875 \r\nQ 46.734375 39.40625 42.65625 34.8125 \r\nQ 38.578125 30.21875 29.109375 22.21875 \r\nQ 21.1875 15.578125 18.9375 13.203125 \r\nQ 16.703125 10.84375 15.234375 8.453125 \r\nz\r\n\" id=\"ArialMT-50\"/>\r\n      </defs>\r\n      <g style=\"fill:#262626;\" transform=\"translate(158.896804 307.893438)scale(0.1 -0.1)\">\r\n       <use xlink:href=\"#ArialMT-50\"/>\r\n      </g>\r\n     </g>\r\n    </g>\r\n    <g id=\"xtick_3\">\r\n     <g id=\"text_3\">\r\n      <!-- 3 -->\r\n      <defs>\r\n       <path d=\"M 4.203125 18.890625 \r\nL 12.984375 20.0625 \r\nQ 14.5 12.59375 18.140625 9.296875 \r\nQ 21.78125 6 27 6 \r\nQ 33.203125 6 37.46875 10.296875 \r\nQ 41.75 14.59375 41.75 20.953125 \r\nQ 41.75 27 37.796875 30.921875 \r\nQ 33.84375 34.859375 27.734375 34.859375 \r\nQ 25.25 34.859375 21.53125 33.890625 \r\nL 22.515625 41.609375 \r\nQ 23.390625 41.5 23.921875 41.5 \r\nQ 29.546875 41.5 34.03125 44.421875 \r\nQ 38.53125 47.359375 38.53125 53.46875 \r\nQ 38.53125 58.296875 35.25 61.46875 \r\nQ 31.984375 64.65625 26.8125 64.65625 \r\nQ 21.6875 64.65625 18.265625 61.421875 \r\nQ 14.84375 58.203125 13.875 51.765625 \r\nL 5.078125 53.328125 \r\nQ 6.6875 62.15625 12.390625 67.015625 \r\nQ 18.109375 71.875 26.609375 71.875 \r\nQ 32.46875 71.875 37.390625 69.359375 \r\nQ 42.328125 66.84375 44.9375 62.5 \r\nQ 47.5625 58.15625 47.5625 53.265625 \r\nQ 47.5625 48.640625 45.0625 44.828125 \r\nQ 42.578125 41.015625 37.703125 38.765625 \r\nQ 44.046875 37.3125 47.5625 32.6875 \r\nQ 51.078125 28.078125 51.078125 21.140625 \r\nQ 51.078125 11.765625 44.234375 5.25 \r\nQ 37.40625 -1.265625 26.953125 -1.265625 \r\nQ 17.53125 -1.265625 11.296875 4.34375 \r\nQ 5.078125 9.96875 4.203125 18.890625 \r\nz\r\n\" id=\"ArialMT-51\"/>\r\n      </defs>\r\n      <g style=\"fill:#262626;\" transform=\"translate(229.914986 307.893438)scale(0.1 -0.1)\">\r\n       <use xlink:href=\"#ArialMT-51\"/>\r\n      </g>\r\n     </g>\r\n    </g>\r\n    <g id=\"xtick_4\">\r\n     <g id=\"text_4\">\r\n      <!-- 4 -->\r\n      <defs>\r\n       <path d=\"M 32.328125 0 \r\nL 32.328125 17.140625 \r\nL 1.265625 17.140625 \r\nL 1.265625 25.203125 \r\nL 33.9375 71.578125 \r\nL 41.109375 71.578125 \r\nL 41.109375 25.203125 \r\nL 50.78125 25.203125 \r\nL 50.78125 17.140625 \r\nL 41.109375 17.140625 \r\nL 41.109375 0 \r\nz\r\nM 32.328125 25.203125 \r\nL 32.328125 57.46875 \r\nL 9.90625 25.203125 \r\nz\r\n\" id=\"ArialMT-52\"/>\r\n      </defs>\r\n      <g style=\"fill:#262626;\" transform=\"translate(300.933168 307.893438)scale(0.1 -0.1)\">\r\n       <use xlink:href=\"#ArialMT-52\"/>\r\n      </g>\r\n     </g>\r\n    </g>\r\n    <g id=\"xtick_5\">\r\n     <g id=\"text_5\">\r\n      <!-- 5 -->\r\n      <defs>\r\n       <path d=\"M 4.15625 18.75 \r\nL 13.375 19.53125 \r\nQ 14.40625 12.796875 18.140625 9.390625 \r\nQ 21.875 6 27.15625 6 \r\nQ 33.5 6 37.890625 10.78125 \r\nQ 42.28125 15.578125 42.28125 23.484375 \r\nQ 42.28125 31 38.0625 35.34375 \r\nQ 33.84375 39.703125 27 39.703125 \r\nQ 22.75 39.703125 19.328125 37.765625 \r\nQ 15.921875 35.84375 13.96875 32.765625 \r\nL 5.71875 33.84375 \r\nL 12.640625 70.609375 \r\nL 48.25 70.609375 \r\nL 48.25 62.203125 \r\nL 19.671875 62.203125 \r\nL 15.828125 42.96875 \r\nQ 22.265625 47.46875 29.34375 47.46875 \r\nQ 38.71875 47.46875 45.15625 40.96875 \r\nQ 51.609375 34.46875 51.609375 24.265625 \r\nQ 51.609375 14.546875 45.953125 7.46875 \r\nQ 39.0625 -1.21875 27.15625 -1.21875 \r\nQ 17.390625 -1.21875 11.203125 4.25 \r\nQ 5.03125 9.71875 4.15625 18.75 \r\nz\r\n\" id=\"ArialMT-53\"/>\r\n      </defs>\r\n      <g style=\"fill:#262626;\" transform=\"translate(371.951349 307.893438)scale(0.1 -0.1)\">\r\n       <use xlink:href=\"#ArialMT-53\"/>\r\n      </g>\r\n     </g>\r\n    </g>\r\n    <g id=\"text_6\">\r\n     <!-- stars -->\r\n     <defs>\r\n      <path d=\"M 3.078125 15.484375 \r\nL 11.765625 16.84375 \r\nQ 12.5 11.625 15.84375 8.84375 \r\nQ 19.1875 6.0625 25.203125 6.0625 \r\nQ 31.25 6.0625 34.171875 8.515625 \r\nQ 37.109375 10.984375 37.109375 14.3125 \r\nQ 37.109375 17.28125 34.515625 19 \r\nQ 32.71875 20.171875 25.53125 21.96875 \r\nQ 15.875 24.421875 12.140625 26.203125 \r\nQ 8.40625 27.984375 6.46875 31.125 \r\nQ 4.546875 34.28125 4.546875 38.09375 \r\nQ 4.546875 41.546875 6.125 44.5 \r\nQ 7.71875 47.46875 10.453125 49.421875 \r\nQ 12.5 50.921875 16.03125 51.96875 \r\nQ 19.578125 53.03125 23.640625 53.03125 \r\nQ 29.734375 53.03125 34.34375 51.265625 \r\nQ 38.96875 49.515625 41.15625 46.5 \r\nQ 43.359375 43.5 44.1875 38.484375 \r\nL 35.59375 37.3125 \r\nQ 35.015625 41.3125 32.203125 43.546875 \r\nQ 29.390625 45.796875 24.265625 45.796875 \r\nQ 18.21875 45.796875 15.625 43.796875 \r\nQ 13.03125 41.796875 13.03125 39.109375 \r\nQ 13.03125 37.40625 14.109375 36.03125 \r\nQ 15.1875 34.625 17.484375 33.6875 \r\nQ 18.796875 33.203125 25.25 31.453125 \r\nQ 34.578125 28.953125 38.25 27.359375 \r\nQ 41.9375 25.78125 44.03125 22.75 \r\nQ 46.140625 19.734375 46.140625 15.234375 \r\nQ 46.140625 10.84375 43.578125 6.953125 \r\nQ 41.015625 3.078125 36.171875 0.953125 \r\nQ 31.34375 -1.171875 25.25 -1.171875 \r\nQ 15.140625 -1.171875 9.84375 3.03125 \r\nQ 4.546875 7.234375 3.078125 15.484375 \r\nz\r\n\" id=\"ArialMT-115\"/>\r\n      <path d=\"M 25.78125 7.859375 \r\nL 27.046875 0.09375 \r\nQ 23.34375 -0.6875 20.40625 -0.6875 \r\nQ 15.625 -0.6875 12.984375 0.828125 \r\nQ 10.359375 2.34375 9.28125 4.8125 \r\nQ 8.203125 7.28125 8.203125 15.1875 \r\nL 8.203125 45.015625 \r\nL 1.765625 45.015625 \r\nL 1.765625 51.859375 \r\nL 8.203125 51.859375 \r\nL 8.203125 64.703125 \r\nL 16.9375 69.96875 \r\nL 16.9375 51.859375 \r\nL 25.78125 51.859375 \r\nL 25.78125 45.015625 \r\nL 16.9375 45.015625 \r\nL 16.9375 14.703125 \r\nQ 16.9375 10.9375 17.40625 9.859375 \r\nQ 17.875 8.796875 18.921875 8.15625 \r\nQ 19.96875 7.515625 21.921875 7.515625 \r\nQ 23.390625 7.515625 25.78125 7.859375 \r\nz\r\n\" id=\"ArialMT-116\"/>\r\n      <path d=\"M 40.4375 6.390625 \r\nQ 35.546875 2.25 31.03125 0.53125 \r\nQ 26.515625 -1.171875 21.34375 -1.171875 \r\nQ 12.796875 -1.171875 8.203125 3 \r\nQ 3.609375 7.171875 3.609375 13.671875 \r\nQ 3.609375 17.484375 5.34375 20.625 \r\nQ 7.078125 23.78125 9.890625 25.6875 \r\nQ 12.703125 27.59375 16.21875 28.5625 \r\nQ 18.796875 29.25 24.03125 29.890625 \r\nQ 34.671875 31.15625 39.703125 32.90625 \r\nQ 39.75 34.71875 39.75 35.203125 \r\nQ 39.75 40.578125 37.25 42.78125 \r\nQ 33.890625 45.75 27.25 45.75 \r\nQ 21.046875 45.75 18.09375 43.578125 \r\nQ 15.140625 41.40625 13.71875 35.890625 \r\nL 5.125 37.0625 \r\nQ 6.296875 42.578125 8.984375 45.96875 \r\nQ 11.671875 49.359375 16.75 51.1875 \r\nQ 21.828125 53.03125 28.515625 53.03125 \r\nQ 35.15625 53.03125 39.296875 51.46875 \r\nQ 43.453125 49.90625 45.40625 47.53125 \r\nQ 47.359375 45.171875 48.140625 41.546875 \r\nQ 48.578125 39.3125 48.578125 33.453125 \r\nL 48.578125 21.734375 \r\nQ 48.578125 9.46875 49.140625 6.21875 \r\nQ 49.703125 2.984375 51.375 0 \r\nL 42.1875 0 \r\nQ 40.828125 2.734375 40.4375 6.390625 \r\nz\r\nM 39.703125 26.03125 \r\nQ 34.90625 24.078125 25.34375 22.703125 \r\nQ 19.921875 21.921875 17.671875 20.9375 \r\nQ 15.4375 19.96875 14.203125 18.09375 \r\nQ 12.984375 16.21875 12.984375 13.921875 \r\nQ 12.984375 10.40625 15.640625 8.0625 \r\nQ 18.3125 5.71875 23.4375 5.71875 \r\nQ 28.515625 5.71875 32.46875 7.9375 \r\nQ 36.421875 10.15625 38.28125 14.015625 \r\nQ 39.703125 17 39.703125 22.796875 \r\nz\r\n\" id=\"ArialMT-97\"/>\r\n      <path d=\"M 6.5 0 \r\nL 6.5 51.859375 \r\nL 14.40625 51.859375 \r\nL 14.40625 44 \r\nQ 17.4375 49.515625 20 51.265625 \r\nQ 22.5625 53.03125 25.640625 53.03125 \r\nQ 30.078125 53.03125 34.671875 50.203125 \r\nL 31.640625 42.046875 \r\nQ 28.421875 43.953125 25.203125 43.953125 \r\nQ 22.3125 43.953125 20.015625 42.21875 \r\nQ 17.71875 40.484375 16.75 37.40625 \r\nQ 15.28125 32.71875 15.28125 27.15625 \r\nL 15.28125 0 \r\nz\r\n\" id=\"ArialMT-114\"/>\r\n     </defs>\r\n     <g style=\"fill:#262626;\" transform=\"translate(221.86108 321.03875)scale(0.1 -0.1)\">\r\n      <use xlink:href=\"#ArialMT-115\"/>\r\n      <use x=\"50\" xlink:href=\"#ArialMT-116\"/>\r\n      <use x=\"77.783203\" xlink:href=\"#ArialMT-97\"/>\r\n      <use x=\"133.398438\" xlink:href=\"#ArialMT-114\"/>\r\n      <use x=\"166.699219\" xlink:href=\"#ArialMT-115\"/>\r\n     </g>\r\n    </g>\r\n   </g>\r\n   <g id=\"matplotlib.axis_2\">\r\n    <g id=\"ytick_1\">\r\n     <g id=\"line2d_1\">\r\n      <path clip-path=\"url(#p8e81b7547a)\" d=\"M 55.15 293.735625 \r\nL 410.240909 293.735625 \r\n\" style=\"fill:none;stroke:#cccccc;stroke-linecap:round;stroke-width:0.8;\"/>\r\n     </g>\r\n     <g id=\"text_7\">\r\n      <!-- 0 -->\r\n      <defs>\r\n       <path d=\"M 4.15625 35.296875 \r\nQ 4.15625 48 6.765625 55.734375 \r\nQ 9.375 63.484375 14.515625 67.671875 \r\nQ 19.671875 71.875 27.484375 71.875 \r\nQ 33.25 71.875 37.59375 69.546875 \r\nQ 41.9375 67.234375 44.765625 62.859375 \r\nQ 47.609375 58.5 49.21875 52.21875 \r\nQ 50.828125 45.953125 50.828125 35.296875 \r\nQ 50.828125 22.703125 48.234375 14.96875 \r\nQ 45.65625 7.234375 40.5 3 \r\nQ 35.359375 -1.21875 27.484375 -1.21875 \r\nQ 17.140625 -1.21875 11.234375 6.203125 \r\nQ 4.15625 15.140625 4.15625 35.296875 \r\nz\r\nM 13.1875 35.296875 \r\nQ 13.1875 17.671875 17.3125 11.828125 \r\nQ 21.4375 6 27.484375 6 \r\nQ 33.546875 6 37.671875 11.859375 \r\nQ 41.796875 17.71875 41.796875 35.296875 \r\nQ 41.796875 52.984375 37.671875 58.78125 \r\nQ 33.546875 64.59375 27.390625 64.59375 \r\nQ 21.34375 64.59375 17.71875 59.46875 \r\nQ 13.1875 52.9375 13.1875 35.296875 \r\nz\r\n\" id=\"ArialMT-48\"/>\r\n      </defs>\r\n      <g style=\"fill:#262626;\" transform=\"translate(42.589063 297.314531)scale(0.1 -0.1)\">\r\n       <use xlink:href=\"#ArialMT-48\"/>\r\n      </g>\r\n     </g>\r\n    </g>\r\n    <g id=\"ytick_2\">\r\n     <g id=\"line2d_2\">\r\n      <path clip-path=\"url(#p8e81b7547a)\" d=\"M 55.15 256.023337 \r\nL 410.240909 256.023337 \r\n\" style=\"fill:none;stroke:#cccccc;stroke-linecap:round;stroke-width:0.8;\"/>\r\n     </g>\r\n     <g id=\"text_8\">\r\n      <!-- 2500 -->\r\n      <g style=\"fill:#262626;\" transform=\"translate(25.90625 259.602244)scale(0.1 -0.1)\">\r\n       <use xlink:href=\"#ArialMT-50\"/>\r\n       <use x=\"55.615234\" xlink:href=\"#ArialMT-53\"/>\r\n       <use x=\"111.230469\" xlink:href=\"#ArialMT-48\"/>\r\n       <use x=\"166.845703\" xlink:href=\"#ArialMT-48\"/>\r\n      </g>\r\n     </g>\r\n    </g>\r\n    <g id=\"ytick_3\">\r\n     <g id=\"line2d_3\">\r\n      <path clip-path=\"url(#p8e81b7547a)\" d=\"M 55.15 218.31105 \r\nL 410.240909 218.31105 \r\n\" style=\"fill:none;stroke:#cccccc;stroke-linecap:round;stroke-width:0.8;\"/>\r\n     </g>\r\n     <g id=\"text_9\">\r\n      <!-- 5000 -->\r\n      <g style=\"fill:#262626;\" transform=\"translate(25.90625 221.889956)scale(0.1 -0.1)\">\r\n       <use xlink:href=\"#ArialMT-53\"/>\r\n       <use x=\"55.615234\" xlink:href=\"#ArialMT-48\"/>\r\n       <use x=\"111.230469\" xlink:href=\"#ArialMT-48\"/>\r\n       <use x=\"166.845703\" xlink:href=\"#ArialMT-48\"/>\r\n      </g>\r\n     </g>\r\n    </g>\r\n    <g id=\"ytick_4\">\r\n     <g id=\"line2d_4\">\r\n      <path clip-path=\"url(#p8e81b7547a)\" d=\"M 55.15 180.598762 \r\nL 410.240909 180.598762 \r\n\" style=\"fill:none;stroke:#cccccc;stroke-linecap:round;stroke-width:0.8;\"/>\r\n     </g>\r\n     <g id=\"text_10\">\r\n      <!-- 7500 -->\r\n      <defs>\r\n       <path d=\"M 4.734375 62.203125 \r\nL 4.734375 70.65625 \r\nL 51.078125 70.65625 \r\nL 51.078125 63.8125 \r\nQ 44.234375 56.546875 37.515625 44.484375 \r\nQ 30.8125 32.421875 27.15625 19.671875 \r\nQ 24.515625 10.6875 23.78125 0 \r\nL 14.75 0 \r\nQ 14.890625 8.453125 18.0625 20.40625 \r\nQ 21.234375 32.375 27.171875 43.484375 \r\nQ 33.109375 54.59375 39.796875 62.203125 \r\nz\r\n\" id=\"ArialMT-55\"/>\r\n      </defs>\r\n      <g style=\"fill:#262626;\" transform=\"translate(25.90625 184.177668)scale(0.1 -0.1)\">\r\n       <use xlink:href=\"#ArialMT-55\"/>\r\n       <use x=\"55.615234\" xlink:href=\"#ArialMT-53\"/>\r\n       <use x=\"111.230469\" xlink:href=\"#ArialMT-48\"/>\r\n       <use x=\"166.845703\" xlink:href=\"#ArialMT-48\"/>\r\n      </g>\r\n     </g>\r\n    </g>\r\n    <g id=\"ytick_5\">\r\n     <g id=\"line2d_5\">\r\n      <path clip-path=\"url(#p8e81b7547a)\" d=\"M 55.15 142.886474 \r\nL 410.240909 142.886474 \r\n\" style=\"fill:none;stroke:#cccccc;stroke-linecap:round;stroke-width:0.8;\"/>\r\n     </g>\r\n     <g id=\"text_11\">\r\n      <!-- 10000 -->\r\n      <g style=\"fill:#262626;\" transform=\"translate(20.345313 146.46538)scale(0.1 -0.1)\">\r\n       <use xlink:href=\"#ArialMT-49\"/>\r\n       <use x=\"55.615234\" xlink:href=\"#ArialMT-48\"/>\r\n       <use x=\"111.230469\" xlink:href=\"#ArialMT-48\"/>\r\n       <use x=\"166.845703\" xlink:href=\"#ArialMT-48\"/>\r\n       <use x=\"222.460938\" xlink:href=\"#ArialMT-48\"/>\r\n      </g>\r\n     </g>\r\n    </g>\r\n    <g id=\"ytick_6\">\r\n     <g id=\"line2d_6\">\r\n      <path clip-path=\"url(#p8e81b7547a)\" d=\"M 55.15 105.174186 \r\nL 410.240909 105.174186 \r\n\" style=\"fill:none;stroke:#cccccc;stroke-linecap:round;stroke-width:0.8;\"/>\r\n     </g>\r\n     <g id=\"text_12\">\r\n      <!-- 12500 -->\r\n      <g style=\"fill:#262626;\" transform=\"translate(20.345313 108.753093)scale(0.1 -0.1)\">\r\n       <use xlink:href=\"#ArialMT-49\"/>\r\n       <use x=\"55.615234\" xlink:href=\"#ArialMT-50\"/>\r\n       <use x=\"111.230469\" xlink:href=\"#ArialMT-53\"/>\r\n       <use x=\"166.845703\" xlink:href=\"#ArialMT-48\"/>\r\n       <use x=\"222.460938\" xlink:href=\"#ArialMT-48\"/>\r\n      </g>\r\n     </g>\r\n    </g>\r\n    <g id=\"ytick_7\">\r\n     <g id=\"line2d_7\">\r\n      <path clip-path=\"url(#p8e81b7547a)\" d=\"M 55.15 67.461899 \r\nL 410.240909 67.461899 \r\n\" style=\"fill:none;stroke:#cccccc;stroke-linecap:round;stroke-width:0.8;\"/>\r\n     </g>\r\n     <g id=\"text_13\">\r\n      <!-- 15000 -->\r\n      <g style=\"fill:#262626;\" transform=\"translate(20.345313 71.040805)scale(0.1 -0.1)\">\r\n       <use xlink:href=\"#ArialMT-49\"/>\r\n       <use x=\"55.615234\" xlink:href=\"#ArialMT-53\"/>\r\n       <use x=\"111.230469\" xlink:href=\"#ArialMT-48\"/>\r\n       <use x=\"166.845703\" xlink:href=\"#ArialMT-48\"/>\r\n       <use x=\"222.460938\" xlink:href=\"#ArialMT-48\"/>\r\n      </g>\r\n     </g>\r\n    </g>\r\n    <g id=\"ytick_8\">\r\n     <g id=\"line2d_8\">\r\n      <path clip-path=\"url(#p8e81b7547a)\" d=\"M 55.15 29.749611 \r\nL 410.240909 29.749611 \r\n\" style=\"fill:none;stroke:#cccccc;stroke-linecap:round;stroke-width:0.8;\"/>\r\n     </g>\r\n     <g id=\"text_14\">\r\n      <!-- 17500 -->\r\n      <g style=\"fill:#262626;\" transform=\"translate(20.345313 33.328517)scale(0.1 -0.1)\">\r\n       <use xlink:href=\"#ArialMT-49\"/>\r\n       <use x=\"55.615234\" xlink:href=\"#ArialMT-55\"/>\r\n       <use x=\"111.230469\" xlink:href=\"#ArialMT-53\"/>\r\n       <use x=\"166.845703\" xlink:href=\"#ArialMT-48\"/>\r\n       <use x=\"222.460938\" xlink:href=\"#ArialMT-48\"/>\r\n      </g>\r\n     </g>\r\n    </g>\r\n    <g id=\"text_15\">\r\n     <!-- count -->\r\n     <defs>\r\n      <path d=\"M 40.4375 19 \r\nL 49.078125 17.875 \r\nQ 47.65625 8.9375 41.8125 3.875 \r\nQ 35.984375 -1.171875 27.484375 -1.171875 \r\nQ 16.84375 -1.171875 10.375 5.78125 \r\nQ 3.90625 12.75 3.90625 25.734375 \r\nQ 3.90625 34.125 6.6875 40.421875 \r\nQ 9.46875 46.734375 15.15625 49.875 \r\nQ 20.84375 53.03125 27.546875 53.03125 \r\nQ 35.984375 53.03125 41.359375 48.75 \r\nQ 46.734375 44.484375 48.25 36.625 \r\nL 39.703125 35.296875 \r\nQ 38.484375 40.53125 35.375 43.15625 \r\nQ 32.28125 45.796875 27.875 45.796875 \r\nQ 21.234375 45.796875 17.078125 41.03125 \r\nQ 12.9375 36.28125 12.9375 25.984375 \r\nQ 12.9375 15.53125 16.9375 10.796875 \r\nQ 20.953125 6.0625 27.390625 6.0625 \r\nQ 32.5625 6.0625 36.03125 9.234375 \r\nQ 39.5 12.40625 40.4375 19 \r\nz\r\n\" id=\"ArialMT-99\"/>\r\n      <path d=\"M 3.328125 25.921875 \r\nQ 3.328125 40.328125 11.328125 47.265625 \r\nQ 18.015625 53.03125 27.640625 53.03125 \r\nQ 38.328125 53.03125 45.109375 46.015625 \r\nQ 51.90625 39.015625 51.90625 26.65625 \r\nQ 51.90625 16.65625 48.90625 10.90625 \r\nQ 45.90625 5.171875 40.15625 2 \r\nQ 34.421875 -1.171875 27.640625 -1.171875 \r\nQ 16.75 -1.171875 10.03125 5.8125 \r\nQ 3.328125 12.796875 3.328125 25.921875 \r\nz\r\nM 12.359375 25.921875 \r\nQ 12.359375 15.96875 16.703125 11.015625 \r\nQ 21.046875 6.0625 27.640625 6.0625 \r\nQ 34.1875 6.0625 38.53125 11.03125 \r\nQ 42.875 16.015625 42.875 26.21875 \r\nQ 42.875 35.84375 38.5 40.796875 \r\nQ 34.125 45.75 27.640625 45.75 \r\nQ 21.046875 45.75 16.703125 40.8125 \r\nQ 12.359375 35.890625 12.359375 25.921875 \r\nz\r\n\" id=\"ArialMT-111\"/>\r\n      <path d=\"M 40.578125 0 \r\nL 40.578125 7.625 \r\nQ 34.515625 -1.171875 24.125 -1.171875 \r\nQ 19.53125 -1.171875 15.546875 0.578125 \r\nQ 11.578125 2.34375 9.640625 5 \r\nQ 7.71875 7.671875 6.9375 11.53125 \r\nQ 6.390625 14.109375 6.390625 19.734375 \r\nL 6.390625 51.859375 \r\nL 15.1875 51.859375 \r\nL 15.1875 23.09375 \r\nQ 15.1875 16.21875 15.71875 13.8125 \r\nQ 16.546875 10.359375 19.234375 8.375 \r\nQ 21.921875 6.390625 25.875 6.390625 \r\nQ 29.828125 6.390625 33.296875 8.421875 \r\nQ 36.765625 10.453125 38.203125 13.9375 \r\nQ 39.65625 17.4375 39.65625 24.078125 \r\nL 39.65625 51.859375 \r\nL 48.4375 51.859375 \r\nL 48.4375 0 \r\nz\r\n\" id=\"ArialMT-117\"/>\r\n      <path d=\"M 6.59375 0 \r\nL 6.59375 51.859375 \r\nL 14.5 51.859375 \r\nL 14.5 44.484375 \r\nQ 20.21875 53.03125 31 53.03125 \r\nQ 35.6875 53.03125 39.625 51.34375 \r\nQ 43.5625 49.65625 45.515625 46.921875 \r\nQ 47.46875 44.1875 48.25 40.4375 \r\nQ 48.734375 37.984375 48.734375 31.890625 \r\nL 48.734375 0 \r\nL 39.9375 0 \r\nL 39.9375 31.546875 \r\nQ 39.9375 36.921875 38.90625 39.578125 \r\nQ 37.890625 42.234375 35.28125 43.8125 \r\nQ 32.671875 45.40625 29.15625 45.40625 \r\nQ 23.53125 45.40625 19.453125 41.84375 \r\nQ 15.375 38.28125 15.375 28.328125 \r\nL 15.375 0 \r\nz\r\n\" id=\"ArialMT-110\"/>\r\n     </defs>\r\n     <g style=\"fill:#262626;\" transform=\"translate(14.357813 170.066094)rotate(-90)scale(0.1 -0.1)\">\r\n      <use xlink:href=\"#ArialMT-99\"/>\r\n      <use x=\"50\" xlink:href=\"#ArialMT-111\"/>\r\n      <use x=\"105.615234\" xlink:href=\"#ArialMT-117\"/>\r\n      <use x=\"161.230469\" xlink:href=\"#ArialMT-110\"/>\r\n      <use x=\"216.845703\" xlink:href=\"#ArialMT-116\"/>\r\n     </g>\r\n    </g>\r\n   </g>\r\n   <g id=\"patch_3\">\r\n    <path clip-path=\"url(#p8e81b7547a)\" d=\"M 62.251818 293.735625 \r\nL 119.066364 293.735625 \r\nL 119.066364 290.522538 \r\nL 62.251818 290.522538 \r\nz\r\n\" style=\"fill:#4b4279;stroke:#ffffff;stroke-linejoin:miter;\"/>\r\n   </g>\r\n   <g id=\"patch_4\">\r\n    <path clip-path=\"url(#p8e81b7547a)\" d=\"M 133.27 293.735625 \r\nL 190.084545 293.735625 \r\nL 190.084545 290.763897 \r\nL 133.27 290.763897 \r\nz\r\n\" style=\"fill:#3c6682;stroke:#ffffff;stroke-linejoin:miter;\"/>\r\n   </g>\r\n   <g id=\"patch_5\">\r\n    <path clip-path=\"url(#p8e81b7547a)\" d=\"M 204.288182 293.735625 \r\nL 261.102727 293.735625 \r\nL 261.102727 282.059901 \r\nL 204.288182 282.059901 \r\nz\r\n\" style=\"fill:#2f837f;stroke:#ffffff;stroke-linejoin:miter;\"/>\r\n   </g>\r\n   <g id=\"patch_6\">\r\n    <path clip-path=\"url(#p8e81b7547a)\" d=\"M 275.306364 293.735625 \r\nL 332.120909 293.735625 \r\nL 332.120909 255.947913 \r\nL 275.306364 255.947913 \r\nz\r\n\" style=\"fill:#45a778;stroke:#ffffff;stroke-linejoin:miter;\"/>\r\n   </g>\r\n   <g id=\"patch_7\">\r\n    <path clip-path=\"url(#p8e81b7547a)\" d=\"M 346.324545 293.735625 \r\nL 403.139091 293.735625 \r\nL 403.139091 34.878482 \r\nL 346.324545 34.878482 \r\nz\r\n\" style=\"fill:#8fc456;stroke:#ffffff;stroke-linejoin:miter;\"/>\r\n   </g>\r\n   <g id=\"patch_8\">\r\n    <path d=\"M 55.15 293.735625 \r\nL 55.15 21.935625 \r\n\" style=\"fill:none;stroke:#cccccc;stroke-linecap:square;stroke-linejoin:miter;stroke-width:0.8;\"/>\r\n   </g>\r\n   <g id=\"patch_9\">\r\n    <path d=\"M 410.240909 293.735625 \r\nL 410.240909 21.935625 \r\n\" style=\"fill:none;stroke:#cccccc;stroke-linecap:square;stroke-linejoin:miter;stroke-width:0.8;\"/>\r\n   </g>\r\n   <g id=\"patch_10\">\r\n    <path d=\"M 55.15 293.735625 \r\nL 410.240909 293.735625 \r\n\" style=\"fill:none;stroke:#cccccc;stroke-linecap:square;stroke-linejoin:miter;stroke-width:0.8;\"/>\r\n   </g>\r\n   <g id=\"patch_11\">\r\n    <path d=\"M 55.15 21.935625 \r\nL 410.240909 21.935625 \r\n\" style=\"fill:none;stroke:#cccccc;stroke-linecap:square;stroke-linejoin:miter;stroke-width:0.8;\"/>\r\n   </g>\r\n   <g id=\"text_16\">\r\n    <!-- Distribution of book ratings -->\r\n    <defs>\r\n     <path d=\"M 7.71875 0 \r\nL 7.71875 71.578125 \r\nL 32.375 71.578125 \r\nQ 40.71875 71.578125 45.125 70.5625 \r\nQ 51.265625 69.140625 55.609375 65.4375 \r\nQ 61.28125 60.640625 64.078125 53.1875 \r\nQ 66.890625 45.75 66.890625 36.1875 \r\nQ 66.890625 28.03125 64.984375 21.734375 \r\nQ 63.09375 15.4375 60.109375 11.296875 \r\nQ 57.125 7.171875 53.578125 4.796875 \r\nQ 50.046875 2.4375 45.046875 1.21875 \r\nQ 40.046875 0 33.546875 0 \r\nz\r\nM 17.1875 8.453125 \r\nL 32.46875 8.453125 \r\nQ 39.546875 8.453125 43.578125 9.765625 \r\nQ 47.609375 11.078125 50 13.484375 \r\nQ 53.375 16.84375 55.25 22.53125 \r\nQ 57.125 28.21875 57.125 36.328125 \r\nQ 57.125 47.5625 53.4375 53.59375 \r\nQ 49.75 59.625 44.484375 61.671875 \r\nQ 40.671875 63.140625 32.234375 63.140625 \r\nL 17.1875 63.140625 \r\nz\r\n\" id=\"ArialMT-68\"/>\r\n     <path d=\"M 6.640625 61.46875 \r\nL 6.640625 71.578125 \r\nL 15.4375 71.578125 \r\nL 15.4375 61.46875 \r\nz\r\nM 6.640625 0 \r\nL 6.640625 51.859375 \r\nL 15.4375 51.859375 \r\nL 15.4375 0 \r\nz\r\n\" id=\"ArialMT-105\"/>\r\n     <path d=\"M 14.703125 0 \r\nL 6.546875 0 \r\nL 6.546875 71.578125 \r\nL 15.328125 71.578125 \r\nL 15.328125 46.046875 \r\nQ 20.90625 53.03125 29.546875 53.03125 \r\nQ 34.328125 53.03125 38.59375 51.09375 \r\nQ 42.875 49.171875 45.625 45.671875 \r\nQ 48.390625 42.1875 49.953125 37.25 \r\nQ 51.515625 32.328125 51.515625 26.703125 \r\nQ 51.515625 13.375 44.921875 6.09375 \r\nQ 38.328125 -1.171875 29.109375 -1.171875 \r\nQ 19.921875 -1.171875 14.703125 6.5 \r\nz\r\nM 14.59375 26.3125 \r\nQ 14.59375 17 17.140625 12.84375 \r\nQ 21.296875 6.0625 28.375 6.0625 \r\nQ 34.125 6.0625 38.328125 11.0625 \r\nQ 42.53125 16.0625 42.53125 25.984375 \r\nQ 42.53125 36.140625 38.5 40.96875 \r\nQ 34.46875 45.796875 28.765625 45.796875 \r\nQ 23 45.796875 18.796875 40.796875 \r\nQ 14.59375 35.796875 14.59375 26.3125 \r\nz\r\n\" id=\"ArialMT-98\"/>\r\n     <path id=\"ArialMT-32\"/>\r\n     <path d=\"M 8.6875 0 \r\nL 8.6875 45.015625 \r\nL 0.921875 45.015625 \r\nL 0.921875 51.859375 \r\nL 8.6875 51.859375 \r\nL 8.6875 57.375 \r\nQ 8.6875 62.59375 9.625 65.140625 \r\nQ 10.890625 68.5625 14.078125 70.671875 \r\nQ 17.28125 72.796875 23.046875 72.796875 \r\nQ 26.765625 72.796875 31.25 71.921875 \r\nL 29.9375 64.265625 \r\nQ 27.203125 64.75 24.75 64.75 \r\nQ 20.75 64.75 19.09375 63.03125 \r\nQ 17.4375 61.328125 17.4375 56.640625 \r\nL 17.4375 51.859375 \r\nL 27.546875 51.859375 \r\nL 27.546875 45.015625 \r\nL 17.4375 45.015625 \r\nL 17.4375 0 \r\nz\r\n\" id=\"ArialMT-102\"/>\r\n     <path d=\"M 6.640625 0 \r\nL 6.640625 71.578125 \r\nL 15.4375 71.578125 \r\nL 15.4375 30.765625 \r\nL 36.234375 51.859375 \r\nL 47.609375 51.859375 \r\nL 27.78125 32.625 \r\nL 49.609375 0 \r\nL 38.765625 0 \r\nL 21.625 26.515625 \r\nL 15.4375 20.5625 \r\nL 15.4375 0 \r\nz\r\n\" id=\"ArialMT-107\"/>\r\n     <path d=\"M 4.984375 -4.296875 \r\nL 13.53125 -5.5625 \r\nQ 14.0625 -9.515625 16.5 -11.328125 \r\nQ 19.78125 -13.765625 25.4375 -13.765625 \r\nQ 31.546875 -13.765625 34.859375 -11.328125 \r\nQ 38.1875 -8.890625 39.359375 -4.5 \r\nQ 40.046875 -1.8125 39.984375 6.78125 \r\nQ 34.234375 0 25.640625 0 \r\nQ 14.9375 0 9.078125 7.71875 \r\nQ 3.21875 15.4375 3.21875 26.21875 \r\nQ 3.21875 33.640625 5.90625 39.90625 \r\nQ 8.59375 46.1875 13.6875 49.609375 \r\nQ 18.796875 53.03125 25.6875 53.03125 \r\nQ 34.859375 53.03125 40.828125 45.609375 \r\nL 40.828125 51.859375 \r\nL 48.921875 51.859375 \r\nL 48.921875 7.03125 \r\nQ 48.921875 -5.078125 46.453125 -10.125 \r\nQ 44 -15.1875 38.640625 -18.109375 \r\nQ 33.296875 -21.046875 25.484375 -21.046875 \r\nQ 16.21875 -21.046875 10.5 -16.875 \r\nQ 4.78125 -12.703125 4.984375 -4.296875 \r\nz\r\nM 12.25 26.859375 \r\nQ 12.25 16.65625 16.296875 11.96875 \r\nQ 20.359375 7.28125 26.46875 7.28125 \r\nQ 32.515625 7.28125 36.609375 11.9375 \r\nQ 40.71875 16.609375 40.71875 26.5625 \r\nQ 40.71875 36.078125 36.5 40.90625 \r\nQ 32.28125 45.75 26.3125 45.75 \r\nQ 20.453125 45.75 16.34375 40.984375 \r\nQ 12.25 36.234375 12.25 26.859375 \r\nz\r\n\" id=\"ArialMT-103\"/>\r\n    </defs>\r\n    <g style=\"fill:#262626;\" transform=\"translate(161.663892 15.935625)scale(0.12 -0.12)\">\r\n     <use xlink:href=\"#ArialMT-68\"/>\r\n     <use x=\"72.216797\" xlink:href=\"#ArialMT-105\"/>\r\n     <use x=\"94.433594\" xlink:href=\"#ArialMT-115\"/>\r\n     <use x=\"144.433594\" xlink:href=\"#ArialMT-116\"/>\r\n     <use x=\"172.216797\" xlink:href=\"#ArialMT-114\"/>\r\n     <use x=\"205.517578\" xlink:href=\"#ArialMT-105\"/>\r\n     <use x=\"227.734375\" xlink:href=\"#ArialMT-98\"/>\r\n     <use x=\"283.349609\" xlink:href=\"#ArialMT-117\"/>\r\n     <use x=\"338.964844\" xlink:href=\"#ArialMT-116\"/>\r\n     <use x=\"366.748047\" xlink:href=\"#ArialMT-105\"/>\r\n     <use x=\"388.964844\" xlink:href=\"#ArialMT-111\"/>\r\n     <use x=\"444.580078\" xlink:href=\"#ArialMT-110\"/>\r\n     <use x=\"500.195312\" xlink:href=\"#ArialMT-32\"/>\r\n     <use x=\"527.978516\" xlink:href=\"#ArialMT-111\"/>\r\n     <use x=\"583.59375\" xlink:href=\"#ArialMT-102\"/>\r\n     <use x=\"611.376953\" xlink:href=\"#ArialMT-32\"/>\r\n     <use x=\"639.160156\" xlink:href=\"#ArialMT-98\"/>\r\n     <use x=\"694.775391\" xlink:href=\"#ArialMT-111\"/>\r\n     <use x=\"750.390625\" xlink:href=\"#ArialMT-111\"/>\r\n     <use x=\"806.005859\" xlink:href=\"#ArialMT-107\"/>\r\n     <use x=\"856.005859\" xlink:href=\"#ArialMT-32\"/>\r\n     <use x=\"883.789062\" xlink:href=\"#ArialMT-114\"/>\r\n     <use x=\"917.089844\" xlink:href=\"#ArialMT-97\"/>\r\n     <use x=\"972.705078\" xlink:href=\"#ArialMT-116\"/>\r\n     <use x=\"1000.488281\" xlink:href=\"#ArialMT-105\"/>\r\n     <use x=\"1022.705078\" xlink:href=\"#ArialMT-110\"/>\r\n     <use x=\"1078.320312\" xlink:href=\"#ArialMT-103\"/>\r\n     <use x=\"1133.935547\" xlink:href=\"#ArialMT-115\"/>\r\n    </g>\r\n   </g>\r\n  </g>\r\n  <g id=\"axes_2\">\r\n   <g id=\"patch_12\">\r\n    <path d=\"M 481.259091 293.735625 \r\nL 836.35 293.735625 \r\nL 836.35 21.935625 \r\nL 481.259091 21.935625 \r\nz\r\n\" style=\"fill:#ffffff;\"/>\r\n   </g>\r\n   <g id=\"matplotlib.axis_3\">\r\n    <g id=\"xtick_6\">\r\n     <g id=\"line2d_9\">\r\n      <path clip-path=\"url(#pf431b13572)\" d=\"M 488.256905 293.735625 \r\nL 488.256905 21.935625 \r\n\" style=\"fill:none;stroke:#cccccc;stroke-linecap:round;stroke-width:0.8;\"/>\r\n     </g>\r\n     <g id=\"text_17\">\r\n      <!-- 0 -->\r\n      <g style=\"fill:#262626;\" transform=\"translate(485.476436 307.893438)scale(0.1 -0.1)\">\r\n       <use xlink:href=\"#ArialMT-48\"/>\r\n      </g>\r\n     </g>\r\n    </g>\r\n    <g id=\"xtick_7\">\r\n     <g id=\"line2d_10\">\r\n      <path clip-path=\"url(#pf431b13572)\" d=\"M 531.433523 293.735625 \r\nL 531.433523 21.935625 \r\n\" style=\"fill:none;stroke:#cccccc;stroke-linecap:round;stroke-width:0.8;\"/>\r\n     </g>\r\n     <g id=\"text_18\">\r\n      <!-- 20 -->\r\n      <g style=\"fill:#262626;\" transform=\"translate(525.872586 307.893438)scale(0.1 -0.1)\">\r\n       <use xlink:href=\"#ArialMT-50\"/>\r\n       <use x=\"55.615234\" xlink:href=\"#ArialMT-48\"/>\r\n      </g>\r\n     </g>\r\n    </g>\r\n    <g id=\"xtick_8\">\r\n     <g id=\"line2d_11\">\r\n      <path clip-path=\"url(#pf431b13572)\" d=\"M 574.610141 293.735625 \r\nL 574.610141 21.935625 \r\n\" style=\"fill:none;stroke:#cccccc;stroke-linecap:round;stroke-width:0.8;\"/>\r\n     </g>\r\n     <g id=\"text_19\">\r\n      <!-- 40 -->\r\n      <g style=\"fill:#262626;\" transform=\"translate(569.049203 307.893438)scale(0.1 -0.1)\">\r\n       <use xlink:href=\"#ArialMT-52\"/>\r\n       <use x=\"55.615234\" xlink:href=\"#ArialMT-48\"/>\r\n      </g>\r\n     </g>\r\n    </g>\r\n    <g id=\"xtick_9\">\r\n     <g id=\"line2d_12\">\r\n      <path clip-path=\"url(#pf431b13572)\" d=\"M 617.786759 293.735625 \r\nL 617.786759 21.935625 \r\n\" style=\"fill:none;stroke:#cccccc;stroke-linecap:round;stroke-width:0.8;\"/>\r\n     </g>\r\n     <g id=\"text_20\">\r\n      <!-- 60 -->\r\n      <defs>\r\n       <path d=\"M 49.75 54.046875 \r\nL 41.015625 53.375 \r\nQ 39.84375 58.546875 37.703125 60.890625 \r\nQ 34.125 64.65625 28.90625 64.65625 \r\nQ 24.703125 64.65625 21.53125 62.3125 \r\nQ 17.390625 59.28125 14.984375 53.46875 \r\nQ 12.59375 47.65625 12.5 36.921875 \r\nQ 15.671875 41.75 20.265625 44.09375 \r\nQ 24.859375 46.4375 29.890625 46.4375 \r\nQ 38.671875 46.4375 44.84375 39.96875 \r\nQ 51.03125 33.5 51.03125 23.25 \r\nQ 51.03125 16.5 48.125 10.71875 \r\nQ 45.21875 4.9375 40.140625 1.859375 \r\nQ 35.0625 -1.21875 28.609375 -1.21875 \r\nQ 17.625 -1.21875 10.6875 6.859375 \r\nQ 3.765625 14.9375 3.765625 33.5 \r\nQ 3.765625 54.25 11.421875 63.671875 \r\nQ 18.109375 71.875 29.4375 71.875 \r\nQ 37.890625 71.875 43.28125 67.140625 \r\nQ 48.6875 62.40625 49.75 54.046875 \r\nz\r\nM 13.875 23.1875 \r\nQ 13.875 18.65625 15.796875 14.5 \r\nQ 17.71875 10.359375 21.1875 8.171875 \r\nQ 24.65625 6 28.46875 6 \r\nQ 34.03125 6 38.03125 10.484375 \r\nQ 42.046875 14.984375 42.046875 22.703125 \r\nQ 42.046875 30.125 38.078125 34.390625 \r\nQ 34.125 38.671875 28.125 38.671875 \r\nQ 22.171875 38.671875 18.015625 34.390625 \r\nQ 13.875 30.125 13.875 23.1875 \r\nz\r\n\" id=\"ArialMT-54\"/>\r\n      </defs>\r\n      <g style=\"fill:#262626;\" transform=\"translate(612.225821 307.893438)scale(0.1 -0.1)\">\r\n       <use xlink:href=\"#ArialMT-54\"/>\r\n       <use x=\"55.615234\" xlink:href=\"#ArialMT-48\"/>\r\n      </g>\r\n     </g>\r\n    </g>\r\n    <g id=\"xtick_10\">\r\n     <g id=\"line2d_13\">\r\n      <path clip-path=\"url(#pf431b13572)\" d=\"M 660.963376 293.735625 \r\nL 660.963376 21.935625 \r\n\" style=\"fill:none;stroke:#cccccc;stroke-linecap:round;stroke-width:0.8;\"/>\r\n     </g>\r\n     <g id=\"text_21\">\r\n      <!-- 80 -->\r\n      <defs>\r\n       <path d=\"M 17.671875 38.8125 \r\nQ 12.203125 40.828125 9.5625 44.53125 \r\nQ 6.9375 48.25 6.9375 53.421875 \r\nQ 6.9375 61.234375 12.546875 66.546875 \r\nQ 18.171875 71.875 27.484375 71.875 \r\nQ 36.859375 71.875 42.578125 66.421875 \r\nQ 48.296875 60.984375 48.296875 53.171875 \r\nQ 48.296875 48.1875 45.671875 44.5 \r\nQ 43.0625 40.828125 37.75 38.8125 \r\nQ 44.34375 36.671875 47.78125 31.875 \r\nQ 51.21875 27.09375 51.21875 20.453125 \r\nQ 51.21875 11.28125 44.71875 5.03125 \r\nQ 38.234375 -1.21875 27.640625 -1.21875 \r\nQ 17.046875 -1.21875 10.546875 5.046875 \r\nQ 4.046875 11.328125 4.046875 20.703125 \r\nQ 4.046875 27.6875 7.59375 32.390625 \r\nQ 11.140625 37.109375 17.671875 38.8125 \r\nz\r\nM 15.921875 53.71875 \r\nQ 15.921875 48.640625 19.1875 45.40625 \r\nQ 22.46875 42.1875 27.6875 42.1875 \r\nQ 32.765625 42.1875 36.015625 45.375 \r\nQ 39.265625 48.578125 39.265625 53.21875 \r\nQ 39.265625 58.0625 35.90625 61.359375 \r\nQ 32.5625 64.65625 27.59375 64.65625 \r\nQ 22.5625 64.65625 19.234375 61.421875 \r\nQ 15.921875 58.203125 15.921875 53.71875 \r\nz\r\nM 13.09375 20.65625 \r\nQ 13.09375 16.890625 14.875 13.375 \r\nQ 16.65625 9.859375 20.171875 7.921875 \r\nQ 23.6875 6 27.734375 6 \r\nQ 34.03125 6 38.125 10.046875 \r\nQ 42.234375 14.109375 42.234375 20.359375 \r\nQ 42.234375 26.703125 38.015625 30.859375 \r\nQ 33.796875 35.015625 27.4375 35.015625 \r\nQ 21.234375 35.015625 17.15625 30.90625 \r\nQ 13.09375 26.8125 13.09375 20.65625 \r\nz\r\n\" id=\"ArialMT-56\"/>\r\n      </defs>\r\n      <g style=\"fill:#262626;\" transform=\"translate(655.402439 307.893438)scale(0.1 -0.1)\">\r\n       <use xlink:href=\"#ArialMT-56\"/>\r\n       <use x=\"55.615234\" xlink:href=\"#ArialMT-48\"/>\r\n      </g>\r\n     </g>\r\n    </g>\r\n    <g id=\"xtick_11\">\r\n     <g id=\"line2d_14\">\r\n      <path clip-path=\"url(#pf431b13572)\" d=\"M 704.139994 293.735625 \r\nL 704.139994 21.935625 \r\n\" style=\"fill:none;stroke:#cccccc;stroke-linecap:round;stroke-width:0.8;\"/>\r\n     </g>\r\n     <g id=\"text_22\">\r\n      <!-- 100 -->\r\n      <g style=\"fill:#262626;\" transform=\"translate(695.798588 307.893438)scale(0.1 -0.1)\">\r\n       <use xlink:href=\"#ArialMT-49\"/>\r\n       <use x=\"55.615234\" xlink:href=\"#ArialMT-48\"/>\r\n       <use x=\"111.230469\" xlink:href=\"#ArialMT-48\"/>\r\n      </g>\r\n     </g>\r\n    </g>\r\n    <g id=\"xtick_12\">\r\n     <g id=\"line2d_15\">\r\n      <path clip-path=\"url(#pf431b13572)\" d=\"M 747.316612 293.735625 \r\nL 747.316612 21.935625 \r\n\" style=\"fill:none;stroke:#cccccc;stroke-linecap:round;stroke-width:0.8;\"/>\r\n     </g>\r\n     <g id=\"text_23\">\r\n      <!-- 120 -->\r\n      <g style=\"fill:#262626;\" transform=\"translate(738.975206 307.893438)scale(0.1 -0.1)\">\r\n       <use xlink:href=\"#ArialMT-49\"/>\r\n       <use x=\"55.615234\" xlink:href=\"#ArialMT-50\"/>\r\n       <use x=\"111.230469\" xlink:href=\"#ArialMT-48\"/>\r\n      </g>\r\n     </g>\r\n    </g>\r\n    <g id=\"xtick_13\">\r\n     <g id=\"line2d_16\">\r\n      <path clip-path=\"url(#pf431b13572)\" d=\"M 790.49323 293.735625 \r\nL 790.49323 21.935625 \r\n\" style=\"fill:none;stroke:#cccccc;stroke-linecap:round;stroke-width:0.8;\"/>\r\n     </g>\r\n     <g id=\"text_24\">\r\n      <!-- 140 -->\r\n      <g style=\"fill:#262626;\" transform=\"translate(782.151823 307.893438)scale(0.1 -0.1)\">\r\n       <use xlink:href=\"#ArialMT-49\"/>\r\n       <use x=\"55.615234\" xlink:href=\"#ArialMT-52\"/>\r\n       <use x=\"111.230469\" xlink:href=\"#ArialMT-48\"/>\r\n      </g>\r\n     </g>\r\n    </g>\r\n    <g id=\"xtick_14\">\r\n     <g id=\"line2d_17\">\r\n      <path clip-path=\"url(#pf431b13572)\" d=\"M 833.669847 293.735625 \r\nL 833.669847 21.935625 \r\n\" style=\"fill:none;stroke:#cccccc;stroke-linecap:round;stroke-width:0.8;\"/>\r\n     </g>\r\n     <g id=\"text_25\">\r\n      <!-- 160 -->\r\n      <g style=\"fill:#262626;\" transform=\"translate(825.328441 307.893438)scale(0.1 -0.1)\">\r\n       <use xlink:href=\"#ArialMT-49\"/>\r\n       <use x=\"55.615234\" xlink:href=\"#ArialMT-54\"/>\r\n       <use x=\"111.230469\" xlink:href=\"#ArialMT-48\"/>\r\n      </g>\r\n     </g>\r\n    </g>\r\n    <g id=\"text_26\">\r\n     <!-- # ratings per user -->\r\n     <defs>\r\n      <path d=\"M 5.03125 -1.21875 \r\nL 9.28125 19.578125 \r\nL 1.03125 19.578125 \r\nL 1.03125 26.859375 \r\nL 10.75 26.859375 \r\nL 14.359375 44.578125 \r\nL 1.03125 44.578125 \r\nL 1.03125 51.859375 \r\nL 15.828125 51.859375 \r\nL 20.0625 72.796875 \r\nL 27.390625 72.796875 \r\nL 23.140625 51.859375 \r\nL 38.53125 51.859375 \r\nL 42.78125 72.796875 \r\nL 50.140625 72.796875 \r\nL 45.90625 51.859375 \r\nL 54.34375 51.859375 \r\nL 54.34375 44.578125 \r\nL 44.4375 44.578125 \r\nL 40.765625 26.859375 \r\nL 54.34375 26.859375 \r\nL 54.34375 19.578125 \r\nL 39.3125 19.578125 \r\nL 35.0625 -1.21875 \r\nL 27.734375 -1.21875 \r\nL 31.9375 19.578125 \r\nL 16.609375 19.578125 \r\nL 12.359375 -1.21875 \r\nz\r\nM 18.0625 26.859375 \r\nL 33.40625 26.859375 \r\nL 37.0625 44.578125 \r\nL 21.6875 44.578125 \r\nz\r\n\" id=\"ArialMT-35\"/>\r\n      <path d=\"M 6.59375 -19.875 \r\nL 6.59375 51.859375 \r\nL 14.59375 51.859375 \r\nL 14.59375 45.125 \r\nQ 17.4375 49.078125 21 51.046875 \r\nQ 24.5625 53.03125 29.640625 53.03125 \r\nQ 36.28125 53.03125 41.359375 49.609375 \r\nQ 46.4375 46.1875 49.015625 39.953125 \r\nQ 51.609375 33.734375 51.609375 26.3125 \r\nQ 51.609375 18.359375 48.75 11.984375 \r\nQ 45.90625 5.609375 40.453125 2.21875 \r\nQ 35.015625 -1.171875 29 -1.171875 \r\nQ 24.609375 -1.171875 21.109375 0.6875 \r\nQ 17.625 2.546875 15.375 5.375 \r\nL 15.375 -19.875 \r\nz\r\nM 14.546875 25.640625 \r\nQ 14.546875 15.625 18.59375 10.84375 \r\nQ 22.65625 6.0625 28.421875 6.0625 \r\nQ 34.28125 6.0625 38.453125 11.015625 \r\nQ 42.625 15.96875 42.625 26.375 \r\nQ 42.625 36.28125 38.546875 41.203125 \r\nQ 34.46875 46.140625 28.8125 46.140625 \r\nQ 23.1875 46.140625 18.859375 40.890625 \r\nQ 14.546875 35.640625 14.546875 25.640625 \r\nz\r\n\" id=\"ArialMT-112\"/>\r\n      <path d=\"M 42.09375 16.703125 \r\nL 51.171875 15.578125 \r\nQ 49.03125 7.625 43.21875 3.21875 \r\nQ 37.40625 -1.171875 28.375 -1.171875 \r\nQ 17 -1.171875 10.328125 5.828125 \r\nQ 3.65625 12.84375 3.65625 25.484375 \r\nQ 3.65625 38.578125 10.390625 45.796875 \r\nQ 17.140625 53.03125 27.875 53.03125 \r\nQ 38.28125 53.03125 44.875 45.953125 \r\nQ 51.46875 38.875 51.46875 26.03125 \r\nQ 51.46875 25.25 51.421875 23.6875 \r\nL 12.75 23.6875 \r\nQ 13.234375 15.140625 17.578125 10.59375 \r\nQ 21.921875 6.0625 28.421875 6.0625 \r\nQ 33.25 6.0625 36.671875 8.59375 \r\nQ 40.09375 11.140625 42.09375 16.703125 \r\nz\r\nM 13.234375 30.90625 \r\nL 42.1875 30.90625 \r\nQ 41.609375 37.453125 38.875 40.71875 \r\nQ 34.671875 45.796875 27.984375 45.796875 \r\nQ 21.921875 45.796875 17.796875 41.75 \r\nQ 13.671875 37.703125 13.234375 30.90625 \r\nz\r\n\" id=\"ArialMT-101\"/>\r\n     </defs>\r\n     <g style=\"fill:#262626;\" transform=\"translate(619.899077 321.160625)scale(0.1 -0.1)\">\r\n      <use xlink:href=\"#ArialMT-35\"/>\r\n      <use x=\"55.615234\" xlink:href=\"#ArialMT-32\"/>\r\n      <use x=\"83.398438\" xlink:href=\"#ArialMT-114\"/>\r\n      <use x=\"116.699219\" xlink:href=\"#ArialMT-97\"/>\r\n      <use x=\"172.314453\" xlink:href=\"#ArialMT-116\"/>\r\n      <use x=\"200.097656\" xlink:href=\"#ArialMT-105\"/>\r\n      <use x=\"222.314453\" xlink:href=\"#ArialMT-110\"/>\r\n      <use x=\"277.929688\" xlink:href=\"#ArialMT-103\"/>\r\n      <use x=\"333.544922\" xlink:href=\"#ArialMT-115\"/>\r\n      <use x=\"383.544922\" xlink:href=\"#ArialMT-32\"/>\r\n      <use x=\"411.328125\" xlink:href=\"#ArialMT-112\"/>\r\n      <use x=\"466.943359\" xlink:href=\"#ArialMT-101\"/>\r\n      <use x=\"522.558594\" xlink:href=\"#ArialMT-114\"/>\r\n      <use x=\"555.859375\" xlink:href=\"#ArialMT-32\"/>\r\n      <use x=\"583.642578\" xlink:href=\"#ArialMT-117\"/>\r\n      <use x=\"639.257812\" xlink:href=\"#ArialMT-115\"/>\r\n      <use x=\"689.257812\" xlink:href=\"#ArialMT-101\"/>\r\n      <use x=\"744.873047\" xlink:href=\"#ArialMT-114\"/>\r\n     </g>\r\n    </g>\r\n   </g>\r\n   <g id=\"matplotlib.axis_4\">\r\n    <g id=\"ytick_9\">\r\n     <g id=\"line2d_18\">\r\n      <path clip-path=\"url(#pf431b13572)\" d=\"M 481.259091 293.735625 \r\nL 836.35 293.735625 \r\n\" style=\"fill:none;stroke:#cccccc;stroke-linecap:round;stroke-width:0.8;\"/>\r\n     </g>\r\n     <g id=\"text_27\">\r\n      <!-- 0.00 -->\r\n      <defs>\r\n       <path d=\"M 9.078125 0 \r\nL 9.078125 10.015625 \r\nL 19.09375 10.015625 \r\nL 19.09375 0 \r\nz\r\n\" id=\"ArialMT-46\"/>\r\n      </defs>\r\n      <g style=\"fill:#262626;\" transform=\"translate(454.798153 297.314531)scale(0.1 -0.1)\">\r\n       <use xlink:href=\"#ArialMT-48\"/>\r\n       <use x=\"55.615234\" xlink:href=\"#ArialMT-46\"/>\r\n       <use x=\"83.398438\" xlink:href=\"#ArialMT-48\"/>\r\n       <use x=\"139.013672\" xlink:href=\"#ArialMT-48\"/>\r\n      </g>\r\n     </g>\r\n    </g>\r\n    <g id=\"ytick_10\">\r\n     <g id=\"line2d_19\">\r\n      <path clip-path=\"url(#pf431b13572)\" d=\"M 481.259091 247.079387 \r\nL 836.35 247.079387 \r\n\" style=\"fill:none;stroke:#cccccc;stroke-linecap:round;stroke-width:0.8;\"/>\r\n     </g>\r\n     <g id=\"text_28\">\r\n      <!-- 0.02 -->\r\n      <g style=\"fill:#262626;\" transform=\"translate(454.798153 250.658293)scale(0.1 -0.1)\">\r\n       <use xlink:href=\"#ArialMT-48\"/>\r\n       <use x=\"55.615234\" xlink:href=\"#ArialMT-46\"/>\r\n       <use x=\"83.398438\" xlink:href=\"#ArialMT-48\"/>\r\n       <use x=\"139.013672\" xlink:href=\"#ArialMT-50\"/>\r\n      </g>\r\n     </g>\r\n    </g>\r\n    <g id=\"ytick_11\">\r\n     <g id=\"line2d_20\">\r\n      <path clip-path=\"url(#pf431b13572)\" d=\"M 481.259091 200.423149 \r\nL 836.35 200.423149 \r\n\" style=\"fill:none;stroke:#cccccc;stroke-linecap:round;stroke-width:0.8;\"/>\r\n     </g>\r\n     <g id=\"text_29\">\r\n      <!-- 0.04 -->\r\n      <g style=\"fill:#262626;\" transform=\"translate(454.798153 204.002055)scale(0.1 -0.1)\">\r\n       <use xlink:href=\"#ArialMT-48\"/>\r\n       <use x=\"55.615234\" xlink:href=\"#ArialMT-46\"/>\r\n       <use x=\"83.398438\" xlink:href=\"#ArialMT-48\"/>\r\n       <use x=\"139.013672\" xlink:href=\"#ArialMT-52\"/>\r\n      </g>\r\n     </g>\r\n    </g>\r\n    <g id=\"ytick_12\">\r\n     <g id=\"line2d_21\">\r\n      <path clip-path=\"url(#pf431b13572)\" d=\"M 481.259091 153.76691 \r\nL 836.35 153.76691 \r\n\" style=\"fill:none;stroke:#cccccc;stroke-linecap:round;stroke-width:0.8;\"/>\r\n     </g>\r\n     <g id=\"text_30\">\r\n      <!-- 0.06 -->\r\n      <g style=\"fill:#262626;\" transform=\"translate(454.798153 157.345817)scale(0.1 -0.1)\">\r\n       <use xlink:href=\"#ArialMT-48\"/>\r\n       <use x=\"55.615234\" xlink:href=\"#ArialMT-46\"/>\r\n       <use x=\"83.398438\" xlink:href=\"#ArialMT-48\"/>\r\n       <use x=\"139.013672\" xlink:href=\"#ArialMT-54\"/>\r\n      </g>\r\n     </g>\r\n    </g>\r\n    <g id=\"ytick_13\">\r\n     <g id=\"line2d_22\">\r\n      <path clip-path=\"url(#pf431b13572)\" d=\"M 481.259091 107.110672 \r\nL 836.35 107.110672 \r\n\" style=\"fill:none;stroke:#cccccc;stroke-linecap:round;stroke-width:0.8;\"/>\r\n     </g>\r\n     <g id=\"text_31\">\r\n      <!-- 0.08 -->\r\n      <g style=\"fill:#262626;\" transform=\"translate(454.798153 110.689578)scale(0.1 -0.1)\">\r\n       <use xlink:href=\"#ArialMT-48\"/>\r\n       <use x=\"55.615234\" xlink:href=\"#ArialMT-46\"/>\r\n       <use x=\"83.398438\" xlink:href=\"#ArialMT-48\"/>\r\n       <use x=\"139.013672\" xlink:href=\"#ArialMT-56\"/>\r\n      </g>\r\n     </g>\r\n    </g>\r\n    <g id=\"ytick_14\">\r\n     <g id=\"line2d_23\">\r\n      <path clip-path=\"url(#pf431b13572)\" d=\"M 481.259091 60.454434 \r\nL 836.35 60.454434 \r\n\" style=\"fill:none;stroke:#cccccc;stroke-linecap:round;stroke-width:0.8;\"/>\r\n     </g>\r\n     <g id=\"text_32\">\r\n      <!-- 0.10 -->\r\n      <g style=\"fill:#262626;\" transform=\"translate(454.798153 64.03334)scale(0.1 -0.1)\">\r\n       <use xlink:href=\"#ArialMT-48\"/>\r\n       <use x=\"55.615234\" xlink:href=\"#ArialMT-46\"/>\r\n       <use x=\"83.398438\" xlink:href=\"#ArialMT-49\"/>\r\n       <use x=\"139.013672\" xlink:href=\"#ArialMT-48\"/>\r\n      </g>\r\n     </g>\r\n    </g>\r\n    <g id=\"text_33\">\r\n     <!-- density -->\r\n     <defs>\r\n      <path d=\"M 40.234375 0 \r\nL 40.234375 6.546875 \r\nQ 35.296875 -1.171875 25.734375 -1.171875 \r\nQ 19.53125 -1.171875 14.328125 2.25 \r\nQ 9.125 5.671875 6.265625 11.796875 \r\nQ 3.421875 17.921875 3.421875 25.875 \r\nQ 3.421875 33.640625 6 39.96875 \r\nQ 8.59375 46.296875 13.765625 49.65625 \r\nQ 18.953125 53.03125 25.34375 53.03125 \r\nQ 30.03125 53.03125 33.6875 51.046875 \r\nQ 37.359375 49.078125 39.65625 45.90625 \r\nL 39.65625 71.578125 \r\nL 48.390625 71.578125 \r\nL 48.390625 0 \r\nz\r\nM 12.453125 25.875 \r\nQ 12.453125 15.921875 16.640625 10.984375 \r\nQ 20.84375 6.0625 26.5625 6.0625 \r\nQ 32.328125 6.0625 36.34375 10.765625 \r\nQ 40.375 15.484375 40.375 25.140625 \r\nQ 40.375 35.796875 36.265625 40.765625 \r\nQ 32.171875 45.75 26.171875 45.75 \r\nQ 20.3125 45.75 16.375 40.96875 \r\nQ 12.453125 36.1875 12.453125 25.875 \r\nz\r\n\" id=\"ArialMT-100\"/>\r\n      <path d=\"M 6.203125 -19.96875 \r\nL 5.21875 -11.71875 \r\nQ 8.109375 -12.5 10.25 -12.5 \r\nQ 13.1875 -12.5 14.9375 -11.515625 \r\nQ 16.703125 -10.546875 17.828125 -8.796875 \r\nQ 18.65625 -7.46875 20.515625 -2.25 \r\nQ 20.75 -1.515625 21.296875 -0.09375 \r\nL 1.609375 51.859375 \r\nL 11.078125 51.859375 \r\nL 21.875 21.828125 \r\nQ 23.96875 16.109375 25.640625 9.8125 \r\nQ 27.15625 15.875 29.25 21.625 \r\nL 40.328125 51.859375 \r\nL 49.125 51.859375 \r\nL 29.390625 -0.875 \r\nQ 26.21875 -9.421875 24.46875 -12.640625 \r\nQ 22.125 -17 19.09375 -19.015625 \r\nQ 16.0625 -21.046875 11.859375 -21.046875 \r\nQ 9.328125 -21.046875 6.203125 -19.96875 \r\nz\r\n\" id=\"ArialMT-121\"/>\r\n     </defs>\r\n     <g style=\"fill:#262626;\" transform=\"translate(448.693466 173.677031)rotate(-90)scale(0.1 -0.1)\">\r\n      <use xlink:href=\"#ArialMT-100\"/>\r\n      <use x=\"55.615234\" xlink:href=\"#ArialMT-101\"/>\r\n      <use x=\"111.230469\" xlink:href=\"#ArialMT-110\"/>\r\n      <use x=\"166.845703\" xlink:href=\"#ArialMT-115\"/>\r\n      <use x=\"216.845703\" xlink:href=\"#ArialMT-105\"/>\r\n      <use x=\"239.0625\" xlink:href=\"#ArialMT-116\"/>\r\n      <use x=\"266.845703\" xlink:href=\"#ArialMT-121\"/>\r\n     </g>\r\n    </g>\r\n   </g>\r\n   <g id=\"PolyCollection_1\">\r\n    <defs>\r\n     <path d=\"M 497.399587 -38.089839 \r\nL 497.399587 -36.729688 \r\nL 500.660293 -36.729688 \r\nL 503.920999 -36.729688 \r\nL 507.181705 -36.729688 \r\nL 510.442412 -36.729688 \r\nL 513.703118 -36.729688 \r\nL 516.963824 -36.729688 \r\nL 520.22453 -36.729688 \r\nL 523.485237 -36.729688 \r\nL 526.745943 -36.729688 \r\nL 530.006649 -36.729688 \r\nL 533.267355 -36.729688 \r\nL 536.528062 -36.729688 \r\nL 539.788768 -36.729688 \r\nL 543.049474 -36.729688 \r\nL 546.31018 -36.729688 \r\nL 549.570887 -36.729688 \r\nL 552.831593 -36.729688 \r\nL 556.092299 -36.729688 \r\nL 559.353005 -36.729688 \r\nL 562.613711 -36.729688 \r\nL 565.874418 -36.729688 \r\nL 569.135124 -36.729688 \r\nL 572.39583 -36.729688 \r\nL 575.656536 -36.729688 \r\nL 578.917243 -36.729688 \r\nL 582.177949 -36.729688 \r\nL 585.438655 -36.729688 \r\nL 588.699361 -36.729688 \r\nL 591.960068 -36.729688 \r\nL 595.220774 -36.729688 \r\nL 598.48148 -36.729688 \r\nL 601.742186 -36.729688 \r\nL 605.002893 -36.729688 \r\nL 608.263599 -36.729688 \r\nL 611.524305 -36.729688 \r\nL 614.785011 -36.729688 \r\nL 618.045718 -36.729688 \r\nL 621.306424 -36.729688 \r\nL 624.56713 -36.729688 \r\nL 627.827836 -36.729688 \r\nL 631.088542 -36.729688 \r\nL 634.349249 -36.729688 \r\nL 637.609955 -36.729688 \r\nL 640.870661 -36.729688 \r\nL 644.131367 -36.729688 \r\nL 647.392074 -36.729688 \r\nL 650.65278 -36.729688 \r\nL 653.913486 -36.729688 \r\nL 657.174192 -36.729688 \r\nL 660.434899 -36.729688 \r\nL 663.695605 -36.729688 \r\nL 666.956311 -36.729688 \r\nL 670.217017 -36.729688 \r\nL 673.477724 -36.729688 \r\nL 676.73843 -36.729688 \r\nL 679.999136 -36.729688 \r\nL 683.259842 -36.729688 \r\nL 686.520548 -36.729688 \r\nL 689.781255 -36.729688 \r\nL 693.041961 -36.729688 \r\nL 696.302667 -36.729688 \r\nL 699.563373 -36.729688 \r\nL 702.82408 -36.729688 \r\nL 706.084786 -36.729688 \r\nL 709.345492 -36.729688 \r\nL 712.606198 -36.729688 \r\nL 715.866905 -36.729688 \r\nL 719.127611 -36.729688 \r\nL 722.388317 -36.729688 \r\nL 725.649023 -36.729688 \r\nL 728.90973 -36.729688 \r\nL 732.170436 -36.729688 \r\nL 735.431142 -36.729688 \r\nL 738.691848 -36.729688 \r\nL 741.952554 -36.729688 \r\nL 745.213261 -36.729688 \r\nL 748.473967 -36.729688 \r\nL 751.734673 -36.729688 \r\nL 754.995379 -36.729688 \r\nL 758.256086 -36.729688 \r\nL 761.516792 -36.729688 \r\nL 764.777498 -36.729688 \r\nL 768.038204 -36.729688 \r\nL 771.298911 -36.729688 \r\nL 774.559617 -36.729688 \r\nL 777.820323 -36.729688 \r\nL 781.081029 -36.729688 \r\nL 784.341736 -36.729688 \r\nL 787.602442 -36.729688 \r\nL 790.863148 -36.729688 \r\nL 794.123854 -36.729688 \r\nL 797.38456 -36.729688 \r\nL 800.645267 -36.729688 \r\nL 803.905973 -36.729688 \r\nL 807.166679 -36.729688 \r\nL 810.427385 -36.729688 \r\nL 813.688092 -36.729688 \r\nL 816.948798 -36.729688 \r\nL 820.209504 -36.729688 \r\nL 820.209504 -36.733592 \r\nL 820.209504 -36.733592 \r\nL 816.948798 -36.759942 \r\nL 813.688092 -36.856147 \r\nL 810.427385 -37.014791 \r\nL 807.166679 -37.076385 \r\nL 803.905973 -36.957091 \r\nL 800.645267 -36.81014 \r\nL 797.38456 -36.74504 \r\nL 794.123854 -36.731268 \r\nL 790.863148 -36.729775 \r\nL 787.602442 -36.72969 \r\nL 784.341736 -36.729688 \r\nL 781.081029 -36.729688 \r\nL 777.820323 -36.729688 \r\nL 774.559617 -36.729688 \r\nL 771.298911 -36.729688 \r\nL 768.038204 -36.729688 \r\nL 764.777498 -36.729688 \r\nL 761.516792 -36.729688 \r\nL 758.256086 -36.729688 \r\nL 754.995379 -36.729688 \r\nL 751.734673 -36.729688 \r\nL 748.473967 -36.729688 \r\nL 745.213261 -36.729688 \r\nL 741.952554 -36.729688 \r\nL 738.691848 -36.729688 \r\nL 735.431142 -36.729688 \r\nL 732.170436 -36.729688 \r\nL 728.90973 -36.729688 \r\nL 725.649023 -36.729688 \r\nL 722.388317 -36.729688 \r\nL 719.127611 -36.729688 \r\nL 715.866905 -36.729688 \r\nL 712.606198 -36.729688 \r\nL 709.345492 -36.729688 \r\nL 706.084786 -36.729688 \r\nL 702.82408 -36.729688 \r\nL 699.563373 -36.729688 \r\nL 696.302667 -36.729688 \r\nL 693.041961 -36.729688 \r\nL 689.781255 -36.72969 \r\nL 686.520548 -36.729773 \r\nL 683.259842 -36.731241 \r\nL 679.999136 -36.744846 \r\nL 676.73843 -36.809439 \r\nL 673.477724 -36.956014 \r\nL 670.217017 -37.076127 \r\nL 666.956311 -37.01572 \r\nL 663.695605 -36.857067 \r\nL 660.434899 -36.760285 \r\nL 657.174192 -36.733652 \r\nL 653.913486 -36.729976 \r\nL 650.65278 -36.729999 \r\nL 647.392074 -36.733928 \r\nL 644.131367 -36.762089 \r\nL 640.870661 -36.8654 \r\nL 637.609955 -37.052843 \r\nL 634.349249 -37.21362 \r\nL 631.088542 -37.286492 \r\nL 627.827836 -37.345151 \r\nL 624.56713 -37.458053 \r\nL 621.306424 -37.567166 \r\nL 618.045718 -37.616698 \r\nL 614.785011 -37.811192 \r\nL 611.524305 -38.172105 \r\nL 608.263599 -38.328538 \r\nL 605.002893 -38.10852 \r\nL 601.742186 -37.870575 \r\nL 598.48148 -38.032765 \r\nL 595.220774 -38.494797 \r\nL 591.960068 -38.91884 \r\nL 588.699361 -39.21487 \r\nL 585.438655 -39.338421 \r\nL 582.177949 -39.12636 \r\nL 578.917243 -38.588945 \r\nL 575.656536 -38.173664 \r\nL 572.39583 -38.400532 \r\nL 569.135124 -39.371085 \r\nL 565.874418 -40.955616 \r\nL 562.613711 -42.596646 \r\nL 559.353005 -43.617884 \r\nL 556.092299 -44.60902 \r\nL 552.831593 -46.52537 \r\nL 549.570887 -49.598745 \r\nL 546.31018 -53.871577 \r\nL 543.049474 -58.965606 \r\nL 539.788768 -64.673173 \r\nL 536.528062 -72.07118 \r\nL 533.267355 -82.283853 \r\nL 530.006649 -95.827729 \r\nL 526.745943 -114.600492 \r\nL 523.485237 -143.439189 \r\nL 520.22453 -188.540425 \r\nL 516.963824 -248.664227 \r\nL 513.703118 -295.58683 \r\nL 510.442412 -274.735367 \r\nL 507.181705 -181.276452 \r\nL 503.920999 -90.000847 \r\nL 500.660293 -48.079115 \r\nL 497.399587 -38.089839 \r\nz\r\n\" id=\"m876a57562f\" style=\"stroke:#ffffff;stroke-opacity:0.25;\"/>\r\n    </defs>\r\n    <g clip-path=\"url(#pf431b13572)\">\r\n     <use style=\"fill:#1f77b4;fill-opacity:0.25;stroke:#ffffff;stroke-opacity:0.25;\" x=\"0\" xlink:href=\"#m876a57562f\" y=\"330.465312\"/>\r\n    </g>\r\n   </g>\r\n   <g id=\"line2d_24\">\r\n    <path clip-path=\"url(#pf431b13572)\" d=\"M 497.399587 292.375474 \r\nL 500.660293 282.386198 \r\nL 503.920999 240.464465 \r\nL 507.181705 149.188861 \r\nL 510.442412 55.729946 \r\nL 513.703118 34.878482 \r\nL 516.963824 81.801085 \r\nL 520.22453 141.924887 \r\nL 523.485237 187.026123 \r\nL 526.745943 215.864821 \r\nL 530.006649 234.637584 \r\nL 533.267355 248.181459 \r\nL 536.528062 258.394132 \r\nL 539.788768 265.792139 \r\nL 543.049474 271.499707 \r\nL 546.31018 276.593736 \r\nL 549.570887 280.866568 \r\nL 552.831593 283.939943 \r\nL 556.092299 285.856292 \r\nL 559.353005 286.847428 \r\nL 562.613711 287.868666 \r\nL 565.874418 289.509696 \r\nL 569.135124 291.094228 \r\nL 572.39583 292.06478 \r\nL 575.656536 292.291648 \r\nL 578.917243 291.876367 \r\nL 582.177949 291.338953 \r\nL 585.438655 291.126892 \r\nL 588.699361 291.250442 \r\nL 591.960068 291.546473 \r\nL 595.220774 291.970516 \r\nL 598.48148 292.432547 \r\nL 601.742186 292.594737 \r\nL 605.002893 292.356792 \r\nL 608.263599 292.136775 \r\nL 611.524305 292.293208 \r\nL 614.785011 292.65412 \r\nL 618.045718 292.848615 \r\nL 621.306424 292.898147 \r\nL 624.56713 293.007259 \r\nL 627.827836 293.120161 \r\nL 631.088542 293.17882 \r\nL 634.349249 293.251693 \r\nL 637.609955 293.41247 \r\nL 640.870661 293.599912 \r\nL 644.131367 293.703224 \r\nL 647.392074 293.731384 \r\nL 650.65278 293.735314 \r\nL 653.913486 293.735336 \r\nL 657.174192 293.731661 \r\nL 660.434899 293.705028 \r\nL 663.695605 293.608245 \r\nL 666.956311 293.449593 \r\nL 670.217017 293.389186 \r\nL 673.477724 293.509298 \r\nL 676.73843 293.655873 \r\nL 679.999136 293.720467 \r\nL 683.259842 293.734071 \r\nL 686.520548 293.735539 \r\nL 689.781255 293.735622 \r\nL 693.041961 293.735625 \r\nL 696.302667 293.735625 \r\nL 699.563373 293.735625 \r\nL 702.82408 293.735625 \r\nL 706.084786 293.735625 \r\nL 709.345492 293.735625 \r\nL 712.606198 293.735625 \r\nL 715.866905 293.735625 \r\nL 719.127611 293.735625 \r\nL 722.388317 293.735625 \r\nL 725.649023 293.735625 \r\nL 728.90973 293.735625 \r\nL 732.170436 293.735625 \r\nL 735.431142 293.735625 \r\nL 738.691848 293.735625 \r\nL 741.952554 293.735625 \r\nL 745.213261 293.735625 \r\nL 748.473967 293.735625 \r\nL 751.734673 293.735625 \r\nL 754.995379 293.735625 \r\nL 758.256086 293.735625 \r\nL 761.516792 293.735625 \r\nL 764.777498 293.735625 \r\nL 768.038204 293.735625 \r\nL 771.298911 293.735625 \r\nL 774.559617 293.735625 \r\nL 777.820323 293.735625 \r\nL 781.081029 293.735625 \r\nL 784.341736 293.735625 \r\nL 787.602442 293.735622 \r\nL 790.863148 293.735537 \r\nL 794.123854 293.734045 \r\nL 797.38456 293.720273 \r\nL 800.645267 293.655173 \r\nL 803.905973 293.508222 \r\nL 807.166679 293.388927 \r\nL 810.427385 293.450522 \r\nL 813.688092 293.609166 \r\nL 816.948798 293.70537 \r\nL 820.209504 293.731721 \r\n\" style=\"fill:none;stroke:#1f77b4;stroke-linecap:round;stroke-width:1.5;\"/>\r\n   </g>\r\n   <g id=\"line2d_25\">\r\n    <path clip-path=\"url(#pf431b13572)\" d=\"M 520.825259 293.735625 \r\nL 520.825259 21.935625 \r\n\" style=\"fill:none;stroke:#000000;stroke-dasharray:5.55,2.4;stroke-dashoffset:0;stroke-width:1.5;\"/>\r\n   </g>\r\n   <g id=\"patch_13\">\r\n    <path d=\"M 481.259091 293.735625 \r\nL 481.259091 21.935625 \r\n\" style=\"fill:none;stroke:#cccccc;stroke-linecap:square;stroke-linejoin:miter;stroke-width:0.8;\"/>\r\n   </g>\r\n   <g id=\"patch_14\">\r\n    <path d=\"M 836.35 293.735625 \r\nL 836.35 21.935625 \r\n\" style=\"fill:none;stroke:#cccccc;stroke-linecap:square;stroke-linejoin:miter;stroke-width:0.8;\"/>\r\n   </g>\r\n   <g id=\"patch_15\">\r\n    <path d=\"M 481.259091 293.735625 \r\nL 836.35 293.735625 \r\n\" style=\"fill:none;stroke:#cccccc;stroke-linecap:square;stroke-linejoin:miter;stroke-width:0.8;\"/>\r\n   </g>\r\n   <g id=\"patch_16\">\r\n    <path d=\"M 481.259091 21.935625 \r\nL 836.35 21.935625 \r\n\" style=\"fill:none;stroke:#cccccc;stroke-linecap:square;stroke-linejoin:miter;stroke-width:0.8;\"/>\r\n   </g>\r\n   <g id=\"text_34\">\r\n    <!-- Number of books rated per user -->\r\n    <defs>\r\n     <path d=\"M 7.625 0 \r\nL 7.625 71.578125 \r\nL 17.328125 71.578125 \r\nL 54.9375 15.375 \r\nL 54.9375 71.578125 \r\nL 64.015625 71.578125 \r\nL 64.015625 0 \r\nL 54.296875 0 \r\nL 16.703125 56.25 \r\nL 16.703125 0 \r\nz\r\n\" id=\"ArialMT-78\"/>\r\n     <path d=\"M 6.59375 0 \r\nL 6.59375 51.859375 \r\nL 14.453125 51.859375 \r\nL 14.453125 44.578125 \r\nQ 16.890625 48.390625 20.9375 50.703125 \r\nQ 25 53.03125 30.171875 53.03125 \r\nQ 35.9375 53.03125 39.625 50.640625 \r\nQ 43.3125 48.25 44.828125 43.953125 \r\nQ 50.984375 53.03125 60.84375 53.03125 \r\nQ 68.5625 53.03125 72.703125 48.75 \r\nQ 76.859375 44.484375 76.859375 35.59375 \r\nL 76.859375 0 \r\nL 68.109375 0 \r\nL 68.109375 32.671875 \r\nQ 68.109375 37.9375 67.25 40.25 \r\nQ 66.40625 42.578125 64.15625 43.984375 \r\nQ 61.921875 45.40625 58.890625 45.40625 \r\nQ 53.421875 45.40625 49.796875 41.765625 \r\nQ 46.1875 38.140625 46.1875 30.125 \r\nL 46.1875 0 \r\nL 37.40625 0 \r\nL 37.40625 33.6875 \r\nQ 37.40625 39.546875 35.25 42.46875 \r\nQ 33.109375 45.40625 28.21875 45.40625 \r\nQ 24.515625 45.40625 21.359375 43.453125 \r\nQ 18.21875 41.5 16.796875 37.734375 \r\nQ 15.375 33.984375 15.375 26.90625 \r\nL 15.375 0 \r\nz\r\n\" id=\"ArialMT-109\"/>\r\n    </defs>\r\n    <g style=\"fill:#262626;\" transform=\"translate(574.102358 15.935625)scale(0.12 -0.12)\">\r\n     <use xlink:href=\"#ArialMT-78\"/>\r\n     <use x=\"72.216797\" xlink:href=\"#ArialMT-117\"/>\r\n     <use x=\"127.832031\" xlink:href=\"#ArialMT-109\"/>\r\n     <use x=\"211.132812\" xlink:href=\"#ArialMT-98\"/>\r\n     <use x=\"266.748047\" xlink:href=\"#ArialMT-101\"/>\r\n     <use x=\"322.363281\" xlink:href=\"#ArialMT-114\"/>\r\n     <use x=\"355.664062\" xlink:href=\"#ArialMT-32\"/>\r\n     <use x=\"383.447266\" xlink:href=\"#ArialMT-111\"/>\r\n     <use x=\"439.0625\" xlink:href=\"#ArialMT-102\"/>\r\n     <use x=\"466.845703\" xlink:href=\"#ArialMT-32\"/>\r\n     <use x=\"494.628906\" xlink:href=\"#ArialMT-98\"/>\r\n     <use x=\"550.244141\" xlink:href=\"#ArialMT-111\"/>\r\n     <use x=\"605.859375\" xlink:href=\"#ArialMT-111\"/>\r\n     <use x=\"661.474609\" xlink:href=\"#ArialMT-107\"/>\r\n     <use x=\"711.474609\" xlink:href=\"#ArialMT-115\"/>\r\n     <use x=\"761.474609\" xlink:href=\"#ArialMT-32\"/>\r\n     <use x=\"789.257812\" xlink:href=\"#ArialMT-114\"/>\r\n     <use x=\"822.558594\" xlink:href=\"#ArialMT-97\"/>\r\n     <use x=\"878.173828\" xlink:href=\"#ArialMT-116\"/>\r\n     <use x=\"905.957031\" xlink:href=\"#ArialMT-101\"/>\r\n     <use x=\"961.572266\" xlink:href=\"#ArialMT-100\"/>\r\n     <use x=\"1017.1875\" xlink:href=\"#ArialMT-32\"/>\r\n     <use x=\"1044.970703\" xlink:href=\"#ArialMT-112\"/>\r\n     <use x=\"1100.585938\" xlink:href=\"#ArialMT-101\"/>\r\n     <use x=\"1156.201172\" xlink:href=\"#ArialMT-114\"/>\r\n     <use x=\"1189.501953\" xlink:href=\"#ArialMT-32\"/>\r\n     <use x=\"1217.285156\" xlink:href=\"#ArialMT-117\"/>\r\n     <use x=\"1272.900391\" xlink:href=\"#ArialMT-115\"/>\r\n     <use x=\"1322.900391\" xlink:href=\"#ArialMT-101\"/>\r\n     <use x=\"1378.515625\" xlink:href=\"#ArialMT-114\"/>\r\n    </g>\r\n   </g>\r\n  </g>\r\n </g>\r\n <defs>\r\n  <clipPath id=\"p8e81b7547a\">\r\n   <rect height=\"271.8\" width=\"355.090909\" x=\"55.15\" y=\"21.935625\"/>\r\n  </clipPath>\r\n  <clipPath id=\"pf431b13572\">\r\n   <rect height=\"271.8\" width=\"355.090909\" x=\"481.259091\" y=\"21.935625\"/>\r\n  </clipPath>\r\n </defs>\r\n</svg>\r\n",
      "image/png": "[encoded data removed]"
     },
     "metadata": {}
    }
   ],
   "source": [
    "sns.set_style(\"whitegrid\")\n",
    "plt.figure(figsize=(14,5))\n",
    "plt.subplot(1,2,1)\n",
    "ax = sns.countplot(x=\"stars\", data=ratings, palette=\"viridis\")\n",
    "plt.title(\"Distribution of book ratings\")\n",
    "\n",
    "plt.subplot(1,2,2)\n",
    "ax = sns.kdeplot(user_freq['n_ratings'], shade=True, legend=False)\n",
    "plt.axvline(user_freq['n_ratings'].mean(), color=\"k\", linestyle=\"--\")\n",
    "plt.xlabel(\"# ratings per user\")\n",
    "plt.ylabel(\"density\")\n",
    "plt.title(\"Number of books rated per user\")\n",
    "plt.show()"
   ]
  },
  {
   "source": [
    "### Which book has the lowest and highest average rating?"
   ],
   "cell_type": "markdown",
   "metadata": {}
  },
  {
   "cell_type": "code",
   "execution_count": 174,
   "metadata": {},
   "outputs": [
    {
     "output_type": "execute_result",
     "data": {
      "text/plain": [
       "array([[591603, 'Quất Trung Bí Tân Chú (Tái Bản)',\n",
       "        'Sách Kiến Thức Tổng Hợp', ' Thể Dục - Thể Thao']], dtype=object)"
      ]
     },
     "metadata": {},
     "execution_count": 174
    }
   ],
   "source": [
    "mean_rating = ratings.groupby('product_id')[['stars']].mean()\n",
    "\n",
    "lowest_rated = mean_rating['stars'].idxmin()\n",
    "books.loc[books['id'] == lowest_rated].values"
   ]
  },
  {
   "cell_type": "code",
   "execution_count": 175,
   "metadata": {},
   "outputs": [
    {
     "output_type": "execute_result",
     "data": {
      "text/plain": [
       "array([[335337, 'Tôi Tài Giỏi - Bạn Cũng Thế', 'Sách kỹ năng sống',\n",
       "        ' Sách nghệ thuật sống đẹp']], dtype=object)"
      ]
     },
     "metadata": {},
     "execution_count": 175
    }
   ],
   "source": [
    "highest_rated = mean_rating['stars'].idxmax()\n",
    "books.loc[books['id'] == highest_rated].values"
   ]
  },
  {
   "cell_type": "code",
   "execution_count": 176,
   "metadata": {},
   "outputs": [
    {
     "output_type": "execute_result",
     "data": {
      "text/plain": [
       "       product_id                                            content  \\\n",
       "13228      335337  Nhờ nó mà tôi đã đậu đại học. Nếu khôn...   \n",
       "13229      335337  Sách này là cuốn rất nổi tiếng của Adam Khoo, ...   \n",
       "\n",
       "       customer_id     user_name  stars  comment_id  \n",
       "13228       920424   Oanh nguyen      5      409868  \n",
       "13229       861781  Trần Đức Tân      5      397778  "
      ],
      "text/html": "<div>\n<style scoped>\n    .dataframe tbody tr th:only-of-type {\n        vertical-align: middle;\n    }\n\n    .dataframe tbody tr th {\n        vertical-align: top;\n    }\n\n    .dataframe thead th {\n        text-align: right;\n    }\n</style>\n<table border=\"1\" class=\"dataframe\">\n  <thead>\n    <tr style=\"text-align: right;\">\n      <th></th>\n      <th>product_id</th>\n      <th>content</th>\n      <th>customer_id</th>\n      <th>user_name</th>\n      <th>stars</th>\n      <th>comment_id</th>\n    </tr>\n  </thead>\n  <tbody>\n    <tr>\n      <th>13228</th>\n      <td>335337</td>\n      <td>Nhờ nó mà tôi đã đậu đại học. Nếu khôn...</td>\n      <td>920424</td>\n      <td>Oanh nguyen</td>\n      <td>5</td>\n      <td>409868</td>\n    </tr>\n    <tr>\n      <th>13229</th>\n      <td>335337</td>\n      <td>Sách này là cuốn rất nổi tiếng của Adam Khoo, ...</td>\n      <td>861781</td>\n      <td>Trần Đức Tân</td>\n      <td>5</td>\n      <td>397778</td>\n    </tr>\n  </tbody>\n</table>\n</div>"
     },
     "metadata": {},
     "execution_count": 176
    }
   ],
   "source": [
    "ratings[ratings['product_id']==highest_rated]"
   ]
  },
  {
   "source": [
    "this product has only 1 ratings. A better approach for evaluating book popularity is to look at the Bayesian average.\n",
    "\n",
    "Bayesian Average\n",
    "Bayesian Average is defined as:\n",
    "\n",
    "$r_{i} = \\frac{C \\times m + \\Sigma{\\text{reviews}}}{C+N}$\n",
    "\n",
    "where $C$ represents our confidence, $m$ represents our prior, and $N$ is the total number of reviews for book $i$. In this case, our prior will be the average rating across all books. By defintion, C represents \"the typical dataset size\". Let's make $C$ be the average number of ratings for a given book."
   ],
   "cell_type": "markdown",
   "metadata": {}
  },
  {
   "cell_type": "code",
   "execution_count": 177,
   "metadata": {},
   "outputs": [],
   "source": [
    "book_stats = ratings.groupby('product_id')[['stars']].agg(['count', 'mean'])\n",
    "book_stats.columns = book_stats.columns.droplevel()"
   ]
  },
  {
   "cell_type": "code",
   "execution_count": 178,
   "metadata": {},
   "outputs": [],
   "source": [
    "C = book_stats['count'].mean()\n",
    "m = book_stats['mean'].mean()\n",
    "\n",
    "def bayesian_avg(ratings):\n",
    "    bayesian_avg = (C*m+ratings.sum())/(C+ratings.count())\n",
    "    return bayesian_avg\n",
    "\n",
    "bayesian_avg_ratings = ratings.groupby('product_id')['stars'].agg(bayesian_avg).reset_index()\n",
    "bayesian_avg_ratings.columns = ['product_id', 'bayesian_avg']\n",
    "book_stats = book_stats.merge(bayesian_avg_ratings, on='product_id')"
   ]
  },
  {
   "cell_type": "code",
   "execution_count": 179,
   "metadata": {},
   "outputs": [],
   "source": [
    "books.rename(columns={'id': 'product_id'}, inplace=True)"
   ]
  },
  {
   "cell_type": "code",
   "execution_count": 180,
   "metadata": {},
   "outputs": [
    {
     "output_type": "execute_result",
     "data": {
      "text/plain": [
       "      product_id  count  mean  bayesian_avg  \\\n",
       "4638    54378885     36   5.0      4.971873   \n",
       "4431    51314912     30   5.0      4.966901   \n",
       "4365    50350077     25   5.0      4.961183   \n",
       "4975    58168943     23   5.0      4.958301   \n",
       "2391    10392851     22   5.0      4.956694   \n",
       "\n",
       "                                                   name  \n",
       "4638  Thanh Gươm Diệt Quỷ Tập 6: Phát Xét Của Các Tr...  \n",
       "4431        Thanh Gươm Diệt Quỷ - Tập 5: Xuống Địa Ngục  \n",
       "4365       Thanh Gươm Diệt Quỷ Tập 4: Lưỡi Gươm Mạnh Mẽ  \n",
       "4975              Thanh Gươm Diệt Quỷ Tập 11: Hỗn Chiến  \n",
       "2391                     Tôi Thấy Hoa Vàng Trên Cỏ Xanh  "
      ],
      "text/html": "<div>\n<style scoped>\n    .dataframe tbody tr th:only-of-type {\n        vertical-align: middle;\n    }\n\n    .dataframe tbody tr th {\n        vertical-align: top;\n    }\n\n    .dataframe thead th {\n        text-align: right;\n    }\n</style>\n<table border=\"1\" class=\"dataframe\">\n  <thead>\n    <tr style=\"text-align: right;\">\n      <th></th>\n      <th>product_id</th>\n      <th>count</th>\n      <th>mean</th>\n      <th>bayesian_avg</th>\n      <th>name</th>\n    </tr>\n  </thead>\n  <tbody>\n    <tr>\n      <th>4638</th>\n      <td>54378885</td>\n      <td>36</td>\n      <td>5.0</td>\n      <td>4.971873</td>\n      <td>Thanh Gươm Diệt Quỷ Tập 6: Phát Xét Của Các Tr...</td>\n    </tr>\n    <tr>\n      <th>4431</th>\n      <td>51314912</td>\n      <td>30</td>\n      <td>5.0</td>\n      <td>4.966901</td>\n      <td>Thanh Gươm Diệt Quỷ - Tập 5: Xuống Địa Ngục</td>\n    </tr>\n    <tr>\n      <th>4365</th>\n      <td>50350077</td>\n      <td>25</td>\n      <td>5.0</td>\n      <td>4.961183</td>\n      <td>Thanh Gươm Diệt Quỷ Tập 4: Lưỡi Gươm Mạnh Mẽ</td>\n    </tr>\n    <tr>\n      <th>4975</th>\n      <td>58168943</td>\n      <td>23</td>\n      <td>5.0</td>\n      <td>4.958301</td>\n      <td>Thanh Gươm Diệt Quỷ Tập 11: Hỗn Chiến</td>\n    </tr>\n    <tr>\n      <th>2391</th>\n      <td>10392851</td>\n      <td>22</td>\n      <td>5.0</td>\n      <td>4.956694</td>\n      <td>Tôi Thấy Hoa Vàng Trên Cỏ Xanh</td>\n    </tr>\n  </tbody>\n</table>\n</div>"
     },
     "metadata": {},
     "execution_count": 180
    }
   ],
   "source": [
    "book_stats = book_stats.merge(books[['product_id', 'name']])\n",
    "book_stats.sort_values('bayesian_avg', ascending=False).head()"
   ]
  },
  {
   "cell_type": "code",
   "execution_count": 181,
   "metadata": {},
   "outputs": [
    {
     "output_type": "execute_result",
     "data": {
      "text/plain": [
       "      product_id  count      mean  bayesian_avg  \\\n",
       "3580    34180324      2  2.000000      3.801161   \n",
       "2332    10076516      3  2.666667      3.829804   \n",
       "1699     3643493      3  2.666667      3.829804   \n",
       "3607    34935355      4  3.000000      3.851234   \n",
       "1520     2619495      1  1.000000      3.963276   \n",
       "\n",
       "                                                   name  \n",
       "3580                       Chỉ Thời Gian Có Thể Cất Lời  \n",
       "2332                            Long Thần Tướng - Tập 4  \n",
       "1699  At Home With Madame Chic - Thanh Lịch Từ Những...  \n",
       "3607  Đầu Tư - Kế Hoạch 12 Tháng Đến Với Tự Do Tài C...  \n",
       "1520       Mẹ Việt Dạy Con Bước Cùng Toàn Cầu (Tái Bản)  "
      ],
      "text/html": "<div>\n<style scoped>\n    .dataframe tbody tr th:only-of-type {\n        vertical-align: middle;\n    }\n\n    .dataframe tbody tr th {\n        vertical-align: top;\n    }\n\n    .dataframe thead th {\n        text-align: right;\n    }\n</style>\n<table border=\"1\" class=\"dataframe\">\n  <thead>\n    <tr style=\"text-align: right;\">\n      <th></th>\n      <th>product_id</th>\n      <th>count</th>\n      <th>mean</th>\n      <th>bayesian_avg</th>\n      <th>name</th>\n    </tr>\n  </thead>\n  <tbody>\n    <tr>\n      <th>3580</th>\n      <td>34180324</td>\n      <td>2</td>\n      <td>2.000000</td>\n      <td>3.801161</td>\n      <td>Chỉ Thời Gian Có Thể Cất Lời</td>\n    </tr>\n    <tr>\n      <th>2332</th>\n      <td>10076516</td>\n      <td>3</td>\n      <td>2.666667</td>\n      <td>3.829804</td>\n      <td>Long Thần Tướng - Tập 4</td>\n    </tr>\n    <tr>\n      <th>1699</th>\n      <td>3643493</td>\n      <td>3</td>\n      <td>2.666667</td>\n      <td>3.829804</td>\n      <td>At Home With Madame Chic - Thanh Lịch Từ Những...</td>\n    </tr>\n    <tr>\n      <th>3607</th>\n      <td>34935355</td>\n      <td>4</td>\n      <td>3.000000</td>\n      <td>3.851234</td>\n      <td>Đầu Tư - Kế Hoạch 12 Tháng Đến Với Tự Do Tài C...</td>\n    </tr>\n    <tr>\n      <th>1520</th>\n      <td>2619495</td>\n      <td>1</td>\n      <td>1.000000</td>\n      <td>3.963276</td>\n      <td>Mẹ Việt Dạy Con Bước Cùng Toàn Cầu (Tái Bản)</td>\n    </tr>\n  </tbody>\n</table>\n</div>"
     },
     "metadata": {},
     "execution_count": 181
    }
   ],
   "source": [
    "book_stats.sort_values('bayesian_avg', ascending=True).head()"
   ]
  },
  {
   "source": [
    "# Transform the data"
   ],
   "cell_type": "markdown",
   "metadata": {}
  },
  {
   "source": [
    "The create_X() function outputs a sparse matrix X with four mapper dictionaries:\n",
    "\n",
    "- user_mapper: maps user id to user index\n",
    "- book_mapper: maps book id to book index\n",
    "- user_inv_mapper: maps user index to user id\n",
    "- book_inv_mapper: maps book index to book id\n",
    "\n",
    "The X (user-item) matrix is a scipy.sparse.csr_matrix which stores the data sparsely.\n"
   ],
   "cell_type": "markdown",
   "metadata": {}
  },
  {
   "cell_type": "code",
   "execution_count": 182,
   "metadata": {},
   "outputs": [],
   "source": [
    "from scipy.sparse import csr_matrix\n",
    "\n",
    "def create_X(df):\n",
    "    \"\"\"\n",
    "    Generates a sparse matrix from ratings dataframe.\n",
    "    \n",
    "    Args:\n",
    "        df: pandas dataframe\n",
    "    \n",
    "    Returns:\n",
    "        X: sparse matrix\n",
    "        user_mapper: dict that maps user id's to user indices\n",
    "        user_inv_mapper: dict that maps user indices to user id's\n",
    "        book_mapper: dict that maps book id's to book indices\n",
    "        book_inv_mapper: dict that maps book indices to book id's\n",
    "    \"\"\"\n",
    "    N = df['customer_id'].nunique()\n",
    "    M = df['product_id'].nunique()\n",
    "\n",
    "    user_mapper = dict(zip(np.unique(df[\"customer_id\"]), list(range(N))))\n",
    "    book_mapper = dict(zip(np.unique(df[\"product_id\"]), list(range(M))))\n",
    "    \n",
    "    user_inv_mapper = dict(zip(list(range(N)), np.unique(df[\"customer_id\"])))\n",
    "    book_inv_mapper = dict(zip(list(range(M)), np.unique(df[\"product_id\"])))\n",
    "    \n",
    "    user_index = [user_mapper[i] for i in df['customer_id']]\n",
    "    book_index = [book_mapper[i] for i in df['product_id']]\n",
    "\n",
    "    X = csr_matrix((df[\"stars\"], (book_index, user_index)), shape=(M, N))\n",
    "    \n",
    "    return X, user_mapper, book_mapper, user_inv_mapper, book_inv_mapper"
   ]
  },
  {
   "cell_type": "code",
   "execution_count": 183,
   "metadata": {},
   "outputs": [],
   "source": [
    "X, user_mapper, book_mapper, user_inv_mapper, book_inv_mapper = create_X(ratings)"
   ]
  },
  {
   "source": [
    "Let's check out the sparsity of our X matrix.\n",
    "\n",
    "Here, we calculate sparsity by dividing the number of non-zero elements by total number of elements as described in the equation below:\n",
    "\n",
    "$$S=\\frac{\\text{# non-zero elements}}{\\text{total elements}}$$"
   ],
   "cell_type": "markdown",
   "metadata": {}
  },
  {
   "cell_type": "code",
   "execution_count": 184,
   "metadata": {},
   "outputs": [
    {
     "output_type": "stream",
     "name": "stdout",
     "text": [
      "Matrix sparsity: 0.29%\n"
     ]
    }
   ],
   "source": [
    "sparsity = X.count_nonzero()/(X.shape[0]*X.shape[1])\n",
    "\n",
    "print(f\"Matrix sparsity: {round(sparsity*100,2)}%\")"
   ]
  },
  {
   "source": [
    "Only 0.02 of cells in our user-item matrix are populated with ratings. But don't be discouraged by this sparsity! User-item matrices are typically very sparse. A general rule of thumb is that your matrix sparsity should be no lower than 0.5% to generate decent results."
   ],
   "cell_type": "markdown",
   "metadata": {}
  },
  {
   "source": [
    "## Writing your matrix to a file\n",
    "We're going to save our user-item matrix for the next part of this tutorial series. Since our matrix is represented as a scipy sparse matrix, we can use the scipy.sparse.save_npz method to write the matrix to a file."
   ],
   "cell_type": "markdown",
   "metadata": {}
  },
  {
   "cell_type": "code",
   "execution_count": 187,
   "metadata": {},
   "outputs": [],
   "source": [
    "from scipy.sparse import save_npz\n",
    "\n",
    "save_npz('../Data/user_item_matrix.npz', X)"
   ]
  },
  {
   "source": [
    "# Finding similar movies using k-Nearest Neighbours\n",
    "This approach looks for the $k$ nearest neighbours of a given movie by identifying $k$ points in the dataset that are closest to movie $m$. kNN makes use of distance metrics such as:\n",
    "\n",
    "1. Cosine similarity\n",
    "2. Euclidean distance\n",
    "3. Manhattan distance\n",
    "4. Pearson correlation\n",
    "\n",
    "Although difficult to visualize, we are working in a M-dimensional space where M represents the number of movies in our X matrix."
   ],
   "cell_type": "markdown",
   "metadata": {}
  },
  {
   "cell_type": "code",
   "execution_count": 188,
   "metadata": {},
   "outputs": [],
   "source": [
    "from sklearn.neighbors import NearestNeighbors\n",
    "\n",
    "def find_similar_movies(product_id, X, k, metric='cosine', show_distance=False):\n",
    "    \"\"\"\n",
    "    Finds k-nearest neighbours for a given movie id.\n",
    "    \n",
    "    Args:\n",
    "        movie_id: id of the movie of interest\n",
    "        X: user-item utility matrix\n",
    "        k: number of similar movies to retrieve\n",
    "        metric: distance metric for kNN calculations\n",
    "    \n",
    "    Returns:\n",
    "        list of k similar movie ID's\n",
    "    \"\"\"\n",
    "    neighbour_ids = []\n",
    "    \n",
    "    book_ind = book_mapper[product_id]\n",
    "    book_vec = X[book_ind]\n",
    "    k+=1\n",
    "    kNN = NearestNeighbors(n_neighbors=k, algorithm=\"brute\", metric=metric)\n",
    "    kNN.fit(X)\n",
    "    if isinstance(book_vec, (np.ndarray)):\n",
    "        book_vec = book_vec.reshape(1,-1)\n",
    "    neighbour = kNN.kneighbors(book_vec, return_distance=show_distance)\n",
    "    for i in range(0,k):\n",
    "        n = neighbour.item(i)\n",
    "        neighbour_ids.append(book_inv_mapper[n])\n",
    "    neighbour_ids.pop(0)\n",
    "    return neighbour_ids"
   ]
  },
  {
   "cell_type": "code",
   "execution_count": 190,
   "metadata": {},
   "outputs": [
    {
     "output_type": "stream",
     "name": "stdout",
     "text": [
      "Because you watched Tôi Tài Giỏi - Bạn Cũng Thế\nDạy Con Làm Giàu VII - Ai Đã Lấy Tiền Của Tôi? (Tái Bản 2012)\nĐột Phá Mindmap - Tư Duy Đọc Hiểu Môn Ngữ Văn Bằng Hình Ảnh Lớp 12\nLuyện Siêu Trí Nhớ Từ Vựng Tiếng Anh (Dùng Kèm App)\nĐời Ngắn Đừng Ngủ Dài\nBa Người Thầy Vĩ Đại\nCuốn Sách Nhỏ Cho Nhà Lãnh Đạo Lớn\nTình Bạn Là...\nTrâm - Nữ Hoạn Quan (Tái Bản 2018)\nHãy Chăm Sóc Mẹ (Tái Bản)\nHẹn Bạn Trên Đỉnh Thành Công (Tái bản 2016)\n"
     ]
    }
   ],
   "source": [
    "book_titles = dict(zip(books['product_id'], books['name']))\n",
    "\n",
    "book_id = 335337\n",
    "\n",
    "similar_ids = find_similar_movies(book_id, X, k=10)\n",
    "book_title = book_titles[book_id]\n",
    "\n",
    "print(f\"Because you watched {book_title}\")\n",
    "for i in similar_ids:\n",
    "    print(book_titles[i])"
   ]
  },
  {
   "cell_type": "code",
   "execution_count": 191,
   "metadata": {},
   "outputs": [
    {
     "output_type": "stream",
     "name": "stdout",
     "text": [
      "Because you watched Tôi Tài Giỏi - Bạn Cũng Thế\nDạy Con Làm Giàu VII - Ai Đã Lấy Tiền Của Tôi? (Tái Bản 2012)\nĐột Phá Mindmap - Tư Duy Đọc Hiểu Môn Ngữ Văn Bằng Hình Ảnh Lớp 12\nTết Việt Nam qua tranh dân gian\nAlexandre De Rhodes Và Vấn Đề Chữ Quốc Ngữ - Tiểu Luận (Bùi Kha) \nNgay Bây Giờ Hoặc Không Bao Giờ (Tái Bản 2018)\nThe Langmaster - Từ Vựng Tiếng Anh Theo Chủ Điểm (Tái Bản Kèm CD)\nDuy Tân Thập Kiệt - Mười Nhân Vật Kiệt Xuất Của Minh Trị Duy Tân\nSách Phương Pháp Định Tội Danh Với 538 Tội Phạm Quy Định Trong Bộ Luật Hình Sự 2015, Được Sửa Đổi, Bổ Sung 2017 (Tái Bản Có Bổ Sung)\nKhái Lược Văn Minh Luận\nKanban - Quản Lý Công Việc Hiệu Quả\n"
     ]
    }
   ],
   "source": [
    "book_titles = dict(zip(books['product_id'], books['name']))\n",
    "\n",
    "book_id = 335337\n",
    "\n",
    "similar_ids = find_similar_movies(book_id, X, k=10, metric='euclidean')\n",
    "book_title = book_titles[book_id]\n",
    "\n",
    "print(f\"Because you watched {book_title}\")\n",
    "for i in similar_ids:\n",
    "    print(book_titles[i])"
   ]
  },
  {
   "source": [
    "# Building a Recommender System with Implicit Feedback"
   ],
   "cell_type": "markdown",
   "metadata": {}
  },
  {
   "cell_type": "code",
   "execution_count": null,
   "metadata": {},
   "outputs": [],
   "source": []
  }
 ]
}
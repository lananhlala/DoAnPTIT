{
 "metadata": {
  "language_info": {
   "codemirror_mode": {
    "name": "ipython",
    "version": 3
   },
   "file_extension": ".py",
   "mimetype": "text/x-python",
   "name": "python",
   "nbconvert_exporter": "python",
   "pygments_lexer": "ipython3",
   "version": "3.7.6-final"
  },
  "orig_nbformat": 2,
  "kernelspec": {
   "name": "Python 3.7.6 64-bit",
   "display_name": "Python 3.7.6 64-bit",
   "metadata": {
    "interpreter": {
     "hash": "7f2dcf1d125493348cccf1ae2de68f791ab3bc9e1341fd8e5bb01552f7645ce1"
    }
   }
  }
 },
 "nbformat": 4,
 "nbformat_minor": 2,
 "cells": [
  {
   "cell_type": "code",
   "execution_count": 1,
   "metadata": {},
   "outputs": [],
   "source": [
    "import pandas as pd \n",
    "import numpy as np \n",
    "import seaborn as sns \n",
    "import matplotlib.pyplot as plt"
   ]
  },
  {
   "cell_type": "code",
   "execution_count": 2,
   "metadata": {},
   "outputs": [
    {
     "output_type": "execute_result",
     "data": {
      "text/plain": [
       "   product_id                                            content  customer_id  \\\n",
       "0    58441480  Giao hàng nhanh , sách đẹp .Giao hôm qua hn Ti...      7201105   \n",
       "1    58441480  Nội dung hay, Phụ huynh nên đọc để định hướng ...       823195   \n",
       "2    58441480  Sách hay dành cho cả người lớn và trẻ nhỏ. Hìn...      6927758   \n",
       "3    58441480                   sách quá đẹp đi! nội dung rất ok        73375   \n",
       "4    58441480                                           Sách đẹp      7103521   \n",
       "\n",
       "          user_name  stars  comment_id  \n",
       "0          Hải Phạm      5     4702781  \n",
       "1      Trang Nguyen      5     4940437  \n",
       "2          Luyen Do      4     4690057  \n",
       "3          Hiểu Mai      5     4645307  \n",
       "4  Nguyễn Xuân Hùng      5     4627799  "
      ],
      "text/html": "<div>\n<style scoped>\n    .dataframe tbody tr th:only-of-type {\n        vertical-align: middle;\n    }\n\n    .dataframe tbody tr th {\n        vertical-align: top;\n    }\n\n    .dataframe thead th {\n        text-align: right;\n    }\n</style>\n<table border=\"1\" class=\"dataframe\">\n  <thead>\n    <tr style=\"text-align: right;\">\n      <th></th>\n      <th>product_id</th>\n      <th>content</th>\n      <th>customer_id</th>\n      <th>user_name</th>\n      <th>stars</th>\n      <th>comment_id</th>\n    </tr>\n  </thead>\n  <tbody>\n    <tr>\n      <th>0</th>\n      <td>58441480</td>\n      <td>Giao hàng nhanh , sách đẹp .Giao hôm qua hn Ti...</td>\n      <td>7201105</td>\n      <td>Hải Phạm</td>\n      <td>5</td>\n      <td>4702781</td>\n    </tr>\n    <tr>\n      <th>1</th>\n      <td>58441480</td>\n      <td>Nội dung hay, Phụ huynh nên đọc để định hướng ...</td>\n      <td>823195</td>\n      <td>Trang Nguyen</td>\n      <td>5</td>\n      <td>4940437</td>\n    </tr>\n    <tr>\n      <th>2</th>\n      <td>58441480</td>\n      <td>Sách hay dành cho cả người lớn và trẻ nhỏ. Hìn...</td>\n      <td>6927758</td>\n      <td>Luyen Do</td>\n      <td>4</td>\n      <td>4690057</td>\n    </tr>\n    <tr>\n      <th>3</th>\n      <td>58441480</td>\n      <td>sách quá đẹp đi! nội dung rất ok</td>\n      <td>73375</td>\n      <td>Hiểu Mai</td>\n      <td>5</td>\n      <td>4645307</td>\n    </tr>\n    <tr>\n      <th>4</th>\n      <td>58441480</td>\n      <td>Sách đẹp</td>\n      <td>7103521</td>\n      <td>Nguyễn Xuân Hùng</td>\n      <td>5</td>\n      <td>4627799</td>\n    </tr>\n  </tbody>\n</table>\n</div>"
     },
     "metadata": {},
     "execution_count": 2
    }
   ],
   "source": [
    "data = pd.read_csv('../Data/all_rating.csv')\n",
    "data.head()"
   ]
  },
  {
   "cell_type": "code",
   "execution_count": 3,
   "metadata": {},
   "outputs": [
    {
     "output_type": "execute_result",
     "data": {
      "text/plain": [
       "   product_id  RatingCount_book\n",
       "0      181893               200\n",
       "1      185906               199\n",
       "2      306576               102\n",
       "3      313379               156\n",
       "4      316388               192"
      ],
      "text/html": "<div>\n<style scoped>\n    .dataframe tbody tr th:only-of-type {\n        vertical-align: middle;\n    }\n\n    .dataframe tbody tr th {\n        vertical-align: top;\n    }\n\n    .dataframe thead th {\n        text-align: right;\n    }\n</style>\n<table border=\"1\" class=\"dataframe\">\n  <thead>\n    <tr style=\"text-align: right;\">\n      <th></th>\n      <th>product_id</th>\n      <th>RatingCount_book</th>\n    </tr>\n  </thead>\n  <tbody>\n    <tr>\n      <th>0</th>\n      <td>181893</td>\n      <td>200</td>\n    </tr>\n    <tr>\n      <th>1</th>\n      <td>185906</td>\n      <td>199</td>\n    </tr>\n    <tr>\n      <th>2</th>\n      <td>306576</td>\n      <td>102</td>\n    </tr>\n    <tr>\n      <th>3</th>\n      <td>313379</td>\n      <td>156</td>\n    </tr>\n    <tr>\n      <th>4</th>\n      <td>316388</td>\n      <td>192</td>\n    </tr>\n  </tbody>\n</table>\n</div>"
     },
     "metadata": {},
     "execution_count": 3
    }
   ],
   "source": [
    "rating_count = (data.\n",
    "     groupby(by = ['product_id'])['stars'].\n",
    "     count().\n",
    "     reset_index().\n",
    "     rename(columns = {'stars': 'RatingCount_book'})\n",
    "     [['product_id', 'RatingCount_book']]\n",
    "    )\n",
    "rating_count.head()"
   ]
  },
  {
   "cell_type": "code",
   "execution_count": 5,
   "metadata": {},
   "outputs": [
    {
     "output_type": "execute_result",
     "data": {
      "text/plain": [
       "(2702, 2)"
      ]
     },
     "metadata": {},
     "execution_count": 5
    }
   ],
   "source": [
    "threshold = 25\n",
    "rating_count = rating_count.query('RatingCount_book >= @threshold')\n",
    "rating_count.shape"
   ]
  },
  {
   "cell_type": "code",
   "execution_count": 6,
   "metadata": {},
   "outputs": [
    {
     "output_type": "execute_result",
     "data": {
      "text/plain": [
       "   customer_id  RatingCount_user\n",
       "0            0                 1\n",
       "1           27                 6\n",
       "2           58                 1\n",
       "3           61                 1\n",
       "4          158                 4"
      ],
      "text/html": "<div>\n<style scoped>\n    .dataframe tbody tr th:only-of-type {\n        vertical-align: middle;\n    }\n\n    .dataframe tbody tr th {\n        vertical-align: top;\n    }\n\n    .dataframe thead th {\n        text-align: right;\n    }\n</style>\n<table border=\"1\" class=\"dataframe\">\n  <thead>\n    <tr style=\"text-align: right;\">\n      <th></th>\n      <th>customer_id</th>\n      <th>RatingCount_user</th>\n    </tr>\n  </thead>\n  <tbody>\n    <tr>\n      <th>0</th>\n      <td>0</td>\n      <td>1</td>\n    </tr>\n    <tr>\n      <th>1</th>\n      <td>27</td>\n      <td>6</td>\n    </tr>\n    <tr>\n      <th>2</th>\n      <td>58</td>\n      <td>1</td>\n    </tr>\n    <tr>\n      <th>3</th>\n      <td>61</td>\n      <td>1</td>\n    </tr>\n    <tr>\n      <th>4</th>\n      <td>158</td>\n      <td>4</td>\n    </tr>\n  </tbody>\n</table>\n</div>"
     },
     "metadata": {},
     "execution_count": 6
    }
   ],
   "source": [
    "user_count = (data.\n",
    "     groupby(by = ['customer_id'])['stars'].\n",
    "     count().\n",
    "     reset_index().\n",
    "     rename(columns = {'stars': 'RatingCount_user'})\n",
    "     [['customer_id', 'RatingCount_user']]\n",
    "    )\n",
    "user_count.head()"
   ]
  },
  {
   "cell_type": "code",
   "execution_count": 8,
   "metadata": {},
   "outputs": [
    {
     "output_type": "execute_result",
     "data": {
      "text/plain": [
       "163"
      ]
     },
     "metadata": {},
     "execution_count": 8
    }
   ],
   "source": [
    "user_count['RatingCount_user'].max()"
   ]
  },
  {
   "cell_type": "code",
   "execution_count": 10,
   "metadata": {},
   "outputs": [
    {
     "output_type": "execute_result",
     "data": {
      "text/plain": [
       "(269, 2)"
      ]
     },
     "metadata": {},
     "execution_count": 10
    }
   ],
   "source": [
    "threshold = 20\n",
    "user_count = user_count.query('RatingCount_user >= @threshold')\n",
    "user_count.shape"
   ]
  },
  {
   "cell_type": "code",
   "execution_count": 12,
   "metadata": {},
   "outputs": [],
   "source": [
    "combined = data.merge(user_count, left_on = 'customer_id', right_on = 'customer_id', how = 'inner')"
   ]
  },
  {
   "cell_type": "code",
   "execution_count": 13,
   "metadata": {},
   "outputs": [
    {
     "output_type": "execute_result",
     "data": {
      "text/plain": [
       "      product_id                                            content  \\\n",
       "0       58441480                                                NaN   \n",
       "1       56511851                                                NaN   \n",
       "2       56511853                                                NaN   \n",
       "3       56511849                                                NaN   \n",
       "4       56603322                                                NaN   \n",
       "...          ...                                                ...   \n",
       "7893     2286207    Sách hơi mỏng so với tưởng tượng, nội dung hay.   \n",
       "7894    44984262                                                NaN   \n",
       "7895      446881                                                NaN   \n",
       "7896    49550295  Sách in đẹp, bìa dập nổi. Giao hàng nhanh, nội...   \n",
       "7897    58627102                                                NaN   \n",
       "\n",
       "      customer_id       user_name  stars  comment_id  RatingCount_user  \n",
       "0         6024679      Nhung Phạm      5     4864338                27  \n",
       "1         6024679      Nhung Phạm      5     4864352                27  \n",
       "2         6024679      Nhung Phạm      5     4864319                27  \n",
       "3         6024679      Nhung Phạm      5     4864331                27  \n",
       "4         6024679      Nhung Phạm      5     4864349                27  \n",
       "...           ...             ...    ...         ...               ...  \n",
       "7893      1503284  Hoàng Quốc Anh      5     5130677                22  \n",
       "7894      1503284  Hoàng Quốc Anh      5     5118079                22  \n",
       "7895      1503284  Hoàng Quốc Anh      5     4899535                22  \n",
       "7896      1503284  Hoàng Quốc Anh      5     4533305                22  \n",
       "7897      1503284  Hoàng Quốc Anh      5     4899861                22  \n",
       "\n",
       "[7898 rows x 7 columns]"
      ],
      "text/html": "<div>\n<style scoped>\n    .dataframe tbody tr th:only-of-type {\n        vertical-align: middle;\n    }\n\n    .dataframe tbody tr th {\n        vertical-align: top;\n    }\n\n    .dataframe thead th {\n        text-align: right;\n    }\n</style>\n<table border=\"1\" class=\"dataframe\">\n  <thead>\n    <tr style=\"text-align: right;\">\n      <th></th>\n      <th>product_id</th>\n      <th>content</th>\n      <th>customer_id</th>\n      <th>user_name</th>\n      <th>stars</th>\n      <th>comment_id</th>\n      <th>RatingCount_user</th>\n    </tr>\n  </thead>\n  <tbody>\n    <tr>\n      <th>0</th>\n      <td>58441480</td>\n      <td>NaN</td>\n      <td>6024679</td>\n      <td>Nhung Phạm</td>\n      <td>5</td>\n      <td>4864338</td>\n      <td>27</td>\n    </tr>\n    <tr>\n      <th>1</th>\n      <td>56511851</td>\n      <td>NaN</td>\n      <td>6024679</td>\n      <td>Nhung Phạm</td>\n      <td>5</td>\n      <td>4864352</td>\n      <td>27</td>\n    </tr>\n    <tr>\n      <th>2</th>\n      <td>56511853</td>\n      <td>NaN</td>\n      <td>6024679</td>\n      <td>Nhung Phạm</td>\n      <td>5</td>\n      <td>4864319</td>\n      <td>27</td>\n    </tr>\n    <tr>\n      <th>3</th>\n      <td>56511849</td>\n      <td>NaN</td>\n      <td>6024679</td>\n      <td>Nhung Phạm</td>\n      <td>5</td>\n      <td>4864331</td>\n      <td>27</td>\n    </tr>\n    <tr>\n      <th>4</th>\n      <td>56603322</td>\n      <td>NaN</td>\n      <td>6024679</td>\n      <td>Nhung Phạm</td>\n      <td>5</td>\n      <td>4864349</td>\n      <td>27</td>\n    </tr>\n    <tr>\n      <th>...</th>\n      <td>...</td>\n      <td>...</td>\n      <td>...</td>\n      <td>...</td>\n      <td>...</td>\n      <td>...</td>\n      <td>...</td>\n    </tr>\n    <tr>\n      <th>7893</th>\n      <td>2286207</td>\n      <td>Sách hơi mỏng so với tưởng tượng, nội dung hay.</td>\n      <td>1503284</td>\n      <td>Hoàng Quốc Anh</td>\n      <td>5</td>\n      <td>5130677</td>\n      <td>22</td>\n    </tr>\n    <tr>\n      <th>7894</th>\n      <td>44984262</td>\n      <td>NaN</td>\n      <td>1503284</td>\n      <td>Hoàng Quốc Anh</td>\n      <td>5</td>\n      <td>5118079</td>\n      <td>22</td>\n    </tr>\n    <tr>\n      <th>7895</th>\n      <td>446881</td>\n      <td>NaN</td>\n      <td>1503284</td>\n      <td>Hoàng Quốc Anh</td>\n      <td>5</td>\n      <td>4899535</td>\n      <td>22</td>\n    </tr>\n    <tr>\n      <th>7896</th>\n      <td>49550295</td>\n      <td>Sách in đẹp, bìa dập nổi. Giao hàng nhanh, nội...</td>\n      <td>1503284</td>\n      <td>Hoàng Quốc Anh</td>\n      <td>5</td>\n      <td>4533305</td>\n      <td>22</td>\n    </tr>\n    <tr>\n      <th>7897</th>\n      <td>58627102</td>\n      <td>NaN</td>\n      <td>1503284</td>\n      <td>Hoàng Quốc Anh</td>\n      <td>5</td>\n      <td>4899861</td>\n      <td>22</td>\n    </tr>\n  </tbody>\n</table>\n<p>7898 rows × 7 columns</p>\n</div>"
     },
     "metadata": {},
     "execution_count": 13
    }
   ],
   "source": [
    "combined"
   ]
  },
  {
   "cell_type": "code",
   "execution_count": 15,
   "metadata": {},
   "outputs": [
    {
     "output_type": "execute_result",
     "data": {
      "text/plain": [
       "20"
      ]
     },
     "metadata": {},
     "execution_count": 15
    }
   ],
   "source": [
    "combined['RatingCount_user'].min()"
   ]
  },
  {
   "cell_type": "code",
   "execution_count": 16,
   "metadata": {},
   "outputs": [
    {
     "output_type": "stream",
     "name": "stdout",
     "text": [
      "Number of unique books:  3877\nNumber of unique users:  269\n"
     ]
    }
   ],
   "source": [
    "print('Number of unique books: ', combined['product_id'].nunique())\n",
    "print('Number of unique users: ', combined['customer_id'].nunique())"
   ]
  },
  {
   "cell_type": "code",
   "execution_count": 18,
   "metadata": {},
   "outputs": [
    {
     "output_type": "execute_result",
     "data": {
      "text/plain": [
       "array([[0., 0., 0., ..., 0., 0., 0.],\n",
       "       [0., 0., 0., ..., 0., 0., 0.],\n",
       "       [0., 0., 0., ..., 0., 0., 0.],\n",
       "       ...,\n",
       "       [0., 0., 0., ..., 0., 0., 0.],\n",
       "       [0., 0., 0., ..., 0., 0., 0.],\n",
       "       [0., 0., 0., ..., 0., 0., 0.]])"
      ]
     },
     "metadata": {},
     "execution_count": 18
    }
   ],
   "source": [
    "combined.drop_duplicates(['customer_id', 'product_id'], inplace=True)\n",
    "user_book_matrix = combined.pivot(index='customer_id', columns='product_id', values='stars')\n",
    "user_book_matrix.fillna(0, inplace=True)\n",
    "\n",
    "users = user_book_matrix.index.tolist()\n",
    "books = user_book_matrix.columns.tolist()\n",
    "\n",
    "user_book_matrix = user_book_matrix.to_numpy()\n",
    "user_book_matrix"
   ]
  },
  {
   "cell_type": "code",
   "execution_count": null,
   "metadata": {},
   "outputs": [],
   "source": []
  }
 ]
}
{
 "metadata": {
  "language_info": {
   "codemirror_mode": {
    "name": "ipython",
    "version": 3
   },
   "file_extension": ".py",
   "mimetype": "text/x-python",
   "name": "python",
   "nbconvert_exporter": "python",
   "pygments_lexer": "ipython3",
   "version": "3.7.6-final"
  },
  "orig_nbformat": 2,
  "kernelspec": {
   "name": "python36864bitcc30d91a1dad45e4b3c775dc11df627a",
   "display_name": "Python 3.6.8 64-bit"
  }
 },
 "nbformat": 4,
 "nbformat_minor": 2,
 "cells": [
  {
   "cell_type": "code",
   "execution_count": 2,
   "metadata": {},
   "outputs": [],
   "source": [
    "import pandas as pd \n",
    "import numpy as np"
   ]
  },
  {
   "cell_type": "code",
   "execution_count": 3,
   "metadata": {},
   "outputs": [
    {
     "output_type": "execute_result",
     "data": {
      "text/plain": [
       "         id            sku                                               name  \\\n",
       "0  58390336  3380735508079                                      Python cơ bản   \n",
       "1   1664525  2147399986992  Giáo Trình Kỹ Thuật Lập Trình C Căn Bản Và Nân...   \n",
       "2  55573620  6752050391860  Giáo Trình Tự Học AutoCAD 2019 Thực Hành Bằng ...   \n",
       "3  24889348  3747885152000  Lập trình hướng đối tượng JAVA core dành cho n...   \n",
       "4  37667006  5950833882104  Combo Giáo Trình Kỹ Thuật Lập Trình C Căn Bản ...   \n",
       "\n",
       "                                            url_path book_cover  \\\n",
       "0         python-co-ban-p58390336.html?spid=58390337    Bìa mềm   \n",
       "1  giao-trinh-ky-thuat-lap-trinh-c-can-ban-va-nan...    Bìa mềm   \n",
       "2  giao-trinh-tu-hoc-autocad-2019-thuc-hanh-bang-...    Bìa mềm   \n",
       "3  lap-trinh-huong-doi-tuong-java-core-danh-cho-n...        NaN   \n",
       "4  combo-giao-trinh-ky-thuat-lap-trinh-c-can-ban-...    Bìa mềm   \n",
       "\n",
       "                                   short_description   price  list_price  \\\n",
       "0  SÁCH PYTHON CƠ BẢN\\nHiện nay ngôn ngữ lập trìn...  125000      125000   \n",
       "1  Giáo trình kỹ thuật lập trình C căn bản và nân...   67500      135000   \n",
       "2  Mục lục:\\nCHƯƠNG 1: BẮT ĐẦU AUTOCAD 2019 \\nCHƯ...  110000      110000   \n",
       "3  I. Đôi điều về tác giả\\nTôi là NEOS.THÀNH (Ngu...  189000      299000   \n",
       "4  Giáo trình kỹ thuật lập trình C căn bản và nân...  223400      280000   \n",
       "\n",
       "   price_usd  discount  ...  favourite_count  \\\n",
       "0      5.343         0  ...                0   \n",
       "1      2.885     67500  ...                0   \n",
       "2      4.702         0  ...                0   \n",
       "3      8.079    110000  ...                0   \n",
       "4      9.550     56600  ...                0   \n",
       "\n",
       "                                       thumbnail_url  \\\n",
       "0  https://salt.tikicdn.com/cache/280x280/ts/prod...   \n",
       "1  https://salt.tikicdn.com/cache/280x280/ts/prod...   \n",
       "2  https://salt.tikicdn.com/cache/280x280/ts/prod...   \n",
       "3  https://salt.tikicdn.com/cache/280x280/ts/prod...   \n",
       "4  https://salt.tikicdn.com/cache/280x280/ts/prod...   \n",
       "\n",
       "                         productset_group_name  \\\n",
       "0          Sách Công Nghệ Thông Tin, Lập Trình   \n",
       "1          Sách Công Nghệ Thông Tin, Lập Trình   \n",
       "2  Sách Công Nghệ Thông Tin, Thiết Kế - Đồ Họa   \n",
       "3          Sách Công Nghệ Thông Tin, Lập Trình   \n",
       "4          Sách Công Nghệ Thông Tin, Lập Trình   \n",
       "\n",
       "                                         description  \\\n",
       "0  SÁCH PYTHON CƠ BẢN\\nHiện nay ngôn ngữ lập trìn...   \n",
       "1  Giáo trình kỹ thuật lập trình C căn bản và nân...   \n",
       "2  Mục lục:\\nCHƯƠNG 1: BẮT ĐẦU AUTOCAD 2019 \\nCHƯ...   \n",
       "3  I. Đôi điều về tác giả\\nTôi là NEOS.THÀNH (Ngu...   \n",
       "4  Giáo trình kỹ thuật lập trình C căn bản và nân...   \n",
       "\n",
       "                                   publisher        authors stock_item  \\\n",
       "0                NXB Đại Học Quốc Gia Hà Nội    Bùi Việt Hà        5.0   \n",
       "1                        Huy Hoàng Bookstore  Nhiều Tác Giả      801.0   \n",
       "2  Công Ty TNHH Văn Hóa - Thế Giới Sách Việt  Nhiều Tác Giả       12.0   \n",
       "3                                          -  Nhiều Tác Giả        NaN   \n",
       "4                        Huy Hoàng Bookstore  Nhiều Tác Giả       97.0   \n",
       "\n",
       "               big_category        sub_category  \\\n",
       "0  Sách Công Nghệ Thông Tin           Lập Trình   \n",
       "1  Sách Công Nghệ Thông Tin           Lập Trình   \n",
       "2  Sách Công Nghệ Thông Tin   Thiết Kế - Đồ Họa   \n",
       "3  Sách Công Nghệ Thông Tin           Lập Trình   \n",
       "4  Sách Công Nghệ Thông Tin           Lập Trình   \n",
       "\n",
       "                                   clean_description  \n",
       "0  sách python cơ_bản ngôn_ngữ lập_trình bậc pyth...  \n",
       "1  giáo_trình kỹ_thuật lập_trình căn_bản nâng hìn...  \n",
       "2  mục_lục chương autocad chương kỹ_năng cơ_bản c...  \n",
       "3  đôi tác_giả neos thành nguyễn văn thành lập_tr...  \n",
       "4  giáo_trình kỹ_thuật lập_trình căn_bản nâng hìn...  \n",
       "\n",
       "[5 rows x 24 columns]"
      ],
      "text/html": "<div>\n<style scoped>\n    .dataframe tbody tr th:only-of-type {\n        vertical-align: middle;\n    }\n\n    .dataframe tbody tr th {\n        vertical-align: top;\n    }\n\n    .dataframe thead th {\n        text-align: right;\n    }\n</style>\n<table border=\"1\" class=\"dataframe\">\n  <thead>\n    <tr style=\"text-align: right;\">\n      <th></th>\n      <th>id</th>\n      <th>sku</th>\n      <th>name</th>\n      <th>url_path</th>\n      <th>book_cover</th>\n      <th>short_description</th>\n      <th>price</th>\n      <th>list_price</th>\n      <th>price_usd</th>\n      <th>discount</th>\n      <th>...</th>\n      <th>favourite_count</th>\n      <th>thumbnail_url</th>\n      <th>productset_group_name</th>\n      <th>description</th>\n      <th>publisher</th>\n      <th>authors</th>\n      <th>stock_item</th>\n      <th>big_category</th>\n      <th>sub_category</th>\n      <th>clean_description</th>\n    </tr>\n  </thead>\n  <tbody>\n    <tr>\n      <th>0</th>\n      <td>58390336</td>\n      <td>3380735508079</td>\n      <td>Python cơ bản</td>\n      <td>python-co-ban-p58390336.html?spid=58390337</td>\n      <td>Bìa mềm</td>\n      <td>SÁCH PYTHON CƠ BẢN\\nHiện nay ngôn ngữ lập trìn...</td>\n      <td>125000</td>\n      <td>125000</td>\n      <td>5.343</td>\n      <td>0</td>\n      <td>...</td>\n      <td>0</td>\n      <td>https://salt.tikicdn.com/cache/280x280/ts/prod...</td>\n      <td>Sách Công Nghệ Thông Tin, Lập Trình</td>\n      <td>SÁCH PYTHON CƠ BẢN\\nHiện nay ngôn ngữ lập trìn...</td>\n      <td>NXB Đại Học Quốc Gia Hà Nội</td>\n      <td>Bùi Việt Hà</td>\n      <td>5.0</td>\n      <td>Sách Công Nghệ Thông Tin</td>\n      <td>Lập Trình</td>\n      <td>sách python cơ_bản ngôn_ngữ lập_trình bậc pyth...</td>\n    </tr>\n    <tr>\n      <th>1</th>\n      <td>1664525</td>\n      <td>2147399986992</td>\n      <td>Giáo Trình Kỹ Thuật Lập Trình C Căn Bản Và Nân...</td>\n      <td>giao-trinh-ky-thuat-lap-trinh-c-can-ban-va-nan...</td>\n      <td>Bìa mềm</td>\n      <td>Giáo trình kỹ thuật lập trình C căn bản và nân...</td>\n      <td>67500</td>\n      <td>135000</td>\n      <td>2.885</td>\n      <td>67500</td>\n      <td>...</td>\n      <td>0</td>\n      <td>https://salt.tikicdn.com/cache/280x280/ts/prod...</td>\n      <td>Sách Công Nghệ Thông Tin, Lập Trình</td>\n      <td>Giáo trình kỹ thuật lập trình C căn bản và nân...</td>\n      <td>Huy Hoàng Bookstore</td>\n      <td>Nhiều Tác Giả</td>\n      <td>801.0</td>\n      <td>Sách Công Nghệ Thông Tin</td>\n      <td>Lập Trình</td>\n      <td>giáo_trình kỹ_thuật lập_trình căn_bản nâng hìn...</td>\n    </tr>\n    <tr>\n      <th>2</th>\n      <td>55573620</td>\n      <td>6752050391860</td>\n      <td>Giáo Trình Tự Học AutoCAD 2019 Thực Hành Bằng ...</td>\n      <td>giao-trinh-tu-hoc-autocad-2019-thuc-hanh-bang-...</td>\n      <td>Bìa mềm</td>\n      <td>Mục lục:\\nCHƯƠNG 1: BẮT ĐẦU AUTOCAD 2019 \\nCHƯ...</td>\n      <td>110000</td>\n      <td>110000</td>\n      <td>4.702</td>\n      <td>0</td>\n      <td>...</td>\n      <td>0</td>\n      <td>https://salt.tikicdn.com/cache/280x280/ts/prod...</td>\n      <td>Sách Công Nghệ Thông Tin, Thiết Kế - Đồ Họa</td>\n      <td>Mục lục:\\nCHƯƠNG 1: BẮT ĐẦU AUTOCAD 2019 \\nCHƯ...</td>\n      <td>Công Ty TNHH Văn Hóa - Thế Giới Sách Việt</td>\n      <td>Nhiều Tác Giả</td>\n      <td>12.0</td>\n      <td>Sách Công Nghệ Thông Tin</td>\n      <td>Thiết Kế - Đồ Họa</td>\n      <td>mục_lục chương autocad chương kỹ_năng cơ_bản c...</td>\n    </tr>\n    <tr>\n      <th>3</th>\n      <td>24889348</td>\n      <td>3747885152000</td>\n      <td>Lập trình hướng đối tượng JAVA core dành cho n...</td>\n      <td>lap-trinh-huong-doi-tuong-java-core-danh-cho-n...</td>\n      <td>NaN</td>\n      <td>I. Đôi điều về tác giả\\nTôi là NEOS.THÀNH (Ngu...</td>\n      <td>189000</td>\n      <td>299000</td>\n      <td>8.079</td>\n      <td>110000</td>\n      <td>...</td>\n      <td>0</td>\n      <td>https://salt.tikicdn.com/cache/280x280/ts/prod...</td>\n      <td>Sách Công Nghệ Thông Tin, Lập Trình</td>\n      <td>I. Đôi điều về tác giả\\nTôi là NEOS.THÀNH (Ngu...</td>\n      <td>-</td>\n      <td>Nhiều Tác Giả</td>\n      <td>NaN</td>\n      <td>Sách Công Nghệ Thông Tin</td>\n      <td>Lập Trình</td>\n      <td>đôi tác_giả neos thành nguyễn văn thành lập_tr...</td>\n    </tr>\n    <tr>\n      <th>4</th>\n      <td>37667006</td>\n      <td>5950833882104</td>\n      <td>Combo Giáo Trình Kỹ Thuật Lập Trình C Căn Bản ...</td>\n      <td>combo-giao-trinh-ky-thuat-lap-trinh-c-can-ban-...</td>\n      <td>Bìa mềm</td>\n      <td>Giáo trình kỹ thuật lập trình C căn bản và nân...</td>\n      <td>223400</td>\n      <td>280000</td>\n      <td>9.550</td>\n      <td>56600</td>\n      <td>...</td>\n      <td>0</td>\n      <td>https://salt.tikicdn.com/cache/280x280/ts/prod...</td>\n      <td>Sách Công Nghệ Thông Tin, Lập Trình</td>\n      <td>Giáo trình kỹ thuật lập trình C căn bản và nân...</td>\n      <td>Huy Hoàng Bookstore</td>\n      <td>Nhiều Tác Giả</td>\n      <td>97.0</td>\n      <td>Sách Công Nghệ Thông Tin</td>\n      <td>Lập Trình</td>\n      <td>giáo_trình kỹ_thuật lập_trình căn_bản nâng hìn...</td>\n    </tr>\n  </tbody>\n</table>\n<p>5 rows × 24 columns</p>\n</div>"
     },
     "metadata": {},
     "execution_count": 3
    }
   ],
   "source": [
    "books = pd.read_csv('../Data/clean_books.csv')\n",
    "books.head()"
   ]
  },
  {
   "cell_type": "code",
   "execution_count": 4,
   "metadata": {},
   "outputs": [
    {
     "output_type": "stream",
     "name": "stdout",
     "text": [
      "<class 'pandas.core.frame.DataFrame'>\nRangeIndex: 10330 entries, 0 to 10329\nData columns (total 24 columns):\n #   Column                 Non-Null Count  Dtype  \n---  ------                 --------------  -----  \n 0   id                     10330 non-null  int64  \n 1   sku                    10330 non-null  int64  \n 2   name                   10330 non-null  object \n 3   url_path               10330 non-null  object \n 4   book_cover             9417 non-null   object \n 5   short_description      10327 non-null  object \n 6   price                  10330 non-null  int64  \n 7   list_price             10330 non-null  int64  \n 8   price_usd              10330 non-null  float64\n 9   discount               10330 non-null  int64  \n 10  discount_rate          10330 non-null  int64  \n 11  rating_average         10330 non-null  float64\n 12  review_count           10330 non-null  int64  \n 13  order_count            10330 non-null  int64  \n 14  favourite_count        10330 non-null  int64  \n 15  thumbnail_url          10330 non-null  object \n 16  productset_group_name  10330 non-null  object \n 17  description            10326 non-null  object \n 18  publisher              10323 non-null  object \n 19  authors                10323 non-null  object \n 20  stock_item             8981 non-null   float64\n 21  big_category           10330 non-null  object \n 22  sub_category           10330 non-null  object \n 23  clean_description      10320 non-null  object \ndtypes: float64(3), int64(9), object(12)\nmemory usage: 1.9+ MB\n"
     ]
    }
   ],
   "source": [
    "books.info()"
   ]
  },
  {
   "cell_type": "code",
   "execution_count": 5,
   "metadata": {},
   "outputs": [
    {
     "output_type": "execute_result",
     "data": {
      "text/plain": [
       "Sách thiếu nhi              1909\n",
       "Sách kỹ năng sống            978\n",
       "Sách Tham Khảo               973\n",
       "Sách kinh tế                 966\n",
       "Sách Học Ngoại Ngữ           961\n",
       "Sách Lịch sử                 927\n",
       "Sách Kiến Thức Tổng Hợp      901\n",
       "Sách Bà mẹ - Em bé           889\n",
       "Sách văn học                 888\n",
       "Sách Chính Trị - Pháp Lý     843\n",
       "Sách Công Nghệ Thông Tin      95\n",
       "Name: big_category, dtype: int64"
      ]
     },
     "metadata": {},
     "execution_count": 5
    }
   ],
   "source": [
    "books.big_category.value_counts()[:50]"
   ]
  },
  {
   "cell_type": "code",
   "execution_count": null,
   "metadata": {},
   "outputs": [],
   "source": []
  },
  {
   "cell_type": "code",
   "execution_count": 6,
   "metadata": {},
   "outputs": [
    {
     "output_type": "execute_result",
     "data": {
      "text/plain": [
       "         id            sku                                               name  \\\n",
       "0  58390336  3380735508079                                      Python cơ bản   \n",
       "1   1664525  2147399986992  Giáo Trình Kỹ Thuật Lập Trình C Căn Bản Và Nân...   \n",
       "2  55573620  6752050391860  Giáo Trình Tự Học AutoCAD 2019 Thực Hành Bằng ...   \n",
       "3  24889348  3747885152000  Lập trình hướng đối tượng JAVA core dành cho n...   \n",
       "4  37667006  5950833882104  Combo Giáo Trình Kỹ Thuật Lập Trình C Căn Bản ...   \n",
       "\n",
       "                                            url_path book_cover  \\\n",
       "0         python-co-ban-p58390336.html?spid=58390337    Bìa mềm   \n",
       "1  giao-trinh-ky-thuat-lap-trinh-c-can-ban-va-nan...    Bìa mềm   \n",
       "2  giao-trinh-tu-hoc-autocad-2019-thuc-hanh-bang-...    Bìa mềm   \n",
       "3  lap-trinh-huong-doi-tuong-java-core-danh-cho-n...        NaN   \n",
       "4  combo-giao-trinh-ky-thuat-lap-trinh-c-can-ban-...    Bìa mềm   \n",
       "\n",
       "                                   short_description   price  list_price  \\\n",
       "0  SÁCH PYTHON CƠ BẢN\\nHiện nay ngôn ngữ lập trìn...  125000      125000   \n",
       "1  Giáo trình kỹ thuật lập trình C căn bản và nân...   67500      135000   \n",
       "2  Mục lục:\\nCHƯƠNG 1: BẮT ĐẦU AUTOCAD 2019 \\nCHƯ...  110000      110000   \n",
       "3  I. Đôi điều về tác giả\\nTôi là NEOS.THÀNH (Ngu...  189000      299000   \n",
       "4  Giáo trình kỹ thuật lập trình C căn bản và nân...  223400      280000   \n",
       "\n",
       "   price_usd  discount  ...  \\\n",
       "0      5.343         0  ...   \n",
       "1      2.885     67500  ...   \n",
       "2      4.702         0  ...   \n",
       "3      8.079    110000  ...   \n",
       "4      9.550     56600  ...   \n",
       "\n",
       "                                       thumbnail_url  \\\n",
       "0  https://salt.tikicdn.com/cache/280x280/ts/prod...   \n",
       "1  https://salt.tikicdn.com/cache/280x280/ts/prod...   \n",
       "2  https://salt.tikicdn.com/cache/280x280/ts/prod...   \n",
       "3  https://salt.tikicdn.com/cache/280x280/ts/prod...   \n",
       "4  https://salt.tikicdn.com/cache/280x280/ts/prod...   \n",
       "\n",
       "                         productset_group_name  \\\n",
       "0          Sách Công Nghệ Thông Tin, Lập Trình   \n",
       "1          Sách Công Nghệ Thông Tin, Lập Trình   \n",
       "2  Sách Công Nghệ Thông Tin, Thiết Kế - Đồ Họa   \n",
       "3          Sách Công Nghệ Thông Tin, Lập Trình   \n",
       "4          Sách Công Nghệ Thông Tin, Lập Trình   \n",
       "\n",
       "                                         description  \\\n",
       "0  SÁCH PYTHON CƠ BẢN\\nHiện nay ngôn ngữ lập trìn...   \n",
       "1  Giáo trình kỹ thuật lập trình C căn bản và nân...   \n",
       "2  Mục lục:\\nCHƯƠNG 1: BẮT ĐẦU AUTOCAD 2019 \\nCHƯ...   \n",
       "3  I. Đôi điều về tác giả\\nTôi là NEOS.THÀNH (Ngu...   \n",
       "4  Giáo trình kỹ thuật lập trình C căn bản và nân...   \n",
       "\n",
       "                                   publisher        authors stock_item  \\\n",
       "0                NXB Đại Học Quốc Gia Hà Nội    Bùi Việt Hà        5.0   \n",
       "1                        Huy Hoàng Bookstore  Nhiều Tác Giả      801.0   \n",
       "2  Công Ty TNHH Văn Hóa - Thế Giới Sách Việt  Nhiều Tác Giả       12.0   \n",
       "3                                          -  Nhiều Tác Giả        NaN   \n",
       "4                        Huy Hoàng Bookstore  Nhiều Tác Giả       97.0   \n",
       "\n",
       "               big_category        sub_category  \\\n",
       "0  Sách Công Nghệ Thông Tin           Lập Trình   \n",
       "1  Sách Công Nghệ Thông Tin           Lập Trình   \n",
       "2  Sách Công Nghệ Thông Tin   Thiết Kế - Đồ Họa   \n",
       "3  Sách Công Nghệ Thông Tin           Lập Trình   \n",
       "4  Sách Công Nghệ Thông Tin           Lập Trình   \n",
       "\n",
       "                                   clean_description new_id  \n",
       "0  sách python cơ_bản ngôn_ngữ lập_trình bậc pyth...   9649  \n",
       "1  giáo_trình kỹ_thuật lập_trình căn_bản nâng hìn...   2371  \n",
       "2  mục_lục chương autocad chương kỹ_năng cơ_bản c...   9114  \n",
       "3  đôi tác_giả neos thành nguyễn văn thành lập_tr...   6180  \n",
       "4  giáo_trình kỹ_thuật lập_trình căn_bản nâng hìn...   7125  \n",
       "\n",
       "[5 rows x 25 columns]"
      ],
      "text/html": "<div>\n<style scoped>\n    .dataframe tbody tr th:only-of-type {\n        vertical-align: middle;\n    }\n\n    .dataframe tbody tr th {\n        vertical-align: top;\n    }\n\n    .dataframe thead th {\n        text-align: right;\n    }\n</style>\n<table border=\"1\" class=\"dataframe\">\n  <thead>\n    <tr style=\"text-align: right;\">\n      <th></th>\n      <th>id</th>\n      <th>sku</th>\n      <th>name</th>\n      <th>url_path</th>\n      <th>book_cover</th>\n      <th>short_description</th>\n      <th>price</th>\n      <th>list_price</th>\n      <th>price_usd</th>\n      <th>discount</th>\n      <th>...</th>\n      <th>thumbnail_url</th>\n      <th>productset_group_name</th>\n      <th>description</th>\n      <th>publisher</th>\n      <th>authors</th>\n      <th>stock_item</th>\n      <th>big_category</th>\n      <th>sub_category</th>\n      <th>clean_description</th>\n      <th>new_id</th>\n    </tr>\n  </thead>\n  <tbody>\n    <tr>\n      <th>0</th>\n      <td>58390336</td>\n      <td>3380735508079</td>\n      <td>Python cơ bản</td>\n      <td>python-co-ban-p58390336.html?spid=58390337</td>\n      <td>Bìa mềm</td>\n      <td>SÁCH PYTHON CƠ BẢN\\nHiện nay ngôn ngữ lập trìn...</td>\n      <td>125000</td>\n      <td>125000</td>\n      <td>5.343</td>\n      <td>0</td>\n      <td>...</td>\n      <td>https://salt.tikicdn.com/cache/280x280/ts/prod...</td>\n      <td>Sách Công Nghệ Thông Tin, Lập Trình</td>\n      <td>SÁCH PYTHON CƠ BẢN\\nHiện nay ngôn ngữ lập trìn...</td>\n      <td>NXB Đại Học Quốc Gia Hà Nội</td>\n      <td>Bùi Việt Hà</td>\n      <td>5.0</td>\n      <td>Sách Công Nghệ Thông Tin</td>\n      <td>Lập Trình</td>\n      <td>sách python cơ_bản ngôn_ngữ lập_trình bậc pyth...</td>\n      <td>9649</td>\n    </tr>\n    <tr>\n      <th>1</th>\n      <td>1664525</td>\n      <td>2147399986992</td>\n      <td>Giáo Trình Kỹ Thuật Lập Trình C Căn Bản Và Nân...</td>\n      <td>giao-trinh-ky-thuat-lap-trinh-c-can-ban-va-nan...</td>\n      <td>Bìa mềm</td>\n      <td>Giáo trình kỹ thuật lập trình C căn bản và nân...</td>\n      <td>67500</td>\n      <td>135000</td>\n      <td>2.885</td>\n      <td>67500</td>\n      <td>...</td>\n      <td>https://salt.tikicdn.com/cache/280x280/ts/prod...</td>\n      <td>Sách Công Nghệ Thông Tin, Lập Trình</td>\n      <td>Giáo trình kỹ thuật lập trình C căn bản và nân...</td>\n      <td>Huy Hoàng Bookstore</td>\n      <td>Nhiều Tác Giả</td>\n      <td>801.0</td>\n      <td>Sách Công Nghệ Thông Tin</td>\n      <td>Lập Trình</td>\n      <td>giáo_trình kỹ_thuật lập_trình căn_bản nâng hìn...</td>\n      <td>2371</td>\n    </tr>\n    <tr>\n      <th>2</th>\n      <td>55573620</td>\n      <td>6752050391860</td>\n      <td>Giáo Trình Tự Học AutoCAD 2019 Thực Hành Bằng ...</td>\n      <td>giao-trinh-tu-hoc-autocad-2019-thuc-hanh-bang-...</td>\n      <td>Bìa mềm</td>\n      <td>Mục lục:\\nCHƯƠNG 1: BẮT ĐẦU AUTOCAD 2019 \\nCHƯ...</td>\n      <td>110000</td>\n      <td>110000</td>\n      <td>4.702</td>\n      <td>0</td>\n      <td>...</td>\n      <td>https://salt.tikicdn.com/cache/280x280/ts/prod...</td>\n      <td>Sách Công Nghệ Thông Tin, Thiết Kế - Đồ Họa</td>\n      <td>Mục lục:\\nCHƯƠNG 1: BẮT ĐẦU AUTOCAD 2019 \\nCHƯ...</td>\n      <td>Công Ty TNHH Văn Hóa - Thế Giới Sách Việt</td>\n      <td>Nhiều Tác Giả</td>\n      <td>12.0</td>\n      <td>Sách Công Nghệ Thông Tin</td>\n      <td>Thiết Kế - Đồ Họa</td>\n      <td>mục_lục chương autocad chương kỹ_năng cơ_bản c...</td>\n      <td>9114</td>\n    </tr>\n    <tr>\n      <th>3</th>\n      <td>24889348</td>\n      <td>3747885152000</td>\n      <td>Lập trình hướng đối tượng JAVA core dành cho n...</td>\n      <td>lap-trinh-huong-doi-tuong-java-core-danh-cho-n...</td>\n      <td>NaN</td>\n      <td>I. Đôi điều về tác giả\\nTôi là NEOS.THÀNH (Ngu...</td>\n      <td>189000</td>\n      <td>299000</td>\n      <td>8.079</td>\n      <td>110000</td>\n      <td>...</td>\n      <td>https://salt.tikicdn.com/cache/280x280/ts/prod...</td>\n      <td>Sách Công Nghệ Thông Tin, Lập Trình</td>\n      <td>I. Đôi điều về tác giả\\nTôi là NEOS.THÀNH (Ngu...</td>\n      <td>-</td>\n      <td>Nhiều Tác Giả</td>\n      <td>NaN</td>\n      <td>Sách Công Nghệ Thông Tin</td>\n      <td>Lập Trình</td>\n      <td>đôi tác_giả neos thành nguyễn văn thành lập_tr...</td>\n      <td>6180</td>\n    </tr>\n    <tr>\n      <th>4</th>\n      <td>37667006</td>\n      <td>5950833882104</td>\n      <td>Combo Giáo Trình Kỹ Thuật Lập Trình C Căn Bản ...</td>\n      <td>combo-giao-trinh-ky-thuat-lap-trinh-c-can-ban-...</td>\n      <td>Bìa mềm</td>\n      <td>Giáo trình kỹ thuật lập trình C căn bản và nân...</td>\n      <td>223400</td>\n      <td>280000</td>\n      <td>9.550</td>\n      <td>56600</td>\n      <td>...</td>\n      <td>https://salt.tikicdn.com/cache/280x280/ts/prod...</td>\n      <td>Sách Công Nghệ Thông Tin, Lập Trình</td>\n      <td>Giáo trình kỹ thuật lập trình C căn bản và nân...</td>\n      <td>Huy Hoàng Bookstore</td>\n      <td>Nhiều Tác Giả</td>\n      <td>97.0</td>\n      <td>Sách Công Nghệ Thông Tin</td>\n      <td>Lập Trình</td>\n      <td>giáo_trình kỹ_thuật lập_trình căn_bản nâng hìn...</td>\n      <td>7125</td>\n    </tr>\n  </tbody>\n</table>\n<p>5 rows × 25 columns</p>\n</div>"
     },
     "metadata": {},
     "execution_count": 6
    }
   ],
   "source": [
    "product_index = np.unique(books['id'])\n",
    "product_index = np.sort(product_index)\n",
    "books['new_id'] = books['id'].apply(lambda x: np.where(product_index==int(x))[0][0])\n",
    "books.head()"
   ]
  },
  {
   "cell_type": "code",
   "execution_count": 7,
   "metadata": {},
   "outputs": [
    {
     "output_type": "execute_result",
     "data": {
      "text/plain": [
       "         id            sku                                               name  \\\n",
       "0  58390336  3380735508079                                      Python cơ bản   \n",
       "1   1664525  2147399986992  Giáo Trình Kỹ Thuật Lập Trình C Căn Bản Và Nân...   \n",
       "2  55573620  6752050391860  Giáo Trình Tự Học AutoCAD 2019 Thực Hành Bằng ...   \n",
       "3  24889348  3747885152000  Lập trình hướng đối tượng JAVA core dành cho n...   \n",
       "4  37667006  5950833882104  Combo Giáo Trình Kỹ Thuật Lập Trình C Căn Bản ...   \n",
       "\n",
       "                                            url_path book_cover  \\\n",
       "0         python-co-ban-p58390336.html?spid=58390337    Bìa mềm   \n",
       "1  giao-trinh-ky-thuat-lap-trinh-c-can-ban-va-nan...    Bìa mềm   \n",
       "2  giao-trinh-tu-hoc-autocad-2019-thuc-hanh-bang-...    Bìa mềm   \n",
       "3  lap-trinh-huong-doi-tuong-java-core-danh-cho-n...        NaN   \n",
       "4  combo-giao-trinh-ky-thuat-lap-trinh-c-can-ban-...    Bìa mềm   \n",
       "\n",
       "                                   short_description   price  list_price  \\\n",
       "0  SÁCH PYTHON CƠ BẢN\\nHiện nay ngôn ngữ lập trìn...  125000      125000   \n",
       "1  Giáo trình kỹ thuật lập trình C căn bản và nân...   67500      135000   \n",
       "2  Mục lục:\\nCHƯƠNG 1: BẮT ĐẦU AUTOCAD 2019 \\nCHƯ...  110000      110000   \n",
       "3  I. Đôi điều về tác giả\\nTôi là NEOS.THÀNH (Ngu...  189000      299000   \n",
       "4  Giáo trình kỹ thuật lập trình C căn bản và nân...  223400      280000   \n",
       "\n",
       "   price_usd  discount  ...  \\\n",
       "0      5.343         0  ...   \n",
       "1      2.885     67500  ...   \n",
       "2      4.702         0  ...   \n",
       "3      8.079    110000  ...   \n",
       "4      9.550     56600  ...   \n",
       "\n",
       "                                       thumbnail_url  \\\n",
       "0  https://salt.tikicdn.com/cache/280x280/ts/prod...   \n",
       "1  https://salt.tikicdn.com/cache/280x280/ts/prod...   \n",
       "2  https://salt.tikicdn.com/cache/280x280/ts/prod...   \n",
       "3  https://salt.tikicdn.com/cache/280x280/ts/prod...   \n",
       "4  https://salt.tikicdn.com/cache/280x280/ts/prod...   \n",
       "\n",
       "                         productset_group_name  \\\n",
       "0          Sách Công Nghệ Thông Tin, Lập Trình   \n",
       "1          Sách Công Nghệ Thông Tin, Lập Trình   \n",
       "2  Sách Công Nghệ Thông Tin, Thiết Kế - Đồ Họa   \n",
       "3          Sách Công Nghệ Thông Tin, Lập Trình   \n",
       "4          Sách Công Nghệ Thông Tin, Lập Trình   \n",
       "\n",
       "                                         description  \\\n",
       "0  SÁCH PYTHON CƠ BẢN\\nHiện nay ngôn ngữ lập trìn...   \n",
       "1  Giáo trình kỹ thuật lập trình C căn bản và nân...   \n",
       "2  Mục lục:\\nCHƯƠNG 1: BẮT ĐẦU AUTOCAD 2019 \\nCHƯ...   \n",
       "3  I. Đôi điều về tác giả\\nTôi là NEOS.THÀNH (Ngu...   \n",
       "4  Giáo trình kỹ thuật lập trình C căn bản và nân...   \n",
       "\n",
       "                                   publisher        authors stock_item  \\\n",
       "0                NXB Đại Học Quốc Gia Hà Nội    Bùi Việt Hà        5.0   \n",
       "1                        Huy Hoàng Bookstore  Nhiều Tác Giả      801.0   \n",
       "2  Công Ty TNHH Văn Hóa - Thế Giới Sách Việt  Nhiều Tác Giả       12.0   \n",
       "3                                          -  Nhiều Tác Giả        NaN   \n",
       "4                        Huy Hoàng Bookstore  Nhiều Tác Giả       97.0   \n",
       "\n",
       "               big_category        sub_category  \\\n",
       "0  Sách Công Nghệ Thông Tin           Lập Trình   \n",
       "1  Sách Công Nghệ Thông Tin           Lập Trình   \n",
       "2  Sách Công Nghệ Thông Tin   Thiết Kế - Đồ Họa   \n",
       "3  Sách Công Nghệ Thông Tin           Lập Trình   \n",
       "4  Sách Công Nghệ Thông Tin           Lập Trình   \n",
       "\n",
       "                                   clean_description new_id  \n",
       "0  sách python cơ_bản ngôn_ngữ lập_trình bậc pyth...   9649  \n",
       "1  giáo_trình kỹ_thuật lập_trình căn_bản nâng hìn...   2371  \n",
       "2  mục_lục chương autocad chương kỹ_năng cơ_bản c...   9114  \n",
       "3  đôi tác_giả neos thành nguyễn văn thành lập_tr...   6180  \n",
       "4  giáo_trình kỹ_thuật lập_trình căn_bản nâng hìn...   7125  \n",
       "\n",
       "[5 rows x 25 columns]"
      ],
      "text/html": "<div>\n<style scoped>\n    .dataframe tbody tr th:only-of-type {\n        vertical-align: middle;\n    }\n\n    .dataframe tbody tr th {\n        vertical-align: top;\n    }\n\n    .dataframe thead th {\n        text-align: right;\n    }\n</style>\n<table border=\"1\" class=\"dataframe\">\n  <thead>\n    <tr style=\"text-align: right;\">\n      <th></th>\n      <th>id</th>\n      <th>sku</th>\n      <th>name</th>\n      <th>url_path</th>\n      <th>book_cover</th>\n      <th>short_description</th>\n      <th>price</th>\n      <th>list_price</th>\n      <th>price_usd</th>\n      <th>discount</th>\n      <th>...</th>\n      <th>thumbnail_url</th>\n      <th>productset_group_name</th>\n      <th>description</th>\n      <th>publisher</th>\n      <th>authors</th>\n      <th>stock_item</th>\n      <th>big_category</th>\n      <th>sub_category</th>\n      <th>clean_description</th>\n      <th>new_id</th>\n    </tr>\n  </thead>\n  <tbody>\n    <tr>\n      <th>0</th>\n      <td>58390336</td>\n      <td>3380735508079</td>\n      <td>Python cơ bản</td>\n      <td>python-co-ban-p58390336.html?spid=58390337</td>\n      <td>Bìa mềm</td>\n      <td>SÁCH PYTHON CƠ BẢN\\nHiện nay ngôn ngữ lập trìn...</td>\n      <td>125000</td>\n      <td>125000</td>\n      <td>5.343</td>\n      <td>0</td>\n      <td>...</td>\n      <td>https://salt.tikicdn.com/cache/280x280/ts/prod...</td>\n      <td>Sách Công Nghệ Thông Tin, Lập Trình</td>\n      <td>SÁCH PYTHON CƠ BẢN\\nHiện nay ngôn ngữ lập trìn...</td>\n      <td>NXB Đại Học Quốc Gia Hà Nội</td>\n      <td>Bùi Việt Hà</td>\n      <td>5.0</td>\n      <td>Sách Công Nghệ Thông Tin</td>\n      <td>Lập Trình</td>\n      <td>sách python cơ_bản ngôn_ngữ lập_trình bậc pyth...</td>\n      <td>9649</td>\n    </tr>\n    <tr>\n      <th>1</th>\n      <td>1664525</td>\n      <td>2147399986992</td>\n      <td>Giáo Trình Kỹ Thuật Lập Trình C Căn Bản Và Nân...</td>\n      <td>giao-trinh-ky-thuat-lap-trinh-c-can-ban-va-nan...</td>\n      <td>Bìa mềm</td>\n      <td>Giáo trình kỹ thuật lập trình C căn bản và nân...</td>\n      <td>67500</td>\n      <td>135000</td>\n      <td>2.885</td>\n      <td>67500</td>\n      <td>...</td>\n      <td>https://salt.tikicdn.com/cache/280x280/ts/prod...</td>\n      <td>Sách Công Nghệ Thông Tin, Lập Trình</td>\n      <td>Giáo trình kỹ thuật lập trình C căn bản và nân...</td>\n      <td>Huy Hoàng Bookstore</td>\n      <td>Nhiều Tác Giả</td>\n      <td>801.0</td>\n      <td>Sách Công Nghệ Thông Tin</td>\n      <td>Lập Trình</td>\n      <td>giáo_trình kỹ_thuật lập_trình căn_bản nâng hìn...</td>\n      <td>2371</td>\n    </tr>\n    <tr>\n      <th>2</th>\n      <td>55573620</td>\n      <td>6752050391860</td>\n      <td>Giáo Trình Tự Học AutoCAD 2019 Thực Hành Bằng ...</td>\n      <td>giao-trinh-tu-hoc-autocad-2019-thuc-hanh-bang-...</td>\n      <td>Bìa mềm</td>\n      <td>Mục lục:\\nCHƯƠNG 1: BẮT ĐẦU AUTOCAD 2019 \\nCHƯ...</td>\n      <td>110000</td>\n      <td>110000</td>\n      <td>4.702</td>\n      <td>0</td>\n      <td>...</td>\n      <td>https://salt.tikicdn.com/cache/280x280/ts/prod...</td>\n      <td>Sách Công Nghệ Thông Tin, Thiết Kế - Đồ Họa</td>\n      <td>Mục lục:\\nCHƯƠNG 1: BẮT ĐẦU AUTOCAD 2019 \\nCHƯ...</td>\n      <td>Công Ty TNHH Văn Hóa - Thế Giới Sách Việt</td>\n      <td>Nhiều Tác Giả</td>\n      <td>12.0</td>\n      <td>Sách Công Nghệ Thông Tin</td>\n      <td>Thiết Kế - Đồ Họa</td>\n      <td>mục_lục chương autocad chương kỹ_năng cơ_bản c...</td>\n      <td>9114</td>\n    </tr>\n    <tr>\n      <th>3</th>\n      <td>24889348</td>\n      <td>3747885152000</td>\n      <td>Lập trình hướng đối tượng JAVA core dành cho n...</td>\n      <td>lap-trinh-huong-doi-tuong-java-core-danh-cho-n...</td>\n      <td>NaN</td>\n      <td>I. Đôi điều về tác giả\\nTôi là NEOS.THÀNH (Ngu...</td>\n      <td>189000</td>\n      <td>299000</td>\n      <td>8.079</td>\n      <td>110000</td>\n      <td>...</td>\n      <td>https://salt.tikicdn.com/cache/280x280/ts/prod...</td>\n      <td>Sách Công Nghệ Thông Tin, Lập Trình</td>\n      <td>I. Đôi điều về tác giả\\nTôi là NEOS.THÀNH (Ngu...</td>\n      <td>-</td>\n      <td>Nhiều Tác Giả</td>\n      <td>NaN</td>\n      <td>Sách Công Nghệ Thông Tin</td>\n      <td>Lập Trình</td>\n      <td>đôi tác_giả neos thành nguyễn văn thành lập_tr...</td>\n      <td>6180</td>\n    </tr>\n    <tr>\n      <th>4</th>\n      <td>37667006</td>\n      <td>5950833882104</td>\n      <td>Combo Giáo Trình Kỹ Thuật Lập Trình C Căn Bản ...</td>\n      <td>combo-giao-trinh-ky-thuat-lap-trinh-c-can-ban-...</td>\n      <td>Bìa mềm</td>\n      <td>Giáo trình kỹ thuật lập trình C căn bản và nân...</td>\n      <td>223400</td>\n      <td>280000</td>\n      <td>9.550</td>\n      <td>56600</td>\n      <td>...</td>\n      <td>https://salt.tikicdn.com/cache/280x280/ts/prod...</td>\n      <td>Sách Công Nghệ Thông Tin, Lập Trình</td>\n      <td>Giáo trình kỹ thuật lập trình C căn bản và nân...</td>\n      <td>Huy Hoàng Bookstore</td>\n      <td>Nhiều Tác Giả</td>\n      <td>97.0</td>\n      <td>Sách Công Nghệ Thông Tin</td>\n      <td>Lập Trình</td>\n      <td>giáo_trình kỹ_thuật lập_trình căn_bản nâng hìn...</td>\n      <td>7125</td>\n    </tr>\n  </tbody>\n</table>\n<p>5 rows × 25 columns</p>\n</div>"
     },
     "metadata": {},
     "execution_count": 7
    }
   ],
   "source": [
    "books.head()"
   ]
  },
  {
   "cell_type": "code",
   "execution_count": 8,
   "metadata": {},
   "outputs": [],
   "source": [
    "books.to_csv('../Data/final_all_clean_books.csv', index=False)"
   ]
  },
  {
   "cell_type": "code",
   "execution_count": 9,
   "metadata": {},
   "outputs": [
    {
     "output_type": "stream",
     "name": "stdout",
     "text": [
      "<class 'pandas.core.frame.DataFrame'>\nRangeIndex: 10330 entries, 0 to 10329\nData columns (total 15 columns):\n #   Column             Non-Null Count  Dtype  \n---  ------             --------------  -----  \n 0   id                 10330 non-null  int64  \n 1   name               10330 non-null  object \n 2   short_description  10327 non-null  object \n 3   price              10330 non-null  int64  \n 4   list_price         10330 non-null  int64  \n 5   rating_average     10330 non-null  float64\n 6   thumbnail_url      10330 non-null  object \n 7   big_category       10330 non-null  object \n 8   sub_category       10330 non-null  object \n 9   book_cover         9417 non-null   object \n 10  order_count        10330 non-null  int64  \n 11  publisher          10323 non-null  object \n 12  authors            10323 non-null  object \n 13  stock_item         8981 non-null   float64\n 14  description        10330 non-null  object \ndtypes: float64(2), int64(4), object(9)\nmemory usage: 1.2+ MB\n"
     ]
    }
   ],
   "source": [
    "new_db = pd.read_csv('../Data/new_database.csv')\n",
    "new_db.info()"
   ]
  },
  {
   "cell_type": "code",
   "execution_count": 10,
   "metadata": {},
   "outputs": [
    {
     "output_type": "execute_result",
     "data": {
      "text/plain": [
       "         id                                               name  \\\n",
       "0  58390336                                      Python cơ bản   \n",
       "1   1664525  Giáo Trình Kỹ Thuật Lập Trình C Căn Bản Và Nân...   \n",
       "2  55573620  Giáo Trình Tự Học AutoCAD 2019 Thực Hành Bằng ...   \n",
       "3  24889348  Lập trình hướng đối tượng JAVA core dành cho n...   \n",
       "4  37667006  Combo Giáo Trình Kỹ Thuật Lập Trình C Căn Bản ...   \n",
       "\n",
       "                                   short_description   price  list_price  \\\n",
       "0  SÁCH PYTHON CƠ BẢN\\r\\nHiện nay ngôn ngữ lập tr...  125000      125000   \n",
       "1  Giáo trình kỹ thuật lập trình C căn bản và nân...   67500      135000   \n",
       "2  Mục lục:\\r\\nCHƯƠNG 1: BẮT ĐẦU AUTOCAD 2019 \\r\\...  110000      110000   \n",
       "3  I. Đôi điều về tác giả\\r\\nTôi là NEOS.THÀNH (N...  189000      299000   \n",
       "4  Giáo trình kỹ thuật lập trình C căn bản và nân...  223400      280000   \n",
       "\n",
       "   rating_average                                      thumbnail_url  \\\n",
       "0             4.8  https://salt.tikicdn.com/cache/280x280/ts/prod...   \n",
       "1             4.5  https://salt.tikicdn.com/cache/280x280/ts/prod...   \n",
       "2             4.7  https://salt.tikicdn.com/cache/280x280/ts/prod...   \n",
       "3             4.7  https://salt.tikicdn.com/cache/280x280/ts/prod...   \n",
       "4             4.3  https://salt.tikicdn.com/cache/280x280/ts/prod...   \n",
       "\n",
       "               big_category     sub_category book_cover  order_count  \\\n",
       "0  sach-cong-nghe-thong-tin        lap-trinh    Bìa mềm            0   \n",
       "1  sach-cong-nghe-thong-tin        lap-trinh    Bìa mềm            0   \n",
       "2  sach-cong-nghe-thong-tin  thiet-ke-do-hoa    Bìa mềm            0   \n",
       "3  sach-cong-nghe-thong-tin        lap-trinh        NaN            0   \n",
       "4  sach-cong-nghe-thong-tin        lap-trinh    Bìa mềm            0   \n",
       "\n",
       "                                   publisher  \\\n",
       "0                NXB Đại Học Quốc Gia Hà Nội   \n",
       "1                        Huy Hoàng Bookstore   \n",
       "2  Công Ty TNHH Văn Hóa - Thế Giới Sách Việt   \n",
       "3                                          -   \n",
       "4                        Huy Hoàng Bookstore   \n",
       "\n",
       "                                             authors  stock_item  \\\n",
       "0                                        Bùi Việt Hà         5.0   \n",
       "1                                      Nhiều Tác Giả       801.0   \n",
       "2                                      Nhiều Tác Giả        12.0   \n",
       "3  Tiki hoàn tiền 111% nếu phát hiện hàng giả, Ca...         NaN   \n",
       "4                                      Nhiều Tác Giả        97.0   \n",
       "\n",
       "                                         description  \n",
       "0  <p><strong>SÁCH PYTHON CƠ BẢN</strong></p>\\r\\n...  \n",
       "1  <p><strong>Giáo trình kỹ thuật lập trình C căn...  \n",
       "2  <p><span style=\"text-decoration: underline;\"><...  \n",
       "3  <p><strong>I. Đôi điều về tác giả</strong></p>...  \n",
       "4  Giáo trình kỹ thuật lập trình C căn bản và nân...  "
      ],
      "text/html": "<div>\n<style scoped>\n    .dataframe tbody tr th:only-of-type {\n        vertical-align: middle;\n    }\n\n    .dataframe tbody tr th {\n        vertical-align: top;\n    }\n\n    .dataframe thead th {\n        text-align: right;\n    }\n</style>\n<table border=\"1\" class=\"dataframe\">\n  <thead>\n    <tr style=\"text-align: right;\">\n      <th></th>\n      <th>id</th>\n      <th>name</th>\n      <th>short_description</th>\n      <th>price</th>\n      <th>list_price</th>\n      <th>rating_average</th>\n      <th>thumbnail_url</th>\n      <th>big_category</th>\n      <th>sub_category</th>\n      <th>book_cover</th>\n      <th>order_count</th>\n      <th>publisher</th>\n      <th>authors</th>\n      <th>stock_item</th>\n      <th>description</th>\n    </tr>\n  </thead>\n  <tbody>\n    <tr>\n      <th>0</th>\n      <td>58390336</td>\n      <td>Python cơ bản</td>\n      <td>SÁCH PYTHON CƠ BẢN\\r\\nHiện nay ngôn ngữ lập tr...</td>\n      <td>125000</td>\n      <td>125000</td>\n      <td>4.8</td>\n      <td>https://salt.tikicdn.com/cache/280x280/ts/prod...</td>\n      <td>sach-cong-nghe-thong-tin</td>\n      <td>lap-trinh</td>\n      <td>Bìa mềm</td>\n      <td>0</td>\n      <td>NXB Đại Học Quốc Gia Hà Nội</td>\n      <td>Bùi Việt Hà</td>\n      <td>5.0</td>\n      <td>&lt;p&gt;&lt;strong&gt;SÁCH PYTHON CƠ BẢN&lt;/strong&gt;&lt;/p&gt;\\r\\n...</td>\n    </tr>\n    <tr>\n      <th>1</th>\n      <td>1664525</td>\n      <td>Giáo Trình Kỹ Thuật Lập Trình C Căn Bản Và Nân...</td>\n      <td>Giáo trình kỹ thuật lập trình C căn bản và nân...</td>\n      <td>67500</td>\n      <td>135000</td>\n      <td>4.5</td>\n      <td>https://salt.tikicdn.com/cache/280x280/ts/prod...</td>\n      <td>sach-cong-nghe-thong-tin</td>\n      <td>lap-trinh</td>\n      <td>Bìa mềm</td>\n      <td>0</td>\n      <td>Huy Hoàng Bookstore</td>\n      <td>Nhiều Tác Giả</td>\n      <td>801.0</td>\n      <td>&lt;p&gt;&lt;strong&gt;Giáo trình kỹ thuật lập trình C căn...</td>\n    </tr>\n    <tr>\n      <th>2</th>\n      <td>55573620</td>\n      <td>Giáo Trình Tự Học AutoCAD 2019 Thực Hành Bằng ...</td>\n      <td>Mục lục:\\r\\nCHƯƠNG 1: BẮT ĐẦU AUTOCAD 2019 \\r\\...</td>\n      <td>110000</td>\n      <td>110000</td>\n      <td>4.7</td>\n      <td>https://salt.tikicdn.com/cache/280x280/ts/prod...</td>\n      <td>sach-cong-nghe-thong-tin</td>\n      <td>thiet-ke-do-hoa</td>\n      <td>Bìa mềm</td>\n      <td>0</td>\n      <td>Công Ty TNHH Văn Hóa - Thế Giới Sách Việt</td>\n      <td>Nhiều Tác Giả</td>\n      <td>12.0</td>\n      <td>&lt;p&gt;&lt;span style=\"text-decoration: underline;\"&gt;&lt;...</td>\n    </tr>\n    <tr>\n      <th>3</th>\n      <td>24889348</td>\n      <td>Lập trình hướng đối tượng JAVA core dành cho n...</td>\n      <td>I. Đôi điều về tác giả\\r\\nTôi là NEOS.THÀNH (N...</td>\n      <td>189000</td>\n      <td>299000</td>\n      <td>4.7</td>\n      <td>https://salt.tikicdn.com/cache/280x280/ts/prod...</td>\n      <td>sach-cong-nghe-thong-tin</td>\n      <td>lap-trinh</td>\n      <td>NaN</td>\n      <td>0</td>\n      <td>-</td>\n      <td>Tiki hoàn tiền 111% nếu phát hiện hàng giả, Ca...</td>\n      <td>NaN</td>\n      <td>&lt;p&gt;&lt;strong&gt;I. Đôi điều về tác giả&lt;/strong&gt;&lt;/p&gt;...</td>\n    </tr>\n    <tr>\n      <th>4</th>\n      <td>37667006</td>\n      <td>Combo Giáo Trình Kỹ Thuật Lập Trình C Căn Bản ...</td>\n      <td>Giáo trình kỹ thuật lập trình C căn bản và nân...</td>\n      <td>223400</td>\n      <td>280000</td>\n      <td>4.3</td>\n      <td>https://salt.tikicdn.com/cache/280x280/ts/prod...</td>\n      <td>sach-cong-nghe-thong-tin</td>\n      <td>lap-trinh</td>\n      <td>Bìa mềm</td>\n      <td>0</td>\n      <td>Huy Hoàng Bookstore</td>\n      <td>Nhiều Tác Giả</td>\n      <td>97.0</td>\n      <td>Giáo trình kỹ thuật lập trình C căn bản và nân...</td>\n    </tr>\n  </tbody>\n</table>\n</div>"
     },
     "metadata": {},
     "execution_count": 10
    }
   ],
   "source": [
    "new_db.head()"
   ]
  },
  {
   "cell_type": "code",
   "execution_count": 11,
   "metadata": {},
   "outputs": [],
   "source": [
    "new_db['new_author'] = books['authors']"
   ]
  },
  {
   "cell_type": "code",
   "execution_count": 12,
   "metadata": {},
   "outputs": [],
   "source": [
    "new_db.drop('authors', axis=1, inplace=True)"
   ]
  },
  {
   "cell_type": "code",
   "execution_count": 13,
   "metadata": {},
   "outputs": [
    {
     "output_type": "execute_result",
     "data": {
      "text/plain": [
       "Nhiều Tác Giả                    2038\n",
       " Nhiều Tác Giả                    205\n",
       "Gosho Aoyama                       94\n",
       "Eiichiro Oda                       60\n",
       "Fujiko F Fujio                     53\n",
       "                                 ... \n",
       "Song Hongbing                       1\n",
       "Tập San Sử Địa                      1\n",
       "Nhóm tác giả NA9                    1\n",
       "Hoài Thanh, Hoài Chân               1\n",
       "Joseph O'Connor, John Seymour       1\n",
       "Name: authors, Length: 4358, dtype: int64"
      ]
     },
     "metadata": {},
     "execution_count": 13
    }
   ],
   "source": [
    "new_db.rename(columns={'new_author': 'authors'}, inplace=True)\n",
    "new_db.authors.value_counts()"
   ]
  },
  {
   "cell_type": "code",
   "execution_count": 14,
   "metadata": {},
   "outputs": [],
   "source": [
    "new_db['new_description'] = books['description']"
   ]
  },
  {
   "cell_type": "code",
   "execution_count": 15,
   "metadata": {},
   "outputs": [],
   "source": [
    "new_db.drop('description', axis=1, inplace=True)\n",
    "new_db.rename(columns={'new_description': 'description'}, inplace=True)"
   ]
  },
  {
   "cell_type": "code",
   "execution_count": 16,
   "metadata": {},
   "outputs": [
    {
     "output_type": "execute_result",
     "data": {
      "text/plain": [
       "0    SÁCH PYTHON CƠ BẢN\\nHiện nay ngôn ngữ lập trìn...\n",
       "1    Giáo trình kỹ thuật lập trình C căn bản và nân...\n",
       "2    Mục lục:\\nCHƯƠNG 1: BẮT ĐẦU AUTOCAD 2019 \\nCHƯ...\n",
       "3    I. Đôi điều về tác giả\\nTôi là NEOS.THÀNH (Ngu...\n",
       "4    Giáo trình kỹ thuật lập trình C căn bản và nân...\n",
       "Name: description, dtype: object"
      ]
     },
     "metadata": {},
     "execution_count": 16
    }
   ],
   "source": [
    "new_db['description'].head()"
   ]
  },
  {
   "cell_type": "code",
   "execution_count": 17,
   "metadata": {},
   "outputs": [],
   "source": [
    "new_db['new_id'] = new_db['id'].apply(lambda x: np.where(product_index==int(x))[0][0])"
   ]
  },
  {
   "cell_type": "code",
   "execution_count": 18,
   "metadata": {},
   "outputs": [],
   "source": [
    "new_db.drop('id', axis=1, inplace=True)\n",
    "new_db.rename(columns={'new_id': 'id'}, inplace=True)"
   ]
  },
  {
   "cell_type": "code",
   "execution_count": 19,
   "metadata": {},
   "outputs": [
    {
     "output_type": "stream",
     "name": "stdout",
     "text": [
      "<class 'pandas.core.frame.DataFrame'>\nRangeIndex: 10330 entries, 0 to 10329\nData columns (total 15 columns):\n #   Column             Non-Null Count  Dtype  \n---  ------             --------------  -----  \n 0   name               10330 non-null  object \n 1   short_description  10327 non-null  object \n 2   price              10330 non-null  int64  \n 3   list_price         10330 non-null  int64  \n 4   rating_average     10330 non-null  float64\n 5   thumbnail_url      10330 non-null  object \n 6   big_category       10330 non-null  object \n 7   sub_category       10330 non-null  object \n 8   book_cover         9417 non-null   object \n 9   order_count        10330 non-null  int64  \n 10  publisher          10323 non-null  object \n 11  stock_item         8981 non-null   float64\n 12  authors            10323 non-null  object \n 13  description        10326 non-null  object \n 14  id                 10330 non-null  int64  \ndtypes: float64(2), int64(4), object(9)\nmemory usage: 1.2+ MB\n"
     ]
    }
   ],
   "source": [
    "new_db.info()"
   ]
  },
  {
   "cell_type": "code",
   "execution_count": 20,
   "metadata": {},
   "outputs": [],
   "source": [
    "new_database = new_db[['id', 'name', 'short_description', 'price', 'list_price', 'rating_average', 'thumbnail_url', 'big_category', 'sub_category', 'book_cover', 'order_count', 'publisher', 'authors', 'stock_item', 'description']]"
   ]
  },
  {
   "cell_type": "code",
   "execution_count": 21,
   "metadata": {},
   "outputs": [],
   "source": [
    "# new_database.to_csv('../Data/newDB_19_11.csv', index=False)"
   ]
  },
  {
   "cell_type": "code",
   "execution_count": 22,
   "metadata": {},
   "outputs": [
    {
     "output_type": "execute_result",
     "data": {
      "text/plain": [
       "     id                                               name  \\\n",
       "0  9649                                      Python cơ bản   \n",
       "1  2371  Giáo Trình Kỹ Thuật Lập Trình C Căn Bản Và Nân...   \n",
       "2  9114  Giáo Trình Tự Học AutoCAD 2019 Thực Hành Bằng ...   \n",
       "3  6180  Lập trình hướng đối tượng JAVA core dành cho n...   \n",
       "4  7125  Combo Giáo Trình Kỹ Thuật Lập Trình C Căn Bản ...   \n",
       "\n",
       "                                   short_description   price  list_price  \\\n",
       "0  SÁCH PYTHON CƠ BẢN\\r\\nHiện nay ngôn ngữ lập tr...  125000      125000   \n",
       "1  Giáo trình kỹ thuật lập trình C căn bản và nân...   67500      135000   \n",
       "2  Mục lục:\\r\\nCHƯƠNG 1: BẮT ĐẦU AUTOCAD 2019 \\r\\...  110000      110000   \n",
       "3  I. Đôi điều về tác giả\\r\\nTôi là NEOS.THÀNH (N...  189000      299000   \n",
       "4  Giáo trình kỹ thuật lập trình C căn bản và nân...  223400      280000   \n",
       "\n",
       "   rating_average                                      thumbnail_url  \\\n",
       "0             4.8  https://salt.tikicdn.com/cache/280x280/ts/prod...   \n",
       "1             4.5  https://salt.tikicdn.com/cache/280x280/ts/prod...   \n",
       "2             4.7  https://salt.tikicdn.com/cache/280x280/ts/prod...   \n",
       "3             4.7  https://salt.tikicdn.com/cache/280x280/ts/prod...   \n",
       "4             4.3  https://salt.tikicdn.com/cache/280x280/ts/prod...   \n",
       "\n",
       "               big_category     sub_category book_cover  order_count  \\\n",
       "0  sach-cong-nghe-thong-tin        lap-trinh    Bìa mềm            0   \n",
       "1  sach-cong-nghe-thong-tin        lap-trinh    Bìa mềm            0   \n",
       "2  sach-cong-nghe-thong-tin  thiet-ke-do-hoa    Bìa mềm            0   \n",
       "3  sach-cong-nghe-thong-tin        lap-trinh        NaN            0   \n",
       "4  sach-cong-nghe-thong-tin        lap-trinh    Bìa mềm            0   \n",
       "\n",
       "                                   publisher        authors  stock_item  \\\n",
       "0                NXB Đại Học Quốc Gia Hà Nội    Bùi Việt Hà         5.0   \n",
       "1                        Huy Hoàng Bookstore  Nhiều Tác Giả       801.0   \n",
       "2  Công Ty TNHH Văn Hóa - Thế Giới Sách Việt  Nhiều Tác Giả        12.0   \n",
       "3                                          -  Nhiều Tác Giả         NaN   \n",
       "4                        Huy Hoàng Bookstore  Nhiều Tác Giả        97.0   \n",
       "\n",
       "                                         description  \n",
       "0  SÁCH PYTHON CƠ BẢN\\nHiện nay ngôn ngữ lập trìn...  \n",
       "1  Giáo trình kỹ thuật lập trình C căn bản và nân...  \n",
       "2  Mục lục:\\nCHƯƠNG 1: BẮT ĐẦU AUTOCAD 2019 \\nCHƯ...  \n",
       "3  I. Đôi điều về tác giả\\nTôi là NEOS.THÀNH (Ngu...  \n",
       "4  Giáo trình kỹ thuật lập trình C căn bản và nân...  "
      ],
      "text/html": "<div>\n<style scoped>\n    .dataframe tbody tr th:only-of-type {\n        vertical-align: middle;\n    }\n\n    .dataframe tbody tr th {\n        vertical-align: top;\n    }\n\n    .dataframe thead th {\n        text-align: right;\n    }\n</style>\n<table border=\"1\" class=\"dataframe\">\n  <thead>\n    <tr style=\"text-align: right;\">\n      <th></th>\n      <th>id</th>\n      <th>name</th>\n      <th>short_description</th>\n      <th>price</th>\n      <th>list_price</th>\n      <th>rating_average</th>\n      <th>thumbnail_url</th>\n      <th>big_category</th>\n      <th>sub_category</th>\n      <th>book_cover</th>\n      <th>order_count</th>\n      <th>publisher</th>\n      <th>authors</th>\n      <th>stock_item</th>\n      <th>description</th>\n    </tr>\n  </thead>\n  <tbody>\n    <tr>\n      <th>0</th>\n      <td>9649</td>\n      <td>Python cơ bản</td>\n      <td>SÁCH PYTHON CƠ BẢN\\r\\nHiện nay ngôn ngữ lập tr...</td>\n      <td>125000</td>\n      <td>125000</td>\n      <td>4.8</td>\n      <td>https://salt.tikicdn.com/cache/280x280/ts/prod...</td>\n      <td>sach-cong-nghe-thong-tin</td>\n      <td>lap-trinh</td>\n      <td>Bìa mềm</td>\n      <td>0</td>\n      <td>NXB Đại Học Quốc Gia Hà Nội</td>\n      <td>Bùi Việt Hà</td>\n      <td>5.0</td>\n      <td>SÁCH PYTHON CƠ BẢN\\nHiện nay ngôn ngữ lập trìn...</td>\n    </tr>\n    <tr>\n      <th>1</th>\n      <td>2371</td>\n      <td>Giáo Trình Kỹ Thuật Lập Trình C Căn Bản Và Nân...</td>\n      <td>Giáo trình kỹ thuật lập trình C căn bản và nân...</td>\n      <td>67500</td>\n      <td>135000</td>\n      <td>4.5</td>\n      <td>https://salt.tikicdn.com/cache/280x280/ts/prod...</td>\n      <td>sach-cong-nghe-thong-tin</td>\n      <td>lap-trinh</td>\n      <td>Bìa mềm</td>\n      <td>0</td>\n      <td>Huy Hoàng Bookstore</td>\n      <td>Nhiều Tác Giả</td>\n      <td>801.0</td>\n      <td>Giáo trình kỹ thuật lập trình C căn bản và nân...</td>\n    </tr>\n    <tr>\n      <th>2</th>\n      <td>9114</td>\n      <td>Giáo Trình Tự Học AutoCAD 2019 Thực Hành Bằng ...</td>\n      <td>Mục lục:\\r\\nCHƯƠNG 1: BẮT ĐẦU AUTOCAD 2019 \\r\\...</td>\n      <td>110000</td>\n      <td>110000</td>\n      <td>4.7</td>\n      <td>https://salt.tikicdn.com/cache/280x280/ts/prod...</td>\n      <td>sach-cong-nghe-thong-tin</td>\n      <td>thiet-ke-do-hoa</td>\n      <td>Bìa mềm</td>\n      <td>0</td>\n      <td>Công Ty TNHH Văn Hóa - Thế Giới Sách Việt</td>\n      <td>Nhiều Tác Giả</td>\n      <td>12.0</td>\n      <td>Mục lục:\\nCHƯƠNG 1: BẮT ĐẦU AUTOCAD 2019 \\nCHƯ...</td>\n    </tr>\n    <tr>\n      <th>3</th>\n      <td>6180</td>\n      <td>Lập trình hướng đối tượng JAVA core dành cho n...</td>\n      <td>I. Đôi điều về tác giả\\r\\nTôi là NEOS.THÀNH (N...</td>\n      <td>189000</td>\n      <td>299000</td>\n      <td>4.7</td>\n      <td>https://salt.tikicdn.com/cache/280x280/ts/prod...</td>\n      <td>sach-cong-nghe-thong-tin</td>\n      <td>lap-trinh</td>\n      <td>NaN</td>\n      <td>0</td>\n      <td>-</td>\n      <td>Nhiều Tác Giả</td>\n      <td>NaN</td>\n      <td>I. Đôi điều về tác giả\\nTôi là NEOS.THÀNH (Ngu...</td>\n    </tr>\n    <tr>\n      <th>4</th>\n      <td>7125</td>\n      <td>Combo Giáo Trình Kỹ Thuật Lập Trình C Căn Bản ...</td>\n      <td>Giáo trình kỹ thuật lập trình C căn bản và nân...</td>\n      <td>223400</td>\n      <td>280000</td>\n      <td>4.3</td>\n      <td>https://salt.tikicdn.com/cache/280x280/ts/prod...</td>\n      <td>sach-cong-nghe-thong-tin</td>\n      <td>lap-trinh</td>\n      <td>Bìa mềm</td>\n      <td>0</td>\n      <td>Huy Hoàng Bookstore</td>\n      <td>Nhiều Tác Giả</td>\n      <td>97.0</td>\n      <td>Giáo trình kỹ thuật lập trình C căn bản và nân...</td>\n    </tr>\n  </tbody>\n</table>\n</div>"
     },
     "metadata": {},
     "execution_count": 22
    }
   ],
   "source": [
    "new_database.head()"
   ]
  },
  {
   "cell_type": "code",
   "execution_count": 23,
   "metadata": {},
   "outputs": [],
   "source": [
    "all_ratings = pd.read_csv('../Data/all_rating.csv')"
   ]
  },
  {
   "cell_type": "code",
   "execution_count": 24,
   "metadata": {},
   "outputs": [
    {
     "output_type": "execute_result",
     "data": {
      "text/plain": [
       "   product_id                                            content  customer_id  \\\n",
       "0    58441480  Giao hàng nhanh , sách đẹp .Giao hôm qua hn Ti...      7201105   \n",
       "1    58441480  Nội dung hay, Phụ huynh nên đọc để định hướng ...       823195   \n",
       "2    58441480  Sách hay dành cho cả người lớn và trẻ nhỏ. Hìn...      6927758   \n",
       "3    58441480                   sách quá đẹp đi! nội dung rất ok        73375   \n",
       "4    58441480                                           Sách đẹp      7103521   \n",
       "\n",
       "          user_name  stars  comment_id  \n",
       "0          Hải Phạm      5     4702781  \n",
       "1      Trang Nguyen      5     4940437  \n",
       "2          Luyen Do      4     4690057  \n",
       "3          Hiểu Mai      5     4645307  \n",
       "4  Nguyễn Xuân Hùng      5     4627799  "
      ],
      "text/html": "<div>\n<style scoped>\n    .dataframe tbody tr th:only-of-type {\n        vertical-align: middle;\n    }\n\n    .dataframe tbody tr th {\n        vertical-align: top;\n    }\n\n    .dataframe thead th {\n        text-align: right;\n    }\n</style>\n<table border=\"1\" class=\"dataframe\">\n  <thead>\n    <tr style=\"text-align: right;\">\n      <th></th>\n      <th>product_id</th>\n      <th>content</th>\n      <th>customer_id</th>\n      <th>user_name</th>\n      <th>stars</th>\n      <th>comment_id</th>\n    </tr>\n  </thead>\n  <tbody>\n    <tr>\n      <th>0</th>\n      <td>58441480</td>\n      <td>Giao hàng nhanh , sách đẹp .Giao hôm qua hn Ti...</td>\n      <td>7201105</td>\n      <td>Hải Phạm</td>\n      <td>5</td>\n      <td>4702781</td>\n    </tr>\n    <tr>\n      <th>1</th>\n      <td>58441480</td>\n      <td>Nội dung hay, Phụ huynh nên đọc để định hướng ...</td>\n      <td>823195</td>\n      <td>Trang Nguyen</td>\n      <td>5</td>\n      <td>4940437</td>\n    </tr>\n    <tr>\n      <th>2</th>\n      <td>58441480</td>\n      <td>Sách hay dành cho cả người lớn và trẻ nhỏ. Hìn...</td>\n      <td>6927758</td>\n      <td>Luyen Do</td>\n      <td>4</td>\n      <td>4690057</td>\n    </tr>\n    <tr>\n      <th>3</th>\n      <td>58441480</td>\n      <td>sách quá đẹp đi! nội dung rất ok</td>\n      <td>73375</td>\n      <td>Hiểu Mai</td>\n      <td>5</td>\n      <td>4645307</td>\n    </tr>\n    <tr>\n      <th>4</th>\n      <td>58441480</td>\n      <td>Sách đẹp</td>\n      <td>7103521</td>\n      <td>Nguyễn Xuân Hùng</td>\n      <td>5</td>\n      <td>4627799</td>\n    </tr>\n  </tbody>\n</table>\n</div>"
     },
     "metadata": {},
     "execution_count": 24
    }
   ],
   "source": [
    "all_ratings.head()"
   ]
  },
  {
   "cell_type": "code",
   "execution_count": 25,
   "metadata": {},
   "outputs": [
    {
     "output_type": "stream",
     "name": "stdout",
     "text": [
      "<class 'pandas.core.frame.DataFrame'>\nRangeIndex: 267742 entries, 0 to 267741\nData columns (total 6 columns):\n #   Column       Non-Null Count   Dtype \n---  ------       --------------   ----- \n 0   product_id   267742 non-null  int64 \n 1   content      179888 non-null  object\n 2   customer_id  267742 non-null  int64 \n 3   user_name    267049 non-null  object\n 4   stars        267742 non-null  int64 \n 5   comment_id   267742 non-null  int64 \ndtypes: int64(4), object(2)\nmemory usage: 12.3+ MB\n"
     ]
    }
   ],
   "source": [
    "all_ratings.info()"
   ]
  },
  {
   "cell_type": "code",
   "execution_count": 26,
   "metadata": {},
   "outputs": [],
   "source": [
    "all_ratings.drop_duplicates(['product_id', 'customer_id', 'stars'], inplace=True)"
   ]
  },
  {
   "cell_type": "code",
   "execution_count": 27,
   "metadata": {},
   "outputs": [
    {
     "output_type": "stream",
     "name": "stdout",
     "text": [
      "<class 'pandas.core.frame.DataFrame'>\nInt64Index: 267627 entries, 0 to 267741\nData columns (total 6 columns):\n #   Column       Non-Null Count   Dtype \n---  ------       --------------   ----- \n 0   product_id   267627 non-null  int64 \n 1   content      179790 non-null  object\n 2   customer_id  267627 non-null  int64 \n 3   user_name    266936 non-null  object\n 4   stars        267627 non-null  int64 \n 5   comment_id   267627 non-null  int64 \ndtypes: int64(4), object(2)\nmemory usage: 14.3+ MB\n"
     ]
    }
   ],
   "source": [
    "all_ratings.info()"
   ]
  },
  {
   "cell_type": "code",
   "execution_count": 28,
   "metadata": {},
   "outputs": [
    {
     "output_type": "execute_result",
     "data": {
      "text/plain": [
       "   product_id                                            content  customer_id  \\\n",
       "0    58441480  Giao hàng nhanh , sách đẹp .Giao hôm qua hn Ti...      7201105   \n",
       "1    58441480  Nội dung hay, Phụ huynh nên đọc để định hướng ...       823195   \n",
       "2    58441480  Sách hay dành cho cả người lớn và trẻ nhỏ. Hìn...      6927758   \n",
       "3    58441480                   sách quá đẹp đi! nội dung rất ok        73375   \n",
       "4    58441480                                           Sách đẹp      7103521   \n",
       "\n",
       "          user_name  stars  comment_id  \n",
       "0          Hải Phạm      5     4702781  \n",
       "1      Trang Nguyen      5     4940437  \n",
       "2          Luyen Do      4     4690057  \n",
       "3          Hiểu Mai      5     4645307  \n",
       "4  Nguyễn Xuân Hùng      5     4627799  "
      ],
      "text/html": "<div>\n<style scoped>\n    .dataframe tbody tr th:only-of-type {\n        vertical-align: middle;\n    }\n\n    .dataframe tbody tr th {\n        vertical-align: top;\n    }\n\n    .dataframe thead th {\n        text-align: right;\n    }\n</style>\n<table border=\"1\" class=\"dataframe\">\n  <thead>\n    <tr style=\"text-align: right;\">\n      <th></th>\n      <th>product_id</th>\n      <th>content</th>\n      <th>customer_id</th>\n      <th>user_name</th>\n      <th>stars</th>\n      <th>comment_id</th>\n    </tr>\n  </thead>\n  <tbody>\n    <tr>\n      <th>0</th>\n      <td>58441480</td>\n      <td>Giao hàng nhanh , sách đẹp .Giao hôm qua hn Ti...</td>\n      <td>7201105</td>\n      <td>Hải Phạm</td>\n      <td>5</td>\n      <td>4702781</td>\n    </tr>\n    <tr>\n      <th>1</th>\n      <td>58441480</td>\n      <td>Nội dung hay, Phụ huynh nên đọc để định hướng ...</td>\n      <td>823195</td>\n      <td>Trang Nguyen</td>\n      <td>5</td>\n      <td>4940437</td>\n    </tr>\n    <tr>\n      <th>2</th>\n      <td>58441480</td>\n      <td>Sách hay dành cho cả người lớn và trẻ nhỏ. Hìn...</td>\n      <td>6927758</td>\n      <td>Luyen Do</td>\n      <td>4</td>\n      <td>4690057</td>\n    </tr>\n    <tr>\n      <th>3</th>\n      <td>58441480</td>\n      <td>sách quá đẹp đi! nội dung rất ok</td>\n      <td>73375</td>\n      <td>Hiểu Mai</td>\n      <td>5</td>\n      <td>4645307</td>\n    </tr>\n    <tr>\n      <th>4</th>\n      <td>58441480</td>\n      <td>Sách đẹp</td>\n      <td>7103521</td>\n      <td>Nguyễn Xuân Hùng</td>\n      <td>5</td>\n      <td>4627799</td>\n    </tr>\n  </tbody>\n</table>\n</div>"
     },
     "metadata": {},
     "execution_count": 28
    }
   ],
   "source": [
    "all_ratings.head()"
   ]
  },
  {
   "cell_type": "code",
   "execution_count": 29,
   "metadata": {},
   "outputs": [
    {
     "output_type": "execute_result",
     "data": {
      "text/plain": [
       "9672"
      ]
     },
     "metadata": {},
     "execution_count": 29
    }
   ],
   "source": [
    "np.where(product_index==58441480)[0][0]"
   ]
  },
  {
   "cell_type": "code",
   "execution_count": 30,
   "metadata": {},
   "outputs": [],
   "source": [
    "def format_id(id_):\n",
    "    try:\n",
    "        return np.where(product_index==id_)[0][0]\n",
    "    except:\n",
    "        return -1"
   ]
  },
  {
   "cell_type": "code",
   "execution_count": 31,
   "metadata": {},
   "outputs": [],
   "source": [
    "all_ratings['new_product_id'] = all_ratings['product_id'].apply(lambda x: format_id(int(x)))"
   ]
  },
  {
   "cell_type": "code",
   "execution_count": 32,
   "metadata": {},
   "outputs": [
    {
     "output_type": "execute_result",
     "data": {
      "text/plain": [
       "-1        29809\n",
       " 224        200\n",
       " 1069       200\n",
       " 4146       200\n",
       " 1218       200\n",
       "          ...  \n",
       " 10027        1\n",
       " 1583         1\n",
       " 3521         1\n",
       " 3374         1\n",
       " 7299         1\n",
       "Name: new_product_id, Length: 8201, dtype: int64"
      ]
     },
     "metadata": {},
     "execution_count": 32
    }
   ],
   "source": [
    "all_ratings['new_product_id'].value_counts()"
   ]
  },
  {
   "cell_type": "code",
   "execution_count": 33,
   "metadata": {},
   "outputs": [],
   "source": [
    "drop_id = all_ratings[all_ratings['new_product_id']==-1].index"
   ]
  },
  {
   "cell_type": "code",
   "execution_count": 34,
   "metadata": {},
   "outputs": [],
   "source": [
    "all_ratings.drop(drop_id, inplace=True)"
   ]
  },
  {
   "cell_type": "code",
   "execution_count": 35,
   "metadata": {},
   "outputs": [],
   "source": [
    "all_ratings.drop('product_id', axis=1, inplace=True)\n",
    "all_ratings.rename(columns={'new_product_id': 'product_id'}, inplace=True)"
   ]
  },
  {
   "cell_type": "code",
   "execution_count": 36,
   "metadata": {},
   "outputs": [],
   "source": [
    "customer_index = np.unique(all_ratings['customer_id'])\n",
    "customer_index = np.sort(customer_index)\n",
    "all_ratings['id_customer'] = all_ratings['customer_id'].apply(lambda x: np.where(customer_index==int(x))[0][0])"
   ]
  },
  {
   "cell_type": "code",
   "execution_count": 37,
   "metadata": {},
   "outputs": [],
   "source": [
    "all_ratings.drop('customer_id', axis=1, inplace=True)\n",
    "all_ratings.rename(columns={'id_customer': 'customer_id'}, inplace=True)"
   ]
  },
  {
   "cell_type": "code",
   "execution_count": 38,
   "metadata": {},
   "outputs": [
    {
     "output_type": "execute_result",
     "data": {
      "text/plain": [
       "                                             content         user_name  stars  \\\n",
       "0  Giao hàng nhanh , sách đẹp .Giao hôm qua hn Ti...          Hải Phạm      5   \n",
       "1  Nội dung hay, Phụ huynh nên đọc để định hướng ...      Trang Nguyen      5   \n",
       "2  Sách hay dành cho cả người lớn và trẻ nhỏ. Hìn...          Luyen Do      4   \n",
       "3                   sách quá đẹp đi! nội dung rất ok          Hiểu Mai      5   \n",
       "4                                           Sách đẹp  Nguyễn Xuân Hùng      5   \n",
       "\n",
       "   comment_id  product_id  customer_id  \n",
       "0     4702781        9672        65646  \n",
       "1     4940437        9672        20169  \n",
       "2     4690057        9672        62936  \n",
       "3     4645307        9672         2330  \n",
       "4     4627799        9672        64725  "
      ],
      "text/html": "<div>\n<style scoped>\n    .dataframe tbody tr th:only-of-type {\n        vertical-align: middle;\n    }\n\n    .dataframe tbody tr th {\n        vertical-align: top;\n    }\n\n    .dataframe thead th {\n        text-align: right;\n    }\n</style>\n<table border=\"1\" class=\"dataframe\">\n  <thead>\n    <tr style=\"text-align: right;\">\n      <th></th>\n      <th>content</th>\n      <th>user_name</th>\n      <th>stars</th>\n      <th>comment_id</th>\n      <th>product_id</th>\n      <th>customer_id</th>\n    </tr>\n  </thead>\n  <tbody>\n    <tr>\n      <th>0</th>\n      <td>Giao hàng nhanh , sách đẹp .Giao hôm qua hn Ti...</td>\n      <td>Hải Phạm</td>\n      <td>5</td>\n      <td>4702781</td>\n      <td>9672</td>\n      <td>65646</td>\n    </tr>\n    <tr>\n      <th>1</th>\n      <td>Nội dung hay, Phụ huynh nên đọc để định hướng ...</td>\n      <td>Trang Nguyen</td>\n      <td>5</td>\n      <td>4940437</td>\n      <td>9672</td>\n      <td>20169</td>\n    </tr>\n    <tr>\n      <th>2</th>\n      <td>Sách hay dành cho cả người lớn và trẻ nhỏ. Hìn...</td>\n      <td>Luyen Do</td>\n      <td>4</td>\n      <td>4690057</td>\n      <td>9672</td>\n      <td>62936</td>\n    </tr>\n    <tr>\n      <th>3</th>\n      <td>sách quá đẹp đi! nội dung rất ok</td>\n      <td>Hiểu Mai</td>\n      <td>5</td>\n      <td>4645307</td>\n      <td>9672</td>\n      <td>2330</td>\n    </tr>\n    <tr>\n      <th>4</th>\n      <td>Sách đẹp</td>\n      <td>Nguyễn Xuân Hùng</td>\n      <td>5</td>\n      <td>4627799</td>\n      <td>9672</td>\n      <td>64725</td>\n    </tr>\n  </tbody>\n</table>\n</div>"
     },
     "metadata": {},
     "execution_count": 38
    }
   ],
   "source": [
    "all_ratings.head()"
   ]
  },
  {
   "cell_type": "code",
   "execution_count": 39,
   "metadata": {},
   "outputs": [],
   "source": [
    "ratings = all_ratings[['product_id', 'content', 'customer_id', 'user_name', 'stars', 'comment_id']]"
   ]
  },
  {
   "cell_type": "code",
   "execution_count": 40,
   "metadata": {},
   "outputs": [],
   "source": [
    "# ratings.to_csv('../Data/final_all_rating.csv', index=False)"
   ]
  },
  {
   "cell_type": "code",
   "execution_count": 41,
   "metadata": {},
   "outputs": [
    {
     "output_type": "execute_result",
     "data": {
      "text/plain": [
       "   product_id                                            content  customer_id  \\\n",
       "0    58441480                                                NaN      6024679   \n",
       "1    58441480                                                NaN     11333255   \n",
       "2     3071851  Sách có hình vẽ và nội dung rất đáng yêu, là m...      6292041   \n",
       "3     3071851           Sách dễ thương. Bé nhà mình rất thích :)     10905691   \n",
       "4     3071851                                     Sách dễ thương      7933673   \n",
       "\n",
       "           user_name  stars  comment_id  \n",
       "0         Nhung Phạm      5     4864338  \n",
       "1  Nguyen Nang Quang      4     4589409  \n",
       "2      Phan Thi Hoan      5     2831147  \n",
       "3            Yến Nhi      5     3477988  \n",
       "4          Ngoc Dung      5     4633043  "
      ],
      "text/html": "<div>\n<style scoped>\n    .dataframe tbody tr th:only-of-type {\n        vertical-align: middle;\n    }\n\n    .dataframe tbody tr th {\n        vertical-align: top;\n    }\n\n    .dataframe thead th {\n        text-align: right;\n    }\n</style>\n<table border=\"1\" class=\"dataframe\">\n  <thead>\n    <tr style=\"text-align: right;\">\n      <th></th>\n      <th>product_id</th>\n      <th>content</th>\n      <th>customer_id</th>\n      <th>user_name</th>\n      <th>stars</th>\n      <th>comment_id</th>\n    </tr>\n  </thead>\n  <tbody>\n    <tr>\n      <th>0</th>\n      <td>58441480</td>\n      <td>NaN</td>\n      <td>6024679</td>\n      <td>Nhung Phạm</td>\n      <td>5</td>\n      <td>4864338</td>\n    </tr>\n    <tr>\n      <th>1</th>\n      <td>58441480</td>\n      <td>NaN</td>\n      <td>11333255</td>\n      <td>Nguyen Nang Quang</td>\n      <td>4</td>\n      <td>4589409</td>\n    </tr>\n    <tr>\n      <th>2</th>\n      <td>3071851</td>\n      <td>Sách có hình vẽ và nội dung rất đáng yêu, là m...</td>\n      <td>6292041</td>\n      <td>Phan Thi Hoan</td>\n      <td>5</td>\n      <td>2831147</td>\n    </tr>\n    <tr>\n      <th>3</th>\n      <td>3071851</td>\n      <td>Sách dễ thương. Bé nhà mình rất thích :)</td>\n      <td>10905691</td>\n      <td>Yến Nhi</td>\n      <td>5</td>\n      <td>3477988</td>\n    </tr>\n    <tr>\n      <th>4</th>\n      <td>3071851</td>\n      <td>Sách dễ thương</td>\n      <td>7933673</td>\n      <td>Ngoc Dung</td>\n      <td>5</td>\n      <td>4633043</td>\n    </tr>\n  </tbody>\n</table>\n</div>"
     },
     "metadata": {},
     "execution_count": 41
    }
   ],
   "source": [
    "not_spare_ratings = pd.read_csv('../Data/not_spare_rating.csv')\n",
    "not_spare_ratings.head()"
   ]
  },
  {
   "cell_type": "code",
   "execution_count": 42,
   "metadata": {},
   "outputs": [],
   "source": [
    "not_spare_ratings['new_product_id'] = not_spare_ratings['product_id'].apply(lambda x: format_id(int(x)))\n",
    "not_spare_ratings['id_customer'] = not_spare_ratings['customer_id'].apply(lambda x: np.where(customer_index==int(x))[0][0])\n"
   ]
  },
  {
   "cell_type": "code",
   "execution_count": 43,
   "metadata": {},
   "outputs": [
    {
     "output_type": "execute_result",
     "data": {
      "text/plain": [
       "   product_id                                            content  customer_id  \\\n",
       "0    58441480                                                NaN      6024679   \n",
       "1    58441480                                                NaN     11333255   \n",
       "2     3071851  Sách có hình vẽ và nội dung rất đáng yêu, là m...      6292041   \n",
       "3     3071851           Sách dễ thương. Bé nhà mình rất thích :)     10905691   \n",
       "4     3071851                                     Sách dễ thương      7933673   \n",
       "\n",
       "           user_name  stars  comment_id  new_product_id  id_customer  \n",
       "0         Nhung Phạm      5     4864338            9672        53270  \n",
       "1  Nguyen Nang Quang      4     4589409            9672        91213  \n",
       "2      Phan Thi Hoan      5     2831147            3038        56289  \n",
       "3            Yến Nhi      5     3477988            3038        88524  \n",
       "4          Ngoc Dung      5     4633043            3038        72126  "
      ],
      "text/html": "<div>\n<style scoped>\n    .dataframe tbody tr th:only-of-type {\n        vertical-align: middle;\n    }\n\n    .dataframe tbody tr th {\n        vertical-align: top;\n    }\n\n    .dataframe thead th {\n        text-align: right;\n    }\n</style>\n<table border=\"1\" class=\"dataframe\">\n  <thead>\n    <tr style=\"text-align: right;\">\n      <th></th>\n      <th>product_id</th>\n      <th>content</th>\n      <th>customer_id</th>\n      <th>user_name</th>\n      <th>stars</th>\n      <th>comment_id</th>\n      <th>new_product_id</th>\n      <th>id_customer</th>\n    </tr>\n  </thead>\n  <tbody>\n    <tr>\n      <th>0</th>\n      <td>58441480</td>\n      <td>NaN</td>\n      <td>6024679</td>\n      <td>Nhung Phạm</td>\n      <td>5</td>\n      <td>4864338</td>\n      <td>9672</td>\n      <td>53270</td>\n    </tr>\n    <tr>\n      <th>1</th>\n      <td>58441480</td>\n      <td>NaN</td>\n      <td>11333255</td>\n      <td>Nguyen Nang Quang</td>\n      <td>4</td>\n      <td>4589409</td>\n      <td>9672</td>\n      <td>91213</td>\n    </tr>\n    <tr>\n      <th>2</th>\n      <td>3071851</td>\n      <td>Sách có hình vẽ và nội dung rất đáng yêu, là m...</td>\n      <td>6292041</td>\n      <td>Phan Thi Hoan</td>\n      <td>5</td>\n      <td>2831147</td>\n      <td>3038</td>\n      <td>56289</td>\n    </tr>\n    <tr>\n      <th>3</th>\n      <td>3071851</td>\n      <td>Sách dễ thương. Bé nhà mình rất thích :)</td>\n      <td>10905691</td>\n      <td>Yến Nhi</td>\n      <td>5</td>\n      <td>3477988</td>\n      <td>3038</td>\n      <td>88524</td>\n    </tr>\n    <tr>\n      <th>4</th>\n      <td>3071851</td>\n      <td>Sách dễ thương</td>\n      <td>7933673</td>\n      <td>Ngoc Dung</td>\n      <td>5</td>\n      <td>4633043</td>\n      <td>3038</td>\n      <td>72126</td>\n    </tr>\n  </tbody>\n</table>\n</div>"
     },
     "metadata": {},
     "execution_count": 43
    }
   ],
   "source": [
    "not_spare_ratings.head()"
   ]
  },
  {
   "cell_type": "code",
   "execution_count": 44,
   "metadata": {},
   "outputs": [],
   "source": [
    "not_spare_ratings.drop('product_id', axis=1, inplace=True)\n",
    "not_spare_ratings.rename(columns={'new_product_id': 'product_id'}, inplace=True)\n",
    "not_spare_ratings.drop('customer_id', axis=1, inplace=True)\n",
    "not_spare_ratings.rename(columns={'id_customer': 'customer_id'}, inplace=True)"
   ]
  },
  {
   "cell_type": "code",
   "execution_count": 45,
   "metadata": {},
   "outputs": [],
   "source": [
    "not_spare = not_spare_ratings[['product_id', 'content', 'customer_id', 'user_name', 'stars', 'comment_id']]"
   ]
  },
  {
   "cell_type": "code",
   "execution_count": 46,
   "metadata": {},
   "outputs": [
    {
     "output_type": "execute_result",
     "data": {
      "text/plain": [
       "   product_id                                            content  customer_id  \\\n",
       "0        9672                                                NaN        53270   \n",
       "1        9672                                                NaN        91213   \n",
       "2        3038  Sách có hình vẽ và nội dung rất đáng yêu, là m...        56289   \n",
       "3        3038           Sách dễ thương. Bé nhà mình rất thích :)        88524   \n",
       "4        3038                                     Sách dễ thương        72126   \n",
       "\n",
       "           user_name  stars  comment_id  \n",
       "0         Nhung Phạm      5     4864338  \n",
       "1  Nguyen Nang Quang      4     4589409  \n",
       "2      Phan Thi Hoan      5     2831147  \n",
       "3            Yến Nhi      5     3477988  \n",
       "4          Ngoc Dung      5     4633043  "
      ],
      "text/html": "<div>\n<style scoped>\n    .dataframe tbody tr th:only-of-type {\n        vertical-align: middle;\n    }\n\n    .dataframe tbody tr th {\n        vertical-align: top;\n    }\n\n    .dataframe thead th {\n        text-align: right;\n    }\n</style>\n<table border=\"1\" class=\"dataframe\">\n  <thead>\n    <tr style=\"text-align: right;\">\n      <th></th>\n      <th>product_id</th>\n      <th>content</th>\n      <th>customer_id</th>\n      <th>user_name</th>\n      <th>stars</th>\n      <th>comment_id</th>\n    </tr>\n  </thead>\n  <tbody>\n    <tr>\n      <th>0</th>\n      <td>9672</td>\n      <td>NaN</td>\n      <td>53270</td>\n      <td>Nhung Phạm</td>\n      <td>5</td>\n      <td>4864338</td>\n    </tr>\n    <tr>\n      <th>1</th>\n      <td>9672</td>\n      <td>NaN</td>\n      <td>91213</td>\n      <td>Nguyen Nang Quang</td>\n      <td>4</td>\n      <td>4589409</td>\n    </tr>\n    <tr>\n      <th>2</th>\n      <td>3038</td>\n      <td>Sách có hình vẽ và nội dung rất đáng yêu, là m...</td>\n      <td>56289</td>\n      <td>Phan Thi Hoan</td>\n      <td>5</td>\n      <td>2831147</td>\n    </tr>\n    <tr>\n      <th>3</th>\n      <td>3038</td>\n      <td>Sách dễ thương. Bé nhà mình rất thích :)</td>\n      <td>88524</td>\n      <td>Yến Nhi</td>\n      <td>5</td>\n      <td>3477988</td>\n    </tr>\n    <tr>\n      <th>4</th>\n      <td>3038</td>\n      <td>Sách dễ thương</td>\n      <td>72126</td>\n      <td>Ngoc Dung</td>\n      <td>5</td>\n      <td>4633043</td>\n    </tr>\n  </tbody>\n</table>\n</div>"
     },
     "metadata": {},
     "execution_count": 46
    }
   ],
   "source": [
    "not_spare.head()"
   ]
  },
  {
   "cell_type": "code",
   "execution_count": 47,
   "metadata": {},
   "outputs": [],
   "source": [
    "# not_spare.to_csv('../Data/final_rating_not_spare.csv', index=False)"
   ]
  },
  {
   "cell_type": "code",
   "execution_count": null,
   "metadata": {},
   "outputs": [],
   "source": []
  }
 ]
}
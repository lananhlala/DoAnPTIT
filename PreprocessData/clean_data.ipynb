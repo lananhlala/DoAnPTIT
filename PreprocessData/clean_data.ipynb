{
 "metadata": {
  "language_info": {
   "codemirror_mode": {
    "name": "ipython",
    "version": 3
   },
   "file_extension": ".py",
   "mimetype": "text/x-python",
   "name": "python",
   "nbconvert_exporter": "python",
   "pygments_lexer": "ipython3",
   "version": "3.7.6-final"
  },
  "orig_nbformat": 2,
  "kernelspec": {
   "name": "Python 3.7.6 64-bit",
   "display_name": "Python 3.7.6 64-bit",
   "metadata": {
    "interpreter": {
     "hash": "7f2dcf1d125493348cccf1ae2de68f791ab3bc9e1341fd8e5bb01552f7645ce1"
    }
   }
  }
 },
 "nbformat": 4,
 "nbformat_minor": 2,
 "cells": [
  {
   "cell_type": "code",
   "execution_count": 4,
   "metadata": {},
   "outputs": [],
   "source": [
    "import pandas as pd \n",
    "import numpy as np \n",
    "import seaborn as sns \n",
    "import matplotlib.pyplot as plt"
   ]
  },
  {
   "cell_type": "code",
   "execution_count": 8,
   "metadata": {},
   "outputs": [
    {
     "output_type": "execute_result",
     "data": {
      "text/plain": [
       "         id            sku                                               name  \\\n",
       "0  58390336  3380735508079                                      Python cơ bản   \n",
       "1   1664525  2147399986992  Giáo Trình Kỹ Thuật Lập Trình C Căn Bản Và Nân...   \n",
       "2  55573620  6752050391860  Giáo Trình Tự Học AutoCAD 2019 Thực Hành Bằng ...   \n",
       "3  24889348  3747885152000  Lập trình hướng đối tượng JAVA core dành cho n...   \n",
       "4  37667006  5950833882104  Combo Giáo Trình Kỹ Thuật Lập Trình C Căn Bản ...   \n",
       "\n",
       "                                            url_path book_cover  \\\n",
       "0         python-co-ban-p58390336.html?spid=58390337    Bìa mềm   \n",
       "1  giao-trinh-ky-thuat-lap-trinh-c-can-ban-va-nan...    Bìa mềm   \n",
       "2  giao-trinh-tu-hoc-autocad-2019-thuc-hanh-bang-...    Bìa mềm   \n",
       "3  lap-trinh-huong-doi-tuong-java-core-danh-cho-n...        NaN   \n",
       "4  combo-giao-trinh-ky-thuat-lap-trinh-c-can-ban-...    Bìa mềm   \n",
       "\n",
       "                                   short_description   price  list_price  \\\n",
       "0  SÁCH PYTHON CƠ BẢN\\r\\nHiện nay ngôn ngữ lập tr...  125000      125000   \n",
       "1  Giáo trình kỹ thuật lập trình C căn bản và nân...   67500      135000   \n",
       "2  Mục lục:\\r\\nCHƯƠNG 1: BẮT ĐẦU AUTOCAD 2019 \\r\\...  110000      110000   \n",
       "3  I. Đôi điều về tác giả\\r\\nTôi là NEOS.THÀNH (N...  189000      299000   \n",
       "4  Giáo trình kỹ thuật lập trình C căn bản và nân...  223400      280000   \n",
       "\n",
       "   price_usd  discount  ...  order_count  favourite_count  \\\n",
       "0      5.343         0  ...            0                0   \n",
       "1      2.885     67500  ...            0                0   \n",
       "2      4.702         0  ...            0                0   \n",
       "3      8.079    110000  ...            0                0   \n",
       "4      9.550     56600  ...            0                0   \n",
       "\n",
       "                                       thumbnail_url  \\\n",
       "0  https://salt.tikicdn.com/cache/280x280/ts/prod...   \n",
       "1  https://salt.tikicdn.com/cache/280x280/ts/prod...   \n",
       "2  https://salt.tikicdn.com/cache/280x280/ts/prod...   \n",
       "3  https://salt.tikicdn.com/cache/280x280/ts/prod...   \n",
       "4  https://salt.tikicdn.com/cache/280x280/ts/prod...   \n",
       "\n",
       "                         productset_group_name  \\\n",
       "0          Sách Công Nghệ Thông Tin, Lập Trình   \n",
       "1          Sách Công Nghệ Thông Tin, Lập Trình   \n",
       "2  Sách Công Nghệ Thông Tin, Thiết Kế - Đồ Họa   \n",
       "3          Sách Công Nghệ Thông Tin, Lập Trình   \n",
       "4          Sách Công Nghệ Thông Tin, Lập Trình   \n",
       "\n",
       "                                         description  \\\n",
       "0  <p><strong>SÁCH PYTHON CƠ BẢN</strong></p>\\r\\n...   \n",
       "1  <p><strong>Giáo trình kỹ thuật lập trình C căn...   \n",
       "2  <p><span style=\"text-decoration: underline;\"><...   \n",
       "3  <p><strong>I. Đôi điều về tác giả</strong></p>...   \n",
       "4  Giáo trình kỹ thuật lập trình C căn bản và nân...   \n",
       "\n",
       "                                   publisher  \\\n",
       "0                NXB Đại Học Quốc Gia Hà Nội   \n",
       "1                        Huy Hoàng Bookstore   \n",
       "2  Công Ty TNHH Văn Hóa - Thế Giới Sách Việt   \n",
       "3                                          -   \n",
       "4                        Huy Hoàng Bookstore   \n",
       "\n",
       "                                             authors stock_item  \\\n",
       "0                                        Bùi Việt Hà        5.0   \n",
       "1                                      Nhiều Tác Giả      801.0   \n",
       "2                                      Nhiều Tác Giả       12.0   \n",
       "3  Tiki hoàn tiền 111% nếu phát hiện hàng giả, Ca...        NaN   \n",
       "4                                      Nhiều Tác Giả       97.0   \n",
       "\n",
       "               big_category        sub_category  \n",
       "0  Sách Công Nghệ Thông Tin           Lập Trình  \n",
       "1  Sách Công Nghệ Thông Tin           Lập Trình  \n",
       "2  Sách Công Nghệ Thông Tin   Thiết Kế - Đồ Họa  \n",
       "3  Sách Công Nghệ Thông Tin           Lập Trình  \n",
       "4  Sách Công Nghệ Thông Tin           Lập Trình  \n",
       "\n",
       "[5 rows x 23 columns]"
      ],
      "text/html": "<div>\n<style scoped>\n    .dataframe tbody tr th:only-of-type {\n        vertical-align: middle;\n    }\n\n    .dataframe tbody tr th {\n        vertical-align: top;\n    }\n\n    .dataframe thead th {\n        text-align: right;\n    }\n</style>\n<table border=\"1\" class=\"dataframe\">\n  <thead>\n    <tr style=\"text-align: right;\">\n      <th></th>\n      <th>id</th>\n      <th>sku</th>\n      <th>name</th>\n      <th>url_path</th>\n      <th>book_cover</th>\n      <th>short_description</th>\n      <th>price</th>\n      <th>list_price</th>\n      <th>price_usd</th>\n      <th>discount</th>\n      <th>...</th>\n      <th>order_count</th>\n      <th>favourite_count</th>\n      <th>thumbnail_url</th>\n      <th>productset_group_name</th>\n      <th>description</th>\n      <th>publisher</th>\n      <th>authors</th>\n      <th>stock_item</th>\n      <th>big_category</th>\n      <th>sub_category</th>\n    </tr>\n  </thead>\n  <tbody>\n    <tr>\n      <th>0</th>\n      <td>58390336</td>\n      <td>3380735508079</td>\n      <td>Python cơ bản</td>\n      <td>python-co-ban-p58390336.html?spid=58390337</td>\n      <td>Bìa mềm</td>\n      <td>SÁCH PYTHON CƠ BẢN\\r\\nHiện nay ngôn ngữ lập tr...</td>\n      <td>125000</td>\n      <td>125000</td>\n      <td>5.343</td>\n      <td>0</td>\n      <td>...</td>\n      <td>0</td>\n      <td>0</td>\n      <td>https://salt.tikicdn.com/cache/280x280/ts/prod...</td>\n      <td>Sách Công Nghệ Thông Tin, Lập Trình</td>\n      <td>&lt;p&gt;&lt;strong&gt;SÁCH PYTHON CƠ BẢN&lt;/strong&gt;&lt;/p&gt;\\r\\n...</td>\n      <td>NXB Đại Học Quốc Gia Hà Nội</td>\n      <td>Bùi Việt Hà</td>\n      <td>5.0</td>\n      <td>Sách Công Nghệ Thông Tin</td>\n      <td>Lập Trình</td>\n    </tr>\n    <tr>\n      <th>1</th>\n      <td>1664525</td>\n      <td>2147399986992</td>\n      <td>Giáo Trình Kỹ Thuật Lập Trình C Căn Bản Và Nân...</td>\n      <td>giao-trinh-ky-thuat-lap-trinh-c-can-ban-va-nan...</td>\n      <td>Bìa mềm</td>\n      <td>Giáo trình kỹ thuật lập trình C căn bản và nân...</td>\n      <td>67500</td>\n      <td>135000</td>\n      <td>2.885</td>\n      <td>67500</td>\n      <td>...</td>\n      <td>0</td>\n      <td>0</td>\n      <td>https://salt.tikicdn.com/cache/280x280/ts/prod...</td>\n      <td>Sách Công Nghệ Thông Tin, Lập Trình</td>\n      <td>&lt;p&gt;&lt;strong&gt;Giáo trình kỹ thuật lập trình C căn...</td>\n      <td>Huy Hoàng Bookstore</td>\n      <td>Nhiều Tác Giả</td>\n      <td>801.0</td>\n      <td>Sách Công Nghệ Thông Tin</td>\n      <td>Lập Trình</td>\n    </tr>\n    <tr>\n      <th>2</th>\n      <td>55573620</td>\n      <td>6752050391860</td>\n      <td>Giáo Trình Tự Học AutoCAD 2019 Thực Hành Bằng ...</td>\n      <td>giao-trinh-tu-hoc-autocad-2019-thuc-hanh-bang-...</td>\n      <td>Bìa mềm</td>\n      <td>Mục lục:\\r\\nCHƯƠNG 1: BẮT ĐẦU AUTOCAD 2019 \\r\\...</td>\n      <td>110000</td>\n      <td>110000</td>\n      <td>4.702</td>\n      <td>0</td>\n      <td>...</td>\n      <td>0</td>\n      <td>0</td>\n      <td>https://salt.tikicdn.com/cache/280x280/ts/prod...</td>\n      <td>Sách Công Nghệ Thông Tin, Thiết Kế - Đồ Họa</td>\n      <td>&lt;p&gt;&lt;span style=\"text-decoration: underline;\"&gt;&lt;...</td>\n      <td>Công Ty TNHH Văn Hóa - Thế Giới Sách Việt</td>\n      <td>Nhiều Tác Giả</td>\n      <td>12.0</td>\n      <td>Sách Công Nghệ Thông Tin</td>\n      <td>Thiết Kế - Đồ Họa</td>\n    </tr>\n    <tr>\n      <th>3</th>\n      <td>24889348</td>\n      <td>3747885152000</td>\n      <td>Lập trình hướng đối tượng JAVA core dành cho n...</td>\n      <td>lap-trinh-huong-doi-tuong-java-core-danh-cho-n...</td>\n      <td>NaN</td>\n      <td>I. Đôi điều về tác giả\\r\\nTôi là NEOS.THÀNH (N...</td>\n      <td>189000</td>\n      <td>299000</td>\n      <td>8.079</td>\n      <td>110000</td>\n      <td>...</td>\n      <td>0</td>\n      <td>0</td>\n      <td>https://salt.tikicdn.com/cache/280x280/ts/prod...</td>\n      <td>Sách Công Nghệ Thông Tin, Lập Trình</td>\n      <td>&lt;p&gt;&lt;strong&gt;I. Đôi điều về tác giả&lt;/strong&gt;&lt;/p&gt;...</td>\n      <td>-</td>\n      <td>Tiki hoàn tiền 111% nếu phát hiện hàng giả, Ca...</td>\n      <td>NaN</td>\n      <td>Sách Công Nghệ Thông Tin</td>\n      <td>Lập Trình</td>\n    </tr>\n    <tr>\n      <th>4</th>\n      <td>37667006</td>\n      <td>5950833882104</td>\n      <td>Combo Giáo Trình Kỹ Thuật Lập Trình C Căn Bản ...</td>\n      <td>combo-giao-trinh-ky-thuat-lap-trinh-c-can-ban-...</td>\n      <td>Bìa mềm</td>\n      <td>Giáo trình kỹ thuật lập trình C căn bản và nân...</td>\n      <td>223400</td>\n      <td>280000</td>\n      <td>9.550</td>\n      <td>56600</td>\n      <td>...</td>\n      <td>0</td>\n      <td>0</td>\n      <td>https://salt.tikicdn.com/cache/280x280/ts/prod...</td>\n      <td>Sách Công Nghệ Thông Tin, Lập Trình</td>\n      <td>Giáo trình kỹ thuật lập trình C căn bản và nân...</td>\n      <td>Huy Hoàng Bookstore</td>\n      <td>Nhiều Tác Giả</td>\n      <td>97.0</td>\n      <td>Sách Công Nghệ Thông Tin</td>\n      <td>Lập Trình</td>\n    </tr>\n  </tbody>\n</table>\n<p>5 rows × 23 columns</p>\n</div>"
     },
     "metadata": {},
     "execution_count": 8
    }
   ],
   "source": [
    "books = pd.read_csv('../Data/new_data_split_cate.csv')\n",
    "books.head()"
   ]
  },
  {
   "cell_type": "code",
   "execution_count": 9,
   "metadata": {},
   "outputs": [],
   "source": [
    "books.drop_duplicates('sku', inplace=True)"
   ]
  },
  {
   "cell_type": "code",
   "execution_count": 10,
   "metadata": {},
   "outputs": [
    {
     "output_type": "stream",
     "name": "stdout",
     "text": [
      "<class 'pandas.core.frame.DataFrame'>\nInt64Index: 10330 entries, 0 to 10329\nData columns (total 23 columns):\n #   Column                 Non-Null Count  Dtype  \n---  ------                 --------------  -----  \n 0   id                     10330 non-null  int64  \n 1   sku                    10330 non-null  int64  \n 2   name                   10330 non-null  object \n 3   url_path               10330 non-null  object \n 4   book_cover             9417 non-null   object \n 5   short_description      10327 non-null  object \n 6   price                  10330 non-null  int64  \n 7   list_price             10330 non-null  int64  \n 8   price_usd              10330 non-null  float64\n 9   discount               10330 non-null  int64  \n 10  discount_rate          10330 non-null  int64  \n 11  rating_average         10330 non-null  float64\n 12  review_count           10330 non-null  int64  \n 13  order_count            10330 non-null  int64  \n 14  favourite_count        10330 non-null  int64  \n 15  thumbnail_url          10330 non-null  object \n 16  productset_group_name  10330 non-null  object \n 17  description            10330 non-null  object \n 18  publisher              10323 non-null  object \n 19  authors                10323 non-null  object \n 20  stock_item             8981 non-null   float64\n 21  big_category           10330 non-null  object \n 22  sub_category           10330 non-null  object \ndtypes: float64(3), int64(9), object(11)\nmemory usage: 1.9+ MB\n"
     ]
    }
   ],
   "source": [
    "books.info()"
   ]
  },
  {
   "cell_type": "code",
   "execution_count": 6,
   "metadata": {},
   "outputs": [],
   "source": [
    "books.drop(['Unnamed: 0', 'url_key', 'type', 'badges', 'has_ebook', 'inventory_status', 'is_visible', 'is_fresh', 'is_flower', 'is_gift_card', 'inventory', 'data_version', 'meta_title', 'meta_description', 'meta_keywords', 'current_seller', 'seller_specifications', 'other_sellers', 'product_links', 'services_and_promotions', 'promotions', 'is_seller_in_chat_whitelist', 'liked', 'rating_summary', 'categories', 'specifications'], axis=1, inplace=True)"
   ]
  },
  {
   "cell_type": "code",
   "execution_count": 7,
   "metadata": {},
   "outputs": [
    {
     "output_type": "execute_result",
     "data": {
      "text/plain": [
       "         id            sku                                               name  \\\n",
       "0  58390336  3380735508079                                      Python cơ bản   \n",
       "1   1664525  2147399986992  Giáo Trình Kỹ Thuật Lập Trình C Căn Bản Và Nân...   \n",
       "2  55573620  6752050391860  Giáo Trình Tự Học AutoCAD 2019 Thực Hành Bằng ...   \n",
       "3  24889348  3747885152000  Lập trình hướng đối tượng JAVA core dành cho n...   \n",
       "4  37667006  5950833882104  Combo Giáo Trình Kỹ Thuật Lập Trình C Căn Bản ...   \n",
       "\n",
       "                                            url_path  \\\n",
       "0         python-co-ban-p58390336.html?spid=58390337   \n",
       "1  giao-trinh-ky-thuat-lap-trinh-c-can-ban-va-nan...   \n",
       "2  giao-trinh-tu-hoc-autocad-2019-thuc-hanh-bang-...   \n",
       "3  lap-trinh-huong-doi-tuong-java-core-danh-cho-n...   \n",
       "4  combo-giao-trinh-ky-thuat-lap-trinh-c-can-ban-...   \n",
       "\n",
       "                           book_cover  \\\n",
       "0  {'id': 148966, 'value': 'Bìa mềm'}   \n",
       "1  {'id': 148966, 'value': 'Bìa mềm'}   \n",
       "2  {'id': 148966, 'value': 'Bìa mềm'}   \n",
       "3                                  []   \n",
       "4  {'id': 148966, 'value': 'Bìa mềm'}   \n",
       "\n",
       "                                   short_description   price  list_price  \\\n",
       "0  SÁCH PYTHON CƠ BẢN\\r\\nHiện nay ngôn ngữ lập tr...  125000      125000   \n",
       "1  Giáo trình kỹ thuật lập trình C căn bản và nân...   67500      135000   \n",
       "2  Mục lục:\\r\\nCHƯƠNG 1: BẮT ĐẦU AUTOCAD 2019 \\r\\...  110000      110000   \n",
       "3  I. Đôi điều về tác giả\\r\\nTôi là NEOS.THÀNH (N...  189000      299000   \n",
       "4  Giáo trình kỹ thuật lập trình C căn bản và nân...  223400      280000   \n",
       "\n",
       "   price_usd  discount  ...  rating_average  review_count  order_count  \\\n",
       "0      5.343         0  ...             4.8            32            0   \n",
       "1      2.885     67500  ...             4.5            82            0   \n",
       "2      4.702         0  ...             4.7            10            0   \n",
       "3      8.079    110000  ...             4.7            86            0   \n",
       "4      9.550     56600  ...             4.3            21            0   \n",
       "\n",
       "   favourite_count                                      thumbnail_url  \\\n",
       "0                0  https://salt.tikicdn.com/cache/280x280/ts/prod...   \n",
       "1                0  https://salt.tikicdn.com/cache/280x280/ts/prod...   \n",
       "2                0  https://salt.tikicdn.com/cache/280x280/ts/prod...   \n",
       "3                0  https://salt.tikicdn.com/cache/280x280/ts/prod...   \n",
       "4                0  https://salt.tikicdn.com/cache/280x280/ts/prod...   \n",
       "\n",
       "                               productset_group_name  \\\n",
       "0  Nhà Sách Tiki/Sách tiếng Việt/Sách Công Nghệ T...   \n",
       "1  Nhà Sách Tiki/Sách tiếng Việt/Sách Công Nghệ T...   \n",
       "2  Nhà Sách Tiki/Sách tiếng Việt/Sách Công Nghệ T...   \n",
       "3  Nhà Sách Tiki/Sách tiếng Việt/Sách Công Nghệ T...   \n",
       "4  Nhà Sách Tiki/Sách tiếng Việt/Sách Công Nghệ T...   \n",
       "\n",
       "                                         description  \\\n",
       "0  <p><strong>SÁCH PYTHON CƠ BẢN</strong></p>\\r\\n...   \n",
       "1  <p><strong>Giáo trình kỹ thuật lập trình C căn...   \n",
       "2  <p><span style=\"text-decoration: underline;\"><...   \n",
       "3  <p><strong>I. Đôi điều về tác giả</strong></p>...   \n",
       "4  Giáo trình kỹ thuật lập trình C căn bản và nân...   \n",
       "\n",
       "                                           publisher  \\\n",
       "0  {'id': 154211, 'name': 'NXB Đại Học Quốc Gia H...   \n",
       "1  {'id': 10262, 'name': 'Huy Hoàng Bookstore', '...   \n",
       "2  {'id': 143758, 'name': 'Công Ty TNHH Văn Hóa -...   \n",
       "3           {'id': 3036597, 'name': '-', 'slug': ''}   \n",
       "4  {'id': 10262, 'name': 'Huy Hoàng Bookstore', '...   \n",
       "\n",
       "                                             authors  \\\n",
       "0  [{'id': 874123, 'name': ' Bùi Việt Hà', 'slug'...   \n",
       "1  [{'id': 4043, 'name': 'Nhiều Tác Giả', 'slug':...   \n",
       "2  [{'id': 496059, 'name': ' Nhiều Tác Giả', 'slu...   \n",
       "3  [{\"name\": \"Tiki hoàn tiền 111% nếu phát hiện h...   \n",
       "4  [{'id': 4043, 'name': 'Nhiều Tác Giả', 'slug':...   \n",
       "\n",
       "                                          stock_item  \n",
       "0  {\"qty\": 5, \"min_sale_qty\": 1, \"max_sale_qty\": ...  \n",
       "1  {\"qty\": 801, \"min_sale_qty\": 1, \"max_sale_qty\"...  \n",
       "2  {\"qty\": 12, \"min_sale_qty\": 1, \"max_sale_qty\":...  \n",
       "3                                                NaN  \n",
       "4  {\"qty\": 97, \"min_sale_qty\": 1, \"max_sale_qty\":...  \n",
       "\n",
       "[5 rows x 21 columns]"
      ],
      "text/html": "<div>\n<style scoped>\n    .dataframe tbody tr th:only-of-type {\n        vertical-align: middle;\n    }\n\n    .dataframe tbody tr th {\n        vertical-align: top;\n    }\n\n    .dataframe thead th {\n        text-align: right;\n    }\n</style>\n<table border=\"1\" class=\"dataframe\">\n  <thead>\n    <tr style=\"text-align: right;\">\n      <th></th>\n      <th>id</th>\n      <th>sku</th>\n      <th>name</th>\n      <th>url_path</th>\n      <th>book_cover</th>\n      <th>short_description</th>\n      <th>price</th>\n      <th>list_price</th>\n      <th>price_usd</th>\n      <th>discount</th>\n      <th>...</th>\n      <th>rating_average</th>\n      <th>review_count</th>\n      <th>order_count</th>\n      <th>favourite_count</th>\n      <th>thumbnail_url</th>\n      <th>productset_group_name</th>\n      <th>description</th>\n      <th>publisher</th>\n      <th>authors</th>\n      <th>stock_item</th>\n    </tr>\n  </thead>\n  <tbody>\n    <tr>\n      <th>0</th>\n      <td>58390336</td>\n      <td>3380735508079</td>\n      <td>Python cơ bản</td>\n      <td>python-co-ban-p58390336.html?spid=58390337</td>\n      <td>{'id': 148966, 'value': 'Bìa mềm'}</td>\n      <td>SÁCH PYTHON CƠ BẢN\\r\\nHiện nay ngôn ngữ lập tr...</td>\n      <td>125000</td>\n      <td>125000</td>\n      <td>5.343</td>\n      <td>0</td>\n      <td>...</td>\n      <td>4.8</td>\n      <td>32</td>\n      <td>0</td>\n      <td>0</td>\n      <td>https://salt.tikicdn.com/cache/280x280/ts/prod...</td>\n      <td>Nhà Sách Tiki/Sách tiếng Việt/Sách Công Nghệ T...</td>\n      <td>&lt;p&gt;&lt;strong&gt;SÁCH PYTHON CƠ BẢN&lt;/strong&gt;&lt;/p&gt;\\r\\n...</td>\n      <td>{'id': 154211, 'name': 'NXB Đại Học Quốc Gia H...</td>\n      <td>[{'id': 874123, 'name': ' Bùi Việt Hà', 'slug'...</td>\n      <td>{\"qty\": 5, \"min_sale_qty\": 1, \"max_sale_qty\": ...</td>\n    </tr>\n    <tr>\n      <th>1</th>\n      <td>1664525</td>\n      <td>2147399986992</td>\n      <td>Giáo Trình Kỹ Thuật Lập Trình C Căn Bản Và Nân...</td>\n      <td>giao-trinh-ky-thuat-lap-trinh-c-can-ban-va-nan...</td>\n      <td>{'id': 148966, 'value': 'Bìa mềm'}</td>\n      <td>Giáo trình kỹ thuật lập trình C căn bản và nân...</td>\n      <td>67500</td>\n      <td>135000</td>\n      <td>2.885</td>\n      <td>67500</td>\n      <td>...</td>\n      <td>4.5</td>\n      <td>82</td>\n      <td>0</td>\n      <td>0</td>\n      <td>https://salt.tikicdn.com/cache/280x280/ts/prod...</td>\n      <td>Nhà Sách Tiki/Sách tiếng Việt/Sách Công Nghệ T...</td>\n      <td>&lt;p&gt;&lt;strong&gt;Giáo trình kỹ thuật lập trình C căn...</td>\n      <td>{'id': 10262, 'name': 'Huy Hoàng Bookstore', '...</td>\n      <td>[{'id': 4043, 'name': 'Nhiều Tác Giả', 'slug':...</td>\n      <td>{\"qty\": 801, \"min_sale_qty\": 1, \"max_sale_qty\"...</td>\n    </tr>\n    <tr>\n      <th>2</th>\n      <td>55573620</td>\n      <td>6752050391860</td>\n      <td>Giáo Trình Tự Học AutoCAD 2019 Thực Hành Bằng ...</td>\n      <td>giao-trinh-tu-hoc-autocad-2019-thuc-hanh-bang-...</td>\n      <td>{'id': 148966, 'value': 'Bìa mềm'}</td>\n      <td>Mục lục:\\r\\nCHƯƠNG 1: BẮT ĐẦU AUTOCAD 2019 \\r\\...</td>\n      <td>110000</td>\n      <td>110000</td>\n      <td>4.702</td>\n      <td>0</td>\n      <td>...</td>\n      <td>4.7</td>\n      <td>10</td>\n      <td>0</td>\n      <td>0</td>\n      <td>https://salt.tikicdn.com/cache/280x280/ts/prod...</td>\n      <td>Nhà Sách Tiki/Sách tiếng Việt/Sách Công Nghệ T...</td>\n      <td>&lt;p&gt;&lt;span style=\"text-decoration: underline;\"&gt;&lt;...</td>\n      <td>{'id': 143758, 'name': 'Công Ty TNHH Văn Hóa -...</td>\n      <td>[{'id': 496059, 'name': ' Nhiều Tác Giả', 'slu...</td>\n      <td>{\"qty\": 12, \"min_sale_qty\": 1, \"max_sale_qty\":...</td>\n    </tr>\n    <tr>\n      <th>3</th>\n      <td>24889348</td>\n      <td>3747885152000</td>\n      <td>Lập trình hướng đối tượng JAVA core dành cho n...</td>\n      <td>lap-trinh-huong-doi-tuong-java-core-danh-cho-n...</td>\n      <td>[]</td>\n      <td>I. Đôi điều về tác giả\\r\\nTôi là NEOS.THÀNH (N...</td>\n      <td>189000</td>\n      <td>299000</td>\n      <td>8.079</td>\n      <td>110000</td>\n      <td>...</td>\n      <td>4.7</td>\n      <td>86</td>\n      <td>0</td>\n      <td>0</td>\n      <td>https://salt.tikicdn.com/cache/280x280/ts/prod...</td>\n      <td>Nhà Sách Tiki/Sách tiếng Việt/Sách Công Nghệ T...</td>\n      <td>&lt;p&gt;&lt;strong&gt;I. Đôi điều về tác giả&lt;/strong&gt;&lt;/p&gt;...</td>\n      <td>{'id': 3036597, 'name': '-', 'slug': ''}</td>\n      <td>[{\"name\": \"Tiki hoàn tiền 111% nếu phát hiện h...</td>\n      <td>NaN</td>\n    </tr>\n    <tr>\n      <th>4</th>\n      <td>37667006</td>\n      <td>5950833882104</td>\n      <td>Combo Giáo Trình Kỹ Thuật Lập Trình C Căn Bản ...</td>\n      <td>combo-giao-trinh-ky-thuat-lap-trinh-c-can-ban-...</td>\n      <td>{'id': 148966, 'value': 'Bìa mềm'}</td>\n      <td>Giáo trình kỹ thuật lập trình C căn bản và nân...</td>\n      <td>223400</td>\n      <td>280000</td>\n      <td>9.550</td>\n      <td>56600</td>\n      <td>...</td>\n      <td>4.3</td>\n      <td>21</td>\n      <td>0</td>\n      <td>0</td>\n      <td>https://salt.tikicdn.com/cache/280x280/ts/prod...</td>\n      <td>Nhà Sách Tiki/Sách tiếng Việt/Sách Công Nghệ T...</td>\n      <td>Giáo trình kỹ thuật lập trình C căn bản và nân...</td>\n      <td>{'id': 10262, 'name': 'Huy Hoàng Bookstore', '...</td>\n      <td>[{'id': 4043, 'name': 'Nhiều Tác Giả', 'slug':...</td>\n      <td>{\"qty\": 97, \"min_sale_qty\": 1, \"max_sale_qty\":...</td>\n    </tr>\n  </tbody>\n</table>\n<p>5 rows × 21 columns</p>\n</div>"
     },
     "metadata": {},
     "execution_count": 7
    }
   ],
   "source": [
    "books.head()"
   ]
  },
  {
   "cell_type": "code",
   "execution_count": 8,
   "metadata": {},
   "outputs": [
    {
     "output_type": "execute_result",
     "data": {
      "text/plain": [
       "{'id': 148966, 'value': 'Bìa mềm'}                       9074\n",
       "{'id': 148970, 'value': 'Bìa cứng'}                       659\n",
       "[]                                                        382\n",
       "{'id': 162353, 'value': 'Bìa gập'}                         47\n",
       "{'id': 162351, 'value': 'Bìa rời'}                         15\n",
       "{'id': 148964, 'value': 'Paperback'}                        5\n",
       "{'id': 184347, 'value': 'Hardcover with dust jacket'}       1\n",
       "{'id': 149162, 'value': 'Mass market paperback'}            1\n",
       "Name: book_cover, dtype: int64"
      ]
     },
     "metadata": {},
     "execution_count": 8
    }
   ],
   "source": [
    "books.book_cover.value_counts()"
   ]
  },
  {
   "cell_type": "code",
   "execution_count": 9,
   "metadata": {},
   "outputs": [],
   "source": [
    "def process_dictionary(value, key):\n",
    "    if 'false' in value:\n",
    "        value = value.replace('false', 'False')\n",
    "    if not value:\n",
    "        return 'N/A'\n",
    "    else:\n",
    "        try:\n",
    "            return eval(value)[key]\n",
    "        except:\n",
    "            return 'N/A'"
   ]
  },
  {
   "cell_type": "code",
   "execution_count": 10,
   "metadata": {},
   "outputs": [],
   "source": [
    "books['book_cover'] = books['book_cover'].apply(lambda x: process_dictionary(str(x), 'value'))"
   ]
  },
  {
   "cell_type": "code",
   "execution_count": 11,
   "metadata": {},
   "outputs": [
    {
     "output_type": "execute_result",
     "data": {
      "text/plain": [
       "                                   short_description  \\\n",
       "0  SÁCH PYTHON CƠ BẢN\\r\\nHiện nay ngôn ngữ lập tr...   \n",
       "1  Giáo trình kỹ thuật lập trình C căn bản và nân...   \n",
       "2  Mục lục:\\r\\nCHƯƠNG 1: BẮT ĐẦU AUTOCAD 2019 \\r\\...   \n",
       "3  I. Đôi điều về tác giả\\r\\nTôi là NEOS.THÀNH (N...   \n",
       "4  Giáo trình kỹ thuật lập trình C căn bản và nân...   \n",
       "\n",
       "                               productset_group_name  \\\n",
       "0  Nhà Sách Tiki/Sách tiếng Việt/Sách Công Nghệ T...   \n",
       "1  Nhà Sách Tiki/Sách tiếng Việt/Sách Công Nghệ T...   \n",
       "2  Nhà Sách Tiki/Sách tiếng Việt/Sách Công Nghệ T...   \n",
       "3  Nhà Sách Tiki/Sách tiếng Việt/Sách Công Nghệ T...   \n",
       "4  Nhà Sách Tiki/Sách tiếng Việt/Sách Công Nghệ T...   \n",
       "\n",
       "                                         description  \\\n",
       "0  <p><strong>SÁCH PYTHON CƠ BẢN</strong></p>\\r\\n...   \n",
       "1  <p><strong>Giáo trình kỹ thuật lập trình C căn...   \n",
       "2  <p><span style=\"text-decoration: underline;\"><...   \n",
       "3  <p><strong>I. Đôi điều về tác giả</strong></p>...   \n",
       "4  Giáo trình kỹ thuật lập trình C căn bản và nân...   \n",
       "\n",
       "                                           publisher  \\\n",
       "0  {'id': 154211, 'name': 'NXB Đại Học Quốc Gia H...   \n",
       "1  {'id': 10262, 'name': 'Huy Hoàng Bookstore', '...   \n",
       "2  {'id': 143758, 'name': 'Công Ty TNHH Văn Hóa -...   \n",
       "3           {'id': 3036597, 'name': '-', 'slug': ''}   \n",
       "4  {'id': 10262, 'name': 'Huy Hoàng Bookstore', '...   \n",
       "\n",
       "                                             authors  \\\n",
       "0  [{'id': 874123, 'name': ' Bùi Việt Hà', 'slug'...   \n",
       "1  [{'id': 4043, 'name': 'Nhiều Tác Giả', 'slug':...   \n",
       "2  [{'id': 496059, 'name': ' Nhiều Tác Giả', 'slu...   \n",
       "3  [{\"name\": \"Tiki hoàn tiền 111% nếu phát hiện h...   \n",
       "4  [{'id': 4043, 'name': 'Nhiều Tác Giả', 'slug':...   \n",
       "\n",
       "                                          stock_item  \n",
       "0  {\"qty\": 5, \"min_sale_qty\": 1, \"max_sale_qty\": ...  \n",
       "1  {\"qty\": 801, \"min_sale_qty\": 1, \"max_sale_qty\"...  \n",
       "2  {\"qty\": 12, \"min_sale_qty\": 1, \"max_sale_qty\":...  \n",
       "3                                                NaN  \n",
       "4  {\"qty\": 97, \"min_sale_qty\": 1, \"max_sale_qty\":...  "
      ],
      "text/html": "<div>\n<style scoped>\n    .dataframe tbody tr th:only-of-type {\n        vertical-align: middle;\n    }\n\n    .dataframe tbody tr th {\n        vertical-align: top;\n    }\n\n    .dataframe thead th {\n        text-align: right;\n    }\n</style>\n<table border=\"1\" class=\"dataframe\">\n  <thead>\n    <tr style=\"text-align: right;\">\n      <th></th>\n      <th>short_description</th>\n      <th>productset_group_name</th>\n      <th>description</th>\n      <th>publisher</th>\n      <th>authors</th>\n      <th>stock_item</th>\n    </tr>\n  </thead>\n  <tbody>\n    <tr>\n      <th>0</th>\n      <td>SÁCH PYTHON CƠ BẢN\\r\\nHiện nay ngôn ngữ lập tr...</td>\n      <td>Nhà Sách Tiki/Sách tiếng Việt/Sách Công Nghệ T...</td>\n      <td>&lt;p&gt;&lt;strong&gt;SÁCH PYTHON CƠ BẢN&lt;/strong&gt;&lt;/p&gt;\\r\\n...</td>\n      <td>{'id': 154211, 'name': 'NXB Đại Học Quốc Gia H...</td>\n      <td>[{'id': 874123, 'name': ' Bùi Việt Hà', 'slug'...</td>\n      <td>{\"qty\": 5, \"min_sale_qty\": 1, \"max_sale_qty\": ...</td>\n    </tr>\n    <tr>\n      <th>1</th>\n      <td>Giáo trình kỹ thuật lập trình C căn bản và nân...</td>\n      <td>Nhà Sách Tiki/Sách tiếng Việt/Sách Công Nghệ T...</td>\n      <td>&lt;p&gt;&lt;strong&gt;Giáo trình kỹ thuật lập trình C căn...</td>\n      <td>{'id': 10262, 'name': 'Huy Hoàng Bookstore', '...</td>\n      <td>[{'id': 4043, 'name': 'Nhiều Tác Giả', 'slug':...</td>\n      <td>{\"qty\": 801, \"min_sale_qty\": 1, \"max_sale_qty\"...</td>\n    </tr>\n    <tr>\n      <th>2</th>\n      <td>Mục lục:\\r\\nCHƯƠNG 1: BẮT ĐẦU AUTOCAD 2019 \\r\\...</td>\n      <td>Nhà Sách Tiki/Sách tiếng Việt/Sách Công Nghệ T...</td>\n      <td>&lt;p&gt;&lt;span style=\"text-decoration: underline;\"&gt;&lt;...</td>\n      <td>{'id': 143758, 'name': 'Công Ty TNHH Văn Hóa -...</td>\n      <td>[{'id': 496059, 'name': ' Nhiều Tác Giả', 'slu...</td>\n      <td>{\"qty\": 12, \"min_sale_qty\": 1, \"max_sale_qty\":...</td>\n    </tr>\n    <tr>\n      <th>3</th>\n      <td>I. Đôi điều về tác giả\\r\\nTôi là NEOS.THÀNH (N...</td>\n      <td>Nhà Sách Tiki/Sách tiếng Việt/Sách Công Nghệ T...</td>\n      <td>&lt;p&gt;&lt;strong&gt;I. Đôi điều về tác giả&lt;/strong&gt;&lt;/p&gt;...</td>\n      <td>{'id': 3036597, 'name': '-', 'slug': ''}</td>\n      <td>[{\"name\": \"Tiki hoàn tiền 111% nếu phát hiện h...</td>\n      <td>NaN</td>\n    </tr>\n    <tr>\n      <th>4</th>\n      <td>Giáo trình kỹ thuật lập trình C căn bản và nân...</td>\n      <td>Nhà Sách Tiki/Sách tiếng Việt/Sách Công Nghệ T...</td>\n      <td>Giáo trình kỹ thuật lập trình C căn bản và nân...</td>\n      <td>{'id': 10262, 'name': 'Huy Hoàng Bookstore', '...</td>\n      <td>[{'id': 4043, 'name': 'Nhiều Tác Giả', 'slug':...</td>\n      <td>{\"qty\": 97, \"min_sale_qty\": 1, \"max_sale_qty\":...</td>\n    </tr>\n  </tbody>\n</table>\n</div>"
     },
     "metadata": {},
     "execution_count": 11
    }
   ],
   "source": [
    "books[['short_description', 'productset_group_name', 'description', 'publisher', 'authors', 'stock_item']].head()"
   ]
  },
  {
   "cell_type": "code",
   "execution_count": 12,
   "metadata": {},
   "outputs": [
    {
     "output_type": "execute_result",
     "data": {
      "text/plain": [
       "{\"qty\": 1, \"min_sale_qty\": 1, \"max_sale_qty\": 20, \"preorder_date\": false}           372\n",
       "{\"qty\": 2, \"min_sale_qty\": 1, \"max_sale_qty\": 20, \"preorder_date\": false}           287\n",
       "{\"qty\": 3, \"min_sale_qty\": 1, \"max_sale_qty\": 20, \"preorder_date\": false}           196\n",
       "{\"qty\": 4, \"min_sale_qty\": 1, \"max_sale_qty\": 20, \"preorder_date\": false}           190\n",
       "{\"qty\": 5, \"min_sale_qty\": 1, \"max_sale_qty\": 20, \"preorder_date\": false}           184\n",
       "                                                                                   ... \n",
       "{\"qty\": 334, \"min_sale_qty\": 1, \"max_sale_qty\": 20, \"preorder_date\": 1593363600}      1\n",
       "{\"qty\": 610, \"min_sale_qty\": 1, \"max_sale_qty\": 5, \"preorder_date\": false}            1\n",
       "{\"qty\": 388, \"min_sale_qty\": 1, \"max_sale_qty\": 30, \"preorder_date\": false}           1\n",
       "{\"qty\": 48, \"min_sale_qty\": 3, \"max_sale_qty\": 20, \"preorder_date\": false}            1\n",
       "{\"qty\": 63, \"min_sale_qty\": 1, \"max_sale_qty\": 2, \"preorder_date\": false}             1\n",
       "Name: stock_item, Length: 1496, dtype: int64"
      ]
     },
     "metadata": {},
     "execution_count": 12
    }
   ],
   "source": [
    "books.stock_item.value_counts()"
   ]
  },
  {
   "cell_type": "code",
   "execution_count": 13,
   "metadata": {},
   "outputs": [
    {
     "output_type": "execute_result",
     "data": {
      "text/plain": [
       "{'qty': 1, 'min_sale_qty': 1, 'max_sale_qty': 20, 'preorder_date': False}"
      ]
     },
     "metadata": {},
     "execution_count": 13
    }
   ],
   "source": [
    "eval('{\"qty\": 1, \"min_sale_qty\": 1, \"max_sale_qty\": 20, \"preorder_date\": false}'.replace('false', 'False'))"
   ]
  },
  {
   "cell_type": "code",
   "execution_count": 14,
   "metadata": {},
   "outputs": [],
   "source": [
    "books['stock_item'] = books['stock_item'].apply(lambda x: process_dictionary(str(x), 'qty'))"
   ]
  },
  {
   "cell_type": "code",
   "execution_count": 15,
   "metadata": {},
   "outputs": [],
   "source": [
    "books['publisher'] = books['publisher'].apply(lambda x: process_dictionary(str(x), 'name'))"
   ]
  },
  {
   "cell_type": "code",
   "execution_count": 16,
   "metadata": {},
   "outputs": [
    {
     "output_type": "execute_result",
     "data": {
      "text/plain": [
       "                                   short_description  \\\n",
       "0  SÁCH PYTHON CƠ BẢN\\r\\nHiện nay ngôn ngữ lập tr...   \n",
       "1  Giáo trình kỹ thuật lập trình C căn bản và nân...   \n",
       "2  Mục lục:\\r\\nCHƯƠNG 1: BẮT ĐẦU AUTOCAD 2019 \\r\\...   \n",
       "3  I. Đôi điều về tác giả\\r\\nTôi là NEOS.THÀNH (N...   \n",
       "4  Giáo trình kỹ thuật lập trình C căn bản và nân...   \n",
       "\n",
       "                               productset_group_name  \\\n",
       "0  Nhà Sách Tiki/Sách tiếng Việt/Sách Công Nghệ T...   \n",
       "1  Nhà Sách Tiki/Sách tiếng Việt/Sách Công Nghệ T...   \n",
       "2  Nhà Sách Tiki/Sách tiếng Việt/Sách Công Nghệ T...   \n",
       "3  Nhà Sách Tiki/Sách tiếng Việt/Sách Công Nghệ T...   \n",
       "4  Nhà Sách Tiki/Sách tiếng Việt/Sách Công Nghệ T...   \n",
       "\n",
       "                                         description  \\\n",
       "0  <p><strong>SÁCH PYTHON CƠ BẢN</strong></p>\\r\\n...   \n",
       "1  <p><strong>Giáo trình kỹ thuật lập trình C căn...   \n",
       "2  <p><span style=\"text-decoration: underline;\"><...   \n",
       "3  <p><strong>I. Đôi điều về tác giả</strong></p>...   \n",
       "4  Giáo trình kỹ thuật lập trình C căn bản và nân...   \n",
       "\n",
       "                                   publisher  \\\n",
       "0                NXB Đại Học Quốc Gia Hà Nội   \n",
       "1                        Huy Hoàng Bookstore   \n",
       "2  Công Ty TNHH Văn Hóa - Thế Giới Sách Việt   \n",
       "3                                          -   \n",
       "4                        Huy Hoàng Bookstore   \n",
       "\n",
       "                                             authors stock_item  \n",
       "0  [{'id': 874123, 'name': ' Bùi Việt Hà', 'slug'...          5  \n",
       "1  [{'id': 4043, 'name': 'Nhiều Tác Giả', 'slug':...        801  \n",
       "2  [{'id': 496059, 'name': ' Nhiều Tác Giả', 'slu...         12  \n",
       "3  [{\"name\": \"Tiki hoàn tiền 111% nếu phát hiện h...        N/A  \n",
       "4  [{'id': 4043, 'name': 'Nhiều Tác Giả', 'slug':...         97  "
      ],
      "text/html": "<div>\n<style scoped>\n    .dataframe tbody tr th:only-of-type {\n        vertical-align: middle;\n    }\n\n    .dataframe tbody tr th {\n        vertical-align: top;\n    }\n\n    .dataframe thead th {\n        text-align: right;\n    }\n</style>\n<table border=\"1\" class=\"dataframe\">\n  <thead>\n    <tr style=\"text-align: right;\">\n      <th></th>\n      <th>short_description</th>\n      <th>productset_group_name</th>\n      <th>description</th>\n      <th>publisher</th>\n      <th>authors</th>\n      <th>stock_item</th>\n    </tr>\n  </thead>\n  <tbody>\n    <tr>\n      <th>0</th>\n      <td>SÁCH PYTHON CƠ BẢN\\r\\nHiện nay ngôn ngữ lập tr...</td>\n      <td>Nhà Sách Tiki/Sách tiếng Việt/Sách Công Nghệ T...</td>\n      <td>&lt;p&gt;&lt;strong&gt;SÁCH PYTHON CƠ BẢN&lt;/strong&gt;&lt;/p&gt;\\r\\n...</td>\n      <td>NXB Đại Học Quốc Gia Hà Nội</td>\n      <td>[{'id': 874123, 'name': ' Bùi Việt Hà', 'slug'...</td>\n      <td>5</td>\n    </tr>\n    <tr>\n      <th>1</th>\n      <td>Giáo trình kỹ thuật lập trình C căn bản và nân...</td>\n      <td>Nhà Sách Tiki/Sách tiếng Việt/Sách Công Nghệ T...</td>\n      <td>&lt;p&gt;&lt;strong&gt;Giáo trình kỹ thuật lập trình C căn...</td>\n      <td>Huy Hoàng Bookstore</td>\n      <td>[{'id': 4043, 'name': 'Nhiều Tác Giả', 'slug':...</td>\n      <td>801</td>\n    </tr>\n    <tr>\n      <th>2</th>\n      <td>Mục lục:\\r\\nCHƯƠNG 1: BẮT ĐẦU AUTOCAD 2019 \\r\\...</td>\n      <td>Nhà Sách Tiki/Sách tiếng Việt/Sách Công Nghệ T...</td>\n      <td>&lt;p&gt;&lt;span style=\"text-decoration: underline;\"&gt;&lt;...</td>\n      <td>Công Ty TNHH Văn Hóa - Thế Giới Sách Việt</td>\n      <td>[{'id': 496059, 'name': ' Nhiều Tác Giả', 'slu...</td>\n      <td>12</td>\n    </tr>\n    <tr>\n      <th>3</th>\n      <td>I. Đôi điều về tác giả\\r\\nTôi là NEOS.THÀNH (N...</td>\n      <td>Nhà Sách Tiki/Sách tiếng Việt/Sách Công Nghệ T...</td>\n      <td>&lt;p&gt;&lt;strong&gt;I. Đôi điều về tác giả&lt;/strong&gt;&lt;/p&gt;...</td>\n      <td>-</td>\n      <td>[{\"name\": \"Tiki hoàn tiền 111% nếu phát hiện h...</td>\n      <td>N/A</td>\n    </tr>\n    <tr>\n      <th>4</th>\n      <td>Giáo trình kỹ thuật lập trình C căn bản và nân...</td>\n      <td>Nhà Sách Tiki/Sách tiếng Việt/Sách Công Nghệ T...</td>\n      <td>Giáo trình kỹ thuật lập trình C căn bản và nân...</td>\n      <td>Huy Hoàng Bookstore</td>\n      <td>[{'id': 4043, 'name': 'Nhiều Tác Giả', 'slug':...</td>\n      <td>97</td>\n    </tr>\n  </tbody>\n</table>\n</div>"
     },
     "metadata": {},
     "execution_count": 16
    }
   ],
   "source": [
    "books[['short_description', 'productset_group_name', 'description', 'publisher', 'authors', 'stock_item']].head()"
   ]
  },
  {
   "cell_type": "code",
   "execution_count": 17,
   "metadata": {},
   "outputs": [
    {
     "output_type": "execute_result",
     "data": {
      "text/plain": [
       "\"[{'id': 874123, 'name': ' Bùi Việt Hà', 'slug': 'bui-viet-ha'}]\""
      ]
     },
     "metadata": {},
     "execution_count": 17
    }
   ],
   "source": [
    "books.loc[0, 'authors']"
   ]
  },
  {
   "cell_type": "code",
   "execution_count": 18,
   "metadata": {},
   "outputs": [
    {
     "output_type": "execute_result",
     "data": {
      "text/plain": [
       "[{'name': 'Tiki hoàn tiền 111% nếu phát hiện hàng giả',\n",
       "  'value': None,\n",
       "  'url': None},\n",
       " {'name': 'Cam kết hàng chính hiệu', 'value': None, 'url': None}]"
      ]
     },
     "metadata": {},
     "execution_count": 18
    }
   ],
   "source": [
    "eval('[{\"name\": \"Tiki hoàn tiền 111% nếu phát hiện hàng giả\", \"value\": None, \"url\": None}, {\"name\": \"Cam kết hàng chính hiệu\", \"value\": None, \"url\": None}]')"
   ]
  },
  {
   "cell_type": "code",
   "execution_count": 19,
   "metadata": {},
   "outputs": [],
   "source": [
    "def process_author(author):\n",
    "    if 'null' in author:\n",
    "        author = author.replace('null', 'None')\n",
    "    try:\n",
    "        list_author = eval(author)\n",
    "    except:\n",
    "        return 'N/A'\n",
    "    result = ''\n",
    "    if len(list_author) == 1:\n",
    "        return list_author[0]['name']\n",
    "    for pair in list_author:\n",
    "        try:\n",
    "            if pair['name'] == 'Nhiều Tác Giả':\n",
    "                return pair['name']\n",
    "        except:\n",
    "            return 'N/A'\n",
    "        try:\n",
    "            result += pair['name'] + ', '\n",
    "        except:\n",
    "            return 'N/A'\n",
    "    return result[:-2]"
   ]
  },
  {
   "cell_type": "code",
   "execution_count": 20,
   "metadata": {},
   "outputs": [
    {
     "output_type": "execute_result",
     "data": {
      "text/plain": [
       "'Tiki hoàn tiền 111% nếu phát hiện hàng giả, Cam kết hàng chính hiệu'"
      ]
     },
     "metadata": {},
     "execution_count": 20
    }
   ],
   "source": [
    "process_author('[{\"name\": \"Tiki hoàn tiền 111% nếu phát hiện hàng giả\", \"value\": null, \"url\": null}, {\"name\": \"Cam kết hàng chính hiệu\", \"value\": null, \"url\": null}]')"
   ]
  },
  {
   "cell_type": "code",
   "execution_count": 21,
   "metadata": {},
   "outputs": [],
   "source": [
    "books['authors'] = books['authors'].apply(lambda x: process_author(str(x)))"
   ]
  },
  {
   "cell_type": "code",
   "execution_count": 22,
   "metadata": {},
   "outputs": [
    {
     "output_type": "execute_result",
     "data": {
      "text/plain": [
       "            id            sku  \\\n",
       "2805  54352408  8179577747242   \n",
       "3042  57150157  5129416015608   \n",
       "3610  51252264  2969676979608   \n",
       "5886   2140049  1891323100121   \n",
       "7427  58988659  8721360368099   \n",
       "7623  58988615  1748814660056   \n",
       "9937  51267038  9048246207259   \n",
       "\n",
       "                                                   name  \\\n",
       "2805             Chuyên luận nhỏ về những phẩm hạnh lớn   \n",
       "3042                        Tâm thức, bản ngã và xã hội   \n",
       "3610  Thái Ấp - Điền Trang Thời Trần (Thế kỷ XIII - ...   \n",
       "5886  Combo 5 cuốn sách Ekidar 3D Ehon Phía sau lưng...   \n",
       "7427  LUẬT XÂY DỰNG (SỬA ĐỔI, BỔ SUNG) 2020  NHỮNG Q...   \n",
       "7623  LUẬT DOANH NGHIỆP 2020 VÀ CÁC CHÍNH SÁCH PHÁT ...   \n",
       "9937  Combo 28 ngày tự học tiếng Nhật – Ghi chú luyệ...   \n",
       "\n",
       "                                               url_path book_cover  \\\n",
       "2805  chuyen-luan-nho-ve-nhung-pham-hanh-lon-p543524...    Bìa mềm   \n",
       "3042  tam-thuc-ban-nga-va-xa-hoi-p57150157.html?spid...    Bìa mềm   \n",
       "3610  thai-ap-dien-trang-thoi-tran-the-ky-xiii-xiv-p...    Bìa mềm   \n",
       "5886  combo-5-cuon-sach-ekidar-3d-ehon-phia-sau-lung...        N/A   \n",
       "7427  luat-xay-dung-sua-doi-bo-sung-2020-nhung-quy-d...    Bìa mềm   \n",
       "7623  luat-doanh-nghiep-2020-va-cac-chinh-sach-phat-...    Bìa mềm   \n",
       "9937  combo-28-ngay-tu-hoc-tieng-nhat-ghi-chu-luyen-...        N/A   \n",
       "\n",
       "                                      short_description   price  list_price  \\\n",
       "2805  Tên sách: Chuyên luận nhỏ về những phẩm hạnh l...  106990      129000   \n",
       "3042  Mục lục \\r\\nĐôi lời của người dịch  \\r\\nLời tự...  126990      155000   \n",
       "3610  Sự tồn tại của các thái ấp - điền trang là một...   90350      139000   \n",
       "5886  - Language: 8.\\r\\n\\r\\n\\r\\nSách Học Tiếng Anh T...   99000      200000   \n",
       "7427  Luật sửa đổi, bổ sung một số điều của Luật xây...  348000      435000   \n",
       "7623  Ngày 17/6/2020, tại kỳ họp thứ 9 Quốc hội khóa...  362000      435000   \n",
       "9937  \\r\\n\\r\\nNhững khó khăn mà người tự học tiếng N...  224142      332000   \n",
       "\n",
       "      price_usd  discount  ...  rating_average  review_count  order_count  \\\n",
       "2805      4.574     22010  ...             5.0             1            0   \n",
       "3042      5.429     28010  ...             5.0             1            0   \n",
       "3610      3.862     48650  ...             5.0             1            0   \n",
       "5886      4.232    101000  ...             3.1            20            0   \n",
       "7427     14.876     87000  ...             0.0             0            0   \n",
       "7623     15.475     73000  ...             0.0             0            0   \n",
       "9937      9.582    107858  ...             5.0             1            0   \n",
       "\n",
       "      favourite_count                                      thumbnail_url  \\\n",
       "2805                0  https://salt.tikicdn.com/cache/280x280/ts/prod...   \n",
       "3042                0  https://salt.tikicdn.com/cache/280x280/ts/prod...   \n",
       "3610                0  https://salt.tikicdn.com/cache/280x280/ts/prod...   \n",
       "5886                0  https://salt.tikicdn.com/cache/280x280/ts/prod...   \n",
       "7427                0  https://salt.tikicdn.com/cache/280x280/ts/prod...   \n",
       "7623                0  https://salt.tikicdn.com/cache/280x280/ts/prod...   \n",
       "9937                0  https://salt.tikicdn.com/cache/280x280/ts/prod...   \n",
       "\n",
       "                                  productset_group_name  \\\n",
       "2805  Nhà Sách Tiki/Sách tiếng Việt /Sách Kiến Thức ...   \n",
       "3042  Nhà Sách Tiki/Sách tiếng Việt /Sách Kiến Thức ...   \n",
       "3610  Nhà Sách Tiki/Sách tiếng Việt/Sách Lịch sử/Lịc...   \n",
       "5886  Nhà Sách Tiki/Sách tiếng Việt /Sách thiếu nhi ...   \n",
       "7427  Nhà Sách Tiki/Sách tiếng Việt /Sách Chính Trị ...   \n",
       "7623  Nhà Sách Tiki/Sách tiếng Việt /Sách Chính Trị ...   \n",
       "9937  Nhà Sách Tiki/Sách tiếng Việt /Sách Học Ngoại ...   \n",
       "\n",
       "                                            description publisher authors  \\\n",
       "2805                                                 []       N/A     N/A   \n",
       "3042                                                 []       N/A     N/A   \n",
       "3610                                                 []       N/A     N/A   \n",
       "5886  Hình ảnh sống động trực quan dễ ghi nhớ từ mới...    Ekidar     N/A   \n",
       "7427                                                 []       N/A     N/A   \n",
       "7623                                                 []       N/A     N/A   \n",
       "9937                                                 []       N/A     N/A   \n",
       "\n",
       "     stock_item  \n",
       "2805          1  \n",
       "3042          7  \n",
       "3610         69  \n",
       "5886        381  \n",
       "7427          4  \n",
       "7623         39  \n",
       "9937          3  \n",
       "\n",
       "[7 rows x 21 columns]"
      ],
      "text/html": "<div>\n<style scoped>\n    .dataframe tbody tr th:only-of-type {\n        vertical-align: middle;\n    }\n\n    .dataframe tbody tr th {\n        vertical-align: top;\n    }\n\n    .dataframe thead th {\n        text-align: right;\n    }\n</style>\n<table border=\"1\" class=\"dataframe\">\n  <thead>\n    <tr style=\"text-align: right;\">\n      <th></th>\n      <th>id</th>\n      <th>sku</th>\n      <th>name</th>\n      <th>url_path</th>\n      <th>book_cover</th>\n      <th>short_description</th>\n      <th>price</th>\n      <th>list_price</th>\n      <th>price_usd</th>\n      <th>discount</th>\n      <th>...</th>\n      <th>rating_average</th>\n      <th>review_count</th>\n      <th>order_count</th>\n      <th>favourite_count</th>\n      <th>thumbnail_url</th>\n      <th>productset_group_name</th>\n      <th>description</th>\n      <th>publisher</th>\n      <th>authors</th>\n      <th>stock_item</th>\n    </tr>\n  </thead>\n  <tbody>\n    <tr>\n      <th>2805</th>\n      <td>54352408</td>\n      <td>8179577747242</td>\n      <td>Chuyên luận nhỏ về những phẩm hạnh lớn</td>\n      <td>chuyen-luan-nho-ve-nhung-pham-hanh-lon-p543524...</td>\n      <td>Bìa mềm</td>\n      <td>Tên sách: Chuyên luận nhỏ về những phẩm hạnh l...</td>\n      <td>106990</td>\n      <td>129000</td>\n      <td>4.574</td>\n      <td>22010</td>\n      <td>...</td>\n      <td>5.0</td>\n      <td>1</td>\n      <td>0</td>\n      <td>0</td>\n      <td>https://salt.tikicdn.com/cache/280x280/ts/prod...</td>\n      <td>Nhà Sách Tiki/Sách tiếng Việt /Sách Kiến Thức ...</td>\n      <td>[]</td>\n      <td>N/A</td>\n      <td>N/A</td>\n      <td>1</td>\n    </tr>\n    <tr>\n      <th>3042</th>\n      <td>57150157</td>\n      <td>5129416015608</td>\n      <td>Tâm thức, bản ngã và xã hội</td>\n      <td>tam-thuc-ban-nga-va-xa-hoi-p57150157.html?spid...</td>\n      <td>Bìa mềm</td>\n      <td>Mục lục \\r\\nĐôi lời của người dịch  \\r\\nLời tự...</td>\n      <td>126990</td>\n      <td>155000</td>\n      <td>5.429</td>\n      <td>28010</td>\n      <td>...</td>\n      <td>5.0</td>\n      <td>1</td>\n      <td>0</td>\n      <td>0</td>\n      <td>https://salt.tikicdn.com/cache/280x280/ts/prod...</td>\n      <td>Nhà Sách Tiki/Sách tiếng Việt /Sách Kiến Thức ...</td>\n      <td>[]</td>\n      <td>N/A</td>\n      <td>N/A</td>\n      <td>7</td>\n    </tr>\n    <tr>\n      <th>3610</th>\n      <td>51252264</td>\n      <td>2969676979608</td>\n      <td>Thái Ấp - Điền Trang Thời Trần (Thế kỷ XIII - ...</td>\n      <td>thai-ap-dien-trang-thoi-tran-the-ky-xiii-xiv-p...</td>\n      <td>Bìa mềm</td>\n      <td>Sự tồn tại của các thái ấp - điền trang là một...</td>\n      <td>90350</td>\n      <td>139000</td>\n      <td>3.862</td>\n      <td>48650</td>\n      <td>...</td>\n      <td>5.0</td>\n      <td>1</td>\n      <td>0</td>\n      <td>0</td>\n      <td>https://salt.tikicdn.com/cache/280x280/ts/prod...</td>\n      <td>Nhà Sách Tiki/Sách tiếng Việt/Sách Lịch sử/Lịc...</td>\n      <td>[]</td>\n      <td>N/A</td>\n      <td>N/A</td>\n      <td>69</td>\n    </tr>\n    <tr>\n      <th>5886</th>\n      <td>2140049</td>\n      <td>1891323100121</td>\n      <td>Combo 5 cuốn sách Ekidar 3D Ehon Phía sau lưng...</td>\n      <td>combo-5-cuon-sach-ekidar-3d-ehon-phia-sau-lung...</td>\n      <td>N/A</td>\n      <td>- Language: 8.\\r\\n\\r\\n\\r\\nSách Học Tiếng Anh T...</td>\n      <td>99000</td>\n      <td>200000</td>\n      <td>4.232</td>\n      <td>101000</td>\n      <td>...</td>\n      <td>3.1</td>\n      <td>20</td>\n      <td>0</td>\n      <td>0</td>\n      <td>https://salt.tikicdn.com/cache/280x280/ts/prod...</td>\n      <td>Nhà Sách Tiki/Sách tiếng Việt /Sách thiếu nhi ...</td>\n      <td>Hình ảnh sống động trực quan dễ ghi nhớ từ mới...</td>\n      <td>Ekidar</td>\n      <td>N/A</td>\n      <td>381</td>\n    </tr>\n    <tr>\n      <th>7427</th>\n      <td>58988659</td>\n      <td>8721360368099</td>\n      <td>LUẬT XÂY DỰNG (SỬA ĐỔI, BỔ SUNG) 2020  NHỮNG Q...</td>\n      <td>luat-xay-dung-sua-doi-bo-sung-2020-nhung-quy-d...</td>\n      <td>Bìa mềm</td>\n      <td>Luật sửa đổi, bổ sung một số điều của Luật xây...</td>\n      <td>348000</td>\n      <td>435000</td>\n      <td>14.876</td>\n      <td>87000</td>\n      <td>...</td>\n      <td>0.0</td>\n      <td>0</td>\n      <td>0</td>\n      <td>0</td>\n      <td>https://salt.tikicdn.com/cache/280x280/ts/prod...</td>\n      <td>Nhà Sách Tiki/Sách tiếng Việt /Sách Chính Trị ...</td>\n      <td>[]</td>\n      <td>N/A</td>\n      <td>N/A</td>\n      <td>4</td>\n    </tr>\n    <tr>\n      <th>7623</th>\n      <td>58988615</td>\n      <td>1748814660056</td>\n      <td>LUẬT DOANH NGHIỆP 2020 VÀ CÁC CHÍNH SÁCH PHÁT ...</td>\n      <td>luat-doanh-nghiep-2020-va-cac-chinh-sach-phat-...</td>\n      <td>Bìa mềm</td>\n      <td>Ngày 17/6/2020, tại kỳ họp thứ 9 Quốc hội khóa...</td>\n      <td>362000</td>\n      <td>435000</td>\n      <td>15.475</td>\n      <td>73000</td>\n      <td>...</td>\n      <td>0.0</td>\n      <td>0</td>\n      <td>0</td>\n      <td>0</td>\n      <td>https://salt.tikicdn.com/cache/280x280/ts/prod...</td>\n      <td>Nhà Sách Tiki/Sách tiếng Việt /Sách Chính Trị ...</td>\n      <td>[]</td>\n      <td>N/A</td>\n      <td>N/A</td>\n      <td>39</td>\n    </tr>\n    <tr>\n      <th>9937</th>\n      <td>51267038</td>\n      <td>9048246207259</td>\n      <td>Combo 28 ngày tự học tiếng Nhật – Ghi chú luyệ...</td>\n      <td>combo-28-ngay-tu-hoc-tieng-nhat-ghi-chu-luyen-...</td>\n      <td>N/A</td>\n      <td>\\r\\n\\r\\nNhững khó khăn mà người tự học tiếng N...</td>\n      <td>224142</td>\n      <td>332000</td>\n      <td>9.582</td>\n      <td>107858</td>\n      <td>...</td>\n      <td>5.0</td>\n      <td>1</td>\n      <td>0</td>\n      <td>0</td>\n      <td>https://salt.tikicdn.com/cache/280x280/ts/prod...</td>\n      <td>Nhà Sách Tiki/Sách tiếng Việt /Sách Học Ngoại ...</td>\n      <td>[]</td>\n      <td>N/A</td>\n      <td>N/A</td>\n      <td>3</td>\n    </tr>\n  </tbody>\n</table>\n<p>7 rows × 21 columns</p>\n</div>"
     },
     "metadata": {},
     "execution_count": 22
    }
   ],
   "source": [
    "books[books['authors']=='N/A']"
   ]
  },
  {
   "cell_type": "code",
   "execution_count": 23,
   "metadata": {},
   "outputs": [
    {
     "output_type": "execute_result",
     "data": {
      "text/plain": [
       "         id            sku                                               name  \\\n",
       "0  58390336  3380735508079                                      Python cơ bản   \n",
       "1   1664525  2147399986992  Giáo Trình Kỹ Thuật Lập Trình C Căn Bản Và Nân...   \n",
       "2  55573620  6752050391860  Giáo Trình Tự Học AutoCAD 2019 Thực Hành Bằng ...   \n",
       "3  24889348  3747885152000  Lập trình hướng đối tượng JAVA core dành cho n...   \n",
       "4  37667006  5950833882104  Combo Giáo Trình Kỹ Thuật Lập Trình C Căn Bản ...   \n",
       "\n",
       "                                            url_path book_cover  \\\n",
       "0         python-co-ban-p58390336.html?spid=58390337    Bìa mềm   \n",
       "1  giao-trinh-ky-thuat-lap-trinh-c-can-ban-va-nan...    Bìa mềm   \n",
       "2  giao-trinh-tu-hoc-autocad-2019-thuc-hanh-bang-...    Bìa mềm   \n",
       "3  lap-trinh-huong-doi-tuong-java-core-danh-cho-n...        N/A   \n",
       "4  combo-giao-trinh-ky-thuat-lap-trinh-c-can-ban-...    Bìa mềm   \n",
       "\n",
       "                                   short_description   price  list_price  \\\n",
       "0  SÁCH PYTHON CƠ BẢN\\r\\nHiện nay ngôn ngữ lập tr...  125000      125000   \n",
       "1  Giáo trình kỹ thuật lập trình C căn bản và nân...   67500      135000   \n",
       "2  Mục lục:\\r\\nCHƯƠNG 1: BẮT ĐẦU AUTOCAD 2019 \\r\\...  110000      110000   \n",
       "3  I. Đôi điều về tác giả\\r\\nTôi là NEOS.THÀNH (N...  189000      299000   \n",
       "4  Giáo trình kỹ thuật lập trình C căn bản và nân...  223400      280000   \n",
       "\n",
       "   price_usd  discount  ...  rating_average  review_count  order_count  \\\n",
       "0      5.343         0  ...             4.8            32            0   \n",
       "1      2.885     67500  ...             4.5            82            0   \n",
       "2      4.702         0  ...             4.7            10            0   \n",
       "3      8.079    110000  ...             4.7            86            0   \n",
       "4      9.550     56600  ...             4.3            21            0   \n",
       "\n",
       "   favourite_count                                      thumbnail_url  \\\n",
       "0                0  https://salt.tikicdn.com/cache/280x280/ts/prod...   \n",
       "1                0  https://salt.tikicdn.com/cache/280x280/ts/prod...   \n",
       "2                0  https://salt.tikicdn.com/cache/280x280/ts/prod...   \n",
       "3                0  https://salt.tikicdn.com/cache/280x280/ts/prod...   \n",
       "4                0  https://salt.tikicdn.com/cache/280x280/ts/prod...   \n",
       "\n",
       "                               productset_group_name  \\\n",
       "0  Nhà Sách Tiki/Sách tiếng Việt/Sách Công Nghệ T...   \n",
       "1  Nhà Sách Tiki/Sách tiếng Việt/Sách Công Nghệ T...   \n",
       "2  Nhà Sách Tiki/Sách tiếng Việt/Sách Công Nghệ T...   \n",
       "3  Nhà Sách Tiki/Sách tiếng Việt/Sách Công Nghệ T...   \n",
       "4  Nhà Sách Tiki/Sách tiếng Việt/Sách Công Nghệ T...   \n",
       "\n",
       "                                         description  \\\n",
       "0  <p><strong>SÁCH PYTHON CƠ BẢN</strong></p>\\r\\n...   \n",
       "1  <p><strong>Giáo trình kỹ thuật lập trình C căn...   \n",
       "2  <p><span style=\"text-decoration: underline;\"><...   \n",
       "3  <p><strong>I. Đôi điều về tác giả</strong></p>...   \n",
       "4  Giáo trình kỹ thuật lập trình C căn bản và nân...   \n",
       "\n",
       "                                   publisher  \\\n",
       "0                NXB Đại Học Quốc Gia Hà Nội   \n",
       "1                        Huy Hoàng Bookstore   \n",
       "2  Công Ty TNHH Văn Hóa - Thế Giới Sách Việt   \n",
       "3                                          -   \n",
       "4                        Huy Hoàng Bookstore   \n",
       "\n",
       "                                             authors stock_item  \n",
       "0                                        Bùi Việt Hà          5  \n",
       "1                                      Nhiều Tác Giả        801  \n",
       "2                                      Nhiều Tác Giả         12  \n",
       "3  Tiki hoàn tiền 111% nếu phát hiện hàng giả, Ca...        N/A  \n",
       "4                                      Nhiều Tác Giả         97  \n",
       "\n",
       "[5 rows x 21 columns]"
      ],
      "text/html": "<div>\n<style scoped>\n    .dataframe tbody tr th:only-of-type {\n        vertical-align: middle;\n    }\n\n    .dataframe tbody tr th {\n        vertical-align: top;\n    }\n\n    .dataframe thead th {\n        text-align: right;\n    }\n</style>\n<table border=\"1\" class=\"dataframe\">\n  <thead>\n    <tr style=\"text-align: right;\">\n      <th></th>\n      <th>id</th>\n      <th>sku</th>\n      <th>name</th>\n      <th>url_path</th>\n      <th>book_cover</th>\n      <th>short_description</th>\n      <th>price</th>\n      <th>list_price</th>\n      <th>price_usd</th>\n      <th>discount</th>\n      <th>...</th>\n      <th>rating_average</th>\n      <th>review_count</th>\n      <th>order_count</th>\n      <th>favourite_count</th>\n      <th>thumbnail_url</th>\n      <th>productset_group_name</th>\n      <th>description</th>\n      <th>publisher</th>\n      <th>authors</th>\n      <th>stock_item</th>\n    </tr>\n  </thead>\n  <tbody>\n    <tr>\n      <th>0</th>\n      <td>58390336</td>\n      <td>3380735508079</td>\n      <td>Python cơ bản</td>\n      <td>python-co-ban-p58390336.html?spid=58390337</td>\n      <td>Bìa mềm</td>\n      <td>SÁCH PYTHON CƠ BẢN\\r\\nHiện nay ngôn ngữ lập tr...</td>\n      <td>125000</td>\n      <td>125000</td>\n      <td>5.343</td>\n      <td>0</td>\n      <td>...</td>\n      <td>4.8</td>\n      <td>32</td>\n      <td>0</td>\n      <td>0</td>\n      <td>https://salt.tikicdn.com/cache/280x280/ts/prod...</td>\n      <td>Nhà Sách Tiki/Sách tiếng Việt/Sách Công Nghệ T...</td>\n      <td>&lt;p&gt;&lt;strong&gt;SÁCH PYTHON CƠ BẢN&lt;/strong&gt;&lt;/p&gt;\\r\\n...</td>\n      <td>NXB Đại Học Quốc Gia Hà Nội</td>\n      <td>Bùi Việt Hà</td>\n      <td>5</td>\n    </tr>\n    <tr>\n      <th>1</th>\n      <td>1664525</td>\n      <td>2147399986992</td>\n      <td>Giáo Trình Kỹ Thuật Lập Trình C Căn Bản Và Nân...</td>\n      <td>giao-trinh-ky-thuat-lap-trinh-c-can-ban-va-nan...</td>\n      <td>Bìa mềm</td>\n      <td>Giáo trình kỹ thuật lập trình C căn bản và nân...</td>\n      <td>67500</td>\n      <td>135000</td>\n      <td>2.885</td>\n      <td>67500</td>\n      <td>...</td>\n      <td>4.5</td>\n      <td>82</td>\n      <td>0</td>\n      <td>0</td>\n      <td>https://salt.tikicdn.com/cache/280x280/ts/prod...</td>\n      <td>Nhà Sách Tiki/Sách tiếng Việt/Sách Công Nghệ T...</td>\n      <td>&lt;p&gt;&lt;strong&gt;Giáo trình kỹ thuật lập trình C căn...</td>\n      <td>Huy Hoàng Bookstore</td>\n      <td>Nhiều Tác Giả</td>\n      <td>801</td>\n    </tr>\n    <tr>\n      <th>2</th>\n      <td>55573620</td>\n      <td>6752050391860</td>\n      <td>Giáo Trình Tự Học AutoCAD 2019 Thực Hành Bằng ...</td>\n      <td>giao-trinh-tu-hoc-autocad-2019-thuc-hanh-bang-...</td>\n      <td>Bìa mềm</td>\n      <td>Mục lục:\\r\\nCHƯƠNG 1: BẮT ĐẦU AUTOCAD 2019 \\r\\...</td>\n      <td>110000</td>\n      <td>110000</td>\n      <td>4.702</td>\n      <td>0</td>\n      <td>...</td>\n      <td>4.7</td>\n      <td>10</td>\n      <td>0</td>\n      <td>0</td>\n      <td>https://salt.tikicdn.com/cache/280x280/ts/prod...</td>\n      <td>Nhà Sách Tiki/Sách tiếng Việt/Sách Công Nghệ T...</td>\n      <td>&lt;p&gt;&lt;span style=\"text-decoration: underline;\"&gt;&lt;...</td>\n      <td>Công Ty TNHH Văn Hóa - Thế Giới Sách Việt</td>\n      <td>Nhiều Tác Giả</td>\n      <td>12</td>\n    </tr>\n    <tr>\n      <th>3</th>\n      <td>24889348</td>\n      <td>3747885152000</td>\n      <td>Lập trình hướng đối tượng JAVA core dành cho n...</td>\n      <td>lap-trinh-huong-doi-tuong-java-core-danh-cho-n...</td>\n      <td>N/A</td>\n      <td>I. Đôi điều về tác giả\\r\\nTôi là NEOS.THÀNH (N...</td>\n      <td>189000</td>\n      <td>299000</td>\n      <td>8.079</td>\n      <td>110000</td>\n      <td>...</td>\n      <td>4.7</td>\n      <td>86</td>\n      <td>0</td>\n      <td>0</td>\n      <td>https://salt.tikicdn.com/cache/280x280/ts/prod...</td>\n      <td>Nhà Sách Tiki/Sách tiếng Việt/Sách Công Nghệ T...</td>\n      <td>&lt;p&gt;&lt;strong&gt;I. Đôi điều về tác giả&lt;/strong&gt;&lt;/p&gt;...</td>\n      <td>-</td>\n      <td>Tiki hoàn tiền 111% nếu phát hiện hàng giả, Ca...</td>\n      <td>N/A</td>\n    </tr>\n    <tr>\n      <th>4</th>\n      <td>37667006</td>\n      <td>5950833882104</td>\n      <td>Combo Giáo Trình Kỹ Thuật Lập Trình C Căn Bản ...</td>\n      <td>combo-giao-trinh-ky-thuat-lap-trinh-c-can-ban-...</td>\n      <td>Bìa mềm</td>\n      <td>Giáo trình kỹ thuật lập trình C căn bản và nân...</td>\n      <td>223400</td>\n      <td>280000</td>\n      <td>9.550</td>\n      <td>56600</td>\n      <td>...</td>\n      <td>4.3</td>\n      <td>21</td>\n      <td>0</td>\n      <td>0</td>\n      <td>https://salt.tikicdn.com/cache/280x280/ts/prod...</td>\n      <td>Nhà Sách Tiki/Sách tiếng Việt/Sách Công Nghệ T...</td>\n      <td>Giáo trình kỹ thuật lập trình C căn bản và nân...</td>\n      <td>Huy Hoàng Bookstore</td>\n      <td>Nhiều Tác Giả</td>\n      <td>97</td>\n    </tr>\n  </tbody>\n</table>\n<p>5 rows × 21 columns</p>\n</div>"
     },
     "metadata": {},
     "execution_count": 23
    }
   ],
   "source": [
    "books.head()"
   ]
  },
  {
   "cell_type": "code",
   "execution_count": 24,
   "metadata": {},
   "outputs": [
    {
     "output_type": "execute_result",
     "data": {
      "text/plain": [
       "Nhà Sách Tiki/Sách tiếng Việt/Sách kỹ năng sống/Sách tư duy - Kỹ năng sống                                630\n",
       "Nhà Sách Tiki/Sách tiếng Việt/Truyện Tranh, Manga, Comic                                                  548\n",
       "Nhà Sách Tiki/Sách tiếng Việt /Sách Chính Trị - Pháp Lý/Luật - Văn Bản Luật                               463\n",
       "Nhà Sách Tiki/Sách tiếng Việt/Sách Học Ngoại Ngữ/Sách Học Tiếng Anh                                       418\n",
       "Nhà Sách Tiki/Sách tiếng Việt /Sách Lịch sử/Lịch Sử Việt Nam                                              394\n",
       "                                                                                                         ... \n",
       "Chương Trình Khuyến Mãi/Book - Khuyến mại/HỘI SÁCH ONLINE 2018/NHÀ TÀI TRỢ/Alphabooks/Sách Bán Chạy         1\n",
       "Chương Trình Khuyến Mãi/Book - Khuyến mại/Tháng Đọc Sách/Sách Hay Giảm Sốc/Sách Giảm 40% - 50%              1\n",
       "Chương Trình Khuyến Mãi/Book - Khuyến mại/Tháng Đọc Sách/Sách Hay Giảm Sốc/Sách Mới Đồng Giảm 35%\\t \\t      1\n",
       "Nhà Sách Tiki/Sách tiếng Việt/Điện Ảnh - Nhạc - Họa/Âm Nhạc - Điện Ảnh                                      1\n",
       "Nhà Sách Tiki/Sách tiếng Việt/Từ Điển/Từ Điển Tiếng Anh                                                     1\n",
       "Name: productset_group_name, Length: 186, dtype: int64"
      ]
     },
     "metadata": {},
     "execution_count": 24
    }
   ],
   "source": [
    "books.productset_group_name.value_counts()"
   ]
  },
  {
   "cell_type": "code",
   "execution_count": 25,
   "metadata": {},
   "outputs": [],
   "source": [
    "def process_productset_group_name(group):\n",
    "    try:\n",
    "        group = group.split('/')\n",
    "    except:\n",
    "        return 'N/A'\n",
    "    return \", \".join(i for i in group[2:])\n",
    "        "
   ]
  },
  {
   "cell_type": "code",
   "execution_count": 26,
   "metadata": {},
   "outputs": [],
   "source": [
    "books['productset_group_name'] = books['productset_group_name'].apply(lambda x: process_productset_group_name(x))"
   ]
  },
  {
   "cell_type": "code",
   "execution_count": 27,
   "metadata": {},
   "outputs": [
    {
     "output_type": "execute_result",
     "data": {
      "text/plain": [
       "'N/A'"
      ]
     },
     "metadata": {},
     "execution_count": 27
    }
   ],
   "source": [
    "books.loc[2482, 'productset_group_name']"
   ]
  },
  {
   "cell_type": "code",
   "execution_count": 28,
   "metadata": {},
   "outputs": [],
   "source": [
    "# books.to_csv('../Data/books.csv', index=False)"
   ]
  },
  {
   "cell_type": "code",
   "execution_count": 29,
   "metadata": {},
   "outputs": [
    {
     "output_type": "stream",
     "name": "stdout",
     "text": [
      "<class 'pandas.core.frame.DataFrame'>\nInt64Index: 10738 entries, 0 to 11956\nData columns (total 21 columns):\n #   Column                 Non-Null Count  Dtype  \n---  ------                 --------------  -----  \n 0   id                     10738 non-null  int64  \n 1   sku                    10738 non-null  int64  \n 2   name                   10738 non-null  object \n 3   url_path               10738 non-null  object \n 4   book_cover             10738 non-null  object \n 5   short_description      10735 non-null  object \n 6   price                  10738 non-null  int64  \n 7   list_price             10738 non-null  int64  \n 8   price_usd              10738 non-null  float64\n 9   discount               10738 non-null  int64  \n 10  discount_rate          10738 non-null  int64  \n 11  rating_average         10738 non-null  float64\n 12  review_count           10738 non-null  int64  \n 13  order_count            10738 non-null  int64  \n 14  favourite_count        10738 non-null  int64  \n 15  thumbnail_url          10738 non-null  object \n 16  productset_group_name  10738 non-null  object \n 17  description            10738 non-null  object \n 18  publisher              10738 non-null  object \n 19  authors                10738 non-null  object \n 20  stock_item             10738 non-null  object \ndtypes: float64(2), int64(9), object(10)\nmemory usage: 2.1+ MB\n"
     ]
    }
   ],
   "source": [
    "books.info()"
   ]
  },
  {
   "cell_type": "code",
   "execution_count": 34,
   "metadata": {},
   "outputs": [
    {
     "output_type": "execute_result",
     "data": {
      "text/plain": [
       "Truyện Tranh, Manga, Comic                       933\n",
       "Sách kỹ năng sống, Sách tư duy - Kỹ năng sống    835\n",
       "Sách Chính Trị - Pháp Lý, Luật - Văn Bản Luật    641\n",
       "Sách Lịch sử, Lịch Sử Việt Nam                   640\n",
       "Sách Bà mẹ - Em bé, Sách Làm Cha Mẹ              573\n",
       "Sách Học Ngoại Ngữ, Sách Học Tiếng Anh           544\n",
       "Sách thiếu nhi , Kiến thức - Bách khoa           448\n",
       "Sách Tham Khảo, Sách tham khảo cấp II            348\n",
       "Càng Mua Càng Giảm                               328\n",
       "Sách kinh tế, Sách kỹ năng làm việc              314\n",
       "Name: productset_group_name, dtype: int64"
      ]
     },
     "metadata": {},
     "execution_count": 34
    }
   ],
   "source": [
    "books.productset_group_name.value_counts()[:10]"
   ]
  },
  {
   "cell_type": "code",
   "execution_count": 38,
   "metadata": {},
   "outputs": [],
   "source": [
    "books[['id', 'name', 'productset_group_name', 'short_description', 'price', 'discount', 'thumbnail_url']].to_csv('../Data/books_show.csv', index=False)"
   ]
  },
  {
   "cell_type": "code",
   "execution_count": 40,
   "metadata": {},
   "outputs": [],
   "source": [
    "books[['id', 'rating_average', 'review_count', 'order_count', 'book_cover', 'publisher', 'authors']].to_csv('../Data/books_details.csv', index=False)"
   ]
  },
  {
   "cell_type": "code",
   "execution_count": 11,
   "metadata": {},
   "outputs": [
    {
     "output_type": "execute_result",
     "data": {
      "text/plain": [
       "         id            sku                                               name  \\\n",
       "0  58390336  3380735508079                                      Python cơ bản   \n",
       "1   1664525  2147399986992  Giáo Trình Kỹ Thuật Lập Trình C Căn Bản Và Nân...   \n",
       "2  55573620  6752050391860  Giáo Trình Tự Học AutoCAD 2019 Thực Hành Bằng ...   \n",
       "3  24889348  3747885152000  Lập trình hướng đối tượng JAVA core dành cho n...   \n",
       "4  37667006  5950833882104  Combo Giáo Trình Kỹ Thuật Lập Trình C Căn Bản ...   \n",
       "\n",
       "                                            url_path book_cover  \\\n",
       "0         python-co-ban-p58390336.html?spid=58390337    Bìa mềm   \n",
       "1  giao-trinh-ky-thuat-lap-trinh-c-can-ban-va-nan...    Bìa mềm   \n",
       "2  giao-trinh-tu-hoc-autocad-2019-thuc-hanh-bang-...    Bìa mềm   \n",
       "3  lap-trinh-huong-doi-tuong-java-core-danh-cho-n...        NaN   \n",
       "4  combo-giao-trinh-ky-thuat-lap-trinh-c-can-ban-...    Bìa mềm   \n",
       "\n",
       "                                   short_description   price  list_price  \\\n",
       "0  SÁCH PYTHON CƠ BẢN\\r\\nHiện nay ngôn ngữ lập tr...  125000      125000   \n",
       "1  Giáo trình kỹ thuật lập trình C căn bản và nân...   67500      135000   \n",
       "2  Mục lục:\\r\\nCHƯƠNG 1: BẮT ĐẦU AUTOCAD 2019 \\r\\...  110000      110000   \n",
       "3  I. Đôi điều về tác giả\\r\\nTôi là NEOS.THÀNH (N...  189000      299000   \n",
       "4  Giáo trình kỹ thuật lập trình C căn bản và nân...  223400      280000   \n",
       "\n",
       "   price_usd  discount  ...  order_count  favourite_count  \\\n",
       "0      5.343         0  ...            0                0   \n",
       "1      2.885     67500  ...            0                0   \n",
       "2      4.702         0  ...            0                0   \n",
       "3      8.079    110000  ...            0                0   \n",
       "4      9.550     56600  ...            0                0   \n",
       "\n",
       "                                       thumbnail_url  \\\n",
       "0  https://salt.tikicdn.com/cache/280x280/ts/prod...   \n",
       "1  https://salt.tikicdn.com/cache/280x280/ts/prod...   \n",
       "2  https://salt.tikicdn.com/cache/280x280/ts/prod...   \n",
       "3  https://salt.tikicdn.com/cache/280x280/ts/prod...   \n",
       "4  https://salt.tikicdn.com/cache/280x280/ts/prod...   \n",
       "\n",
       "                         productset_group_name  \\\n",
       "0          Sách Công Nghệ Thông Tin, Lập Trình   \n",
       "1          Sách Công Nghệ Thông Tin, Lập Trình   \n",
       "2  Sách Công Nghệ Thông Tin, Thiết Kế - Đồ Họa   \n",
       "3          Sách Công Nghệ Thông Tin, Lập Trình   \n",
       "4          Sách Công Nghệ Thông Tin, Lập Trình   \n",
       "\n",
       "                                         description  \\\n",
       "0  <p><strong>SÁCH PYTHON CƠ BẢN</strong></p>\\r\\n...   \n",
       "1  <p><strong>Giáo trình kỹ thuật lập trình C căn...   \n",
       "2  <p><span style=\"text-decoration: underline;\"><...   \n",
       "3  <p><strong>I. Đôi điều về tác giả</strong></p>...   \n",
       "4  Giáo trình kỹ thuật lập trình C căn bản và nân...   \n",
       "\n",
       "                                   publisher  \\\n",
       "0                NXB Đại Học Quốc Gia Hà Nội   \n",
       "1                        Huy Hoàng Bookstore   \n",
       "2  Công Ty TNHH Văn Hóa - Thế Giới Sách Việt   \n",
       "3                                          -   \n",
       "4                        Huy Hoàng Bookstore   \n",
       "\n",
       "                                             authors stock_item  \\\n",
       "0                                        Bùi Việt Hà        5.0   \n",
       "1                                      Nhiều Tác Giả      801.0   \n",
       "2                                      Nhiều Tác Giả       12.0   \n",
       "3  Tiki hoàn tiền 111% nếu phát hiện hàng giả, Ca...        NaN   \n",
       "4                                      Nhiều Tác Giả       97.0   \n",
       "\n",
       "               big_category        sub_category  \n",
       "0  Sách Công Nghệ Thông Tin           Lập Trình  \n",
       "1  Sách Công Nghệ Thông Tin           Lập Trình  \n",
       "2  Sách Công Nghệ Thông Tin   Thiết Kế - Đồ Họa  \n",
       "3  Sách Công Nghệ Thông Tin           Lập Trình  \n",
       "4  Sách Công Nghệ Thông Tin           Lập Trình  \n",
       "\n",
       "[5 rows x 23 columns]"
      ],
      "text/html": "<div>\n<style scoped>\n    .dataframe tbody tr th:only-of-type {\n        vertical-align: middle;\n    }\n\n    .dataframe tbody tr th {\n        vertical-align: top;\n    }\n\n    .dataframe thead th {\n        text-align: right;\n    }\n</style>\n<table border=\"1\" class=\"dataframe\">\n  <thead>\n    <tr style=\"text-align: right;\">\n      <th></th>\n      <th>id</th>\n      <th>sku</th>\n      <th>name</th>\n      <th>url_path</th>\n      <th>book_cover</th>\n      <th>short_description</th>\n      <th>price</th>\n      <th>list_price</th>\n      <th>price_usd</th>\n      <th>discount</th>\n      <th>...</th>\n      <th>order_count</th>\n      <th>favourite_count</th>\n      <th>thumbnail_url</th>\n      <th>productset_group_name</th>\n      <th>description</th>\n      <th>publisher</th>\n      <th>authors</th>\n      <th>stock_item</th>\n      <th>big_category</th>\n      <th>sub_category</th>\n    </tr>\n  </thead>\n  <tbody>\n    <tr>\n      <th>0</th>\n      <td>58390336</td>\n      <td>3380735508079</td>\n      <td>Python cơ bản</td>\n      <td>python-co-ban-p58390336.html?spid=58390337</td>\n      <td>Bìa mềm</td>\n      <td>SÁCH PYTHON CƠ BẢN\\r\\nHiện nay ngôn ngữ lập tr...</td>\n      <td>125000</td>\n      <td>125000</td>\n      <td>5.343</td>\n      <td>0</td>\n      <td>...</td>\n      <td>0</td>\n      <td>0</td>\n      <td>https://salt.tikicdn.com/cache/280x280/ts/prod...</td>\n      <td>Sách Công Nghệ Thông Tin, Lập Trình</td>\n      <td>&lt;p&gt;&lt;strong&gt;SÁCH PYTHON CƠ BẢN&lt;/strong&gt;&lt;/p&gt;\\r\\n...</td>\n      <td>NXB Đại Học Quốc Gia Hà Nội</td>\n      <td>Bùi Việt Hà</td>\n      <td>5.0</td>\n      <td>Sách Công Nghệ Thông Tin</td>\n      <td>Lập Trình</td>\n    </tr>\n    <tr>\n      <th>1</th>\n      <td>1664525</td>\n      <td>2147399986992</td>\n      <td>Giáo Trình Kỹ Thuật Lập Trình C Căn Bản Và Nân...</td>\n      <td>giao-trinh-ky-thuat-lap-trinh-c-can-ban-va-nan...</td>\n      <td>Bìa mềm</td>\n      <td>Giáo trình kỹ thuật lập trình C căn bản và nân...</td>\n      <td>67500</td>\n      <td>135000</td>\n      <td>2.885</td>\n      <td>67500</td>\n      <td>...</td>\n      <td>0</td>\n      <td>0</td>\n      <td>https://salt.tikicdn.com/cache/280x280/ts/prod...</td>\n      <td>Sách Công Nghệ Thông Tin, Lập Trình</td>\n      <td>&lt;p&gt;&lt;strong&gt;Giáo trình kỹ thuật lập trình C căn...</td>\n      <td>Huy Hoàng Bookstore</td>\n      <td>Nhiều Tác Giả</td>\n      <td>801.0</td>\n      <td>Sách Công Nghệ Thông Tin</td>\n      <td>Lập Trình</td>\n    </tr>\n    <tr>\n      <th>2</th>\n      <td>55573620</td>\n      <td>6752050391860</td>\n      <td>Giáo Trình Tự Học AutoCAD 2019 Thực Hành Bằng ...</td>\n      <td>giao-trinh-tu-hoc-autocad-2019-thuc-hanh-bang-...</td>\n      <td>Bìa mềm</td>\n      <td>Mục lục:\\r\\nCHƯƠNG 1: BẮT ĐẦU AUTOCAD 2019 \\r\\...</td>\n      <td>110000</td>\n      <td>110000</td>\n      <td>4.702</td>\n      <td>0</td>\n      <td>...</td>\n      <td>0</td>\n      <td>0</td>\n      <td>https://salt.tikicdn.com/cache/280x280/ts/prod...</td>\n      <td>Sách Công Nghệ Thông Tin, Thiết Kế - Đồ Họa</td>\n      <td>&lt;p&gt;&lt;span style=\"text-decoration: underline;\"&gt;&lt;...</td>\n      <td>Công Ty TNHH Văn Hóa - Thế Giới Sách Việt</td>\n      <td>Nhiều Tác Giả</td>\n      <td>12.0</td>\n      <td>Sách Công Nghệ Thông Tin</td>\n      <td>Thiết Kế - Đồ Họa</td>\n    </tr>\n    <tr>\n      <th>3</th>\n      <td>24889348</td>\n      <td>3747885152000</td>\n      <td>Lập trình hướng đối tượng JAVA core dành cho n...</td>\n      <td>lap-trinh-huong-doi-tuong-java-core-danh-cho-n...</td>\n      <td>NaN</td>\n      <td>I. Đôi điều về tác giả\\r\\nTôi là NEOS.THÀNH (N...</td>\n      <td>189000</td>\n      <td>299000</td>\n      <td>8.079</td>\n      <td>110000</td>\n      <td>...</td>\n      <td>0</td>\n      <td>0</td>\n      <td>https://salt.tikicdn.com/cache/280x280/ts/prod...</td>\n      <td>Sách Công Nghệ Thông Tin, Lập Trình</td>\n      <td>&lt;p&gt;&lt;strong&gt;I. Đôi điều về tác giả&lt;/strong&gt;&lt;/p&gt;...</td>\n      <td>-</td>\n      <td>Tiki hoàn tiền 111% nếu phát hiện hàng giả, Ca...</td>\n      <td>NaN</td>\n      <td>Sách Công Nghệ Thông Tin</td>\n      <td>Lập Trình</td>\n    </tr>\n    <tr>\n      <th>4</th>\n      <td>37667006</td>\n      <td>5950833882104</td>\n      <td>Combo Giáo Trình Kỹ Thuật Lập Trình C Căn Bản ...</td>\n      <td>combo-giao-trinh-ky-thuat-lap-trinh-c-can-ban-...</td>\n      <td>Bìa mềm</td>\n      <td>Giáo trình kỹ thuật lập trình C căn bản và nân...</td>\n      <td>223400</td>\n      <td>280000</td>\n      <td>9.550</td>\n      <td>56600</td>\n      <td>...</td>\n      <td>0</td>\n      <td>0</td>\n      <td>https://salt.tikicdn.com/cache/280x280/ts/prod...</td>\n      <td>Sách Công Nghệ Thông Tin, Lập Trình</td>\n      <td>Giáo trình kỹ thuật lập trình C căn bản và nân...</td>\n      <td>Huy Hoàng Bookstore</td>\n      <td>Nhiều Tác Giả</td>\n      <td>97.0</td>\n      <td>Sách Công Nghệ Thông Tin</td>\n      <td>Lập Trình</td>\n    </tr>\n  </tbody>\n</table>\n<p>5 rows × 23 columns</p>\n</div>"
     },
     "metadata": {},
     "execution_count": 11
    }
   ],
   "source": [
    "new_books = pd.read_csv('../Data/new_data_split_cate.csv')\n",
    "new_books.head()"
   ]
  },
  {
   "cell_type": "code",
   "execution_count": 12,
   "metadata": {},
   "outputs": [
    {
     "output_type": "execute_result",
     "data": {
      "text/plain": [
       "Góc Nhìn Sử Việt - Hoan Châu Ký                                                            1\n",
       "Hoạt Động Trải Nghiệm Với Steam Dành Cho Học Sinh Trung Học Cơ Sở                          1\n",
       "Trước 10 Tuổi - Thời Kỳ Vàng Quyết Định Thành Công Của Trẻ (Tái Bản)                       1\n",
       "Em Học Giỏi Tiếng Anh Lớp 3 Tập 1 (Tái Bản 2020)                                           1\n",
       "Bài Tập Tiếng Anh 8 Không Đáp Án                                                           1\n",
       "                                                                                          ..\n",
       "Dẫn Nhập Ngắn Về Khoa Học - Tiến Hóa : Minh Họa Sinh Động Bằng Tranh                       1\n",
       "Sách [Nuôi Dạy Con - Làm Cha Mẹ]: Học Làm Cha Mẹ Hiệu Quả - Tặng Kèm Postcard Greenlife    1\n",
       "Chuyến Xe Khoa Học Kỳ Thú:  Xe - Vũ - Trụ Thám Hiểm Hệ Mặt Trời                            1\n",
       "Hóa Ra Thế Giới Thời Xưa Thật Thú Vị - Những Quốc Gia Đặc Biệt                             1\n",
       "Lịch Sử Việt Nam Từ Nguồn Gốc Đến Giữa Thế Kỉ XX                                           1\n",
       "Name: name, Length: 10330, dtype: int64"
      ]
     },
     "metadata": {},
     "execution_count": 12
    }
   ],
   "source": [
    "new_books.name.value_counts()"
   ]
  },
  {
   "cell_type": "code",
   "execution_count": 14,
   "metadata": {},
   "outputs": [],
   "source": [
    "# new_books.duplicated(['name'])[]\n",
    "# new_books[new_books['name']=='Việt Nam Phong Tục']"
   ]
  },
  {
   "cell_type": "code",
   "execution_count": 13,
   "metadata": {},
   "outputs": [],
   "source": [
    "# new_books.description.value_counts()"
   ]
  },
  {
   "cell_type": "code",
   "execution_count": 15,
   "metadata": {},
   "outputs": [
    {
     "output_type": "stream",
     "name": "stdout",
     "text": [
      "Cuốn sách do PGS. TS. Nguyễn Việt Hùng (Chủ biên). Cùng tham gia biên soạn có các giảng viên Khoa Ngữ văn, Trường ĐHSP Hà Nội và đội ngũ giáo viên ưu tú của CCBook.\n5 lợi ích “đặc biệt” của cuốn sách:\n Bao trọn kiến thức thi THPT QG: lớp 12 và phần kiến thức trọng tâm lớp 11.\n Học bài nhanh, nhớ bài lâu nhờ sơ đồ hệ thống hóa lý thuyết.\n...\n\n"
     ]
    }
   ],
   "source": [
    "from bs4 import BeautifulSoup\n",
    "\n",
    "html_str = '''\n",
    "<p style=\"text-align: justify;\"><span style=\"font-family: arial,helvetica,sans-serif; font-size: 12pt;\">Cuốn sách do PGS. TS. Nguyễn Việt Hùng (Chủ biên). Cùng tham gia biên soạn có các giảng viên Khoa Ngữ văn, Trường ĐHSP Hà Nội và đội ngũ giáo viên ưu tú của CCBook.</span></p>\\r\\n<h2 style=\"text-align: justify;\"><span style=\"font-family: arial,helvetica,sans-serif; font-size: 12pt;\">5 lợi ích “đặc biệt” của cuốn sách:</span></h2>\\r\\n<p style=\"text-align: justify;\"><span style=\"font-family: arial,helvetica,sans-serif; font-size: 12pt;\"><img class=\"alignnone size-full wp-image-557639\" src=\"https://salt.tikicdn.com/ts/product/9f/76/b5/d9b27698458ce10de96c638058d45d58.png\" alt=\"\" /> Bao trọn kiến thức thi THPT QG: lớp 12 và phần kiến thức trọng tâm lớp 11.</span></p>\\r\\n<p style=\"text-align: justify;\"><span style=\"font-family: arial,helvetica,sans-serif; font-size: 12pt;\"><img class=\"alignnone size-full wp-image-557639\" src=\"https://salt.tikicdn.com/ts/product/9f/76/b5/d9b27698458ce10de96c638058d45d58.png\" alt=\"\" /> Học bài nhanh, nhớ bài lâu nhờ sơ đồ hệ thống hóa lý thuyết.</span></p>\\r\\n<p style=\"text-align: justify;\">...</p>\n",
    "'''\n",
    "soup = BeautifulSoup(html_str)\n",
    "\n",
    "print(soup.get_text()) "
   ]
  },
  {
   "cell_type": "code",
   "execution_count": 16,
   "metadata": {},
   "outputs": [],
   "source": [
    "def remove_html(des):\n",
    "    soup = BeautifulSoup(des)\n",
    "    return soup.get_text()"
   ]
  },
  {
   "cell_type": "code",
   "execution_count": 17,
   "metadata": {},
   "outputs": [],
   "source": [
    "new_books['description'] = new_books['description'].apply(lambda x: remove_html(str(x)))"
   ]
  },
  {
   "cell_type": "code",
   "execution_count": 18,
   "metadata": {},
   "outputs": [
    {
     "output_type": "execute_result",
     "data": {
      "text/plain": [
       "Nữ thám tữ học sinh trung học Masumi SERA là người luôn có những hành động đầy ẩn ý. Mục đích thật sự của cô sẽ phần nào được hé lộ trong vụ án người phụ nữ màu đỏ, với một cái kết đầy bất ngờ. Trong vụ án liên quan đến tác giả tiểu thuyết ngôn tình xảy ra ở khách sạn nơi Sera đang sống. Conan phát hiện một cô gái bí ẩn. Ngoài ra, cậu cũng hợp tác với Heiji phá một vụ giao dịch ma túy, và Shinichi sẽ xuất hiện vô cùng hoành tráng trong vụ án thủy cung đấy!Giá sản phẩm trên Tiki đã bao gồm thuế theo luật hiện hành. Tuy nhiên tuỳ vào từng loại sản phẩm hoặc phương thức, địa chỉ giao hàng mà có thể phát sinh thêm chi phí khác như phí vận chuyển, phụ phí hàng cồng kềnh, ...                                                                                                                                                                                                                                                                                                                                                                                                                                                                                                                                                                                                                                                                                                                                                                                                                                                                                                                                                                                                                                                                                                                                                                                                                                                                                                                                                                                                                                                                                                                                                                                                                                                                                                                                                                                                                                                                                                                                        26\n",
       "Tuy dáng người nhỏ nhắn, nhưng Miko là một cô nhóc cực kỳ khỏe khoắn năng động. Cuộc sống quanh cô nhóc lúc nào cũng rộn ràng. Mari ôm mộng làm họa sỹ truyện tranh, nên cùng Miko vẽ truyện gửi dự thi, mối quan hệ tay ba giữa Miko với Yoshida - thích Miko và Haruna - thích Y Hãy cùng thưởng thức tập truyện và sống vui tươi mỗi ngày giống Miko các bạn nhé!Giá sản phẩm trên Tiki đã bao gồm thuế theo luật hiện hành. Tuy nhiên tuỳ vào từng loại sản phẩm hoặc phương thức, địa chỉ giao hàng mà có thể phát sinh thêm chi phí khác như phí vận chuyển, phụ phí hàng cồng kềnh, ...                                                                                                                                                                                                                                                                                                                                                                                                                                                                                                                                                                                                                                                                                                                                                                                                                                                                                                                                                                                                                                                                                                                                                                                                                                                                                                                                                                                                                                                                                                                                                                                                                                                                                                                                                                                                                                                                                                                                                                                                                                                23\n",
       "Một sinh vật đặc biệt mang hình dáng bạch tuộc tuyên bố sẽ phá hủy Trái Đất, nhưng chẳng hiểu sao lại cho nhân loại một cơ hội. Đó là yêu cầu được dạy một lớp học siêu quậy, và tạo mọi điều kiện cho bọn học trò ám sát mình!?Giá sản phẩm trên Tiki đã bao gồm thuế theo luật hiện hành. Tuy nhiên tuỳ vào từng loại sản phẩm hoặc phương thức, địa chỉ giao hàng mà có thể phát sinh thêm chi phí khác như phí vận chuyển, phụ phí hàng cồng kềnh, ...                                                                                                                                                                                                                                                                                                                                                                                                                                                                                                                                                                                                                                                                                                                                                                                                                                                                                                                                                                                                                                                                                                                                                                                                                                                                                                                                                                                                                                                                                                                                                                                                                                                                                                                                                                                                                                                                                                                                                                                                                                                                                                                                                                                    13\n",
       "Những vụ án tiếp theo và mới nhất của Kindaichi- cậu bé thám tử thiên tài với nét vẽ mới và nội dung câu chuyện hấp dẫn, lôi cuốn.Giá sản phẩm trên Tiki đã bao gồm thuế theo luật hiện hành. Tuy nhiên tuỳ vào từng loại sản phẩm hoặc phương thức, địa chỉ giao hàng mà có thể phát sinh thêm chi phí khác như phí vận chuyển, phụ phí hàng cồng kềnh, ...                                                                                                                                                                                                                                                                                                                                                                                                                                                                                                                                                                                                                                                                                                                                                                                                                                                                                                                                                                                                                                                                                                                                                                                                                                                                                                                                                                                                                                                                                                                                                                                                                                                                                                                                                                                                                                                                                                                                                                                                                                                                                                                                                                                                                                                                                  10\n",
       "Tuổi thơ là khoảng thời gian đẹp nhất trong cuộc đời mỗi người. Ở lứa tuổi này luôn tràn đầy hy vọng, ước mơ, cùng những ngây thơ trong sáng buổi ban đầu. Đứng trước thế giới với bao điều kỳ diệu, mang trong mình sự tò mò, khát vọng tìm hiểu, câu nói thường thấy nhất ở trẻ là “Vì sao?”. Để có thể trả lời chính xác câu hỏi của trẻ, không phải là việc đơn giản. Các nghiên cứu cho thấy, sự phát triển của bộ não trẻ diễn ra nhanh nhất vào tuổi 13 trở về trước, là một phụ huynh, khi không mang lại cho trẻ cơ hội suy nghĩ, tìm hiểu, có thể bạn sẽ phải rất ân hận! Thế giới ngày nay phát triển nhanh chóng, kho tàng kiến thức là vô hạn, luôn được đổi mới với tốc độ chóng mặt.\\nCũng xuất phát từ những suy nghĩ trên, bộ sách  Mười vạn câu hỏi vì sao mang lại những câu trả lời cho các em theo từng chủ đề mà các em ham tìm hiểu như: vũ trụ, trái đất, con người, thế giới tự nhiên, xã hội, khoa học… Sách sử dụng ngôn ngữ dễ hiểu, kết hợp những hình ảnh minh họa sinh động, sẽ đem đến cho các em những kiến thức cơ bản, chứa đựng nội dung phong phú, khái quát rộng rãi kiến thức xưa nay, giúp các em vui vẻ, thoải mái, tự tin tiến lên trên con đường thành công tương lai.Giá sản phẩm trên Tiki đã bao gồm thuế theo luật hiện hành. Tuy nhiên tuỳ vào từng loại sản phẩm hoặc phương thức, địa chỉ giao hàng mà có thể phát sinh thêm chi phí khác như phí vận chuyển, phụ phí hàng cồng kềnh, ...                                                                                                                                                                                                                                                                                                                                                                                                                                                                                                                                                                                                                                                                                                                                                                                                                                                                                                                                                                                                                                                                                                                                                                                                  10\n",
       "                                                                                                                                                                                                                                                                                                                                                                                                                                                                                                                                                                                                                                                                                                                                                                                                                                                                                                                                                                                                                                                                                                                                                                                                                                                                                                                                                                                                                                                                                                                                                                                                                                                                                                                                                                                                                                                                                                                                                                                                                                                                                                                                                                                                                                                                                                                                                                                                                                                                                                                                                                                                                                              ..\n",
       " Nhật Ký Chú Bé Nhút Nhát - Tập 9 \\nSinh động, hài hước, hấp dẫn, từng trang viết của  Nhật ký chú bé nhút nhát đã dẫn dắt người đọc đi từ bất ngờ này đến bất  ngờ khác qua mỗi ngày cậu bé Greg lớn lên.\\nBạn đọc chắc chắn sẽ phải cười phá lên khi chứng kiến những rắc rối liên tiếp, những trò đùa tinh quái nhưng hết sức thông  minh của cậu.\\nTrẻ con, mơ mộng, bướng bỉnh, Greg đã đi vào văn học với tư cách là một trong những nguyên mẫu trẻ thơ đáng yêu nhất, ấn  tượng nhất và chiếm được cảm tình của hàng triệu độc giả trên toàn thế giới.\\nLối kể chuyện hóm hỉnh rất có duyên cùng những bức hình minh hoạ ngộ nghĩnh của tác giả  Jeff Kinney đã tạo cho tác phẩm  sức cuốn hút kỳ lạ, đưa nó lên giữ kỷ luật best-seller của New York Times trong 75 tuần liên với số lượng tiêu thụ lên đến  2 triệu cuốn.Giá sản phẩm trên Tiki đã bao gồm thuế theo luật hiện hành. Tuy nhiên tuỳ vào từng loại sản phẩm hoặc phương thức, địa chỉ giao hàng mà có thể phát sinh thêm chi phí khác như phí vận chuyển, phụ phí hàng cồng kềnh, ...                                                                                                                                                                                                                                                                                                                                                                                                                                                                                                                                                                                                                                                                                                                                                                                                                                                                                                                                                                                                                                                                                                                                                                                                                                                                                                                                                                                                                                                                                                                                                                                   1\n",
       "Cuốn sách \"35000 câu giao tiếp tiếng Anh \", dành cho người học trình độ sơ cấp, trung cấp. Cuốn sách được biên soạn nhằm mục đích giúp các bạn có thể tự học nghe nói và giao tiếp tự tin với người nước ngoài.\\nNội dung cuốn sách được chia thành từng chủ đề thông dụng hàng ngày, có phiên âm quốc tế, phiên âm tiếng Việt để các bạn có thể thực hành.Giá sản phẩm trên Tiki đã bao gồm thuế theo luật hiện hành. Tuy nhiên tuỳ vào từng loại sản phẩm hoặc phương thức, địa chỉ giao hàng mà có thể phát sinh thêm chi phí khác như phí vận chuyển, phụ phí hàng cồng kềnh, ...                                                                                                                                                                                                                                                                                                                                                                                                                                                                                                                                                                                                                                                                                                                                                                                                                                                                                                                                                                                                                                                                                                                                                                                                                                                                                                                                                                                                                                                                                                                                                                                                                                                                                                                                                                                                                                                                                                                                                                                                                                                          1\n",
       "Không thể chịu nổi sự truy lùng của vệ sĩ, Domyoji đã tuyên bố nếu bị phát hiện thì sẽ bay tới New York ngay lập tức, và đường đường chính chính hẹn hò với Tsukushi vào giữa thanh thiên bạch nhật. Tuy nhiên, tất cả thẻ tín dụng của Domyoji đều đã bị khóa!? Cuối cùng mẹ của Domyoji cũng ra tay rồi ư…?Giá sản phẩm trên Tiki đã bao gồm thuế theo luật hiện hành. Tuy nhiên tuỳ vào từng loại sản phẩm hoặc phương thức, địa chỉ giao hàng mà có thể phát sinh thêm chi phí khác như phí vận chuyển, phụ phí hàng cồng kềnh, ...                                                                                                                                                                                                                                                                                                                                                                                                                                                                                                                                                                                                                                                                                                                                                                                                                                                                                                                                                                                                                                                                                                                                                                                                                                                                                                                                                                                                                                                                                                                                                                                                                                                                                                                                                                                                                                                                                                                                                                                                                                                                                                        1\n",
       "Sách Luật Xử Lý Vi Phạm Hành Chính Và Các Văn Bản Hướng Dẫn Thi Hành Về Lĩnh Vực Hành Chính cập nhật các văn bản mới nhất như: Văn bản hợp nhất số 210/VBHN-BTP ngày 19-01-2018 Hợp nhất Nghị định Quy định chi tiết một số điều và biện pháp thi hành Luật Xử lý vi phạm hành chính; Nghị định số 91/2019/NĐ-CP ngày 19-11-2019 Về xử phạt vi phạm hành chính trong lĩnh vực đất đai; Nghị định số 88/2019/NĐ-CP ngày 14-11-2019 Quy định về xử phạt vi phạm hành chính trong lĩnh vực tiền tệ và ngân hàng; Văn bản hợp nhất số 13/VBHN-BCT ngày 25-9-2019 Hợp nhất Nghị định quy định về xử phạt vi phạm hành chính trong lĩnh vực hóa chất, phân bón và vật liệu nổ công nghiệp; Nghị định số 48/2018/NĐ-CP ngày 21-03-2018 Sửa đổi, bổ sung một số điều của Nghị định số 98/2013/NĐ-CP ngày 28-8-2013 của Chính phủ quy định về xử phạt vi phạm hành chính trong lĩnh vực kinh doanh bảo hiểm, kinh doanh xổ số; Nghị định số 41/2018/NĐ-CP ngày 12-3-2018 Quy định xử phạt vi phạm hành chính trong lĩnh vực kế toán, kiểm toán độc lập; Nghị định số 115/2018/NĐ-CP ngày 04-9-2018 Quy định xử phạt vi phạm hành chính về an toàn thực phẩm;…\\nĐể giúp các doanh nghiệp, đơn vị hành chính sự nghiệp thuộc các ngành và các địa phương trong cả nước, các cơ quan quản lý nhà nước và đông đảo bạn đọc thuận tiện trong việc tìm hiểu, học tập, nghiên cứu, sử dụng và thực hiện các quy định về xử lý vi phạm hành chính, Nhà xuất bản Lao Động xuất bản cuốn sách:\\nLuật Xử Lý Vi Phạm Hành Chính Và Các Văn Bản Hướng Dẫn Thi Hành Về Lĩnh Vực Hành Chính.\\nCuốn sách gồm các phần sau đây:\\nPhần thứ nhất:    Luật Xử lý vi phạm hành chính và quy định chi tiết thi hành\\nPhần thứ hai:       Hướng dẫn xử phạt trong lĩnh vực kinh doanh bảo hiểm, kinh doanh xổ số\\nPhần thứ ba:        Hướng dẫn xử phạt vi phạm hành chính trong lĩnh vực xây dựng, khoáng sản, bất động sản\\nPhần thứ tư:         Hướng dẫn xử phạt vi phạm hành chính trong lĩnh vực đo lường\\nPhần thứ năm:    Xử phạt vi phạm hành chính trong lĩnh vực kế toán, kiểm toán độc lập\\nPhần thứ sáu:      Xử phạt vi phạm hành chính trong lĩnh vực an toàn thực phẩm\\nPhần thứ bảy:      Xử phạt vi phạm hành chính trong lĩnh vực đất đai\\nPhần thứ tám:     Xử phạt vi phạm hành chính trong lĩnh vực tiền tệ và ngân hàng\\nPhần thứ chín:     Xử phạt vi phạm hành chính trong lĩnh vực hóa chất và vật liệu nổ công nghiệpGiá sản phẩm trên Tiki đã bao gồm thuế theo luật hiện hành. Tuy nhiên tuỳ vào từng loại sản phẩm hoặc phương thức, địa chỉ giao hàng mà có thể phát sinh thêm chi phí khác như phí vận chuyển, phụ phí hàng cồng kềnh, ...     1\n",
       "                                                                                                                                                                                                                                                                                                                                                                                                                                                                                                                                                                                                                                                                                                                                                                                                                                                                                                                                                                                                                                                                                                                                                                                                                                                                                                                                                                                                                                                                                                                                                                                                                                                                                                                                                                                                                                                                                                                                                                                                                                                                                                                                                                                                                                                                                                                                                                                                                                                                                                                                                                                                                                               1\n",
       "Name: description, Length: 9798, dtype: int64"
      ]
     },
     "metadata": {},
     "execution_count": 18
    }
   ],
   "source": [
    "new_books['description'].value_counts()"
   ]
  },
  {
   "cell_type": "code",
   "execution_count": 19,
   "metadata": {},
   "outputs": [],
   "source": [
    "# new_books.to_csv('clean_books_split_cate.csv', index=False)"
   ]
  },
  {
   "cell_type": "code",
   "execution_count": 5,
   "metadata": {},
   "outputs": [],
   "source": [
    "data = pd.read_csv('../Data/new_data_split_cate.csv')"
   ]
  },
  {
   "cell_type": "code",
   "execution_count": 6,
   "metadata": {},
   "outputs": [
    {
     "output_type": "execute_result",
     "data": {
      "text/plain": [
       "         id            sku                                               name  \\\n",
       "0  58390336  3380735508079                                      Python cơ bản   \n",
       "1   1664525  2147399986992  Giáo Trình Kỹ Thuật Lập Trình C Căn Bản Và Nân...   \n",
       "2  55573620  6752050391860  Giáo Trình Tự Học AutoCAD 2019 Thực Hành Bằng ...   \n",
       "3  24889348  3747885152000  Lập trình hướng đối tượng JAVA core dành cho n...   \n",
       "4  37667006  5950833882104  Combo Giáo Trình Kỹ Thuật Lập Trình C Căn Bản ...   \n",
       "\n",
       "                                            url_path book_cover  \\\n",
       "0         python-co-ban-p58390336.html?spid=58390337    Bìa mềm   \n",
       "1  giao-trinh-ky-thuat-lap-trinh-c-can-ban-va-nan...    Bìa mềm   \n",
       "2  giao-trinh-tu-hoc-autocad-2019-thuc-hanh-bang-...    Bìa mềm   \n",
       "3  lap-trinh-huong-doi-tuong-java-core-danh-cho-n...        NaN   \n",
       "4  combo-giao-trinh-ky-thuat-lap-trinh-c-can-ban-...    Bìa mềm   \n",
       "\n",
       "                                   short_description   price  list_price  \\\n",
       "0  SÁCH PYTHON CƠ BẢN\\r\\nHiện nay ngôn ngữ lập tr...  125000      125000   \n",
       "1  Giáo trình kỹ thuật lập trình C căn bản và nân...   67500      135000   \n",
       "2  Mục lục:\\r\\nCHƯƠNG 1: BẮT ĐẦU AUTOCAD 2019 \\r\\...  110000      110000   \n",
       "3  I. Đôi điều về tác giả\\r\\nTôi là NEOS.THÀNH (N...  189000      299000   \n",
       "4  Giáo trình kỹ thuật lập trình C căn bản và nân...  223400      280000   \n",
       "\n",
       "   price_usd  discount  ...  order_count  favourite_count  \\\n",
       "0      5.343         0  ...            0                0   \n",
       "1      2.885     67500  ...            0                0   \n",
       "2      4.702         0  ...            0                0   \n",
       "3      8.079    110000  ...            0                0   \n",
       "4      9.550     56600  ...            0                0   \n",
       "\n",
       "                                       thumbnail_url  \\\n",
       "0  https://salt.tikicdn.com/cache/280x280/ts/prod...   \n",
       "1  https://salt.tikicdn.com/cache/280x280/ts/prod...   \n",
       "2  https://salt.tikicdn.com/cache/280x280/ts/prod...   \n",
       "3  https://salt.tikicdn.com/cache/280x280/ts/prod...   \n",
       "4  https://salt.tikicdn.com/cache/280x280/ts/prod...   \n",
       "\n",
       "                         productset_group_name  \\\n",
       "0          Sách Công Nghệ Thông Tin, Lập Trình   \n",
       "1          Sách Công Nghệ Thông Tin, Lập Trình   \n",
       "2  Sách Công Nghệ Thông Tin, Thiết Kế - Đồ Họa   \n",
       "3          Sách Công Nghệ Thông Tin, Lập Trình   \n",
       "4          Sách Công Nghệ Thông Tin, Lập Trình   \n",
       "\n",
       "                                         description  \\\n",
       "0  <p><strong>SÁCH PYTHON CƠ BẢN</strong></p>\\r\\n...   \n",
       "1  <p><strong>Giáo trình kỹ thuật lập trình C căn...   \n",
       "2  <p><span style=\"text-decoration: underline;\"><...   \n",
       "3  <p><strong>I. Đôi điều về tác giả</strong></p>...   \n",
       "4  Giáo trình kỹ thuật lập trình C căn bản và nân...   \n",
       "\n",
       "                                   publisher  \\\n",
       "0                NXB Đại Học Quốc Gia Hà Nội   \n",
       "1                        Huy Hoàng Bookstore   \n",
       "2  Công Ty TNHH Văn Hóa - Thế Giới Sách Việt   \n",
       "3                                          -   \n",
       "4                        Huy Hoàng Bookstore   \n",
       "\n",
       "                                             authors stock_item  \\\n",
       "0                                        Bùi Việt Hà        5.0   \n",
       "1                                      Nhiều Tác Giả      801.0   \n",
       "2                                      Nhiều Tác Giả       12.0   \n",
       "3  Tiki hoàn tiền 111% nếu phát hiện hàng giả, Ca...        NaN   \n",
       "4                                      Nhiều Tác Giả       97.0   \n",
       "\n",
       "               big_category        sub_category  \n",
       "0  Sách Công Nghệ Thông Tin           Lập Trình  \n",
       "1  Sách Công Nghệ Thông Tin           Lập Trình  \n",
       "2  Sách Công Nghệ Thông Tin   Thiết Kế - Đồ Họa  \n",
       "3  Sách Công Nghệ Thông Tin           Lập Trình  \n",
       "4  Sách Công Nghệ Thông Tin           Lập Trình  \n",
       "\n",
       "[5 rows x 23 columns]"
      ],
      "text/html": "<div>\n<style scoped>\n    .dataframe tbody tr th:only-of-type {\n        vertical-align: middle;\n    }\n\n    .dataframe tbody tr th {\n        vertical-align: top;\n    }\n\n    .dataframe thead th {\n        text-align: right;\n    }\n</style>\n<table border=\"1\" class=\"dataframe\">\n  <thead>\n    <tr style=\"text-align: right;\">\n      <th></th>\n      <th>id</th>\n      <th>sku</th>\n      <th>name</th>\n      <th>url_path</th>\n      <th>book_cover</th>\n      <th>short_description</th>\n      <th>price</th>\n      <th>list_price</th>\n      <th>price_usd</th>\n      <th>discount</th>\n      <th>...</th>\n      <th>order_count</th>\n      <th>favourite_count</th>\n      <th>thumbnail_url</th>\n      <th>productset_group_name</th>\n      <th>description</th>\n      <th>publisher</th>\n      <th>authors</th>\n      <th>stock_item</th>\n      <th>big_category</th>\n      <th>sub_category</th>\n    </tr>\n  </thead>\n  <tbody>\n    <tr>\n      <th>0</th>\n      <td>58390336</td>\n      <td>3380735508079</td>\n      <td>Python cơ bản</td>\n      <td>python-co-ban-p58390336.html?spid=58390337</td>\n      <td>Bìa mềm</td>\n      <td>SÁCH PYTHON CƠ BẢN\\r\\nHiện nay ngôn ngữ lập tr...</td>\n      <td>125000</td>\n      <td>125000</td>\n      <td>5.343</td>\n      <td>0</td>\n      <td>...</td>\n      <td>0</td>\n      <td>0</td>\n      <td>https://salt.tikicdn.com/cache/280x280/ts/prod...</td>\n      <td>Sách Công Nghệ Thông Tin, Lập Trình</td>\n      <td>&lt;p&gt;&lt;strong&gt;SÁCH PYTHON CƠ BẢN&lt;/strong&gt;&lt;/p&gt;\\r\\n...</td>\n      <td>NXB Đại Học Quốc Gia Hà Nội</td>\n      <td>Bùi Việt Hà</td>\n      <td>5.0</td>\n      <td>Sách Công Nghệ Thông Tin</td>\n      <td>Lập Trình</td>\n    </tr>\n    <tr>\n      <th>1</th>\n      <td>1664525</td>\n      <td>2147399986992</td>\n      <td>Giáo Trình Kỹ Thuật Lập Trình C Căn Bản Và Nân...</td>\n      <td>giao-trinh-ky-thuat-lap-trinh-c-can-ban-va-nan...</td>\n      <td>Bìa mềm</td>\n      <td>Giáo trình kỹ thuật lập trình C căn bản và nân...</td>\n      <td>67500</td>\n      <td>135000</td>\n      <td>2.885</td>\n      <td>67500</td>\n      <td>...</td>\n      <td>0</td>\n      <td>0</td>\n      <td>https://salt.tikicdn.com/cache/280x280/ts/prod...</td>\n      <td>Sách Công Nghệ Thông Tin, Lập Trình</td>\n      <td>&lt;p&gt;&lt;strong&gt;Giáo trình kỹ thuật lập trình C căn...</td>\n      <td>Huy Hoàng Bookstore</td>\n      <td>Nhiều Tác Giả</td>\n      <td>801.0</td>\n      <td>Sách Công Nghệ Thông Tin</td>\n      <td>Lập Trình</td>\n    </tr>\n    <tr>\n      <th>2</th>\n      <td>55573620</td>\n      <td>6752050391860</td>\n      <td>Giáo Trình Tự Học AutoCAD 2019 Thực Hành Bằng ...</td>\n      <td>giao-trinh-tu-hoc-autocad-2019-thuc-hanh-bang-...</td>\n      <td>Bìa mềm</td>\n      <td>Mục lục:\\r\\nCHƯƠNG 1: BẮT ĐẦU AUTOCAD 2019 \\r\\...</td>\n      <td>110000</td>\n      <td>110000</td>\n      <td>4.702</td>\n      <td>0</td>\n      <td>...</td>\n      <td>0</td>\n      <td>0</td>\n      <td>https://salt.tikicdn.com/cache/280x280/ts/prod...</td>\n      <td>Sách Công Nghệ Thông Tin, Thiết Kế - Đồ Họa</td>\n      <td>&lt;p&gt;&lt;span style=\"text-decoration: underline;\"&gt;&lt;...</td>\n      <td>Công Ty TNHH Văn Hóa - Thế Giới Sách Việt</td>\n      <td>Nhiều Tác Giả</td>\n      <td>12.0</td>\n      <td>Sách Công Nghệ Thông Tin</td>\n      <td>Thiết Kế - Đồ Họa</td>\n    </tr>\n    <tr>\n      <th>3</th>\n      <td>24889348</td>\n      <td>3747885152000</td>\n      <td>Lập trình hướng đối tượng JAVA core dành cho n...</td>\n      <td>lap-trinh-huong-doi-tuong-java-core-danh-cho-n...</td>\n      <td>NaN</td>\n      <td>I. Đôi điều về tác giả\\r\\nTôi là NEOS.THÀNH (N...</td>\n      <td>189000</td>\n      <td>299000</td>\n      <td>8.079</td>\n      <td>110000</td>\n      <td>...</td>\n      <td>0</td>\n      <td>0</td>\n      <td>https://salt.tikicdn.com/cache/280x280/ts/prod...</td>\n      <td>Sách Công Nghệ Thông Tin, Lập Trình</td>\n      <td>&lt;p&gt;&lt;strong&gt;I. Đôi điều về tác giả&lt;/strong&gt;&lt;/p&gt;...</td>\n      <td>-</td>\n      <td>Tiki hoàn tiền 111% nếu phát hiện hàng giả, Ca...</td>\n      <td>NaN</td>\n      <td>Sách Công Nghệ Thông Tin</td>\n      <td>Lập Trình</td>\n    </tr>\n    <tr>\n      <th>4</th>\n      <td>37667006</td>\n      <td>5950833882104</td>\n      <td>Combo Giáo Trình Kỹ Thuật Lập Trình C Căn Bản ...</td>\n      <td>combo-giao-trinh-ky-thuat-lap-trinh-c-can-ban-...</td>\n      <td>Bìa mềm</td>\n      <td>Giáo trình kỹ thuật lập trình C căn bản và nân...</td>\n      <td>223400</td>\n      <td>280000</td>\n      <td>9.550</td>\n      <td>56600</td>\n      <td>...</td>\n      <td>0</td>\n      <td>0</td>\n      <td>https://salt.tikicdn.com/cache/280x280/ts/prod...</td>\n      <td>Sách Công Nghệ Thông Tin, Lập Trình</td>\n      <td>Giáo trình kỹ thuật lập trình C căn bản và nân...</td>\n      <td>Huy Hoàng Bookstore</td>\n      <td>Nhiều Tác Giả</td>\n      <td>97.0</td>\n      <td>Sách Công Nghệ Thông Tin</td>\n      <td>Lập Trình</td>\n    </tr>\n  </tbody>\n</table>\n<p>5 rows × 23 columns</p>\n</div>"
     },
     "metadata": {},
     "execution_count": 6
    }
   ],
   "source": [
    "data.head()"
   ]
  },
  {
   "cell_type": "code",
   "execution_count": 7,
   "metadata": {},
   "outputs": [
    {
     "output_type": "stream",
     "name": "stdout",
     "text": [
      "<class 'pandas.core.frame.DataFrame'>\nRangeIndex: 10330 entries, 0 to 10329\nData columns (total 23 columns):\n #   Column                 Non-Null Count  Dtype  \n---  ------                 --------------  -----  \n 0   id                     10330 non-null  int64  \n 1   sku                    10330 non-null  int64  \n 2   name                   10330 non-null  object \n 3   url_path               10330 non-null  object \n 4   book_cover             9417 non-null   object \n 5   short_description      10327 non-null  object \n 6   price                  10330 non-null  int64  \n 7   list_price             10330 non-null  int64  \n 8   price_usd              10330 non-null  float64\n 9   discount               10330 non-null  int64  \n 10  discount_rate          10330 non-null  int64  \n 11  rating_average         10330 non-null  float64\n 12  review_count           10330 non-null  int64  \n 13  order_count            10330 non-null  int64  \n 14  favourite_count        10330 non-null  int64  \n 15  thumbnail_url          10330 non-null  object \n 16  productset_group_name  10330 non-null  object \n 17  description            10330 non-null  object \n 18  publisher              10323 non-null  object \n 19  authors                10323 non-null  object \n 20  stock_item             8981 non-null   float64\n 21  big_category           10330 non-null  object \n 22  sub_category           10330 non-null  object \ndtypes: float64(3), int64(9), object(11)\nmemory usage: 1.8+ MB\n"
     ]
    }
   ],
   "source": [
    "data.info()"
   ]
  },
  {
   "cell_type": "code",
   "execution_count": 8,
   "metadata": {},
   "outputs": [
    {
     "output_type": "execute_result",
     "data": {
      "text/plain": [
       "             id                                               name  \\\n",
       "0      58390336                                      Python cơ bản   \n",
       "1       1664525  Giáo Trình Kỹ Thuật Lập Trình C Căn Bản Và Nân...   \n",
       "2      55573620  Giáo Trình Tự Học AutoCAD 2019 Thực Hành Bằng ...   \n",
       "3      24889348  Lập trình hướng đối tượng JAVA core dành cho n...   \n",
       "4      37667006  Combo Giáo Trình Kỹ Thuật Lập Trình C Căn Bản ...   \n",
       "...         ...                                                ...   \n",
       "10325   1056744                     Bài Tập Hóa Học Theo Chủ Đề 8    \n",
       "10326  58442493      Luyện Tập Tin Học 4 - Tập 2 (2020) - Cho Tỉnh   \n",
       "10327  49064610        Bí quyết chinh phục điểm cao môn Ngữ văn 11   \n",
       "10328   2099833            Tuyển Tập Các Bài Toán Hay Và Khó Lớp 3   \n",
       "10329  17536973  Bài Giảng & Lời Giải Chi Tiết Tiếng Anh 10 (Tá...   \n",
       "\n",
       "                                       short_description   price  list_price  \\\n",
       "0      SÁCH PYTHON CƠ BẢN\\r\\nHiện nay ngôn ngữ lập tr...  125000      125000   \n",
       "1      Giáo trình kỹ thuật lập trình C căn bản và nân...   67500      135000   \n",
       "2      Mục lục:\\r\\nCHƯƠNG 1: BẮT ĐẦU AUTOCAD 2019 \\r\\...  110000      110000   \n",
       "3      I. Đôi điều về tác giả\\r\\nTôi là NEOS.THÀNH (N...  189000      299000   \n",
       "4      Giáo trình kỹ thuật lập trình C căn bản và nân...  223400      280000   \n",
       "...                                                  ...     ...         ...   \n",
       "10325  Bài Tập Hóa Học Theo Chủ Đề 8\\r\\r\\n Theo kế ho...   62334       79000   \n",
       "10326  Bộ sách Luyện tập Tin học (dùng cho học sinh h...   22000       25000   \n",
       "10327  Nội dung Ngữ văn lớp 11 có liên quan tới kì th...  113000      150000   \n",
       "10328  Tuyển Tập Các Bài Toán Hay Và Khó Lớp 3\\r\\nTro...   32917       33000   \n",
       "10329  Cuốn sách tổng hợp các kiến thức đã học cùng c...   71400       84000   \n",
       "\n",
       "       rating_average                                      thumbnail_url  \\\n",
       "0                 4.8  https://salt.tikicdn.com/cache/280x280/ts/prod...   \n",
       "1                 4.5  https://salt.tikicdn.com/cache/280x280/ts/prod...   \n",
       "2                 4.7  https://salt.tikicdn.com/cache/280x280/ts/prod...   \n",
       "3                 4.7  https://salt.tikicdn.com/cache/280x280/ts/prod...   \n",
       "4                 4.3  https://salt.tikicdn.com/cache/280x280/ts/prod...   \n",
       "...               ...                                                ...   \n",
       "10325             4.5  https://salt.tikicdn.com/cache/280x280/media/c...   \n",
       "10326             5.0  https://salt.tikicdn.com/cache/280x280/ts/prod...   \n",
       "10327             5.0  https://salt.tikicdn.com/cache/280x280/ts/prod...   \n",
       "10328             4.4  https://salt.tikicdn.com/cache/280x280/ts/prod...   \n",
       "10329             5.0  https://salt.tikicdn.com/cache/280x280/ts/prod...   \n",
       "\n",
       "                   big_category             sub_category  \n",
       "0      Sách Công Nghệ Thông Tin                Lập Trình  \n",
       "1      Sách Công Nghệ Thông Tin                Lập Trình  \n",
       "2      Sách Công Nghệ Thông Tin        Thiết Kế - Đồ Họa  \n",
       "3      Sách Công Nghệ Thông Tin                Lập Trình  \n",
       "4      Sách Công Nghệ Thông Tin                Lập Trình  \n",
       "...                         ...                      ...  \n",
       "10325            Sách Tham Khảo    Sách tham khảo cấp II  \n",
       "10326            Sách Tham Khảo     Sách tham khảo cấp I  \n",
       "10327            Sách Tham Khảo   Sách tham khảo cấp III  \n",
       "10328            Sách Tham Khảo     Sách tham khảo cấp I  \n",
       "10329            Sách Tham Khảo   Sách tham khảo cấp III  \n",
       "\n",
       "[10330 rows x 9 columns]"
      ],
      "text/html": "<div>\n<style scoped>\n    .dataframe tbody tr th:only-of-type {\n        vertical-align: middle;\n    }\n\n    .dataframe tbody tr th {\n        vertical-align: top;\n    }\n\n    .dataframe thead th {\n        text-align: right;\n    }\n</style>\n<table border=\"1\" class=\"dataframe\">\n  <thead>\n    <tr style=\"text-align: right;\">\n      <th></th>\n      <th>id</th>\n      <th>name</th>\n      <th>short_description</th>\n      <th>price</th>\n      <th>list_price</th>\n      <th>rating_average</th>\n      <th>thumbnail_url</th>\n      <th>big_category</th>\n      <th>sub_category</th>\n    </tr>\n  </thead>\n  <tbody>\n    <tr>\n      <th>0</th>\n      <td>58390336</td>\n      <td>Python cơ bản</td>\n      <td>SÁCH PYTHON CƠ BẢN\\r\\nHiện nay ngôn ngữ lập tr...</td>\n      <td>125000</td>\n      <td>125000</td>\n      <td>4.8</td>\n      <td>https://salt.tikicdn.com/cache/280x280/ts/prod...</td>\n      <td>Sách Công Nghệ Thông Tin</td>\n      <td>Lập Trình</td>\n    </tr>\n    <tr>\n      <th>1</th>\n      <td>1664525</td>\n      <td>Giáo Trình Kỹ Thuật Lập Trình C Căn Bản Và Nân...</td>\n      <td>Giáo trình kỹ thuật lập trình C căn bản và nân...</td>\n      <td>67500</td>\n      <td>135000</td>\n      <td>4.5</td>\n      <td>https://salt.tikicdn.com/cache/280x280/ts/prod...</td>\n      <td>Sách Công Nghệ Thông Tin</td>\n      <td>Lập Trình</td>\n    </tr>\n    <tr>\n      <th>2</th>\n      <td>55573620</td>\n      <td>Giáo Trình Tự Học AutoCAD 2019 Thực Hành Bằng ...</td>\n      <td>Mục lục:\\r\\nCHƯƠNG 1: BẮT ĐẦU AUTOCAD 2019 \\r\\...</td>\n      <td>110000</td>\n      <td>110000</td>\n      <td>4.7</td>\n      <td>https://salt.tikicdn.com/cache/280x280/ts/prod...</td>\n      <td>Sách Công Nghệ Thông Tin</td>\n      <td>Thiết Kế - Đồ Họa</td>\n    </tr>\n    <tr>\n      <th>3</th>\n      <td>24889348</td>\n      <td>Lập trình hướng đối tượng JAVA core dành cho n...</td>\n      <td>I. Đôi điều về tác giả\\r\\nTôi là NEOS.THÀNH (N...</td>\n      <td>189000</td>\n      <td>299000</td>\n      <td>4.7</td>\n      <td>https://salt.tikicdn.com/cache/280x280/ts/prod...</td>\n      <td>Sách Công Nghệ Thông Tin</td>\n      <td>Lập Trình</td>\n    </tr>\n    <tr>\n      <th>4</th>\n      <td>37667006</td>\n      <td>Combo Giáo Trình Kỹ Thuật Lập Trình C Căn Bản ...</td>\n      <td>Giáo trình kỹ thuật lập trình C căn bản và nân...</td>\n      <td>223400</td>\n      <td>280000</td>\n      <td>4.3</td>\n      <td>https://salt.tikicdn.com/cache/280x280/ts/prod...</td>\n      <td>Sách Công Nghệ Thông Tin</td>\n      <td>Lập Trình</td>\n    </tr>\n    <tr>\n      <th>...</th>\n      <td>...</td>\n      <td>...</td>\n      <td>...</td>\n      <td>...</td>\n      <td>...</td>\n      <td>...</td>\n      <td>...</td>\n      <td>...</td>\n      <td>...</td>\n    </tr>\n    <tr>\n      <th>10325</th>\n      <td>1056744</td>\n      <td>Bài Tập Hóa Học Theo Chủ Đề 8</td>\n      <td>Bài Tập Hóa Học Theo Chủ Đề 8\\r\\r\\n Theo kế ho...</td>\n      <td>62334</td>\n      <td>79000</td>\n      <td>4.5</td>\n      <td>https://salt.tikicdn.com/cache/280x280/media/c...</td>\n      <td>Sách Tham Khảo</td>\n      <td>Sách tham khảo cấp II</td>\n    </tr>\n    <tr>\n      <th>10326</th>\n      <td>58442493</td>\n      <td>Luyện Tập Tin Học 4 - Tập 2 (2020) - Cho Tỉnh</td>\n      <td>Bộ sách Luyện tập Tin học (dùng cho học sinh h...</td>\n      <td>22000</td>\n      <td>25000</td>\n      <td>5.0</td>\n      <td>https://salt.tikicdn.com/cache/280x280/ts/prod...</td>\n      <td>Sách Tham Khảo</td>\n      <td>Sách tham khảo cấp I</td>\n    </tr>\n    <tr>\n      <th>10327</th>\n      <td>49064610</td>\n      <td>Bí quyết chinh phục điểm cao môn Ngữ văn 11</td>\n      <td>Nội dung Ngữ văn lớp 11 có liên quan tới kì th...</td>\n      <td>113000</td>\n      <td>150000</td>\n      <td>5.0</td>\n      <td>https://salt.tikicdn.com/cache/280x280/ts/prod...</td>\n      <td>Sách Tham Khảo</td>\n      <td>Sách tham khảo cấp III</td>\n    </tr>\n    <tr>\n      <th>10328</th>\n      <td>2099833</td>\n      <td>Tuyển Tập Các Bài Toán Hay Và Khó Lớp 3</td>\n      <td>Tuyển Tập Các Bài Toán Hay Và Khó Lớp 3\\r\\nTro...</td>\n      <td>32917</td>\n      <td>33000</td>\n      <td>4.4</td>\n      <td>https://salt.tikicdn.com/cache/280x280/ts/prod...</td>\n      <td>Sách Tham Khảo</td>\n      <td>Sách tham khảo cấp I</td>\n    </tr>\n    <tr>\n      <th>10329</th>\n      <td>17536973</td>\n      <td>Bài Giảng &amp; Lời Giải Chi Tiết Tiếng Anh 10 (Tá...</td>\n      <td>Cuốn sách tổng hợp các kiến thức đã học cùng c...</td>\n      <td>71400</td>\n      <td>84000</td>\n      <td>5.0</td>\n      <td>https://salt.tikicdn.com/cache/280x280/ts/prod...</td>\n      <td>Sách Tham Khảo</td>\n      <td>Sách tham khảo cấp III</td>\n    </tr>\n  </tbody>\n</table>\n<p>10330 rows × 9 columns</p>\n</div>"
     },
     "metadata": {},
     "execution_count": 8
    }
   ],
   "source": [
    "shows = data[['id', 'name', 'short_description', 'price', 'list_price', 'rating_average', 'thumbnail_url', 'big_category', 'sub_category']]\n",
    "shows"
   ]
  },
  {
   "cell_type": "code",
   "execution_count": 9,
   "metadata": {},
   "outputs": [],
   "source": [
    "shows.to_csv('../Data/book_show.csv', index=False)"
   ]
  },
  {
   "cell_type": "code",
   "execution_count": 10,
   "metadata": {},
   "outputs": [
    {
     "output_type": "execute_result",
     "data": {
      "text/plain": [
       "         id book_cover  order_count  \\\n",
       "0  58390336    Bìa mềm            0   \n",
       "1   1664525    Bìa mềm            0   \n",
       "2  55573620    Bìa mềm            0   \n",
       "3  24889348        NaN            0   \n",
       "4  37667006    Bìa mềm            0   \n",
       "\n",
       "                                   publisher  \\\n",
       "0                NXB Đại Học Quốc Gia Hà Nội   \n",
       "1                        Huy Hoàng Bookstore   \n",
       "2  Công Ty TNHH Văn Hóa - Thế Giới Sách Việt   \n",
       "3                                          -   \n",
       "4                        Huy Hoàng Bookstore   \n",
       "\n",
       "                                             authors  stock_item  \\\n",
       "0                                        Bùi Việt Hà         5.0   \n",
       "1                                      Nhiều Tác Giả       801.0   \n",
       "2                                      Nhiều Tác Giả        12.0   \n",
       "3  Tiki hoàn tiền 111% nếu phát hiện hàng giả, Ca...         NaN   \n",
       "4                                      Nhiều Tác Giả        97.0   \n",
       "\n",
       "                                         description  \n",
       "0  <p><strong>SÁCH PYTHON CƠ BẢN</strong></p>\\r\\n...  \n",
       "1  <p><strong>Giáo trình kỹ thuật lập trình C căn...  \n",
       "2  <p><span style=\"text-decoration: underline;\"><...  \n",
       "3  <p><strong>I. Đôi điều về tác giả</strong></p>...  \n",
       "4  Giáo trình kỹ thuật lập trình C căn bản và nân...  "
      ],
      "text/html": "<div>\n<style scoped>\n    .dataframe tbody tr th:only-of-type {\n        vertical-align: middle;\n    }\n\n    .dataframe tbody tr th {\n        vertical-align: top;\n    }\n\n    .dataframe thead th {\n        text-align: right;\n    }\n</style>\n<table border=\"1\" class=\"dataframe\">\n  <thead>\n    <tr style=\"text-align: right;\">\n      <th></th>\n      <th>id</th>\n      <th>book_cover</th>\n      <th>order_count</th>\n      <th>publisher</th>\n      <th>authors</th>\n      <th>stock_item</th>\n      <th>description</th>\n    </tr>\n  </thead>\n  <tbody>\n    <tr>\n      <th>0</th>\n      <td>58390336</td>\n      <td>Bìa mềm</td>\n      <td>0</td>\n      <td>NXB Đại Học Quốc Gia Hà Nội</td>\n      <td>Bùi Việt Hà</td>\n      <td>5.0</td>\n      <td>&lt;p&gt;&lt;strong&gt;SÁCH PYTHON CƠ BẢN&lt;/strong&gt;&lt;/p&gt;\\r\\n...</td>\n    </tr>\n    <tr>\n      <th>1</th>\n      <td>1664525</td>\n      <td>Bìa mềm</td>\n      <td>0</td>\n      <td>Huy Hoàng Bookstore</td>\n      <td>Nhiều Tác Giả</td>\n      <td>801.0</td>\n      <td>&lt;p&gt;&lt;strong&gt;Giáo trình kỹ thuật lập trình C căn...</td>\n    </tr>\n    <tr>\n      <th>2</th>\n      <td>55573620</td>\n      <td>Bìa mềm</td>\n      <td>0</td>\n      <td>Công Ty TNHH Văn Hóa - Thế Giới Sách Việt</td>\n      <td>Nhiều Tác Giả</td>\n      <td>12.0</td>\n      <td>&lt;p&gt;&lt;span style=\"text-decoration: underline;\"&gt;&lt;...</td>\n    </tr>\n    <tr>\n      <th>3</th>\n      <td>24889348</td>\n      <td>NaN</td>\n      <td>0</td>\n      <td>-</td>\n      <td>Tiki hoàn tiền 111% nếu phát hiện hàng giả, Ca...</td>\n      <td>NaN</td>\n      <td>&lt;p&gt;&lt;strong&gt;I. Đôi điều về tác giả&lt;/strong&gt;&lt;/p&gt;...</td>\n    </tr>\n    <tr>\n      <th>4</th>\n      <td>37667006</td>\n      <td>Bìa mềm</td>\n      <td>0</td>\n      <td>Huy Hoàng Bookstore</td>\n      <td>Nhiều Tác Giả</td>\n      <td>97.0</td>\n      <td>Giáo trình kỹ thuật lập trình C căn bản và nân...</td>\n    </tr>\n  </tbody>\n</table>\n</div>"
     },
     "metadata": {},
     "execution_count": 10
    }
   ],
   "source": [
    "details = data[['id', 'book_cover', 'order_count', 'publisher', 'authors', 'stock_item', 'description']]\n",
    "details.head()"
   ]
  },
  {
   "cell_type": "code",
   "execution_count": 12,
   "metadata": {},
   "outputs": [],
   "source": [
    "details.to_csv('../Data/book_detail.csv', index=False)"
   ]
  },
  {
   "cell_type": "code",
   "execution_count": null,
   "metadata": {},
   "outputs": [],
   "source": []
  }
 ]
}